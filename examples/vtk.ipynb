{
 "cells": [
  {
   "cell_type": "code",
   "execution_count": null,
   "metadata": {},
   "outputs": [],
   "source": [
    "from k3d import K3D\n",
    "import urllib.request\n",
    "import os.path\n",
    "import vtk\n",
    "\n",
    "filename= 'cow.vtp'\n",
    "\n",
    "model_matrix = (\n",
    "     1.0,  0.0, 0.0, 0.0,\n",
    "     0.0,  0.0, 1.0, 0.0,\n",
    "     0.0,  1.0, 0.0, 0.0,\n",
    "     0.0,  0.0, 0.0, 1.0\n",
    ")\n",
    "\n",
    "if not os.path.isfile(filename):\n",
    "    response = urllib.request.urlopen(\"https://raw.githubusercontent.com/naucoin/VTKData/master/Data/cow.vtp\")\n",
    "    f = open(filename, 'w')\n",
    "    f.write(response.read().decode('utf8'))\n",
    "    f.close()\n",
    "    \n",
    "reader = vtk.vtkXMLPolyDataReader()\n",
    "reader.SetFileName(filename)\n",
    "reader.Update()\n",
    "\n",
    "plot = K3D()\n",
    "cow3d = K3D.vtkPolyData(reader.GetOutput(), model_matrix, color=0xff0000)\n",
    "plot += cow3d\n",
    "plot.display()"
   ]
  },
  {
   "cell_type": "code",
   "execution_count": null,
   "metadata": {
    "collapsed": true
   },
   "outputs": [],
   "source": [
    "plane=vtk.vtkPlane()\n",
    "plane.SetOrigin(0,0,0)\n",
    "plane.SetNormal(1,1,0)\n",
    " \n",
    "cutter=vtk.vtkCutter()\n",
    "cutter.SetCutFunction(plane)\n",
    "cutter.SetInputConnection(reader.GetOutputPort())\n",
    "cutter.Update()\n",
    "\n",
    "FeatureEdges = vtk.vtkFeatureEdges()\n",
    "FeatureEdges.SetInputConnection(cutter.GetOutputPort())\n",
    "FeatureEdges.BoundaryEdgesOn()\n",
    "FeatureEdges.FeatureEdgesOff()\n",
    "FeatureEdges.NonManifoldEdgesOff()\n",
    "FeatureEdges.ManifoldEdgesOff()\n",
    "FeatureEdges.Update()\n",
    "\n",
    "cutStrips = vtk.vtkStripper() ; #Forms loops (closed polylines) from cutter\n",
    "cutStrips.SetInputConnection(cutter.GetOutputPort())\n",
    "cutStrips.Update()\n",
    "\n",
    "cutPoly = vtk.vtkPolyData() ; #This trick defines polygons as polyline loop\n",
    "cutPoly.SetPoints((cutStrips.GetOutput()).GetPoints())\n",
    "cutPoly.SetPolys((cutStrips.GetOutput()).GetLines())"
   ]
  },
  {
   "cell_type": "code",
   "execution_count": null,
   "metadata": {
    "collapsed": true
   },
   "outputs": [],
   "source": [
    "model_matrix = (\n",
    "     1.0,  0.0, 0.0, 0.0,\n",
    "     0.0,  0.0, 1.0, -5.0,\n",
    "     0.0,  1.0, 0.0, 0.0,\n",
    "     0.0,  0.0, 0.0, 1.0\n",
    ")\n",
    "plot += K3D.vtkPolyData(cutPoly, model_matrix, color=0x0000ff)"
   ]
  },
  {
   "cell_type": "code",
   "execution_count": null,
   "metadata": {
    "collapsed": true
   },
   "outputs": [],
   "source": []
  }
 ],
 "metadata": {
  "kernelspec": {
   "display_name": "Python 3",
   "language": "python",
   "name": "python3"
  },
  "language_info": {
   "codemirror_mode": {
    "name": "ipython",
    "version": 3
   },
   "file_extension": ".py",
   "mimetype": "text/x-python",
   "name": "python",
   "nbconvert_exporter": "python",
   "pygments_lexer": "ipython3",
   "version": "3.6.0"
  }
 },
 "nbformat": 4,
 "nbformat_minor": 2
}
