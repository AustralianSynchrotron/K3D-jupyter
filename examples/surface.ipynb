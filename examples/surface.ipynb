{
 "cells": [
  {
   "cell_type": "code",
   "execution_count": null,
   "metadata": {},
   "outputs": [],
   "source": [
    "import k3d\n",
    "import numpy\n",
    "\n",
    "Nx = 30\n",
    "Ny = 60\n",
    "xmin, xmax = -3, 3\n",
    "ymin, ymax = -0, 3\n",
    "\n",
    "x = numpy.linspace(xmin, xmax, Nx)\n",
    "y = numpy.linspace(ymin, ymax, Ny)\n",
    "x, y = numpy.meshgrid(x, y)\n",
    "\n",
    "heights = numpy.sin(x**2 + y**2)\n",
    "\n",
    "plot = k3d.plot()\n",
    "plot += k3d.surface(heights, xmin=xmin, xmax=xmax, ymin=ymin, ymax=ymax)\n",
    "plot.display()"
   ]
  }
 ],
 "metadata": {
  "kernelspec": {
   "display_name": "Python 3",
   "language": "python",
   "name": "python3"
  },
  "language_info": {
   "codemirror_mode": {
    "name": "ipython",
    "version": 3
   },
   "file_extension": ".py",
   "mimetype": "text/x-python",
   "name": "python",
   "nbconvert_exporter": "python",
   "pygments_lexer": "ipython3",
   "version": "3.6.0"
  }
 },
 "nbformat": 4,
 "nbformat_minor": 1
}
