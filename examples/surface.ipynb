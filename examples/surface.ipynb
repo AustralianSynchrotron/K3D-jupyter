{
 "cells": [
  {
   "cell_type": "code",
   "execution_count": null,
   "metadata": {
    "collapsed": true
   },
   "outputs": [],
   "source": [
    "from k3d import K3D\n",
    "import numpy\n",
    "from math import sin, cos, pi\n",
    "\n",
    "view_matrix = (\n",
    "    10.0,  2.0, -20.0, 0.0,\n",
    "     0.0, 10.0,   0.0, 9.0,\n",
    "     0.0,  0.0,  10.0, 0.0,\n",
    "     0.0,  0.0,   0.0, 1.0\n",
    ")\n",
    "width = height = 100\n",
    "\n",
    "def f(x, y):\n",
    "    return round(0.25 * sin(float(x)/width * 2*pi) + 0.25 * cos(float(y)/height * 2*pi), 3)\n",
    "\n",
    "scalars_field = [[f(x, y) for y in range(height)] for x in range(width)]\n",
    "\n",
    "plot = K3D()\n",
    "plot += K3D.surface(scalars_field, xmin=-2, xmax=2, zmin=-2, zmax=2, view_matrix=view_matrix, color=0xFF0000)\n",
    "plot.display()"
   ]
  }
 ],
 "metadata": {
  "kernelspec": {
   "display_name": "Python 2",
   "language": "python",
   "name": "python2"
  },
  "language_info": {
   "codemirror_mode": {
    "name": "ipython",
    "version": 2
   },
   "file_extension": ".py",
   "mimetype": "text/x-python",
   "name": "python",
   "nbconvert_exporter": "python",
   "pygments_lexer": "ipython2",
   "version": "2.7.6"
  }
 },
 "nbformat": 4,
 "nbformat_minor": 0
}
