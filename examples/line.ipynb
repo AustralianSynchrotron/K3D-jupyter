{
 "cells": [
  {
   "cell_type": "code",
   "execution_count": null,
   "metadata": {
    "collapsed": true
   },
   "outputs": [],
   "source": [
    "from k3d import K3D\n",
    "\n",
    "view_matrix = (\n",
    "    0.9,  0.1, -0.4, 0.0,\n",
    "    0.0,  0.9,  0.4, 0.0,\n",
    "    0.4, -0.4,  0.9, 0.0,\n",
    "    0.0,  0.0,  0.0, 1.0\n",
    ")\n",
    "\n",
    "positions = (\n",
    "    -10.0, -15.0, 0.0,\n",
    "    -10.0,   5.0, 0.0,\n",
    "     10.0,   5.0, 0.0,\n",
    "    -10.0, -15.0, 0.0,\n",
    "     10.0, -15.0, 0.0,\n",
    "    -10.0,   5.0, 0.0,\n",
    "      0.0,  15.0, 0.0,\n",
    "     10.0,   5.0, 0.0,\n",
    "     10.0, -15.0, 0.0\n",
    ")\n",
    "\n",
    "lines = K3D.line(positions, view_matrix=view_matrix, color=0xff0000, width=2.5) + K3D.line((0, 0, 0, 5, 10, 15))\n",
    "\n",
    "plot = K3D(antialias=True)\n",
    "plot += lines\n",
    "plot.display()"
   ]
  }
 ],
 "metadata": {
  "kernelspec": {
   "display_name": "Python 2",
   "language": "python",
   "name": "python2"
  },
  "language_info": {
   "codemirror_mode": {
    "name": "ipython",
    "version": 2
   },
   "file_extension": ".py",
   "mimetype": "text/x-python",
   "name": "python",
   "nbconvert_exporter": "python",
   "pygments_lexer": "ipython2",
   "version": "2.7.6"
  }
 },
 "nbformat": 4,
 "nbformat_minor": 0
}
