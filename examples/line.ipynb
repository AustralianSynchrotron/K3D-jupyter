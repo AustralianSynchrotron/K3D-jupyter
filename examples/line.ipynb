{
 "cells": [
  {
   "cell_type": "code",
   "execution_count": null,
   "metadata": {
    "collapsed": true
   },
   "outputs": [],
   "source": [
    "import k3d\n",
    "from ipywidgets import interact, FloatSlider\n",
    "\n",
    "model_matrix = [\n",
    "    0.9,  0.1, -0.4, 0.0,\n",
    "    0.0,  0.9,  0.4, 0.0,\n",
    "    0.4, -0.4,  0.9, 0.0,\n",
    "    0.0,  0.0,  0.0, 1.0\n",
    "]\n",
    "\n",
    "positions = [\n",
    "    -10.0, -15.0, 0.0,\n",
    "    -10.0,   5.0, 0.0,\n",
    "     10.0,   5.0, 0.0,\n",
    "    -10.0, -15.0, 0.0,\n",
    "     10.0, -15.0, 0.0,\n",
    "    -10.0,   5.0, 0.0,\n",
    "      0.0,  15.0, 0.0,\n",
    "     10.0,   5.0, 0.0,\n",
    "     10.0, -15.0, 0.0\n",
    "]\n",
    "\n",
    "line = k3d.line((0, 0, 0, 5, 10, 15))\n",
    "lines = k3d.line(positions, model_matrix=model_matrix, color=0xff0000, width=2.5) + line\n",
    "\n",
    "plot = k3d.plot(antialias=True, camera_auto_fit=True)\n",
    "plot += lines\n",
    "plot.display()\n",
    "\n",
    "# plot.camera_auto_fit = False  # uncomment in order to keep camera at fixed distance on changes\n",
    "@interact(width=FloatSlider(value=line.line_width, min=0.1, max=4.0, step=0.1))\n",
    "def update(width):\n",
    "    line.line_width = width"
   ]
  },
  {
   "cell_type": "code",
   "execution_count": null,
   "metadata": {
    "collapsed": true
   },
   "outputs": [],
   "source": [
    "line.color = 0xFFFF00"
   ]
  },
  {
   "cell_type": "code",
   "execution_count": null,
   "metadata": {
    "collapsed": true
   },
   "outputs": [],
   "source": [
    "plot.objects"
   ]
  },
  {
   "cell_type": "code",
   "execution_count": null,
   "metadata": {
    "collapsed": true
   },
   "outputs": [],
   "source": [
    "plot -= line"
   ]
  },
  {
   "cell_type": "code",
   "execution_count": null,
   "metadata": {
    "collapsed": true
   },
   "outputs": [],
   "source": [
    "plot.objects"
   ]
  },
  {
   "cell_type": "code",
   "execution_count": null,
   "metadata": {
    "collapsed": true
   },
   "outputs": [],
   "source": [
    "plot -= lines"
   ]
  },
  {
   "cell_type": "code",
   "execution_count": null,
   "metadata": {
    "collapsed": true
   },
   "outputs": [],
   "source": []
  }
 ],
 "metadata": {
  "kernelspec": {
   "display_name": "Python 3",
   "language": "python",
   "name": "python3"
  },
  "language_info": {
   "codemirror_mode": {
    "name": "ipython",
    "version": 3
   },
   "file_extension": ".py",
   "mimetype": "text/x-python",
   "name": "python",
   "nbconvert_exporter": "python",
   "pygments_lexer": "ipython3",
   "version": "3.6.0"
  }
 },
 "nbformat": 4,
 "nbformat_minor": 1
}
