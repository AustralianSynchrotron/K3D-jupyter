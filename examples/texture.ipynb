{
 "cells": [
  {
   "cell_type": "code",
   "execution_count": null,
   "metadata": {},
   "outputs": [],
   "source": [
    "import k3d\n",
    "\n",
    "# Y-Z flip\n",
    "model_matrix = [\n",
    "    1.0, 0.0, 0.0, 0.0,\n",
    "    0.0, 0.0, 1.0, 0.0,\n",
    "    0.0, 1.0, 0.0, 0.0,\n",
    "    0.0, 0.0, 0.0, 1.0\n",
    "]\n",
    "\n",
    "texture = k3d.texture(open('assets/texture.png', 'br').read(), 'png', model_matrix=model_matrix)\n",
    "\n",
    "plot = k3d.plot()\n",
    "plot += texture\n",
    "plot.display()"
   ]
  },
  {
   "cell_type": "code",
   "execution_count": null,
   "metadata": {},
   "outputs": [],
   "source": [
    "texture.binary = open('assets/mandelbrot.jpg', 'br').read()"
   ]
  },
  {
   "cell_type": "code",
   "execution_count": null,
   "metadata": {},
   "outputs": [],
   "source": [
    "from k3d.helpers import download\n",
    "filename = download('https://github.com/FNNDSC/data/raw/master/nifti/adi_brain/adi_brain.nii.gz')"
   ]
  },
  {
   "cell_type": "code",
   "execution_count": null,
   "metadata": {},
   "outputs": [],
   "source": [
    "import nibabel as nib\n",
    "img = nib.load(filename).get_fdata()"
   ]
  },
  {
   "cell_type": "code",
   "execution_count": null,
   "metadata": {},
   "outputs": [],
   "source": [
    "from ipywidgets import widgets,interact\n",
    "import numpy as np\n",
    "\n",
    "plot = k3d.plot()\n",
    "texture = k3d.texture(attribute=img[:,:,28], \n",
    "                      color_map=k3d.basic_color_maps.CoolWarm, \n",
    "                      color_range=[0.0, 320.0], \n",
    "                      model_matrix=model_matrix)\n",
    "plot += texture\n",
    "\n",
    "basic_color_maps = [attr for attr in dir(k3d.basic_color_maps) if not attr.startswith('__')]\n",
    "paraview_color_maps = [attr for attr in dir(k3d.paraview_color_maps) if not attr.startswith('__')]\n",
    "matplotlib_color_maps = [attr for attr in dir(k3d.matplotlib_color_maps) if not attr.startswith('__')]\n",
    "\n",
    "@interact(x=widgets.IntRangeSlider(value=[0, 320], min=0, max=np.max(img), step=1, description='Color range:'))\n",
    "def g(x):\n",
    "    texture.color_range = x\n",
    "    \n",
    "@interact(x=widgets.IntSlider(value=28,min=0,max=img.shape[2]-1,step=1, description='Slice:'))\n",
    "def g(x):\n",
    "    texture.attribute =img[:,:,x]\n",
    "    \n",
    "@interact(x=widgets.Dropdown(options=basic_color_maps, value=basic_color_maps[0], description='Basic ColorMap:'))\n",
    "def g(x):\n",
    "    texture.color_map = getattr(k3d.basic_color_maps, x)\n",
    "\n",
    "@interact(x=widgets.Dropdown(options=paraview_color_maps, value=paraview_color_maps[0], description='ParaView ColorMap:'))\n",
    "def g(x):\n",
    "    texture.color_map = getattr(k3d.paraview_color_maps, x)\n",
    "    \n",
    "@interact(x=widgets.Dropdown(options=matplotlib_color_maps, value=matplotlib_color_maps[0], description='MatplolLib ColorMap:'))\n",
    "def g(x):\n",
    "    texture.color_map = getattr(k3d.matplotlib_color_maps, x)\n",
    "\n",
    "plot.display()"
   ]
  },
  {
   "cell_type": "code",
   "execution_count": null,
   "metadata": {},
   "outputs": [],
   "source": [
    "plot.grid_auto_fit = False\n",
    "plot.camera_auto_fit = False"
   ]
  },
  {
   "cell_type": "code",
   "execution_count": null,
   "metadata": {},
   "outputs": [],
   "source": []
  }
 ],
 "metadata": {
  "kernelspec": {
   "display_name": "Python 3",
   "language": "python",
   "name": "python3"
  },
  "language_info": {
   "codemirror_mode": {
    "name": "ipython",
    "version": 3
   },
   "file_extension": ".py",
   "mimetype": "text/x-python",
   "name": "python",
   "nbconvert_exporter": "python",
   "pygments_lexer": "ipython3",
   "version": "3.6.5"
  }
 },
 "nbformat": 4,
 "nbformat_minor": 1
}
