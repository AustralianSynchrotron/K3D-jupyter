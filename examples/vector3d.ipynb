{
 "cells": [
  {
   "cell_type": "code",
   "execution_count": null,
   "metadata": {},
   "outputs": [],
   "source": [
    "from k3d import K3D\n",
    "from math import sin, cos, pi\n",
    "\n",
    "width = height = length = 20\n",
    "model_matrix = (\n",
    "    7.0,  5.0, -5.0, 0.0,\n",
    "    0.0,  7.0,  7.0, 5.0,\n",
    "    7.0, -5.0,  5.0, 0.0,\n",
    "    0.0,  0.0,  0.0, 1.0\n",
    ")\n",
    "\n",
    "def f(x, y, z):\n",
    "    return sin(float(x) / width * pi * 2.0), cos(float(y) / height * pi * 2.0), sin(float(z) / length * pi * 2.0)\n",
    "\n",
    "colors = (0xFF0000, 0x00FF00) * width * height * length\n",
    "vectors = [[[f(x, y, z) for x in range(width)] for y in range(height)] for z in range(length)]\n",
    "\n",
    "plot = K3D()\n",
    "plot += K3D.vector_fields(vectors, colors, model_matrix=model_matrix, use_head=False)\n",
    "plot.display()"
   ]
  },
  {
   "cell_type": "code",
   "execution_count": null,
   "metadata": {
    "collapsed": true
   },
   "outputs": [],
   "source": [
    ""
   ]
  }
 ],
 "metadata": {
  "kernelspec": {
   "display_name": "Python 3",
   "language": "python",
   "name": "python3"
  },
  "language_info": {
   "codemirror_mode": {
    "name": "ipython",
    "version": 3.0
   },
   "file_extension": ".py",
   "mimetype": "text/x-python",
   "name": "python",
   "nbconvert_exporter": "python",
   "pygments_lexer": "ipython3",
   "version": "3.6.0"
  }
 },
 "nbformat": 4,
 "nbformat_minor": 0
}