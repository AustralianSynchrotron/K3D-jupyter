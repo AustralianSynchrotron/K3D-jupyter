{
 "cells": [
  {
   "cell_type": "code",
   "execution_count": null,
   "metadata": {
    "collapsed": true
   },
   "outputs": [],
   "source": [
    "from k3d import K3D\n",
    "from numpy import mgrid\n",
    "\n",
    "resolution = 30\n",
    "X, Y, Z = mgrid[:resolution, :resolution, :resolution]\n",
    "scalars_field = ((X-15.0)/15.0)**2 + ((Y-15.0)/15.0)**2 + ((Z-15.0)/15.0)**2\n",
    "\n",
    "view_matrix = (\n",
    "    1.0, 0.0, 0.0, 0.2,\n",
    "    0.0, 1.0, 0.0, 0.0,\n",
    "    0.0, 0.0, 1.0, 27.5,\n",
    "    0.0, 0.0, 0.0, 1.0\n",
    ")\n",
    "\n",
    "plot = K3D()\n",
    "plot += K3D.marching_cubes(view_matrix, scalars_field, resolution, isolation=0.8)\n",
    "plot.display()"
   ]
  }
 ],
 "metadata": {
  "kernelspec": {
   "display_name": "Python 2",
   "language": "python",
   "name": "python2"
  },
  "language_info": {
   "codemirror_mode": {
    "name": "ipython",
    "version": 2
   },
   "file_extension": ".py",
   "mimetype": "text/x-python",
   "name": "python",
   "nbconvert_exporter": "python",
   "pygments_lexer": "ipython2",
   "version": "2.7.6"
  }
 },
 "nbformat": 4,
 "nbformat_minor": 0
}
