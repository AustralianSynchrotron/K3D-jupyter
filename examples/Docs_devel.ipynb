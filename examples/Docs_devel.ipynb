{
 "cells": [
  {
   "cell_type": "markdown",
   "metadata": {},
   "source": [
    "# List\n",
    "\n",
    "https://hackmd.io/m82xZNUSSHajlFXohcgiYw\n",
    "\n"
   ]
  },
  {
   "cell_type": "code",
   "execution_count": 2,
   "metadata": {},
   "outputs": [],
   "source": [
    "import glob2"
   ]
  },
  {
   "cell_type": "code",
   "execution_count": 6,
   "metadata": {},
   "outputs": [
    {
     "data": {
      "text/plain": [
       "['../docs/source/basic_functionality/Camera.ipynb',\n",
       " '../docs/source/basic_functionality/Group.ipynb',\n",
       " '../docs/source/basic_functionality/Implicit_plot.ipynb',\n",
       " '../docs/source/basic_functionality/Interaction_and_timeseries.ipynb',\n",
       " '../docs/source/basic_functionality/Line.ipynb',\n",
       " '../docs/source/basic_functionality/Mesh.ipynb',\n",
       " '../docs/source/basic_functionality/Mesh_callback.ipynb',\n",
       " '../docs/source/basic_functionality/Platonic_solids.ipynb',\n",
       " '../docs/source/basic_functionality/Points.ipynb',\n",
       " '../docs/source/basic_functionality/Surface.ipynb',\n",
       " '../docs/source/basic_functionality/Text.ipynb',\n",
       " '../docs/source/showcase/VTK_cutter.ipynb',\n",
       " '../docs/source/showcase/VTK_polydata.ipynb',\n",
       " '../docs/source/showcase/gray_scott.ipynb',\n",
       " '../docs/source/showcase/lines3d.ipynb',\n",
       " '../docs/source/showcase/lorenz_attractor.ipynb',\n",
       " '../docs/source/showcase/nbody.ipynb',\n",
       " '../docs/source/showcase/platonic.ipynb',\n",
       " '../docs/source/showcase/points_cloud.ipynb',\n",
       " '../docs/source/showcase/segmentation_preview.ipynb',\n",
       " '../docs/source/showcase/sierpinski3d.ipynb',\n",
       " '../docs/source/showcase/streamlines.ipynb',\n",
       " '../docs/source/showcase/volume.ipynb']"
      ]
     },
     "execution_count": 6,
     "metadata": {},
     "output_type": "execute_result"
    }
   ],
   "source": [
    "sorted(glob2.glob(\"../docs/source/*/*.ipynb\"))"
   ]
  },
  {
   "cell_type": "code",
   "execution_count": 3,
   "metadata": {},
   "outputs": [
    {
     "data": {
      "text/plain": [
       "['01_getting_started.ipynb',\n",
       " '02_adding_objects_to_plot.ipynb',\n",
       " '03_plotting_a_single_object.ipynb',\n",
       " '04_gui_basics.ipynb',\n",
       " '05_plot_options.ipynb',\n",
       " 'Menger_sponge_clipping_planes.ipynb',\n",
       " 'Sine_Gordon.ipynb',\n",
       " 'Untitled.ipynb',\n",
       " 'auto_rendering.ipynb',\n",
       " 'axesHelper.ipynb',\n",
       " 'camera_vectors.ipynb',\n",
       " 'happy_new_year_2020.ipynb',\n",
       " 'hydrogen_orbitals.ipynb',\n",
       " 'ifs-per-point-opacity.ipynb',\n",
       " 'iris_dataset.ipynb',\n",
       " 'labels.ipynb',\n",
       " 'line.ipynb',\n",
       " 'line_and_sparse_voxels.ipynb',\n",
       " 'lines_colors.ipynb',\n",
       " 'marching_cubes.ipynb',\n",
       " 'mesh.ipynb',\n",
       " 'mesh_callback.ipynb',\n",
       " 'mesh_volume_texture.ipynb',\n",
       " 'model_matrix_timeseries.ipynb',\n",
       " 'platonic.ipynb',\n",
       " 'point_cloud_scaner.ipynb',\n",
       " 'points.ipynb',\n",
       " 'screenshot.ipynb',\n",
       " 'screenshot_generator.ipynb',\n",
       " 'sierpinski3d.ipynb',\n",
       " 'stl.ipynb',\n",
       " 'surface.ipynb',\n",
       " 'tetris.ipynb',\n",
       " 'text.ipynb',\n",
       " 'text2d.ipynb',\n",
       " 'texture.ipynb',\n",
       " 'texture_text.ipynb',\n",
       " 'textured_mesh.ipynb',\n",
       " 'time_series.ipynb',\n",
       " 'time_series_lines_nbody.ipynb',\n",
       " 'transfer_function.ipynb',\n",
       " 'vector.ipynb',\n",
       " 'vector_animation_k3d.ipynb',\n",
       " 'vector_field_2d.ipynb',\n",
       " 'vector_field_3d.ipynb',\n",
       " 'volume_renderer.ipynb',\n",
       " 'voxel_callback.ipynb',\n",
       " 'voxel_edit.ipynb',\n",
       " 'voxels.ipynb',\n",
       " 'voxels_group.ipynb',\n",
       " 'vr_marchingcubes.ipynb',\n",
       " 'vtk.ipynb',\n",
       " 'vtk2.ipynb']"
      ]
     },
     "execution_count": 3,
     "metadata": {},
     "output_type": "execute_result"
    }
   ],
   "source": [
    "sorted(glob2.glob(\"*ipynb\"))"
   ]
  },
  {
   "cell_type": "code",
   "execution_count": null,
   "metadata": {},
   "outputs": [],
   "source": []
  }
 ],
 "metadata": {
  "kernelspec": {
   "display_name": "Python 3",
   "language": "python",
   "name": "python3"
  },
  "language_info": {
   "codemirror_mode": {
    "name": "ipython",
    "version": 3
   },
   "file_extension": ".py",
   "mimetype": "text/x-python",
   "name": "python",
   "nbconvert_exporter": "python",
   "pygments_lexer": "ipython3",
   "version": "3.7.8"
  },
  "widgets": {
   "application/vnd.jupyter.widget-state+json": {
    "state": {},
    "version_major": 2,
    "version_minor": 0
   }
  }
 },
 "nbformat": 4,
 "nbformat_minor": 4
}
