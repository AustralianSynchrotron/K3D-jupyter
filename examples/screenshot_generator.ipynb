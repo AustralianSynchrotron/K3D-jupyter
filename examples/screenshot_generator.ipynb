{
 "cells": [
  {
   "cell_type": "code",
   "execution_count": null,
   "metadata": {},
   "outputs": [],
   "source": [
    "import k3d\n",
    "import numpy as np\n",
    "\n",
    "points_number = 15\n",
    "spread_range = 30\n",
    "positions = spread_range * np.random.random_sample((points_number, 3)) - spread_range / 2\n",
    "colors = np.random.randint(0, 0xFFFFFF, points_number)\n",
    "\n",
    "plot = k3d.plot(height=240)\n",
    "points = k3d.points(positions.astype(np.float32), colors.astype(np.uint32), point_size=3.0, shader='mesh')\n",
    "plot += points\n",
    "plot.display()"
   ]
  },
  {
   "cell_type": "code",
   "execution_count": null,
   "metadata": {},
   "outputs": [],
   "source": [
    "import ipywidgets\n",
    "from IPython import display\n",
    "\n",
    "# recommended for animations\n",
    "plot.camera_auto_fit = False\n",
    "plot.grid_auto_fit = False\n",
    "\n",
    "speeds = -0.5 * np.sign(positions)\n",
    "out = ipywidgets.Output()\n",
    "\n",
    "@plot.yield_screenshots\n",
    "def coroutine():\n",
    "    global positions\n",
    "    for i in range(20):\n",
    "        positions += speeds\n",
    "        points.positions = positions.astype(np.float32)\n",
    "        plot.fetch_screenshot()\n",
    "        screenshot = yield\n",
    "        with open('screenshot_{}.png'.format(i), 'wb') as f:\n",
    "            f.write(screenshot)\n",
    "        with out:\n",
    "            print('screenshot_{}.png saved.'.format(i))\n",
    "    with out:\n",
    "        print('done.')\n",
    "\n",
    "coroutine()\n",
    "print('loop is running in background...')\n",
    "out"
   ]
  },
  {
   "cell_type": "code",
   "execution_count": null,
   "metadata": {},
   "outputs": [],
   "source": [
    "from IPython import display\n",
    "\n",
    "display.Image('screenshot_0.png')"
   ]
  },
  {
   "cell_type": "code",
   "execution_count": null,
   "metadata": {},
   "outputs": [],
   "source": []
  }
 ],
 "metadata": {
  "kernelspec": {
   "display_name": "Python 3",
   "language": "python",
   "name": "python3"
  },
  "language_info": {
   "codemirror_mode": {
    "name": "ipython",
    "version": 3
   },
   "file_extension": ".py",
   "mimetype": "text/x-python",
   "name": "python",
   "nbconvert_exporter": "python",
   "pygments_lexer": "ipython3",
   "version": "3.6.8"
  }
 },
 "nbformat": 4,
 "nbformat_minor": 2
}
