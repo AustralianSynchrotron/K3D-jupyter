{
 "cells": [
  {
   "cell_type": "code",
   "execution_count": null,
   "metadata": {},
   "outputs": [],
   "source": [
    "import k3d\n",
    "from ipywidgets import interact, IntSlider\n",
    "\n",
    "width = height = length = 3\n",
    "\n",
    "color_map = (0xFF0000, 0x00FF00, 0x0000FF)\n",
    "voxels = (1,) * width * height * length\n",
    "obj = k3d.voxels(voxels, color_map, width=width, height=height, length=length)\n",
    "\n",
    "plot = k3d.plot(voxel_paint_color=2)\n",
    "plot += obj\n",
    "\n",
    "@interact(color=IntSlider(value=plot.voxel_paint_color, min=0, max=len(color_map)))\n",
    "def color(color):\n",
    "    plot.voxel_paint_color = color\n",
    "\n",
    "plot.display()"
   ]
  },
  {
   "cell_type": "code",
   "execution_count": null,
   "metadata": {},
   "outputs": [],
   "source": [
    "obj.voxels.flatten()  # initial data"
   ]
  },
  {
   "cell_type": "markdown",
   "metadata": {},
   "source": [
    "Edit object (add/remove some voxels)"
   ]
  },
  {
   "cell_type": "code",
   "execution_count": null,
   "metadata": {
    "collapsed": true
   },
   "outputs": [],
   "source": [
    "obj.fetch_data()  # this is an async operation"
   ]
  },
  {
   "cell_type": "code",
   "execution_count": null,
   "metadata": {},
   "outputs": [],
   "source": [
    "obj.voxels.flatten()  # updated data"
   ]
  },
  {
   "cell_type": "code",
   "execution_count": null,
   "metadata": {
    "collapsed": true
   },
   "outputs": [],
   "source": []
  }
 ],
 "metadata": {
  "kernelspec": {
   "display_name": "Python 3",
   "language": "python",
   "name": "python3"
  },
  "language_info": {
   "codemirror_mode": {
    "name": "ipython",
    "version": 3
   },
   "file_extension": ".py",
   "mimetype": "text/x-python",
   "name": "python",
   "nbconvert_exporter": "python",
   "pygments_lexer": "ipython3",
   "version": "3.6.0"
  }
 },
 "nbformat": 4,
 "nbformat_minor": 1
}
