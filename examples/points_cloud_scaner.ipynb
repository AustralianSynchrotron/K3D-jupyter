{
 "cells": [
  {
   "cell_type": "code",
   "execution_count": null,
   "metadata": {},
   "outputs": [],
   "source": [
    "import urllib.request\n",
    "import json\n",
    "from k3d import K3D\n",
    "import numpy\n",
    "\n",
    "plot = K3D()\n",
    "plot.display()"
   ]
  },
  {
   "cell_type": "code",
   "execution_count": null,
   "metadata": {},
   "outputs": [],
   "source": [
    "chunk_count = 20\n",
    "chunk_count = max(min(chunk_count, 90),0)\n",
    "\n",
    "for i in range(chunk_count):\n",
    "    print(\"retrieving chunk: \", i)\n",
    "    with urllib.request.urlopen(\"http://archive.cyark.org/3d/models/tikal9m-\" + str(i) + \".js\") as response:\n",
    "        chunk = json.loads(response.read())\n",
    "        positions = []\n",
    "        colors = []\n",
    "\n",
    "        for point in chunk:\n",
    "            positions.append(point[0:3])\n",
    "            colors.append(int(point[4], 16))\n",
    "            \n",
    "        plot += K3D.points(positions, colors, point_size=1.0, shader=\"3d\")\n",
    "        print(\"Points count:\", len(colors))\n",
    "        plot.camera_auto_fit = False\n",
    "        "
   ]
  },
  {
   "cell_type": "code",
   "execution_count": null,
   "metadata": {
    "collapsed": true
   },
   "outputs": [],
   "source": []
  },
  {
   "cell_type": "code",
   "execution_count": null,
   "metadata": {
    "collapsed": true
   },
   "outputs": [],
   "source": []
  },
  {
   "cell_type": "code",
   "execution_count": null,
   "metadata": {
    "collapsed": true
   },
   "outputs": [],
   "source": []
  }
 ],
 "metadata": {
  "kernelspec": {
   "display_name": "Python 3",
   "language": "python",
   "name": "python3"
  },
  "language_info": {
   "codemirror_mode": {
    "name": "ipython",
    "version": 3
   },
   "file_extension": ".py",
   "mimetype": "text/x-python",
   "name": "python",
   "nbconvert_exporter": "python",
   "pygments_lexer": "ipython3",
   "version": "3.6.0"
  }
 },
 "nbformat": 4,
 "nbformat_minor": 1
}
