{
 "cells": [
  {
   "cell_type": "code",
   "execution_count": null,
   "metadata": {},
   "outputs": [],
   "source": [
    "from k3d import K3D\n",
    "\n",
    "model_matrix = (\n",
    "     3.5, -2.5, 2.5, 0.0,\n",
    "     0.0,  3.5, 3.5, 0.0,\n",
    "    -3.5, -2.5, 2.5, 0.0,\n",
    "     0.0,  0.0, 0.0, 1.0\n",
    ")\n",
    "stl = \"\"\"\n",
    "solid\n",
    "    facet normal 0 0 0\n",
    "        outer loop\n",
    "            vertex -1.000000 1.000000 -1.000000\n",
    "            vertex -1.000000 -1.000000 -1.000000\n",
    "            vertex -1.000000 -1.000000 1.000000\n",
    "        endloop\n",
    "    endfacet\n",
    "    facet normal 0 0 0\n",
    "        outer loop\n",
    "            vertex -1.000000 -1.000000 1.000000\n",
    "            vertex -1.000000 1.000000 1.000000\n",
    "            vertex -1.000000 1.000000 -1.000000\n",
    "        endloop\n",
    "    endfacet\n",
    "    facet normal 0 0 0\n",
    "        outer loop\n",
    "            vertex 1.000000 -1.000000 1.000000\n",
    "            vertex 1.000000 1.000000 1.000000\n",
    "            vertex -1.000000 1.000000 1.000000\n",
    "        endloop\n",
    "    endfacet\n",
    "    facet normal 0 0 0\n",
    "        outer loop\n",
    "            vertex -1.000000 1.000000 1.000000\n",
    "            vertex -1.000000 -1.000000 1.000000\n",
    "            vertex 1.000000 -1.000000 1.000000\n",
    "        endloop\n",
    "    endfacet\n",
    "endsolid\n",
    "\"\"\"\n",
    "\n",
    "plot = K3D(background_color=0x000000)\n",
    "plot += K3D.stl(stl, model_matrix, color=0xFF0000)\n",
    "plot.display()"
   ]
  },
  {
   "cell_type": "code",
   "execution_count": null,
   "metadata": {
    "collapsed": true
   },
   "outputs": [],
   "source": [
    "model_matrix = [\n",
    "    7.0, -5.0,  5.0, -15.0,\n",
    "    0.0, -7.0, -7.0,   0.0,\n",
    "    7.0,  5.0, -5.0,   0.0,\n",
    "    0.0,  0.0,  0.0,   1.0\n",
    "]\n",
    "\n",
    "plot += K3D.stl_load('assets/stl.stl', model_matrix)"
   ]
  },
  {
   "cell_type": "code",
   "execution_count": null,
   "metadata": {
    "collapsed": true
   },
   "outputs": [],
   "source": [
    ""
   ]
  }
 ],
 "metadata": {
  "kernelspec": {
   "display_name": "Python 3",
   "language": "python",
   "name": "python3"
  },
  "language_info": {
   "codemirror_mode": {
    "name": "ipython",
    "version": 3.0
   },
   "file_extension": ".py",
   "mimetype": "text/x-python",
   "name": "python",
   "nbconvert_exporter": "python",
   "pygments_lexer": "ipython3",
   "version": "3.6.0"
  }
 },
 "nbformat": 4,
 "nbformat_minor": 0
}