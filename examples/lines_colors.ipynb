{
 "cells": [
  {
   "cell_type": "code",
   "execution_count": null,
   "metadata": {},
   "outputs": [],
   "source": [
    "import k3d\n",
    "\n",
    "vertices = [\n",
    "    -10.0, -15.0, 0.0,\n",
    "    -10.0,   5.0, 0.0,\n",
    "     10.0,   5.0, 0.0,\n",
    "    -10.0, -15.0, 0.0,\n",
    "     10.0, -15.0, 0.0,\n",
    "    -10.0,   5.0, 0.0,\n",
    "      0.0,  15.0, 0.0,\n",
    "     10.0,   5.0, 0.0,\n",
    "     10.0, -15.0, 0.0\n",
    "]\n",
    "\n",
    "colors = [\n",
    "    0xff,\n",
    "    0xffff,\n",
    "    0xff00ff,\n",
    "    0x00ffff,\n",
    "    0xffff00,\n",
    "    0xff00,\n",
    "    0xff0000,\n",
    "    0xff00ff,\n",
    "    0xffffff\n",
    "]\n",
    "\n",
    "plot = k3d.plot(antialias=True)\n",
    "plot += k3d.line(vertices, colors=colors)\n",
    "plot.display()"
   ]
  },
  {
   "cell_type": "code",
   "execution_count": null,
   "metadata": {},
   "outputs": [],
   "source": []
  }
 ],
 "metadata": {
  "kernelspec": {
   "display_name": "Python 3",
   "language": "python",
   "name": "python3"
  },
  "language_info": {
   "codemirror_mode": {
    "name": "ipython",
    "version": 3
   },
   "file_extension": ".py",
   "mimetype": "text/x-python",
   "name": "python",
   "nbconvert_exporter": "python",
   "pygments_lexer": "ipython3",
   "version": "3.6.5"
  }
 },
 "nbformat": 4,
 "nbformat_minor": 2
}
