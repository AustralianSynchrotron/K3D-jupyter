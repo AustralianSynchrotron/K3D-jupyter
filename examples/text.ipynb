{
 "cells": [
  {
   "cell_type": "code",
   "execution_count": null,
   "metadata": {},
   "outputs": [],
   "source": [
    "from k3d import K3D\n",
    "\n",
    "position1 = (0.5, 1.0, 0.0)\n",
    "position2 = (-0.5, -1.0, 0.0)\n",
    "\n",
    "plot = K3D()\n",
    "plot += K3D.text('K3D Jupyter', position1, color=0xff0000, font_face='Arial', font_weight='bold', size=2.0)\n",
    "plot += K3D.text('K3D Jupyter', position2, color=0xff0000, font_face='Arial', font_weight='bold', size=1.0)\n",
    "plot.display()"
   ]
  },
  {
   "cell_type": "code",
   "execution_count": null,
   "metadata": {
    "collapsed": true
   },
   "outputs": [],
   "source": []
  }
 ],
 "metadata": {
  "kernelspec": {
   "display_name": "Python 3",
   "language": "python",
   "name": "python3"
  },
  "language_info": {
   "codemirror_mode": {
    "name": "ipython",
    "version": 3
   },
   "file_extension": ".py",
   "mimetype": "text/x-python",
   "name": "python",
   "nbconvert_exporter": "python",
   "pygments_lexer": "ipython3",
   "version": "3.6.0"
  }
 },
 "nbformat": 4,
 "nbformat_minor": 1
}
