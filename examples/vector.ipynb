{
 "cells": [
  {
   "cell_type": "code",
   "execution_count": null,
   "metadata": {
    "collapsed": true
   },
   "outputs": [],
   "source": [
    "from k3d import K3D\n",
    "\n",
    "origins = (1.0, 1.0, 0.5, 0.0, 0.0, 0.0)\n",
    "vectors = (1.0, 0.0, 0.0, 1.0, 1.0, 0.0)\n",
    "colors = (0xff0000, 0x0000ff, 0x0000ff, 0xff0000)\n",
    "\n",
    "plot = K3D()\n",
    "plot += K3D.vectors(origins, vectors, colors=colors, labels=('Hello', 'World'))\n",
    "plot.display()"
   ]
  }
 ],
 "metadata": {
  "kernelspec": {
   "display_name": "Python 2",
   "language": "python",
   "name": "python2"
  },
  "language_info": {
   "codemirror_mode": {
    "name": "ipython",
    "version": 2
   },
   "file_extension": ".py",
   "mimetype": "text/x-python",
   "name": "python",
   "nbconvert_exporter": "python",
   "pygments_lexer": "ipython2",
   "version": "2.7.6"
  }
 },
 "nbformat": 4,
 "nbformat_minor": 0
}
