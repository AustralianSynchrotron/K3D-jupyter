{
 "cells": [
  {
   "cell_type": "code",
   "execution_count": null,
   "metadata": {},
   "outputs": [],
   "source": [
    "from k3d import K3D\n",
    "import urllib.request\n",
    "import os.path\n",
    "import vtk\n",
    "\n",
    "filename= 'CylinderQuadratic.vtk'\n",
    "\n",
    "view_matrix = (\n",
    "     10.0,  0.0, 0.0, 0.0,\n",
    "     0.0,  10.0, 0.0, 0.0,\n",
    "     0.0,  0.0, 10.0, 0.0,\n",
    "     0.0,  0.0, 0.0, 1.0\n",
    ")\n",
    "\n",
    "if not os.path.isfile(filename):\n",
    "    response = urllib.request.urlopen(\"https://raw.githubusercontent.com/naucoin/\" + \n",
    "                                      \"VTKData/master/Data/Quadratic/CylinderQuadratic.vtk\")\n",
    "    f = open(filename, 'wb')\n",
    "    f.write(response.read())\n",
    "    f.close()\n",
    "    \n",
    "reader = vtk.vtkUnstructuredGridReader()\n",
    "reader.SetFileName(filename)\n",
    "reader.Update()\n",
    "\n",
    "geometryFilter = vtk.vtkGeometryFilter()\n",
    "geometryFilter.SetInputData(reader.GetOutput())\n",
    "geometryFilter.Update()\n",
    "\n",
    "plot = K3D()\n",
    "cylinder = K3D.vtkPolyData(geometryFilter.GetOutput(), view_matrix, color_attribute=('pressure',-100,7200), \n",
    "                           color_map=K3D.color_maps.BlackBodyRadiation)\n",
    "plot += cylinder\n",
    "plot.display()"
   ]
  },
  {
   "cell_type": "code",
   "execution_count": null,
   "metadata": {
    "collapsed": true
   },
   "outputs": [],
   "source": []
  }
 ],
 "metadata": {
  "kernelspec": {
   "display_name": "Python 3",
   "language": "python",
   "name": "python3"
  },
  "language_info": {
   "codemirror_mode": {
    "name": "ipython",
    "version": 3
   },
   "file_extension": ".py",
   "mimetype": "text/x-python",
   "name": "python",
   "nbconvert_exporter": "python",
   "pygments_lexer": "ipython3",
   "version": "3.6.0"
  }
 },
 "nbformat": 4,
 "nbformat_minor": 2
}
