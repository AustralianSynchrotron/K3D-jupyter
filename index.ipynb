{
 "cells": [
  {
   "cell_type": "markdown",
   "metadata": {},
   "source": [
    "# K3D Examples\n",
    "Try one of the examples below!"
   ]
  },
  {
   "cell_type": "code",
   "execution_count": 6,
   "metadata": {},
   "outputs": [
    {
     "data": {
      "text/markdown": [
       "-  [Sine Gordon](examples\\Sine_Gordon.ipynb)\n",
       "-  [k3d test r2.012](examples\\k3d_test_r2.012.ipynb)\n",
       "-  [line](examples\\line.ipynb)\n",
       "-  [marching cubes](examples\\marching_cubes.ipynb)\n",
       "-  [points](examples\\points.ipynb)\n",
       "-  [points cloud scaner](examples\\points_cloud_scaner.ipynb)\n",
       "-  [sierpinski3d](examples\\sierpinski3d.ipynb)\n",
       "-  [stl](examples\\stl.ipynb)\n",
       "-  [surface](examples\\surface.ipynb)\n",
       "-  [text](examples\\text.ipynb)\n",
       "-  [text2d](examples\\text2d.ipynb)\n",
       "-  [texture](examples\\texture.ipynb)\n",
       "-  [vector](examples\\vector.ipynb)\n",
       "-  [vector2d](examples\\vector2d.ipynb)\n",
       "-  [vector3d](examples\\vector3d.ipynb)\n",
       "-  [vector animation k3d](examples\\vector_animation_k3d.ipynb)\n",
       "-  [voxels](examples\\voxels.ipynb)\n",
       "-  [voxels edit](examples\\voxels_edit.ipynb)\n",
       "-  [vtk](examples\\vtk.ipynb)"
      ],
      "text/plain": [
       "<IPython.core.display.Markdown object>"
      ]
     },
     "execution_count": 6,
     "metadata": {},
     "output_type": "execute_result"
    }
   ],
   "source": [
    "# just generating the list here, nothing to see...\n",
    "from IPython.display import Markdown\n",
    "from glob import glob\n",
    "\n",
    "Markdown(\"\\n\".join([\n",
    "    \"-  [{}]({})\".format(x[9:-6].replace(\"_\", \" \"), x)\n",
    "    for x in sorted(glob(\"examples/*.ipynb\"))\n",
    "]))"
   ]
  },
  {
   "cell_type": "code",
   "execution_count": 5,
   "metadata": {},
   "outputs": [
    {
     "data": {
      "text/markdown": [
       "### Examples presented during Sage Days 74\n",
       "-  [SageDays74\\Lorenz system](examples/SageDays74\\Lorenz_system.ipynb)\n",
       "-  [SageDays74\\Molecular Dynamics visualization-demo](examples/SageDays74\\Molecular_Dynamics_visualization-demo.ipynb)\n",
       "-  [SageDays74\\implicit plot3d interactive](examples/SageDays74\\implicit_plot3d_interactive.ipynb)\n",
       "-  [SageDays74\\line animation demo](examples/SageDays74\\line_animation_demo.ipynb)\n",
       "-  [SageDays74\\marching cubes level interact](examples/SageDays74\\marching_cubes_level_interact.ipynb)\n",
       "-  [SageDays74\\surface interact](examples/SageDays74\\surface_interact.ipynb)"
      ],
      "text/plain": [
       "<IPython.core.display.Markdown object>"
      ]
     },
     "execution_count": 5,
     "metadata": {},
     "output_type": "execute_result"
    }
   ],
   "source": [
    "Markdown(\"### Examples presented during Sage Days 74\\n\"+\"\\n\".join([\n",
    "    \"-  [{}]({})\".format(x[9:-6].replace(\"_\", \" \"), x)\n",
    "    for x in sorted(glob(\"examples/SageDays74/*.ipynb\"))\n",
    "]))"
   ]
  },
  {
   "cell_type": "code",
   "execution_count": null,
   "metadata": {
    "collapsed": true
   },
   "outputs": [],
   "source": []
  }
 ],
 "metadata": {
  "kernelspec": {
   "display_name": "Python 3",
   "language": "python",
   "name": "python3"
  },
  "language_info": {
   "codemirror_mode": {
    "name": "ipython",
    "version": 3
   },
   "file_extension": ".py",
   "mimetype": "text/x-python",
   "name": "python",
   "nbconvert_exporter": "python",
   "pygments_lexer": "ipython3",
   "version": "3.6.0"
  }
 },
 "nbformat": 4,
 "nbformat_minor": 1
}
