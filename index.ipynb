{
 "cells": [
  {
   "cell_type": "markdown",
   "metadata": {},
   "source": [
    "# K3D Examples\n",
    "Try one of the examples below!"
   ]
  },
  {
   "cell_type": "code",
   "execution_count": 1,
   "metadata": {
    "collapsed": false
   },
   "outputs": [
    {
     "data": {
      "text/markdown": [
       "- ## [line](examples/line.ipynb)\n",
       "- ## [marching cubes](examples/marching_cubes.ipynb)\n",
       "- ## [points](examples/points.ipynb)\n",
       "- ## [stl](examples/stl.ipynb)\n",
       "- ## [surface](examples/surface.ipynb)\n",
       "- ## [text](examples/text.ipynb)\n",
       "- ## [texture](examples/texture.ipynb)\n",
       "- ## [vector](examples/vector.ipynb)\n",
       "- ## [vector2d](examples/vector2d.ipynb)\n",
       "- ## [vector3d](examples/vector3d.ipynb)\n",
       "- ## [voxels](examples/voxels.ipynb)\n",
       "- ## [voxels edit](examples/voxels_edit.ipynb)"
      ],
      "text/plain": [
       "<IPython.core.display.Markdown object>"
      ]
     },
     "execution_count": 1,
     "metadata": {},
     "output_type": "execute_result"
    }
   ],
   "source": [
    "# just generating the list here, nothing to see...\n",
    "from IPython.display import Markdown\n",
    "from glob import glob\n",
    "\n",
    "Markdown(\"\\n\".join([\n",
    "    \"- ## [{}]({})\".format(x[9:-6].replace(\"_\", \" \"), x)\n",
    "    for x in sorted(glob(\"examples/*.ipynb\"))\n",
    "]))"
   ]
  }
 ],
 "metadata": {
  "kernelspec": {
   "display_name": "Python 3",
   "language": "python",
   "name": "python3"
  },
  "language_info": {
   "codemirror_mode": {
    "name": "ipython",
    "version": 3
   },
   "file_extension": ".py",
   "mimetype": "text/x-python",
   "name": "python",
   "nbconvert_exporter": "python",
   "pygments_lexer": "ipython3",
   "version": "3.5.0"
  }
 },
 "nbformat": 4,
 "nbformat_minor": 0
}
