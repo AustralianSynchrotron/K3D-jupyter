{
 "cells": [
  {
   "cell_type": "markdown",
   "metadata": {},
   "source": [
    "## Lines 3d"
   ]
  },
  {
   "cell_type": "markdown",
   "metadata": {},
   "source": [
    "https://matplotlib.org/examples/mplot3d/lines3d_demo.html\n",
    "![Lines3d](https://matplotlib.org/2.0.2/_images/lines3d_demo1.png)"
   ]
  },
  {
   "cell_type": "code",
   "execution_count": 1,
   "metadata": {},
   "outputs": [
    {
     "data": {
      "application/vnd.jupyter.widget-view+json": {
       "model_id": "c75ee41c68a34056a62a5e8546114a76",
       "version_major": 2,
       "version_minor": 0
      },
      "text/plain": [
       "Output()"
      ]
     },
     "metadata": {},
     "output_type": "display_data"
    }
   ],
   "source": [
    "import numpy as np\n",
    "import k3d\n",
    "\n",
    "plot = k3d.plot()\n",
    "\n",
    "theta = np.linspace(-4 * np.pi, 4 * np.pi, 100, dtype=np.float32)\n",
    "z = np.linspace(-2, 2, 100, dtype=np.float32)\n",
    "r = z**2 + 1\n",
    "x = r * np.sin(theta)\n",
    "y = r * np.cos(theta)\n",
    "\n",
    "line = k3d.line(np.vstack([x,y,z]).T, width=0.2, scaling = [1,1,2])\n",
    "\n",
    "plot += line\n",
    "plot.display()"
   ]
  }
 ],
 "metadata": {
  "kernelspec": {
   "display_name": "Python 3",
   "language": "python",
   "name": "python3"
  },
  "language_info": {
   "codemirror_mode": {
    "name": "ipython",
    "version": 3
   },
   "file_extension": ".py",
   "mimetype": "text/x-python",
   "name": "python",
   "nbconvert_exporter": "python",
   "pygments_lexer": "ipython3",
   "version": "3.7.4"
  },
  "widgets": {
   "application/vnd.jupyter.widget-state+json": {
    "state": {
     "27a8af8deeca4de0a10902859cbdb578": {
      "model_module": "k3d",
      "model_module_version": "2.7.2",
      "model_name": "PlotModel",
      "state": {
       "_backend_version": "2.6.8",
       "_dom_classes": [],
       "_view_count": null,
       "antialias": 3,
       "axes": [
        "x",
        "y",
        "z"
       ],
       "background_color": 16777215,
       "camera": [
        11.728375995450252,
        -16.73294449492251,
        1.1728375995450355,
        0,
        0.8596194982528687,
        0,
        0,
        0,
        1
       ],
       "camera_auto_fit": true,
       "camera_no_pan": false,
       "camera_no_rotate": false,
       "camera_no_zoom": false,
       "clipping_planes": [],
       "colorbar_object_id": -1,
       "fps_meter": false,
       "grid": [
        -1,
        -1,
        -1,
        1,
        1,
        1
       ],
       "grid_auto_fit": true,
       "grid_visible": true,
       "height": 512,
       "layout": "IPY_MODEL_37a4110015894ebb8d469fdf33051245",
       "lighting": 1,
       "menu_visibility": true,
       "object_ids": [
        1679288876896
       ],
       "rendering_steps": 1,
       "screenshot": "",
       "screenshot_scale": 4,
       "time": 0,
       "voxel_paint_color": 0
      }
     },
     "28098c42d34348aa94262a6920da14fa": {
      "model_module": "k3d",
      "model_module_version": "2.7.2",
      "model_name": "PlotModel",
      "state": {
       "_backend_version": "2.7.2",
       "_dom_classes": [],
       "_view_count": null,
       "antialias": 3,
       "auto_rendering": true,
       "axes": [
        "x",
        "y",
        "z"
       ],
       "axes_helper": 1,
       "background_color": 16777215,
       "camera": [
        9.06082707568883,
        -9.694515701023493,
        4.550473871768012,
        0,
        0.8596194982528687,
        0,
        -0.14981144331838647,
        0.21104811251779496,
        0.9659271326831738
       ],
       "camera_auto_fit": true,
       "camera_fov": 60,
       "camera_no_pan": false,
       "camera_no_rotate": false,
       "camera_no_zoom": false,
       "clipping_planes": [],
       "colorbar_object_id": -1,
       "fps": 25,
       "fps_meter": false,
       "grid": [
        -1,
        -1,
        -1,
        1,
        1,
        1
       ],
       "grid_auto_fit": true,
       "grid_visible": true,
       "height": 512,
       "layout": "IPY_MODEL_b72d6a0ae4984e62aae0cf8a42486608",
       "lighting": 1.5,
       "menu_visibility": true,
       "mode": "view",
       "name": null,
       "object_ids": [
        140675682241616
       ],
       "rendering_steps": 1,
       "screenshot": "",
       "screenshot_scale": 2,
       "snapshot": "",
       "time": 0,
       "voxel_paint_color": 0
      }
     },
     "37a4110015894ebb8d469fdf33051245": {
      "model_module": "@jupyter-widgets/base",
      "model_module_version": "1.2.0",
      "model_name": "LayoutModel",
      "state": {}
     },
     "3c07d8dd1c1c46e098577791998527b3": {
      "buffers": [
       {
        "data": "eNoDAAAAAAE=",
        "encoding": "base64",
        "path": [
         "attribute",
         "compressed_buffer"
        ]
       },
       {
        "data": "eNoDAAAAAAE=",
        "encoding": "base64",
        "path": [
         "color_map",
         "compressed_buffer"
        ]
       },
       {
        "data": "eNoDAAAAAAE=",
        "encoding": "base64",
        "path": [
         "colors",
         "compressed_buffer"
        ]
       },
       {
        "data": "eNpjYGiwZ8AA2MQYHLCpAwBT2QJ+",
        "encoding": "base64",
        "path": [
         "model_matrix",
         "compressed_buffer"
        ]
       },
       {
        "data": "eNotlG1M1VUcx//XrdWwB3xgLTXDRIf0/GAjiPM95oYoq7DS2m32QmWZD6y0pTGkaXSDzQgy9E5y3qEwRjgdTQ3inu+xcFcd07EcanfdcATZrZyrUcxk9nvxe3de/M/5/x4+n29lZ/pYEMRsEAR+y95m7Es32YwLN1jRM8XGx3barPYxfn5PiX1tYLl9oOo65zxSYbsT0+yCst/Zv3KHLU7F8HTOKONf77SpwiXGjA8x8cZWe+X2l1jSn+T6xrCtbrvEV2KDTF55wn734Ay/6r0BjvUENnyzwL9V0k97vAnPd7zgN89KcFt5zEz8u9xXXT9JsyHgxYMlPtLXy3dHv2T+oqd8Y/QETeoqf757um/e2MWjhZl+Tl2SrfYwNw1k+7zuCI9Ob+cH/8zz00ac67nawh+ezPaha/XmVO9+NnyT6X/KXYXzDVGWffwX412duLx2N9f9eIKfzUzil/x63p+3kblTx3Htzjo+dDLhDn0asuNDH3HunsC49E3ctn473x65Fy3mV8yYuoWxM1V4uLMPj/WsY+N/h5C1JorFq9/kHYUO+y+V4vWMV3m6+QxqD35vNnUtZfv2BHKiZ3t3hMHcu7oxr7Xf7Zm0kCtmx7BrOJ9fdeRxOFQNTKokX87mrZbHMatmNy/cyGJqwbcmHT7A31omc/PMuUUHGmOcWBbi8Pw6V39+L3NG/3RFGzJYjghffOayK7+4mE0jYW6N9Lmh4gqu/WQ2Y4NHXOmUGmYMHndn5ze7P8pr+cWHh+N/vx9xp5bU8HS0wDxbv8atbHiHi7qTZtejBc51LGNpWw5S5zJd8Yr72GbLsDp1Ll454dyt2gpkmm3x4EjILZ1cjWPVrb1yNnp+Tr4x+k2R3IXeLZI3oW8a+Rf0X0ZqgNZgpDZobUZqhtZspBdoL0Z6hPZopHdo70ZmYnQmRmYV11lBZuh0hpDZUmcLmTl15pBdUHcB2RF1R5DdUXcH2Sl1p5BdU3cNYYDKAIQNKhsQZqjMQFhyyhKEMaOMQdiDsgdhEsokhFUoqxCGrTIMYdsq2xDmrTIPccGqCxBHrDoCcQfqDsQpqFMQ16CuQRx06iDETaqbEGe9Ogtx2avLEMe9Og5x36v7kEzwmgmQrPCaFZAM8ZohkGzxmi2QzPGaOZAsomYRKjvTCzWj7P+Zn1eh",
        "encoding": "base64",
        "path": [
         "vertices",
         "compressed_buffer"
        ]
       }
      ],
      "model_module": "k3d",
      "model_module_version": "2.7.2",
      "model_name": "ObjectModel",
      "state": {
       "_view_count": null,
       "_view_module": null,
       "_view_module_version": "",
       "_view_name": null,
       "attribute": {
        "dtype": "float32",
        "shape": [
         0
        ]
       },
       "color": 255,
       "color_map": {
        "dtype": "float32",
        "shape": [
         0
        ]
       },
       "color_range": [],
       "colors": {
        "dtype": "uint32",
        "shape": [
         0
        ]
       },
       "compression_level": 0,
       "id": 1679288876896,
       "model_matrix": {
        "dtype": "float32",
        "shape": [
         4,
         4
        ]
       },
       "name": null,
       "radial_segments": 8,
       "shader": "thick",
       "type": "Line",
       "vertices": {
        "dtype": "float32",
        "shape": [
         100,
         3
        ]
       },
       "visible": true,
       "width": 0.2
      }
     },
     "3f6187615fc048a1a0e164dd14dbb2b1": {
      "model_module": "@jupyter-widgets/base",
      "model_module_version": "1.2.0",
      "model_name": "LayoutModel",
      "state": {}
     },
     "47c91241810c404486ac686281da85bc": {
      "model_module": "@jupyter-widgets/base",
      "model_module_version": "1.2.0",
      "model_name": "LayoutModel",
      "state": {}
     },
     "7b5eaf3f32134c248c1db9a4f4869eef": {
      "model_module": "@jupyter-widgets/output",
      "model_module_version": "1.0.0",
      "model_name": "OutputModel",
      "state": {
       "layout": "IPY_MODEL_47c91241810c404486ac686281da85bc",
       "outputs": [
        {
         "data": {
          "application/vnd.jupyter.widget-view+json": {
           "model_id": "27a8af8deeca4de0a10902859cbdb578",
           "version_major": 2,
           "version_minor": 0
          },
          "text/plain": "Plot(antialias=3, axes=['x', 'y', 'z'], background_color=16777215, camera=[4.5, 4.5, 4.5, 0.0, 0.0, 0.0, 1.0, …"
         },
         "metadata": {},
         "output_type": "display_data"
        }
       ]
      }
     },
     "b72d6a0ae4984e62aae0cf8a42486608": {
      "model_module": "@jupyter-widgets/base",
      "model_module_version": "1.2.0",
      "model_name": "LayoutModel",
      "state": {}
     },
     "c75ee41c68a34056a62a5e8546114a76": {
      "model_module": "@jupyter-widgets/output",
      "model_module_version": "1.0.0",
      "model_name": "OutputModel",
      "state": {
       "layout": "IPY_MODEL_3f6187615fc048a1a0e164dd14dbb2b1",
       "outputs": [
        {
         "data": {
          "application/vnd.jupyter.widget-view+json": {
           "model_id": "28098c42d34348aa94262a6920da14fa",
           "version_major": 2,
           "version_minor": 0
          },
          "text/plain": "Plot(antialias=3, axes=['x', 'y', 'z'], axes_helper=1.0, background_color=16777215, camera=[4.5, 4.5, 4.5, 0.0…"
         },
         "metadata": {},
         "output_type": "display_data"
        }
       ]
      }
     },
     "e0816cf4009c42d59c1ec5a21088ba43": {
      "buffers": [
       {
        "data": "eNoDAAAAAAE=",
        "encoding": "base64",
        "path": [
         "attribute",
         "compressed_buffer"
        ]
       },
       {
        "data": "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",
        "encoding": "base64",
        "path": [
         "color_map",
         "compressed_buffer"
        ]
       },
       {
        "data": "eNoDAAAAAAE=",
        "encoding": "base64",
        "path": [
         "colors",
         "compressed_buffer"
        ]
       },
       {
        "data": "eNpjYGiwZ8AA2MQYHLCpAwBT2QJ+",
        "encoding": "base64",
        "path": [
         "model_matrix",
         "compressed_buffer"
        ]
       },
       {
        "data": "eNotlG1M1VUcx//XrdWwB3xgLTXDRIf0/GAjiPM95oYoq7DS2m32QmWZD6y0pTGkaXSDzQgy9E5y3qEwRjgdTQ3inu+xcFcd07EcanfdcATZrZyrUcxk9nvxe3de/M/5/x4+n29lZ/pYEMRsEAR+y95m7Es32YwLN1jRM8XGx3barPYxfn5PiX1tYLl9oOo65zxSYbsT0+yCst/Zv3KHLU7F8HTOKONf77SpwiXGjA8x8cZWe+X2l1jSn+T6xrCtbrvEV2KDTF55wn734Ay/6r0BjvUENnyzwL9V0k97vAnPd7zgN89KcFt5zEz8u9xXXT9JsyHgxYMlPtLXy3dHv2T+oqd8Y/QETeoqf757um/e2MWjhZl+Tl2SrfYwNw1k+7zuCI9Ob+cH/8zz00ac67nawh+ezPaha/XmVO9+NnyT6X/KXYXzDVGWffwX412duLx2N9f9eIKfzUzil/x63p+3kblTx3Htzjo+dDLhDn0asuNDH3HunsC49E3ctn473x65Fy3mV8yYuoWxM1V4uLMPj/WsY+N/h5C1JorFq9/kHYUO+y+V4vWMV3m6+QxqD35vNnUtZfv2BHKiZ3t3hMHcu7oxr7Xf7Zm0kCtmx7BrOJ9fdeRxOFQNTKokX87mrZbHMatmNy/cyGJqwbcmHT7A31omc/PMuUUHGmOcWBbi8Pw6V39+L3NG/3RFGzJYjghffOayK7+4mE0jYW6N9Lmh4gqu/WQ2Y4NHXOmUGmYMHndn5ze7P8pr+cWHh+N/vx9xp5bU8HS0wDxbv8atbHiHi7qTZtejBc51LGNpWw5S5zJd8Yr72GbLsDp1Ll454dyt2gpkmm3x4EjILZ1cjWPVrb1yNnp+Tr4x+k2R3IXeLZI3oW8a+Rf0X0ZqgNZgpDZobUZqhtZspBdoL0Z6hPZopHdo70ZmYnQmRmYV11lBZuh0hpDZUmcLmTl15pBdUHcB2RF1R5DdUXcH2Sl1p5BdU3cNYYDKAIQNKhsQZqjMQFhyyhKEMaOMQdiDsgdhEsokhFUoqxCGrTIMYdsq2xDmrTIPccGqCxBHrDoCcQfqDsQpqFMQ16CuQRx06iDETaqbEGe9Ogtx2avLEMe9Og5x36v7kEzwmgmQrPCaFZAM8ZohkGzxmi2QzPGaOZAsomYRKjvTCzWj7P+Zn1eh",
        "encoding": "base64",
        "path": [
         "vertices",
         "compressed_buffer"
        ]
       }
      ],
      "model_module": "k3d",
      "model_module_version": "2.7.2",
      "model_name": "ObjectModel",
      "state": {
       "_view_count": null,
       "_view_module": null,
       "_view_module_version": "",
       "_view_name": null,
       "attribute": {
        "dtype": "float32",
        "shape": [
         0
        ]
       },
       "color": 255,
       "color_map": {
        "dtype": "float32",
        "shape": [
         1024
        ]
       },
       "color_range": [],
       "colors": {
        "dtype": "uint32",
        "shape": [
         0
        ]
       },
       "compression_level": 0,
       "id": 140675682241616,
       "model_matrix": {
        "dtype": "float32",
        "shape": [
         4,
         4
        ]
       },
       "name": "Line #1",
       "radial_segments": 8,
       "shader": "thick",
       "type": "Line",
       "vertices": {
        "dtype": "float32",
        "shape": [
         100,
         3
        ]
       },
       "visible": true,
       "width": 0.2
      }
     }
    },
    "version_major": 2,
    "version_minor": 0
   }
  }
 },
 "nbformat": 4,
 "nbformat_minor": 2
}
