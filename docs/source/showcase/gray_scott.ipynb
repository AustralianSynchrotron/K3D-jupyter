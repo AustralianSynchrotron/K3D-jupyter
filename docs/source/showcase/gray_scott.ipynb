{
 "cells": [
  {
   "cell_type": "markdown",
   "metadata": {},
   "source": [
    "# Gray Scott"
   ]
  },
  {
   "cell_type": "code",
   "execution_count": 25,
   "metadata": {},
   "outputs": [],
   "source": [
    "import k3d\n",
    "import numpy as np\n",
    "import pycuda.gpuarray as gpuarray\n",
    "import numpy as np\n",
    "from pycuda.compiler import SourceModule\n",
    "import pycuda.driver as cuda\n",
    "\n",
    "cuda.init()\n",
    "device = cuda.Device(0)\n",
    "ctx = device.make_context()\n",
    "size = (512, 512)\n",
    "\n",
    "block_size = 128\n",
    "\n",
    "nx = (size[0]//block_size) * block_size\n",
    "ny = size[1]\n",
    "blocks = nx * ny // block_size\n",
    "\n",
    "u = np.ones((ny,nx),dtype=np.float32)\n",
    "v = np.zeros((ny,nx),dtype=np.float32)"
   ]
  },
  {
   "cell_type": "code",
   "execution_count": 26,
   "metadata": {},
   "outputs": [
    {
     "data": {
      "application/vnd.jupyter.widget-view+json": {
       "model_id": "69836e9ef6c4407e8f2ec93909843c55",
       "version_major": 2,
       "version_minor": 0
      },
      "text/plain": [
       "Output()"
      ]
     },
     "metadata": {},
     "output_type": "display_data"
    }
   ],
   "source": [
    "plot = k3d.plot(camera_auto_fit=False)\n",
    "texture = k3d.texture(attribute=u, color_range=[0.0, 0.35], \n",
    "                      color_map=k3d.matplotlib_color_maps.Viridis_r)\n",
    "plot += texture\n",
    "plot.display()"
   ]
  },
  {
   "cell_type": "code",
   "execution_count": 27,
   "metadata": {},
   "outputs": [],
   "source": [
    "texture.color_map = k3d.colormaps.matplotlib_color_maps.Viridis_r"
   ]
  },
  {
   "cell_type": "code",
   "execution_count": 28,
   "metadata": {},
   "outputs": [],
   "source": [
    "# Du, Dv, F, k = 0.16, 0.08, 0.035, 0.065 # Bacteria 1\n",
    "# Du, Dv, F, k = 0.14, 0.06, 0.035, 0.065 # Bacteria 2\n",
    "Du, Dv, F, k = 0.16, 0.08, 0.060, 0.062 # Coral\n",
    "# Du, Dv, F, k = 0.19, 0.05, 0.060, 0.062 # Fingerprint\n",
    "# Du, Dv, F, k = 0.10, 0.10, 0.018, 0.050 # Spirals\n",
    "# Du, Dv, F, k = 0.12, 0.08, 0.020, 0.050 # Spirals Dense\n",
    "# Du, Dv, F, k = 0.10, 0.16, 0.020, 0.050 # Spirals Fast\n",
    "# Du, Dv, F, k = 0.16, 0.08, 0.020, 0.055 # Unstable\n",
    "# Du, Dv, F, k = 0.16, 0.08, 0.050, 0.065 # Worms 1\n",
    "# Du, Dv, F, k = 0.16, 0.08, 0.054, 0.063 # Worms 2\n",
    "# Du, Dv, F, k = 0.16, 0.08, 0.035, 0.060 # Zebrafish"
   ]
  },
  {
   "cell_type": "code",
   "execution_count": 29,
   "metadata": {},
   "outputs": [],
   "source": [
    "dt = 0.5 * 1\n",
    "\n",
    "pars = {'nx':nx,\n",
    "        'ny':ny,\n",
    "        'Du':Du,\n",
    "        'Dv':Dv,\n",
    "        'dt':dt,\n",
    "        'F':F,\n",
    "        'k':k}\n",
    "\n",
    "src = \"\"\"\n",
    "    __device__ inline float laplace2d(int idx, float *a)\n",
    "    {{\n",
    "      return(a[idx-1] + a[idx+1] + a[idx-{nx}] + a[idx+{nx}] - 4.0f * a[idx] );\n",
    "    }}\n",
    "\n",
    "  \n",
    "    __global__ void iterate_RDS(float *a,float *da,float *b,float *db)\n",
    "    {{\n",
    "      int idx = blockDim.x*blockIdx.x + threadIdx.x;\n",
    "      float k = {k}f;  \n",
    "      float F = {F}f;\n",
    "      \n",
    "      if(idx<{nx} || idx>{nx}*({ny}-1)-1) {{\n",
    "          return;\n",
    "      }}\n",
    "      \n",
    "      int x = idx % {nx};\n",
    "      \n",
    "      if(x==0 || x=={nx}-1) {{\n",
    "          return;\n",
    "      }}\n",
    "      \n",
    "      float u = a[idx]; \n",
    "      float v = b[idx];       \n",
    "     \n",
    "      da[idx] = u + {dt}f*(  -u*v*v + F*(1.0f-u) + {Du}*laplace2d(idx, a));\n",
    "      db[idx] = v + {dt}f*(   u*v*v - (F+k)*v + {Dv}*laplace2d(idx, b));\n",
    "    }}\n",
    "    \"\"\".format(**pars)\n",
    "\n",
    "mod = SourceModule(src)\n",
    "RDSv = mod.get_function(\"iterate_RDS\")"
   ]
  },
  {
   "cell_type": "code",
   "execution_count": 30,
   "metadata": {},
   "outputs": [],
   "source": [
    "r = 20\n",
    "u[ny//2-r:ny//2+r,nx//2-r:nx//2+r] = 0.50\n",
    "v[ny//2-r:ny//2+r,nx//2-r:nx//2+r] = 0.25\n",
    "\n",
    "u += 0.05 * np.random.random((ny,nx))\n",
    "v += 0.05 * np.random.random((ny,nx))\n",
    "\n",
    "u_g = gpuarray.to_gpu(u)\n",
    "du_g = gpuarray.empty_like(u_g)\n",
    "\n",
    "v_g = gpuarray.to_gpu(v)\n",
    "dv_g = gpuarray.empty_like(v_g)"
   ]
  },
  {
   "cell_type": "code",
   "execution_count": 31,
   "metadata": {},
   "outputs": [
    {
     "name": "stdout",
     "output_type": "stream",
     "text": [
      "CPU times: user 2.04 s, sys: 744 ms, total: 2.79 s\n",
      "Wall time: 2.76 s\n"
     ]
    }
   ],
   "source": [
    "%%time \n",
    "for i in range(20000):    \n",
    "    RDSv(u_g,du_g,v_g,dv_g, block=(block_size,1,1), grid=(blocks,1))    \n",
    "    RDSv(du_g,u_g,dv_g,v_g, block=(block_size,1,1), grid=(blocks,1))  \n",
    "    \n",
    "    if (i + 1) % 500 == 0:\n",
    "        v = v_g.get()\n",
    "        texture.attribute = v\n",
    "        \n",
    "v = v_g.get()\n",
    "texture.attribute = v"
   ]
  }
 ],
 "metadata": {
  "kernelspec": {
   "display_name": "Python 3",
   "language": "python",
   "name": "python3"
  },
  "language_info": {
   "codemirror_mode": {
    "name": "ipython",
    "version": 3
   },
   "file_extension": ".py",
   "mimetype": "text/x-python",
   "name": "python",
   "nbconvert_exporter": "python",
   "pygments_lexer": "ipython3",
   "version": "3.7.8"
  },
  "widgets": {
   "application/vnd.jupyter.widget-state+json": {
    "state": {},
    "version_major": 2,
    "version_minor": 0
   }
  }
 },
 "nbformat": 4,
 "nbformat_minor": 4
}
