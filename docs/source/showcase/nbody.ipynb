{
 "cells": [
  {
   "cell_type": "markdown",
   "metadata": {},
   "source": [
    "# N-body simulation"
   ]
  },
  {
   "cell_type": "code",
   "execution_count": 1,
   "metadata": {},
   "outputs": [
    {
     "data": {
      "application/vnd.jupyter.widget-view+json": {
       "model_id": "e7947e2406bb40c998cbe07ece242e5d",
       "version_major": 2,
       "version_minor": 0
      },
      "text/plain": [
       "Output()"
      ]
     },
     "metadata": {},
     "output_type": "display_data"
    }
   ],
   "source": [
    "import k3d\n",
    "import math\n",
    "import numpy as np\n",
    "\n",
    "plot = k3d.plot(camera_auto_fit=False)\n",
    "plot.display()"
   ]
  },
  {
   "cell_type": "code",
   "execution_count": 2,
   "metadata": {},
   "outputs": [],
   "source": [
    "bodies_count = 25\n",
    "bodies = np.random.random_sample((bodies_count, 7))\n",
    "bodies[:, 0:6] -= 0.5\n",
    "bodies[:, 3:6] *= 0.05\n",
    "bodies[:,6] = (bodies[:,6] + 0.5) * 1000\n",
    "bodies[0,:] = np.array([0,0,0,0,0,0,1e6])\n",
    "\n",
    "for i in range(1, bodies_count):\n",
    "    bodies[i, 0:3] = (bodies[i, 0:3] / np.linalg.norm(bodies[i, 0:3])) * 0.5\n",
    "\n",
    "\n",
    "points = k3d.points(bodies[:, 0:3].astype(np.float32), color=0, point_size=0.05)\n",
    "plot += points"
   ]
  },
  {
   "cell_type": "code",
   "execution_count": 5,
   "metadata": {},
   "outputs": [],
   "source": [
    "G = 6.67E-11\n",
    "lines = []\n",
    "speeds = []\n",
    "positions = {}\n",
    "\n",
    "for i in range(bodies_count):\n",
    "    lines.append([])\n",
    "    speeds.append([])\n",
    "    \n",
    "for t in range(500):    \n",
    "    for i in range(bodies_count):\n",
    "        sum_force = np.zeros(3)\n",
    "        \n",
    "        for j in range(bodies_count):\n",
    "            if i == j:\n",
    "                continue\n",
    "            \n",
    "            direction = bodies[j, 0:3] - bodies[i, 0:3]            \n",
    "            force = G * bodies[i, 6] * bodies[j, 6] * direction\n",
    "            force = force / (np.linalg.norm(direction) ** 3)\n",
    "            sum_force = sum_force + force\n",
    "\n",
    "        bodies[i, 3:6] = bodies[i, 3:6] + sum_force / bodies[i, 6]\n",
    "    \n",
    "    for i in range(bodies_count):\n",
    "        bodies[i, 0:3] = bodies[i, 0:3] + bodies[i, 3:6] * 0.2\n",
    "        lines[i].append(np.copy(bodies[i, 0:3]))\n",
    "        speeds[i].append(np.linalg.norm(bodies[i, 3:6]))\n",
    "    \n",
    "    positions[str(t*0.01)] = np.copy(bodies[:, 0:3]).astype(np.float32)\n",
    "\n",
    "for line, speed in zip(lines, speeds):\n",
    "    plot += k3d.line(np.array(line).astype(np.float32), attribute=speed, shader=\"mesh\", width=0.0025, \n",
    "                     color_range=[0,0.1], color_map=k3d.basic_color_maps.Jet)"
   ]
  },
  {
   "cell_type": "code",
   "execution_count": 4,
   "metadata": {},
   "outputs": [],
   "source": [
    "points.positions = positions[str(499*0.01)]"
   ]
  },
  {
   "cell_type": "code",
   "execution_count": null,
   "metadata": {},
   "outputs": [],
   "source": []
  }
 ],
 "metadata": {
  "kernelspec": {
   "display_name": "Python 3",
   "language": "python",
   "name": "python3"
  },
  "language_info": {
   "codemirror_mode": {
    "name": "ipython",
    "version": 3
   },
   "file_extension": ".py",
   "mimetype": "text/x-python",
   "name": "python",
   "nbconvert_exporter": "python",
   "pygments_lexer": "ipython3",
   "version": "3.7.8"
  },
  "widgets": {
   "application/vnd.jupyter.widget-state+json": {
    "state": {
     "04d5ff8f645640db9a5c2f813786914f": {
      "buffers": [
       {
        "data": "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",
        "encoding": "base64",
        "path": [
         "attribute",
         "data"
        ]
       },
       {
        "data": "AACAvwAAAAAAAAAAAAAQP3YcR78AAAAAAAAAAAAAgD+ZKIq+AAAAAAAAgD8AAIA/GAiCvAAAAD8AAIA/AAAAPy3Pcz4AAIA/AACAPwAAAAD0+z4/AACAPwAAAAAAAAAAAACAPwAAAD8AAAAAAAAAAA==",
        "encoding": "base64",
        "path": [
         "color_map",
         "data"
        ]
       },
       {
        "data": "",
        "encoding": "base64",
        "path": [
         "colors",
         "data"
        ]
       },
       {
        "data": "AACAPwAAAAAAAAAAAAAAAAAAAAAAAIA/AAAAAAAAAAAAAAAAAAAAAAAAgD8AAAAAAAAAAAAAAAAAAAAAAACAPw==",
        "encoding": "base64",
        "path": [
         "model_matrix",
         "data"
        ]
       },
       {
        "data": "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",
        "encoding": "base64",
        "path": [
         "vertices",
         "data"
        ]
       }
      ],
      "model_module": "k3d",
      "model_module_version": "2.9.0",
      "model_name": "ObjectModel",
      "state": {
       "_color_range_high": 0.1,
       "_color_range_low": 0,
       "_view_count": null,
       "_view_module": null,
       "_view_module_version": "",
       "_view_name": null,
       "attribute": {
        "dtype": "float32",
        "shape": [
         500
        ]
       },
       "color": 255,
       "colorLegend": false,
       "color_map": {
        "dtype": "float32",
        "shape": [
         28
        ]
       },
       "color_range": [
        0,
        0.1
       ],
       "colors": {
        "dtype": "uint32",
        "shape": [
         0
        ]
       },
       "compression_level": 0,
       "id": 4827000656,
       "model_matrix": {
        "dtype": "float32",
        "shape": [
         4,
         4
        ]
       },
       "name": "Line #42",
       "radial_segments": 8,
       "shader": "mesh",
       "type": "Line",
       "vertices": {
        "dtype": "float32",
        "shape": [
         500,
         3
        ]
       },
       "visible": true,
       "width": 0.0025
      }
     },
     "0882ad3e277f4d91b7de2912be598975": {
      "buffers": [
       {
        "data": "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",
        "encoding": "base64",
        "path": [
         "attribute",
         "data"
        ]
       },
       {
        "data": "AACAvwAAAAAAAAAAAAAQP3YcR78AAAAAAAAAAAAAgD+ZKIq+AAAAAAAAgD8AAIA/GAiCvAAAAD8AAIA/AAAAPy3Pcz4AAIA/AACAPwAAAAD0+z4/AACAPwAAAAAAAAAAAACAPwAAAD8AAAAAAAAAAA==",
        "encoding": "base64",
        "path": [
         "color_map",
         "data"
        ]
       },
       {
        "data": "",
        "encoding": "base64",
        "path": [
         "colors",
         "data"
        ]
       },
       {
        "data": "AACAPwAAAAAAAAAAAAAAAAAAAAAAAIA/AAAAAAAAAAAAAAAAAAAAAAAAgD8AAAAAAAAAAAAAAAAAAAAAAACAPw==",
        "encoding": "base64",
        "path": [
         "model_matrix",
         "data"
        ]
       },
       {
        "data": "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",
        "encoding": "base64",
        "path": [
         "vertices",
         "data"
        ]
       }
      ],
      "model_module": "k3d",
      "model_module_version": "2.9.0",
      "model_name": "ObjectModel",
      "state": {
       "_color_range_high": 0.1,
       "_color_range_low": 0,
       "_view_count": null,
       "_view_module": null,
       "_view_module_version": "",
       "_view_name": null,
       "attribute": {
        "dtype": "float32",
        "shape": [
         500
        ]
       },
       "color": 255,
       "colorLegend": false,
       "color_map": {
        "dtype": "float32",
        "shape": [
         28
        ]
       },
       "color_range": [
        0,
        0.1
       ],
       "colors": {
        "dtype": "uint32",
        "shape": [
         0
        ]
       },
       "compression_level": 0,
       "id": 4826999632,
       "model_matrix": {
        "dtype": "float32",
        "shape": [
         4,
         4
        ]
       },
       "name": "Line #44",
       "radial_segments": 8,
       "shader": "mesh",
       "type": "Line",
       "vertices": {
        "dtype": "float32",
        "shape": [
         500,
         3
        ]
       },
       "visible": true,
       "width": 0.0025
      }
     },
     "09c6adc053d94dc297582fd9e4517914": {
      "model_module": "@jupyter-widgets/base",
      "model_module_version": "1.2.0",
      "model_name": "LayoutModel",
      "state": {}
     },
     "0acf6d9f4bdd408cb150cf927bfd9ba4": {
      "buffers": [
       {
        "data": "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",
        "encoding": "base64",
        "path": [
         "attribute",
         "data"
        ]
       },
       {
        "data": "AACAvwAAAAAAAAAAAAAQP3YcR78AAAAAAAAAAAAAgD+ZKIq+AAAAAAAAgD8AAIA/GAiCvAAAAD8AAIA/AAAAPy3Pcz4AAIA/AACAPwAAAAD0+z4/AACAPwAAAAAAAAAAAACAPwAAAD8AAAAAAAAAAA==",
        "encoding": "base64",
        "path": [
         "color_map",
         "data"
        ]
       },
       {
        "data": "",
        "encoding": "base64",
        "path": [
         "colors",
         "data"
        ]
       },
       {
        "data": "AACAPwAAAAAAAAAAAAAAAAAAAAAAAIA/AAAAAAAAAAAAAAAAAAAAAAAAgD8AAAAAAAAAAAAAAAAAAAAAAACAPw==",
        "encoding": "base64",
        "path": [
         "model_matrix",
         "data"
        ]
       },
       {
        "data": "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",
        "encoding": "base64",
        "path": [
         "vertices",
         "data"
        ]
       }
      ],
      "model_module": "k3d",
      "model_module_version": "2.9.0",
      "model_name": "ObjectModel",
      "state": {
       "_color_range_high": 0.1,
       "_color_range_low": 0,
       "_view_count": null,
       "_view_module": null,
       "_view_module_version": "",
       "_view_name": null,
       "attribute": {
        "dtype": "float32",
        "shape": [
         500
        ]
       },
       "color": 255,
       "colorLegend": false,
       "color_map": {
        "dtype": "float32",
        "shape": [
         28
        ]
       },
       "color_range": [
        0,
        0.1
       ],
       "colors": {
        "dtype": "uint32",
        "shape": [
         0
        ]
       },
       "compression_level": 0,
       "id": 4827018384,
       "model_matrix": {
        "dtype": "float32",
        "shape": [
         4,
         4
        ]
       },
       "name": "Line #36",
       "radial_segments": 8,
       "shader": "mesh",
       "type": "Line",
       "vertices": {
        "dtype": "float32",
        "shape": [
         500,
         3
        ]
       },
       "visible": true,
       "width": 0.0025
      }
     },
     "1e37f0abe90649e4a48608a6b1ff23fc": {
      "buffers": [
       {
        "data": "Z5ZkPMGsZDxt0mQ8aQdlPLBLZTw/n2U8EQJmPCF0Zjxr9WY85oVnPI8laDxe1Gg8TZJpPFZfajxyO2s8nSZsPNAgbTwFKm48OUJvPGdpcDyLn3E8ouRyPKg4dDycm3U8ew13PEWOeDz4HXo8k7x7PBdqfTyFJn8873iAPBJmgTyuWoI8xVaDPFlahDxuZYU8CHiGPC2Shzzis4g8Lt2JPBoOizyuRow89oaNPPzOjjzOHpA8enaRPBHWkjyjPZQ8Ra2VPAwllzwOpZg8ZC2aPCq+mzx8V508evmePEakoDwFWKI83BSkPPbapTx/qqc8poOpPJ9mqzykU6088kqvPMlMsTxvWbM8MXG1PF6UtzxDw7k8OP67PJtFvjzPmcA8PPvCPElqxTxf58c85HLKPDkNzTy9ts880G/SPNU41Tw/Etg8kfzaPG343TyLBuE8wSfkPPlc5zwyp+o8fAfuPPd+8TzVDvU8W7j4POJ8/DztLgA9Zy4CPbI9BD2yXQY9XY8IPb7TCj32Kw09P5kPPe8cEj16uBQ9em0XPa09Gj39Kh09hTcgPZRlIz23tyY9uDAqPaDTLT26ozE96KQ1PXbbOT01TD49k/xCPbryRz2rNU09Oc1SPffAWD1eE1895cRlPRfobD3Bi3Q9KLd8Pcm2gj0cVoc9sDOMPRBCkT0KaJY93nubPQw/oD3nXaQ9gHenPRIxqT0DUak9ANSnPTfupD3g96A9QlKcPRNTlz1EO5I9rDaNPRpgiD04xoM9n91+PY21dj0sEG89n+ZnPeYwYT0y5lo9y/1UPW9vTz14M0o940JFPVOXQD0EKzw9xvg3Per7Mz07MDA975EsPZ8dKT030CU986YiPVWfHz0btxw9OOwZPdA8Fz0lpxQ9kCkSPW7CDz0VcA090TALPRADCT2M5QY9Z9cEPRLYAj0c5wA9KQj+PPhc+jyWy/Y86FLzPNnx7zxdp+w8dHLpPC1S5jykReM8BkzgPIxk3Tx7jto8JsnXPOkT1TwqbtI8W9fPPPVOzTx51Mo8b2fIPGkHxjz8s8M8xmzBPGkxvzyNAb084Ny6PBPDuDzes7Y8+a60PCW0sjwjw7A8utuuPLL9rDzYKKs8/FypPO+ZpzyH36U8my2kPAaEojyi4qA8UEmfPO+3nTxhLpw8jKyaPFQymTyhv5c8XFSWPG/wlDzGk5M8TT6SPPDvkDyfqI88RmiOPNUujTw7/Is8ZtCKPEWriTzHjIg82nSHPG5jhjxyWIU81FOEPIZVgzx4XYI8oGuBPPJ/gDzQNH88+XV9PF3Dezz/HHo86YJ4PCf1djzMc3U87P5zPJ6Wcjz8OnE8H+xvPB6qbjwTdW08FU1sPDsyazyZJGo8RCRpPE0xaDzGS2c8v3NmPEepZTxq7GQ8Nz1kPLibYzz4B2M8AYJiPNwJYjyRn2E8KENhPKb0YDwTtGA8coFgPMlcYDwbRmA8aj1gPLlCYDwIVmA8WndgPK2mYDwA5GA8VC9hPKSIYTzw72E8M2ViPGvoYjySeWM8pRhkPJ7FZDx5gGU8LklmPLofZzwWBGg8O/ZoPCT2aTzLA2s8Kh9sPDxIbTz7fm48YcNvPGwVcTwVdXI8W+JzPDpddTyw5XY8vHt4PF0fejyV0Hs8Zo99PNJbfzzumoA8x46BPHWJgjz+ioM8ZpOEPLSihTzuuIY8HdaHPEj6iDx6JYo8v1eLPCGRjDyv0Y08dxmPPIlokDz2vpE80xyTPDKClDwq75U802OXPEXgmDyZZJo86fCbPFaFnTwAIp88DMegPJ50ojzdKqQ89OmlPA+ypzxcg6k8DV6rPFhCrTxzMK88miixPAsrszwKOLU820+3PMlyuTwjobs8Pdu9PG4hwDwUdMI8k9PEPFNAxzzEusk8XEPMPJnazjwBgdE8IDfUPI/91jzt1Nk85b3cPC253zyHx+I8w+nlPL4g6Txlbew8ttDvPMBL8zym3/Y8oo36PARX/jybHgE94CADPSMzBT1JVgc9SIsJPSzTCz0XLw49RqAQPRAoEz3uxxU9eYEYPXRWGz3MSB49n1ohPUGOJD1E5ic9fmUrPREPLz125jI9h+82PYUuOz0sqD89tWFEPehgST0hrE49U0pUPQBDWj0nnmA9CmRnPdKcbj3eT3Y9noJ+PVWbgz1mM4g9TwGNPW/0kT1f8JY9KsmbPQ9AoD0MBKQ977mmPRwSqD0e4ac95C2mPbAvoz3HOp89p6iaPfPGlT1M0JA9fOyLPfszhz0ztII9RuZ8PTfkdD1KX209eVFmPTmzXz1wfFk9CKVTPUAlTj3S9Ug9ChBEPcptPz1/CTs9Id42PSLnMj1oIC89PIYrPUYVKD1+yiQ9J6MhPcWcHj0YtRs9EuoYPdY5Fj2vohM9ECMRPYu5Dj3SZAw9syMKPRL1Bz3s1wU9UMsDPWDOAT2ewP88vQD8PLtb+DxR0PQ8Wl3xPMsB7jyXvOo8vIznPEtx5DxmaeE8P3TePBeR2zw7v9g8BP7VPNRM0zwaq9A8SRjOPN+TyzxhHck8XLTGPGBYxDwICcI88MW/PL2OvTwWY7s8qEK5PCYttzxEIrU8vSGzPE0rsTy1Pq88ulutPCSCqzy8sak8UeqnPLMrpjy3daQ8NMiiPAIjoTz/hZ88CvGdPAZknDw=",
        "encoding": "base64",
        "path": [
         "attribute",
         "data"
        ]
       },
       {
        "data": "AACAvwAAAAAAAAAAAAAQP3YcR78AAAAAAAAAAAAAgD+ZKIq+AAAAAAAAgD8AAIA/GAiCvAAAAD8AAIA/AAAAPy3Pcz4AAIA/AACAPwAAAAD0+z4/AACAPwAAAAAAAAAAAACAPwAAAD8AAAAAAAAAAA==",
        "encoding": "base64",
        "path": [
         "color_map",
         "data"
        ]
       },
       {
        "data": "",
        "encoding": "base64",
        "path": [
         "colors",
         "data"
        ]
       },
       {
        "data": "AACAPwAAAAAAAAAAAAAAAAAAAAAAAIA/AAAAAAAAAAAAAAAAAAAAAAAAgD8AAAAAAAAAAAAAAAAAAAAAAACAPw==",
        "encoding": "base64",
        "path": [
         "model_matrix",
         "data"
        ]
       },
       {
        "data": "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",
        "encoding": "base64",
        "path": [
         "vertices",
         "data"
        ]
       }
      ],
      "model_module": "k3d",
      "model_module_version": "2.9.0",
      "model_name": "ObjectModel",
      "state": {
       "_color_range_high": 0.1,
       "_color_range_low": 0,
       "_view_count": null,
       "_view_module": null,
       "_view_module_version": "",
       "_view_name": null,
       "attribute": {
        "dtype": "float32",
        "shape": [
         500
        ]
       },
       "color": 255,
       "colorLegend": false,
       "color_map": {
        "dtype": "float32",
        "shape": [
         28
        ]
       },
       "color_range": [
        0,
        0.1
       ],
       "colors": {
        "dtype": "uint32",
        "shape": [
         0
        ]
       },
       "compression_level": 0,
       "id": 4826865040,
       "model_matrix": {
        "dtype": "float32",
        "shape": [
         4,
         4
        ]
       },
       "name": "Line #24",
       "radial_segments": 8,
       "shader": "mesh",
       "type": "Line",
       "vertices": {
        "dtype": "float32",
        "shape": [
         500,
         3
        ]
       },
       "visible": true,
       "width": 0.0025
      }
     },
     "1e4e8c5618f342928ea4539be5a9a82d": {
      "buffers": [
       {
        "data": "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",
        "encoding": "base64",
        "path": [
         "attribute",
         "data"
        ]
       },
       {
        "data": "AACAvwAAAAAAAAAAAAAQP3YcR78AAAAAAAAAAAAAgD+ZKIq+AAAAAAAAgD8AAIA/GAiCvAAAAD8AAIA/AAAAPy3Pcz4AAIA/AACAPwAAAAD0+z4/AACAPwAAAAAAAAAAAACAPwAAAD8AAAAAAAAAAA==",
        "encoding": "base64",
        "path": [
         "color_map",
         "data"
        ]
       },
       {
        "data": "",
        "encoding": "base64",
        "path": [
         "colors",
         "data"
        ]
       },
       {
        "data": "AACAPwAAAAAAAAAAAAAAAAAAAAAAAIA/AAAAAAAAAAAAAAAAAAAAAAAAgD8AAAAAAAAAAAAAAAAAAAAAAACAPw==",
        "encoding": "base64",
        "path": [
         "model_matrix",
         "data"
        ]
       },
       {
        "data": "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",
        "encoding": "base64",
        "path": [
         "vertices",
         "data"
        ]
       }
      ],
      "model_module": "k3d",
      "model_module_version": "2.9.0",
      "model_name": "ObjectModel",
      "state": {
       "_color_range_high": 0.1,
       "_color_range_low": 0,
       "_view_count": null,
       "_view_module": null,
       "_view_module_version": "",
       "_view_name": null,
       "attribute": {
        "dtype": "float32",
        "shape": [
         500
        ]
       },
       "color": 255,
       "colorLegend": false,
       "color_map": {
        "dtype": "float32",
        "shape": [
         28
        ]
       },
       "color_range": [
        0,
        0.1
       ],
       "colors": {
        "dtype": "uint32",
        "shape": [
         0
        ]
       },
       "compression_level": 0,
       "id": 4826862800,
       "model_matrix": {
        "dtype": "float32",
        "shape": [
         4,
         4
        ]
       },
       "name": "Line #17",
       "radial_segments": 8,
       "shader": "mesh",
       "type": "Line",
       "vertices": {
        "dtype": "float32",
        "shape": [
         500,
         3
        ]
       },
       "visible": true,
       "width": 0.0025
      }
     },
     "1e925e4109df4e0098e665c7a189d059": {
      "buffers": [
       {
        "data": "3i4CPfBYAj33gQI97akCPc/QAj2W9gI9PxsDPcQ+Az0iYQM9UoIDPVKiAz0dwQM9rt4DPQH7Az0SFgQ93i8EPWBIBD2WXwQ9e3UEPQyKBD1GnQQ9J68EPay/BD3SzgQ9mNwEPfvoBD378wQ9l/0EPc0FBT2dDAU9BxIFPQsWBT2pGAU94RkFPbYZBT0nGAU9NRUFPeIQBT0wCwU9IAQFPbT7BD3s8QQ9zeYEPVbaBD2LzAQ9bb0EPf6sBD1BmwQ9OYgEPeZzBD1NXgQ9b0cEPU8vBD3wFQQ9VPsDPX/fAz1zwgM9NKQDPcWEAz0pZAM9ZEIDPXofAz1v+wI9RtYCPQSwAj2tiAI9RWACPdA2Aj1SDAI9z+ABPU20AT3OhgE9WVgBPfMoAT2f+AA9Y8cAPUaVAD1LYgA9eS4APanz/zzIiP88WRz/PGeu/jz+Pv48J879PO5b/Txe6Pw8f3P8PFz9+zz/hfs8cA37PLmT+jzjGPo89Jz5PPYf+Tzxofg86yL4POyi9zz9Ifc8JKD2PGkd9jzTmfU8bBX1PDyQ9DxKCvQ8oYPzPEr88jxNdPI8tOvxPIli8TzV2PA8ok7wPPzD7zzqOO88dq3uPKkh7jyMle08JgntPIF87Dyj7+s8lWLrPF3V6jwASOo8hrrpPPQs6TxSn+g8oxHoPO2D5zw29uY8gmjmPNba5Tw2TeU8pb/kPCky5DzFpOM8fRfjPFSK4jxN/eE8bXDhPLXj4DwpV+A8zMrfPKA+3zypst486SbePGSb3TwdEN08FYXcPFH62zzRb9s8meXaPKtb2jwI0tk8s0jZPK6/2Dz7Ntg8m67XPJEm1zzdntY8ghfWPIGQ1TzcCdU8lIPUPKr90zwfeNM89vLSPC9u0jzL6dE8zGXRPDLi0DwAX9A8NdzPPNJZzzza1848TFbOPCrVzTx0VM08LNTMPFJUzDzn1Ms87FXLPGLXyjxIWco8odvJPGxeyTyr4cg8XWXIPIPpxzwebsc8L/PGPLV4xjyx/sU8I4XFPAwMxTxrk8Q8QRvEPI+jwzxULMM8kLXCPEQ/wjxvycE8ElTBPCvfwDy9asA8xfa/PESDvzw6EL88p52+PIsrvjzkub08tEi9PPnXvDy0Z7w85Pe7PIiIuzyhGbs8Lqu6PC49ujyiz7k8iGK5POH1uDyribg85x24PJSytzyxR7c8Pt22PDtztjymCbY8gKC1PMg3tTx8z7Q8nme0PCsAtDwkmbM8iDKzPFbMsjyPZrI8MAGyPDmcsTyrN7E8hNOwPMRvsDxqDLA8damvPOVGrzy65K488oKuPI0hrjyLwK086l+tPKv/rDzNn6w8TkCsPDDhqzxwgqs8DiSrPAvGqjxlaKo8HAuqPC+uqTyeUak8aPWoPI6ZqDwOPqg86OKnPByIpzypLac8j9OmPM55pjxmIKY8VcelPJxupTw6FqU8ML6kPHxmpDwfD6Q8GLijPGdhozwMC6M8B7WiPFdfojz8CaI89bShPERgoTznC6E83regPClkoDzIEKA8u72fPAFrnzyaGJ88hcaePMN0njxUI548N9KdPGuBnTzxMJ08yOCcPPGQnDxqQZw8M/KbPE2jmzy3VJs8cAabPHm4mjzRapo8dx2aPGzQmTyvg5k8QDeZPB/rmDxLn5g8w1OYPIgImDyavZc893KXPKAolzyU3pY805SWPFxLljwvApY8TbmVPLRwlTxjKJU8XOCUPJ2YlDwmUZQ89gmUPA7DkzxsfJM8ETaTPPzvkjwtqpI8o2SSPF4fkjxd2pE8oZWRPChRkTzyDJE8AMmQPFCFkDziQZA8tv6PPMy7jzwjeY88uzaPPJP0jjysso48BHGOPJwvjjxz7o08iK2NPNxsjTxuLI08PuyMPEusjDyVbIw8HC2MPN/tizzeros8GXCLPJAxizxC84o8LrWKPFV3ijy2OYo8UfyJPCa/iTw0gok8e0WJPPsIiTyzzIg8o5CIPMtUiDwrGYg8wt2HPJCihzyVZ4c80CyHPEHyhjzpt4Y8xn2GPNlDhjwgCoY8ndCFPE6XhTw0XoU8TiWFPJzshDwdtIQ80nuEPLpDhDzVC4Q8I9SDPKScgzxWZYM8Oy6DPFL3gjyawII8FIqCPL9TgjybHYI8qOeBPOWxgTxTfIE88kaBPMARgTy/3IA87aeAPEpzgDzXPoA8lAqAPP6sfzwyRX88xN1+PLN2fjz+D348pql9PKpDfTwJ3nw8w3h8PNcTfDxGr3s8Dkt7PDDnejyqg3o8fSB6PKi9eTwqW3k8BPl4PDSXeDy7NXg8mNR3PMpzdzxSE3c8LrN2PF9Tdjzk83U8vZR1POk1dTxo13Q8OXl0PF4bdDzUvXM8m2BzPLQDczwfp3I82kpyPOXucTxBk3E87DdxPOjccDwzgnA8zSdwPLbNbzzuc288dBpvPEnBbjxsaG483Q9uPJy3bTypX208AwhtPKqwbDygWWw84gJsPHOsazxTVms8gwBrPAarajzeVWo8DgFqPJesaTx5WGk8sARpPDmxaDwOXmg8LQtoPJS4ZzxAZmc8MxRnPGzCZjzrcGY8sR9mPL7OZTwSfmU8rS1lPI/dZDy5jWQ8KT5kPODuYzzfn2M8JFFjPLACYzyCtGI8m2ZiPPkYYjyey2E8iH5hPLcxYTw=",
        "encoding": "base64",
        "path": [
         "attribute",
         "data"
        ]
       },
       {
        "data": "AACAvwAAAAAAAAAAAAAQP3YcR78AAAAAAAAAAAAAgD+ZKIq+AAAAAAAAgD8AAIA/GAiCvAAAAD8AAIA/AAAAPy3Pcz4AAIA/AACAPwAAAAD0+z4/AACAPwAAAAAAAAAAAACAPwAAAD8AAAAAAAAAAA==",
        "encoding": "base64",
        "path": [
         "color_map",
         "data"
        ]
       },
       {
        "data": "",
        "encoding": "base64",
        "path": [
         "colors",
         "data"
        ]
       },
       {
        "data": "AACAPwAAAAAAAAAAAAAAAAAAAAAAAIA/AAAAAAAAAAAAAAAAAAAAAAAAgD8AAAAAAAAAAAAAAAAAAAAAAACAPw==",
        "encoding": "base64",
        "path": [
         "model_matrix",
         "data"
        ]
       },
       {
        "data": "co6DPnP7mz6IzJm+wTWCPiAUmj5PE5y+atmAPn4omD7BVZ6+5/J+PpU4lj7Hk6C+wSt8Pm5ElD5MzaK+bl15PhFMkj45AqW+94d2PolPkD54Mqe+aatzPt5Ojj70Xam+0MdwPhtKjD6WhKu+N91tPkpBij5Kpq2+retqPnc0iD75wq++P/NnPqwjhj6O2rG++/NkPvYOhD717LO+8u1hPmD2gT4Y+rW+MuFePu+zfz7jAbi+zM1bPpBzez5BBLq+0rNYPr8rdz4eAby+VJNVPpfccj5n+L2+Z2xSPjOGbj4I6r++HD9PPrEoaj7t1cG+hwtMPizEZT4EvMO+vdFIPsRYYT46nMW+1JFFPpXmXD59dse+4UtCPsBtWD66Ssm++f8+PmTuUz7hGMu+Nq47PqFoTz7h4My+rVY4PpjcSj6oos6+ePk0PmlKRj4nXtC+r5YxPjiyQT5NE9K+bC4uPiUUPT4MwtO+yMAqPlNwOD5WatW+300nPufGMz4bDNe+ytUjPgIYLz5Np9i+p1ggPspjKj7hO9q+kNYcPmGqJT7Jydu+oU8ZPu7rID74UN2++MMVPpUoHD5k0d6+sjMSPntgFz4CS+C+7J4OPsaTEj7GveG+xAULPpvCDT6nKeO+V2gHPiHtCD6cjuS+xMYDPn4TBD6c7OW+KSEAPrBr/j2eQ+e+S+/4Payo9D2ck+i+r5TxPT/e6j2N3Om+vTLqPbUM4T1sHuu+tMniPV401z0zWey+0VnbPYZVzT3bjO2+U+PTPX5wwz1hue6+e2bMPZOFuT2/3u++hePEPRSVrz3z/PC+slq9PVCfpT34E/K+Qcy1PZWkmz3NI/O+cTiuPTKlkT1vLPS+gZ+mPXahhz3dLfW+sQGfPV0zez0WKPa+Pl+XPVQcZz0ZG/e+aLiPPW3+Uj3lBvi+bQ2IPUTaPj196/i+jF6APXOwKj3hyPm+BVhxPZOBFj0Sn/q+HOxhPT9OAj0Sbvu+13lSPR4u3DzlNfy+sQFDPTO5szyN9vy+I4QzPew+izwOsP2+owEkPeOARTxsYv6+qnoUPbH76DurDf++re8EPQ3cDTvRsf++QsLqPF1FNrtyJwC/9p7LPPAx/bt0cgC/XXasPKedT7zyuQC/W0mNPJlOkLzw/QC/pjFcPLfKuLxxPgG/ScsdPB1C4bx6ewG/usK+O97ZBL0NtQG/WNYDO0UPGb0w6wG/1rLrusJALb3mHQK/lcG3u9JtQb01TQK/FUgavPeVVb0heQK/m6pYvLW4ab2voQK/YoOLvJLVfb3kxgK/fq2qvAr2iL3F6AK/3tLJvOP9kr1YBwO/vPLovBoCnb2hIgO/LgYEvXcCp72oOgO/f48TvcH+sL1wTwO/9RQjvcL2ur0BYQO/N5YyvUXqxL1gbwO/6RJCvRbZzr2UegO/tIpRvQHD2L2iggO/RP1gvdWn4r2QhwO/QWpwvWCH7L1miQO/W9F/vXNh9r0piAO/IJmHve8aAL7ggwO/UEaPvTsCBb6RfAO/FfCWvYbmCb5FcgO/S5aevbrHDr4AZQO/zDimvcOlE77KVAO/cdetvYuAGL6qQQO/GXK1vf5XHb6mKwO/oAi9vQksIr7HEgO/45rEvZj8Jr4S9wK/wSjMvZnJK76P2AK/GbLTvfmSML5GtwK/zTbbvadYNb49kwK/vLbivZIaOr57bAK/yjHqvanYPr4JQwK/2afxvd2SQ77tFgK/zRj5vR1JSL4v6AG/RkIAvlv7TL7WtgG/fPUDvoipUb7pggG//qUHvpdTVr5xTAG/vVMLvnr5Wr50EwG/sP4OviWbX7751wC/yaYSvos4ZL4JmgC//0sWvqHRaL6qWQC/Ru4Zvltmbb7lFgC/k40dvq72cb5/o/++3ikhvpGCdr6EFP++HcMkvvkJe77mgP6+RVkovt2Mf7626P2+T+wrvpoFgr4ATP2+MnwvvntChL7Uqvy+5Qgzvg19hr5ABfy+YpI2vky1iL5SW/u+nxg6vjbrir4Yrfq+lps9vsUejb6h+vm+QRtBvvdPj776Q/m+l5dEvsl+kb4xifi+kxBIvjmrk75Vyve+L4ZLvkLVlb5yB/e+ZPhOvuP8l76XQPa+LmdSvhkimr7QdfW+h9JVvuJEnL4sp/S+aTpZvjxlnr641PO+z55cviSDoL6B/vK+tv9fvpqeor6UJPK+GV1jvpu3pL79RvG+87ZmviXOpr7KZfC+QA1qvjjiqL4Ige++/l9tvtHzqr7CmO6+J69wvvACrb4Gre2+uvpzvpQPr77gvey+skJ3vrwZsb5cy+u+DId6vmYhs76G1eq+x8d9vpImtb5q3Om+b4KAvkApt74T4Oi+KR+Cvm8pub6P4Oe+DrqDvh4nu77o3ea+H1OFvk0ivb4p2OW+WuqGvv0av75fz+S+vn+IviwRwb6Uw+O+SxOKvtsEw77TtOK+AKWLvgv2xL4oo+G+3DSNvrrkxr6ejuC+38KOvunQyL4/d9++CE+Qvpm6yr4VXd6+V9mRvsuhzL4tQN2+y2GTvn2Gzr6PINy+ZOiUvrJo0L5G/tq+Im2WvmlI0r5d2dm+BfCXvqMl1L7dsdi+DHGZvmEA1r7Qh9e+OPCavqTY175BW9a+iW2cvmyu2b45LNW+/uidvruB277C+tO+mGKfvpJS3b7kxtK+V9qgvvAg376rkNG+O1Civtns4L4eWNC+RMSjvky24r5HHc++dDalvkt95L4w4M2+yqamvtdB5r7hoMy+RhWovvED6L5iX8u+6oGpvpvD6b6+G8q+teyqvtaA67771ci+qFWsvqM77b4kjse+xLytvgX07r5ARMa+CiKvvvup8L5Y+MS+eoWwvold8r50qsO+Feexvq4O9L6cWsK+3Eazvm699b7YCMG+z6S0vspp974wtb++7wC2vsMT+b6sX76+Plu3vlq7+r5UCL2+vLO4vpNg/L4vr7u+agq6vm4D/r5FVLq+SV+7vu2j/76e97i+WrK8vgmhAL8/mbe+nwO+vvBuAb8yOba+F1O/vqs7Ar9917S+xaDAvjwHA78ndLO+qOzBvqTRA783D7K+xDbDvuSaBL+0qLC+GH/EvvxiBb+lQK++psXFvu4pBr8R162+bwrHvrvvBr/9a6y+dE3IvmO0B79x/6q+to7Jvuh3CL9zkam+OM7Kvko6Cb8KIqi++QvMvov7Cb87saa++0fNvqy7Cr8NP6W+QILOvq16C7+Hy6O+ybrPvpA4DL+tVqK+l/HQvlX1DL+G4KC+rCbSvv+wDb8YaZ++CFrTvo1rDr9o8J2+rovUvgElD799dpy+nrvVvlzdD79c+5q+2unWvp6UEL8Kf5m+ZBbYvspKEb+OAZi+PEHZvt//Eb/rgpa+ZWravuCzEr8pA5W+35HbvsxmE79LgpO+rLfcvqYYFL9YAJK+ztvdvm7JFL9UfZC+Rv7eviV5Fb9E+Y6+FR/gvswnFr8udI2+PT7hvmXVFr8W7ou+v1vivvCBF78BZ4q+nHfjvm4tGL/03oi+15HkvuHXGL/0VYe+carlvkmBGb8FzIW+a8HmvqgpGr8sQYS+xtbnvv/QGr9utYK+hOrovk53G7/PKIG+p/zpvpYcHL+mNn++MA3rvtrAHL/+GXy+IBzsvhlkHb+v+3i+eSntvlUGHr/A23W+PTXuvo6nHr87unK+bT/vvsdHH78ol2++Ckjwvv/mH7+Ocmy+Fk/xvjiFIL92TGm+klTyvnQiIb/pJGa+gFjzvrK+Ib/t+2K+4lr0vvRZIr+L0V++uFv1vjr0Ir/LpVy+BVv2voeNI7+zeFm+yVj3vtslJL9NSla+B1X4vje9JL+eGlO+v0/5vpxTJb+u6U++9Ej6vgrpJb+Ft0y+pkD7voR9Jr8qhEm+2Db8vgoRJ7+kT0a+iSv9vpyjJ7/6GUO+vR7+vj01KL8y4z++dRD/vuzFKL9Uqzy+WQAAv6xVKb9ncjm+uncAv3zkKb9wODa+X+4Av15yKr93/TK+SWQBv1P/Kr+CwS++edkBv1yLK7+XhCy+7k0Cv3kWLL++Rim+qsECv62gLL/7Bya+rjQDv/YpLb9WyCK++qYDv1iyLb/Uhx++jxgEv9I5Lr98Rhy+bokEv2bALr9UBBm+l/kEvxVGL79hwRW+C2kFv97KL7+pfRK+ytcFv8VOML8zOQ++10UGv8jRML8D9Au+MLMGv+pTMb8grgi+1x8HvyzVMb+OZwW+zYsHv41VMr9VIAK+EvcHvxDVMr/wsP29p2EIv7RTM7/8H/e9jcsIv3zRM7/XjfC9xDQJv2hONL+M+um9TZ0Jv3jKNL8mZuO9KQUKv69FNb+u0Ny9WGwKvwzANb8wOta929IKv5E5Nr+zos+9szgLvz6yNr9ECsm94J0LvxUqN7/rcMK9ZAIMvxahN7+z1ru9PmYMv0MXOL+kO7W9b8kMv5yMOL/In669+SsNvyIBOb8pA6i9240Nv9Z0Ob/PZaG9F+8Nv7rnOb/Dx5q9rU8Ov81ZOr8QKZS9na8OvxHLOr+8iY296Q4Pv4Y7O7/S6Ya9kW0Pvy+rO79aSYC9lcsPvwsaPL+2UHO99ygQvxuIPL++DWa9t4UQv2D1PL/cyVi91uEQv9xhPb8ghUu9Uz0Rv4/NPb+aPz69MZgRv3o4Pr9Z+TC9b/IRv52iPr9vsiO9DkwSv/oLP7/paha9D6USv5J0P7/XIgm9c/0Sv2bcP7+RtPe8OVUTv3VDQL+ZIt28Y6wTv8KpQL/ij8K88gIUv00PQb+J/Ke85VgUvxZ0Qb+saI28Pq4Uvx/YQb/LqGW8/QIVv2k7Qr+jfzC8I1cVv/WdQr8xrPa7r6oVv8L/Qr/AWIy7pP0Vv9NgQ796FYi6AlAWvyfBQ78UmxA7yKEWv8AgRL+Sn7I7+PIWv59/RL8qeA48k0MXv8TdRL+1n0M8mJMXvzA7Rb84xng8CeMXv+SXRb/B9ZY85jEYv+HzRb+xh7E8MIAYvyhPRr/VGMw85s0Yv7mpRr8UqeY8CxsZv5UDR78snAA9nmcZv71cR79F4w09n7MZvzG1R7/JKRs9Ef8Zv/MMSL+tbyg98kkavwRkSL/mtDU9RJQav2O6SL9q+UI9B94avxIQSb8tPVA9OycbvxJlSb8lgF094m8bv2O5Sb9Hwmo9/LcbvwYNSr+JA3g9if8bv/xfSr/woYI9ikYcv0WySr+iQYk9/4wcv+IDS7/V4I896tIcv9VUS7+Df5Y9Shgdvx2lS7+pHZ09H10dv7v0S79Bu6M9bKEdv7FDTL9GWKo9L+Udv/6RTL+09LA9aigev6TfTL+GkLc9HWsev6MsTb+4K749Sa0ev/x4Tb9GxsQ97e4ev7DETb8pYMs9DDAfv78PTr9f+dE9pHAfvypaTr/jkdg9t7Afv/KjTr+xKd89RvAfvxbtTr/DwOU9UC8gv5k1T78XV+w91m0gv3t9T7+o7PI92Ksgv7zET79ygfk9WOkgv10LUL+4CgA+VSYhv15RUL9QVAM+0WIhv8GWUL9+nQY+y54hv4bbUL9A5gk+RNohv60fUb+VLg0+PRUivzdjUb97dhA+tU8ivyamUb/wvRM+rokiv3joUb/xBBc+KMMivzAqUr99Sxo+I/wiv05rUr+SkR0+oDQjv9GrUr8v1yA+oGwjv7zrUr9RHCQ+IqQjvw4rU7/4YCc+KNsjv8lpU78gpSo+sREkv+ynU7/I6C0+vkckv3jlU7/wKzE+UH0kv28iVL+UbjQ+Z7Ikv89eVL+zsDc+A+ckv5uaVL9M8jo+Jhslv9PVVL9dMz4+zk4lv3cQVb/kc0E+/oElv4hKVb/gs0Q+tLQlvwaEVb9Q80c+8+Ylv/K8Vb8xMks+uRgmv031Vb+CcE4+CEomvxctVr9BrlE+4Homv1BkVr9u61Q+Qasmv/qaVr8GKFg+LNsmvxXRVr8IZFs+oQonv6EGV79zn14+oTknv547V79F2mE+LGgnvw9wV799FGU+QpYnv/KjV78ZTmg+5MMnv0jXV78Yh2s+E/EnvxMKWL95v24+zh0ov1I8WL8593E+FkoovwZuWL9ZLnU+63UovzCfWL/VZHg+T6Eov9DPWL+umns+Qcwov+f/WL/iz34+wfYov3UvWb84AoE+0CApv3peWb8qnII+b0opv/iMWb/JNYQ+nnMpv++6Wb8Sz4U+XZwpv17oWb8FaIc+rcQpv0gVWr+iAIk+jewpv6tBWr/omIo+/xMqv4ltWr/WMIw+Azsqv+OYWr9syI0+mWEqv7jDWr+qX48+wYcqvwnuWr+N9pA+fK0qv9cXW78XjZI+y9IqvyJBW79HI5Q+rfcqv+tpW78buZU+IxwrvzGSW7+UTpc+LUArv/e5W7+w45g+zGMrvzvhW79weJo+AYcrv/8HXL/SDJw+yqkrv0MuXL/XoJ0+KswrvwdUXL99NJ8+H+4rv015XL/Ex6A+rA8svxOeXL+sWqI+zzAsv1zCXL807aM+iVEsvybmXL9cf6U+23Esv3QJXb8iEac+xZEsv0UsXb+Ioqg+R7Esv5lOXb+LM6o+YdAsv3FwXb8sxKs+Fe8sv86RXb9pVK0+Yg0tv7CyXb9E5K4+SCstvxfTXb+7c7A+yUgtvwXzXb/NArI+5GUtv3gSXr97kbM+mYItv3IxXr/DH7U+6Z4tv/RPXr+mrbY+1botv/xtXr8jO7g+XdYtv42LXr85yLk+gPEtv6eoXr/oVLs+QAwuv0nFXr8w4bw+nCYuv3ThXr8Qbb4+lUAuvyn9Xr+H+L8+LFouv2kYX7+Wg8E+YHMuvzIzX788DsM+Mowuv4dNX794mMQ+oqQuv2dnX79LIsY+sbwuv9OAX7+zq8c+XtQuv8uZX7+wNMk+q+suv0+yX79Cvco+lwIvv2HKX79pRcw+Ixkvv//hX78jzc0+Ty8vvyz5X79yVM8+G0Uvv+YPYL9T29A+iFovvy8mYL/IYdI+lm8vvwg8YL/P59M+RoQvv29RYL9pbdU+lpgvv2ZmYL+U8tY+iawvv+16YL9Qd9g+HsAvvwWPYL+e+9k+VdMvv62iYL99f9s+L+Yvv+e1YL/sAt0+rPgvv7LIYL/qhd4+zAowvw/bYL95COA+kBwwv//sYL+XiuE++C0wv4H+YL9EDOM+BD8wv5cPYb9/jeQ+tE8wv0AgYb9JDuY+CmAwv30wYb+hjuc+BHAwv05AYb+GDuk+o38wv7NPYb/5jeo+6I4wv65eYb/5DOw+050wvz5tYb+Fi+0+ZKwwv2N7Yb+eCe8+m7owvx+JYb9Dh/A+ecgwv3GWYb9zBPI+/tUwv1mjYb8vgfM+KuMwv9mvYb92/fQ+/e8wv/C7Yb9IefY+ePwwv6DHYb+l9Pc+mwgxv+fSYb+Mb/k+ZxQxv8fdYb/86fo+2x8xvz/oYb/3Y/w++Coxv1HyYb963f0+vjUxv/z7Yb+HVv8+LUAxv0IFYr+OZwA/RkoxvyEOYr+eIwE/CFQxv5sWYr9x3wE/dV0xv7AeYr8ImwI/jGYxv2AmYr9kVgM/Tm8xv6wtYr+DEQQ/u3cxv5M0Yr9lzAQ/038xvxY7Yr8MhwU/l4cxvzZBYr92QQY/Bo8xv/JGYr+k+wY/IpYxv0xMYr+VtQc/6pwxv0NRYr9Jbwg/X6Mxv9hVYr/AKAk/gKkxvwxaYr/64Qk/T68xv95dYr/4mgo/y7Qxv09hYr+3Uws/9bkxv19kYr86DAw/zb4xvw9nYr9/xAw/U8Mxv19pYr+GfA0/iMcxv09rYr9QNA4/a8sxv+BsYr/c6w4//c4xvxJuYr8qow8/P9Ixv+VuYr85WhA/L9Uxv1lvYr8LERE/0Ncxv29vYr+exxE/INoxvyhvYr/zfRI/Idwxv4JuYr8KNBM/0d0xv4BtYr/h6RM/M98xvyFsYr96nxQ/ReAxv2VqYr/VVBU/CeExv0xoYr/wCRY/feExv9hlYr/MvhY/pOExvwdjYr9qcxc/fOExv9xfYr/IJxg/BuExv1VcYr/n2xg/",
        "encoding": "base64",
        "path": [
         "vertices",
         "data"
        ]
       }
      ],
      "model_module": "k3d",
      "model_module_version": "2.9.0",
      "model_name": "ObjectModel",
      "state": {
       "_color_range_high": 0.1,
       "_color_range_low": 0,
       "_view_count": null,
       "_view_module": null,
       "_view_module_version": "",
       "_view_name": null,
       "attribute": {
        "dtype": "float32",
        "shape": [
         500
        ]
       },
       "color": 255,
       "colorLegend": false,
       "color_map": {
        "dtype": "float32",
        "shape": [
         28
        ]
       },
       "color_range": [
        0,
        0.1
       ],
       "colors": {
        "dtype": "uint32",
        "shape": [
         0
        ]
       },
       "compression_level": 0,
       "id": 4826737488,
       "model_matrix": {
        "dtype": "float32",
        "shape": [
         4,
         4
        ]
       },
       "name": "Line #16",
       "radial_segments": 8,
       "shader": "mesh",
       "type": "Line",
       "vertices": {
        "dtype": "float32",
        "shape": [
         500,
         3
        ]
       },
       "visible": true,
       "width": 0.0025
      }
     },
     "37155ab7fd074a45be59e406e377e400": {
      "buffers": [
       {
        "data": "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",
        "encoding": "base64",
        "path": [
         "attribute",
         "data"
        ]
       },
       {
        "data": "AACAvwAAAAAAAAAAAAAQP3YcR78AAAAAAAAAAAAAgD+ZKIq+AAAAAAAAgD8AAIA/GAiCvAAAAD8AAIA/AAAAPy3Pcz4AAIA/AACAPwAAAAD0+z4/AACAPwAAAAAAAAAAAACAPwAAAD8AAAAAAAAAAA==",
        "encoding": "base64",
        "path": [
         "color_map",
         "data"
        ]
       },
       {
        "data": "",
        "encoding": "base64",
        "path": [
         "colors",
         "data"
        ]
       },
       {
        "data": "AACAPwAAAAAAAAAAAAAAAAAAAAAAAIA/AAAAAAAAAAAAAAAAAAAAAAAAgD8AAAAAAAAAAAAAAAAAAAAAAACAPw==",
        "encoding": "base64",
        "path": [
         "model_matrix",
         "data"
        ]
       },
       {
        "data": "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",
        "encoding": "base64",
        "path": [
         "vertices",
         "data"
        ]
       }
      ],
      "model_module": "k3d",
      "model_module_version": "2.9.0",
      "model_name": "ObjectModel",
      "state": {
       "_color_range_high": 0.1,
       "_color_range_low": 0,
       "_view_count": null,
       "_view_module": null,
       "_view_module_version": "",
       "_view_name": null,
       "attribute": {
        "dtype": "float32",
        "shape": [
         500
        ]
       },
       "color": 255,
       "colorLegend": false,
       "color_map": {
        "dtype": "float32",
        "shape": [
         28
        ]
       },
       "color_range": [
        0,
        0.1
       ],
       "colors": {
        "dtype": "uint32",
        "shape": [
         0
        ]
       },
       "compression_level": 0,
       "id": 4826865296,
       "model_matrix": {
        "dtype": "float32",
        "shape": [
         4,
         4
        ]
       },
       "name": "Line #19",
       "radial_segments": 8,
       "shader": "mesh",
       "type": "Line",
       "vertices": {
        "dtype": "float32",
        "shape": [
         500,
         3
        ]
       },
       "visible": true,
       "width": 0.0025
      }
     },
     "3bb1b87bf7234b329b05aa4efa24abd7": {
      "buffers": [
       {
        "data": "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",
        "encoding": "base64",
        "path": [
         "attribute",
         "data"
        ]
       },
       {
        "data": "AACAvwAAAAAAAAAAAAAQP3YcR78AAAAAAAAAAAAAgD+ZKIq+AAAAAAAAgD8AAIA/GAiCvAAAAD8AAIA/AAAAPy3Pcz4AAIA/AACAPwAAAAD0+z4/AACAPwAAAAAAAAAAAACAPwAAAD8AAAAAAAAAAA==",
        "encoding": "base64",
        "path": [
         "color_map",
         "data"
        ]
       },
       {
        "data": "",
        "encoding": "base64",
        "path": [
         "colors",
         "data"
        ]
       },
       {
        "data": "AACAPwAAAAAAAAAAAAAAAAAAAAAAAIA/AAAAAAAAAAAAAAAAAAAAAAAAgD8AAAAAAAAAAAAAAAAAAAAAAACAPw==",
        "encoding": "base64",
        "path": [
         "model_matrix",
         "data"
        ]
       },
       {
        "data": "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",
        "encoding": "base64",
        "path": [
         "vertices",
         "data"
        ]
       }
      ],
      "model_module": "k3d",
      "model_module_version": "2.9.0",
      "model_name": "ObjectModel",
      "state": {
       "_color_range_high": 0.1,
       "_color_range_low": 0,
       "_view_count": null,
       "_view_module": null,
       "_view_module_version": "",
       "_view_name": null,
       "attribute": {
        "dtype": "float32",
        "shape": [
         500
        ]
       },
       "color": 255,
       "colorLegend": false,
       "color_map": {
        "dtype": "float32",
        "shape": [
         28
        ]
       },
       "color_range": [
        0,
        0.1
       ],
       "colors": {
        "dtype": "uint32",
        "shape": [
         0
        ]
       },
       "compression_level": 0,
       "id": 4826999824,
       "model_matrix": {
        "dtype": "float32",
        "shape": [
         4,
         4
        ]
       },
       "name": "Line #45",
       "radial_segments": 8,
       "shader": "mesh",
       "type": "Line",
       "vertices": {
        "dtype": "float32",
        "shape": [
         500,
         3
        ]
       },
       "visible": true,
       "width": 0.0025
      }
     },
     "4015a7f57ece47e099d8a590cf67ec9f": {
      "buffers": [
       {
        "data": "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",
        "encoding": "base64",
        "path": [
         "attribute",
         "data"
        ]
       },
       {
        "data": "AACAvwAAAAAAAAAAAAAQP3YcR78AAAAAAAAAAAAAgD+ZKIq+AAAAAAAAgD8AAIA/GAiCvAAAAD8AAIA/AAAAPy3Pcz4AAIA/AACAPwAAAAD0+z4/AACAPwAAAAAAAAAAAACAPwAAAD8AAAAAAAAAAA==",
        "encoding": "base64",
        "path": [
         "color_map",
         "data"
        ]
       },
       {
        "data": "",
        "encoding": "base64",
        "path": [
         "colors",
         "data"
        ]
       },
       {
        "data": "AACAPwAAAAAAAAAAAAAAAAAAAAAAAIA/AAAAAAAAAAAAAAAAAAAAAAAAgD8AAAAAAAAAAAAAAAAAAAAAAACAPw==",
        "encoding": "base64",
        "path": [
         "model_matrix",
         "data"
        ]
       },
       {
        "data": "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",
        "encoding": "base64",
        "path": [
         "vertices",
         "data"
        ]
       }
      ],
      "model_module": "k3d",
      "model_module_version": "2.9.0",
      "model_name": "ObjectModel",
      "state": {
       "_color_range_high": 0.1,
       "_color_range_low": 0,
       "_view_count": null,
       "_view_module": null,
       "_view_module_version": "",
       "_view_name": null,
       "attribute": {
        "dtype": "float32",
        "shape": [
         500
        ]
       },
       "color": 255,
       "colorLegend": false,
       "color_map": {
        "dtype": "float32",
        "shape": [
         28
        ]
       },
       "color_range": [
        0,
        0.1
       ],
       "colors": {
        "dtype": "uint32",
        "shape": [
         0
        ]
       },
       "compression_level": 0,
       "id": 4826907600,
       "model_matrix": {
        "dtype": "float32",
        "shape": [
         4,
         4
        ]
       },
       "name": "Line #35",
       "radial_segments": 8,
       "shader": "mesh",
       "type": "Line",
       "vertices": {
        "dtype": "float32",
        "shape": [
         500,
         3
        ]
       },
       "visible": true,
       "width": 0.0025
      }
     },
     "44641aa8d72f4a0780bf1376104a7c39": {
      "buffers": [
       {
        "data": "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",
        "encoding": "base64",
        "path": [
         "attribute",
         "data"
        ]
       },
       {
        "data": "AACAvwAAAAAAAAAAAAAQP3YcR78AAAAAAAAAAAAAgD+ZKIq+AAAAAAAAgD8AAIA/GAiCvAAAAD8AAIA/AAAAPy3Pcz4AAIA/AACAPwAAAAD0+z4/AACAPwAAAAAAAAAAAACAPwAAAD8AAAAAAAAAAA==",
        "encoding": "base64",
        "path": [
         "color_map",
         "data"
        ]
       },
       {
        "data": "",
        "encoding": "base64",
        "path": [
         "colors",
         "data"
        ]
       },
       {
        "data": "AACAPwAAAAAAAAAAAAAAAAAAAAAAAIA/AAAAAAAAAAAAAAAAAAAAAAAAgD8AAAAAAAAAAAAAAAAAAAAAAACAPw==",
        "encoding": "base64",
        "path": [
         "model_matrix",
         "data"
        ]
       },
       {
        "data": "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",
        "encoding": "base64",
        "path": [
         "vertices",
         "data"
        ]
       }
      ],
      "model_module": "k3d",
      "model_module_version": "2.9.0",
      "model_name": "ObjectModel",
      "state": {
       "_color_range_high": 0.1,
       "_color_range_low": 0,
       "_view_count": null,
       "_view_module": null,
       "_view_module_version": "",
       "_view_name": null,
       "attribute": {
        "dtype": "float32",
        "shape": [
         500
        ]
       },
       "color": 255,
       "colorLegend": false,
       "color_map": {
        "dtype": "float32",
        "shape": [
         28
        ]
       },
       "color_range": [
        0,
        0.1
       ],
       "colors": {
        "dtype": "uint32",
        "shape": [
         0
        ]
       },
       "compression_level": 0,
       "id": 4826862352,
       "model_matrix": {
        "dtype": "float32",
        "shape": [
         4,
         4
        ]
       },
       "name": "Line #13",
       "radial_segments": 8,
       "shader": "mesh",
       "type": "Line",
       "vertices": {
        "dtype": "float32",
        "shape": [
         500,
         3
        ]
       },
       "visible": true,
       "width": 0.0025
      }
     },
     "47173aebcc2e485e8ba596aca7e5e3e6": {
      "buffers": [
       {
        "data": "avH9PR/x/T3V8P09ivD9PUDw/T337/09ru/9PWXv/T0c7/091O79PYzu/T1E7v09/e39Pbbt/T1v7f09Ke39PePs/T2d7P09WOz9PRPs/T3O6/09iev9PUXr/T0B6/09ver9PXrq/T036v099On9PbHp/T1v6f09Len9Pevo/T2q6P09aej9PSjo/T3n5/09p+f9PWfn/T0n5/096Ob9Pajm/T1p5v09K+b9Pezl/T2u5f09cOX9PTLl/T315P09uOT9PXvk/T0+5P09AeT9PcXj/T2J4/09TeP9PRLj/T3X4v09nOL9PWHi/T0m4v097OH9PbLh/T144f09PuH9PQXh/T3M4P09k+D9PVrg/T0i4P096d/9PbHf/T153/09Qt/9PQrf/T3T3v09nN79PWXe/T0v3v09+N39PcLd/T2M3f09V939PSHd/T3s3P09t9z9PYLc/T1N3P09GNz9PeTb/T2w2/09fNv9PUjb/T0V2/094dr9Pa7a/T172v09SNr9PRba/T3j2f09sdn9PX/Z/T1N2f09HNn9PerY/T252P09iNj9PVfY/T0m2P099df9PcXX/T2V1/09Zdf9PTXX/T0F1/091tb9PabW/T131v09SNb9PRnW/T3q1f09vNX9PY3V/T1f1f09MdX9PQPV/T3W1P09qNT9PXvU/T1N1P09INT9PfPT/T3H0/09mtP9PW3T/T1B0/09FdP9PenS/T290v09kdL9PWbS/T070v09D9L9PeTR/T250f09jtH9PWTR/T050f09D9H9PeXQ/T270P09kdD9PWfQ/T090P09FND9PerP/T3Bz/09mM/9PW/P/T1Gz/09Hc/9PfXO/T3Mzv09pM79PXzO/T1Uzv09LM79PQTO/T3dzf09tc39PY7N/T1mzf09P839PRjN/T3xzP09y8z9PaTM/T1+zP09V8z9PTHM/T0LzP095cv9Pb/L/T2Zy/09dMv9PU7L/T0py/09A8v9Pd7K/T25yv09lMr9PW/K/T1Lyv09Jsr9PQLK/T3dyf09ucn9PZXJ/T1xyf09Tcn9PSnJ/T0Gyf094sj9Pb/I/T2byP09eMj9PVXI/T0yyP09D8j9PezH/T3Jx/09p8f9PYTH/T1ix/09QMf9PR7H/T37xv092sb9PbjG/T2Wxv09dMb9PVPG/T0xxv09EMb9Pe/F/T3Oxf09rMX9PYvF/T1rxf09SsX9PSnF/T0Jxf096MT9PcjE/T2oxP09h8T9PWfE/T1HxP09J8T9PQjE/T3ow/09yMP9PanD/T2Jw/09asP9PUvD/T0sw/09DcP9Pe7C/T3Pwv09sML9PZHC/T1zwv09VML9PTbC/T0Xwv09+cH9PdvB/T29wf09n8H9PYHB/T1jwf09RcH9PSfB/T0Kwf097MD9Pc/A/T2ywP09lMD9PXfA/T1awP09PcD9PSDA/T0DwP0957/9Pcq//T2tv/09kb/9PXS//T1Yv/09PL/9PR+//T0Dv/095779Pcu+/T2vvv09k779PXi+/T1cvv09QL79PSW+/T0Jvv097r39PdO9/T24vf09nL39PYG9/T1mvf09S739PTG9/T0Wvf09+7z9PeC8/T3GvP09q7z9PZG8/T13vP09XLz9PUK8/T0ovP09Drz9PfS7/T3au/09wLv9Paa7/T2Mu/09c7v9PVm7/T1Au/09Jrv9PQ27/T3zuv092rr9PcG6/T2ouv09j7r9PXa6/T1duv09RLr9PSu6/T0Suv09+rn9PeG5/T3Juf09sLn9PZi5/T1/uf09Z7n9PU+5/T03uf09Hrn9PQa5/T3uuP091rj9Pb+4/T2nuP09j7j9PXe4/T1guP09SLj9PTG4/T0ZuP09Arj9Peq3/T3Tt/09vLf9PaW3/T2Ot/09d7f9PWC3/T1Jt/09Mrf9PRu3/T0Et/097rb9Pde2/T3Atv09qrb9PZO2/T19tv09Z7b9PVC2/T06tv09JLb9PQ62/T34tf094rX9Pcy1/T22tf09oLX9PYq1/T10tf09XrX9PUm1/T0ztf09HrX9PQi1/T3ztP093bT9Pci0/T2ztP09nbT9PYi0/T1ztP09XrT9PUm0/T00tP09H7T9PQq0/T31s/094LP9Pcyz/T23s/09orP9PY6z/T15s/09ZbP9PVCz/T08s/09J7P9PROz/T3/sv096rL9Pday/T3Csv09rrL9PZqy/T2Gsv09crL9PV6y/T1Ksv09N7L9PSOy/T0Psv09+7H9Peix/T3Usf09wbH9Pa2x/T2asf09hrH9PXOx/T1gsf09TbH9PTmx/T0msf09E7H9PQCx/T3tsP092rD9Pcew/T20sP09obD9PY6w/T17sP09abD9PVaw/T1DsP09MbD9PR6w/T0MsP09+a/9Peev/T3Ur/09wq/9PbCv/T2dr/09i6/9PXmv/T1nr/09Va/9PUKv/T0wr/09Hq/9PQyv/T37rv096a79Pdeu/T3Frv09s679PaGu/T2Qrv09fq79PW2u/T1brv09Sa79PTiu/T0mrv09Fa79PQSu/T3yrf094a39PdCt/T2+rf09ra39PZyt/T2Lrf09eq39PWmt/T1Yrf09R639PTat/T0lrf09FK39PQOt/T3zrP094qz9PdGs/T3ArP09sKz9PZ+s/T0=",
        "encoding": "base64",
        "path": [
         "attribute",
         "data"
        ]
       },
       {
        "data": "AACAvwAAAAAAAAAAAAAQP3YcR78AAAAAAAAAAAAAgD+ZKIq+AAAAAAAAgD8AAIA/GAiCvAAAAD8AAIA/AAAAPy3Pcz4AAIA/AACAPwAAAAD0+z4/AACAPwAAAAAAAAAAAACAPwAAAD8AAAAAAAAAAA==",
        "encoding": "base64",
        "path": [
         "color_map",
         "data"
        ]
       },
       {
        "data": "",
        "encoding": "base64",
        "path": [
         "colors",
         "data"
        ]
       },
       {
        "data": "AACAPwAAAAAAAAAAAAAAAAAAAAAAAIA/AAAAAAAAAAAAAAAAAAAAAAAAgD8AAAAAAAAAAAAAAAAAAAAAAACAPw==",
        "encoding": "base64",
        "path": [
         "model_matrix",
         "data"
        ]
       },
       {
        "data": "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",
        "encoding": "base64",
        "path": [
         "vertices",
         "data"
        ]
       }
      ],
      "model_module": "k3d",
      "model_module_version": "2.9.0",
      "model_name": "ObjectModel",
      "state": {
       "_color_range_high": 0.1,
       "_color_range_low": 0,
       "_view_count": null,
       "_view_module": null,
       "_view_module_version": "",
       "_view_name": null,
       "attribute": {
        "dtype": "float32",
        "shape": [
         500
        ]
       },
       "color": 255,
       "colorLegend": false,
       "color_map": {
        "dtype": "float32",
        "shape": [
         28
        ]
       },
       "color_range": [
        0,
        0.1
       ],
       "colors": {
        "dtype": "uint32",
        "shape": [
         0
        ]
       },
       "compression_level": 0,
       "id": 4827017296,
       "model_matrix": {
        "dtype": "float32",
        "shape": [
         4,
         4
        ]
       },
       "name": "Line #33",
       "radial_segments": 8,
       "shader": "mesh",
       "type": "Line",
       "vertices": {
        "dtype": "float32",
        "shape": [
         500,
         3
        ]
       },
       "visible": true,
       "width": 0.0025
      }
     },
     "4e1f16856ad04237a83a5d9abe4b46f8": {
      "buffers": [
       {
        "data": "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",
        "encoding": "base64",
        "path": [
         "attribute",
         "data"
        ]
       },
       {
        "data": "AACAvwAAAAAAAAAAAAAQP3YcR78AAAAAAAAAAAAAgD+ZKIq+AAAAAAAAgD8AAIA/GAiCvAAAAD8AAIA/AAAAPy3Pcz4AAIA/AACAPwAAAAD0+z4/AACAPwAAAAAAAAAAAACAPwAAAD8AAAAAAAAAAA==",
        "encoding": "base64",
        "path": [
         "color_map",
         "data"
        ]
       },
       {
        "data": "",
        "encoding": "base64",
        "path": [
         "colors",
         "data"
        ]
       },
       {
        "data": "AACAPwAAAAAAAAAAAAAAAAAAAAAAAIA/AAAAAAAAAAAAAAAAAAAAAAAAgD8AAAAAAAAAAAAAAAAAAAAAAACAPw==",
        "encoding": "base64",
        "path": [
         "model_matrix",
         "data"
        ]
       },
       {
        "data": "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",
        "encoding": "base64",
        "path": [
         "vertices",
         "data"
        ]
       }
      ],
      "model_module": "k3d",
      "model_module_version": "2.9.0",
      "model_name": "ObjectModel",
      "state": {
       "_color_range_high": 0.1,
       "_color_range_low": 0,
       "_view_count": null,
       "_view_module": null,
       "_view_module_version": "",
       "_view_name": null,
       "attribute": {
        "dtype": "float32",
        "shape": [
         500
        ]
       },
       "color": 255,
       "colorLegend": false,
       "color_map": {
        "dtype": "float32",
        "shape": [
         28
        ]
       },
       "color_range": [
        0,
        0.1
       ],
       "colors": {
        "dtype": "uint32",
        "shape": [
         0
        ]
       },
       "compression_level": 0,
       "id": 4427610192,
       "model_matrix": {
        "dtype": "float32",
        "shape": [
         4,
         4
        ]
       },
       "name": "Line #14",
       "radial_segments": 8,
       "shader": "mesh",
       "type": "Line",
       "vertices": {
        "dtype": "float32",
        "shape": [
         500,
         3
        ]
       },
       "visible": true,
       "width": 0.0025
      }
     },
     "4f63f5b638ac486592f5e58a0391e912": {
      "buffers": [
       {
        "data": "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",
        "encoding": "base64",
        "path": [
         "attribute",
         "data"
        ]
       },
       {
        "data": "AACAvwAAAAAAAAAAAAAQP3YcR78AAAAAAAAAAAAAgD+ZKIq+AAAAAAAAgD8AAIA/GAiCvAAAAD8AAIA/AAAAPy3Pcz4AAIA/AACAPwAAAAD0+z4/AACAPwAAAAAAAAAAAACAPwAAAD8AAAAAAAAAAA==",
        "encoding": "base64",
        "path": [
         "color_map",
         "data"
        ]
       },
       {
        "data": "",
        "encoding": "base64",
        "path": [
         "colors",
         "data"
        ]
       },
       {
        "data": "AACAPwAAAAAAAAAAAAAAAAAAAAAAAIA/AAAAAAAAAAAAAAAAAAAAAAAAgD8AAAAAAAAAAAAAAAAAAAAAAACAPw==",
        "encoding": "base64",
        "path": [
         "model_matrix",
         "data"
        ]
       },
       {
        "data": "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",
        "encoding": "base64",
        "path": [
         "vertices",
         "data"
        ]
       }
      ],
      "model_module": "k3d",
      "model_module_version": "2.9.0",
      "model_name": "ObjectModel",
      "state": {
       "_color_range_high": 0.1,
       "_color_range_low": 0,
       "_view_count": null,
       "_view_module": null,
       "_view_module_version": "",
       "_view_name": null,
       "attribute": {
        "dtype": "float32",
        "shape": [
         500
        ]
       },
       "color": 255,
       "colorLegend": false,
       "color_map": {
        "dtype": "float32",
        "shape": [
         28
        ]
       },
       "color_range": [
        0,
        0.1
       ],
       "colors": {
        "dtype": "uint32",
        "shape": [
         0
        ]
       },
       "compression_level": 0,
       "id": 4827018576,
       "model_matrix": {
        "dtype": "float32",
        "shape": [
         4,
         4
        ]
       },
       "name": "Line #29",
       "radial_segments": 8,
       "shader": "mesh",
       "type": "Line",
       "vertices": {
        "dtype": "float32",
        "shape": [
         500,
         3
        ]
       },
       "visible": true,
       "width": 0.0025
      }
     },
     "533971e90176420cadd5f642a9786519": {
      "buffers": [
       {
        "data": "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",
        "encoding": "base64",
        "path": [
         "attribute",
         "data"
        ]
       },
       {
        "data": "AACAvwAAAAAAAAAAAAAQP3YcR78AAAAAAAAAAAAAgD+ZKIq+AAAAAAAAgD8AAIA/GAiCvAAAAD8AAIA/AAAAPy3Pcz4AAIA/AACAPwAAAAD0+z4/AACAPwAAAAAAAAAAAACAPwAAAD8AAAAAAAAAAA==",
        "encoding": "base64",
        "path": [
         "color_map",
         "data"
        ]
       },
       {
        "data": "",
        "encoding": "base64",
        "path": [
         "colors",
         "data"
        ]
       },
       {
        "data": "AACAPwAAAAAAAAAAAAAAAAAAAAAAAIA/AAAAAAAAAAAAAAAAAAAAAAAAgD8AAAAAAAAAAAAAAAAAAAAAAACAPw==",
        "encoding": "base64",
        "path": [
         "model_matrix",
         "data"
        ]
       },
       {
        "data": "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",
        "encoding": "base64",
        "path": [
         "vertices",
         "data"
        ]
       }
      ],
      "model_module": "k3d",
      "model_module_version": "2.9.0",
      "model_name": "ObjectModel",
      "state": {
       "_color_range_high": 0.1,
       "_color_range_low": 0,
       "_view_count": null,
       "_view_module": null,
       "_view_module_version": "",
       "_view_name": null,
       "attribute": {
        "dtype": "float32",
        "shape": [
         500
        ]
       },
       "color": 255,
       "colorLegend": true,
       "color_map": {
        "dtype": "float32",
        "shape": [
         28
        ]
       },
       "color_range": [
        0,
        0.1
       ],
       "colors": {
        "dtype": "uint32",
        "shape": [
         0
        ]
       },
       "compression_level": 0,
       "id": 4826735504,
       "model_matrix": {
        "dtype": "float32",
        "shape": [
         4,
         4
        ]
       },
       "name": "Line #1",
       "radial_segments": 8,
       "shader": "mesh",
       "type": "Line",
       "vertices": {
        "dtype": "float32",
        "shape": [
         500,
         3
        ]
       },
       "visible": true,
       "width": 0.0025
      }
     },
     "5681144d6e49490b869f6c78387326ce": {
      "buffers": [
       {
        "data": "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",
        "encoding": "base64",
        "path": [
         "attribute",
         "data"
        ]
       },
       {
        "data": "AACAvwAAAAAAAAAAAAAQP3YcR78AAAAAAAAAAAAAgD+ZKIq+AAAAAAAAgD8AAIA/GAiCvAAAAD8AAIA/AAAAPy3Pcz4AAIA/AACAPwAAAAD0+z4/AACAPwAAAAAAAAAAAACAPwAAAD8AAAAAAAAAAA==",
        "encoding": "base64",
        "path": [
         "color_map",
         "data"
        ]
       },
       {
        "data": "",
        "encoding": "base64",
        "path": [
         "colors",
         "data"
        ]
       },
       {
        "data": "AACAPwAAAAAAAAAAAAAAAAAAAAAAAIA/AAAAAAAAAAAAAAAAAAAAAAAAgD8AAAAAAAAAAAAAAAAAAAAAAACAPw==",
        "encoding": "base64",
        "path": [
         "model_matrix",
         "data"
        ]
       },
       {
        "data": "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",
        "encoding": "base64",
        "path": [
         "vertices",
         "data"
        ]
       }
      ],
      "model_module": "k3d",
      "model_module_version": "2.9.0",
      "model_name": "ObjectModel",
      "state": {
       "_color_range_high": 0.1,
       "_color_range_low": 0,
       "_view_count": null,
       "_view_module": null,
       "_view_module_version": "",
       "_view_name": null,
       "attribute": {
        "dtype": "float32",
        "shape": [
         500
        ]
       },
       "color": 255,
       "colorLegend": false,
       "color_map": {
        "dtype": "float32",
        "shape": [
         28
        ]
       },
       "color_range": [
        0,
        0.1
       ],
       "colors": {
        "dtype": "uint32",
        "shape": [
         0
        ]
       },
       "compression_level": 0,
       "id": 4826998800,
       "model_matrix": {
        "dtype": "float32",
        "shape": [
         4,
         4
        ]
       },
       "name": "Line #43",
       "radial_segments": 8,
       "shader": "mesh",
       "type": "Line",
       "vertices": {
        "dtype": "float32",
        "shape": [
         500,
         3
        ]
       },
       "visible": true,
       "width": 0.0025
      }
     },
     "5fb802ba3af34e40a85acb5430115a48": {
      "buffers": [
       {
        "data": "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",
        "encoding": "base64",
        "path": [
         "attribute",
         "data"
        ]
       },
       {
        "data": "AACAvwAAAAAAAAAAAAAQP3YcR78AAAAAAAAAAAAAgD+ZKIq+AAAAAAAAgD8AAIA/GAiCvAAAAD8AAIA/AAAAPy3Pcz4AAIA/AACAPwAAAAD0+z4/AACAPwAAAAAAAAAAAACAPwAAAD8AAAAAAAAAAA==",
        "encoding": "base64",
        "path": [
         "color_map",
         "data"
        ]
       },
       {
        "data": "",
        "encoding": "base64",
        "path": [
         "colors",
         "data"
        ]
       },
       {
        "data": "AACAPwAAAAAAAAAAAAAAAAAAAAAAAIA/AAAAAAAAAAAAAAAAAAAAAAAAgD8AAAAAAAAAAAAAAAAAAAAAAACAPw==",
        "encoding": "base64",
        "path": [
         "model_matrix",
         "data"
        ]
       },
       {
        "data": "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",
        "encoding": "base64",
        "path": [
         "vertices",
         "data"
        ]
       }
      ],
      "model_module": "k3d",
      "model_module_version": "2.9.0",
      "model_name": "ObjectModel",
      "state": {
       "_color_range_high": 0.1,
       "_color_range_low": 0,
       "_view_count": null,
       "_view_module": null,
       "_view_module_version": "",
       "_view_name": null,
       "attribute": {
        "dtype": "float32",
        "shape": [
         500
        ]
       },
       "color": 255,
       "colorLegend": false,
       "color_map": {
        "dtype": "float32",
        "shape": [
         28
        ]
       },
       "color_range": [
        0,
        0.1
       ],
       "colors": {
        "dtype": "uint32",
        "shape": [
         0
        ]
       },
       "compression_level": 0,
       "id": 4826737296,
       "model_matrix": {
        "dtype": "float32",
        "shape": [
         4,
         4
        ]
       },
       "name": "Line #5",
       "radial_segments": 8,
       "shader": "mesh",
       "type": "Line",
       "vertices": {
        "dtype": "float32",
        "shape": [
         500,
         3
        ]
       },
       "visible": true,
       "width": 0.0025
      }
     },
     "607167ef5ada4a03942a98de1a6b3702": {
      "buffers": [
       {
        "data": "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",
        "encoding": "base64",
        "path": [
         "attribute",
         "data"
        ]
       },
       {
        "data": "AACAvwAAAAAAAAAAAAAQP3YcR78AAAAAAAAAAAAAgD+ZKIq+AAAAAAAAgD8AAIA/GAiCvAAAAD8AAIA/AAAAPy3Pcz4AAIA/AACAPwAAAAD0+z4/AACAPwAAAAAAAAAAAACAPwAAAD8AAAAAAAAAAA==",
        "encoding": "base64",
        "path": [
         "color_map",
         "data"
        ]
       },
       {
        "data": "",
        "encoding": "base64",
        "path": [
         "colors",
         "data"
        ]
       },
       {
        "data": "AACAPwAAAAAAAAAAAAAAAAAAAAAAAIA/AAAAAAAAAAAAAAAAAAAAAAAAgD8AAAAAAAAAAAAAAAAAAAAAAACAPw==",
        "encoding": "base64",
        "path": [
         "model_matrix",
         "data"
        ]
       },
       {
        "data": "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",
        "encoding": "base64",
        "path": [
         "vertices",
         "data"
        ]
       }
      ],
      "model_module": "k3d",
      "model_module_version": "2.9.0",
      "model_name": "ObjectModel",
      "state": {
       "_color_range_high": 0.1,
       "_color_range_low": 0,
       "_view_count": null,
       "_view_module": null,
       "_view_module_version": "",
       "_view_name": null,
       "attribute": {
        "dtype": "float32",
        "shape": [
         500
        ]
       },
       "color": 255,
       "colorLegend": false,
       "color_map": {
        "dtype": "float32",
        "shape": [
         28
        ]
       },
       "color_range": [
        0,
        0.1
       ],
       "colors": {
        "dtype": "uint32",
        "shape": [
         0
        ]
       },
       "compression_level": 0,
       "id": 4827125072,
       "model_matrix": {
        "dtype": "float32",
        "shape": [
         4,
         4
        ]
       },
       "name": "Line #47",
       "radial_segments": 8,
       "shader": "mesh",
       "type": "Line",
       "vertices": {
        "dtype": "float32",
        "shape": [
         500,
         3
        ]
       },
       "visible": true,
       "width": 0.0025
      }
     },
     "64b42ef5e03143b39d65ebab0f722b18": {
      "buffers": [
       {
        "data": "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",
        "encoding": "base64",
        "path": [
         "attribute",
         "data"
        ]
       },
       {
        "data": "AACAvwAAAAAAAAAAAAAQP3YcR78AAAAAAAAAAAAAgD+ZKIq+AAAAAAAAgD8AAIA/GAiCvAAAAD8AAIA/AAAAPy3Pcz4AAIA/AACAPwAAAAD0+z4/AACAPwAAAAAAAAAAAACAPwAAAD8AAAAAAAAAAA==",
        "encoding": "base64",
        "path": [
         "color_map",
         "data"
        ]
       },
       {
        "data": "",
        "encoding": "base64",
        "path": [
         "colors",
         "data"
        ]
       },
       {
        "data": "AACAPwAAAAAAAAAAAAAAAAAAAAAAAIA/AAAAAAAAAAAAAAAAAAAAAAAAgD8AAAAAAAAAAAAAAAAAAAAAAACAPw==",
        "encoding": "base64",
        "path": [
         "model_matrix",
         "data"
        ]
       },
       {
        "data": "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",
        "encoding": "base64",
        "path": [
         "vertices",
         "data"
        ]
       }
      ],
      "model_module": "k3d",
      "model_module_version": "2.9.0",
      "model_name": "ObjectModel",
      "state": {
       "_color_range_high": 0.1,
       "_color_range_low": 0,
       "_view_count": null,
       "_view_module": null,
       "_view_module_version": "",
       "_view_name": null,
       "attribute": {
        "dtype": "float32",
        "shape": [
         500
        ]
       },
       "color": 255,
       "colorLegend": false,
       "color_map": {
        "dtype": "float32",
        "shape": [
         28
        ]
       },
       "color_range": [
        0,
        0.1
       ],
       "colors": {
        "dtype": "uint32",
        "shape": [
         0
        ]
       },
       "compression_level": 0,
       "id": 4826735696,
       "model_matrix": {
        "dtype": "float32",
        "shape": [
         4,
         4
        ]
       },
       "name": "Line #20",
       "radial_segments": 8,
       "shader": "mesh",
       "type": "Line",
       "vertices": {
        "dtype": "float32",
        "shape": [
         500,
         3
        ]
       },
       "visible": true,
       "width": 0.0025
      }
     },
     "77e8ce8e01d24673939e21ce116b4692": {
      "buffers": [
       {
        "data": "",
        "encoding": "base64",
        "path": [
         "colors",
         "data"
        ]
       },
       {
        "data": "AACAPwAAAAAAAAAAAAAAAAAAAAAAAIA/AAAAAAAAAAAAAAAAAAAAAAAAgD8AAAAAAAAAAAAAAAAAAAAAAACAPw==",
        "encoding": "base64",
        "path": [
         "model_matrix",
         "data"
        ]
       },
       {
        "data": "",
        "encoding": "base64",
        "path": [
         "opacities",
         "data"
        ]
       },
       {
        "data": "o4NHPagJdbzuQhu8bu/RvsxOrT6dLUC+bLATPSI1hb4MMOG9pCvlvt/VKT9/iIk+iUZXvbpECD4YCMu9GoG/vv0+jj93Uhq/obO6vi7eRr5L3cE+A8bBwNrVCEEXUFJACtAIPwg6Q77rDQc+SuzyvFUjB75J4cy909dZvqVbOb0ZBOQ+yPYbwJebgb+QNx9A+BylP2x2JT8wZ4A8xDwLvmDOz7zUEq8+7ZlvvlF3x7+qd909BuExv1VcYr/n2xg/EwGBPbjn7z7ZFMi+ez6YwUINsD/L8E9AGFJCvj6X3z0L7rG+BMwVPwTLGz51Jj26eBSCveMIaT3h++O71dj3wI9hBD9ZCATA7ZeZvwJAhj/YnOw/b5XRu6eQ576SQO69Af0iP3lXz72p1a4/",
        "encoding": "base64",
        "path": [
         "positions",
         "data"
        ]
       }
      ],
      "model_module": "k3d",
      "model_module_version": "2.9.0",
      "model_name": "ObjectModel",
      "state": {
       "_view_count": null,
       "_view_module": null,
       "_view_module_version": "",
       "_view_name": null,
       "color": 0,
       "colorLegend": false,
       "colors": {
        "dtype": "uint32",
        "shape": [
         0
        ]
       },
       "compression_level": 0,
       "id": 4621679888,
       "mesh_detail": 2,
       "model_matrix": {
        "dtype": "float32",
        "shape": [
         4,
         4
        ]
       },
       "name": "Points #1",
       "opacities": {
        "dtype": "float32",
        "shape": [
         0
        ]
       },
       "opacity": 1,
       "point_size": 0.05,
       "positions": {
        "dtype": "float32",
        "shape": [
         25,
         3
        ]
       },
       "shader": "3dSpecular",
       "type": "Points",
       "visible": true
      }
     },
     "78d61eb8ac9f467ea551c1e371f93bda": {
      "buffers": [
       {
        "data": "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",
        "encoding": "base64",
        "path": [
         "attribute",
         "data"
        ]
       },
       {
        "data": "AACAvwAAAAAAAAAAAAAQP3YcR78AAAAAAAAAAAAAgD+ZKIq+AAAAAAAAgD8AAIA/GAiCvAAAAD8AAIA/AAAAPy3Pcz4AAIA/AACAPwAAAAD0+z4/AACAPwAAAAAAAAAAAACAPwAAAD8AAAAAAAAAAA==",
        "encoding": "base64",
        "path": [
         "color_map",
         "data"
        ]
       },
       {
        "data": "",
        "encoding": "base64",
        "path": [
         "colors",
         "data"
        ]
       },
       {
        "data": "AACAPwAAAAAAAAAAAAAAAAAAAAAAAIA/AAAAAAAAAAAAAAAAAAAAAAAAgD8AAAAAAAAAAAAAAAAAAAAAAACAPw==",
        "encoding": "base64",
        "path": [
         "model_matrix",
         "data"
        ]
       },
       {
        "data": "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",
        "encoding": "base64",
        "path": [
         "vertices",
         "data"
        ]
       }
      ],
      "model_module": "k3d",
      "model_module_version": "2.9.0",
      "model_name": "ObjectModel",
      "state": {
       "_color_range_high": 0.1,
       "_color_range_low": 0,
       "_view_count": null,
       "_view_module": null,
       "_view_module_version": "",
       "_view_name": null,
       "attribute": {
        "dtype": "float32",
        "shape": [
         500
        ]
       },
       "color": 255,
       "colorLegend": false,
       "color_map": {
        "dtype": "float32",
        "shape": [
         28
        ]
       },
       "color_range": [
        0,
        0.1
       ],
       "colors": {
        "dtype": "uint32",
        "shape": [
         0
        ]
       },
       "compression_level": 0,
       "id": 4826736528,
       "model_matrix": {
        "dtype": "float32",
        "shape": [
         4,
         4
        ]
       },
       "name": "Line #7",
       "radial_segments": 8,
       "shader": "mesh",
       "type": "Line",
       "vertices": {
        "dtype": "float32",
        "shape": [
         500,
         3
        ]
       },
       "visible": true,
       "width": 0.0025
      }
     },
     "7aae837d961247d8be10a11dc4ecb651": {
      "buffers": [
       {
        "data": "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",
        "encoding": "base64",
        "path": [
         "attribute",
         "data"
        ]
       },
       {
        "data": "AACAvwAAAAAAAAAAAAAQP3YcR78AAAAAAAAAAAAAgD+ZKIq+AAAAAAAAgD8AAIA/GAiCvAAAAD8AAIA/AAAAPy3Pcz4AAIA/AACAPwAAAAD0+z4/AACAPwAAAAAAAAAAAACAPwAAAD8AAAAAAAAAAA==",
        "encoding": "base64",
        "path": [
         "color_map",
         "data"
        ]
       },
       {
        "data": "",
        "encoding": "base64",
        "path": [
         "colors",
         "data"
        ]
       },
       {
        "data": "AACAPwAAAAAAAAAAAAAAAAAAAAAAAIA/AAAAAAAAAAAAAAAAAAAAAAAAgD8AAAAAAAAAAAAAAAAAAAAAAACAPw==",
        "encoding": "base64",
        "path": [
         "model_matrix",
         "data"
        ]
       },
       {
        "data": "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",
        "encoding": "base64",
        "path": [
         "vertices",
         "data"
        ]
       }
      ],
      "model_module": "k3d",
      "model_module_version": "2.9.0",
      "model_name": "ObjectModel",
      "state": {
       "_color_range_high": 0.1,
       "_color_range_low": 0,
       "_view_count": null,
       "_view_module": null,
       "_view_module_version": "",
       "_view_name": null,
       "attribute": {
        "dtype": "float32",
        "shape": [
         500
        ]
       },
       "color": 255,
       "colorLegend": false,
       "color_map": {
        "dtype": "float32",
        "shape": [
         28
        ]
       },
       "color_range": [
        0,
        0.1
       ],
       "colors": {
        "dtype": "uint32",
        "shape": [
         0
        ]
       },
       "compression_level": 0,
       "id": 4825111312,
       "model_matrix": {
        "dtype": "float32",
        "shape": [
         4,
         4
        ]
       },
       "name": "Line #2",
       "radial_segments": 8,
       "shader": "mesh",
       "type": "Line",
       "vertices": {
        "dtype": "float32",
        "shape": [
         500,
         3
        ]
       },
       "visible": true,
       "width": 0.0025
      }
     },
     "7b7b69b8cefd4dbfbc7ed436e3a7d1ff": {
      "buffers": [
       {
        "data": "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",
        "encoding": "base64",
        "path": [
         "attribute",
         "data"
        ]
       },
       {
        "data": "AACAvwAAAAAAAAAAAAAQP3YcR78AAAAAAAAAAAAAgD+ZKIq+AAAAAAAAgD8AAIA/GAiCvAAAAD8AAIA/AAAAPy3Pcz4AAIA/AACAPwAAAAD0+z4/AACAPwAAAAAAAAAAAACAPwAAAD8AAAAAAAAAAA==",
        "encoding": "base64",
        "path": [
         "color_map",
         "data"
        ]
       },
       {
        "data": "",
        "encoding": "base64",
        "path": [
         "colors",
         "data"
        ]
       },
       {
        "data": "AACAPwAAAAAAAAAAAAAAAAAAAAAAAIA/AAAAAAAAAAAAAAAAAAAAAAAAgD8AAAAAAAAAAAAAAAAAAAAAAACAPw==",
        "encoding": "base64",
        "path": [
         "model_matrix",
         "data"
        ]
       },
       {
        "data": "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",
        "encoding": "base64",
        "path": [
         "vertices",
         "data"
        ]
       }
      ],
      "model_module": "k3d",
      "model_module_version": "2.9.0",
      "model_name": "ObjectModel",
      "state": {
       "_color_range_high": 0.1,
       "_color_range_low": 0,
       "_view_count": null,
       "_view_module": null,
       "_view_module_version": "",
       "_view_name": null,
       "attribute": {
        "dtype": "float32",
        "shape": [
         500
        ]
       },
       "color": 255,
       "colorLegend": false,
       "color_map": {
        "dtype": "float32",
        "shape": [
         28
        ]
       },
       "color_range": [
        0,
        0.1
       ],
       "colors": {
        "dtype": "uint32",
        "shape": [
         0
        ]
       },
       "compression_level": 0,
       "id": 4826738640,
       "model_matrix": {
        "dtype": "float32",
        "shape": [
         4,
         4
        ]
       },
       "name": "Line #21",
       "radial_segments": 8,
       "shader": "mesh",
       "type": "Line",
       "vertices": {
        "dtype": "float32",
        "shape": [
         500,
         3
        ]
       },
       "visible": true,
       "width": 0.0025
      }
     },
     "7ec64db3b1b946ad992da52a90e79c7f": {
      "buffers": [
       {
        "data": "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",
        "encoding": "base64",
        "path": [
         "attribute",
         "data"
        ]
       },
       {
        "data": "AACAvwAAAAAAAAAAAAAQP3YcR78AAAAAAAAAAAAAgD+ZKIq+AAAAAAAAgD8AAIA/GAiCvAAAAD8AAIA/AAAAPy3Pcz4AAIA/AACAPwAAAAD0+z4/AACAPwAAAAAAAAAAAACAPwAAAD8AAAAAAAAAAA==",
        "encoding": "base64",
        "path": [
         "color_map",
         "data"
        ]
       },
       {
        "data": "",
        "encoding": "base64",
        "path": [
         "colors",
         "data"
        ]
       },
       {
        "data": "AACAPwAAAAAAAAAAAAAAAAAAAAAAAIA/AAAAAAAAAAAAAAAAAAAAAAAAgD8AAAAAAAAAAAAAAAAAAAAAAACAPw==",
        "encoding": "base64",
        "path": [
         "model_matrix",
         "data"
        ]
       },
       {
        "data": "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",
        "encoding": "base64",
        "path": [
         "vertices",
         "data"
        ]
       }
      ],
      "model_module": "k3d",
      "model_module_version": "2.9.0",
      "model_name": "ObjectModel",
      "state": {
       "_color_range_high": 0.1,
       "_color_range_low": 0,
       "_view_count": null,
       "_view_module": null,
       "_view_module_version": "",
       "_view_name": null,
       "attribute": {
        "dtype": "float32",
        "shape": [
         500
        ]
       },
       "color": 255,
       "colorLegend": false,
       "color_map": {
        "dtype": "float32",
        "shape": [
         28
        ]
       },
       "color_range": [
        0,
        0.1
       ],
       "colors": {
        "dtype": "uint32",
        "shape": [
         0
        ]
       },
       "compression_level": 0,
       "id": 4826864976,
       "model_matrix": {
        "dtype": "float32",
        "shape": [
         4,
         4
        ]
       },
       "name": "Line #18",
       "radial_segments": 8,
       "shader": "mesh",
       "type": "Line",
       "vertices": {
        "dtype": "float32",
        "shape": [
         500,
         3
        ]
       },
       "visible": true,
       "width": 0.0025
      }
     },
     "92d3aef362ce42ab889e094660557292": {
      "model_module": "@jupyter-widgets/base",
      "model_module_version": "1.2.0",
      "model_name": "LayoutModel",
      "state": {}
     },
     "953b1296b4654a31b84f3451fdce525b": {
      "buffers": [
       {
        "data": "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",
        "encoding": "base64",
        "path": [
         "attribute",
         "data"
        ]
       },
       {
        "data": "AACAvwAAAAAAAAAAAAAQP3YcR78AAAAAAAAAAAAAgD+ZKIq+AAAAAAAAgD8AAIA/GAiCvAAAAD8AAIA/AAAAPy3Pcz4AAIA/AACAPwAAAAD0+z4/AACAPwAAAAAAAAAAAACAPwAAAD8AAAAAAAAAAA==",
        "encoding": "base64",
        "path": [
         "color_map",
         "data"
        ]
       },
       {
        "data": "",
        "encoding": "base64",
        "path": [
         "colors",
         "data"
        ]
       },
       {
        "data": "AACAPwAAAAAAAAAAAAAAAAAAAAAAAIA/AAAAAAAAAAAAAAAAAAAAAAAAgD8AAAAAAAAAAAAAAAAAAAAAAACAPw==",
        "encoding": "base64",
        "path": [
         "model_matrix",
         "data"
        ]
       },
       {
        "data": "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",
        "encoding": "base64",
        "path": [
         "vertices",
         "data"
        ]
       }
      ],
      "model_module": "k3d",
      "model_module_version": "2.9.0",
      "model_name": "ObjectModel",
      "state": {
       "_color_range_high": 0.1,
       "_color_range_low": 0,
       "_view_count": null,
       "_view_module": null,
       "_view_module_version": "",
       "_view_name": null,
       "attribute": {
        "dtype": "float32",
        "shape": [
         500
        ]
       },
       "color": 255,
       "colorLegend": false,
       "color_map": {
        "dtype": "float32",
        "shape": [
         28
        ]
       },
       "color_range": [
        0,
        0.1
       ],
       "colors": {
        "dtype": "uint32",
        "shape": [
         0
        ]
       },
       "compression_level": 0,
       "id": 4827000400,
       "model_matrix": {
        "dtype": "float32",
        "shape": [
         4,
         4
        ]
       },
       "name": "Line #48",
       "radial_segments": 8,
       "shader": "mesh",
       "type": "Line",
       "vertices": {
        "dtype": "float32",
        "shape": [
         500,
         3
        ]
       },
       "visible": true,
       "width": 0.0025
      }
     },
     "9e47545c07c74fd49ae8090708fa7a43": {
      "buffers": [
       {
        "data": "5r2yPCHrsTy5GrE8p0ywPOeArzx0t648SfCtPGIrrTy6aKw8TairPBfqqjwTLqo8PXSpPJG8qDwMB6g8qlOnPGaipjw+86U8LUalPDGbpDxG8qM8aUujPJemojzMA6I8B2OhPEPEoDx/J6A8t4yfPOjznjwSXZ48MMidPEE1nTxCpJw8MRWcPAuImzzQ/Jo8fHOaPA7smTyEZpk82+KYPBNhmDwp4Zc8G2OXPOnmljyPbJY8DfSVPGF9lTyICJU8gpWUPE0klDzntJM8T0eTPIHbkjx+cZI8QwmSPM2ikTwcPpE8LduQPP55kDyNGpA82LyPPN5gjzybBo88Dq6OPDZXjjwQAo48nq6NPN1cjTzNDI08b76MPMFxjDzFJow8fN2LPOaVizwFUIs82wuLPGnJijyxiIo8tUmKPHcMijz50Ik8PZeJPERfiTwQKYk8pPSIPP/BiDwikYg8DmKIPMQ0iDxDCYg8jd+HPKG3hzyAkYc8KG2HPJtKhzzYKYc83wqHPK/thjxH0oY8qLiGPNGghjzBioY8d3aGPPNjhjw0U4Y8OESGPP82hjyHK4Y80SGGPNkZhjygE4Y8JA+GPGUMhjxgC4Y8FQyGPIIOhjynEoY8hBiGPBYghjxeKYY8WzSGPAxBhjxyT4Y8jV+GPFxxhjzfhIY8GJqGPAaxhjyqyYY8BeSGPBgAhzzjHYc8Zz2HPKVehzyfgYc8VKaHPMbMhzz29Ic85R6IPJNKiDwCeIg8MqeIPCTYiDzZCok8Uj+JPJB1iTySrYk8W+eJPOsiijxCYIo8Yp+KPErgijz8Ios8eWeLPMGtizzW9Ys8tj+MPGWLjDzi2Iw8LiiNPEt5jTw5zI08+CCOPIt3jjzyz448LiqPPECGjzwp5I8860OQPIelkDz+CJE8UW6RPIHVkTySPpI8gqmSPFUWkzwMhZM8qfWTPC1olDya3JQ88lKVPDfLlTxrRZY8kMGWPKg/lzy2v5c8vEGYPLzFmDy4S5k8s9OZPLBdmjyx6Zo8uHebPMkHnDzmmZw8FC6dPFfEnTy0XJ48LveePMqTnzyNMqA8e9OgPJt2oTzwG6I8gcOiPFNtozxsGaQ80sekPIx4pTygK6Y8FeGmPPGYpzw8U6g8/A+pPDnPqTz6kKo8RFWrPCEcrDyU5aw8prGtPFyArjy6Ua88xyWwPIX8sDz51bE8J7KyPBCRszy5crQ8Ile1PFA+tjxEKLc8AhW4PI8EuTzu9rk8Jey6PDnkuzwx37w8FN29POndvjy34b88hujAPFzywTxB/8I8Ow/EPE8ixTyEOMY83lHHPGFuyDwQjsk877DKPP/WyzxCAM08uSzOPGZczzxJj9A8ZcXRPLr+0jxLO9Q8GnvVPCy+1jyFBNg8LU7ZPCub2jyJ69s8Uz/dPJWW3jxf8d88wE/hPMqx4jyPF+Q8IoHlPJbu5jwAYOg8ctXpPABP6zy9zOw8uk7uPAjV7zy2X/E80+7yPGmC9DyEGvY8LLf3PGRY+Twx/vo8kqj8PIVX/jyCBQA9hOEAPcO/AT07oAI95oIDPb9nBD3CTgU96zcGPTcjBz2nEAg9OAAJPezxCT3C5Qo9u9sLPdbTDD0Qzg09ZsoOPdHIDz1LyRA9x8sRPTnQEj2Q1hM9ut4UPaDoFT0o9BY9NwEYPasPGT1iHxo9MjAbPfJBHD1xVB09emcePdZ6Hz1GjiA9iaEhPVW0Ij1gxiM9VtckPeLmJT2p9CY9SwAoPWcJKT2WDyo9bxIrPYURLD1oDC09pAIuPcHzLj1B3y89n8QwPUOjMT2CejI9m0kzPcEPND0zzDQ9WX41PcwlNj00wjY9PlM3PYrYNz21UTg9Xr44PSceOT2/cDk937U5PU3tOT3hFjo9gzI6PStAOj3mPzo91TE6PSsWOj0w7Tk9N7c5PZZ0OT2JJTk9D8o4PcJhOD3p6zc95mc3PcLVNj1KNjY9uIo1PUvUND0WFDQ9/kozPcJ5Mj0KoTE9cMEwPYPbLz3M7y490P4tPQ8JLT0DDyw9IxErPeIPKj2tCyk97QQoPQX8Jj1U8SU9MuUkPfXXIz3qySI9XLshPY+sID3EnR89NY8ePRyBHT2pcxw9DGcbPXBbGj38UBk91EcYPRlAFz3pORY9XjUVPZEyFD2XMRM9gzISPWc1ET1TOhA9U0EPPXNKDj29VQ09OmMMPfFyCz3nhAo9I5kJPaivCD13yAc9lOMGPf8ABj24IAU9v0IEPRJnAz2wjQI9lbYBPb7hAD0oDwA9nn3+PFnh/Dx4Sfs88LX5PLMm+Dy0m/Y85xT1PDyS8zymE/I8FpnwPH4i7zzRr+08AkHsPATW6jzNbuk8UAvoPIar5jxkT+U84vbjPPuh4jylUOE83ALgPJq43jzYcd08kS7cPMDu2jxestk8ZnnYPNJD1zycEdY8vuLUPDG30zztjtI87WnRPClI0DyaKc88Ng7OPPj1zDzV4Ms8xs7KPMK/yTzBs8g8uqrHPKWkxjx6ocU8L6HEPL2jwzwaqcI8PbHBPB28wDyvyb886Nm+PMDsvTwqAr08Gxq8PIk0uzxpUbo8r3C5PFCSuDxDtrc8fNy2PPIEtjyaL7U8a1y0PFyLszxjvLI8eO+xPJAksTyjW7A8pZSvPIzPrjxODK4830qtPDeLrDw=",
        "encoding": "base64",
        "path": [
         "attribute",
         "data"
        ]
       },
       {
        "data": "AACAvwAAAAAAAAAAAAAQP3YcR78AAAAAAAAAAAAAgD+ZKIq+AAAAAAAAgD8AAIA/GAiCvAAAAD8AAIA/AAAAPy3Pcz4AAIA/AACAPwAAAAD0+z4/AACAPwAAAAAAAAAAAACAPwAAAD8AAAAAAAAAAA==",
        "encoding": "base64",
        "path": [
         "color_map",
         "data"
        ]
       },
       {
        "data": "",
        "encoding": "base64",
        "path": [
         "colors",
         "data"
        ]
       },
       {
        "data": "AACAPwAAAAAAAAAAAAAAAAAAAAAAAIA/AAAAAAAAAAAAAAAAAAAAAAAAgD8AAAAAAAAAAAAAAAAAAAAAAACAPw==",
        "encoding": "base64",
        "path": [
         "model_matrix",
         "data"
        ]
       },
       {
        "data": "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",
        "encoding": "base64",
        "path": [
         "vertices",
         "data"
        ]
       }
      ],
      "model_module": "k3d",
      "model_module_version": "2.9.0",
      "model_name": "ObjectModel",
      "state": {
       "_color_range_high": 0.1,
       "_color_range_low": 0,
       "_view_count": null,
       "_view_module": null,
       "_view_module_version": "",
       "_view_name": null,
       "attribute": {
        "dtype": "float32",
        "shape": [
         500
        ]
       },
       "color": 255,
       "colorLegend": false,
       "color_map": {
        "dtype": "float32",
        "shape": [
         28
        ]
       },
       "color_range": [
        0,
        0.1
       ],
       "colors": {
        "dtype": "uint32",
        "shape": [
         0
        ]
       },
       "compression_level": 0,
       "id": 4827017552,
       "model_matrix": {
        "dtype": "float32",
        "shape": [
         4,
         4
        ]
       },
       "name": "Line #34",
       "radial_segments": 8,
       "shader": "mesh",
       "type": "Line",
       "vertices": {
        "dtype": "float32",
        "shape": [
         500,
         3
        ]
       },
       "visible": true,
       "width": 0.0025
      }
     },
     "9f0bd942af894a3197feaf93ab50f686": {
      "buffers": [
       {
        "data": "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",
        "encoding": "base64",
        "path": [
         "attribute",
         "data"
        ]
       },
       {
        "data": "AACAvwAAAAAAAAAAAAAQP3YcR78AAAAAAAAAAAAAgD+ZKIq+AAAAAAAAgD8AAIA/GAiCvAAAAD8AAIA/AAAAPy3Pcz4AAIA/AACAPwAAAAD0+z4/AACAPwAAAAAAAAAAAACAPwAAAD8AAAAAAAAAAA==",
        "encoding": "base64",
        "path": [
         "color_map",
         "data"
        ]
       },
       {
        "data": "",
        "encoding": "base64",
        "path": [
         "colors",
         "data"
        ]
       },
       {
        "data": "AACAPwAAAAAAAAAAAAAAAAAAAAAAAIA/AAAAAAAAAAAAAAAAAAAAAAAAgD8AAAAAAAAAAAAAAAAAAAAAAACAPw==",
        "encoding": "base64",
        "path": [
         "model_matrix",
         "data"
        ]
       },
       {
        "data": "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",
        "encoding": "base64",
        "path": [
         "vertices",
         "data"
        ]
       }
      ],
      "model_module": "k3d",
      "model_module_version": "2.9.0",
      "model_name": "ObjectModel",
      "state": {
       "_color_range_high": 0.1,
       "_color_range_low": 0,
       "_view_count": null,
       "_view_module": null,
       "_view_module_version": "",
       "_view_name": null,
       "attribute": {
        "dtype": "float32",
        "shape": [
         500
        ]
       },
       "color": 255,
       "colorLegend": false,
       "color_map": {
        "dtype": "float32",
        "shape": [
         28
        ]
       },
       "color_range": [
        0,
        0.1
       ],
       "colors": {
        "dtype": "uint32",
        "shape": [
         0
        ]
       },
       "compression_level": 0,
       "id": 4826998352,
       "model_matrix": {
        "dtype": "float32",
        "shape": [
         4,
         4
        ]
       },
       "name": "Line #27",
       "radial_segments": 8,
       "shader": "mesh",
       "type": "Line",
       "vertices": {
        "dtype": "float32",
        "shape": [
         500,
         3
        ]
       },
       "visible": true,
       "width": 0.0025
      }
     },
     "a098902be1574a319f345eabc3f3415c": {
      "buffers": [
       {
        "data": "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",
        "encoding": "base64",
        "path": [
         "attribute",
         "data"
        ]
       },
       {
        "data": "AACAvwAAAAAAAAAAAAAQP3YcR78AAAAAAAAAAAAAgD+ZKIq+AAAAAAAAgD8AAIA/GAiCvAAAAD8AAIA/AAAAPy3Pcz4AAIA/AACAPwAAAAD0+z4/AACAPwAAAAAAAAAAAACAPwAAAD8AAAAAAAAAAA==",
        "encoding": "base64",
        "path": [
         "color_map",
         "data"
        ]
       },
       {
        "data": "",
        "encoding": "base64",
        "path": [
         "colors",
         "data"
        ]
       },
       {
        "data": "AACAPwAAAAAAAAAAAAAAAAAAAAAAAIA/AAAAAAAAAAAAAAAAAAAAAAAAgD8AAAAAAAAAAAAAAAAAAAAAAACAPw==",
        "encoding": "base64",
        "path": [
         "model_matrix",
         "data"
        ]
       },
       {
        "data": "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",
        "encoding": "base64",
        "path": [
         "vertices",
         "data"
        ]
       }
      ],
      "model_module": "k3d",
      "model_module_version": "2.9.0",
      "model_name": "ObjectModel",
      "state": {
       "_color_range_high": 0.1,
       "_color_range_low": 0,
       "_view_count": null,
       "_view_module": null,
       "_view_module_version": "",
       "_view_name": null,
       "attribute": {
        "dtype": "float32",
        "shape": [
         500
        ]
       },
       "color": 255,
       "colorLegend": false,
       "color_map": {
        "dtype": "float32",
        "shape": [
         28
        ]
       },
       "color_range": [
        0,
        0.1
       ],
       "colors": {
        "dtype": "uint32",
        "shape": [
         0
        ]
       },
       "compression_level": 0,
       "id": 4427593424,
       "model_matrix": {
        "dtype": "float32",
        "shape": [
         4,
         4
        ]
       },
       "name": "Line #4",
       "radial_segments": 8,
       "shader": "mesh",
       "type": "Line",
       "vertices": {
        "dtype": "float32",
        "shape": [
         500,
         3
        ]
       },
       "visible": true,
       "width": 0.0025
      }
     },
     "a44bbf6eb7fd40309e3c350f04228969": {
      "buffers": [
       {
        "data": "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",
        "encoding": "base64",
        "path": [
         "attribute",
         "data"
        ]
       },
       {
        "data": "AACAvwAAAAAAAAAAAAAQP3YcR78AAAAAAAAAAAAAgD+ZKIq+AAAAAAAAgD8AAIA/GAiCvAAAAD8AAIA/AAAAPy3Pcz4AAIA/AACAPwAAAAD0+z4/AACAPwAAAAAAAAAAAACAPwAAAD8AAAAAAAAAAA==",
        "encoding": "base64",
        "path": [
         "color_map",
         "data"
        ]
       },
       {
        "data": "",
        "encoding": "base64",
        "path": [
         "colors",
         "data"
        ]
       },
       {
        "data": "AACAPwAAAAAAAAAAAAAAAAAAAAAAAIA/AAAAAAAAAAAAAAAAAAAAAAAAgD8AAAAAAAAAAAAAAAAAAAAAAACAPw==",
        "encoding": "base64",
        "path": [
         "model_matrix",
         "data"
        ]
       },
       {
        "data": "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",
        "encoding": "base64",
        "path": [
         "vertices",
         "data"
        ]
       }
      ],
      "model_module": "k3d",
      "model_module_version": "2.9.0",
      "model_name": "ObjectModel",
      "state": {
       "_color_range_high": 0.1,
       "_color_range_low": 0,
       "_view_count": null,
       "_view_module": null,
       "_view_module_version": "",
       "_view_name": null,
       "attribute": {
        "dtype": "float32",
        "shape": [
         500
        ]
       },
       "color": 255,
       "colorLegend": false,
       "color_map": {
        "dtype": "float32",
        "shape": [
         28
        ]
       },
       "color_range": [
        0,
        0.1
       ],
       "colors": {
        "dtype": "uint32",
        "shape": [
         0
        ]
       },
       "compression_level": 0,
       "id": 4827018256,
       "model_matrix": {
        "dtype": "float32",
        "shape": [
         4,
         4
        ]
       },
       "name": "Line #37",
       "radial_segments": 8,
       "shader": "mesh",
       "type": "Line",
       "vertices": {
        "dtype": "float32",
        "shape": [
         500,
         3
        ]
       },
       "visible": true,
       "width": 0.0025
      }
     },
     "b54ae7dd33cf48948654309ec1a9ecff": {
      "model_module": "k3d",
      "model_module_version": "2.9.0",
      "model_name": "PlotModel",
      "state": {
       "_backend_version": "2.9.0",
       "_dom_classes": [],
       "_view_count": null,
       "antialias": 3,
       "auto_rendering": true,
       "axes": [
        "x",
        "y",
        "z"
       ],
       "axes_helper": 1,
       "background_color": 16777215,
       "camera": [
        0.10842821207707448,
        -1.003739490144898,
        0.7856737760266884,
        0,
        0,
        0,
        -0.06069243984968719,
        0.5662630590807263,
        0.8219869680631433
       ],
       "camera_animation": [],
       "camera_auto_fit": false,
       "camera_fov": 60,
       "camera_mode": "trackball",
       "camera_no_pan": false,
       "camera_no_rotate": false,
       "camera_no_zoom": false,
       "clipping_planes": [],
       "colorbar_object_id": 4826735504,
       "colorbar_scientific": false,
       "fps": 25,
       "fps_meter": false,
       "grid": [
        -1,
        -1,
        -1,
        1,
        1,
        1
       ],
       "grid_auto_fit": true,
       "grid_visible": true,
       "height": 512,
       "layout": "IPY_MODEL_92d3aef362ce42ab889e094660557292",
       "lighting": 1.5,
       "manipulate_mode": "translate",
       "menu_visibility": true,
       "mode": "view",
       "name": null,
       "object_ids": [
        4621679888,
        4826735504,
        4825111312,
        4825109072,
        4427593424,
        4826737296,
        4826737168,
        4826736528,
        4826736272,
        4826738576,
        4826738128,
        4826862672,
        4826737872,
        4826862352,
        4427610192,
        4826862736,
        4826737488,
        4826862800,
        4826864976,
        4826865296,
        4826735696,
        4826738640,
        4826865616,
        4826736144,
        4826865040,
        4826736208,
        4827124304,
        4826998352,
        4826909392,
        4827018576,
        4827018640,
        4827018064,
        4827018896,
        4827017296,
        4827017552,
        4826907600,
        4827018384,
        4827018256,
        4827127696,
        4827000720,
        4827127632,
        4826997968,
        4827000656,
        4826998800,
        4826999632,
        4826999824,
        4826997328,
        4827125072,
        4827000400,
        4826999440,
        4827000464
       ],
       "rendering_steps": 1,
       "screenshot": "",
       "screenshot_scale": 2,
       "snapshot": "",
       "snapshot_include_js": true,
       "time": 0,
       "voxel_paint_color": 0
      }
     },
     "b6e2f3c3ee68407abddd0c4bad2c7b19": {
      "buffers": [
       {
        "data": "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",
        "encoding": "base64",
        "path": [
         "attribute",
         "data"
        ]
       },
       {
        "data": "AACAvwAAAAAAAAAAAAAQP3YcR78AAAAAAAAAAAAAgD+ZKIq+AAAAAAAAgD8AAIA/GAiCvAAAAD8AAIA/AAAAPy3Pcz4AAIA/AACAPwAAAAD0+z4/AACAPwAAAAAAAAAAAACAPwAAAD8AAAAAAAAAAA==",
        "encoding": "base64",
        "path": [
         "color_map",
         "data"
        ]
       },
       {
        "data": "",
        "encoding": "base64",
        "path": [
         "colors",
         "data"
        ]
       },
       {
        "data": "AACAPwAAAAAAAAAAAAAAAAAAAAAAAIA/AAAAAAAAAAAAAAAAAAAAAAAAgD8AAAAAAAAAAAAAAAAAAAAAAACAPw==",
        "encoding": "base64",
        "path": [
         "model_matrix",
         "data"
        ]
       },
       {
        "data": "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",
        "encoding": "base64",
        "path": [
         "vertices",
         "data"
        ]
       }
      ],
      "model_module": "k3d",
      "model_module_version": "2.9.0",
      "model_name": "ObjectModel",
      "state": {
       "_color_range_high": 0.1,
       "_color_range_low": 0,
       "_view_count": null,
       "_view_module": null,
       "_view_module_version": "",
       "_view_name": null,
       "attribute": {
        "dtype": "float32",
        "shape": [
         500
        ]
       },
       "color": 255,
       "colorLegend": false,
       "color_map": {
        "dtype": "float32",
        "shape": [
         28
        ]
       },
       "color_range": [
        0,
        0.1
       ],
       "colors": {
        "dtype": "uint32",
        "shape": [
         0
        ]
       },
       "compression_level": 0,
       "id": 4826737872,
       "model_matrix": {
        "dtype": "float32",
        "shape": [
         4,
         4
        ]
       },
       "name": "Line #12",
       "radial_segments": 8,
       "shader": "mesh",
       "type": "Line",
       "vertices": {
        "dtype": "float32",
        "shape": [
         500,
         3
        ]
       },
       "visible": true,
       "width": 0.0025
      }
     },
     "b8b0e754e7ea4b68b496a45068f3e4f3": {
      "buffers": [
       {
        "data": "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",
        "encoding": "base64",
        "path": [
         "attribute",
         "data"
        ]
       },
       {
        "data": "AACAvwAAAAAAAAAAAAAQP3YcR78AAAAAAAAAAAAAgD+ZKIq+AAAAAAAAgD8AAIA/GAiCvAAAAD8AAIA/AAAAPy3Pcz4AAIA/AACAPwAAAAD0+z4/AACAPwAAAAAAAAAAAACAPwAAAD8AAAAAAAAAAA==",
        "encoding": "base64",
        "path": [
         "color_map",
         "data"
        ]
       },
       {
        "data": "",
        "encoding": "base64",
        "path": [
         "colors",
         "data"
        ]
       },
       {
        "data": "AACAPwAAAAAAAAAAAAAAAAAAAAAAAIA/AAAAAAAAAAAAAAAAAAAAAAAAgD8AAAAAAAAAAAAAAAAAAAAAAACAPw==",
        "encoding": "base64",
        "path": [
         "model_matrix",
         "data"
        ]
       },
       {
        "data": "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",
        "encoding": "base64",
        "path": [
         "vertices",
         "data"
        ]
       }
      ],
      "model_module": "k3d",
      "model_module_version": "2.9.0",
      "model_name": "ObjectModel",
      "state": {
       "_color_range_high": 0.1,
       "_color_range_low": 0,
       "_view_count": null,
       "_view_module": null,
       "_view_module_version": "",
       "_view_name": null,
       "attribute": {
        "dtype": "float32",
        "shape": [
         500
        ]
       },
       "color": 255,
       "colorLegend": false,
       "color_map": {
        "dtype": "float32",
        "shape": [
         28
        ]
       },
       "color_range": [
        0,
        0.1
       ],
       "colors": {
        "dtype": "uint32",
        "shape": [
         0
        ]
       },
       "compression_level": 0,
       "id": 4826997328,
       "model_matrix": {
        "dtype": "float32",
        "shape": [
         4,
         4
        ]
       },
       "name": "Line #46",
       "radial_segments": 8,
       "shader": "mesh",
       "type": "Line",
       "vertices": {
        "dtype": "float32",
        "shape": [
         500,
         3
        ]
       },
       "visible": true,
       "width": 0.0025
      }
     },
     "bccfce16146f4d58bf971b9fa40f3c59": {
      "buffers": [
       {
        "data": "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",
        "encoding": "base64",
        "path": [
         "attribute",
         "data"
        ]
       },
       {
        "data": "AACAvwAAAAAAAAAAAAAQP3YcR78AAAAAAAAAAAAAgD+ZKIq+AAAAAAAAgD8AAIA/GAiCvAAAAD8AAIA/AAAAPy3Pcz4AAIA/AACAPwAAAAD0+z4/AACAPwAAAAAAAAAAAACAPwAAAD8AAAAAAAAAAA==",
        "encoding": "base64",
        "path": [
         "color_map",
         "data"
        ]
       },
       {
        "data": "",
        "encoding": "base64",
        "path": [
         "colors",
         "data"
        ]
       },
       {
        "data": "AACAPwAAAAAAAAAAAAAAAAAAAAAAAIA/AAAAAAAAAAAAAAAAAAAAAAAAgD8AAAAAAAAAAAAAAAAAAAAAAACAPw==",
        "encoding": "base64",
        "path": [
         "model_matrix",
         "data"
        ]
       },
       {
        "data": "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",
        "encoding": "base64",
        "path": [
         "vertices",
         "data"
        ]
       }
      ],
      "model_module": "k3d",
      "model_module_version": "2.9.0",
      "model_name": "ObjectModel",
      "state": {
       "_color_range_high": 0.1,
       "_color_range_low": 0,
       "_view_count": null,
       "_view_module": null,
       "_view_module_version": "",
       "_view_name": null,
       "attribute": {
        "dtype": "float32",
        "shape": [
         500
        ]
       },
       "color": 255,
       "colorLegend": false,
       "color_map": {
        "dtype": "float32",
        "shape": [
         28
        ]
       },
       "color_range": [
        0,
        0.1
       ],
       "colors": {
        "dtype": "uint32",
        "shape": [
         0
        ]
       },
       "compression_level": 0,
       "id": 4827000720,
       "model_matrix": {
        "dtype": "float32",
        "shape": [
         4,
         4
        ]
       },
       "name": "Line #39",
       "radial_segments": 8,
       "shader": "mesh",
       "type": "Line",
       "vertices": {
        "dtype": "float32",
        "shape": [
         500,
         3
        ]
       },
       "visible": true,
       "width": 0.0025
      }
     },
     "bd68d2ef1f294a809a9f6dcb1410aa15": {
      "buffers": [
       {
        "data": "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",
        "encoding": "base64",
        "path": [
         "attribute",
         "data"
        ]
       },
       {
        "data": "AACAvwAAAAAAAAAAAAAQP3YcR78AAAAAAAAAAAAAgD+ZKIq+AAAAAAAAgD8AAIA/GAiCvAAAAD8AAIA/AAAAPy3Pcz4AAIA/AACAPwAAAAD0+z4/AACAPwAAAAAAAAAAAACAPwAAAD8AAAAAAAAAAA==",
        "encoding": "base64",
        "path": [
         "color_map",
         "data"
        ]
       },
       {
        "data": "",
        "encoding": "base64",
        "path": [
         "colors",
         "data"
        ]
       },
       {
        "data": "AACAPwAAAAAAAAAAAAAAAAAAAAAAAIA/AAAAAAAAAAAAAAAAAAAAAAAAgD8AAAAAAAAAAAAAAAAAAAAAAACAPw==",
        "encoding": "base64",
        "path": [
         "model_matrix",
         "data"
        ]
       },
       {
        "data": "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",
        "encoding": "base64",
        "path": [
         "vertices",
         "data"
        ]
       }
      ],
      "model_module": "k3d",
      "model_module_version": "2.9.0",
      "model_name": "ObjectModel",
      "state": {
       "_color_range_high": 0.1,
       "_color_range_low": 0,
       "_view_count": null,
       "_view_module": null,
       "_view_module_version": "",
       "_view_name": null,
       "attribute": {
        "dtype": "float32",
        "shape": [
         500
        ]
       },
       "color": 255,
       "colorLegend": false,
       "color_map": {
        "dtype": "float32",
        "shape": [
         28
        ]
       },
       "color_range": [
        0,
        0.1
       ],
       "colors": {
        "dtype": "uint32",
        "shape": [
         0
        ]
       },
       "compression_level": 0,
       "id": 4827124304,
       "model_matrix": {
        "dtype": "float32",
        "shape": [
         4,
         4
        ]
       },
       "name": "Line #26",
       "radial_segments": 8,
       "shader": "mesh",
       "type": "Line",
       "vertices": {
        "dtype": "float32",
        "shape": [
         500,
         3
        ]
       },
       "visible": true,
       "width": 0.0025
      }
     },
     "be0943d313284bda842dad26fc26ca5d": {
      "buffers": [
       {
        "data": "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",
        "encoding": "base64",
        "path": [
         "attribute",
         "data"
        ]
       },
       {
        "data": "AACAvwAAAAAAAAAAAAAQP3YcR78AAAAAAAAAAAAAgD+ZKIq+AAAAAAAAgD8AAIA/GAiCvAAAAD8AAIA/AAAAPy3Pcz4AAIA/AACAPwAAAAD0+z4/AACAPwAAAAAAAAAAAACAPwAAAD8AAAAAAAAAAA==",
        "encoding": "base64",
        "path": [
         "color_map",
         "data"
        ]
       },
       {
        "data": "",
        "encoding": "base64",
        "path": [
         "colors",
         "data"
        ]
       },
       {
        "data": "AACAPwAAAAAAAAAAAAAAAAAAAAAAAIA/AAAAAAAAAAAAAAAAAAAAAAAAgD8AAAAAAAAAAAAAAAAAAAAAAACAPw==",
        "encoding": "base64",
        "path": [
         "model_matrix",
         "data"
        ]
       },
       {
        "data": "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",
        "encoding": "base64",
        "path": [
         "vertices",
         "data"
        ]
       }
      ],
      "model_module": "k3d",
      "model_module_version": "2.9.0",
      "model_name": "ObjectModel",
      "state": {
       "_color_range_high": 0.1,
       "_color_range_low": 0,
       "_view_count": null,
       "_view_module": null,
       "_view_module_version": "",
       "_view_name": null,
       "attribute": {
        "dtype": "float32",
        "shape": [
         500
        ]
       },
       "color": 255,
       "colorLegend": false,
       "color_map": {
        "dtype": "float32",
        "shape": [
         28
        ]
       },
       "color_range": [
        0,
        0.1
       ],
       "colors": {
        "dtype": "uint32",
        "shape": [
         0
        ]
       },
       "compression_level": 0,
       "id": 4826862736,
       "model_matrix": {
        "dtype": "float32",
        "shape": [
         4,
         4
        ]
       },
       "name": "Line #15",
       "radial_segments": 8,
       "shader": "mesh",
       "type": "Line",
       "vertices": {
        "dtype": "float32",
        "shape": [
         500,
         3
        ]
       },
       "visible": true,
       "width": 0.0025
      }
     },
     "be3a3b4320b54b2fafe0fe2fc0d492b7": {
      "buffers": [
       {
        "data": "ty7DPA8cwjziC8E8Pv6/PDTzvjza6r08Q+W8PIbiuzy54ro87OW5PDLsuDyX9bc8IwK3PN0RtjzIJLU84jq0PClUszyXcLI8JZCxPMqysDx72K88MAGvPNwsrjx0W6087oysPDzBqzxV+Ko8LjKqPLtuqTzyrag8y++nPDo0pzw3e6Y8ucSlPLgQpTwtX6Q8DrCjPFUDozz8WKI8+7ChPEwLoTzqZ6A8z8afPPQnnzxVi5487vCdPLhYnTywwpw80i6cPBmdmzyBDZs8BoCaPKT0mTxZa5k8IOSYPPdemDzZ25c8xVqXPLbbljyqXpY8neOVPI5qlTx385Q8Vn6UPCkLlDztmZM8oCqTPD+9kjzHUZI8NeiRPIOAkTyvGpE8tbaQPJJUkDxE9I88x5WPPBo5jzw63o48JYWOPNktjjxU2I08k4SNPJUyjTxY4ow825OMPBtHjDwY/Is80LKLPEFrizxrJYs8SuGKPOCeijwpXoo8JB+KPNHhiTwtpok8OGyJPPEziTxX/Yg8aMiIPCWViDyMY4g8nTOIPFgFiDy+2Ic8zq2HPIiEhzzuXIc8ATeHPMEShzwv8IY8TM+GPBewhjyTkoY8wXaGPKJchjw4RIY8hS2GPIkYhjxIBYY8w/OFPPzjhTz01YU8rcmFPCm/hTxqtoU8cK+FPD+qhTzWpoU8OKWFPGWlhTxfp4U8JquFPL2whTwjuIU8WsGFPGLMhTw92YU86+eFPG34hTzDCoY87R6GPO00hjzCTIY8b2aGPPKBhjxMn4Y8fb6GPIffhjxqAoc8JieHPLxNhzwrdoc8dKCHPJjMhzyW+oc8biqIPCFciDyuj4g8FsWIPFr8iDx4NYk8cXCJPEatiTz264k8gSyKPOhuijwss4o8S/mKPEdBizwfi4s81NaLPGYkjDzWc4w8I8WMPE4YjTxXbY08P8SNPAcdjjyud448NtSOPJ4yjzzpko88F/WPPChZkDwfv5A8/CaRPMCQkTxu/JE8B2qSPI3ZkjwCS5M8Z76TPL8zlDwMq5Q8UCSVPI+flTzKHJY8BZyWPEEdlzyCoJc8yiWYPB2tmDx9Npk87sGZPHNPmjwO35o8xHCbPJcEnDyLmpw8ozKdPOPMnTxPaZ486QefPLaonzy5S6A89vCgPHGYoTwtQqI8Lu6iPHacozwLTaQ87f+kPCG1pTypbKY8iCanPL7ipzxOoag8OGKpPH0lqjwc66o8FLOrPGN9rDwJSq08AxmuPE7qrjzpva880pOwPApssTyRRrI8aiOzPJsCtDwq5LQ8Ici1PIuutjx3l7c89IK4PBFxuTzhYbo8dlW7PN9LvDwxRb08ekG+PMtAvzw0Q8A8xEjBPIhRwjyOXcM842zEPJJ/xTyplcY8M6/HPDrMyDzM7Mk88xDLPLo4zDwuZM08WZPOPEjGzzwG/dA8oDfSPCN20zyauNQ8E//VPJtJ1zxAmNg8D+vZPBZC2zxkndw8B/3dPA5h3zyIyeA8gzbiPBCo4zw+HuU8HJnmPLoY6Dwonek8dSbrPLK07DzuR+48N+DvPJ598TwvIPM8+8f0PA119jxxJ/g8NN/5PF+c+zz5Xv08CSf/PEp6AD3MYwE9C1ACPQM/Az2vMAQ9CiUFPQkcBj2kFQc9zxEIPYAQCT2sEQo9ShULPVUbDD3JIw09pC4OPeY7Dz2OSxA9nF0RPQ5yEj3eiBM9BKIUPXW9FT0h2xY98/oXPdQcGT2lQBo9RmYbPZCNHD1Wth09ZuAePYoLID2ANyE9/mMiPbaQIz1WvSQ9hOklPeIUJz0IPyg9iGcpPe6NKj27sSs9bdIsPXjvLT1KCC89SRwwPdcqMT1PMzI9BTUzPUsvND1vITU9uwo2PXjqNj3wvzc9aoo4PTFJOT2S+zk94KA6PXA4Oz2iwTs92zs8PZGmPD1EAT09iUs9PQqFPT2KrT094sQ9PQfLPT0CwD099KM9PRN3PT2lOT09A+w8PZWOPD3SITw9PqY7PWgcOz3qhDo9Z+A5PYkvOT3+cjg9e6s3PbPZNj1e/jU9MBo1Pd8tND0aOjM9jz8yPec+MT3DODA9wC0vPXUeLj1xCy09PPUrPVbcKj04wSk9VaQoPRaGJz3dZiY9BUclPeEmJD28BiM92uYhPXbHID3IqB89/4oePUduHT3HUhw9pzgbPQkgGj0TCRk95fMXPaLgFj1ozxU9VMAUPXyzEz3sqBI9saARPdeaED1mlw89ZpYOPd+XDT3Vmww9TqILPU6rCj3Ytgk97sQIPZDVBz3A6AY9fP4FPcQWBT2UMQQ96k4DPcJuAj0YkQE957UAPVW6/zy4Df487mX8POnC+jydJPk8/Yr3PPz19TyNZfQ8odnyPCxS8Twgz+88b1DuPAzW7DzpX+s8+O3pPC6A6Dx7Fuc81bDlPC1P5Dx38eI8qJfhPLJB4DyL7948JqHdPHhW3Dx3D9s8FMzZPEGM2DzxT9c8FhfWPKXh1DyTr9M81YDSPGJV0TwvLdA8NAjPPGfmzTy+x8w8MqzLPLmTyjxLfsk83mvIPGtcxzzpT8Y8UUbFPJo/xDy8O8M8rzrCPG08wTztQMA8KUi/PBlSvjy1Xr08+W28PNx/uzxZlLo8aau5PAfFuDws4bc80v+2PPQgtjyNRLU8lmq0PAuTszw=",
        "encoding": "base64",
        "path": [
         "attribute",
         "data"
        ]
       },
       {
        "data": "AACAvwAAAAAAAAAAAAAQP3YcR78AAAAAAAAAAAAAgD+ZKIq+AAAAAAAAgD8AAIA/GAiCvAAAAD8AAIA/AAAAPy3Pcz4AAIA/AACAPwAAAAD0+z4/AACAPwAAAAAAAAAAAACAPwAAAD8AAAAAAAAAAA==",
        "encoding": "base64",
        "path": [
         "color_map",
         "data"
        ]
       },
       {
        "data": "",
        "encoding": "base64",
        "path": [
         "colors",
         "data"
        ]
       },
       {
        "data": "AACAPwAAAAAAAAAAAAAAAAAAAAAAAIA/AAAAAAAAAAAAAAAAAAAAAAAAgD8AAAAAAAAAAAAAAAAAAAAAAACAPw==",
        "encoding": "base64",
        "path": [
         "model_matrix",
         "data"
        ]
       },
       {
        "data": "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",
        "encoding": "base64",
        "path": [
         "vertices",
         "data"
        ]
       }
      ],
      "model_module": "k3d",
      "model_module_version": "2.9.0",
      "model_name": "ObjectModel",
      "state": {
       "_color_range_high": 0.1,
       "_color_range_low": 0,
       "_view_count": null,
       "_view_module": null,
       "_view_module_version": "",
       "_view_name": null,
       "attribute": {
        "dtype": "float32",
        "shape": [
         500
        ]
       },
       "color": 255,
       "colorLegend": false,
       "color_map": {
        "dtype": "float32",
        "shape": [
         28
        ]
       },
       "color_range": [
        0,
        0.1
       ],
       "colors": {
        "dtype": "uint32",
        "shape": [
         0
        ]
       },
       "compression_level": 0,
       "id": 4826738576,
       "model_matrix": {
        "dtype": "float32",
        "shape": [
         4,
         4
        ]
       },
       "name": "Line #9",
       "radial_segments": 8,
       "shader": "mesh",
       "type": "Line",
       "vertices": {
        "dtype": "float32",
        "shape": [
         500,
         3
        ]
       },
       "visible": true,
       "width": 0.0025
      }
     },
     "bf631fc348a14c1a8b9c2ef5f0ff619e": {
      "buffers": [
       {
        "data": "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",
        "encoding": "base64",
        "path": [
         "attribute",
         "data"
        ]
       },
       {
        "data": "AACAvwAAAAAAAAAAAAAQP3YcR78AAAAAAAAAAAAAgD+ZKIq+AAAAAAAAgD8AAIA/GAiCvAAAAD8AAIA/AAAAPy3Pcz4AAIA/AACAPwAAAAD0+z4/AACAPwAAAAAAAAAAAACAPwAAAD8AAAAAAAAAAA==",
        "encoding": "base64",
        "path": [
         "color_map",
         "data"
        ]
       },
       {
        "data": "",
        "encoding": "base64",
        "path": [
         "colors",
         "data"
        ]
       },
       {
        "data": "AACAPwAAAAAAAAAAAAAAAAAAAAAAAIA/AAAAAAAAAAAAAAAAAAAAAAAAgD8AAAAAAAAAAAAAAAAAAAAAAACAPw==",
        "encoding": "base64",
        "path": [
         "model_matrix",
         "data"
        ]
       },
       {
        "data": "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",
        "encoding": "base64",
        "path": [
         "vertices",
         "data"
        ]
       }
      ],
      "model_module": "k3d",
      "model_module_version": "2.9.0",
      "model_name": "ObjectModel",
      "state": {
       "_color_range_high": 0.1,
       "_color_range_low": 0,
       "_view_count": null,
       "_view_module": null,
       "_view_module_version": "",
       "_view_name": null,
       "attribute": {
        "dtype": "float32",
        "shape": [
         500
        ]
       },
       "color": 255,
       "colorLegend": false,
       "color_map": {
        "dtype": "float32",
        "shape": [
         28
        ]
       },
       "color_range": [
        0,
        0.1
       ],
       "colors": {
        "dtype": "uint32",
        "shape": [
         0
        ]
       },
       "compression_level": 0,
       "id": 4827127632,
       "model_matrix": {
        "dtype": "float32",
        "shape": [
         4,
         4
        ]
       },
       "name": "Line #40",
       "radial_segments": 8,
       "shader": "mesh",
       "type": "Line",
       "vertices": {
        "dtype": "float32",
        "shape": [
         500,
         3
        ]
       },
       "visible": true,
       "width": 0.0025
      }
     },
     "c7a4351e56d74792885a89084a1ba1be": {
      "buffers": [
       {
        "data": "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",
        "encoding": "base64",
        "path": [
         "attribute",
         "data"
        ]
       },
       {
        "data": "AACAvwAAAAAAAAAAAAAQP3YcR78AAAAAAAAAAAAAgD+ZKIq+AAAAAAAAgD8AAIA/GAiCvAAAAD8AAIA/AAAAPy3Pcz4AAIA/AACAPwAAAAD0+z4/AACAPwAAAAAAAAAAAACAPwAAAD8AAAAAAAAAAA==",
        "encoding": "base64",
        "path": [
         "color_map",
         "data"
        ]
       },
       {
        "data": "",
        "encoding": "base64",
        "path": [
         "colors",
         "data"
        ]
       },
       {
        "data": "AACAPwAAAAAAAAAAAAAAAAAAAAAAAIA/AAAAAAAAAAAAAAAAAAAAAAAAgD8AAAAAAAAAAAAAAAAAAAAAAACAPw==",
        "encoding": "base64",
        "path": [
         "model_matrix",
         "data"
        ]
       },
       {
        "data": "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",
        "encoding": "base64",
        "path": [
         "vertices",
         "data"
        ]
       }
      ],
      "model_module": "k3d",
      "model_module_version": "2.9.0",
      "model_name": "ObjectModel",
      "state": {
       "_color_range_high": 0.1,
       "_color_range_low": 0,
       "_view_count": null,
       "_view_module": null,
       "_view_module_version": "",
       "_view_name": null,
       "attribute": {
        "dtype": "float32",
        "shape": [
         500
        ]
       },
       "color": 255,
       "colorLegend": false,
       "color_map": {
        "dtype": "float32",
        "shape": [
         28
        ]
       },
       "color_range": [
        0,
        0.1
       ],
       "colors": {
        "dtype": "uint32",
        "shape": [
         0
        ]
       },
       "compression_level": 0,
       "id": 4827127696,
       "model_matrix": {
        "dtype": "float32",
        "shape": [
         4,
         4
        ]
       },
       "name": "Line #38",
       "radial_segments": 8,
       "shader": "mesh",
       "type": "Line",
       "vertices": {
        "dtype": "float32",
        "shape": [
         500,
         3
        ]
       },
       "visible": true,
       "width": 0.0025
      }
     },
     "c91e1e2a759340d1944a84f08ad07df1": {
      "buffers": [
       {
        "data": "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",
        "encoding": "base64",
        "path": [
         "attribute",
         "data"
        ]
       },
       {
        "data": "AACAvwAAAAAAAAAAAAAQP3YcR78AAAAAAAAAAAAAgD+ZKIq+AAAAAAAAgD8AAIA/GAiCvAAAAD8AAIA/AAAAPy3Pcz4AAIA/AACAPwAAAAD0+z4/AACAPwAAAAAAAAAAAACAPwAAAD8AAAAAAAAAAA==",
        "encoding": "base64",
        "path": [
         "color_map",
         "data"
        ]
       },
       {
        "data": "",
        "encoding": "base64",
        "path": [
         "colors",
         "data"
        ]
       },
       {
        "data": "AACAPwAAAAAAAAAAAAAAAAAAAAAAAIA/AAAAAAAAAAAAAAAAAAAAAAAAgD8AAAAAAAAAAAAAAAAAAAAAAACAPw==",
        "encoding": "base64",
        "path": [
         "model_matrix",
         "data"
        ]
       },
       {
        "data": "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",
        "encoding": "base64",
        "path": [
         "vertices",
         "data"
        ]
       }
      ],
      "model_module": "k3d",
      "model_module_version": "2.9.0",
      "model_name": "ObjectModel",
      "state": {
       "_color_range_high": 0.1,
       "_color_range_low": 0,
       "_view_count": null,
       "_view_module": null,
       "_view_module_version": "",
       "_view_name": null,
       "attribute": {
        "dtype": "float32",
        "shape": [
         500
        ]
       },
       "color": 255,
       "colorLegend": false,
       "color_map": {
        "dtype": "float32",
        "shape": [
         28
        ]
       },
       "color_range": [
        0,
        0.1
       ],
       "colors": {
        "dtype": "uint32",
        "shape": [
         0
        ]
       },
       "compression_level": 0,
       "id": 4827018640,
       "model_matrix": {
        "dtype": "float32",
        "shape": [
         4,
         4
        ]
       },
       "name": "Line #30",
       "radial_segments": 8,
       "shader": "mesh",
       "type": "Line",
       "vertices": {
        "dtype": "float32",
        "shape": [
         500,
         3
        ]
       },
       "visible": true,
       "width": 0.0025
      }
     },
     "ca6c7b23037f4c09a0770dff8fee24cc": {
      "buffers": [
       {
        "data": "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",
        "encoding": "base64",
        "path": [
         "attribute",
         "data"
        ]
       },
       {
        "data": "AACAvwAAAAAAAAAAAAAQP3YcR78AAAAAAAAAAAAAgD+ZKIq+AAAAAAAAgD8AAIA/GAiCvAAAAD8AAIA/AAAAPy3Pcz4AAIA/AACAPwAAAAD0+z4/AACAPwAAAAAAAAAAAACAPwAAAD8AAAAAAAAAAA==",
        "encoding": "base64",
        "path": [
         "color_map",
         "data"
        ]
       },
       {
        "data": "",
        "encoding": "base64",
        "path": [
         "colors",
         "data"
        ]
       },
       {
        "data": "AACAPwAAAAAAAAAAAAAAAAAAAAAAAIA/AAAAAAAAAAAAAAAAAAAAAAAAgD8AAAAAAAAAAAAAAAAAAAAAAACAPw==",
        "encoding": "base64",
        "path": [
         "model_matrix",
         "data"
        ]
       },
       {
        "data": "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",
        "encoding": "base64",
        "path": [
         "vertices",
         "data"
        ]
       }
      ],
      "model_module": "k3d",
      "model_module_version": "2.9.0",
      "model_name": "ObjectModel",
      "state": {
       "_color_range_high": 0.1,
       "_color_range_low": 0,
       "_view_count": null,
       "_view_module": null,
       "_view_module_version": "",
       "_view_name": null,
       "attribute": {
        "dtype": "float32",
        "shape": [
         500
        ]
       },
       "color": 255,
       "colorLegend": false,
       "color_map": {
        "dtype": "float32",
        "shape": [
         28
        ]
       },
       "color_range": [
        0,
        0.1
       ],
       "colors": {
        "dtype": "uint32",
        "shape": [
         0
        ]
       },
       "compression_level": 0,
       "id": 4826737168,
       "model_matrix": {
        "dtype": "float32",
        "shape": [
         4,
         4
        ]
       },
       "name": "Line #6",
       "radial_segments": 8,
       "shader": "mesh",
       "type": "Line",
       "vertices": {
        "dtype": "float32",
        "shape": [
         500,
         3
        ]
       },
       "visible": true,
       "width": 0.0025
      }
     },
     "cb62e3ec540e491097339dbfa11010e9": {
      "buffers": [
       {
        "data": "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",
        "encoding": "base64",
        "path": [
         "attribute",
         "data"
        ]
       },
       {
        "data": "AACAvwAAAAAAAAAAAAAQP3YcR78AAAAAAAAAAAAAgD+ZKIq+AAAAAAAAgD8AAIA/GAiCvAAAAD8AAIA/AAAAPy3Pcz4AAIA/AACAPwAAAAD0+z4/AACAPwAAAAAAAAAAAACAPwAAAD8AAAAAAAAAAA==",
        "encoding": "base64",
        "path": [
         "color_map",
         "data"
        ]
       },
       {
        "data": "",
        "encoding": "base64",
        "path": [
         "colors",
         "data"
        ]
       },
       {
        "data": "AACAPwAAAAAAAAAAAAAAAAAAAAAAAIA/AAAAAAAAAAAAAAAAAAAAAAAAgD8AAAAAAAAAAAAAAAAAAAAAAACAPw==",
        "encoding": "base64",
        "path": [
         "model_matrix",
         "data"
        ]
       },
       {
        "data": "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",
        "encoding": "base64",
        "path": [
         "vertices",
         "data"
        ]
       }
      ],
      "model_module": "k3d",
      "model_module_version": "2.9.0",
      "model_name": "ObjectModel",
      "state": {
       "_color_range_high": 0.1,
       "_color_range_low": 0,
       "_view_count": null,
       "_view_module": null,
       "_view_module_version": "",
       "_view_name": null,
       "attribute": {
        "dtype": "float32",
        "shape": [
         500
        ]
       },
       "color": 255,
       "colorLegend": false,
       "color_map": {
        "dtype": "float32",
        "shape": [
         28
        ]
       },
       "color_range": [
        0,
        0.1
       ],
       "colors": {
        "dtype": "uint32",
        "shape": [
         0
        ]
       },
       "compression_level": 0,
       "id": 4826736272,
       "model_matrix": {
        "dtype": "float32",
        "shape": [
         4,
         4
        ]
       },
       "name": "Line #8",
       "radial_segments": 8,
       "shader": "mesh",
       "type": "Line",
       "vertices": {
        "dtype": "float32",
        "shape": [
         500,
         3
        ]
       },
       "visible": true,
       "width": 0.0025
      }
     },
     "d3323b4d7cb8416ba5394ba8e4d78296": {
      "buffers": [
       {
        "data": "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",
        "encoding": "base64",
        "path": [
         "attribute",
         "data"
        ]
       },
       {
        "data": "AACAvwAAAAAAAAAAAAAQP3YcR78AAAAAAAAAAAAAgD+ZKIq+AAAAAAAAgD8AAIA/GAiCvAAAAD8AAIA/AAAAPy3Pcz4AAIA/AACAPwAAAAD0+z4/AACAPwAAAAAAAAAAAACAPwAAAD8AAAAAAAAAAA==",
        "encoding": "base64",
        "path": [
         "color_map",
         "data"
        ]
       },
       {
        "data": "",
        "encoding": "base64",
        "path": [
         "colors",
         "data"
        ]
       },
       {
        "data": "AACAPwAAAAAAAAAAAAAAAAAAAAAAAIA/AAAAAAAAAAAAAAAAAAAAAAAAgD8AAAAAAAAAAAAAAAAAAAAAAACAPw==",
        "encoding": "base64",
        "path": [
         "model_matrix",
         "data"
        ]
       },
       {
        "data": "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",
        "encoding": "base64",
        "path": [
         "vertices",
         "data"
        ]
       }
      ],
      "model_module": "k3d",
      "model_module_version": "2.9.0",
      "model_name": "ObjectModel",
      "state": {
       "_color_range_high": 0.1,
       "_color_range_low": 0,
       "_view_count": null,
       "_view_module": null,
       "_view_module_version": "",
       "_view_name": null,
       "attribute": {
        "dtype": "float32",
        "shape": [
         500
        ]
       },
       "color": 255,
       "colorLegend": false,
       "color_map": {
        "dtype": "float32",
        "shape": [
         28
        ]
       },
       "color_range": [
        0,
        0.1
       ],
       "colors": {
        "dtype": "uint32",
        "shape": [
         0
        ]
       },
       "compression_level": 0,
       "id": 4826738128,
       "model_matrix": {
        "dtype": "float32",
        "shape": [
         4,
         4
        ]
       },
       "name": "Line #10",
       "radial_segments": 8,
       "shader": "mesh",
       "type": "Line",
       "vertices": {
        "dtype": "float32",
        "shape": [
         500,
         3
        ]
       },
       "visible": true,
       "width": 0.0025
      }
     },
     "d3679e7a46db4e448cfe49e5b4aec04e": {
      "buffers": [
       {
        "data": "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",
        "encoding": "base64",
        "path": [
         "attribute",
         "data"
        ]
       },
       {
        "data": "AACAvwAAAAAAAAAAAAAQP3YcR78AAAAAAAAAAAAAgD+ZKIq+AAAAAAAAgD8AAIA/GAiCvAAAAD8AAIA/AAAAPy3Pcz4AAIA/AACAPwAAAAD0+z4/AACAPwAAAAAAAAAAAACAPwAAAD8AAAAAAAAAAA==",
        "encoding": "base64",
        "path": [
         "color_map",
         "data"
        ]
       },
       {
        "data": "",
        "encoding": "base64",
        "path": [
         "colors",
         "data"
        ]
       },
       {
        "data": "AACAPwAAAAAAAAAAAAAAAAAAAAAAAIA/AAAAAAAAAAAAAAAAAAAAAAAAgD8AAAAAAAAAAAAAAAAAAAAAAACAPw==",
        "encoding": "base64",
        "path": [
         "model_matrix",
         "data"
        ]
       },
       {
        "data": "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",
        "encoding": "base64",
        "path": [
         "vertices",
         "data"
        ]
       }
      ],
      "model_module": "k3d",
      "model_module_version": "2.9.0",
      "model_name": "ObjectModel",
      "state": {
       "_color_range_high": 0.1,
       "_color_range_low": 0,
       "_view_count": null,
       "_view_module": null,
       "_view_module_version": "",
       "_view_name": null,
       "attribute": {
        "dtype": "float32",
        "shape": [
         500
        ]
       },
       "color": 255,
       "colorLegend": false,
       "color_map": {
        "dtype": "float32",
        "shape": [
         28
        ]
       },
       "color_range": [
        0,
        0.1
       ],
       "colors": {
        "dtype": "uint32",
        "shape": [
         0
        ]
       },
       "compression_level": 0,
       "id": 4826736144,
       "model_matrix": {
        "dtype": "float32",
        "shape": [
         4,
         4
        ]
       },
       "name": "Line #23",
       "radial_segments": 8,
       "shader": "mesh",
       "type": "Line",
       "vertices": {
        "dtype": "float32",
        "shape": [
         500,
         3
        ]
       },
       "visible": true,
       "width": 0.0025
      }
     },
     "d65c381722a247d586d234dabf98a7c3": {
      "buffers": [
       {
        "data": "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",
        "encoding": "base64",
        "path": [
         "attribute",
         "data"
        ]
       },
       {
        "data": "AACAvwAAAAAAAAAAAAAQP3YcR78AAAAAAAAAAAAAgD+ZKIq+AAAAAAAAgD8AAIA/GAiCvAAAAD8AAIA/AAAAPy3Pcz4AAIA/AACAPwAAAAD0+z4/AACAPwAAAAAAAAAAAACAPwAAAD8AAAAAAAAAAA==",
        "encoding": "base64",
        "path": [
         "color_map",
         "data"
        ]
       },
       {
        "data": "",
        "encoding": "base64",
        "path": [
         "colors",
         "data"
        ]
       },
       {
        "data": "AACAPwAAAAAAAAAAAAAAAAAAAAAAAIA/AAAAAAAAAAAAAAAAAAAAAAAAgD8AAAAAAAAAAAAAAAAAAAAAAACAPw==",
        "encoding": "base64",
        "path": [
         "model_matrix",
         "data"
        ]
       },
       {
        "data": "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",
        "encoding": "base64",
        "path": [
         "vertices",
         "data"
        ]
       }
      ],
      "model_module": "k3d",
      "model_module_version": "2.9.0",
      "model_name": "ObjectModel",
      "state": {
       "_color_range_high": 0.1,
       "_color_range_low": 0,
       "_view_count": null,
       "_view_module": null,
       "_view_module_version": "",
       "_view_name": null,
       "attribute": {
        "dtype": "float32",
        "shape": [
         500
        ]
       },
       "color": 255,
       "colorLegend": false,
       "color_map": {
        "dtype": "float32",
        "shape": [
         28
        ]
       },
       "color_range": [
        0,
        0.1
       ],
       "colors": {
        "dtype": "uint32",
        "shape": [
         0
        ]
       },
       "compression_level": 0,
       "id": 4826736208,
       "model_matrix": {
        "dtype": "float32",
        "shape": [
         4,
         4
        ]
       },
       "name": "Line #25",
       "radial_segments": 8,
       "shader": "mesh",
       "type": "Line",
       "vertices": {
        "dtype": "float32",
        "shape": [
         500,
         3
        ]
       },
       "visible": true,
       "width": 0.0025
      }
     },
     "d6f7f34b22c44e9e873fd70d754d7975": {
      "buffers": [
       {
        "data": "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",
        "encoding": "base64",
        "path": [
         "attribute",
         "data"
        ]
       },
       {
        "data": "AACAvwAAAAAAAAAAAAAQP3YcR78AAAAAAAAAAAAAgD+ZKIq+AAAAAAAAgD8AAIA/GAiCvAAAAD8AAIA/AAAAPy3Pcz4AAIA/AACAPwAAAAD0+z4/AACAPwAAAAAAAAAAAACAPwAAAD8AAAAAAAAAAA==",
        "encoding": "base64",
        "path": [
         "color_map",
         "data"
        ]
       },
       {
        "data": "",
        "encoding": "base64",
        "path": [
         "colors",
         "data"
        ]
       },
       {
        "data": "AACAPwAAAAAAAAAAAAAAAAAAAAAAAIA/AAAAAAAAAAAAAAAAAAAAAAAAgD8AAAAAAAAAAAAAAAAAAAAAAACAPw==",
        "encoding": "base64",
        "path": [
         "model_matrix",
         "data"
        ]
       },
       {
        "data": "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",
        "encoding": "base64",
        "path": [
         "vertices",
         "data"
        ]
       }
      ],
      "model_module": "k3d",
      "model_module_version": "2.9.0",
      "model_name": "ObjectModel",
      "state": {
       "_color_range_high": 0.1,
       "_color_range_low": 0,
       "_view_count": null,
       "_view_module": null,
       "_view_module_version": "",
       "_view_name": null,
       "attribute": {
        "dtype": "float32",
        "shape": [
         500
        ]
       },
       "color": 255,
       "colorLegend": false,
       "color_map": {
        "dtype": "float32",
        "shape": [
         28
        ]
       },
       "color_range": [
        0,
        0.1
       ],
       "colors": {
        "dtype": "uint32",
        "shape": [
         0
        ]
       },
       "compression_level": 0,
       "id": 4825109072,
       "model_matrix": {
        "dtype": "float32",
        "shape": [
         4,
         4
        ]
       },
       "name": "Line #3",
       "radial_segments": 8,
       "shader": "mesh",
       "type": "Line",
       "vertices": {
        "dtype": "float32",
        "shape": [
         500,
         3
        ]
       },
       "visible": true,
       "width": 0.0025
      }
     },
     "d78f8c6e0d3141ccaf99700024808c4d": {
      "buffers": [
       {
        "data": "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",
        "encoding": "base64",
        "path": [
         "attribute",
         "data"
        ]
       },
       {
        "data": "AACAvwAAAAAAAAAAAAAQP3YcR78AAAAAAAAAAAAAgD+ZKIq+AAAAAAAAgD8AAIA/GAiCvAAAAD8AAIA/AAAAPy3Pcz4AAIA/AACAPwAAAAD0+z4/AACAPwAAAAAAAAAAAACAPwAAAD8AAAAAAAAAAA==",
        "encoding": "base64",
        "path": [
         "color_map",
         "data"
        ]
       },
       {
        "data": "",
        "encoding": "base64",
        "path": [
         "colors",
         "data"
        ]
       },
       {
        "data": "AACAPwAAAAAAAAAAAAAAAAAAAAAAAIA/AAAAAAAAAAAAAAAAAAAAAAAAgD8AAAAAAAAAAAAAAAAAAAAAAACAPw==",
        "encoding": "base64",
        "path": [
         "model_matrix",
         "data"
        ]
       },
       {
        "data": "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",
        "encoding": "base64",
        "path": [
         "vertices",
         "data"
        ]
       }
      ],
      "model_module": "k3d",
      "model_module_version": "2.9.0",
      "model_name": "ObjectModel",
      "state": {
       "_color_range_high": 0.1,
       "_color_range_low": 0,
       "_view_count": null,
       "_view_module": null,
       "_view_module_version": "",
       "_view_name": null,
       "attribute": {
        "dtype": "float32",
        "shape": [
         500
        ]
       },
       "color": 255,
       "colorLegend": false,
       "color_map": {
        "dtype": "float32",
        "shape": [
         28
        ]
       },
       "color_range": [
        0,
        0.1
       ],
       "colors": {
        "dtype": "uint32",
        "shape": [
         0
        ]
       },
       "compression_level": 0,
       "id": 4827018896,
       "model_matrix": {
        "dtype": "float32",
        "shape": [
         4,
         4
        ]
       },
       "name": "Line #32",
       "radial_segments": 8,
       "shader": "mesh",
       "type": "Line",
       "vertices": {
        "dtype": "float32",
        "shape": [
         500,
         3
        ]
       },
       "visible": true,
       "width": 0.0025
      }
     },
     "d7b2ea8bce3f4bb1ae5ddf28254c601a": {
      "buffers": [
       {
        "data": "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",
        "encoding": "base64",
        "path": [
         "attribute",
         "data"
        ]
       },
       {
        "data": "AACAvwAAAAAAAAAAAAAQP3YcR78AAAAAAAAAAAAAgD+ZKIq+AAAAAAAAgD8AAIA/GAiCvAAAAD8AAIA/AAAAPy3Pcz4AAIA/AACAPwAAAAD0+z4/AACAPwAAAAAAAAAAAACAPwAAAD8AAAAAAAAAAA==",
        "encoding": "base64",
        "path": [
         "color_map",
         "data"
        ]
       },
       {
        "data": "",
        "encoding": "base64",
        "path": [
         "colors",
         "data"
        ]
       },
       {
        "data": "AACAPwAAAAAAAAAAAAAAAAAAAAAAAIA/AAAAAAAAAAAAAAAAAAAAAAAAgD8AAAAAAAAAAAAAAAAAAAAAAACAPw==",
        "encoding": "base64",
        "path": [
         "model_matrix",
         "data"
        ]
       },
       {
        "data": "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",
        "encoding": "base64",
        "path": [
         "vertices",
         "data"
        ]
       }
      ],
      "model_module": "k3d",
      "model_module_version": "2.9.0",
      "model_name": "ObjectModel",
      "state": {
       "_color_range_high": 0.1,
       "_color_range_low": 0,
       "_view_count": null,
       "_view_module": null,
       "_view_module_version": "",
       "_view_name": null,
       "attribute": {
        "dtype": "float32",
        "shape": [
         500
        ]
       },
       "color": 255,
       "colorLegend": false,
       "color_map": {
        "dtype": "float32",
        "shape": [
         28
        ]
       },
       "color_range": [
        0,
        0.1
       ],
       "colors": {
        "dtype": "uint32",
        "shape": [
         0
        ]
       },
       "compression_level": 0,
       "id": 4826997968,
       "model_matrix": {
        "dtype": "float32",
        "shape": [
         4,
         4
        ]
       },
       "name": "Line #41",
       "radial_segments": 8,
       "shader": "mesh",
       "type": "Line",
       "vertices": {
        "dtype": "float32",
        "shape": [
         500,
         3
        ]
       },
       "visible": true,
       "width": 0.0025
      }
     },
     "dd772845694c4f5f8f3d22d1986f2b14": {
      "buffers": [
       {
        "data": "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",
        "encoding": "base64",
        "path": [
         "attribute",
         "data"
        ]
       },
       {
        "data": "AACAvwAAAAAAAAAAAAAQP3YcR78AAAAAAAAAAAAAgD+ZKIq+AAAAAAAAgD8AAIA/GAiCvAAAAD8AAIA/AAAAPy3Pcz4AAIA/AACAPwAAAAD0+z4/AACAPwAAAAAAAAAAAACAPwAAAD8AAAAAAAAAAA==",
        "encoding": "base64",
        "path": [
         "color_map",
         "data"
        ]
       },
       {
        "data": "",
        "encoding": "base64",
        "path": [
         "colors",
         "data"
        ]
       },
       {
        "data": "AACAPwAAAAAAAAAAAAAAAAAAAAAAAIA/AAAAAAAAAAAAAAAAAAAAAAAAgD8AAAAAAAAAAAAAAAAAAAAAAACAPw==",
        "encoding": "base64",
        "path": [
         "model_matrix",
         "data"
        ]
       },
       {
        "data": "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",
        "encoding": "base64",
        "path": [
         "vertices",
         "data"
        ]
       }
      ],
      "model_module": "k3d",
      "model_module_version": "2.9.0",
      "model_name": "ObjectModel",
      "state": {
       "_color_range_high": 0.1,
       "_color_range_low": 0,
       "_view_count": null,
       "_view_module": null,
       "_view_module_version": "",
       "_view_name": null,
       "attribute": {
        "dtype": "float32",
        "shape": [
         500
        ]
       },
       "color": 255,
       "colorLegend": false,
       "color_map": {
        "dtype": "float32",
        "shape": [
         28
        ]
       },
       "color_range": [
        0,
        0.1
       ],
       "colors": {
        "dtype": "uint32",
        "shape": [
         0
        ]
       },
       "compression_level": 0,
       "id": 4826862672,
       "model_matrix": {
        "dtype": "float32",
        "shape": [
         4,
         4
        ]
       },
       "name": "Line #11",
       "radial_segments": 8,
       "shader": "mesh",
       "type": "Line",
       "vertices": {
        "dtype": "float32",
        "shape": [
         500,
         3
        ]
       },
       "visible": true,
       "width": 0.0025
      }
     },
     "e632a3091e9b411695e5d049a0af43d2": {
      "buffers": [
       {
        "data": "h1U1PAsZNTzD3DQ8r6A0PM9kNDwkKTQ8re0zPGmyMzxZdzM8fTwzPNQBMzxfxzI8Ho0yPA9TMjw0GTI8jN8xPBamMTzUbDE8xDMxPOf6MDw9wjA8xokwPIBRMDxuGTA8jeEvPN+pLzxici88GDsvPAAELzwZzS48ZZYuPOJfLjyRKS48cfMtPIO9LTzGhy08O1ItPOEcLTy45yw8wLIsPPl9LDxkSSw8/xQsPMvgKzzIrCs89XgrPFNFKzziESs8od4qPJGrKjyxeCo8AkYqPIMTKjw04Sk8Fa8pPCZ9KTxnSyk82BkpPHroKDxLtyg8S4YoPHxVKDzcJCg8bPQnPCvEJzwalCc8OWQnPIc0JzwEBSc8sNUmPIymJjyXdyY80kgmPDsaJjzU6yU8m70lPJKPJTy3YSU8CzQlPI4GJTxA2SQ8IawkPDB/JDxuUiQ82yUkPHb5IzxAzSM8OaEjPF91Izy1SSM8OR4jPOvyIjzLxyI82pwiPBdyIjyCRyI8Gx0iPOPyITzYyCE8/J4hPE51ITzOSyE8fCIhPFj5IDxh0CA8macgPP9+IDySViA8Uy4gPEMGIDxf3h88qrYfPCKPHzzIZx88nEAfPJ4ZHzzN8h48KcwePLOlHjxrfx48UVkePGMzHjykDR48EugdPK3CHTx2nR08bHgdPI9THTzgLh08XgodPArmHDzjwRw86Z0cPB16HDx9Vhw8CzMcPMcPHDyv7Bs8xckbPAinGzx4hBs8FWIbPN8/GzzWHRs8+/saPE3aGjzLuBo8d5caPFB2GjxWVRo8iTQaPOkTGjx28xk8MNMZPBezGTwrkxk8bHMZPNpTGTx1NBk8PRUZPDL2GDxU1xg8o7gYPB+aGDzIexg8nV0YPKA/GDzPIRg8LAQYPLXmFzxsyRc8T6wXPF+PFzydchc8B1YXPJ45FzxiHRc8UwEXPHHlFjy8yRY8M64WPNiSFjyqdxY8qFwWPNRBFjwsJxY8sgwWPGTyFTxD2BU8UL4VPImkFTzvihU8gXEVPEFYFTwtPxU8RyYVPI0NFTwA9RQ8n9wUPGzEFDxlrBQ8i5QUPN58FDxeZRQ8C04UPOU2FDzsHxQ8HwkUPH/yEzwN3BM8x8UTPK6vEzzDmRM8BIQTPHJuEzwNWRM81UMTPMouEzzsGRM8OwUTPLfwEjxg3BI8NsgSPDi0EjxooBI8xYwSPE95EjwGZhI86lISPPs/Ejw4LRI8oxoSPDsIEjwA9hE88uMRPBHSETxdwBE81q4RPHydETxPjBE8UHsRPH1qETzXWRE8XkkRPBM5ETz0KBE8AxkRPD4JETyn+RA8POoQPP/aEDzvyxA8C70QPFWuEDzMnxA8cJEQPEGDEDxAdRA8a2cQPMNZEDxJTBA8+z4QPNsxEDzoJBA8IRgQPIgLEDwc/w883fIPPMvmDzzn2g88L88PPKXDDzxHuA88F60PPBSiDzw9lw88lIwPPBiCDzzKdw88qG0PPLNjDzzsWQ88UVAPPORGDzykPQ88kTQPPKsrDzzyIg88ZhoPPAcSDzzWCQ880QEPPPr5DjxQ8g480+oOPIPjDjxg3A48atUOPKHODjwFyA48l8EOPFa7DjxBtQ48Wq8OPKCpDjwTpA48tJ4OPIGZDjx8lA48o48OPPiKDjx6hg48KYIOPAZ+DjwPeg48RnYOPKpyDjw7bw48+WsOPOVoDjz+ZQ48RGMOPLdgDjxXXg48JVwOPCBaDjxIWA48nVYOPCBVDjzQUw48rVIOPLdRDjzvUA48VFAOPOZPDjylTw48kU8OPKtPDjzyTw48ZlAOPAhRDjzXUQ4801IOPPxTDjxTVQ4811YOPIhYDjxnWg48clwOPKteDjwSYQ48pmMOPGdmDjxVaQ48cGwOPLlvDjwvcw4803YOPKN6Djyhfg48zIIOPCWHDjyriw48XpAOPD6VDjxLmg48hp8OPO6kDjyEqg48RrAOPDa2DjxTvA48ncIOPBXJDjy6zw48jNYOPIvdDjy35A48EewOPJfzDjxL+w48LAMPPDsLDzx2Ew883xsPPHQkDzw3LQ88JzYPPEQ/DzyOSA88BlIPPKpbDzx7ZQ88em8PPKZ5Dzz+gw88hI4PPDeZDzwWpA88I68PPF26DzzExQ88WNEPPBjdDzwG6Q88IfUPPGkBEDzdDRA8fxoQPE4nEDxJNBA8cUEQPMdOEDxJXBA8+GkQPNR3EDzdhRA8E5QQPHaiEDwFsRA8wr8QPKvOEDzB3RA8BO0QPHT8EDwRDBE82hsRPNErETz0OxE8REwRPMFcETxrbRE8QX4RPEWPETx1oBE80rERPFvDETwS1RE89eYRPAX5ETxCCxI8qx0SPEEwEjwEQxI89FUSPBBpEjxafBI8z48SPHKjEjxBtxI8PcsSPGbfEjy88xI8PggTPO0cEzzIMRM80UYTPAZcEzxncRM89oYTPLGcEzyZshM8rsgTPPDeEzxe9RM8+QsUPMEiFDy1ORQ811AUPCVoFDyffxQ8R5cUPBuvFDwcxxQ8St8UPKT3FDwrEBU83ygVPL9BFTzMWhU8BnQVPG2NFTwApxU8wMAVPKzaFTzF9BU8Cw8WPH4pFjweRBY86l4WPON5FjwJlRY8W7AWPNvLFjyH5xY8YAMXPGYfFzyZOxc8+VcXPIV0Fzw=",
        "encoding": "base64",
        "path": [
         "attribute",
         "data"
        ]
       },
       {
        "data": "AACAvwAAAAAAAAAAAAAQP3YcR78AAAAAAAAAAAAAgD+ZKIq+AAAAAAAAgD8AAIA/GAiCvAAAAD8AAIA/AAAAPy3Pcz4AAIA/AACAPwAAAAD0+z4/AACAPwAAAAAAAAAAAACAPwAAAD8AAAAAAAAAAA==",
        "encoding": "base64",
        "path": [
         "color_map",
         "data"
        ]
       },
       {
        "data": "",
        "encoding": "base64",
        "path": [
         "colors",
         "data"
        ]
       },
       {
        "data": "AACAPwAAAAAAAAAAAAAAAAAAAAAAAIA/AAAAAAAAAAAAAAAAAAAAAAAAgD8AAAAAAAAAAAAAAAAAAAAAAACAPw==",
        "encoding": "base64",
        "path": [
         "model_matrix",
         "data"
        ]
       },
       {
        "data": "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",
        "encoding": "base64",
        "path": [
         "vertices",
         "data"
        ]
       }
      ],
      "model_module": "k3d",
      "model_module_version": "2.9.0",
      "model_name": "ObjectModel",
      "state": {
       "_color_range_high": 0.1,
       "_color_range_low": 0,
       "_view_count": null,
       "_view_module": null,
       "_view_module_version": "",
       "_view_name": null,
       "attribute": {
        "dtype": "float32",
        "shape": [
         500
        ]
       },
       "color": 255,
       "colorLegend": false,
       "color_map": {
        "dtype": "float32",
        "shape": [
         28
        ]
       },
       "color_range": [
        0,
        0.1
       ],
       "colors": {
        "dtype": "uint32",
        "shape": [
         0
        ]
       },
       "compression_level": 0,
       "id": 4827000464,
       "model_matrix": {
        "dtype": "float32",
        "shape": [
         4,
         4
        ]
       },
       "name": "Line #50",
       "radial_segments": 8,
       "shader": "mesh",
       "type": "Line",
       "vertices": {
        "dtype": "float32",
        "shape": [
         500,
         3
        ]
       },
       "visible": true,
       "width": 0.0025
      }
     },
     "e7947e2406bb40c998cbe07ece242e5d": {
      "model_module": "@jupyter-widgets/output",
      "model_module_version": "1.0.0",
      "model_name": "OutputModel",
      "state": {
       "layout": "IPY_MODEL_09c6adc053d94dc297582fd9e4517914",
       "outputs": [
        {
         "data": {
          "application/vnd.jupyter.widget-view+json": {
           "model_id": "b54ae7dd33cf48948654309ec1a9ecff",
           "version_major": 2,
           "version_minor": 0
          },
          "text/plain": "Plot(antialias=3, axes=['x', 'y', 'z'], axes_helper=1.0, background_color=16777215, camera=[2, -3, 0.2, 0.0, 0…"
         },
         "metadata": {},
         "output_type": "display_data"
        }
       ]
      }
     },
     "eecbd44a9daa41eab0e14dd6c04db099": {
      "buffers": [
       {
        "data": "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",
        "encoding": "base64",
        "path": [
         "attribute",
         "data"
        ]
       },
       {
        "data": "AACAvwAAAAAAAAAAAAAQP3YcR78AAAAAAAAAAAAAgD+ZKIq+AAAAAAAAgD8AAIA/GAiCvAAAAD8AAIA/AAAAPy3Pcz4AAIA/AACAPwAAAAD0+z4/AACAPwAAAAAAAAAAAACAPwAAAD8AAAAAAAAAAA==",
        "encoding": "base64",
        "path": [
         "color_map",
         "data"
        ]
       },
       {
        "data": "",
        "encoding": "base64",
        "path": [
         "colors",
         "data"
        ]
       },
       {
        "data": "AACAPwAAAAAAAAAAAAAAAAAAAAAAAIA/AAAAAAAAAAAAAAAAAAAAAAAAgD8AAAAAAAAAAAAAAAAAAAAAAACAPw==",
        "encoding": "base64",
        "path": [
         "model_matrix",
         "data"
        ]
       },
       {
        "data": "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",
        "encoding": "base64",
        "path": [
         "vertices",
         "data"
        ]
       }
      ],
      "model_module": "k3d",
      "model_module_version": "2.9.0",
      "model_name": "ObjectModel",
      "state": {
       "_color_range_high": 0.1,
       "_color_range_low": 0,
       "_view_count": null,
       "_view_module": null,
       "_view_module_version": "",
       "_view_name": null,
       "attribute": {
        "dtype": "float32",
        "shape": [
         500
        ]
       },
       "color": 255,
       "colorLegend": false,
       "color_map": {
        "dtype": "float32",
        "shape": [
         28
        ]
       },
       "color_range": [
        0,
        0.1
       ],
       "colors": {
        "dtype": "uint32",
        "shape": [
         0
        ]
       },
       "compression_level": 0,
       "id": 4826865616,
       "model_matrix": {
        "dtype": "float32",
        "shape": [
         4,
         4
        ]
       },
       "name": "Line #22",
       "radial_segments": 8,
       "shader": "mesh",
       "type": "Line",
       "vertices": {
        "dtype": "float32",
        "shape": [
         500,
         3
        ]
       },
       "visible": true,
       "width": 0.0025
      }
     },
     "f2f3c09c609d41838c6309b9840c722b": {
      "buffers": [
       {
        "data": "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",
        "encoding": "base64",
        "path": [
         "attribute",
         "data"
        ]
       },
       {
        "data": "AACAvwAAAAAAAAAAAAAQP3YcR78AAAAAAAAAAAAAgD+ZKIq+AAAAAAAAgD8AAIA/GAiCvAAAAD8AAIA/AAAAPy3Pcz4AAIA/AACAPwAAAAD0+z4/AACAPwAAAAAAAAAAAACAPwAAAD8AAAAAAAAAAA==",
        "encoding": "base64",
        "path": [
         "color_map",
         "data"
        ]
       },
       {
        "data": "",
        "encoding": "base64",
        "path": [
         "colors",
         "data"
        ]
       },
       {
        "data": "AACAPwAAAAAAAAAAAAAAAAAAAAAAAIA/AAAAAAAAAAAAAAAAAAAAAAAAgD8AAAAAAAAAAAAAAAAAAAAAAACAPw==",
        "encoding": "base64",
        "path": [
         "model_matrix",
         "data"
        ]
       },
       {
        "data": "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",
        "encoding": "base64",
        "path": [
         "vertices",
         "data"
        ]
       }
      ],
      "model_module": "k3d",
      "model_module_version": "2.9.0",
      "model_name": "ObjectModel",
      "state": {
       "_color_range_high": 0.1,
       "_color_range_low": 0,
       "_view_count": null,
       "_view_module": null,
       "_view_module_version": "",
       "_view_name": null,
       "attribute": {
        "dtype": "float32",
        "shape": [
         500
        ]
       },
       "color": 255,
       "colorLegend": false,
       "color_map": {
        "dtype": "float32",
        "shape": [
         28
        ]
       },
       "color_range": [
        0,
        0.1
       ],
       "colors": {
        "dtype": "uint32",
        "shape": [
         0
        ]
       },
       "compression_level": 0,
       "id": 4826909392,
       "model_matrix": {
        "dtype": "float32",
        "shape": [
         4,
         4
        ]
       },
       "name": "Line #28",
       "radial_segments": 8,
       "shader": "mesh",
       "type": "Line",
       "vertices": {
        "dtype": "float32",
        "shape": [
         500,
         3
        ]
       },
       "visible": true,
       "width": 0.0025
      }
     },
     "f87c822ef27b49ffb80659afea51d718": {
      "buffers": [
       {
        "data": "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",
        "encoding": "base64",
        "path": [
         "attribute",
         "data"
        ]
       },
       {
        "data": "AACAvwAAAAAAAAAAAAAQP3YcR78AAAAAAAAAAAAAgD+ZKIq+AAAAAAAAgD8AAIA/GAiCvAAAAD8AAIA/AAAAPy3Pcz4AAIA/AACAPwAAAAD0+z4/AACAPwAAAAAAAAAAAACAPwAAAD8AAAAAAAAAAA==",
        "encoding": "base64",
        "path": [
         "color_map",
         "data"
        ]
       },
       {
        "data": "",
        "encoding": "base64",
        "path": [
         "colors",
         "data"
        ]
       },
       {
        "data": "AACAPwAAAAAAAAAAAAAAAAAAAAAAAIA/AAAAAAAAAAAAAAAAAAAAAAAAgD8AAAAAAAAAAAAAAAAAAAAAAACAPw==",
        "encoding": "base64",
        "path": [
         "model_matrix",
         "data"
        ]
       },
       {
        "data": "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",
        "encoding": "base64",
        "path": [
         "vertices",
         "data"
        ]
       }
      ],
      "model_module": "k3d",
      "model_module_version": "2.9.0",
      "model_name": "ObjectModel",
      "state": {
       "_color_range_high": 0.1,
       "_color_range_low": 0,
       "_view_count": null,
       "_view_module": null,
       "_view_module_version": "",
       "_view_name": null,
       "attribute": {
        "dtype": "float32",
        "shape": [
         500
        ]
       },
       "color": 255,
       "colorLegend": false,
       "color_map": {
        "dtype": "float32",
        "shape": [
         28
        ]
       },
       "color_range": [
        0,
        0.1
       ],
       "colors": {
        "dtype": "uint32",
        "shape": [
         0
        ]
       },
       "compression_level": 0,
       "id": 4826999440,
       "model_matrix": {
        "dtype": "float32",
        "shape": [
         4,
         4
        ]
       },
       "name": "Line #49",
       "radial_segments": 8,
       "shader": "mesh",
       "type": "Line",
       "vertices": {
        "dtype": "float32",
        "shape": [
         500,
         3
        ]
       },
       "visible": true,
       "width": 0.0025
      }
     },
     "face1e4bb0fa4c5796bca7cf4246bbd5": {
      "buffers": [
       {
        "data": "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",
        "encoding": "base64",
        "path": [
         "attribute",
         "data"
        ]
       },
       {
        "data": "AACAvwAAAAAAAAAAAAAQP3YcR78AAAAAAAAAAAAAgD+ZKIq+AAAAAAAAgD8AAIA/GAiCvAAAAD8AAIA/AAAAPy3Pcz4AAIA/AACAPwAAAAD0+z4/AACAPwAAAAAAAAAAAACAPwAAAD8AAAAAAAAAAA==",
        "encoding": "base64",
        "path": [
         "color_map",
         "data"
        ]
       },
       {
        "data": "",
        "encoding": "base64",
        "path": [
         "colors",
         "data"
        ]
       },
       {
        "data": "AACAPwAAAAAAAAAAAAAAAAAAAAAAAIA/AAAAAAAAAAAAAAAAAAAAAAAAgD8AAAAAAAAAAAAAAAAAAAAAAACAPw==",
        "encoding": "base64",
        "path": [
         "model_matrix",
         "data"
        ]
       },
       {
        "data": "Md++vghDjj8lSBq/+Ty+vt5Gjj+bPRq/cZq9vn5Kjj/ZMhq/m/e8vupNjj/fJxq/dlS8viBRjj+sHBq/ArG7viFUjj9BERq/QA27vuxWjj+eBRq/MGm6voJZjj/C+Rm/0cS5vuNbjj+u7Rm/JSC5vg5ejj9h4Rm/Knu4vgNgjj/c1Bm/4tW3vsNhjj8fyBm/TDC3vk1jjj8puxm/aYq2vqFkjj/7rRm/OeS1vsBljj+UoBm/uz21vqlmjj/0khm/8Za0vltnjj8chRm/2e+zvthnjj8Ldxm/dUizvh9ojj/BaBm/xaCyvjBojj8/Whm/yPixvgtojj+ESxm/flCxvq9njj+QPBm/6aewvh1njj9jLRm/B/+vvlVmjj/+HRm/2lWvvldljj9fDhm/YKyuviJkjj+I/hi/nAKuvrdijj937hi/i1itvhVhjj8u3hi/MK6svj1fjj+rzRi/iQOsvi5djj/wvBi/l1irvuhajj/7qxi/Wq2qvmxYjj/Nmhi/0wGqvrhVjj9miRi/AVapvs5Sjj/Gdxi/5Kmovq1Pjj/sZRi/ff2nvlVMjj/ZUxi/y1CnvsVIjj+NQRi/0KOmvv9Ejj8HLxi/i/alvgFBjj9IHBi/+0ilvsw8jj9PCRi/IpukvmA4jj8d9he/AO2jvrwzjj+x4he/lD6jvuAujj8Mzxe/3o+ivs4pjj8suxe/4OChvoMkjj8Upxe/mDGhvgEfjj/Bkhe/CIKgvkcZjj80fhe/LtKfvlUTjj9uaRe/DCKfvisNjj9uVBe/onGevskGjj80Pxe/78Cdvi8Ajj+/KRe/9A+dvl35jT8RFBe/sV6cvlPyjT8p/ha/Ja2bvhDrjT8G6Ba/UvuavpXjjT+p0Ra/N0mavuHbjT8Suxa/1JaZvvXTjT9BpBa/KuSYvtHLjT81jRa/OTGYvnPDjT/vdRa/AH6Xvt26jT9uXha/gMqWvg6yjT+zRha/uhaWvgapjT+9Lha/rGKVvsWfjT+NFha/WK6UvkuWjT8i/hW/vfmTvpiMjT985RW/20STvquCjT+bzBW/s4+SvoV4jT+AsxW/RdqRviVujT8pmhW/kSSRvoxjjT+YgBW/l26QvrpYjT/LZhW/V7iPvq1NjT/DTBW/0gGPvmdCjT+BMhW/B0uOvuc2jT8DGBW/9pONvi0rjT9J/RS/oNyMvjkfjT9U4hS/BSWMvgoTjT8kxxS/JW2LvqIGjT+5qxS/ALWKvv/5jD8RkBS/lvyJviHtjD8vdBS/50OJvgngjD8QWBS/9IqIvrbSjD+2OxS/vNGHvinFjD8gHxS/QBiHvmG3jD9OAhS/gF6Gvl2pjD9A5RO/fKSFvh+bjD/2xxO/NOqEvqaMjD9wqhO/qC+EvvF9jD+tjBO/2HSDvgFvjD+vbhO/xbmCvtVfjD90UBO/bv6Bvm5QjD/9MRO/1EKBvstAjD9JExO/94aAvuwwjD9Z9BK/rpV/vtIgjD8s1RK/6Bx+vnsQjD/CtRK/naN8vun/iz8clhK/zCl7vhrviz85dhK/dq95vg/eiz8ZVhK/mzR4vsfMiz+7NRK/PLl2vkO7iz8hFRK/WD11voKpiz9K9BG/8cBzvoSXiz810xG/BkRyvkqFiz/jsRG/l8ZwvtJyiz9TkBG/pUhvvh5giz+GbhG/MMptvixNiz98TBG/OUtsvvw5iz8zKhG/v8tqvo8miz+tBxG/w0tpvuUSiz/p5BC/Rctnvv3+ij/nwRC/RUpmvtfqij+onhC/xMhkvnPWij8pexC/wkZjvtDBij9tVxC/P8RhvvCsij9zMxC/PEFgvtGXij85DxC/ub1evnSCij/C6g+/tTldvthsij8Mxg+/MrVbvv1Wij8XoQ+/LzBavuRAij/jew+/rapYvosqij9xVg+/rSRXvvMTij+/MA+/LZ5Vvhz9iT/PCg+/MBdUvgXmiT+f5A6/tI9Svq/OiT8wvg6/uwdRvhm3iT+Blw6/RH9PvkSfiT+TcA6/UPZNvi6HiT9lSQ6/32xMvthuiT/4IQ6/8eJKvkJWiT9L+g2/h1hJvms9iT9e0g2/oc1HvlQkiT8wqg2/P0JGvvwKiT/DgQ2/YrZEvmPxiD8WWQ2/CSpDvonXiD8oMA2/Np1Bvm69iD/5Bg2/6A9AvhGjiD+K3Qy/H4I+vnOIiD/aswy/3fM8vpNtiD/qiQy/IWU7vnJSiD+4Xwy/69U5vg43iD9FNQy/PUY4vmkbiD+RCgy/FbY2voH/hz+c3wu/dSU1vlbjhz9mtAu/XZQzvunGhz/tiAu/zAIyvjqqhz80XQu/xHAwvkeNhz84MQu/Rd4uvhFwhz/6BAu/T0stvphShz962Aq/4rcrvts0hz+5qwq//yMqvtsWhz+0fgq/pY8ovpb4hj9uUQq/1vomvg7ahj/kIwq/kWUlvkK7hj8Y9gm/188jvjGchj8JyAm/qTkivtx8hj+3mQm/BaMgvkJdhj8iawm/7gsfvmM9hj9KPAm/YnQdvj8dhj8uDQm/Y9wbvtX8hT/P3Qi/8UMavibchT8rrgi/DKsYvjK7hT9Ffgi/tREXvveZhT8aTgi/63cVvnd4hT+qHQi/r90TvrBWhT/37Ae/AUMSvqM0hT//uwe/4qcQvk8ShT/Dige/UwwPvrXvhD9BWQe/UnANvtPMhD97Jwe/4tMLvqqphD9w9Qa/AjcKvjqGhD8fwwa/sZkIvoJihD+JkAa/8vsGvoI+hD+uXQa/xF0FvjoahD+NKga/J78Dvqn1gz8m9wW/HSACvtDQgz94wwW/pIAAvq+rgz+FjwW/fMH9vUSGgz9LWwW/1YD6vZBggz/LJgW/Vj/3vZM6gz8E8gS//fzzvUwUgz/2vAS/zLnwvbztgj+hhwS/xHXtveHGgj8FUgS/5jDqvbyfgj8hHAS/MevmvUx4gj/15QO/qKTjvZJQgj+CrwO/Sl3gvYwogj/HeAO/GRXdvTsAgj/EQQO/FczZvZ/XgT94CgO/P4LWvbeugT/k0gK/mDfTvYOFgT8HmwK/IezPvQNcgT/hYgK/2p/MvTYygT9xKgK/xFLJvR0IgT+58QG/4ATGvbbdgD+3uAG/L7bCvQKzgD9rfwG/sma/vQGIgD/WRQG/aRa8vbJcgD/2CwG/VcW4vRUxgD/M0QC/eHO1vSkFgD9XlwC/0iCyvd6xfz+XXAC/Y82uvcxYfz+NIQC/LnmrvRz/fj9vzP++MiSovc2kfj8sVf++cc6kvd5Jfj9T3f6+63ehvVDufT/iZP6+oSCevSGSfT/Z6/2+lciavVA1fT83cv2+x2+Xvd/XfD/89/y+OBaUvcp5fD8nffy+6buQvRMbfD+5Afy+22CNvbm7ez+whfu+DwWKvbpbez8MCfu+hqiGvRf7ej/Ni/q+QUuDvc6Zej/yDfq+gdp/veA3ej96j/m+DB15vUvVeT9mEPm+JV5yvQ5yeT+0kPi+zZ1rvSoOeT9kEPi+B9xkvZ2peD92j/e+1RhevWdEeD/qDfe+OVRXvYjedz+9i/a+NY5Qvf53dz/xCPa+y8ZJvcgQdz+EhfW+/f1Cveeodj92AfW+zjM8vVpAdj/HfPS+QGg1vR/XdT929/O+VZsuvTZtdT+BcfO+D80nvZ8CdT/q6vK+cf0gvViXdD+vY/K+fCwavWErdD/Q2/G+NFoTvbq+cz9LU/G+m4YMvWFRcz8hyvC+srEFvVXjcj9RQPC++7b9vJd0cj/bte++/QfwvCUFcj+9Ku++cFbivP6UcT/3nu6+WqLUvCIkcT+IEu6+vuvGvI+ycD9xhe2+ozK5vEZAcD+w9+y+DXervEXNbz9Eaey+A7mdvIxZbz8t2uu+ifiPvBnlbj9rSuu+pTWCvOxvbj/8ueq+uuBovAT6bT/hKOq+a1FNvGCDbT8Xl+m+a70xvAAMbT+gBOm+xCQWvOGTbD95cei+Bg/1uwUbbD+j3ee+Zsu9u2mhaz8cSee+wX6Guwwnaz/ks+a+YFIeu++raj/6Hea+XVY+ug8waj9eh+W+luJ8Om2zaT8P8OS+IxguOwY2aT8MWOS+VoSOO9u3aD9Tv+O+BgXGO+k4aD/mJeO+B479OzG5Zz/Ci+K+no8aPLE4Zz/n8OG+Rlw2PGm3Zj9VVeG+7CxSPFY1Zj8KueC+ggFuPHmyZT8FHOC+/eyEPNAuZT9Hft++ItuSPFqqZD/N396+KsugPBYlZD+YQN6+C72uPAOfYz+moN2+v7C8PCAYYz/3/9y+PqbKPGuQYj+JXty+f53YPOUHYj9dvNu+epbmPIt+YT9wGdu+KJH0PF30YD/Cddq+wEYBPVhpYD9T0dm+vEUIPX7dXz8hLNm+hEUPPctQXz8rhti+FUYWPT/DXj9x39e+aEcdPdg0Xj/xN9e+ekkkPZalXT+rj9a+RkwrPXcVXT+e5tW+x08yPXqEXD/IPNW++VM5PZ7yWz8qktS+1lhAPeFfWz/A5tO+Wl5HPULMWj+MOtO+f2ROPcA3Wj+MjdK+QGtVPVmiWT++39G+mHJcPQwMWT8iMdG+gXpjPdh0WD+2gdC+9oJqPbvcVz960c++8otxPbVDVz9tIM++b5V4PcKpVj+Nbs6+Zp9/PeMOVj/Zu82+6VSDPRZzVT9QCM2+V9qGPVjWVD/yU8y++V+KPak4VD+8nsu+zOWNPQeaUz+v6Mq+zWuRPXH6Uj/HMcq++vGUPeVZUj8Gesm+TXiYPWG4UT9owci+xf6bPeQVUT/tB8i+XoWfPWxyUD+VTce+EwyjPffNTz9cksa+4pKmPYQoTz9D1sW+yBmqPRKCTj9IGcW+v6CtPZ7aTT9pW8S+xCexPSYyTT+mnMO+1a60PamITD/83MK+6zW4PSbeSz9sHMK+BL27PZkySz/yWsG+G0S/PQKGSj+OmMC+LcvCPV/YST8/1b++NFLGPa0pST8DEb++LNnJPep5SD/YS76+EWDNPRXJRz+9hb2+3+bQPSwXRz+xvry+kG3UPS1kRj+y9ru+H/TXPRWwRT++Lbu+iXrbPeP6RD/VY7q+xwDfPZNERD/zmLm+1YbiPSWNQz8Zzbi+rQzmPZfUQj9EALi+SpLpPeQaQj9yMre+phftPQ1gQT+iY7a+vZzwPQ2kQD/Sk7W+iCH0PePmPz8Bw7S+Aab3PY0oPz8s8bO+Iir7PQhpPj9SHrO+5q3+PVGoPT9ySrK+oxgBPmfmPD+IdbG+HdoCPkYjPD+Un7C+X5sEPuxeOz+UyK++ZFwGPlaZOj+F8K6+Kx0IPoLSOT9mF66+rt0JPm0KOT81Pa2+650LPhRBOD/vYay+3l0NPnV2Nz+Thau+gh0PPoyqNj8fqKq+1dwQPlfdNT+Qyam+0ZsSPtIONT/l6ai+c1oUPvs+ND8bCai+txgWPs9tMz8wJ6e+mdYXPkqbMj8iRKa+E5QZPmnHMT/vX6W+IlEbPinyMD+TeqS+wQ0dPocbMD8OlKO+68kePoBDLz9crKK+m4UgPg9qLj97w6G+zUAiPjKPLT9p2aC+evsjPuWyLD8j7p++nrUlPiPVKz+mAZ++M28nPuv1Kj/wE56+NCgpPjcVKj//JJ2+m+AqPgQzKT/ONJy+YZgsPk1PKD9dQ5u+gk8uPhBqJz+nUJq+9gUwPkiDJj+qXJm+uLsxPvCaJT9jZ5i+wHAzPgSxJD/PcJe+ByU1PoHFIz/reJa+iNg2PmDYIj+0f5W+OYs4Pp/pIT8mhZS+FT06Pjj5ID8/iZO+E+47PicHID/7i5K+K549PmYTHz9XjZG+VU0/PvAdHj9PjZC+iftAPsImHT/fi4++vahCPtQtHD8FiY6+6VREPiMzGz+9hI2+BABGPqg2Gj8Cf4y+BKpHPl44GT/Rd4u+31JJPkA4GD8mb4q+ivpKPkc2Fz/+ZIm+/KBMPm0yFj9TWYi+KUZOPq0sFT8iTIe+BupPPgAlFD9oPYa+hoxRPmAbEz8eLYW+ny1TPsYPEj9CG4S+Q81UPisCET/OB4O+ZmtWPojyDz++8oG++QdYPtfgDj8O3IC+76JZPhDNDT9wh3++OjxbPiy3DD9wU32+ytNcPiKfCz8RHHu+kGlePuyECj9J4Xi+fP1fPoBoCT8Oo3a+fY9hPthJCD9VYXS+gh9jPuooBz8THHK+ea1kPq0FBj8+02++TjlmPhngBD/Khm2+78JnPiS4Az+rNmu+RkppPsWNAj/W4mi+Qc9qPvJgAT8/i2a+x1FsPqExAD/YL2S+w9FtPpD//T6W0GG+Hk9vPriW+z5sbV++vclwPqQo+T5MBl2+iEFyPj219j4om1q+ZLZzPm089D70K1i+NSh1Phu+8T6fuFW+3ZZ2Pi867z4dQVO+PwJ4Po6w7D5exVC+O2p5Ph8h6j5SRU6+r856PsWL5z7rwEu+eS98PmXw5D4WOEm+dIx9PuBO4j7Fqka+euV+Phmn3z7mGES+Mh2APvD43D5ngkG+g8WAPkRE2j425z6+m2uBPvOI1z5CRzy+Yw+CPtrG1D53ojm+wrCCPtP90T7C+Da+nk+DPrgtzz4PSjS+3euDPmJWzD5LljG+YoWEPqZ3yT5h3S6+DxyFPlqRxj48Hyy+xq+FPk+jwz7IWym+ZECGPletwD7vkia+x82GPkGvvT6cxCO+yleHPtiouj678CC+Rt6HPumZtz42Fx6+E2GIPjuCtD74Nxu+BeCIPpZhsT7tUhi+71qJPr83rj79ZxW+oNGJPnoEqz4SdxK+5EOKPorHpz4RgA++grGKPqyApD7eggy+PhqLPqAvoT5bfwm+1H2LPh/UnT5kdQa+/NuLPt5tmj7VZAO+ajSMPo/8lj6ITQC+yIaMPt9/kz6lXvq9u9KMPnb3jz4bFPS94BeNPvVijD4au+29zVWNPvnBiD5PU+e9DoyNPhkUhT5l3OC9JbqNPuZYgT4EVtq9it+NPtEfez7Yv9O9qPuNPklxcz6MGc293A2OPimlaz7KYsa9dBWOPli6Yz5Am7+9rBGOPq6vWz6dwri9rgGOPuyDUz6V2LG9iuSNPsM1Sz7e3Kq9OLmNPtDDQj43z6O9lH6NPpgsOj5nr5y9VjONPopuMT5BfZW9ENaMPv2HKD6oOI69J2WMPjB3Hz6U4Ya9yd6LPkY6Fj4x8H696kCLPk3PDD7c+G+9NImKPjk0Az713WC9+7SJPtXN8j3JoFG9MMGIPmjK3j1GQ0K9TKqHPsRZyj0xyDK9OGyGPpR3tT1sMyO9MwKFPsUfoD1WihO9q2aDPs5Oij1D1AO9GpOBPjIEaD1cNui8pv9+PlZxOj1B2ci8i0d6PjLoCz3ntam8lOh0Pu7nuDwC/oq8xcluPr2wMDy76Vm8Ps5nPjmfmLqe6h+8ZtVfPgJnWLya5NG7GbxWPoPJzry0C1m7pl9MPnQCGL3athe6saNAPmwLR70AMds6qXszPqpPc70dfVg7tfYkPkG0jb0B6og7CUkVPoL2nr3kZYk76coEPurgrL0pz1g7UtLnPfsvt706Gc06hhvGPTz0vb3afXO6ShqlPWt/wb2HBYS7hT6FPedEwr0ssPi7c4lNPXS+wL1zHDy8aIcTPfNbvb2tnX+83+i4PMp8uL01yKK8DcsgPP5usr3Uf8a82o0Wu/5wq73JnOq8QztivEK0o72gbwe9nd/KvNpfm73hjBm9azoQvaiSkr0Wliu95Rk5vTBlib33fz29vjVgvfnVf724Qk+929iCvXhnbL0M2WC9/daUvSmYWL14P3K9uSOmvZh8RL3ruYG9Ccy2vYwlML14Ooq9ltvGvcqgG70joZK931zWvbX5Br3r7Zq9WlnlvXZz5Lz9IKO9ldnzvXLRurynOqu9qPIAvoEakbxNO7O9ysEHvkuzTrxkI7u9Zl0OvoJg9rtp88K9aMgUvtHtHrvhq8q9fQUbvvR3LjtVTdK9GRchvgKi/TtO2Nm9ff8mvkDUUTxWTeG9u8AsvupPkjz1rOi9v1wyvoqWuzyz9++9S9U3vjC75DwULve9BSw9vr7dBj2XUP69",
        "encoding": "base64",
        "path": [
         "vertices",
         "data"
        ]
       }
      ],
      "model_module": "k3d",
      "model_module_version": "2.9.0",
      "model_name": "ObjectModel",
      "state": {
       "_color_range_high": 0.1,
       "_color_range_low": 0,
       "_view_count": null,
       "_view_module": null,
       "_view_module_version": "",
       "_view_name": null,
       "attribute": {
        "dtype": "float32",
        "shape": [
         500
        ]
       },
       "color": 255,
       "colorLegend": false,
       "color_map": {
        "dtype": "float32",
        "shape": [
         28
        ]
       },
       "color_range": [
        0,
        0.1
       ],
       "colors": {
        "dtype": "uint32",
        "shape": [
         0
        ]
       },
       "compression_level": 0,
       "id": 4827018064,
       "model_matrix": {
        "dtype": "float32",
        "shape": [
         4,
         4
        ]
       },
       "name": "Line #31",
       "radial_segments": 8,
       "shader": "mesh",
       "type": "Line",
       "vertices": {
        "dtype": "float32",
        "shape": [
         500,
         3
        ]
       },
       "visible": true,
       "width": 0.0025
      }
     }
    },
    "version_major": 2,
    "version_minor": 0
   }
  }
 },
 "nbformat": 4,
 "nbformat_minor": 4
}
