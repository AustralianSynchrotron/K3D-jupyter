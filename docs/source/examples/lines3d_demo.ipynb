{
 "cells": [
  {
   "cell_type": "markdown",
   "metadata": {},
   "source": [
    "## Lines 3d"
   ]
  },
  {
   "cell_type": "markdown",
   "metadata": {},
   "source": [
    "https://matplotlib.org/examples/mplot3d/lines3d_demo.html\n",
    "![Lines3d](https://matplotlib.org/2.0.2/_images/lines3d_demo1.png)"
   ]
  },
  {
   "cell_type": "code",
   "execution_count": 1,
   "metadata": {},
   "outputs": [
    {
     "data": {
      "application/vnd.jupyter.widget-view+json": {
       "model_id": "c1fd3fda7ef7458baef25fd69ea2592e",
       "version_major": 2,
       "version_minor": 0
      },
      "text/plain": [
       "Output()"
      ]
     },
     "metadata": {},
     "output_type": "display_data"
    }
   ],
   "source": [
    "import numpy as np\n",
    "import k3d\n",
    "\n",
    "plot = k3d.plot()\n",
    "\n",
    "theta = np.linspace(-4 * np.pi, 4 * np.pi, 100, dtype=np.float32)\n",
    "z = np.linspace(-2, 2, 100, dtype=np.float32)\n",
    "r = z**2 + 1\n",
    "x = r * np.sin(theta)\n",
    "y = r * np.cos(theta)\n",
    "\n",
    "line = k3d.line(np.vstack([x,y,z]).T, width=0.2, scaling = [1,1,2])\n",
    "\n",
    "plot += line\n",
    "plot.display()"
   ]
  },
  {
   "cell_type": "code",
   "execution_count": null,
   "metadata": {},
   "outputs": [],
   "source": []
  }
 ],
 "metadata": {
  "kernelspec": {
   "display_name": "Python 3",
   "language": "python",
   "name": "python3"
  },
  "language_info": {
   "codemirror_mode": {
    "name": "ipython",
    "version": 3
   },
   "file_extension": ".py",
   "mimetype": "text/x-python",
   "name": "python",
   "nbconvert_exporter": "python",
   "pygments_lexer": "ipython3",
   "version": "3.6.5"
  },
  "widgets": {
   "application/vnd.jupyter.widget-state+json": {
    "state": {
     "531fa76000b541168af6cfdc47d642ba": {
      "buffers": [
       {
        "data": "",
        "encoding": "base64",
        "path": [
         "attribute",
         "buffer"
        ]
       },
       {
        "data": "",
        "encoding": "base64",
        "path": [
         "color_map",
         "buffer"
        ]
       },
       {
        "data": "",
        "encoding": "base64",
        "path": [
         "colors",
         "buffer"
        ]
       },
       {
        "data": "AACAPwAAAAAAAAAAAAAAAAAAAAAAAIA/AAAAAAAAAAAAAAAAAAAAAAAAAEAAAAAAAAAAAAAAAAAAAAAAAACAPw==",
        "encoding": "base64",
        "path": [
         "model_matrix",
         "buffer"
        ]
       },
       {
        "data": "eqzqtQAAoEAAAADAc5ebP5rqlUAK1Pq/broRQL31gkAVqPW/kg9IQFfRUUAffPC/IS1uQLnHE0ApUOu/zFaBQEbeoD80JOa/vbOCQN47Rz4++OC/x1t3QOEHT79IzNu/apFaQH6m2L9ToNa/2+ExQMIiGsBddNG/9boAQFr8OsBnSMy/QLaVP0KqTcByHMe/eGWgPv33UcB88MG/PmsAv9ejSMCGxLy/ceacvzhBM8CRmLe/Pt7ov98OFMCbbLK/sDsQwCGJ27+lQK2/bdEgwCq5hr+wFKi/efYlwBPlvr666KK/0zIgwAHujj7FvJ2/kLgQwN0oXT/PkJi/UIXyv72yrD/ZZJO/aNq3v48b2z/kOI6/HSpsvygS+D/uDIm/K8HHvqSNAUD44IO/I5YAPr7q/D8Fan2/aeUXP6I+5z8aEnO/oMl8PyysxD8vumi/kfukPxVjmD9DYl6/CDu+P53YSz9YClS/yJvJP4ijwz5tskm/qH3HPySYyryBWj+/KA25PyWlzL6WAjW/VR6gP4zjOL+rqiq/4wF+Pz8Cer+/UiC//6IwPxyEk7/U+hW/3im7Pupan7/pogu/chsjPZ+RoL/9SgG/4yaJvo7Pl78k5u2+PWsKv2U/hr9ONtm+ZddDv5XlWr93hsS+4EZuv2SHHr+g1q++SxGEvwrWtr7KJpu+7GWIv5R/rb3zdoa+xUeEv8iYOj45jmO+VpBwv0G52z6MLjq+vqpKv0umJD/ezhC+RlUZv6ZAUD9i3s69ev2+vv+Ibj8QPni9AK8BvkkLfj+1fqW8AK8BPkkLfj+1fqU8ev2+Pv+Ibj8QPng9RlUZP6ZAUD9i3s49vqpKP0umJD/ezhA+VpBwP0G52z6MLjo+xUeEP8iYOj45jmM+7GWIP5R/rb3zdoY+SxGEPwrWtr7KJps+4EZuP2SHHr+g1q8+ZddDP5XlWr93hsQ+PWsKP2U/hr9ONtk+4yaJPo7Pl78k5u0+chsjvZ+RoL/9SgE/3im7vupan7/pogs//6IwvxyEk7/U+hU/4wF+vz8Cer+/UiA/VR6gv4zjOL+rqio/KA25vyWlzL6WAjU/qH3HvySYyryBWj8/yJvJv4ijwz5tskk/CDu+v53YSz9YClQ/kfukvxVjmD9DYl4/oMl8vyysxD8vumg/aeUXv6I+5z8aEnM/I5YAvr7q/D8Fan0/K8HHPqSNAUD44IM/HSpsPygS+D/uDIk/aNq3P48b2z/kOI4/UIXyP72yrD/ZZJM/kLgQQN0oXT/PkJg/0zIgQAHujj7FvJ0/efYlQBPlvr666KI/bdEgQCq5hr+wFKg/sDsQQCGJ27+lQK0/Pt7oP98OFMCbbLI/ceacPzhBM8CRmLc/PmsAP9ejSMCGxLw/eGWgvv33UcB88ME/QLaVv0KqTcByHMc/9boAwFr8OsBnSMw/2+ExwMIiGsBddNE/apFawH6m2L9ToNY/x1t3wOEHT79IzNs/vbOCwN47Rz4++OA/zFaBwEbeoD80JOY/IS1uwLnHE0ApUOs/kg9IwFfRUUAffPA/broRwL31gkAVqPU/c5ebv5rqlUAK1Po/eqzqNQAAoEAAAABA",
        "encoding": "base64",
        "path": [
         "vertices",
         "buffer"
        ]
       }
      ],
      "model_module": "k3d",
      "model_module_version": "2.6.6-a",
      "model_name": "ObjectModel",
      "state": {
       "_view_count": null,
       "_view_module": null,
       "_view_module_version": "",
       "_view_name": null,
       "attribute": {
        "dtype": "float32",
        "shape": [
         0
        ]
       },
       "color": 255,
       "color_map": {
        "dtype": "float32",
        "shape": [
         0
        ]
       },
       "color_range": [],
       "colors": {
        "dtype": "uint32",
        "shape": [
         0
        ]
       },
       "compression_level": 0,
       "id": 2704911752552,
       "model_matrix": {
        "dtype": "float32",
        "shape": [
         4,
         4
        ]
       },
       "name": null,
       "radial_segments": 8,
       "shader": "thick",
       "type": "Line",
       "vertices": {
        "dtype": "float32",
        "shape": [
         100,
         3
        ]
       },
       "visible": true,
       "width": 0.2
      }
     },
     "70ed5c10c35e40b6870308c6f47d2770": {
      "model_module": "k3d",
      "model_module_version": "2.6.6-a",
      "model_name": "PlotModel",
      "state": {
       "_backend_version": "2.6.6-a",
       "_dom_classes": [],
       "_view_count": null,
       "antialias": 3,
       "axes": [
        "x",
        "y",
        "z"
       ],
       "background_color": 16777215,
       "camera": [
        11.728375995450252,
        -16.73294449492251,
        1.1728375995450355,
        0,
        0.8596194982528687,
        0,
        0,
        0,
        1
       ],
       "camera_auto_fit": true,
       "camera_no_pan": false,
       "camera_no_rotate": false,
       "camera_no_zoom": false,
       "clipping_planes": [],
       "colorbar_object_id": -1,
       "fps_meter": false,
       "grid": [
        -1,
        -1,
        -1,
        1,
        1,
        1
       ],
       "grid_auto_fit": true,
       "grid_visible": true,
       "height": 512,
       "layout": "IPY_MODEL_ec2895d2bb2e446c92ea1aa54ceaca43",
       "lighting": 1,
       "menu_visibility": true,
       "object_ids": [
        2704911752552
       ],
       "rendering_steps": 1,
       "screenshot": "",
       "screenshot_scale": 2,
       "time": 0,
       "voxel_paint_color": 0
      }
     },
     "c1fd3fda7ef7458baef25fd69ea2592e": {
      "model_module": "@jupyter-widgets/output",
      "model_module_version": "1.0.0",
      "model_name": "OutputModel",
      "state": {
       "layout": "IPY_MODEL_d0aa99cbd64c4d5ead9abf88cfa20e36",
       "outputs": [
        {
         "data": {
          "application/vnd.jupyter.widget-view+json": {
           "model_id": "70ed5c10c35e40b6870308c6f47d2770",
           "version_major": 2,
           "version_minor": 0
          },
          "text/plain": "Plot(antialias=3, axes=['x', 'y', 'z'], background_color=16777215, camera=[4.5, 4.5, 4.5, 0.0, 0.0, 0.0, 1.0, …"
         },
         "metadata": {},
         "output_type": "display_data"
        }
       ]
      }
     },
     "d0aa99cbd64c4d5ead9abf88cfa20e36": {
      "model_module": "@jupyter-widgets/base",
      "model_module_version": "1.0.0",
      "model_name": "LayoutModel",
      "state": {}
     },
     "ec2895d2bb2e446c92ea1aa54ceaca43": {
      "model_module": "@jupyter-widgets/base",
      "model_module_version": "1.0.0",
      "model_name": "LayoutModel",
      "state": {}
     }
    },
    "version_major": 2,
    "version_minor": 0
   }
  }
 },
 "nbformat": 4,
 "nbformat_minor": 2
}
