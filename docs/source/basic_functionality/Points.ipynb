{
 "cells": [
  {
   "cell_type": "markdown",
   "metadata": {},
   "source": [
    "## Points\n",
    "\n",
    "To draw points one needs to prepare data in the array of coordinates `[number_of_points, 3]`. Colors for all the points can either be the same or have an individual value (`colors` attribute).\n",
    "\n",
    "When the number of points is larger than $10^3$ it is recommended to use fast shaders: `flat`, `3d` or `3dSpecular`. The `mesh` shader generates much bigger overhead, but it has a properly triangularized sphere representing each point."
   ]
  },
  {
   "cell_type": "code",
   "execution_count": 1,
   "metadata": {},
   "outputs": [
    {
     "data": {
      "application/vnd.jupyter.widget-view+json": {
       "model_id": "e87c653c18504319a35dc0114a410691",
       "version_major": 2,
       "version_minor": 0
      },
      "text/plain": [
       "Output()"
      ]
     },
     "metadata": {},
     "output_type": "display_data"
    }
   ],
   "source": [
    "import k3d\n",
    "import numpy as np \n",
    "\n",
    "x = np.random.randn(1000,3).astype(np.float32)\n",
    "point_size = 0.2\n",
    "\n",
    "plot = k3d.plot(name='points')\n",
    "plt_points = k3d.points(positions=x, point_size=0.2)\n",
    "plot += plt_points\n",
    "plt_points.shader='3d'\n",
    "plot.display()"
   ]
  },
  {
   "cell_type": "markdown",
   "metadata": {},
   "source": [
    "We can color points with some scalar value:"
   ]
  },
  {
   "cell_type": "code",
   "execution_count": 2,
   "metadata": {},
   "outputs": [],
   "source": [
    "f = (np.sum(x**3-.1*x**2,axis=1))\n",
    "colormap = k3d.colormaps.basic_color_maps.WarmCool\n",
    "colors = k3d.helpers.map_colors(f,colormap,[-2,.1])\n",
    "colors = colors.astype(np.uint32)\n",
    "plt_points.colors = colors"
   ]
  }
 ],
 "metadata": {
  "kernelspec": {
   "display_name": "Python 3",
   "language": "python",
   "name": "python3"
  },
  "language_info": {
   "codemirror_mode": {
    "name": "ipython",
    "version": 3
   },
   "file_extension": ".py",
   "mimetype": "text/x-python",
   "name": "python",
   "nbconvert_exporter": "python",
   "pygments_lexer": "ipython3",
   "version": "3.7.8"
  },
  "nbTranslate": {
   "displayLangs": [
    "en",
    "pl"
   ],
   "hotkey": "alt-t",
   "langInMainMenu": true,
   "sourceLang": "pl",
   "targetLang": "en",
   "useGoogleTranslate": true
  },
  "widgets": {
   "application/vnd.jupyter.widget-state+json": {
    "state": {
     "14cf725d06ba4aefbd541c37ae40fc9c": {
      "model_module": "@jupyter-widgets/base",
      "model_module_version": "1.2.0",
      "model_name": "LayoutModel",
      "state": {}
     },
     "250047480f65418896f8ca87426b608e": {
      "model_module": "@jupyter-widgets/base",
      "model_module_version": "1.2.0",
      "model_name": "LayoutModel",
      "state": {}
     },
     "4a674313f7364089b74fafdf7e15e713": {
      "model_module": "k3d",
      "model_module_version": "2.9.0",
      "model_name": "PlotModel",
      "state": {
       "_backend_version": "2.9.0",
       "_dom_classes": [],
       "_view_count": null,
       "antialias": 3,
       "auto_rendering": true,
       "axes": [
        "x",
        "y",
        "z"
       ],
       "axes_helper": 1,
       "background_color": 16777215,
       "camera": [
        2.4873993146586666,
        -6.451351565419331,
        1.9956105906967676,
        -0.18786633014678955,
        0.36067163944244385,
        -0.2373192310333252,
        -0.08879554884859715,
        0.22125714588162115,
        0.9711645719964246
       ],
       "camera_animation": [],
       "camera_auto_fit": true,
       "camera_fov": 60,
       "camera_mode": "trackball",
       "camera_no_pan": false,
       "camera_no_rotate": false,
       "camera_no_zoom": false,
       "clipping_planes": [],
       "colorbar_object_id": -1,
       "colorbar_scientific": false,
       "fps": 25,
       "fps_meter": false,
       "grid": [
        -1,
        -1,
        -1,
        1,
        1,
        1
       ],
       "grid_auto_fit": true,
       "grid_visible": true,
       "height": 512,
       "layout": "IPY_MODEL_14cf725d06ba4aefbd541c37ae40fc9c",
       "lighting": 1.5,
       "manipulate_mode": "translate",
       "menu_visibility": true,
       "mode": "view",
       "name": "points",
       "object_ids": [
        4569797200
       ],
       "rendering_steps": 1,
       "screenshot": "",
       "screenshot_scale": 2,
       "snapshot": "",
       "snapshot_include_js": true,
       "time": 0,
       "voxel_paint_color": 0
      }
     },
     "e87c653c18504319a35dc0114a410691": {
      "model_module": "@jupyter-widgets/output",
      "model_module_version": "1.0.0",
      "model_name": "OutputModel",
      "state": {
       "layout": "IPY_MODEL_250047480f65418896f8ca87426b608e",
       "outputs": [
        {
         "data": {
          "application/vnd.jupyter.widget-view+json": {
           "model_id": "4a674313f7364089b74fafdf7e15e713",
           "version_major": 2,
           "version_minor": 0
          },
          "text/plain": "Plot(antialias=3, axes=['x', 'y', 'z'], axes_helper=1.0, background_color=16777215, camera=[2, -3, 0.2, 0.0, 0…"
         },
         "metadata": {},
         "output_type": "display_data"
        }
       ]
      }
     },
     "f499b9427e314e4b86954baa41c90e5a": {
      "buffers": [
       {
        "data": "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",
        "encoding": "base64",
        "path": [
         "colors",
         "data"
        ]
       },
       {
        "data": "AACAPwAAAAAAAAAAAAAAAAAAAAAAAIA/AAAAAAAAAAAAAAAAAAAAAAAAgD8AAAAAAAAAAAAAAAAAAAAAAACAPw==",
        "encoding": "base64",
        "path": [
         "model_matrix",
         "data"
        ]
       },
       {
        "data": "",
        "encoding": "base64",
        "path": [
         "opacities",
         "data"
        ]
       },
       {
        "data": "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",
        "encoding": "base64",
        "path": [
         "positions",
         "data"
        ]
       }
      ],
      "model_module": "k3d",
      "model_module_version": "2.9.0",
      "model_name": "ObjectModel",
      "state": {
       "_view_count": null,
       "_view_module": null,
       "_view_module_version": "",
       "_view_name": null,
       "color": 255,
       "colorLegend": false,
       "colors": {
        "dtype": "uint32",
        "shape": [
         1000
        ]
       },
       "compression_level": 0,
       "id": 4569797200,
       "mesh_detail": 2,
       "model_matrix": {
        "dtype": "float32",
        "shape": [
         4,
         4
        ]
       },
       "name": "Points #1",
       "opacities": {
        "dtype": "float32",
        "shape": [
         0
        ]
       },
       "opacity": 1,
       "point_size": 0.2,
       "positions": {
        "dtype": "float32",
        "shape": [
         1000,
         3
        ]
       },
       "shader": "3d",
       "type": "Points",
       "visible": true
      }
     }
    },
    "version_major": 2,
    "version_minor": 0
   }
  }
 },
 "nbformat": 4,
 "nbformat_minor": 4
}
