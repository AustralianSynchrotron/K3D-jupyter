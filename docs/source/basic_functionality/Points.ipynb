{
 "cells": [
  {
   "cell_type": "markdown",
   "metadata": {},
   "source": [
    "## Points"
   ]
  },
  {
   "cell_type": "code",
   "execution_count": 1,
   "metadata": {},
   "outputs": [
    {
     "data": {
      "application/vnd.jupyter.widget-view+json": {
       "model_id": "fb1f68e805004b8aba42c1f1908b702b",
       "version_major": 2,
       "version_minor": 0
      },
      "text/plain": [
       "Output()"
      ]
     },
     "metadata": {},
     "output_type": "display_data"
    }
   ],
   "source": [
    "import k3d\n",
    "\n",
    "plot = k3d.plot()\n",
    "\n",
    "plt_points = k3d.points(positions=[[0,0,0], [2,2,2], [-1,-1,3]], point_size=0.5, colors=[0xff0000, 0x00ff00, 0xffff00])\n",
    "plot += plt_points\n",
    "\n",
    "plot.display()"
   ]
  }
 ],
 "metadata": {
  "kernelspec": {
   "display_name": "Python 3",
   "language": "python",
   "name": "python3"
  },
  "language_info": {
   "codemirror_mode": {
    "name": "ipython",
    "version": 3
   },
   "file_extension": ".py",
   "mimetype": "text/x-python",
   "name": "python",
   "nbconvert_exporter": "python",
   "pygments_lexer": "ipython3",
   "version": "3.6.6"
  },
  "widgets": {
   "application/vnd.jupyter.widget-state+json": {
    "state": {
     "05aa8fe6ee0a422ea46e991fb4b18b59": {
      "model_module": "k3d",
      "model_module_version": "^3.0.0",
      "model_name": "PlotModel",
      "state": {
       "_backend_version": "2.4.20",
       "_dom_classes": [],
       "_model_module_version": "^3.0.0",
       "_view_count": null,
       "_view_module_version": "^3.0.0",
       "antialias": true,
       "background_color": 16777215,
       "camera": [
        4.960718118752777,
        -6.191077178129168,
        1.946071811875282,
        0.4999999999999999,
        0.4999999999999999,
        1.5,
        0,
        0,
        1
       ],
       "camera_auto_fit": true,
       "clipping_planes": [],
       "fps_meter": false,
       "grid": [
        -1,
        -1,
        -1,
        1,
        1,
        1
       ],
       "grid_auto_fit": true,
       "height": 512,
       "layout": "IPY_MODEL_a20a9787d135461d8e93c373e85f838b",
       "lighting": 1,
       "object_ids": [
        140319935294544
       ],
       "screenshot": "",
       "screenshot_scale": 2,
       "voxel_paint_color": 0
      }
     },
     "0c4afcaede2f484abf6d8cbff0b25aaa": {
      "model_module": "@jupyter-widgets/base",
      "model_module_version": "1.1.0",
      "model_name": "LayoutModel",
      "state": {}
     },
     "0c8a3fd5b5ac417bbdae01a90aa76f54": {
      "model_module": "k3d",
      "model_module_version": "^3.0.0",
      "model_name": "PlotModel",
      "state": {
       "_backend_version": "2.4.20",
       "_dom_classes": [],
       "_model_module_version": "^3.0.0",
       "_view_count": null,
       "_view_module_version": "^3.0.0",
       "antialias": true,
       "background_color": 16777215,
       "camera": [
        6.255765314519714,
        -8.133647971779574,
        2.075576531451977,
        0.5,
        0.5,
        1.5,
        0,
        0,
        1
       ],
       "camera_auto_fit": true,
       "clipping_planes": [],
       "fps_meter": false,
       "grid": [
        -1,
        -1,
        -1,
        1,
        1,
        1
       ],
       "grid_auto_fit": true,
       "height": 512,
       "layout": "IPY_MODEL_30f3552160294f4d8f04b53dba895e50",
       "lighting": 1,
       "object_ids": [
        140319935294656
       ],
       "screenshot": "",
       "screenshot_scale": 2,
       "voxel_paint_color": 0
      }
     },
     "0c931a5baf94429f8a9a3c58eeec1ef5": {
      "model_module": "@jupyter-widgets/base",
      "model_module_version": "1.1.0",
      "model_name": "LayoutModel",
      "state": {}
     },
     "0ddc43b6c5064c53bab642426c63a67e": {
      "buffers": [
       {
        "data": "8A8AAAD/AAAA//8A",
        "encoding": "base64",
        "path": [
         "colors",
         "buffer"
        ]
       },
       {
        "data": "AACAPwAAAAAAAAAAAAAAAAAAAAAAAIA/AAAAAAAAAAAAAAAAAAAAAAAAgD8AAAAAAAAAAAAAAAAAAAAAAACAPw==",
        "encoding": "base64",
        "path": [
         "model_matrix",
         "buffer"
        ]
       },
       {
        "data": "AAAAAAAAAAAAAAAAAAAAQAAAAEAAAABAAACAvwAAgL8AAEBA",
        "encoding": "base64",
        "path": [
         "positions",
         "buffer"
        ]
       }
      ],
      "model_module": "k3d",
      "model_module_version": "^3.0.0",
      "model_name": "ObjectModel",
      "state": {
       "_model_module_version": "^3.0.0",
       "_view_count": null,
       "_view_module": null,
       "_view_module_version": "",
       "_view_name": null,
       "color": 255,
       "colors": {
        "dtype": "uint32",
        "shape": [
         3
        ]
       },
       "compression_level": 0,
       "id": 140319932589000,
       "model_matrix": {
        "dtype": "float32",
        "shape": [
         4,
         4
        ]
       },
       "point_size": 0.5,
       "positions": {
        "dtype": "float32",
        "shape": [
         3,
         3
        ]
       },
       "shader": "3dSpecular",
       "type": "Points",
       "visible": true
      }
     },
     "141153c50fcd4a61ae75004be17f9e6e": {
      "model_module": "@jupyter-widgets/base",
      "model_module_version": "1.1.0",
      "model_name": "LayoutModel",
      "state": {}
     },
     "15ab5c50541946b59bd2f8d56715a76e": {
      "model_module": "@jupyter-widgets/output",
      "model_module_version": "1.0.0",
      "model_name": "OutputModel",
      "state": {
       "layout": "IPY_MODEL_0c4afcaede2f484abf6d8cbff0b25aaa",
       "outputs": [
        {
         "data": {
          "application/vnd.jupyter.widget-view+json": {
           "model_id": "a44786c86f73487fbb798fabbb7232cb",
           "version_major": 2,
           "version_minor": 0
          },
          "text/plain": "Plot(antialias=True, background_color=16777215, fps_meter=False, grid=[-1, -1, -1, 1, 1, 1], height=512, light…"
         },
         "metadata": {},
         "output_type": "display_data"
        }
       ]
      }
     },
     "191ebc53f6134505a22f1a35a6bcaa21": {
      "model_module": "@jupyter-widgets/output",
      "model_module_version": "1.0.0",
      "model_name": "OutputModel",
      "state": {
       "layout": "IPY_MODEL_c6dfc8c3cea9482bad419f0785d3c03e",
       "outputs": [
        {
         "data": {
          "application/vnd.jupyter.widget-view+json": {
           "model_id": "0c8a3fd5b5ac417bbdae01a90aa76f54",
           "version_major": 2,
           "version_minor": 0
          },
          "text/plain": "Plot(antialias=True, background_color=16777215, fps_meter=False, grid=[-1, -1, -1, 1, 1, 1], height=512, light…"
         },
         "metadata": {},
         "output_type": "display_data"
        }
       ]
      }
     },
     "1bec7c18d708450ead5d6ccb84130801": {
      "model_module": "k3d",
      "model_module_version": "^3.0.0",
      "model_name": "PlotModel",
      "state": {
       "_backend_version": "2.4.20",
       "_dom_classes": [],
       "_model_module_version": "^3.0.0",
       "_view_count": null,
       "_view_module_version": "^3.0.0",
       "antialias": true,
       "background_color": 16777215,
       "camera": [
        5.536294650204749,
        -7.054441975307126,
        2.0036294650204796,
        0.5,
        0.5,
        1.5,
        0,
        0,
        1
       ],
       "camera_auto_fit": true,
       "clipping_planes": [],
       "fps_meter": false,
       "grid": [
        -1,
        -1,
        -1,
        1,
        1,
        1
       ],
       "grid_auto_fit": true,
       "height": 512,
       "layout": "IPY_MODEL_1ff0089956594f1baab4ac8a1f916a86",
       "lighting": 1,
       "object_ids": [
        140424039119616
       ],
       "screenshot": "",
       "screenshot_scale": 2,
       "voxel_paint_color": 0
      }
     },
     "1e5f5f647cff427babb87b54a40da27c": {
      "model_module": "@jupyter-widgets/base",
      "model_module_version": "1.1.0",
      "model_name": "LayoutModel",
      "state": {}
     },
     "1ff0089956594f1baab4ac8a1f916a86": {
      "model_module": "@jupyter-widgets/base",
      "model_module_version": "1.1.0",
      "model_name": "LayoutModel",
      "state": {}
     },
     "2283b07ab660421f9c6e9c16696a3377": {
      "buffers": [
       {
        "data": "/wAAAAD/AAAA//8A",
        "encoding": "base64",
        "path": [
         "colors",
         "buffer"
        ]
       },
       {
        "data": "AACAPwAAAAAAAAAAAAAAAAAAAAAAAIA/AAAAAAAAAAAAAAAAAAAAAAAAgD8AAAAAAAAAAAAAAAAAAAAAAACAPw==",
        "encoding": "base64",
        "path": [
         "model_matrix",
         "buffer"
        ]
       },
       {
        "data": "AAAAAAAAAAAAAAAAAAAAQAAAAEAAAABAAACAvwAAgL8AAEBA",
        "encoding": "base64",
        "path": [
         "positions",
         "buffer"
        ]
       }
      ],
      "model_module": "k3d",
      "model_module_version": "^3.0.0",
      "model_name": "ObjectModel",
      "state": {
       "_model_module_version": "^3.0.0",
       "_view_count": null,
       "_view_module": null,
       "_view_module_version": "",
       "_view_name": null,
       "color": 255,
       "colors": {
        "dtype": "uint32",
        "shape": [
         3
        ]
       },
       "compression_level": 0,
       "id": 140319935401824,
       "model_matrix": {
        "dtype": "float32",
        "shape": [
         4,
         4
        ]
       },
       "point_size": 0.5,
       "positions": {
        "dtype": "float32",
        "shape": [
         3,
         3
        ]
       },
       "shader": "3dSpecular",
       "type": "Points",
       "visible": true
      }
     },
     "24cf2b0d51664ac0aa4f3906f44e87c2": {
      "buffers": [
       {
        "data": "AAD/AAD/AAAA//8A",
        "encoding": "base64",
        "path": [
         "colors",
         "buffer"
        ]
       },
       {
        "data": "AACAPwAAAAAAAAAAAAAAAAAAAAAAAIA/AAAAAAAAAAAAAAAAAAAAAAAAgD8AAAAAAAAAAAAAAAAAAAAAAACAPw==",
        "encoding": "base64",
        "path": [
         "model_matrix",
         "buffer"
        ]
       },
       {
        "data": "AAAAAAAAAAAAAAAAAAAAQAAAAEAAAABAAACAvwAAgL8AAEBA",
        "encoding": "base64",
        "path": [
         "positions",
         "buffer"
        ]
       }
      ],
      "model_module": "k3d",
      "model_module_version": "^3.0.0",
      "model_name": "ObjectModel",
      "state": {
       "_model_module_version": "^3.0.0",
       "_view_count": null,
       "_view_module": null,
       "_view_module_version": "",
       "_view_name": null,
       "color": 255,
       "colors": {
        "dtype": "uint32",
        "shape": [
         3
        ]
       },
       "compression_level": 0,
       "id": 140424039119616,
       "model_matrix": {
        "dtype": "float32",
        "shape": [
         4,
         4
        ]
       },
       "point_size": 0.5,
       "positions": {
        "dtype": "float32",
        "shape": [
         3,
         3
        ]
       },
       "shader": "3dSpecular",
       "type": "Points",
       "visible": true
      }
     },
     "26bf3d8417c746f5b30938a01aff21c5": {
      "model_module": "@jupyter-widgets/base",
      "model_module_version": "1.1.0",
      "model_name": "LayoutModel",
      "state": {}
     },
     "2c7b94bc947b4ff1aaeabf82f99f803c": {
      "model_module": "@jupyter-widgets/output",
      "model_module_version": "1.0.0",
      "model_name": "OutputModel",
      "state": {
       "layout": "IPY_MODEL_f57e064ac7d54046968beac4288a6577",
       "outputs": [
        {
         "data": {
          "application/vnd.jupyter.widget-view+json": {
           "model_id": "c60ee250f0d24d3db4d82e4e08b6d99e",
           "version_major": 2,
           "version_minor": 0
          },
          "text/plain": "Plot(antialias=True, background_color=16777215, fps_meter=False, grid=[-1, -1, -1, 1, 1, 1], height=512, light…"
         },
         "metadata": {},
         "output_type": "display_data"
        }
       ]
      }
     },
     "2e2bfd41266b48fcbec70dc9dae9b4e4": {
      "model_module": "@jupyter-widgets/base",
      "model_module_version": "1.1.0",
      "model_name": "LayoutModel",
      "state": {}
     },
     "2fa66215b2b746ae9574e5eaff8a04d4": {
      "model_module": "k3d",
      "model_module_version": "^3.0.0",
      "model_name": "PlotModel",
      "state": {
       "_backend_version": "2.4.20",
       "_dom_classes": [],
       "_model_module_version": "^3.0.0",
       "_view_count": null,
       "_view_module_version": "^3.0.0",
       "antialias": true,
       "background_color": 16777215,
       "camera": [
        5.536294650204749,
        -7.054441975307126,
        2.0036294650204796,
        0.5,
        0.5,
        1.5,
        0,
        0,
        1
       ],
       "camera_auto_fit": true,
       "clipping_planes": [],
       "fps_meter": false,
       "grid": [
        -1,
        -1,
        -1,
        1,
        1,
        1
       ],
       "grid_auto_fit": true,
       "height": 512,
       "layout": "IPY_MODEL_da56e1cfc33d489b8436063c4b081b76",
       "lighting": 1,
       "object_ids": [
        139996351852048
       ],
       "screenshot": "",
       "screenshot_scale": 2,
       "voxel_paint_color": 0
      }
     },
     "30f3552160294f4d8f04b53dba895e50": {
      "model_module": "@jupyter-widgets/base",
      "model_module_version": "1.1.0",
      "model_name": "LayoutModel",
      "state": {}
     },
     "35d0fd1c62b444c2806bd785c0a085db": {
      "model_module": "k3d",
      "model_module_version": "^3.0.0",
      "model_name": "PlotModel",
      "state": {
       "_backend_version": "2.4.20",
       "_dom_classes": [],
       "_model_module_version": "^3.0.0",
       "_view_count": null,
       "_view_module_version": "^3.0.0",
       "antialias": true,
       "background_color": 16777215,
       "camera": [
        5.536294650204749,
        -7.054441975307126,
        2.0036294650204796,
        0.5,
        0.5,
        1.5,
        0,
        0,
        1
       ],
       "camera_auto_fit": true,
       "clipping_planes": [],
       "fps_meter": false,
       "grid": [
        -1,
        -1,
        -1,
        1,
        1,
        1
       ],
       "grid_auto_fit": true,
       "height": 512,
       "layout": "IPY_MODEL_66cac89451304ba6bf3befa2b1b48ac4",
       "lighting": 1,
       "object_ids": [
        139960108600960
       ],
       "screenshot": "",
       "screenshot_scale": 2,
       "voxel_paint_color": 0
      }
     },
     "35da01cd40fe4269baa05d24ae27c607": {
      "model_module": "k3d",
      "model_module_version": "^3.0.0",
      "model_name": "PlotModel",
      "state": {
       "_backend_version": "2.4.20",
       "_dom_classes": [],
       "_model_module_version": "^3.0.0",
       "_view_count": null,
       "_view_module_version": "^3.0.0",
       "antialias": true,
       "background_color": 16777215,
       "camera": [
        7.163317982696122,
        -7.220896683763066,
        3.496984692013228,
        0.5,
        0.5,
        1.5,
        -0.07817121108397117,
        0.11414795283680883,
        0.9903835149177475
       ],
       "camera_auto_fit": true,
       "clipping_planes": [],
       "fps_meter": false,
       "grid": [
        -1,
        -1,
        -1,
        1,
        1,
        1
       ],
       "grid_auto_fit": true,
       "height": 512,
       "layout": "IPY_MODEL_c7c63ada887040499ae31831750425c4",
       "lighting": 1,
       "object_ids": [
        140320949963632
       ],
       "screenshot": "",
       "screenshot_scale": 2,
       "voxel_paint_color": 0
      }
     },
     "3676d294a4624d328823d84793d4b224": {
      "model_module": "k3d",
      "model_module_version": "^3.0.0",
      "model_name": "PlotModel",
      "state": {
       "_backend_version": "2.4.20",
       "_dom_classes": [],
       "_model_module_version": "^3.0.0",
       "_view_count": null,
       "_view_module_version": "^3.0.0",
       "antialias": true,
       "background_color": 16777215,
       "camera": [
        5.536294650204749,
        -7.054441975307126,
        2.0036294650204796,
        0.5,
        0.5,
        1.5,
        0,
        0,
        1
       ],
       "camera_auto_fit": true,
       "clipping_planes": [],
       "fps_meter": false,
       "grid": [
        -1,
        -1,
        -1,
        1,
        1,
        1
       ],
       "grid_auto_fit": true,
       "height": 512,
       "layout": "IPY_MODEL_2e2bfd41266b48fcbec70dc9dae9b4e4",
       "lighting": 1,
       "object_ids": [
        140319932591520
       ],
       "screenshot": "",
       "screenshot_scale": 2,
       "voxel_paint_color": 0
      }
     },
     "37a6c87f81d04a9a837c2b7d5065c610": {
      "model_module": "@jupyter-widgets/output",
      "model_module_version": "1.0.0",
      "model_name": "OutputModel",
      "state": {
       "layout": "IPY_MODEL_7f659db233154d3a97b7168c47267c24",
       "outputs": [
        {
         "data": {
          "application/vnd.jupyter.widget-view+json": {
           "model_id": "05aa8fe6ee0a422ea46e991fb4b18b59",
           "version_major": 2,
           "version_minor": 0
          },
          "text/plain": "Plot(antialias=True, background_color=16777215, fps_meter=False, grid=[-1, -1, -1, 1, 1, 1], height=512, light…"
         },
         "metadata": {},
         "output_type": "display_data"
        }
       ]
      }
     },
     "408e6271f89240b2bc7dd5b0efb2b6be": {
      "model_module": "@jupyter-widgets/base",
      "model_module_version": "1.1.0",
      "model_name": "LayoutModel",
      "state": {}
     },
     "40b5725ca10f4f6ebe799ebf2ce485b5": {
      "buffers": [
       {
        "data": "",
        "encoding": "base64",
        "path": [
         "colors",
         "buffer"
        ]
       },
       {
        "data": "AACAPwAAAAAAAAAAAAAAAAAAAAAAAIA/AAAAAAAAAAAAAAAAAAAAAAAAgD8AAAAAAAAAAAAAAAAAAAAAAACAPw==",
        "encoding": "base64",
        "path": [
         "model_matrix",
         "buffer"
        ]
       },
       {
        "data": "AAAAAAAAAAAAAAAAAAAAQAAAAEAAAABAAACAvwAAgL8AAEBA",
        "encoding": "base64",
        "path": [
         "positions",
         "buffer"
        ]
       }
      ],
      "model_module": "k3d",
      "model_module_version": "^3.0.0",
      "model_name": "ObjectModel",
      "state": {
       "_model_module_version": "^3.0.0",
       "_view_count": null,
       "_view_module": null,
       "_view_module_version": "",
       "_view_name": null,
       "color": 255,
       "colors": {
        "dtype": "uint32",
        "shape": [
         0
        ]
       },
       "compression_level": 0,
       "id": 140319935294656,
       "model_matrix": {
        "dtype": "float32",
        "shape": [
         4,
         4
        ]
       },
       "point_size": 1,
       "positions": {
        "dtype": "float32",
        "shape": [
         3,
         3
        ]
       },
       "shader": "3dSpecular",
       "type": "Points",
       "visible": true
      }
     },
     "428f270309b849229b666eec8f36d952": {
      "model_module": "@jupyter-widgets/output",
      "model_module_version": "1.0.0",
      "model_name": "OutputModel",
      "state": {
       "layout": "IPY_MODEL_53c11e20de834f3798841fd8a8528d07",
       "outputs": [
        {
         "data": {
          "application/vnd.jupyter.widget-view+json": {
           "model_id": "35da01cd40fe4269baa05d24ae27c607",
           "version_major": 2,
           "version_minor": 0
          },
          "text/plain": "Plot(antialias=True, background_color=16777215, fps_meter=False, grid=[-1, -1, -1, 1, 1, 1], height=512, light…"
         },
         "metadata": {},
         "output_type": "display_data"
        }
       ]
      }
     },
     "4921a899dff7480d95a9ab4875b9c969": {
      "model_module": "@jupyter-widgets/base",
      "model_module_version": "1.1.0",
      "model_name": "LayoutModel",
      "state": {}
     },
     "4fcecb91a5dc4995b235682da8d63d33": {
      "model_module": "@jupyter-widgets/output",
      "model_module_version": "1.0.0",
      "model_name": "OutputModel",
      "state": {
       "layout": "IPY_MODEL_6209e4f95204405caf785b4917de4b2c",
       "outputs": [
        {
         "data": {
          "application/vnd.jupyter.widget-view+json": {
           "model_id": "f71684c0c1be468f83d284c9fab27f79",
           "version_major": 2,
           "version_minor": 0
          },
          "text/plain": "Plot(antialias=True, background_color=16777215, fps_meter=False, grid=[-1, -1, -1, 1, 1, 1], height=512, light…"
         },
         "metadata": {},
         "output_type": "display_data"
        }
       ]
      }
     },
     "53c11e20de834f3798841fd8a8528d07": {
      "model_module": "@jupyter-widgets/base",
      "model_module_version": "1.1.0",
      "model_name": "LayoutModel",
      "state": {}
     },
     "5727b431ad064ee9a92a216035478751": {
      "model_module": "@jupyter-widgets/output",
      "model_module_version": "1.0.0",
      "model_name": "OutputModel",
      "state": {
       "layout": "IPY_MODEL_f81fdccdf4034327a1f494875b5ff7a7",
       "outputs": [
        {
         "data": {
          "application/vnd.jupyter.widget-view+json": {
           "model_id": "78895641765a4c368a785248f2a784bc",
           "version_major": 2,
           "version_minor": 0
          },
          "text/plain": "Plot(antialias=True, background_color=16777215, fps_meter=False, grid=[-1, -1, -1, 1, 1, 1], height=512, light…"
         },
         "metadata": {},
         "output_type": "display_data"
        }
       ]
      }
     },
     "5ea8f3f93ae54f15b2e2f8b7ce644a3e": {
      "model_module": "@jupyter-widgets/base",
      "model_module_version": "1.1.0",
      "model_name": "LayoutModel",
      "state": {}
     },
     "61808add9403495cabe829ae4e02b030": {
      "buffers": [
       {
        "data": "AAD/AAD/AAAA//8A",
        "encoding": "base64",
        "path": [
         "colors",
         "buffer"
        ]
       },
       {
        "data": "AACAPwAAAAAAAAAAAAAAAAAAAAAAAIA/AAAAAAAAAAAAAAAAAAAAAAAAgD8AAAAAAAAAAAAAAAAAAAAAAACAPw==",
        "encoding": "base64",
        "path": [
         "model_matrix",
         "buffer"
        ]
       },
       {
        "data": "AAAAAAAAAAAAAAAAAAAAQAAAAEAAAABAAACAvwAAgL8AAEBA",
        "encoding": "base64",
        "path": [
         "positions",
         "buffer"
        ]
       }
      ],
      "model_module": "k3d",
      "model_module_version": "^3.0.0",
      "model_name": "ObjectModel",
      "state": {
       "_model_module_version": "^3.0.0",
       "_view_count": null,
       "_view_module": null,
       "_view_module_version": "",
       "_view_name": null,
       "color": 255,
       "colors": {
        "dtype": "uint32",
        "shape": [
         3
        ]
       },
       "compression_level": 0,
       "id": 139960108600960,
       "model_matrix": {
        "dtype": "float32",
        "shape": [
         4,
         4
        ]
       },
       "point_size": 0.5,
       "positions": {
        "dtype": "float32",
        "shape": [
         3,
         3
        ]
       },
       "shader": "3dSpecular",
       "type": "Points",
       "visible": true
      }
     },
     "6209e4f95204405caf785b4917de4b2c": {
      "model_module": "@jupyter-widgets/base",
      "model_module_version": "1.1.0",
      "model_name": "LayoutModel",
      "state": {}
     },
     "66cac89451304ba6bf3befa2b1b48ac4": {
      "model_module": "@jupyter-widgets/base",
      "model_module_version": "1.1.0",
      "model_name": "LayoutModel",
      "state": {}
     },
     "6902548f7d88424a8a5411a586b1e00f": {
      "buffers": [
       {
        "data": "",
        "encoding": "base64",
        "path": [
         "colors",
         "buffer"
        ]
       },
       {
        "data": "AACAPwAAAAAAAAAAAAAAAAAAAAAAAIA/AAAAAAAAAAAAAAAAAAAAAAAAgD8AAAAAAAAAAAAAAAAAAAAAAACAPw==",
        "encoding": "base64",
        "path": [
         "model_matrix",
         "buffer"
        ]
       },
       {
        "data": "AAAAAAAAAAAAAAAAAAAAQAAAAEAAAABAAACAvwAAgL8AAEBA",
        "encoding": "base64",
        "path": [
         "positions",
         "buffer"
        ]
       }
      ],
      "model_module": "k3d",
      "model_module_version": "^3.0.0",
      "model_name": "ObjectModel",
      "state": {
       "_model_module_version": "^3.0.0",
       "_view_count": null,
       "_view_module": null,
       "_view_module_version": "",
       "_view_name": null,
       "color": 255,
       "colors": {
        "dtype": "uint32",
        "shape": [
         0
        ]
       },
       "compression_level": 0,
       "id": 140319935399304,
       "model_matrix": {
        "dtype": "float32",
        "shape": [
         4,
         4
        ]
       },
       "point_size": 0.6,
       "positions": {
        "dtype": "float32",
        "shape": [
         3,
         3
        ]
       },
       "shader": "3dSpecular",
       "type": "Points",
       "visible": true
      }
     },
     "6e17e5ba2b6b49ab8d7cf7bf90907c9a": {
      "buffers": [
       {
        "data": "",
        "encoding": "base64",
        "path": [
         "colors",
         "buffer"
        ]
       },
       {
        "data": "AACAPwAAAAAAAAAAAAAAAAAAAAAAAIA/AAAAAAAAAAAAAAAAAAAAAAAAgD8AAAAAAAAAAAAAAAAAAAAAAACAPw==",
        "encoding": "base64",
        "path": [
         "model_matrix",
         "buffer"
        ]
       },
       {
        "data": "AAAAAAAAAAAAAAAAAAAAQAAAAEAAAABAAACAvwAAgL8AAEBA",
        "encoding": "base64",
        "path": [
         "positions",
         "buffer"
        ]
       }
      ],
      "model_module": "k3d",
      "model_module_version": "^3.0.0",
      "model_name": "ObjectModel",
      "state": {
       "_model_module_version": "^3.0.0",
       "_view_count": null,
       "_view_module": null,
       "_view_module_version": "",
       "_view_name": null,
       "color": 255,
       "colors": {
        "dtype": "uint32",
        "shape": [
         0
        ]
       },
       "compression_level": 0,
       "id": 140319935398184,
       "model_matrix": {
        "dtype": "float32",
        "shape": [
         4,
         4
        ]
       },
       "point_size": 0.5,
       "positions": {
        "dtype": "float32",
        "shape": [
         3,
         3
        ]
       },
       "shader": "3dSpecular",
       "type": "Points",
       "visible": true
      }
     },
     "6e253100d54e44cbb832b18e37b91aee": {
      "model_module": "@jupyter-widgets/base",
      "model_module_version": "1.1.0",
      "model_name": "LayoutModel",
      "state": {}
     },
     "74cdcac1e6a440c0b36d050922926b27": {
      "model_module": "k3d",
      "model_module_version": "^3.0.0",
      "model_name": "PlotModel",
      "state": {
       "_backend_version": "2.4.20",
       "_dom_classes": [],
       "_model_module_version": "^3.0.0",
       "_view_count": null,
       "_view_module_version": "^3.0.0",
       "antialias": true,
       "background_color": 16777215,
       "camera": [
        7.035429322671546,
        -5.05371661169084,
        4.52190260686802,
        0.5,
        0.5,
        1.5,
        -0.21324543903912102,
        0.18080142744496963,
        0.9601235475515058
       ],
       "camera_auto_fit": true,
       "clipping_planes": [],
       "fps_meter": false,
       "grid": [
        -1,
        -1,
        -1,
        1,
        1,
        1
       ],
       "grid_auto_fit": true,
       "height": 512,
       "layout": "IPY_MODEL_4921a899dff7480d95a9ab4875b9c969",
       "lighting": 1,
       "object_ids": [
        140319932694712
       ],
       "screenshot": "",
       "screenshot_scale": 2,
       "voxel_paint_color": 0
      }
     },
     "771df15a7b454393896fa9098dbfc608": {
      "model_module": "@jupyter-widgets/output",
      "model_module_version": "1.0.0",
      "model_name": "OutputModel",
      "state": {
       "layout": "IPY_MODEL_bc9514ad36fd4063b8605725b7fae901",
       "outputs": [
        {
         "data": {
          "application/vnd.jupyter.widget-view+json": {
           "model_id": "1bec7c18d708450ead5d6ccb84130801",
           "version_major": 2,
           "version_minor": 0
          },
          "text/plain": "Plot(antialias=True, background_color=16777215, fps_meter=False, grid=[-1, -1, -1, 1, 1, 1], height=512, light…"
         },
         "metadata": {},
         "output_type": "display_data"
        }
       ]
      }
     },
     "77a587cf3af9479eace9b5d2d5507d7b": {
      "buffers": [
       {
        "data": "AAD/AAD/AAAA//8A",
        "encoding": "base64",
        "path": [
         "colors",
         "buffer"
        ]
       },
       {
        "data": "AACAPwAAAAAAAAAAAAAAAAAAAAAAAIA/AAAAAAAAAAAAAAAAAAAAAAAAgD8AAAAAAAAAAAAAAAAAAAAAAACAPw==",
        "encoding": "base64",
        "path": [
         "model_matrix",
         "buffer"
        ]
       },
       {
        "data": "AAAAAAAAAAAAAAAAAAAAQAAAAEAAAABAAACAvwAAgL8AAEBA",
        "encoding": "base64",
        "path": [
         "positions",
         "buffer"
        ]
       }
      ],
      "model_module": "k3d",
      "model_module_version": "^3.0.0",
      "model_name": "ObjectModel",
      "state": {
       "_model_module_version": "^3.0.0",
       "_view_count": null,
       "_view_module": null,
       "_view_module_version": "",
       "_view_name": null,
       "color": 255,
       "colors": {
        "dtype": "uint32",
        "shape": [
         3
        ]
       },
       "compression_level": 0,
       "id": 140319932694712,
       "model_matrix": {
        "dtype": "float32",
        "shape": [
         4,
         4
        ]
       },
       "point_size": 0.5,
       "positions": {
        "dtype": "float32",
        "shape": [
         3,
         3
        ]
       },
       "shader": "3dSpecular",
       "type": "Points",
       "visible": true
      }
     },
     "783bc00024eb442da45dcd422ef06eb6": {
      "model_module": "@jupyter-widgets/base",
      "model_module_version": "1.1.0",
      "model_name": "LayoutModel",
      "state": {}
     },
     "78895641765a4c368a785248f2a784bc": {
      "model_module": "k3d",
      "model_module_version": "^3.0.0",
      "model_name": "PlotModel",
      "state": {
       "_backend_version": "2.4.20",
       "_dom_classes": [],
       "_model_module_version": "^3.0.0",
       "_view_count": null,
       "_view_module_version": "^3.0.0",
       "antialias": true,
       "background_color": 16777215,
       "camera": [
        5.536294650204749,
        -7.054441975307126,
        2.0036294650204796,
        0.5,
        0.5,
        1.5,
        0,
        0,
        1
       ],
       "camera_auto_fit": true,
       "clipping_planes": [],
       "fps_meter": false,
       "grid": [
        -1,
        -1,
        -1,
        1,
        1,
        1
       ],
       "grid_auto_fit": true,
       "height": 512,
       "layout": "IPY_MODEL_1e5f5f647cff427babb87b54a40da27c",
       "lighting": 1,
       "object_ids": [
        140319935401824
       ],
       "screenshot": "",
       "screenshot_scale": 2,
       "voxel_paint_color": 0
      }
     },
     "7f659db233154d3a97b7168c47267c24": {
      "model_module": "@jupyter-widgets/base",
      "model_module_version": "1.1.0",
      "model_name": "LayoutModel",
      "state": {}
     },
     "7f72b81697f249b39d24b17c55caa4fc": {
      "model_module": "@jupyter-widgets/base",
      "model_module_version": "1.1.0",
      "model_name": "LayoutModel",
      "state": {}
     },
     "85ff3165cd2a459d8b5672d3c31221de": {
      "model_module": "@jupyter-widgets/base",
      "model_module_version": "1.1.0",
      "model_name": "LayoutModel",
      "state": {}
     },
     "8c8bd2d00ad749278437cc2f8625c412": {
      "model_module": "k3d",
      "model_module_version": "^3.0.0",
      "model_name": "PlotModel",
      "state": {
       "_backend_version": "2.4.20",
       "_dom_classes": [],
       "_model_module_version": "^3.0.0",
       "_view_count": null,
       "_view_module_version": "^3.0.0",
       "antialias": true,
       "background_color": 16777215,
       "camera": [],
       "camera_auto_fit": true,
       "clipping_planes": [],
       "fps_meter": false,
       "grid": [
        -1,
        -1,
        -1,
        1,
        1,
        1
       ],
       "grid_auto_fit": true,
       "height": 512,
       "layout": "IPY_MODEL_85ff3165cd2a459d8b5672d3c31221de",
       "lighting": 1,
       "object_ids": [
        139961106239272
       ],
       "screenshot": "",
       "screenshot_scale": 2,
       "voxel_paint_color": 0
      }
     },
     "8d85afb1270244c78510f387088b61b8": {
      "buffers": [
       {
        "data": "/wAAAAD/AAAA//8A",
        "encoding": "base64",
        "path": [
         "colors",
         "buffer"
        ]
       },
       {
        "data": "AACAPwAAAAAAAAAAAAAAAAAAAAAAAIA/AAAAAAAAAAAAAAAAAAAAAAAAgD8AAAAAAAAAAAAAAAAAAAAAAACAPw==",
        "encoding": "base64",
        "path": [
         "model_matrix",
         "buffer"
        ]
       },
       {
        "data": "AAAAAAAAAAAAAAAAAAAAQAAAAEAAAABAAACAvwAAgL8AAEBA",
        "encoding": "base64",
        "path": [
         "positions",
         "buffer"
        ]
       }
      ],
      "model_module": "k3d",
      "model_module_version": "^3.0.0",
      "model_name": "ObjectModel",
      "state": {
       "_model_module_version": "^3.0.0",
       "_view_count": null,
       "_view_module": null,
       "_view_module_version": "",
       "_view_name": null,
       "color": 255,
       "colors": {
        "dtype": "uint32",
        "shape": [
         3
        ]
       },
       "compression_level": 0,
       "id": 140319932589728,
       "model_matrix": {
        "dtype": "float32",
        "shape": [
         4,
         4
        ]
       },
       "point_size": 0.5,
       "positions": {
        "dtype": "float32",
        "shape": [
         3,
         3
        ]
       },
       "shader": "3dSpecular",
       "type": "Points",
       "visible": true
      }
     },
     "8da8837a1a134689a9c08c814736a84c": {
      "buffers": [
       {
        "data": "",
        "encoding": "base64",
        "path": [
         "colors",
         "buffer"
        ]
       },
       {
        "data": "AACAPwAAAAAAAAAAAAAAAAAAAAAAAIA/AAAAAAAAAAAAAAAAAAAAAAAAgD8AAAAAAAAAAAAAAAAAAAAAAACAPw==",
        "encoding": "base64",
        "path": [
         "model_matrix",
         "buffer"
        ]
       },
       {
        "data": "AAAAAAAAAAAAAAAAAAAAQAAAAEAAAABAAACAvwAAgL8AAEBA",
        "encoding": "base64",
        "path": [
         "positions",
         "buffer"
        ]
       }
      ],
      "model_module": "k3d",
      "model_module_version": "^3.0.0",
      "model_name": "ObjectModel",
      "state": {
       "_model_module_version": "^3.0.0",
       "_view_count": null,
       "_view_module": null,
       "_view_module_version": "",
       "_view_name": null,
       "color": 255,
       "colors": {
        "dtype": "uint32",
        "shape": [
         0
        ]
       },
       "compression_level": 0,
       "id": 140319935294544,
       "model_matrix": {
        "dtype": "float32",
        "shape": [
         4,
         4
        ]
       },
       "point_size": 0.1,
       "positions": {
        "dtype": "float32",
        "shape": [
         3,
         3
        ]
       },
       "shader": "3dSpecular",
       "type": "Points",
       "visible": true
      }
     },
     "980e83215ea141659556c86fb8dbb071": {
      "model_module": "k3d",
      "model_module_version": "^3.0.0",
      "model_name": "PlotModel",
      "state": {
       "_backend_version": "2.4.20",
       "_dom_classes": [],
       "_model_module_version": "^3.0.0",
       "_view_count": null,
       "_view_module_version": "^3.0.0",
       "antialias": true,
       "background_color": 16777215,
       "camera": [
        5.536294650204749,
        -7.054441975307126,
        2.0036294650204796,
        0.5,
        0.5,
        1.5,
        0,
        0,
        1
       ],
       "camera_auto_fit": true,
       "clipping_planes": [],
       "fps_meter": false,
       "grid": [
        -1,
        -1,
        -1,
        1,
        1,
        1
       ],
       "grid_auto_fit": true,
       "height": 512,
       "layout": "IPY_MODEL_9cc988dd0e1641a493c6f33ff7adf2b8",
       "lighting": 1,
       "object_ids": [
        140319935398184
       ],
       "screenshot": "",
       "screenshot_scale": 2,
       "voxel_paint_color": 0
      }
     },
     "9cc988dd0e1641a493c6f33ff7adf2b8": {
      "model_module": "@jupyter-widgets/base",
      "model_module_version": "1.1.0",
      "model_name": "LayoutModel",
      "state": {}
     },
     "a0332b8cd6914e9f928032f3f90aed8e": {
      "buffers": [
       {
        "data": "8PAAAAD/AAAA//8A",
        "encoding": "base64",
        "path": [
         "colors",
         "buffer"
        ]
       },
       {
        "data": "AACAPwAAAAAAAAAAAAAAAAAAAAAAAIA/AAAAAAAAAAAAAAAAAAAAAAAAgD8AAAAAAAAAAAAAAAAAAAAAAACAPw==",
        "encoding": "base64",
        "path": [
         "model_matrix",
         "buffer"
        ]
       },
       {
        "data": "AAAAAAAAAAAAAAAAAAAAQAAAAEAAAABAAACAvwAAgL8AAEBA",
        "encoding": "base64",
        "path": [
         "positions",
         "buffer"
        ]
       }
      ],
      "model_module": "k3d",
      "model_module_version": "^3.0.0",
      "model_name": "ObjectModel",
      "state": {
       "_model_module_version": "^3.0.0",
       "_view_count": null,
       "_view_module": null,
       "_view_module_version": "",
       "_view_name": null,
       "color": 255,
       "colors": {
        "dtype": "uint32",
        "shape": [
         3
        ]
       },
       "compression_level": 0,
       "id": 140319932591520,
       "model_matrix": {
        "dtype": "float32",
        "shape": [
         4,
         4
        ]
       },
       "point_size": 0.5,
       "positions": {
        "dtype": "float32",
        "shape": [
         3,
         3
        ]
       },
       "shader": "3dSpecular",
       "type": "Points",
       "visible": true
      }
     },
     "a20a9787d135461d8e93c373e85f838b": {
      "model_module": "@jupyter-widgets/base",
      "model_module_version": "1.1.0",
      "model_name": "LayoutModel",
      "state": {}
     },
     "a20bd2f160dc4db0ab4267ba8b2b3624": {
      "model_module": "@jupyter-widgets/output",
      "model_module_version": "1.0.0",
      "model_name": "OutputModel",
      "state": {
       "layout": "IPY_MODEL_dde68263ebc248e5b4ee81f996e5a5cc",
       "outputs": [
        {
         "data": {
          "application/vnd.jupyter.widget-view+json": {
           "model_id": "3676d294a4624d328823d84793d4b224",
           "version_major": 2,
           "version_minor": 0
          },
          "text/plain": "Plot(antialias=True, background_color=16777215, fps_meter=False, grid=[-1, -1, -1, 1, 1, 1], height=512, light…"
         },
         "metadata": {},
         "output_type": "display_data"
        }
       ]
      }
     },
     "a2ca94590f1642128d0e164a3d6c3657": {
      "model_module": "k3d",
      "model_module_version": "^3.0.0",
      "model_name": "PlotModel",
      "state": {
       "_backend_version": "2.4.20",
       "_dom_classes": [],
       "_model_module_version": "^3.0.0",
       "_view_count": null,
       "_view_module_version": "^3.0.0",
       "antialias": true,
       "background_color": 16777215,
       "camera": [
        5.536294650204749,
        -7.054441975307126,
        2.0036294650204796,
        0.5,
        0.5,
        1.5,
        0,
        0,
        1
       ],
       "camera_auto_fit": true,
       "clipping_planes": [],
       "fps_meter": false,
       "grid": [
        -1,
        -1,
        -1,
        1,
        1,
        1
       ],
       "grid_auto_fit": true,
       "height": 512,
       "layout": "IPY_MODEL_fd088608825c43ef88c496350ee16763",
       "lighting": 1,
       "object_ids": [
        140319932589728
       ],
       "screenshot": "",
       "screenshot_scale": 2,
       "voxel_paint_color": 0
      }
     },
     "a412eef6f3934ddd87929613d3ab5fd5": {
      "buffers": [
       {
        "data": "",
        "encoding": "base64",
        "path": [
         "colors",
         "buffer"
        ]
       },
       {
        "data": "AACAPwAAAAAAAAAAAAAAAAAAAAAAAIA/AAAAAAAAAAAAAAAAAAAAAAAAgD8AAAAAAAAAAAAAAAAAAAAAAACAPw==",
        "encoding": "base64",
        "path": [
         "model_matrix",
         "buffer"
        ]
       },
       {
        "data": "AAAAAAAAAAAAAAAAAAAAQAAAAEAAAABAAACAvwAAgL8AAEBA",
        "encoding": "base64",
        "path": [
         "positions",
         "buffer"
        ]
       }
      ],
      "model_module": "k3d",
      "model_module_version": "^3.0.0",
      "model_name": "ObjectModel",
      "state": {
       "_model_module_version": "^3.0.0",
       "_view_count": null,
       "_view_module": null,
       "_view_module_version": "",
       "_view_name": null,
       "color": 255,
       "colors": {
        "dtype": "uint32",
        "shape": [
         0
        ]
       },
       "compression_level": 0,
       "id": 140320949963632,
       "model_matrix": {
        "dtype": "float32",
        "shape": [
         4,
         4
        ]
       },
       "point_size": 1,
       "positions": {
        "dtype": "float32",
        "shape": [
         3,
         3
        ]
       },
       "shader": "3dSpecular",
       "type": "Points",
       "visible": true
      }
     },
     "a44786c86f73487fbb798fabbb7232cb": {
      "model_module": "k3d",
      "model_module_version": "^3.0.0",
      "model_name": "PlotModel",
      "state": {
       "_backend_version": "2.4.20",
       "_dom_classes": [],
       "_model_module_version": "^3.0.0",
       "_view_count": null,
       "_view_module_version": "^3.0.0",
       "antialias": true,
       "background_color": 16777215,
       "camera": [
        5.536294650204749,
        -7.054441975307126,
        2.0036294650204796,
        0.5,
        0.5,
        1.5,
        0,
        0,
        1
       ],
       "camera_auto_fit": true,
       "clipping_planes": [],
       "fps_meter": false,
       "grid": [
        -1,
        -1,
        -1,
        1,
        1,
        1
       ],
       "grid_auto_fit": true,
       "height": 512,
       "layout": "IPY_MODEL_141153c50fcd4a61ae75004be17f9e6e",
       "lighting": 1,
       "object_ids": [
        140319935399920
       ],
       "screenshot": "",
       "screenshot_scale": 2,
       "voxel_paint_color": 0
      }
     },
     "b9aa1140a1fa419dac7b8a7784218fa1": {
      "buffers": [
       {
        "data": "AAD/AAD/AAAA//8A",
        "encoding": "base64",
        "path": [
         "colors",
         "buffer"
        ]
       },
       {
        "data": "AACAPwAAAAAAAAAAAAAAAAAAAAAAAIA/AAAAAAAAAAAAAAAAAAAAAAAAgD8AAAAAAAAAAAAAAAAAAAAAAACAPw==",
        "encoding": "base64",
        "path": [
         "model_matrix",
         "buffer"
        ]
       },
       {
        "data": "AAAAAAAAAAAAAAAAAAAAQAAAAEAAAABAAACAvwAAgL8AAEBA",
        "encoding": "base64",
        "path": [
         "positions",
         "buffer"
        ]
       }
      ],
      "model_module": "k3d",
      "model_module_version": "^3.0.0",
      "model_name": "ObjectModel",
      "state": {
       "_model_module_version": "^3.0.0",
       "_view_count": null,
       "_view_module": null,
       "_view_module_version": "",
       "_view_name": null,
       "color": 255,
       "colors": {
        "dtype": "uint32",
        "shape": [
         3
        ]
       },
       "compression_level": 0,
       "id": 139996351852048,
       "model_matrix": {
        "dtype": "float32",
        "shape": [
         4,
         4
        ]
       },
       "point_size": 0.5,
       "positions": {
        "dtype": "float32",
        "shape": [
         3,
         3
        ]
       },
       "shader": "3dSpecular",
       "type": "Points",
       "visible": true
      }
     },
     "baf24b53f83349c9a5e451f7d35e0752": {
      "model_module": "k3d",
      "model_module_version": "^3.0.0",
      "model_name": "PlotModel",
      "state": {
       "_backend_version": "2.4.20",
       "_dom_classes": [],
       "_model_module_version": "^3.0.0",
       "_view_count": null,
       "_view_module_version": "^3.0.0",
       "antialias": true,
       "background_color": 16777215,
       "camera": [
        5.536294650204749,
        -7.054441975307126,
        2.0036294650204796,
        0.5,
        0.5,
        1.5,
        0,
        0,
        1
       ],
       "camera_auto_fit": true,
       "clipping_planes": [],
       "fps_meter": false,
       "grid": [
        -1,
        -1,
        -1,
        1,
        1,
        1
       ],
       "grid_auto_fit": true,
       "height": 512,
       "layout": "IPY_MODEL_6e253100d54e44cbb832b18e37b91aee",
       "lighting": 1,
       "object_ids": [
        140319932589000
       ],
       "screenshot": "",
       "screenshot_scale": 2,
       "voxel_paint_color": 0
      }
     },
     "bc9514ad36fd4063b8605725b7fae901": {
      "model_module": "@jupyter-widgets/base",
      "model_module_version": "1.1.0",
      "model_name": "LayoutModel",
      "state": {}
     },
     "be18d32f4dd9442ea3df40a1cfc6ab71": {
      "model_module": "@jupyter-widgets/output",
      "model_module_version": "1.0.0",
      "model_name": "OutputModel",
      "state": {
       "layout": "IPY_MODEL_c9979ad6ed5647d69be950b9fd761c66",
       "outputs": [
        {
         "data": {
          "application/vnd.jupyter.widget-view+json": {
           "model_id": "35d0fd1c62b444c2806bd785c0a085db",
           "version_major": 2,
           "version_minor": 0
          },
          "text/plain": "Plot(antialias=True, background_color=16777215, fps_meter=False, grid=[-1, -1, -1, 1, 1, 1], height=512, light…"
         },
         "metadata": {},
         "output_type": "display_data"
        }
       ]
      }
     },
     "c60ee250f0d24d3db4d82e4e08b6d99e": {
      "model_module": "k3d",
      "model_module_version": "^3.0.0",
      "model_name": "PlotModel",
      "state": {
       "_backend_version": "2.4.20",
       "_dom_classes": [],
       "_model_module_version": "^3.0.0",
       "_view_count": null,
       "_view_module_version": "^3.0.0",
       "antialias": true,
       "background_color": 16777215,
       "camera": [
        1.936338033304085,
        -8.338287033579011,
        3.0840187392052187,
        0.5,
        0.5,
        1.5,
        0.1245536119187889,
        0.13932381087577125,
        0.9823824476653873
       ],
       "camera_auto_fit": true,
       "clipping_planes": [],
       "fps_meter": false,
       "grid": [
        -1,
        -1,
        -1,
        1,
        1,
        1
       ],
       "grid_auto_fit": true,
       "height": 512,
       "layout": "IPY_MODEL_0c931a5baf94429f8a9a3c58eeec1ef5",
       "lighting": 1,
       "object_ids": [
        140319932591912
       ],
       "screenshot": "",
       "screenshot_scale": 2,
       "voxel_paint_color": 0
      }
     },
     "c6dfc8c3cea9482bad419f0785d3c03e": {
      "model_module": "@jupyter-widgets/base",
      "model_module_version": "1.1.0",
      "model_name": "LayoutModel",
      "state": {}
     },
     "c7c63ada887040499ae31831750425c4": {
      "model_module": "@jupyter-widgets/base",
      "model_module_version": "1.1.0",
      "model_name": "LayoutModel",
      "state": {}
     },
     "c7d3143a08514e7d834fd0e2598ae22b": {
      "model_module": "@jupyter-widgets/base",
      "model_module_version": "1.1.0",
      "model_name": "LayoutModel",
      "state": {}
     },
     "c9979ad6ed5647d69be950b9fd761c66": {
      "model_module": "@jupyter-widgets/base",
      "model_module_version": "1.1.0",
      "model_name": "LayoutModel",
      "state": {}
     },
     "d25046f585d24515b0168fe8c36e8cbe": {
      "model_module": "@jupyter-widgets/output",
      "model_module_version": "1.0.0",
      "model_name": "OutputModel",
      "state": {
       "layout": "IPY_MODEL_783bc00024eb442da45dcd422ef06eb6",
       "outputs": [
        {
         "data": {
          "application/vnd.jupyter.widget-view+json": {
           "model_id": "a2ca94590f1642128d0e164a3d6c3657",
           "version_major": 2,
           "version_minor": 0
          },
          "text/plain": "Plot(antialias=True, background_color=16777215, fps_meter=False, grid=[-1, -1, -1, 1, 1, 1], height=512, light…"
         },
         "metadata": {},
         "output_type": "display_data"
        }
       ]
      }
     },
     "da56e1cfc33d489b8436063c4b081b76": {
      "model_module": "@jupyter-widgets/base",
      "model_module_version": "1.1.0",
      "model_name": "LayoutModel",
      "state": {}
     },
     "dde68263ebc248e5b4ee81f996e5a5cc": {
      "model_module": "@jupyter-widgets/base",
      "model_module_version": "1.1.0",
      "model_name": "LayoutModel",
      "state": {}
     },
     "e389505a3b4747c2bd4d6ee72bf84bf3": {
      "model_module": "@jupyter-widgets/output",
      "model_module_version": "1.0.0",
      "model_name": "OutputModel",
      "state": {
       "layout": "IPY_MODEL_c7d3143a08514e7d834fd0e2598ae22b",
       "outputs": [
        {
         "data": {
          "application/vnd.jupyter.widget-view+json": {
           "model_id": "74cdcac1e6a440c0b36d050922926b27",
           "version_major": 2,
           "version_minor": 0
          },
          "text/plain": "Plot(antialias=True, background_color=16777215, fps_meter=False, grid=[-1, -1, -1, 1, 1, 1], height=512, light…"
         },
         "metadata": {},
         "output_type": "display_data"
        }
       ]
      }
     },
     "e4bd6c2efead4191aa4dde0034ba9412": {
      "buffers": [
       {
        "data": "/wAAAAD/AAAA//8A",
        "encoding": "base64",
        "path": [
         "colors",
         "buffer"
        ]
       },
       {
        "data": "AACAPwAAAAAAAAAAAAAAAAAAAAAAAIA/AAAAAAAAAAAAAAAAAAAAAAAAgD8AAAAAAAAAAAAAAAAAAAAAAACAPw==",
        "encoding": "base64",
        "path": [
         "model_matrix",
         "buffer"
        ]
       },
       {
        "data": "AAAAAAAAAAAAAAAAAAAAQAAAAEAAAABAAACAvwAAgL8AAEBA",
        "encoding": "base64",
        "path": [
         "positions",
         "buffer"
        ]
       }
      ],
      "model_module": "k3d",
      "model_module_version": "^3.0.0",
      "model_name": "ObjectModel",
      "state": {
       "_model_module_version": "^3.0.0",
       "_view_count": null,
       "_view_module": null,
       "_view_module_version": "",
       "_view_name": null,
       "color": 255,
       "colors": {
        "dtype": "uint32",
        "shape": [
         3
        ]
       },
       "compression_level": 0,
       "id": 140319935399920,
       "model_matrix": {
        "dtype": "float32",
        "shape": [
         4,
         4
        ]
       },
       "point_size": 0.5,
       "positions": {
        "dtype": "float32",
        "shape": [
         3,
         3
        ]
       },
       "shader": "3dSpecular",
       "type": "Points",
       "visible": true
      }
     },
     "eb784e11a663467496e29e996e080980": {
      "model_module": "@jupyter-widgets/output",
      "model_module_version": "1.0.0",
      "model_name": "OutputModel",
      "state": {
       "layout": "IPY_MODEL_5ea8f3f93ae54f15b2e2f8b7ce644a3e",
       "outputs": [
        {
         "data": {
          "application/vnd.jupyter.widget-view+json": {
           "model_id": "980e83215ea141659556c86fb8dbb071",
           "version_major": 2,
           "version_minor": 0
          },
          "text/plain": "Plot(antialias=True, background_color=16777215, fps_meter=False, grid=[-1, -1, -1, 1, 1, 1], height=512, light…"
         },
         "metadata": {},
         "output_type": "display_data"
        }
       ]
      }
     },
     "f2b3264099594b508feaaeb0a454252a": {
      "buffers": [
       {
        "data": "AAD/AAD/AAAA//8A",
        "encoding": "base64",
        "path": [
         "colors",
         "buffer"
        ]
       },
       {
        "data": "AACAPwAAAAAAAAAAAAAAAAAAAAAAAIA/AAAAAAAAAAAAAAAAAAAAAAAAgD8AAAAAAAAAAAAAAAAAAAAAAACAPw==",
        "encoding": "base64",
        "path": [
         "model_matrix",
         "buffer"
        ]
       },
       {
        "data": "AAAAAAAAAAAAAAAAAAAAQAAAAEAAAABAAACAvwAAgL8AAEBA",
        "encoding": "base64",
        "path": [
         "positions",
         "buffer"
        ]
       }
      ],
      "model_module": "k3d",
      "model_module_version": "^3.0.0",
      "model_name": "ObjectModel",
      "state": {
       "_model_module_version": "^3.0.0",
       "_view_count": null,
       "_view_module": null,
       "_view_module_version": "",
       "_view_name": null,
       "color": 255,
       "colors": {
        "dtype": "uint32",
        "shape": [
         3
        ]
       },
       "compression_level": 0,
       "id": 139961106239272,
       "model_matrix": {
        "dtype": "float32",
        "shape": [
         4,
         4
        ]
       },
       "point_size": 0.5,
       "positions": {
        "dtype": "float32",
        "shape": [
         3,
         3
        ]
       },
       "shader": "3dSpecular",
       "type": "Points",
       "visible": true
      }
     },
     "f57e064ac7d54046968beac4288a6577": {
      "model_module": "@jupyter-widgets/base",
      "model_module_version": "1.1.0",
      "model_name": "LayoutModel",
      "state": {}
     },
     "f71684c0c1be468f83d284c9fab27f79": {
      "model_module": "k3d",
      "model_module_version": "^3.0.0",
      "model_name": "PlotModel",
      "state": {
       "_backend_version": "2.4.20",
       "_dom_classes": [],
       "_model_module_version": "^3.0.0",
       "_view_count": null,
       "_view_module_version": "^3.0.0",
       "antialias": true,
       "background_color": 16777215,
       "camera": [
        5.6801887830677416,
        -7.270283174601615,
        2.018018878306779,
        0.4999999999999999,
        0.4999999999999999,
        1.5,
        0,
        0,
        1
       ],
       "camera_auto_fit": true,
       "clipping_planes": [],
       "fps_meter": false,
       "grid": [
        -1,
        -1,
        -1,
        1,
        1,
        1
       ],
       "grid_auto_fit": true,
       "height": 512,
       "layout": "IPY_MODEL_7f72b81697f249b39d24b17c55caa4fc",
       "lighting": 1,
       "object_ids": [
        140319935399304
       ],
       "screenshot": "",
       "screenshot_scale": 2,
       "voxel_paint_color": 0
      }
     },
     "f81fdccdf4034327a1f494875b5ff7a7": {
      "model_module": "@jupyter-widgets/base",
      "model_module_version": "1.1.0",
      "model_name": "LayoutModel",
      "state": {}
     },
     "fb0d4dce8dd846ea880cf859c1f28b59": {
      "model_module": "@jupyter-widgets/output",
      "model_module_version": "1.0.0",
      "model_name": "OutputModel",
      "state": {
       "layout": "IPY_MODEL_26bf3d8417c746f5b30938a01aff21c5",
       "outputs": [
        {
         "data": {
          "application/vnd.jupyter.widget-view+json": {
           "model_id": "baf24b53f83349c9a5e451f7d35e0752",
           "version_major": 2,
           "version_minor": 0
          },
          "text/plain": "Plot(antialias=True, background_color=16777215, fps_meter=False, grid=[-1, -1, -1, 1, 1, 1], height=512, light…"
         },
         "metadata": {},
         "output_type": "display_data"
        }
       ]
      }
     },
     "fb1f68e805004b8aba42c1f1908b702b": {
      "model_module": "@jupyter-widgets/output",
      "model_module_version": "1.0.0",
      "model_name": "OutputModel",
      "state": {
       "layout": "IPY_MODEL_408e6271f89240b2bc7dd5b0efb2b6be",
       "outputs": [
        {
         "data": {
          "application/vnd.jupyter.widget-view+json": {
           "model_id": "2fa66215b2b746ae9574e5eaff8a04d4",
           "version_major": 2,
           "version_minor": 0
          },
          "text/plain": "Plot(antialias=True, background_color=16777215, fps_meter=False, grid=[-1, -1, -1, 1, 1, 1], height=512, light…"
         },
         "metadata": {},
         "output_type": "display_data"
        }
       ]
      }
     },
     "fb36a8c173f9470995066e7236ab24fb": {
      "buffers": [
       {
        "data": "8PAAAAD/AAAA//8A",
        "encoding": "base64",
        "path": [
         "colors",
         "buffer"
        ]
       },
       {
        "data": "AACAPwAAAAAAAAAAAAAAAAAAAAAAAIA/AAAAAAAAAAAAAAAAAAAAAAAAgD8AAAAAAAAAAAAAAAAAAAAAAACAPw==",
        "encoding": "base64",
        "path": [
         "model_matrix",
         "buffer"
        ]
       },
       {
        "data": "AAAAAAAAAAAAAAAAAAAAQAAAAEAAAABAAACAvwAAgL8AAEBA",
        "encoding": "base64",
        "path": [
         "positions",
         "buffer"
        ]
       }
      ],
      "model_module": "k3d",
      "model_module_version": "^3.0.0",
      "model_name": "ObjectModel",
      "state": {
       "_model_module_version": "^3.0.0",
       "_view_count": null,
       "_view_module": null,
       "_view_module_version": "",
       "_view_name": null,
       "color": 255,
       "colors": {
        "dtype": "uint32",
        "shape": [
         3
        ]
       },
       "compression_level": 0,
       "id": 140319932591912,
       "model_matrix": {
        "dtype": "float32",
        "shape": [
         4,
         4
        ]
       },
       "point_size": 0.5,
       "positions": {
        "dtype": "float32",
        "shape": [
         3,
         3
        ]
       },
       "shader": "3dSpecular",
       "type": "Points",
       "visible": true
      }
     },
     "fd088608825c43ef88c496350ee16763": {
      "model_module": "@jupyter-widgets/base",
      "model_module_version": "1.1.0",
      "model_name": "LayoutModel",
      "state": {}
     }
    },
    "version_major": 2,
    "version_minor": 0
   }
  }
 },
 "nbformat": 4,
 "nbformat_minor": 2
}
