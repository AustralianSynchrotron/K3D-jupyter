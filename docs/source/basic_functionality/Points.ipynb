{
 "cells": [
  {
   "cell_type": "markdown",
   "metadata": {},
   "source": [
    "## Points\n",
    "\n",
    "To draw points one needs to prepare data in the array of coordinates `[number_of_points,3]`. Additionally each color can have an individual color (`colors` attribute) or all colors can be the same. \n",
    "\n",
    "When the number of points is larger than 10^3 it is recommended to use fast shaders: `flat`, `3d` or `3dSpecular`. The shader `mesh` generates much bigger overhead, but one has a properly triangularized sphere representing each point."
   ]
  },
  {
   "cell_type": "code",
   "execution_count": 2,
   "metadata": {},
   "outputs": [
    {
     "data": {
      "application/vnd.jupyter.widget-view+json": {
       "model_id": "7fa6a507a7164afe9bf163950ac88a2b",
       "version_major": 2,
       "version_minor": 0
      },
      "text/plain": [
       "Output()"
      ]
     },
     "metadata": {},
     "output_type": "display_data"
    }
   ],
   "source": [
    "import k3d\n",
    "import numpy as np \n",
    "\n",
    "x = np.random.randn(1000,3).astype(np.float32)\n",
    "colors = k3d.helpers.map_colors((np.sum(x**3-.1*x**2,axis=1)),\n",
    "                       k3d.colormaps.basic_color_maps.WarmCool,[-2,.1]).astype(np.uint32)\n",
    "point_size = 0.2\n",
    "\n",
    "plot = k3d.plot()\n",
    "plt_points = k3d.points(positions=x, point_size=0.2, colors=colors)\n",
    "plot += plt_points\n",
    "plt_points.shader='3d'\n",
    "plot.display()"
   ]
  }
 ],
 "metadata": {
  "kernelspec": {
   "display_name": "Python 3",
   "language": "python",
   "name": "python3"
  },
  "language_info": {
   "codemirror_mode": {
    "name": "ipython",
    "version": 3
   },
   "file_extension": ".py",
   "mimetype": "text/x-python",
   "name": "python",
   "nbconvert_exporter": "python",
   "pygments_lexer": "ipython3",
   "version": "3.7.4"
  },
  "widgets": {
   "application/vnd.jupyter.widget-state+json": {
    "state": {
     "26847803b9d94a7db5a1a57af17df3f0": {
      "model_module": "@jupyter-widgets/base",
      "model_module_version": "1.2.0",
      "model_name": "LayoutModel",
      "state": {}
     },
     "26f275267f4748989a34ea80b0c61e8b": {
      "model_module": "k3d",
      "model_module_version": "2.7.2",
      "model_name": "PlotModel",
      "state": {
       "_backend_version": "2.6.7",
       "_dom_classes": [],
       "_view_count": null,
       "antialias": 3,
       "axes": [
        "x",
        "y",
        "z"
       ],
       "background_color": 16777215,
       "camera": [
        10.010538514177055,
        -15.092543565809803,
        0.9934068973581133,
        0.19680774211883545,
        -0.3719474077224729,
        0.012033820152282715,
        0,
        0,
        1
       ],
       "camera_auto_fit": true,
       "camera_no_pan": false,
       "camera_no_rotate": false,
       "camera_no_zoom": false,
       "clipping_planes": [],
       "colorbar_object_id": -1,
       "fps_meter": false,
       "grid": [
        -1,
        -1,
        -1,
        1,
        1,
        1
       ],
       "grid_auto_fit": true,
       "grid_visible": true,
       "height": 512,
       "layout": "IPY_MODEL_26847803b9d94a7db5a1a57af17df3f0",
       "lighting": 1,
       "menu_visibility": true,
       "object_ids": [
        2126839624928
       ],
       "rendering_steps": 1,
       "screenshot": "",
       "screenshot_scale": 2,
       "time": 0,
       "voxel_paint_color": 0
      }
     },
     "2dc3a3e5e7ba476ead6333247b0b7699": {
      "model_module": "k3d",
      "model_module_version": "2.7.2",
      "model_name": "PlotModel",
      "state": {
       "_backend_version": "2.7.2",
       "_dom_classes": [],
       "_view_count": null,
       "antialias": 3,
       "auto_rendering": true,
       "axes": [
        "x",
        "y",
        "z"
       ],
       "axes_helper": 1,
       "background_color": 16777215,
       "camera": [
        10.055747007854881,
        -14.976446949732457,
        1.1001063799389288,
        0.18026328086853027,
        -0.1632213592529297,
        0.11255800724029541,
        0,
        0,
        1
       ],
       "camera_auto_fit": true,
       "camera_fov": 60,
       "camera_no_pan": false,
       "camera_no_rotate": false,
       "camera_no_zoom": false,
       "clipping_planes": [],
       "colorbar_object_id": -1,
       "fps": 25,
       "fps_meter": false,
       "grid": [
        -1,
        -1,
        -1,
        1,
        1,
        1
       ],
       "grid_auto_fit": true,
       "grid_visible": true,
       "height": 512,
       "layout": "IPY_MODEL_38744de6d0874104aff61036629b210e",
       "lighting": 1.5,
       "menu_visibility": true,
       "mode": "view",
       "name": null,
       "object_ids": [
        139789501330064
       ],
       "rendering_steps": 1,
       "screenshot": "",
       "screenshot_scale": 2,
       "snapshot": "",
       "time": 0,
       "voxel_paint_color": 0
      }
     },
     "36a2ff9fa973456d84f9a5f49f02e892": {
      "model_module": "k3d",
      "model_module_version": "2.7.2",
      "model_name": "PlotModel",
      "state": {
       "_backend_version": "2.7.2",
       "_dom_classes": [],
       "_view_count": null,
       "antialias": 3,
       "auto_rendering": true,
       "axes": [
        "x",
        "y",
        "z"
       ],
       "axes_helper": 1,
       "background_color": 16777215,
       "camera": [
        9.881140545623674,
        -14.879735165263973,
        0.9721587375419494,
        -0.18577826023101807,
        0.2206430435180664,
        -0.034533143043518066,
        0,
        0,
        1
       ],
       "camera_auto_fit": true,
       "camera_fov": 60,
       "camera_no_pan": false,
       "camera_no_rotate": false,
       "camera_no_zoom": false,
       "clipping_planes": [],
       "colorbar_object_id": -1,
       "fps": 25,
       "fps_meter": false,
       "grid": [
        -1,
        -1,
        -1,
        1,
        1,
        1
       ],
       "grid_auto_fit": true,
       "grid_visible": true,
       "height": 512,
       "layout": "IPY_MODEL_4aaa5cfeadb949c496af6d12f524a59b",
       "lighting": 1.5,
       "menu_visibility": true,
       "mode": "view",
       "name": null,
       "object_ids": [
        139627142014288
       ],
       "rendering_steps": 1,
       "screenshot": "",
       "screenshot_scale": 2,
       "snapshot": "",
       "time": 0,
       "voxel_paint_color": 0
      }
     },
     "38744de6d0874104aff61036629b210e": {
      "model_module": "@jupyter-widgets/base",
      "model_module_version": "1.2.0",
      "model_name": "LayoutModel",
      "state": {}
     },
     "3bb96fb6b8b14ff487fb1e4efb687572": {
      "model_module": "@jupyter-widgets/base",
      "model_module_version": "1.2.0",
      "model_name": "LayoutModel",
      "state": {}
     },
     "425f4e68714e44b2a60f614327c7af6c": {
      "model_module": "@jupyter-widgets/base",
      "model_module_version": "1.2.0",
      "model_name": "LayoutModel",
      "state": {}
     },
     "4aaa5cfeadb949c496af6d12f524a59b": {
      "model_module": "@jupyter-widgets/base",
      "model_module_version": "1.2.0",
      "model_name": "LayoutModel",
      "state": {}
     },
     "525519c5ce6a499c946fb7c1f1457eff": {
      "buffers": [
       {
        "data": "eNp9F+tTVFX8zDR9aWr61pemmqZxmqlx6otNjCgNBT42BUGQR4iigYZIhuSQoGRCDFFIaqCuZKAG6igKGwu4sNy7T5Z977LL3v1juuecPWfPuedcPpz5nefv/TrX+9aB07KTjm2vzKJB5gQqdfvRPBOPIXi6UuHu+rra8Hxxg8O34VigONSjZcDvSdM3ZLhOVAEtxb9TvzmA7jXucXJ8GPlTG8u5d2uXOri7he/aBfmW7UkQfzoFnAd3cWf+n86CnlavcF+ptwDrtRBHm+P/ZBXaL9vhACm3Iugu7c/h1OnBOYsjODKA4Pj1ENC0LPfWiAeOwMAlqb3WrlxAw/g+pTrB+tAVuh75JQDc3x6R0hkdDAJP2zG6n3I6EMxmsxzN+i9XEIxOWgWb1BWvAPXYIYFHLZ1G86R9DsGH1gg9S8zNgNj0JForR/aC2NQ/aJ5OaYIekG/oftTb7uNou5oOI5gJhwS9QTg5FpbiWvNgvrSNpE57D7ZnUyV3l9rP4ING2YnPwvnVDh/3htjGqBfX8Qrgbq6R+pZSZ8E8Xj6PzlarSuldGFezj+M5/6sGFZ87OLzB4X66zmxmpbI/n8bvlZq9CEL87B3Pdw0gcvemwDMLoc7IfDMcBNEJK73rbqkVZN5Kjz1nvCC5MAe2v2GT8sv6pOwM+0a5LkcJL0d7k6DfziY3h6eiII/3w1fnuLNAfzfWYyaL1m21Kmg5pHB0E7NPTXOU99xJKb9GnpJ20QfczhTwtDbgPFSLczCrY5ibjDaBY8db88Db0ZLHndDQeeTeLQRbq1WwOJuguYG+LSvSfWvR1G6ZSFigdWc4ROfhWyOm/uJtPyHItz74M4K3fw+C0I0hrO9fe0BXi4fTT1+nH+nBWV6Uz51/DiLY/6Nf0Hns8QOcDyI4bwf/uArcp+qkvMEB4wfWttXKYrqfsD1HMDQ6zOcMbxrEnz3KxWQJ3c9qGuVjM5SrqwcKcWxV5PEqtfvQ/Pj+VY4Xf9dZTO/mELqj1lvoefTBuDTnEJhJxKXxsBnw49p28XswMxWjb2D+hTmT3Cvehm3uOdNIZbZ8+hJ8/JoNpD2q6AtluxGelLIi6LOhxCnwAmWN3r9rWtcy0TDwXWil693vL6C6sPMdO/JVti+YvhcVateLR3EOb8CXlsYju5eMZ/J6Cgbo2f3bkXx81eyTxheLi9TMJ5NRae1m/YPsQ59l/UKt/9q0/1IbDiL47N+YIAvpH2S5hcw/efM/pLfKgmX6Pjpxh4nBXoxLrxksbdjzkDuQz6rCZUG+qfEomns7mmmt2irPkz0Y66i+lRUJ/EbG/6K1mNQ9kkNJzmDreXL+Be5Bz5+ivG4szYNA30V6p/wzB8cXkR/2rTCGZbZdH7gs1S3Rl5m9SE4yq3u05ug5h7U9Z/Pc3vbXbWJM67mF1alSXbolreWFJLZNbye2/aQ1V/+xPx0tdaI17MGMsvo6T+M+/qV9S9+WxTR75v2hOd8L6XzAXEvuGHtuLYn5hf5HeDeLZVkfW/rRknAGcwtZL9mSprLI5EI86f8TtneHtQT2buQNi5/Uaa6Xc2xsqSOax2M4noJrm/l/Sfe5fH0du4ahle/LErYZVF/Jetd7C6b2+a17zVROmCtkOglbb5j2BGR88QFPE/7N2Nqc9rgovonRMO1JCt7mfYvo0qgnqNfI32Mob8A+hvwlZH2pcQ/mdPjPJPggjbknfM0w9tCrh78y7VvZuUv/78j8EtZSWd3R0in6X2Fjl9Rj9s/8P5y6M+U=",
        "encoding": "base64",
        "path": [
         "colors",
         "compressed_buffer"
        ]
       },
       {
        "data": "eNpjYGiwZ8AAxIsBAF7EAv0=",
        "encoding": "base64",
        "path": [
         "model_matrix",
         "compressed_buffer"
        ]
       },
       {
        "data": "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",
        "encoding": "base64",
        "path": [
         "positions",
         "compressed_buffer"
        ]
       }
      ],
      "model_module": "k3d",
      "model_module_version": "2.7.2",
      "model_name": "ObjectModel",
      "state": {
       "_view_count": null,
       "_view_module": null,
       "_view_module_version": "",
       "_view_name": null,
       "color": 255,
       "colors": {
        "compressed_buffer": {},
        "dtype": "uint32",
        "shape": [
         1000
        ]
       },
       "compression_level": 0,
       "id": 139789501330064,
       "mesh_detail": 2,
       "model_matrix": {
        "compressed_buffer": {},
        "dtype": "float32",
        "shape": [
         4,
         4
        ]
       },
       "name": "Points #1",
       "opacity": 1,
       "point_size": 0.2,
       "positions": {
        "compressed_buffer": {},
        "dtype": "float32",
        "shape": [
         1000,
         3
        ]
       },
       "shader": "3d",
       "type": "Points",
       "visible": true
      }
     },
     "5ac601030a654f719af1b5d99bf72b65": {
      "buffers": [
       {
        "data": "eNqNV1lzVEUUPlVW+eSDVumbJQ+W5YMVFbF8kKWiaIU42ZhIyEJSAUIyEJaELEUgJMQUSoJAIohQgCYGTMBEC8ky40zCzL2ZJXc2Msns+THe7jvdc/t238GHrr59+szps37njNuyE9575RldUl0p3t2VeyB4+QK41fvYzCTe0ar6bFnjO1gCiWUHpTOrYg+sHqmmZ9/pwxyPv6sN7/gtdZcPldO7bDqlfZfldXNb+O/Vw9WMTHIn1X3D0db6O8HtTFBdit910DuvrZ7jD/Qeh9DVIUr3HPia4SF8+nN4/ArUFj+HbCIu5DX+DvvmRCOU73Cp/mjFd6lklt5tzM1AKuBjfEPkZLNbnFxyDgZSELwywNjjl5NcDJKrHspT9NoCJGU3zD2KMb/zttYyb2wuPMX7+sNfOXkpJUC/H0+sC+2N3LrKnOWmSs2/1XtZ//edojzRezdx/Iy6YH8FvHl7vBLEHk9hu6TafZx+iN+1FIffbkU5veSmKlC+O8fFVf99uXsNfyvD5zgemrPqmlDla3lYysQI239zlKFlNmKmuUHoselJzff/zJnmU6DnOP3NcFeAexfL+fORsF5xPddbtHi31eEzkbc+dR/cVcVaDnW2MDoql3ro2VYtUXqg28bwkTrV6xIc7hP6Gtn68euLHB3tnm+/gv52P3c38XOU+kJu3i+0MeXP5wnCFfL7/hN+MYaZ5ABa7Qdkto7UuqGxV3WZvB0V/pbsyqVeekb+xVh27KCKHyPc26HRIU4WftOj4TDCDXLfVOJmeHZvcwjzAK1P31rCNSY3lJliGsKx8I3vYcURh4a9z8F/thVmp9ZBbqzAuYCw1AybjT4zLmk5AeGf8vZK9RpmH6uUYCub4eQog91wslamdISz+jeSskcYvwfjEbj7Y1ioV1hJM3SUX/6OFmH80Y5qg9DjjnnwqjH7P/livBfFRFQrykAX/i7b7sJ5SvhKP3RqPlMxTi/Ps7/YFEdwrv1+j6OhXqnXY1+Rk5NB8pn2QuuX9P2uZi9nC8oNXMtPHnLvRW5fV9c1oX4e6xfMefsbi0I+lIeF8g7t0bvjpnd6eptVwvkcujYMiZV/uXggnTIvopAOKRSH9f3487ftpridTmUhvvTMFFc2n87m8KAHNmMZDePUOQPFBGH9znfssHb+NPw9HSuYU8w8IeX7POktiRUnZ7deXkfDar7f63L8ZXm7MfsHnY1EWIdqmdLLUM0s0HNLhQfu5OoSrXQkJHx37WKn0N6RPgV87Y2azWeOYFsJXzq4xsUb8RTKmRtDQUZ/Mn8gnTV8sjD85Z+4GFm9R7U6iN4ZE9a2Ef/IW8EfLnL2ZVPaLDF4yo/n5FW1p00/eMHXc6536OWv2ONC7ELLOHuZYRDCZuM9mdNEsXj/1Xm8j15QoL1Gxv8b4vZ5rX+NDHL226z5WSEaTlN6aZGT49Xns0ed340+NNpI4oW+hzoCQjy2fOTCfs/n2FlT28yw3XhG8yOd2/+aEfMc0nptNplU+32N5usGC/Wt6L2N9Qycb/MJ69Bra8BYgWZjQt/KaP7c8ebSS3U2s1nvYyRHz5P0rJhiqVRTIvQ3mslJ7TPzaA5PC/kd35Xv1makZiuM5eoU9XVEGzjpN80FRpaKP7u2OQr2abLuj0Wg5AMnxl09XyazJfSTazFO8cFdtgvnnb6vYgx22tkeduYopHz5OTLyy3VONpqP/gP46Rnx",
        "encoding": "base64",
        "path": [
         "colors",
         "compressed_buffer"
        ]
       },
       {
        "data": "eNpjYGiwZ8AAxIsBAF7EAv0=",
        "encoding": "base64",
        "path": [
         "model_matrix",
         "compressed_buffer"
        ]
       },
       {
        "data": "eNoNl2cgln8Uho2M7CSrkF0JDWnw/M5bKiUqLQ2R2aBISdI/e1W2hLJCNpEVnt95JaQSLZSSkoxopxT59/l8OR/Ofe7rMjY1gdtJc0BqRift2VZK7AUUuJdSD8HruVnI/LDCfTs/0wClUJzxbB4rtDoJM5XDyeP1FlQ80pS0rmrC0zIi2PcKqdCyz4zS81EiFyxBr9dqYfQpkVXGrRnM3N7d9L2qEgRPN6Uapctxk8IUvXFuFjkc8QaETbbD3UYNDLb6A7oTBTDe84HomotidokumP+XiG5T3zDj9WnYgmep/YgE+ncOkr1lUpDrKQLVsWaoPKGKBtnJ1KxtG6xafZro9ufQXpeNcPt0BRRm8UPAojb4vOUl8bGOg6RtbqjQXcP6molAjKIaLvp9AeqUhemFIB6ISHehLsmyIP3jKg31EUWIaoNA9TG61TsCTz2poRa+vyDR5iw2DEfCSp8gXHVbAifEUqGXXxgeHwylvU47Se18PrgaHAeWITp4Umw/Vj9MgQ4WcEVXP7G+XgjLlzxmfph30KCQF3TIUYk+eLwAfr0/QuUL5VG0PQeFNvihkPl6iLKsBqmFKsg1+o++Pv7NWOhPLxOsdx6spttiwFAV0U1YQxxGz8KbGl6sYGxoW40/6Xnhjie21MOXpfHYef4GSZzKMppaspmq9/BBrD+XXWrWiv8pekKvaB92qy8Fq8X5UPLyI52+g9C7zfyci7kbcOiFGPdqhC3ViGrEcT4FPN8Qj3ar1kCVUiSYSV2DhO0VWH/+ANk+5Y9teql0baAFuVJ/jl6I+wrlH+cQ3RuHsHpNFPRsH6ILJ0epiUAzaxs2m7wSvgYlGiwuvN6Na8xVMdkniYj+OgbnZNLAv/sHjTJNpUHlcrDBnRcvTBgDhzMDrvKU0qhAIao5WgFPfmfTqcIKclu5Hr+PXcCS3nbQs+PDNNWDWO8aCGrJhpixazX4MVPsIW4ERuVRemN5G5PZ+4jaqCSAuEwuTs2/DbOwGK9Fnwf2whzUfFaDRafEcE+NOKj0byNrKylUHIoGvlO7QdTDDmP9haF4Vx7YuJqyhmfDIFBzgCY2nYHvP2uYZWrWkGzhi/YRrSj1WRo0BzczWTk54LJ0J7F7vxjDf8nBXg8LCH/iAxa5cageIwC3WnQg43EK4f24jxq/1obdyTbk7aMYY8ltz6mfiQjobBbmrC/V4PzMWQHqMj/onDZ/sAleAGdNomhDZz9b918RCh7uq8v/moOZfXfxa/MNcDzwlDjkLmTLg97Cq5pZWPF+Fmfoyz38djEE/RKsIHLLUjyUo8wVn7sDMycMyW8hQ7pomgFaW3bTGYf2wc6TGThXzw7fWSfB0gOXcF+QN7mjpgB66avpzctlJHT1D7Iw6ht8nynDLX6wHB55jsFqyTY8IKRBslt4oHd/MzXJCCcVa33AqPM67s3UZl8sb6B79S5hd2wI7ncvpyLOssBtyaTcj2epl6ApvubawCndMLCuCMKANgqXDhzAJplYo12/R6j7KTGaanSROO94TjY3JOIOm+lY/ekiO24lQc4dHEChwxdxp48kzMrNpzn2J1DmYjb5XncfzMvr6GmdGFJrxzVWqpPGzMQdwKrLgucLBbg3dQJ9tNKZPWv1sOTrKhSvecP0bjZnHqYepSZHL+AN4Q6UzfwOc63iQG/fXHw3/J5eb75P4898pgmptwDc++l1nZVQe3wYdaZPkdqSXPJy3TkcNM9C5b/vcW1QAy4JlKYpiflURKsHrgwr4pzTKdC5uh4Dvl8khu9nEhnbbvQKDYaUk7V4xroI5Sy/0P2/eaA56AJUtPtizqpWkrBroI4/15nOKdLEDaBOheZa01djsyE6xJEqTxXC1X0JeMOgCVcOcUm9eCc0QSVaSIeg0JmlsPTKW6qbnAiFTDf9+lkFKo+3wPmT8TRsmT8GeGVCxBN/XKCQSieZeyBzQZ9GOx7EV/F2qJXgwzafB1rtx0DUpB+MiGeDTFk/Pq1VgazkUMZAJQF/fxXB3zXu1K7KDv+u/MOKHOkykmkwok8WzMDBnV4Y+GcXjZ3KAvlzKcTGjJf7n5kxZusJ4LWbC8nPlyuhxtkLPmuXszv/LKe+mx/Qm9tno8fIfvjWV0KfRibje7FSNpDnMg5PfsZRV1HWKtcWlc8LUsMqZ+Lzygp1BwfQcMctuHXuHhv79C9zdLc5/rmUT4ZdF0D6USsoeK0AjkvMyJkDUVBVfBuUWuPgSF0ULYleTb5NpRIBnW1QQOQ5HS5B8EnaEw9LH8HTGSz4/yxAp7pAkDHYBLfzMxnVg7x0QWUiHfVyguNDiaj23R2dVvjBqspCjPH/RQ4HLKaOac9QLngTLlRwobNmCnLqykQ58ctOkxQzeepsex1ELJ/SM/szaVDAM9a1f5gVtliOH9166ZF3u0B8lzQty91Ka2VeMqELA6BKTIezyUOEe/3bKzCyr6KVwp0kse0SPSkgigKnnhOHXSdgps1CYvJQDFpEX9BFU0fIbX8fY+dFq6DesRM2FEhxyzsiSIh2HkTHKcMbf3lKTs/ByzvTiUlbPInb6gU2Zlp419mQ+aE5BEZd8hDL58rIXnLGPx495Nq4HmTyC6L5jwd0r7oQO7RpOdV44swkn35EVQ7kwe30DVjXF4ENOmeg7nIX7ia6uFNfFPgztLj2fTHkbsYkmXRdiMG6b1As4SCOil4m9zg7yE6JaHoyXBS2vCpkcwdC0aM+BU7U3mFqf6eAhJod7tRKwB1z/InCtt3wccAPt9B1OOSSyWqGKGB4pSDTLexDYjYtJe0+MvDsIR99UKMHompz4fIheVBXG6e/P1TCeMgieH9LDbG4DBRX3wPVqUh4VjvCLMgbQOOjLP59cx4Tfg7SfoE14CAejQXrtbGgZD8Y0wfUbeoxiL8S5uZ9XodX1hOi56HN0TK2AKuTIitFtU7T1Dtt5MFkNfUJnwmRsQJk2aVkaqHox57pDMXV+RPkY4kfXLXRxw05GURnTTMmNbhBS7sBKZTeBpKShezRv4thy7JzsF+5CV62S+ER+hqNv2VAW2EEyqrMBE+V+ejazsP5eOovVGuK4X9Wo+hqUEk3H58wDtS/iDH8p+hp5fPAW2UPMnyvSHFjHVXwl0Vz7yL2OvcCaq6Lgnm33cG++AL4FW3HdsVIeNylx7WQTyHlK5JxNNKV2LTMhx8TQkyUsxLCjDVQnXAG5c8ZoeTvXLhrawfF0hvgkHUNjCaKMXo9YbhOOID4V5SQ5WOfYLXsNThQowNbn9SSrgVhtHFCgYZXjeHrel90eCUIjnLPIP5gCSx8Hk9GHG5h+gQ/1Ep+Zn/2T1JnZRaOZu/Dean3SZkMQZk4AXLwkhJZ3a0GNyzzcY46Dyf/ixin+HcwOd8/gzvwrBhvvD5LS491k4XFwszOAg9cYyaIU//dhRGvHigezMK0ZHkIU62gpgHRKNcsBE99d+KCp3ngusGFCCTPxafPyo3HZFJg8tcjlmeLHMYeBHK/Ohz6UiXROLLJ2GhGO1hsLke/DZbUeI4OOn36RJfay6HTJnG0USiipiEOyG0sxNO7d2LtuLSx384l5NmcVzTlngvrVHMHr10Px6SvYbjybjgtN1Zlm26HoKfqLSg5ugLEPrViwvU5GCwnA6lvx2h6SjNeDpNF+bxG+JMSiKmC2fSF8Gt6ov0mveEeAHJYAELyDaxT/TVInyNC3hNBHMrLQ6YoFI5MXqbZEWGkM3U50fmWhu53O4j/AiXmw8ZcyMzuQ4+Of1ksfsO4zNcA921BJGLWeJ1C+XPyfdsI7dUoR+7kY2Kw9TPZW7oftewIiqRdApWCNPL5hQPIuJWDUMokHe3ajNtuLSWc5GTQkF4PMdMHmRCTk/Sb0H3QiKsiZSFxONN8Lo4H38cZlRmE8k6wDSc+s9PkZ5DisX7Yc+h93UvnCvJ88S3K1z8L5YeVIPnyRTrLJZt+2zKBdld/0E/VObSAnqG/fptCvcNusIx+TH3MZ8I0KWN8wcrihbMA5RsuwSRfAo5y0iBzhwAnscII1M8OwZqmPpxX2EjqXhP4vjMWk/1jMdq2HPp/RZOxNkfM2GrAtJeHgd+eBKqs2ELtbSVQxDWTUQxrRiLvCE2iZbTVx5VKbJFAw9XHYPhwB1WtvQzS7hXY9GwBLrSUBGOHGvjbvQBctoTDl+PByP9riHqtnjR2u/WA3tNqx7MK6/CJyz3Gr8sMXabM6NrcbvhokAfWs+dAgGEs9B5SpkW/btAr0xSJR3IAm8A2QPPNMCxbF4KqNvO58TsekLcfG6mdWiYUq4ywlUvvUJH2a7jh3AhGptez9XIaeNqpts7utRPqvJvEz5aF6D8eTAU6q4wPioqAYlMpbNLWBvawLCxmwjHNeT5K3c7B3Rn3QL3nJUTeu0+yFUzx2/xkWt9uSBrG81BAOIwuP2sHruuk4b9n5rj9fRZULJPGG7QIXDUswar9NRtdlYO9Vssh4dJmemvVIFEpy4Mvp9PRb3g6V4LnDxVflEkmBB6zCrUpZIS3mJgwY2SvaCzKLKDEdDQLRtzbiWp8EGgoHYKRO41EReQK/iyKQQ8XjvG6NSthyVEeeCwUTiJ7Q/D1dEnSzrufrjhSBYGhX5nVqk9Qls1lyiQC0c2tBcdLfpAfcJMEcabhrc+nGeF/eX9n5go2KQLA+10WTMV1QHvzVdotf4lsP7QRVJY0EeVQcVBTe0/sIt3q7rYJAoyuZVyWv2YWdcaTu6POaDHjCP5kyuhMBxlO/Tot8vC8N7zMngvTu8KIVpoDYfw/ELGF4fC70hcaphWAv4M2t6lRjutY70QWytxlvN+ok+lxkchzKB49/3mjNl8RLDmgCNl2//wpJYb5uPE51o19gJ5Tk3TsvhinSzMboubmQXK1FiZdcgGz9HvENWIVkAcXoa3GA2wjFsFsBym6JN6a2MdeqsuSTaIFw4WYOOsynZznhndG6mHNfQN4saKZJoWqMdcaebkP+S1g5cAkfZYyiicq/MkZze3Ip5tExov9MCzABFvm+UF+0XzI2naUZl5JhNXiyaBceYx29g7S0WxbuvnqVpBoH6QpqrtwKcjX3TSOhm7+OCwqjoMvsRXUM30OPm17CB5moVh6WpKeiBMiv0yj0M3dj9jP0oKhuk5i8GgvGY5UhRU3jmL8v313qTUTiyg7mHi1g97r18Oir6VkrFuMWnrXwqTNFvg0VYRc7c106qsASN1IZ3Ysv09OYCERcdPhgos6hv5ciHWu/cTpx3TyNKYKP/8IpcbSlnjzyh8oLjvLCoft+Pc/VfDO5iS6yVIasxrvg3/KZ9Zp+nf0uFpFW6zOUbm3X9m2i8/o9xc7UbJvFXB9vfHknGOcdbZpsG3sPSHPjbGRkwKSelvw1Zf/2ADzC+DYloZyUg/x3YIy8PMA9Gh+QfRcusj7r/vwkfo8znWyDi5OuXBflq1DJuEek+A1CC0WAZidehJ7FULqotKPUibDFzzVF2Jl71zOT6FROJx4Dvc3xpIS2+XwfCVg3fIQ6ljXjLHvp8M3b03k91VnD/g40ymZvTC8L4YeqLyM6olzcM/3fvKi8CAROB6PpPgiybLVY2b8rqbf1LWh8eZK41xbXoiaQliR0g55Tw4TEcVBZtPPGDSaPR3NmNt05aGb1HV2GR45/wfdp/5jnw61gZRWPqlOL6GXFYC2phXhXPuXZHy4BnpiguHKxj4McRGBzQXE2PxsLcjuX4zzuD1oMVsWbDen495BJBozNPDsIR6w2B1MJwUCme+3zBie5bb0o5Y09s+wglVNMazoEVEobPDE37mBeOBVOjJ7jhOPxblYf/A66/NJFZMuPwWexYY4KzYMXiS8Zwz+3fqGg5WoH/WMrpH1QAvjw7TN5T7pXn6b6ZCyxR29xjBUfBoXt0XR1WIPKI/kbUbUSR4noy5i7WF1EMhZ/K9rT9Jzb/8wM400IW3oIorU/IfLzUJgJ9/nul+p/KxiHy+6bttK11bvNV4TwYtWlp6kZFgX76WKcANdMuBrSz1x8N+Mnw6Hwb46FbD/mos+ZDu+PR5BCzwnsOJHAyaVKjPqEvxYt/UDCJSXY5SQNbkhoY6n7cwYN8NfJKR5GiTHVcHHuGjyUamWumW34ZIv8vCp+Q6JUriF4Xd3Ik+0DRU59QevLkunkv0mOHPlOdyzWgZn7bmOvKQHDxb8Rt5zSqhn2A25a74gCdhOuzpc4Mi16dj1JwY/5eeQ6YErUCVUjaLsLGDcmuGe6UHy/aE+3pobQ+o7nsC5R4b02elAQhulaPLRZhrh+o5U8C3j5AjNh29nYrDurwqG3uDg8Y27cUxFHUY1psG5x5ehhYRDl/ABPBMtztX9KwAGdlwoLTpOyu4koo11GBU0vEmVZ5vCq7RU6r1YFpOWNDMPwqXRW+ECnlEvJb7z+Tgyr2+QnoJy+o77h+QeG2U37q9APzlXYuYRhjl1S/Dtp0jY7vsHetaP011Zt0ll4z/OHOuFB3mHaKKwOY7EdqFlhB6W2xlg/n/6tMPbBEKP2dCAe0eZ0ixveN5xhU49vckk8C4iNHUXzdW6AxU3D2KMqyz2mVwEm3hTrGysANehFlbjQiAmyeZRb69mOnnlAip8HiZvk83JyOQlDL2WDVd/XqUmSbFkhhkvHLjxGn3uCOCQMkLd+n/Mku8Lfcfd2KPVhazibT6uyFkGd8z6RnQE52HxxG86+H0T/hWUBjaEF79OynLcprWSXP00VN1URy9/bWfP69fD6mXRTLMiQ8qDZbD1iS5sG/9JTCSl8K5NPv3EP0xfejrgiqexsPQ0Pwk00aBajy5BZXYx2K34SrziFVFkMeLGRAYcnt3FkoKjhK/mMNw77EtVXwbSW3Ma0efG/boHK7qY1QdVUVRiDmQoPQKTBAdaNq+d7HpxGb5PEyIqEXnEpmSQ7DKSgwzigVIf84xv7t1G7RbcpbHGwiha6Q9lCyVwgHSRdNtZHBONd5hvsg3VnwZBw9vZHOVkBKH7xNjr9UsjS89O7HY4RSvFnlKn7Gxyc7si6fHvBxs/czjIX0tpzRit8YklZjJ3iNFjiilbyv51oj702v8wdi9+Q95kJ0GU2V6y5/AcTviJS7A60YMQ3hzq0BMEayZeQMbhXXTdhyxUtO2mRYmZKJ05QiU6OmjioU1Q56kMxqeESL6gE+52MiAtwy+xJIjQJ22S0BqxmdkRs4Q+tspDVzNpuvmhAZTIDJFPb8VZp1vhsHFLH5hnSULm7gK6do8bKXE7SL94hoLjxzc0bcwQ3+um4VbJXjR0fEQv8N4iogc1cXGqH0m13EfbEoqYdq8YWPq6DV03V4LGwc9E5EQIW7kwCn63lKBIazqueHcZvfyPgc+JbDzh+BYKxMcYzf/iUb1+DnyrV8WHWXKcZvNUHJ9/iDS7VhBfD2GkeTNB8dk7trrdZFVl/xvcJfgcm2q+4KFDOrBx7mo2er0y/Pd3LfC+lAaVMTMyx7Kbcq0f0mnistxxN170jPFG55BLaOlozdTI18DvuyP0oP1lcFo+H9ZpUcZbRYc4jCvTmeqBcHetLfxcvoPjtmCB8bd/c9e2XeB58wcsIptR7cMRHIxeC+FOSPmPP4SndDUt9KhgTHrmUeM8RTKv5DgsaLgMHQn8ULA0COIs7zMnrkSSlek//rHLjTruscVE9tIrRmpkHx5ovYqxIaU000GFBnuIk0/VlyDs+yf8tGyQmHvdQoMLFjTtXBLmWn4ksX9CqOzVeThl2YJOex9TqYBl2NBZhEuOXwdrTR9YbkUgw/cma1isyPEdvs9O7zOFXeXxOJsiW+N+Dn6FitL5vhs5zrulQTaYl96bwcfJk7sMetfsMbvHgTZuW4Y/phqIWqUpiIqHgiZrivc4K4HF3/REwXosFTwCbobyUKkSjy6fM+mDfjn6d7kbtu3g4YQlTdDghl9IZttAJ/8c+HtwGZBeHrj+5QozK7SGfqy6guN5gnjpuS8zc5sw0fNtg5J34Zgf/AhKky1QprONGTvZyd6pEidtwgrGWq6l8NS/m5wpmg1+xmIcniwFTJ9rDg4j0mB8KAQUlrVAS7oxbPHyQ8GDEkDjrKAvSxjHJrVxa1MfiQvXR57F7+mFp0fBTugXzP6vjlS7zWCfjqiBzQtezove8zBHwZbh2E5B/F8jGiOYCNasIjxaOwMvBOpQnXpnsrS0k6zQZMlhbgT0FrWTF1EmsFE2FZJ75uBuj3DGu7SJbOoSgvrV28jigUDcPt8WTU6Z4IY1Gfh63W3Q/DnOFmmshAIVF9BmIlDqXixZ6pEL1bwV1CgomlZMnIeK8iwYr1cCnbYk+B1lgt7sEthnUEq0Ls5HRZNENJLupP46GyH/0zTM9HlFZHjOMrT7Jb6QD6YJNmr4vkODe69agVt6MYI+WNxgvHBUGRaMPaf1bAmmSr0jM5RSUfVsHexOnwe8cjFMi/wAMa6qxWOF4QT61qNlQgdRbBfi1ijexHdnYtgTVXNRoM+eRE31YElcNdk+dxkeEm2AV8P9qLInARUE9sHdrR8Ybv528P1PA1re5tDt+wS416R3wtUQB4CLK7FEuh9JVz6adBFWfcsc1DpVho7e2/DI417YHBaDLx8IUNGlrrRmWhM1s1pBrx95Qk5WCOPnMlF0OCNIPG+LwfO4XubVsAvO/BgLbfcjoHRDO93g5k8PZa/Bv6Z38OnBIFR3egfz0ncjHlbgZNQOwX8T0pywPTuR4+8KjVsO1PkU/IcXDhwFtUgTVHYUJ2pNCqhjYYEz0wQRLFnm4+KlKM/vQ+euvYGmJYfBbUoAhE5NR8+3raRuTB8U+KVQpC0TFCTMceZ4as1vdw+wpwdwi3M0vVfliznLJ/DsP8bj3b8F1rkv4/D7XKQta6zh19glGp0gyeGbEIYtf2rJx8YfZO/iX2TCJYEy/c5k/VIbiGnW4Mb6r4BjFdmg/TGYdZeIwf/C7GHGxj04pPGbmK3oon+bf5BjW6cBt2iI3NdsBuNNc7BBJZn2OLZSx83u0LUgGd4tW0XNj66Hl7YjsLuzoqZ9lgxnVU4ujt4+ApOqlZhxPgvPukTCo2XuRG1PMhrkVYNjZgClwxbcYI9FGL8zi5Ejv8n2UzmUSoiCyNVz+ODHenqzJwWzfi9kLNMVSODqetJ7VJtO9vHTQeFZpCnOhMi1HUebS0uAf6EAe0LSC+aKFONy1atkupkadnZO0kfPVaA+YD+ciD6PP18uRatXXxnuFR888f4XZGqmw1nbp0SkYgeqzTKFANtnuP9bJw6er8OXM/gRfofhiklD8JqyoMMjFjDv1U5cdEwTRYauwDnvcdD9ewPeLE/GvxOBoFW7BZXeWdHO9WZEJ3kL5P9tYMbsvODWs3Ra+XgfvPWzpcUKqVhgEwjGoyzITY4wk/GL0brLgQjKJEK4MB8n8pgd1oj40G2Dr+iquioosn7LLO08S94qPCCrZzri5qqthO9yGba5VZHqWwug+UAw6vH8Y/viz8Tp+zV6yM+P7rh3De0ypsO72iLKbpSCBpVQtJi6Cn1FVf/Y+ybtedICH28dhtSlS3BKMY+ETxvH4dVn8bD5UrT79YUODP3A3pcx2HrsLvN+xVyQrk6g5IYyPLV6Q7pXcNHkTiOc5BXk1Ebvhi77HDC5dgam3amEGm0XsDpzG2o21BO+QBbWphyDDR+20LYDC0lFnAlebY6EuGu/iNe6ODy14CfWfdKnJyt0uG9OO0LkbnOoFs0G66IcWpzNx0TMNAehaxvZVR9nc9uRHzXeZoGDRD97qmIvXR55DKNWGILDtRkc30cUvIWzWH+bQrI42p/d/nsNGb4zj9s8KQzOPzPRVfwAaP4+T3sHNTnDqXGYlKKNjctuwPNMMVzlkYKnWsJwZ5kl+Kpk4t66RZyuwf1ooXQEnUKrqOSHSdpWqgKayZ8wh3c24Z65TUPT90HAf0FYNf8u8euOhPWhk8z+nYkoeSMcWuW6MVvqLSpd4oco/2/kju5CbArdDvJhdTT6yUmU+7sVYy5X4O4mJ3jnHQoqF+qZinWTzJiWFtTq34H07kJIPzdBXssW4kb7aMhQ3QzCUyq09YcE8sV1AgejSecxNSLP8YPD7SNgYT5OhhTFQWrDUxDTe0ccYq7BtNYCOBZrhM7LDDBSOISQ9UpYtGgeMXotQiveTlKrDfmYY2OO8gq62FSVAPPvyMHNOB4ynP+VVH+JA5fwx6Tl1D6Y6T4AStNUcW3sU6h8HY+zigxgcI4//fXqLzUfiGLUL2QQcD+Jd/gryLVrV6Gw4CZlBfrpIe4JIvJHDtuv6ZAb9TtQemkCvskRxpZNa3DnIkeMLokGvaHdrN7WTXjGaTbmm0oTTokVPki6i2/mF4P17C5aUveINZ2JYDqQQGsd0vBaaCA2dAUw5itu4cX5uaSwJRvKizIwo/E8eWnThL9Ma+nTa7HIF1UG4Qd44PjymyQoRx59xQdRaSwPn+fJwtDSGoSXknWaPk+gVFYOztqdgrd7TqNEyW5QCfyJs9/doG73l0DXpWPUsW8V0bCQw09KAbi+1x/XH8qiu9vEOVvK9sKuklRGYGswUSpqx09vrJHHVh9rt4fQoFxp8tBPAvuPfaROqbx036IP8GOfK16N4VDtr4rgtdiPGHWEgQKzDhWVF0LMCVGQWGeAvGqywDORCeeKhDmZ42eBm/Ec+a+I0dmMDVgGWBjv+OhIvpgsgbu318OS4VycDIoCg0FjOBbvT+5/PgsnxcrR27wBLcoXIc9wEV4Yl+beO3wSFyg7Ef0jFmhzVIezZp4Iwipr0HVbh1PKPaRmjRnbeCwLvmgF03j752y0VTw4B/Bw738R4mrMXwvpwaF4UkCAE6F5g2yMUuQaTzbjc/ss2hwnytm6LwGSoAi/PuKScdFSklfjRo+2tGPFXR7U8b5P9akF3I/NR8FL1lgvcg7rpeTRk2cuis3bA7JHDJjggAtgcvIce6bsHr1TNhNI1S9mfHw1fng6SpadfIz7DmcjezUItjYGQfzU47rP6z8YOze8h8HLQuiXp42eNy/Bl6XB8KTwlHFbFYOJuQxeeNgEI3IeEB56nypO2eGJOVew/vpFmHDPhDTvWHQT5+CpgAn2nUwfDb/4iuxirsFyKo/XxctwT0soq12aB54rwyHwuzLsvefHurcwoH01mVU6GgJl220h0vsFsU6aBenRmfBq61qcFXSAJhvpUv6Tb7Biw2YikB0LIdUiNMnQhmmYXADzRAkcmjYPVvJ/xtcdm1BwLR8MhE7jeuzYAT/E4lCS/zoh/fZsV5o1LPiXvdI1G3FrWheUOhfRSbsHaKJyHzW6DrCtAmE4Xy0B6qWaSKzWcQiqGkKXeeEkq5GXe1F/kdGk8ywur8NLcvCeNha58GO42DCx/FvK3vEDYAsN4WC+PxmWOQ/rP46Rx8wTqrjtCQyXnoMGk0wyo9AURAwnqYetGRy8ch/rCt2gxPwdbLJnMe3ZEXLcQJR7s9mQvHgvgNPmFrIHFlyHGUGL8eL2t5DQKIAxgtuwhN8Q5m1zxN1qbbBXOgCzrxfgq903QWVjPtn39yu95jUXd5zow7gXI7QjWgEmPGJpUeAEY65/HJQepmLIySiQ7Ogwrr75u3ajvwooe5VhwOhiPHE7GDQK00Cu4ANx/LsfbV5dxxHV68T09Bj8/MrPSVYtJH8zDGh/3XcwCMiCZNdUTE9yARzXgOZ/3ZiR8hiiRzzJzQWOsMJkFxZ8+k7mRh/BR9XjZO7xeDTUFiX70jag/ZL3dNUiIxj8ugvdRhLos4dHifg/7135RQUba72pNa8U/LhpiPpiLfRDQgr51f+Lvgg9BaVyDHw+IgFd5Y8xYlSVXI0tRdZOmFVVnclNW1ON7bYD9LnvBmKx6wIaOM7AVl0CpwPPUP4WMdIhtQR9116hx0+9BXsvnrraC2fxemo1yUscwy2ZnxCVx9gvxU/wmEo7vToURU2TL+P5YxtIwGyGzV7hDkXPJOquGf+iIt094DymA+3rf+Lq7YO4d7cH2r9SJCL/eGXgN0t0RgfwRfM6fB70ia6DlXhxjyDZv/YMfDNewNF5VMMmKexm4lJK4M3EAP3L1Wdvr/HCNqkWnDwyG4RvRLAxO7owR3AuHLl3hTQqBMJz+3GqO/MnnrBqIb0eJ8GM7SN5V6rx2YN8ml+zDf40xjDbA0yhoa4JlF6ooZOTNT7Z9Bg9LdPwoQSXHJfiYtKmveTzyuWofFcFE4ME4eGO4xDhfRoWJv3zcOHZeC8sHh+tqyI8eZEoo7eMCNxW447LaGOktTUqS/FhVeBh6E0yguq/bbRZ9jf7Wc8FgupToWBHAWkqXcsVmZ1DlxcV4aSUHZhsyEbd5SvgZo4q+PZvw5yNAcR1aBH4Z5yjNglXQFVmCb428AKFrxsg9IkI+BwTAc0/vHhGcRaWBxnA/XFHDDjxz/ueCYFauhR3PH8TmS29CVwLJI0j9W+TCOEnVMQ3FrYLK8HRlcYoFHucfa30G94sq6TCc0/CUI0Ejsc7Qp//DTgX9Yhua/YH09BR+DyYju10BsfpcD+x0KykByuVIbTbxdj80QR66SiAyLoI3Go6AQ09sVRyWAg+fntHZnvXsqGH1Tl72xZA44gdWgglovTeIMZJX4zjZ3oC8082sGvJdRJ7EsA9dRF8PByKg5vNSeDJSPgoIw5/WpUgLyIPTkp/Ynb3R4CgrTpOy/tFZ25RhXfBe3BHlBRZ89IS1MqD4Mk2H/CeFQSPaDbsPR+JAvkczJt9C7tLNmDRhxHoeRlLTzythpfselK4J5OeHugio7XP6I+xWLJrVgUMtHvA2K7PRlnRvujN00FD8/VAW/sP9breTc6qXWRyZu6CTTqDwEIEvnh5j8zVKaebZBcYib1yI0XJmTRL6Vqdy/0ZMChZAzHK8cao3U/3Xv+Xt8WtUPbdiKNDX4FfihtGufeR1Z7vjW/xvoUjL7pYYb3NTMd8GfArSQCewS4s1RpEPdcILPq5BZKe9LAdBYpo7xuCf9JDyHnTg/A9MYFGatkR4cAoaE7igbNLxDlGCo14/OEY7Vgvj5G+bRjwpoPqDt5imwRCqbJDDKifMYCEYVXiyVtM15+8RU9/fESIeBnl3gfy9nAh6IrfwUb3aKjaXozGC6SZoZFmY6nKSNxx3QdeZyAKnjlMC0S+0awPDmgYmIrBA7W4wjWQKSr1ZP68SURnqbvUctMvOj9EBZ3698PphDCiypcJdxvkuU/WKUNL9zj578oiODRzMxj7udXZtxZRJx9DfDcvBfI15CB0ygj4fm0AyUcS3APT18K+uuv/7lyV9q9yNv6tFQxLc1xJ7v4RMuX5kXHf8IIUrujG4wu0YcbrabWLv6iihZgix2O2ECdJaBA8IsVQ/R8LpGqlkgDpODz+UYmTmqgHx8PySXafAO7zFudu3QN4ffEP2v5kP97/U4OVlfPB5zM/178yFXcbf2UseDPwyMBtZuKYJkS7JLNt1VXs4ig17tLKRlB1e0b1IyNAxM8KKxYawNJpgdCgZIVplsF1N0ee0pNLZSD/iB+MJSK+UJTgeDtWwAEQ5i6eqYd7HA9B+IMezJ/ox+cZK9F6fjnoGmxjXHssuYeGrxpPSn2FAsYFzkndhtvfC4j7UT4qtKmGnZUbAgEDz+myVEHu+v1VcMsKoKD1LtVsFSe9M32hdnIeHb6XgeJ9u4hVVDbutBkgdUcm8QxfDercN0SZsAGaI1RCTRTiiauHCNq7r8d3GT9ISvoUqYx5ivpqZ0Ff3ojLO5AI2jN+ge5wIpn76RerbBuE8yRqSCdfAOobJKH3myjwGhhhLMJiqd5aW6hQF+bqrBCAT3tK0fx2Em55Xk3bXkzj6uiKcuLOiXMcRqeR+P/WQPdPWc5bbh8OqWbilfwtUGotD6rLDtGSvTM4hvNyUHXiPrFt7Wa8o3np3YSVoN+ty93WKgpbFzrC/OaXrNWRcLZG/yfRfRmL5fuvwDxah26q+SztQMbjaT49W6UOuwqS8d1xg3989AQ+rQ0BsX2p+PM0PwUPbWIxEYrO7SUYHjITbQRloPyDGt4ODUCpSxdp5x5DKmEzgG6LTlLd6Xm4QOAQ+1CmFnjsXuN2xSNwXmecFpo9gtS8Q9BWlANSFVvwZmwVhg9Uo2pjGbnYm4YRX97Tuxs6gacpkl71kmDfpKnR6fGxoCgxzIysVgC3podw4GkAZkbywHunfnJlfwv14qdEf8cZ3H7JFdd6Pqa8OoXQqexMnmAa6AeY4YPYN+RrlivRqMtHbWED4vk5BPIGt4J9RQL0a42T4dEyWs45D0e0OhivWdNp3KlR7GNGyS13a6i3V+O63XEjnQW5uOfBM6oCPagpooRa/d9orepFHPv6l+h/O0+u7NLFh4F8uNk+FDePziBKfQSdhWyRXGkiW0Jb0X29IWmp1+ZwmouI6PAw/RClChwjfdiocwPOTL+IQm+iiXSaBXi0/oDbQmvAUqWQZOyqgrUW/3pvtwikdF5nuJ0p8CF8Peh3vqL2xXMh9+UAVh89VifXKMrtnjkKqXZBuKjjA+nROmU0a+NedsBOkp4PlCKaDuchEspBbIyHc7FGFKTaaqizRiZ5wxdF+5ZE4WvNL8RsOJfpyBqti6g9w3iaKuODop/U5+5bbEp/Qnz4K9ju9B/Q6KKATwS2gfx/0px6hRVYvVsVpzz5yTnXRIzu7IINhsEMfeMHeobmsGpLMLmjNAq6uePg/M+tCyq7GN/yJur84TFdtc8RVe2HmYccykiOf4Kqt56wKiEXBWcWYcTbMHZlogxn8qkRHl0Zzt4DS7Jy8irN7gkD6zmlhPnSCq13vlC/VaFswqM4+PXmAvs2KI6EVFhDR44InliXj5JtuSB97Sq2em3E/wGWFzkg",
        "encoding": "base64",
        "path": [
         "positions",
         "compressed_buffer"
        ]
       }
      ],
      "model_module": "k3d",
      "model_module_version": "2.7.2",
      "model_name": "ObjectModel",
      "state": {
       "_view_count": null,
       "_view_module": null,
       "_view_module_version": "",
       "_view_name": null,
       "color": 255,
       "colors": {
        "dtype": "uint32",
        "shape": [
         1000
        ]
       },
       "compression_level": 0,
       "id": 139627142014288,
       "mesh_detail": 2,
       "model_matrix": {
        "dtype": "float32",
        "shape": [
         4,
         4
        ]
       },
       "name": "Points #1",
       "opacity": 1,
       "point_size": 0.2,
       "positions": {
        "dtype": "float32",
        "shape": [
         1000,
         3
        ]
       },
       "shader": "3d",
       "type": "Points",
       "visible": true
      }
     },
     "6434aecae9314b44aebbeb4cfb4856ae": {
      "model_module": "k3d",
      "model_module_version": "2.7.2",
      "model_name": "PlotModel",
      "state": {
       "_backend_version": "2.7.2",
       "_dom_classes": [],
       "_view_count": null,
       "antialias": 3,
       "auto_rendering": true,
       "axes": [
        "x",
        "y",
        "z"
       ],
       "axes_helper": 1,
       "background_color": 16777215,
       "camera": [
        10.870699985065585,
        -16.115734432993122,
        0.744409034971248,
        0.301663279533386,
        -0.2621793746948242,
        -0.31249463558197,
        0,
        0,
        1
       ],
       "camera_auto_fit": true,
       "camera_fov": 60,
       "camera_no_pan": false,
       "camera_no_rotate": false,
       "camera_no_zoom": false,
       "clipping_planes": [],
       "colorbar_object_id": -1,
       "fps": 25,
       "fps_meter": false,
       "grid": [
        -1,
        -1,
        -1,
        1,
        1,
        1
       ],
       "grid_auto_fit": true,
       "grid_visible": true,
       "height": 512,
       "layout": "IPY_MODEL_3bb96fb6b8b14ff487fb1e4efb687572",
       "lighting": 1.5,
       "menu_visibility": true,
       "mode": "view",
       "name": null,
       "object_ids": [
        139626645959888
       ],
       "rendering_steps": 1,
       "screenshot": "",
       "screenshot_scale": 2,
       "snapshot": "",
       "time": 0,
       "voxel_paint_color": 0
      }
     },
     "7bc880e0e2f548f2a9a48355ff8cf0f0": {
      "model_module": "@jupyter-widgets/output",
      "model_module_version": "1.0.0",
      "model_name": "OutputModel",
      "state": {
       "layout": "IPY_MODEL_c7f1dceedae643209bd37598abc6a6f6",
       "outputs": [
        {
         "data": {
          "application/vnd.jupyter.widget-view+json": {
           "model_id": "26f275267f4748989a34ea80b0c61e8b",
           "version_major": 2,
           "version_minor": 0
          },
          "text/plain": "Plot(antialias=3, axes=['x', 'y', 'z'], background_color=16777215, camera=[4.5, 4.5, 4.5, 0.0, 0.0, 0.0, 1.0, …"
         },
         "metadata": {},
         "output_type": "display_data"
        }
       ]
      }
     },
     "7d8cff894d0a467d9ad300424ace5523": {
      "model_module": "@jupyter-widgets/output",
      "model_module_version": "1.0.0",
      "model_name": "OutputModel",
      "state": {
       "layout": "IPY_MODEL_abe2682525c1486c89ba4b902e3b0e6b",
       "outputs": [
        {
         "data": {
          "application/vnd.jupyter.widget-view+json": {
           "model_id": "36a2ff9fa973456d84f9a5f49f02e892",
           "version_major": 2,
           "version_minor": 0
          },
          "text/plain": "Plot(antialias=3, axes=['x', 'y', 'z'], axes_helper=1.0, background_color=16777215, camera=[4.5, 4.5, 4.5, 0.0…"
         },
         "metadata": {},
         "output_type": "display_data"
        }
       ]
      }
     },
     "7fa6a507a7164afe9bf163950ac88a2b": {
      "model_module": "@jupyter-widgets/output",
      "model_module_version": "1.0.0",
      "model_name": "OutputModel",
      "state": {
       "layout": "IPY_MODEL_425f4e68714e44b2a60f614327c7af6c",
       "outputs": [
        {
         "data": {
          "application/vnd.jupyter.widget-view+json": {
           "model_id": "6434aecae9314b44aebbeb4cfb4856ae",
           "version_major": 2,
           "version_minor": 0
          },
          "text/plain": "Plot(antialias=3, axes=['x', 'y', 'z'], axes_helper=1.0, background_color=16777215, camera=[4.5, 4.5, 4.5, 0.0…"
         },
         "metadata": {},
         "output_type": "display_data"
        }
       ]
      }
     },
     "a1544d795de54bb396b9b4f0de7d03cb": {
      "buffers": [
       {
        "data": "eNqFV1tTHEUUPlU+++SDVfrkQ6r0Rat8SMVKBKNJRcM1gEYM5EJIhVASQgyYRDRgAgoJCYJoQIgYICQIJkQgQFjc+/0ye5nd2cuPcbp7u3d6pmf3oWv6nNPdc/pcvnPaWrEf9rzyL1jzXzoQjUb04TSb02E7dhB/mw9b2b7ky038/eDNTcxznKrlztV+Rf+St9ZBCqUhE4tiOr7yGKw15dw+x4lKkGYnOV1yuRxHuztO4/WO5hrG8/d1g7P1C1iajWKZ3ZLE/Gw2B9H5GXC1neDO0OqGzju4ZxsejIWx7Hqbm1sbHO4T3s3rUgw8ajc9n9m14RCmD7+zLbTRzW+8bG3g5jWhPZ8+inG8dDjE6JRtF/M8nWe5PXr/6vVCIxOV2HxxRgJ5YxX8P36L/U75/ZcK+vm+6yRn1JRBdOEB5lHfmf3z5BErXq/XwVb/CePte4P8L7H2lK1599V1w5n0bonVZUz/fNXHn5n3haOpivEvNjoLctUXtrqPMY32Rh/NCu0juoujudrUx2geHh8Gxe9lfPfFMxD5YxzPb/f6YX5KAmdLA7tDeOKO4YyK93bw3NXexGTxf55wd3/xLMHm3p52g88jk7+Y5iWl7Y1HORrlKbtr1QFoq7NjOc2L0N0BIqv9CHzfX4bo3LTBRmVvbbE5ionQ6E9sTXDkFstjT2cL2I9/CllFMbXn/KRkGseUHxzq42iEI4je2ZDB/lUFt9ev5hWdj/wQYPtm1PzX+hzpmXi+IrQfih1qe608q6Q4OrG+CknLlmnOMYwZugG7W7Iw7hAOxBb/goBXMcUWLe/Z4xjkMhnGo3Em2qO1q5LKsjVz9yOm9tbPw7/eMcUXOlBMif5LcJzkUnKXYKK3+wL+xpYWOP0Gun0l/5NNyiWxDmNmwAeu841sH/InielyQ03k7FBdBqP9AUM8imgc41+fInl4f5Sji9mzmO7hiRGhDMU786PXReyZyHJ66e1frBbQ8f5rG5zs99shtSZcLYp9ehyl9nKeqedw2cyPmXgU6vZZIK0U4tHTdQ7LLJtyvuaUm9YDVgudNqE/qN+1spfrsriXyfcnl5qcBPv8aUj+t4Nle19/UdKH8uYaeK6cZzJ/fw/JydPHCuvUekh1P5rHfIrLwlio/rAkDtDzEG6w+nClzbDPc/kcpNNZIR6I4gXnmExwLzQ2xNUkVAtCY8MQGLjO1srxDMZ+XMfUHuz5UrxoXdX2IKIR+3vBaGvVHqKYdp79nK2LTI1zexamJFM8NIvNpkNWjFWUh+xA8U+/D9nCLI+18W/WN7dU2krmFa5RvrTae/1p0D32ZI6tycQkoW+xLzM5tZ7fgnQoSHDkZA2xl9qr6P+fslrI2YuzBh30etGeYG0lbpqfotjibNjbhXsfKgvdG4SHal3CcXZvoCiO0T4vHfQXjSd9X64d4UDhXh1fOnBdQnxp5jfobfeYvqf0OrVW2yDgUdi62r0W7s53bwS4s5wtBCezaYU7x974GXk7vL3N89FbJ4+H6E2Geh78Bjp+pCTGU97yfJTRitvBxbmhp5yewPP48iLpTwZ7ufvQ3ktkE4eKe6yXjWXA3d6M64Li82BsDg73c3taq2wYU8xsnXLZTe+H4oS+FbVvDtSLdzU7NTWV5C+9B+shKtE4gN+WDft3CT5JEabDYI+P1Fm5UGcv1NsLPWL+bcGwLRFnuB6TSH/mvdYB/wPNWCaC",
        "encoding": "base64",
        "path": [
         "colors",
         "compressed_buffer"
        ]
       },
       {
        "data": "eNpjYGiwZ8AAxIsBAF7EAv0=",
        "encoding": "base64",
        "path": [
         "model_matrix",
         "compressed_buffer"
        ]
       },
       {
        "data": "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",
        "encoding": "base64",
        "path": [
         "positions",
         "compressed_buffer"
        ]
       }
      ],
      "model_module": "k3d",
      "model_module_version": "2.7.2",
      "model_name": "ObjectModel",
      "state": {
       "_view_count": null,
       "_view_module": null,
       "_view_module_version": "",
       "_view_name": null,
       "color": 255,
       "colors": {
        "compressed_buffer": {},
        "dtype": "uint32",
        "shape": [
         1000
        ]
       },
       "compression_level": 0,
       "id": 2126839624928,
       "mesh_detail": 2,
       "model_matrix": {
        "compressed_buffer": {},
        "dtype": "float32",
        "shape": [
         4,
         4
        ]
       },
       "name": null,
       "opacity": 1,
       "point_size": 0.2,
       "positions": {
        "compressed_buffer": {},
        "dtype": "float32",
        "shape": [
         1000,
         3
        ]
       },
       "shader": "3d",
       "type": "Points",
       "visible": true
      }
     },
     "a9eb0205ac414abe975616ea00908af7": {
      "model_module": "@jupyter-widgets/output",
      "model_module_version": "1.0.0",
      "model_name": "OutputModel",
      "state": {
       "layout": "IPY_MODEL_ee44f69f79074c09a66cd61d34b182f4",
       "outputs": [
        {
         "data": {
          "application/vnd.jupyter.widget-view+json": {
           "model_id": "2dc3a3e5e7ba476ead6333247b0b7699",
           "version_major": 2,
           "version_minor": 0
          },
          "text/plain": "Plot(antialias=3, axes=['x', 'y', 'z'], axes_helper=1.0, background_color=16777215, camera=[4.5, 4.5, 4.5, 0.0…"
         },
         "metadata": {},
         "output_type": "display_data"
        }
       ]
      }
     },
     "abe2682525c1486c89ba4b902e3b0e6b": {
      "model_module": "@jupyter-widgets/base",
      "model_module_version": "1.2.0",
      "model_name": "LayoutModel",
      "state": {}
     },
     "b522e804714c4cf9803aebbd15b5ee36": {
      "buffers": [
       {
        "data": "eNqNV1tTHEUU7ip98tUnH6zywcuDD1plaVmFURMvRMAESAQCYYFNEAgEhKCRkGBiKiZA1CCEpFglCYG4IUKIIQQRZC+z98vsjb3hj3FON90zvdO9+NDVPd1nuvuc+c73nXFUlKC3nl9BjvISU/Od+hL3GcWJHJ+/x+ZfeeYx6+nY2EL+LAqPnDfZG5txTrSOz+9vk56X3lw3v1P5IWebWnlksvl1LIq8J5uZTXRiFD/n4zH8PDoY5OwDZ3vRzA2V27fw3uGr33P3czdVcs/rK1vI19tqipcazgl9KxwXizWdy7g2cQ/+bKXybP3VZ5dN+7hqS9l+dN5VU8rWI78M43FnjZs7S7EeRnk1Kryf0nKIs80GfGzsP93J+WCfjrE1d0MFuntTRQuzCTaXsM8IsRGL5lDi/l0UHR9F6fVVUyyi4yN4P1GccuGgEL9Gm+SiXYhDaNZyJ7P3dDQI3zfGhcbQOGcpdWCMwvjWRBR52uuRq+4zth4Y6kNjF0Ombw1j289RIQ6CF06bMCLDCcUIXff1HNMxUV8mzW+luZrN7XnpLzY/PBDEvbezkTsrEsoJ4+Npb0An6wim/N+c0PilDU1eCXM28Rkb8ve3I2fVXvytYY85WwwFz3+NMSXyDfC8nc2i4Hf9Wjz3Y+7pbVTQ6889YbxV+/4/nH9gy2Fr+gZ3Z8A+9TPr9+h4tRxEyvEaPD7T7mXvhC4OCHOYfduBbiFeoP9xKCj8XtCeLqVMsbx9XcV9yYskByLXLku59c6kKuUtEc6ghxzPRfXv4utrxb3z8Mco8WCO5WLdB5v4nWQ8jyJjw8x+O5dj43zuXzYe7PChq+eIr/COjvtT3D0gvwpjVf6mxvcV4txkObdzB8ipfEzdVX+gbafTwj0BU1mfQsb15di27A1dc5JLD/Az/QaMIx0ZjEHs12APOwewz7jRQ3LA+cUnUr43jpv2O4he3LzG4ZPaeTstvO4tPySY/OGskO+U5ioS59ZaKd+JYhUe5jUd+Bb7pu1TeG/Ib3y3riaTj5XvbOjxaqlm65S7aXzovDo1vqv+GesBwIq78YBQQ7n6wp2RaqtJG/64x3KArm+sbhGMx1SpFhj39p5oFJ4BdQBe77HiHrSQ3o1+30K/nYf2aZr9qfC85IJdP1OrbWB8qT/A3cVa4dR1QXFyHLhbC0q4rliN57ZU4rzEHK/mUcbtKFoHFu4PWjE7FUOqbYL4X72PcZ/o/NidKWlOyXBRjL8jP13iMEVtPG1HdjSyiucBTSNEGMD5+XhxV7zRtvflNbyWmJ9FocvnyJkdR/EazXO6n7EdfHsDebtbSC5+20W04Lq4jgW9xPl9ZUjnYI3HCDZcJp/TG2umueTifakPTNt/vy2NNeixjHegBQa/2uFlwq0fvbbG2QK+jX7h/Q7s0eru49x+UFtS/S72L1IYz5EzQaH9kj1BuNBQyx/Tcgv03njGdirJ6SI0+3ScO8/bbRX6TjTxKL53n0UR3neoy4fi927h8bsvrJKc1vz/cz6pcePfpm9D8wZ4OjE/h7lEVA/k87p+G2tVpiUa9wM/LS8kpfU1aCmtnYzzwHOx3yb/l/5QbQAtKPa/ZHxWbePS77zyMMXNA06M/w7h0QtSf3C+7+Q3i82RMtP5znVSW6w+SvFYMMRUphX4P0irtf4DxBoeUQ==",
        "encoding": "base64",
        "path": [
         "colors",
         "compressed_buffer"
        ]
       },
       {
        "data": "eNpjYGiwZ8AAxIsBAF7EAv0=",
        "encoding": "base64",
        "path": [
         "model_matrix",
         "compressed_buffer"
        ]
       },
       {
        "data": "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",
        "encoding": "base64",
        "path": [
         "positions",
         "compressed_buffer"
        ]
       }
      ],
      "model_module": "k3d",
      "model_module_version": "2.7.2",
      "model_name": "ObjectModel",
      "state": {
       "_view_count": null,
       "_view_module": null,
       "_view_module_version": "",
       "_view_name": null,
       "color": 255,
       "colors": {
        "dtype": "uint32",
        "shape": [
         1000
        ]
       },
       "compression_level": 0,
       "id": 139626645959888,
       "mesh_detail": 2,
       "model_matrix": {
        "dtype": "float32",
        "shape": [
         4,
         4
        ]
       },
       "name": "Points #1",
       "opacity": 1,
       "point_size": 0.2,
       "positions": {
        "dtype": "float32",
        "shape": [
         1000,
         3
        ]
       },
       "shader": "3d",
       "type": "Points",
       "visible": true
      }
     },
     "c7f1dceedae643209bd37598abc6a6f6": {
      "model_module": "@jupyter-widgets/base",
      "model_module_version": "1.2.0",
      "model_name": "LayoutModel",
      "state": {}
     },
     "ee44f69f79074c09a66cd61d34b182f4": {
      "model_module": "@jupyter-widgets/base",
      "model_module_version": "1.2.0",
      "model_name": "LayoutModel",
      "state": {}
     }
    },
    "version_major": 2,
    "version_minor": 0
   }
  }
 },
 "nbformat": 4,
 "nbformat_minor": 2
}
