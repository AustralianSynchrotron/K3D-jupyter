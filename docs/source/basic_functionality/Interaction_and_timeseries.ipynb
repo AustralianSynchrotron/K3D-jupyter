{
 "cells": [
  {
   "cell_type": "markdown",
   "metadata": {},
   "source": [
    "## Interaction\n",
    "\n",
    "There are two ways of changing data in the plot:\n",
    "\n",
    " - send new data from backend \n",
    " - sent time series in the form of dictionary `{t1:data1,t2:data2,...}`\n",
    " "
   ]
  },
  {
   "cell_type": "code",
   "execution_count": 1,
   "metadata": {},
   "outputs": [
    {
     "data": {
      "application/vnd.jupyter.widget-view+json": {
       "model_id": "7335b191a7c14f10823d5f3ddcace79c",
       "version_major": 2,
       "version_minor": 0
      },
      "text/plain": [
       "Output()"
      ]
     },
     "metadata": {},
     "output_type": "display_data"
    }
   ],
   "source": [
    "import k3d\n",
    "import numpy as np \n",
    "x = np.random.randn(100,3).astype(np.float32)\n",
    "plot = k3d.plot(name='points')\n",
    "plt_points = k3d.points(positions=x, point_size=0.2, shader='3d')\n",
    "plot += plt_points\n",
    "plot.display()"
   ]
  },
  {
   "cell_type": "markdown",
   "metadata": {},
   "source": [
    "#### Using backend to send a data at each timestep\n",
    "\n",
    "The Python backend can update attribute of any plot object in K3D-jupyter."
   ]
  },
  {
   "cell_type": "code",
   "execution_count": 2,
   "metadata": {},
   "outputs": [],
   "source": [
    "from time import sleep\n",
    "for t in range(10):\n",
    "    plt_points.positions = x - t/10*x/np.linalg.norm(x,axis=-1)[:,np.newaxis]\n",
    "    sleep(0.5)"
   ]
  },
  {
   "cell_type": "markdown",
   "metadata": {},
   "source": [
    "#### Sending a dictionary of all timesteps \n",
    "\n",
    "In this case it is possible to play an animation using only frontend. \n",
    "Time is a string denoting wall time."
   ]
  },
  {
   "cell_type": "code",
   "execution_count": 3,
   "metadata": {},
   "outputs": [],
   "source": [
    "plt_points.positions = {str(t):x - t/10*x/np.linalg.norm(x,axis=-1)[:,np.newaxis] for t in range(10)}"
   ]
  },
  {
   "cell_type": "markdown",
   "metadata": {},
   "source": [
    "The animation can be controlled from GUI or by several attributes:"
   ]
  },
  {
   "cell_type": "code",
   "execution_count": 4,
   "metadata": {},
   "outputs": [],
   "source": [
    "plot.start_auto_play()  # plot.stop_auto_play()"
   ]
  },
  {
   "cell_type": "markdown",
   "metadata": {},
   "source": [
    " The number of frames which are played can be inspected or set with plot.fps attribute. "
   ]
  },
  {
   "cell_type": "code",
   "execution_count": 5,
   "metadata": {},
   "outputs": [
    {
     "data": {
      "text/plain": [
       "25.0"
      ]
     },
     "execution_count": 5,
     "metadata": {},
     "output_type": "execute_result"
    }
   ],
   "source": [
    "plot.fps"
   ]
  },
  {
   "cell_type": "markdown",
   "metadata": {},
   "source": [
    "One can programatically change or read the time in the animation using:"
   ]
  },
  {
   "cell_type": "code",
   "execution_count": 7,
   "metadata": {},
   "outputs": [
    {
     "data": {
      "text/plain": [
       "6.920000000000005"
      ]
     },
     "execution_count": 7,
     "metadata": {},
     "output_type": "execute_result"
    }
   ],
   "source": [
    "plot.time"
   ]
  }
 ],
 "metadata": {
  "kernelspec": {
   "display_name": "Python 3",
   "language": "python",
   "name": "python3"
  },
  "language_info": {
   "codemirror_mode": {
    "name": "ipython",
    "version": 3
   },
   "file_extension": ".py",
   "mimetype": "text/x-python",
   "name": "python",
   "nbconvert_exporter": "python",
   "pygments_lexer": "ipython3",
   "version": "3.7.8"
  },
  "nbTranslate": {
   "displayLangs": [
    "en",
    "pl"
   ],
   "hotkey": "alt-t",
   "langInMainMenu": true,
   "sourceLang": "pl",
   "targetLang": "en",
   "useGoogleTranslate": true
  },
  "widgets": {
   "application/vnd.jupyter.widget-state+json": {
    "state": {
     "10f01ac98f8f4114a34b2914010c3143": {
      "buffers": [
       {
        "data": "",
        "encoding": "base64",
        "path": [
         "colors",
         "data"
        ]
       },
       {
        "data": "AACAPwAAAAAAAAAAAAAAAAAAAAAAAIA/AAAAAAAAAAAAAAAAAAAAAAAAgD8AAAAAAAAAAAAAAAAAAAAAAACAPw==",
        "encoding": "base64",
        "path": [
         "model_matrix",
         "data"
        ]
       },
       {
        "data": "",
        "encoding": "base64",
        "path": [
         "opacities",
         "data"
        ]
       },
       {
        "data": "kU7aPhEwB7wqyYA/QAdKPpcKjL5bK0Q+0V93P8huhT/T1E4/Ve/PPpUNtT/6Yr2+oPUwPuB6rD9IGLY/a694P4uSI72zB6C+yPoAQBriLL/mOki+qQ3KP9Qkyz5XdkM/C64jP9LnpTxdLj2/ZEnFP0u4hb3ej9u/My9SP33kFT8jyza+g/QfPvZ1gT+/PpU/aD9jPlR3bD5glxc9Ks1JPrHgWr+tHZS/7xFTP9JBBL8LtJe/6X+vP4C3Pz+7aqq/8ZIUQGwbL78kftI/FmbpOr8Fwj9+4gi/SkTrvmbwDj8oTka/roeIO1zoJUAgU7W/L7ObP6vP/L+uj9u9g21KPkjbjD8PCsc+b/zJvlYfGL/wDI6/JfXIv+PGij6IaX09qeV/Pld2o74LQ96/13xsv7USVj/BSEI/ymlKvpx6nL+s1c6/hCsDvwWY5j+wjrO/eCEvP0bJX77oecs/kUJCvtN2Yj+rNc+/T4x2P5ReTD8/Ews/esrcvid8MT/KVbG8jJcyvqQjFr7pCeg/UnqXP0knHT7Hn4m/mi4av3kawb92y4c/8YtGv6SxAMBtKVq+ZLTgvYYLE796Kb2/U6XuP36fyz7nLAVAYjeTPx77xD4E3H6/2jJmP3U8ST7xJ9Y+ZFjRP2wE1b9pHNU/98uYP8A31T9jjFS9gRs+v5P5dj8+bCW/FKjHvoH5uz/zhUc/xuxoPolLn7+8gLK9JvXsvyAZkD5O9wa/iRcSwE53Sz73pDW+j0ipP5WVqz+NeZQ/RhnOPqS0sb0ILRa/jlaCvfc1ST6Ls4u+iR4twG6CnL65WFm/LwEPvuPjyL7xpz6+X2epv3xgWr+1Xic/l6D1PZ9ptr9MewA/BQ8ovii8qb7hyiy+Uwqqv7XI8z+2Ji4/gLcLv2CHf7/dJJy864iKP09CPz4wZHa/+TtOP86RmL9uuzm+ggIzPr99G7xAhcY/yHUKv8dIYj97tJa/gDZuP2HMUL6zjM6+7mxgP4lFIb9w4Ic/kG/Hv9HLTr9wQFi/nouXPwBOVT+zKFC/na0rvkeFFz6SNiy/Hbszv0Zchj7dER3AAzg8PpCmSz0XENw+gxUiPVfAQL8SAwQ/LkqBvndrMT4jZ9m/UtvOPqolwj91A8y/NdD8vobZpj87RRa/V7I2v566wj4DElM/CTgKvX5TYD9fXgE/su65vdzAuD82LFO+V1Q/v0gc1b9QmVU+hUfGPx7zEz+Gd74+YychPvrT5b4sCau9/ZmDPpTBcD6o2Zc+itkLvzxq1z/44Ai+f53cPnm6U79w6ae+sgVzvnXLZD0Sxz2/wN/SPw+B8L7kdTk/Eo/+v1B6TL6ELo2+f8iHPUqFRz6t7me+Lvq/P0q+1r7HkSm/aIeqPsScUb8v1nE/9SM6v6I1m774PCs8gDOkPjqZlj4yc4G/DLMXwLEXv74P/hq/Iqw4P3Qel7/Qpvy+d1tvv6qmmT8rwhNAURSXvqaQ3b/hPyo/kuMGPvG+l74sCgI/8bzDv94lT75gZIa/fF+APDl/IT9/QMK+XoR/vaOH+j5kFyu+1vS3vzpPPL98hhU/wLiNv9GpfD7nmdg9h6H+vw1ak798OPQ/",
        "encoding": "base64",
        "path": [
         "positions",
         "0",
         "data"
        ]
       },
       {
        "data": "cFTGPjqi9btfAGo/yvAVPubeT76alxE+iD5oPxiLej9YLkI/RTvCPgsfqT/Y57C+p/YnPjO2oz961qw/kFVgPzuOE70vXJC+ot/1P5DIJL9d2T6+i9C+Py7Yvz4Tlzg/9e4SP3HulDxa0ym/Kry8P+TYf711C9K/Iak9P49BBz/F8SS+EaUVPmo7cj8HoIs/MMMcPiIfIz4LJdE8s+c7PjLOS7+c6om/KU5FP6FD975jz42/HvOmP3RgNj9UHaK/Cn8PQGAfKb+ATMs/xuDaOpTztT9ZXgC/wBDVvkxzAT+HlzO/iOiDO6BKIEDKL6+/qv6UP4rs8b8eG9K9olM5Pv/0gD93ObY+zKy6vlSXDL9hSIO/jFq8v6sSgj63hG09y4txPotLmr4SzNG/Skdcv3RmRz+69zQ/hXhAvvPKlL/OrMS/CyH7vlW93D9W4qu/RBclPwH1Ur61z78/8cg3vqVAVj9ICcS/W3hkP1xiPT+q4AA/JMLBvizBGz+Cn5u8M9EovvXrDb6xVts/HgyOP6FeEz5fDoG/MDwSv38mt7+qy4A/BmE9v9WA9b+lFlC+9pDSvf/KCb+NQrG/gTDmP19oxD7VdABAdtWJP0FtuD7UnW6//W1PP/RUNT5L+cA+vArKP/mVzb8grc0/21eRPxzRyj8bLkq9kFAwv2kOZT/Haxm/APe7vo33sD/e1js/l45WPsK7kr8zbaS90cbgv9CwiD4rBwC/LbwLwNecQj6UvS2+HqGhP4LToz/4wo0/01exPlbpmL0JOQG/qoA4vfVpDj7EwUW+VQwnwFgFl753uVG/ulDfvcbanL4g3RS+rXefv26RTb+NjR0/0WvlPZRgqr9aAvA+4nL9vRD6f74+SwK+UgOjv4G16T829CY/xd/+vgASab+ja468YwyBP4UpMj7shGW//gJAP0AMjr9n7Cy+ZoonPmSHEbwhzbk/4aEBv2/bUz+4GI2/ni9XP2adPL5elbq+NJpRP6eeFr/mzX0/UTK9v9QtRL8sJk2/MWuOP2l1SD9yn0O/63UTvoUlAj6O6xO/Frosv98fgT7p8hbARi4UPnZUID09QK0+BFcQPWCmK7+4Hus+xphzvr8jJz5Wzsy/FZzFPuB3uT/C5MK/EBnsvmjRmz+8VQy/iuAmvxresT5Cy0A/8x/5vHcpSj9ULOk+cjStvUUbrD+ot0S+0uk0vzSCyb9t+Ek+T5S6PzA4Cz9UOrM+7JH/PUc9tr7tnoe9G6xNPsAhPD5cUW0+4/cDv2JGyz8uKgG+ZkzGPoJPPr8o7Za+fuFTvvt5Rz2HdSW/ZYnHP+SS475QfS8/QvHxv+xXQr44L4a+ttQ2PZFTBj6/JRy+M6K0P+8Nyr7BjB+/D1mdPg5pQb/VJF8/jIMiv0mCh77KgBU8fEmVPoDriD5wYmu/xZERwOhet764uhS/uBksP8zUjL+tc+u+YLNmvxYYlD8mag5AggiPvtfD0b+0LiE/zwPhPX4ifb757Ng+fz+5v+ILRL4lYX6/eeBdPFSQCz/I3qe+g3ROve1syj50PQq+5j2tv2JXMb/x0Aw/OEiBv2R8Zj7OlsU9UBv2vztrjr99C+w/",
        "encoding": "base64",
        "path": [
         "positions",
         "1",
         "data"
        ]
       },
       {
        "data": "TlqyPlLk3LtqblI/p7TDPZ6oB760B749QB1ZP6A4aj/ehzU/Noe0PoEwnT+1bKS+rvcePobxmj+slKM/tvtHP+yJA72ssIC+s8npPwavHL/UdzW+bJOzP4mLtD7Pty0/3y8CPw/1gzxXeBa/7y60PzJBdL0Mh8i/DyMpP0M98T5mGBO+nlULPuiKYT9PAYI/7o2sPeCNsz2sNmY8PAIuPrO7PL8Ub3+/Y4o3P50D5r676oO/VGaeP2cJLT/uz5m/I2sKQFUjI7/cGsQ/d1vMOmjhqT9otO++Nt2+vmbs5z7m4CC/wpJ+O+WsGkB0DKm/JEqOP2kJ57+Opsi9wjkoPmwdaj/eaKU+Kl2rvlIPAb+lB3G/8r+vv+a8cj7mn1097TFjPr8gkb4ZVcW/vBFMvzS6OD+0pic/QYc2vkkbjb/xg7q/Duvvvqbi0j/9NaS/Dw0bP7wgRr6BJbQ/UU8tvnYKSj/m3Li/ZmRSPyRmLj8sXO0+zrmmvjEGBj856YW82gofvke0Bb54o84/652EP/iVCT7u+XC/x0kKv4Yyrb++l3M/GzY0v2Ke6b/eA0a+iG3EvXiKAL+fW6W/r7vdP0ExvT6Gefc/iXOAP2Tfqz6lX16/IKk4P3NtIT6myqs+Fb3CP4Ynxr/XPcY/v+OJP3hqwD/Tzz+9n4Uivz8jUz9Qaw2/60Wwvpj1pT/JJzA/aTBEPvwrhr+qWZa9e5jUv39IgT4QLvK+0WAFwGDCOT4x1iW+rfmZP3ARnD9jDIc/YJaUPgkegL0Witi+cKjYvOc7pz3mOOi9IvogwEKIkb41Gkq/F5+gvVKjYb6fJNa9+4eVv2DCQL9mvBM/DDfVPYlXnr8cDt8+useqvdB7LL43l6+9UPybv0yi3z+3wR8/ilDmvqCcUr9qsoC8tx9vP7oQJT6opVS/AsoxP7OGg79hHSC+SxIcPgiRB7wCFa0/8pvxvhduRT/1fIO/vChAP2puKL4Inqa+ecdCP8X3C7/r2ms/EfWyv9iPOb/pC0K/xEqFP9KcOz8wFje/cnz2vYSL2T0UQfe+ELklv/DGdz700xDAFEnYPboE6jzH4Hw+CjH9PGmMFr9MN84+MZ1kvgfcHD6KNcC/2Fy8PhXKsD8Oxrm/6mHbvkrJkD8+ZgK/vg4Xv5UBoT6ChC4/08/dvG//Mz/rm88+Mnqgva91nz8ZQza+TH8qvyDovb+KVz4+GOGuP0F9Aj8h/ac+E9W8PZSmhr5baUi9PCQUPu2BBz5n7yo+eCz4vocivz/I5vK9TPuvPovkKL/f8IW+S700voEoKj38Iw2/CTO8P7ik1r68hCU/cVPlv4g1OL7XX36+3DC8PLBDij2iuaC9OUqpP5Vdvb67hxW/tiqQPlc1Mb96c0w/IuMKv+GdZ745if87eV+GPo57dj573lO/f3ALwB+mr75gdw6/TYcfPySLgr+KQNq+Sgtev4KJjj8gEglAs/yGvgj3xb+IHRg/ekC0PRrHSr6axa0+DsKuv+fxOL6K+W+/+gE7PN1C6z4RfY2+qGQdvTdSmj4Gx9K99oaiv4lfJr9mGwQ/YK9pv/dOUD61k7I9GZXtv2l8ib993uM/",
        "encoding": "base64",
        "path": [
         "positions",
         "2",
         "data"
        ]
       },
       {
        "data": "LWCePmomxLt03Do/eA83PVjJfb1kwDE99/tJPyjmWT9j4Sg/JtOmPvdBkT+T8Ze+tfgVPtkskj/eUpo/2qEvPzgL57xQCmK+xLPdP3uVFL9LFiy+TlaoP+M+qT6L2CI/lOHiPlz3ZTxUHQO/tKGrP4CpaL2jAr+//ZwUP2f30z4IPwG+LAYBPmXaUD8uxXA/4Kt8POh1gzwAjSg7xBwgPjSpLb/xCGu/ncYpP5rD1L4lDHS/idmVP1uyIz+HgpG/PFcFQEknHb836bw/J9a9Oj3PnT8erN6+rKmovjPyzD5FKg6/dVR1OykPFUAf6aK/n5WHP0gm3L/+Mb+94R8XPtlQUj9GmJQ+hw2cvqEO676Iflu/WSWjv3ZUYT4Uu009D9hUPvP1h74g3ri/L9w7v/MNKj+uVRo//JUsvqBrhb8TW7C/EbXkvvYHyT+jiZy/2wIRP3hMOb5Oe6g/sdUivkjUPT+DsK2/clBAP+xpHz8C99g+eLGLvmyW4D7hZWC8gEQVvjH5+r1A8ME/b192P6Ca/z0e11+/XVcCv4w+o78mmGU/MAsrv+673b8W8Tu+Gkq2veKT7r6ydJm/3UbVPyL6tT5iCe4/OiNuP4hRnz52IU6/ROQhP/KFDT4AnJY+bW+7PxO5vr+Nzr4/o2+CP9QDtj+LcTW9rboUvxQ4QT/ZagG/1pSkvqTzmj+0eCQ/OtIxPmo4c78hRoi9JmrIv17Acz7KTeS+6wr+v+nnMD7O7h2+PVKSP11PlD/OVYA/2KlvPnalTr0Yoq6+GJ8AvIiPxjyE3Am97ucawCwLjL7yekK/5tpDvRiRCb79joK9SpiLv1PzM78+6wk/RgLFPX5Okr/eGc4+JDkwvSD7sb3iLzW9T/WUvxiP1T83jxg/UMHNvkAnPL9g8mW8qCZcP/D3Fz5jxkO/BpEjP0oCcr9aThO+L5oQPlo1+7vjXKA/JPTfvr4ANz9kwnO/2iEpP28/FL6yppK+v/QzP+NQAb/w51k/0reov9vxLr+l8Ta/r1R4PzzELj/ujCq/DQ3GvQDMrj0Mq8a+CbgevyFObT4AtQrAmzWIPYZgkzwSQR8+DLTZPHJyAb/gT7E+m6FVvk+UEj69nLO/mx2zPkocqD9bp7C/xKrKvizBhT9/7fC+8jwHvxElkD7BPRw/tH/CvGjVHT+CC7Y+8r+TvRjQkj+Kzie+xxQgvwtOsr+otjI+4i2jP6aE8z7vv5w+cjB0PcQfLr7clAG9uji1PTLEpT3iGtE9Kmnovqz+sj80eeO9MqqZPpR5E78u6Wm+GJkVvgfXDD3ipOm+rtywP4y2yb4njBs/oLXYvyQTLr4/YXC+wISrOsAHfDtAfJK7PvKdPzqtsL61ggu/XfyCPqABIb8gwjk/coXmvjA3QL7dENQ76+puPhogWz6HWjy/OE8FwFftp74JNAi/4/QSP/iCcL9nDcm+M2NVv+76iD8bugNAx+F9vjoqur9bDA8/JX2HPbVrGL46noI+nESkv+zXLb7vkWG/fCMYPBJlvz60Nma+mKnYvAJvVD4lE5G9BtCXv7FnG7+3y/Y+T85Qv4ohOj6ckJ894g7lv5eNhL9+sds/",
        "encoding": "base64",
        "path": [
         "positions",
         "3",
         "data"
        ]
       },
       {
        "data": "DGaKPoJoq7t/SiM/IFPKuyA/DDzgdMS7rto6P7CTST/oOhw/Fh+ZPm1ThT9wdou+vPkMPixoiT8PEZE/AEgXP5kCx7xKs0K+1p3RP/F7DL/CtCK+LxmdPz3ynT5H+Rc/Z2PBPpkERDyjhN++ehSjP84RXb06frW/6xYAP4yxtj5Ty969dG3tPeQpQD++h10/6MVavdClY70o8BG8TTcSPraWHr/Oola/1wIcP5aDw77VQmC/vkyNP05bGj8gNYm/VUMAQD0rF7+Tt7U/2FCvOhK9kT/Uo82+I3aSvgD4sT5I5/a+KBZsO25xD0DJxZy/GeGAPydD0b9tvbW9AAYGPkeEOj+ux4M+5b2Mvp7+075q9UW/v4qWvwbsTz5E1j09MX5GPkyWfb4nZ6y/oqYrv7JhGz+nBA0/uKQivux3e782Mqa/FH/ZvkYtvz9K3ZS/pvgGPzN4LL4b0Zw/EVwYvhqeMT8ghKK/fjwuP7RtED/ZkcQ+RlJhvncgtT5R+TS8J34LvtSJ6r0IPbU/CINjP04J7D1OtE6/5sn0vpJKmb+QmFc/ROAhv3vZ0b9P3jG+rCaovdQS3L7EjY2/C9LMPwTDrj4/meQ/YV9bP6rDkj5G4z2/Zh8LP+M88z1abYE+xiG0P6BKt79EX7c/Dvd1PzCdqz9CEyu9vO8Gv+pMLz/E1Oq+wuOYvrDxjz+gyRg/DHQfPtwYWr8xZXS90Tu8v73vZD6Ebda+NFTxv3INKD5qBxa+zKqKP0qNjD9xPnM/8iY2PtsOHb0buoS+sBIwPEDoB73AuDw9utUUwBeOhr6w2zq/QO+MvHj7Rb1w5bu8mKiBv0UkJ78WGgA/gM20PXNFhr+gJb0+QC0uuwDqr7uAFTO7Te6Nv+R7yz+4XBE/FTK1vuGxJb/tf0q8mC1JPyXfCj4f5zK/C1gVPy73XL9Ufwa+FCIFPqNI57vEpJM/VEzOvmaTKD/eimC/+BoSP3QQAL66Xn2+BCIlPwNU7b729Ec/k3qev95TJL9h1yu/1RNmP6XrIT+tAx6/qp2VvXsMhD0FFZa+ArcXv1PVYj4LlgTAiIjgPFDx8jvAQoM9Dje2PPew2L51aJQ+BqZGvpdMCD7xA6e/Xt6pPoBunz+oiKe/n/O5vh1ydT+CDt2+StbuvhmRfj4A9wk/lC+nvGCrBz8Ye5w+sgWHvYIqhj/8WRm+QaoVv/ezpr/FFSc+q3qXP8oO4j68gpE+gG3dPLzknb14AWu8/FEEPTAS8jz4rRg93KXYvtLapj+fC9S9GVmDPjkd/L6d8Ee+yOnsvRkL3zzNAbm+UoalP2HIvL6TkxE/0BfMv7/wI76mYmK+RMCmvGgGdb0Wao49Q5qSP+D8o76vfQG/CJxrPurNEL/GECc/oES3vn7QGL6CmKg75BZRPqjEPz6S1iS/4lv+v440oL6y8AG/eWIGP6jvW79E2re+HLtMv1psgz8qxPw/KMptvmtdrr8u+wU/onM1PaQgzL227S4+K8eZv/C9Ir5UKlO/+onqO0iHkz5HczG+xBNtvCxz6D2Ivh69FhmNv9hvEL+hYOU+QO03vxz0Iz6CjYw9qojcv4k9f79+hNM/",
        "encoding": "base64",
        "path": [
         "positions",
         "4",
         "data"
        ]
       },
       {
        "data": "1ddsPpqqkruKuAs/OKRpvXT0oT2g3WK9ZrkrPzhBOT9ulA8/B2uLPsfJcj+d9n2+w/oDPn6jgD9Bz4c/Stz9Pvr5prxDXCO+6IfFP2diBL85Uxm+EdyRP5ilkj4DGg0/POWfPtcRIjyezri+QIeaPxx6Ub3Q+au/siHXPrBrmT6WGLu9j87YPWJ5Lz9OSko/ZFv6vaZBAr7IAae81lEEPjeED7+sPEK/ET8OP5NDsr6EeUy/9L+EP0IEET+654C/3F72PzEvEb/vha4/iMugOuaqhT+Km7y+M4V4vs39lj4GetG+3NdiO7LTCUBzopa/KFl0PwZgxr/dSKy9P9jpPbW3Ij8q7mU+hNx6vpruvL5MbDC/JvCJv5aDPj5y8S09UyQ4PrVAa74u8J+/FHEbv3K1DD9BZ/8+c7MYvpoYbL9YCZy/GEnOvpZStT/wMI2/5Nz5Pu6jH77oJpE/ceINvuxnJT++V5e/iigcP3xxAT+wLLA+mkErvoGqiT7AjAm8zrcBvnYa2r3Qiag/oKZQP/532D1+kT2/E+XkvphWj7/4mEk/WbUYvwj3xb+Hyye+PgOavcaRyb7XpoG/OV3EP+aLpz4bKds/iJtIP841hj4WpS2/FLXoPuJtyz1pfVg+HtSsPy3cr7/7768/1g5nP4w2oT/6tCC9lknyvsBhHT/W09K+rjKNvrvvhD+LGg0/3RUNPk/5QL8fPli9fA2wvxwfVj4+jci+fJ3kv/syHz4HIA6+WwODPzjLhD9G0WU/GEj5PYDw1rw8pDW+OGLwPCKMub2C0wA+hsMOwAERgb5uPDO/kK5bPHBNGj0YcZI8zHFvvzhVGr/ckew+upikPdB4dL9iMaw+eHMaPdz9mz00zR49TOeGv69owT84Kgo/2qKcvoI8D796DS+8iDQ2P7aM+z3bByK/EB8HPxPsR7+aYPO98VPzPexb07ul7IY/hqS8vg4mGj9YU02/Lij2PvDC170QcFW+Sk8WP0AG2L78ATY/Uz2Uv+K1Gb8evSC//NJTPw4TFT9sehG/jFxKveyZMj36/Uq+/LUQv4VcWD4u7vy/sIo/vPA+T7uw8t+8ELqSPAl9rr4UAm8+cKo3vr8J/D0ka5q/Ip+gPrbAlj/0aZ6/ejypvuJhXz+FL8m+sjLPvhHYXD5/YO8+dd+LvLMC4z6u6oI+5ZZ0vdYJcz9u5Qq+vD8Lv+MZm7/idBs+dceLP+yY0D6KRYY+oBe2uzDYgTwgQkE7AJvDvHDssryws+G8juLIvvi2mj8LnsS9/g9aPktH0b4N+CW+YqGuvSZopDy3Xoi+9y+aPzbar77/mgc/AHq/v1vOGb4OZFS+ahwsvaTm/L33/RI+SUKHP4VMl75T8e6+VT9RPjSaAL9sXxQ/zgOIvpjT4r1MQHo73UIzPjVpJD6eUg2/VRnyv8V7mL60Wve+HaDzPlhcR78hp6a+BhNEv467ez8gFPI/irJdvpyQor8E1Pk+8Nm3PLjTTr3wPbE9uUmPv/WjF764wkS//MykO/pSTz60X/m9YFEju1AhoDwgttq7JmKCvwB4Bb+M9dM+Lwwfv6/GDT7TFHM9dALUv+Vfdb9/V8s/",
        "encoding": "base64",
        "path": [
         "positions",
         "5",
         "data"
        ]
       },
       {
        "data": "kuNEPmLZc7soTeg+CP/cvYIwGT5Slta9HZgcP8DuKD/z7QI/7m17PrPsWj9YAGW+k/f1PaK9bz/mGn0/lCjNPlrxhrw7BQS++XG5P7mR+L6w8Q++8p6GP/JYhz6+OgI/Is58PhQfADyYGJK+BfqRP2riRb1ndaK/jhWuPqhLeD7YZZe9qi/EPd7IHj/eDDc/7KlDvtqZS77AhQK9vtjsPbhxAL+I1i2/S3sAP48Dob40sDi/UWZ4PzatBz+mNHG/DjfsPyYzC79LVKc/OEaSOnUxcz8/k6u+Hh5MvjQHeD7EDKy+j5lZO/Y1BEAef5C/HfBmP+Z8u79N1KK9faTHPSLrCj/5TEQ+Pz1cvpbepb4v4xq/Gat6vyYbLT6gDB49dcopPhzrWL41eZO/hjsLv2ES/D40xeQ+LsIOvka5XL964JG/GhPDvuZ3qz+WhIW/e8jlPqnPEr60fIU/0GgDvr0xGT9aK4y/lRQKP4bq5D6Gx5s+2GHqvRRpPD5cQLy76OLvvRqryb2X1ps/Oso9P63mxD2ubiy/QADVvp5ihb9hmTs/booPv5QUur/AuB2+z9+LvbcQt77Tf2u/Z+i7P8dUoD73uNE/sNc1P+JPcz7nZh2/Wiu7PuCeoz0dIC4+doalP7ptqL+ygKg/niZYP+fPlj+yVha9s7PWvpZ2Cz/n0rq+mYGBvo3bcz92awE/XW/1PcHZJ78NFzy9Jt+jv3tORz74rLq+xObXv4RYFj6kOAa+1Ld2P0oSej8cZFg/SEKGPZCGZ7yAqMO9kF1EPRWSF77UeFI+U7EIwNYnd74snSu/8E40PSxL/T3QY3A9aJJbvyqGDb+M79g+9GOUPbpmXL8kPZs+5uSfPTB9IT7gZaQ9lMB/v3pVtz+49wI/oBOEvkKO8b4GmxO8eTsjPyBb4T2WKBG/KMzxPvjgMr+Nwtm9uWPcPTZvv7sMaXQ/t/yqvra4Cz/SGzq/ahrIPvlkr71kgS2+kHwHP3y4wr4BDyQ/FACKv+UXD7/aohW/IpJBP3g6CD8q8QS/gPvSvMg1ujzQo9O99LQJv7bjTT5EsPC/oAlQvSgYYbwUPPO9JHpePBtJhL46MzU+2q4ovk965z1Y0o2/5V+XPusSjj9BS5W/VIWYvqVRST+IULW+GI+vvggfOz790so+rB5hvKSutj6KtFI+ZSJbvai+WT++4fi9NtUAv85/j78A1A8+PhSAPxAjvz6vEHY+qDwcvdjQ3j1A0aU8gPajvcT6lb3cML29QB+5vh2Tjj93MLW9ym0tPlxxpr58/wO+9LFgvWSKUzxAdy++nNmOPwrsor7VRPs+L9yyv/erD752ZUa+WWyCvQylP77pxl4+nNR3Pyqcir5H59q+o+I2PvnM4L4SrgE/9IUxvjYGlL2UTyM71m4VPsENCT5Uneu+x9blv/zCkL4G1Oq+SHvaPgjJMr/+c5W+72o7v2aecD8UZOc/7JpNvs3Dlr+qsec+AJMZOgDErLoADhQ7R8yEv/mJDL4eWza//B8+O8gu7z3U2I+9GGsbPIRimL34IdA8bVZvv08A9b52isI+HisGv4Qy7z2hDk09PHzLv0GCa7+AKsM/",
        "encoding": "base64",
        "path": [
         "positions",
         "6",
         "data"
        ]
       },
       {
        "data": "UO8cPpJdQrtAKbk++JUivshmYT7n3h2+1HYNP0icGD/xjuw+zwVgPp8PQz8UCky+ovnjPUk0Xj9Kl2o/4HScPnjRTbxqXMm9C1ytP6Re6L4okAa+qMN2P5kYeD72tu4+zNE5PqRYvDskxVa+ymyJP7hKOr3+8Ji/agmFPvK/PT46Zme9xpCvPV0YDj9vzyM/EhOFvgZ5ir6YijG90A3RPXO+4r5lcBm/Cm/lPozDj77k5iS/vExnP1Os/D7YmWC/QA/iPxo3Bb+nIqA/6cCDOh8NWz/1ipq+DLcfvs4SQj6Cn4a+QltQO3Yw/T/IW4q/EodZP8SZsL+9X5m9vHClPSI95j7JqyI++509vpPOjr4SWgW/53Vhv7eyGz7QJw49l3AbPoSVRr48Aoe/8wv2vuC53j4nI8o+6tAEvvRZTb+dt4e/Ht23vjedoT96sHu/ErTRPmT7Bb4CpXM/Yt7xvY/7DD/4/oC/QgHwPhfyxj5eYoc+CIF8vVj6yj14zkq7Nlbcvb07ub1gI48/0u0qP11VsT3eSxu/bBvFvkrddr/KmS0/g18GvyIyrr/4pRO+wnh7vamPpL75sVO/lXOzP6gdmT7USMg/1xMjPyk0Wj64KA2/oqGNPryfdz3SwgM+zzieP0f/oL9oEaE/Zj5JP0RpjD9q+Au90R27vtkW8z760aK+CqFrvqbXXT/DeOs+ALPQPTS6Dr/87x+90LCXv9t9OD6zzKy+DTDLvw1+DT6Covy99GhnPyWOaj/y9ko/AOQZPKCwBLuARGC8AEWIPRVeUr4TD5I+H58CwKotbL7q/SO/GNmYPc63Vj6Gx8s9BLNHvxy3AL89TcU+Ly+EPaVURL/mSIo+CpDyPXD7dD4mZfk9krJxv0ZCrT9yivc+yghXvoSjxL4mUfC7akIQP4wpxz1SSQC/MlrVPtzVHb+BJMC9g3PFPX+Cq7vP+Fo/6FSZvryW+j5M5Ca/pgyaPgQHh726kgW+q1PxPrhqrb4IHBI/qYV/v+h5BL+WiAq/SFEvP8LD9j7Rz/C+wO8JuwB78zrAXQq87rMCv+lqQz5ccuS/Rhi4vUAwx7y6PVe+KoAXPFwqNL7IyPY9RrMZvt/q0j2MOYG/qCCOPiFlhT+OLIy/L86HvmpBMz+LcaG+gOuPvgFmGT57RaY+bn4qvJZaij64kx8+5q1BvXxzQD+h+Nu9YtXsvrvlg78dMwQ+EMJoPzStrT5Lll8+LNuQvdCVTj4evRk9HoMLvmg6/71g+iC+8lupvkJvgj/jwqW9mMsAPuA2d77YDcS9UELIvPiIvDswYpy9QIODP979lb6tU+c+Xj6mv5OJBb7eZji+fcquvWJrgL7qR5U+pyRhP6DXe7473ca+8oUcPo1lwL5w+d0+oAimvahxCr3AvZg6njXvPZ5k2z1slby+OpTZvzQKib5XTd6+dFbBPrk1Hr/bQIS+2MIyvz6BZT8KtNw/ToM9vv72ir9Rj9U+uECuvGgHRD0I/ae9rJ10v/5vAb6C8ye/EJhKOoDe/jwASJm8QNWvPK5mLL68eGs9juhZv58Q375gH7E+HJTavqrXwj1wCCc9BvbCv5ykYb+A/bo/",
        "encoding": "base64",
        "path": [
         "positions",
         "7",
         "data"
        ]
       },
       {
        "data": "HPbpPcLhELtUBYo+cqxWvonOlD6pclC+GKv8PtBJCD/8QdM+sJ1EPosyKz/OEzO+r/vRPe6qTD+tE1g/VIJXPjjADbxaroq9HEahP5Ar2L48Xfq9a0lgP01/YT5t+Ng+4KrtPTjmcDsYWQm+kN+APwazLr2WbI+/jPo3Pjw0Az7AACC94fGaPbbP+j7/kRA/LlGovh4lr750j2C94EK1PXWZxL5DCgW/fufJPhIHfb6UHRG/JzNWPzr+6T4L/0+/cufXPxx2/r4C8Zg/MndqOsjoQj+rgom+8J/mvWYeDD6AZEK+9RxHO/708T9yOIS/CB5MP6S2pb8s64+9+jyDPfyjtj6YCgE+tf4evh59b77mod++s0BIv0dKCj7+hfw8uBYNPus/NL6GFnW/2KDVvl5hwT4aga8+S7/1vaD6Pb9/HXu/IaesvofClz/HV2y/qZ+9Pj9O8r2bUFw/IuvcvWDFAD8qpWu/WNnLPqb5qD5o+mU+gPkQvAAUaTzA4ei5hMnIvV/MqL0ncII/axEYPwvEnT0PKQq/mDa1vlb1Yr8zmh8/L2n6vq5Por8wkwm+5jFfvZsOkr4e5Du/w/6qP4rmkT6w2L4//k8QP24YQT4Q1fm+zC9APrgBKD0Qy7I9J+uWP9SQmb8fopk/LlY6P6ACgj8imgG974efvoRAzz4M0Yq+4D5UvrzTRz+YGtQ+ovarPUw1677qyAO9fIKLvzqtKT5s7J6+VXm+v5ajBD670+y9EhpYPwAKWz/IiT0/oJI/vUguJTxol4s9OluuPQyVhr674bo+1xn5v34zYb6oXhy/vorXPQVllz6Vrg8+oNMzvxzQ577uqrE+0vRnPY5CLL9QqXI+m50iPtg8pD41Mic+jqRjvxIvoz9zJek+VOolvsS4l75AbLm7tJL6Pvf3rD0c1N6+O+i4PsHKCL9yhqa9TIOuPciVl7uRiEE/Ga2Hvgu83T7FrBO/xP1XPhhSPb0cSLu9Nq7TPvQcmL4NKQA/Kwtrv9a3876l3P6+bhAdP5QS3T5Ovde+mH+wPGDGm7xoDLE9zmX3vhryOD5yNNi/4RUEvjzqDr23bpq+WAyhOwCFv70YK4M9sLcKvm9bvj19QWm/a+GEPqxueT/bDYO/Ei5uvi4xHT+Oko2+zI9gvuxZ7z36t4E+XLznuwwNPD7I5dg9ZTkovU4oJz+FD7+9VwDYvkyXcL90JPE9o1tRP1c3nD7lG0k+BpjTvZzhlj6ckWA9/ApFvgg9NL5UXGO+o5iZvtCWbD9OVZa9zFKoPQCLIb60HIC9QH3DO4ALuLqgqJg8yllwP7MPib6EYtM+jqCZv13O9r1EaCq+oSjbvT8Eob5iLLs+sXRKP+p2Yr4v07K+PykCPiD+n766lrg+QNU3PABJmTuAHSm5jo2zPbitpD2CjY2+rFHNv2tRgb6oxtG+nzGoPmmiCb9wG2a+whoqvxZkWj/+A9I/r2stvl9Ufr/3bMM+BKcwvXy6xj1ETSq+yaJfvwSs7L3nixm/8KexuhB/X73AaQY9fPoIPQ1Ohr5AcLc9rXpEv+4gyb5KtJ8+/tGovtB8lj08AgE9zm+6v/jGV7+B0LI/",
        "encoding": "base64",
        "path": [
         "positions",
         "8",
         "data"
        ]
       },
       {
        "data": "mA2aPeTLvrrYwjU+cmGFvqvpuD40g4G+iGjePrLu7z4G9bk+kDUpPnlVEz+KHRq+vv2/PZUhOz8SkEU/2DXsPfhdm7uYABi9LjCVP3z4x74rmue9Ls9JPwPmSj7mOcM+gGRPPXA20jpAtG+9q6RwP1QbI70s6IW/kMTLPQhRkT2QNrG8/VKGPbJu2T4eqfo+So/LvjbR074nyoe983eZPXh0pr5ASOG+81+uPgyHWr6GqPq+khlFPyFQ1z4/ZD+/pL/NPwV+8r5ev5E/lGxNOnLEKj/C9HC+zNGNvQhUrD0AFO+9qN49O4i55j85Kny//LQ+P4LTmr+ddoa9dBJCPdoKhz7M0r49cF8AvhhdQb6sj7S+ggsvv67D8T1cvNw8tnn9PVXqIb6VKFy/vjW1vt4IpD4N35Q+wtzhvU6bLr/Ey2a/JHGhvtjnjT8U/1y/QYupPral2L01/EQ/4vfHvWUe6T5lTFW/crGnPjYBiz4YMD0+UAQ0PVC1kL0IlhA70jy1vQNdmL3deWs/BDUFP7syij1+DPK+xlGlvmMNT7+cmhE/WhPovjxtlr/TAP+9CutCvRobf75DFiS/8YmiP2yvij6MaLU/Shj7Prb8Jz6yWNm+uDjKPXDHsDzwIDw9gJ2PP2Iikr/WMpI/9m0rP/c3bz+0d+68DfKDvjBqqz48oGW+uNw8vtTPMT9vvLw+RjqHPTL2uL6yQ8+8Tah+v5ncGj4nDJG+nsKxvz+S9z31BN29MMtIP9qFSz+eHDA/GM/SvVjEtTysmxk+cnHUPQz7o75jtOM+cPXsv1Q5Vr5mvxS/MR4LPiNuwz5jeTk+PvQfvwEyzr6fCJ4+SItHPXgwFL/UwFA+K/NLPvj7zT7ZsVE+jJZVv94bmT90wNo+wJfpvQycVb5ch4K7lqDUPmLGkj2WFb2+RHacPkx/575l6Iy9FpOXPRKpg7tTGCg/lApsvlzhwD5AdQC/eMT3PVgs2byQ1Va9wgi2PjHPgr4mbNw+rJBWv9573r4fqOi+lc8KP2dhwz7Mqr6+lB45PThiI71Esjk+wmPpvkx5Lj6K9su/mx8svlQ8Or2RPsm+AMMYOkCqNbwA1/g7NHj3vQDMqT3kD1C/XkR3PhgTaD9P3nO/yL9MvvIgBz8kZ3O+nEghvtznqz30VDo+wPd0u+DJxj1ISGU95sQOvSLdDT9oJqK9TSvDviVjWb+v4tk9N/U5P3rBij6BoTI+byoLvk54xj4Ms5M92pJ+vtrcaL4k35K+VdWJvhtPVD+754a9yBwePVC+l71QrvC8cAAVPUxHDLx4tug9E61ZPw9DeL5ccb8+vgKNv5aJ4r2saRy+YsMDvhudwb7YEOE+vMQzPzUWSb4kyZ6+HJnPPWgtf74INJM+8P3TPejDMD0YBcO6CMtvPajtWz00Cz2+Hw/Bv0Qxc776P8W+ywyPPjIe6r4qtUO+q3Ihv+9GTz/0U8c/EVQdvsK6Zr+fSrE+1haFvaK4FT4AToC+5adKvw541r1MJAu/8E1ku1ibD764u6w9Vgo6PcFotr4gJPk9zgwvvz4xs740SY4+vB9uvuxDVD0U+LU8l+mxv1TpTb+Co6o/",
        "encoding": "base64",
        "path": [
         "positions",
         "9",
         "data"
        ]
       }
      ],
      "model_module": "k3d",
      "model_module_version": "2.9.0",
      "model_name": "ObjectModel",
      "state": {
       "_view_count": null,
       "_view_module": null,
       "_view_module_version": "",
       "_view_name": null,
       "color": 255,
       "colorLegend": false,
       "colors": {
        "dtype": "uint32",
        "shape": [
         0
        ]
       },
       "compression_level": 0,
       "id": 4792673232,
       "mesh_detail": 2,
       "model_matrix": {
        "dtype": "float32",
        "shape": [
         4,
         4
        ]
       },
       "name": "Points #1",
       "opacities": {
        "dtype": "float32",
        "shape": [
         0
        ]
       },
       "opacity": 1,
       "point_size": 0.2,
       "positions": {
        "0": {
         "dtype": "float32",
         "shape": [
          100,
          3
         ]
        },
        "1": {
         "dtype": "float32",
         "shape": [
          100,
          3
         ]
        },
        "2": {
         "dtype": "float32",
         "shape": [
          100,
          3
         ]
        },
        "3": {
         "dtype": "float32",
         "shape": [
          100,
          3
         ]
        },
        "4": {
         "dtype": "float32",
         "shape": [
          100,
          3
         ]
        },
        "5": {
         "dtype": "float32",
         "shape": [
          100,
          3
         ]
        },
        "6": {
         "dtype": "float32",
         "shape": [
          100,
          3
         ]
        },
        "7": {
         "dtype": "float32",
         "shape": [
          100,
          3
         ]
        },
        "8": {
         "dtype": "float32",
         "shape": [
          100,
          3
         ]
        },
        "9": {
         "dtype": "float32",
         "shape": [
          100,
          3
         ]
        },
        "timeSeries": true
       },
       "shader": "3d",
       "type": "Points",
       "visible": true
      }
     },
     "173cfa87fee547d6827a4b25f456cfeb": {
      "model_module": "k3d",
      "model_module_version": "2.9.0",
      "model_name": "PlotModel",
      "state": {
       "_backend_version": "2.9.0",
       "_dom_classes": [],
       "_view_count": null,
       "antialias": 3,
       "auto_rendering": true,
       "axes": [
        "x",
        "y",
        "z"
       ],
       "axes_helper": 1,
       "background_color": 16777215,
       "camera": [
        8.38197217214513,
        -12.66306695086372,
        0.9435356595401121,
        0.20139706134796143,
        -0.39220428466796875,
        0.12547814846038818,
        0,
        0,
        1
       ],
       "camera_animation": [],
       "camera_auto_fit": true,
       "camera_fov": 60,
       "camera_mode": "trackball",
       "camera_no_pan": false,
       "camera_no_rotate": false,
       "camera_no_zoom": false,
       "clipping_planes": [],
       "colorbar_object_id": -1,
       "colorbar_scientific": false,
       "fps": 25,
       "fps_meter": false,
       "grid": [
        -1,
        -1,
        -1,
        1,
        1,
        1
       ],
       "grid_auto_fit": true,
       "grid_visible": true,
       "height": 512,
       "layout": "IPY_MODEL_b7c58dc39e514ecaa2f87ad861b9b3c5",
       "lighting": 1.5,
       "manipulate_mode": "translate",
       "menu_visibility": true,
       "mode": "view",
       "name": "points",
       "object_ids": [
        4475888336
       ],
       "rendering_steps": 1,
       "screenshot": "",
       "screenshot_scale": 2,
       "snapshot": "",
       "snapshot_include_js": true,
       "time": 2.3199999999999847,
       "voxel_paint_color": 0
      }
     },
     "344e802703fc4ddc884c8046b9cfe9bf": {
      "model_module": "@jupyter-widgets/base",
      "model_module_version": "1.2.0",
      "model_name": "LayoutModel",
      "state": {}
     },
     "450bfd69a83f41da93d2ccb59eaa97db": {
      "model_module": "@jupyter-widgets/base",
      "model_module_version": "1.2.0",
      "model_name": "LayoutModel",
      "state": {}
     },
     "58a87c94ed6e4e1ea8ae1d69166601a1": {
      "model_module": "@jupyter-widgets/output",
      "model_module_version": "1.0.0",
      "model_name": "OutputModel",
      "state": {
       "layout": "IPY_MODEL_5a3c4fdbc94945feb5603b2f827b4d55",
       "outputs": [
        {
         "data": {
          "application/vnd.jupyter.widget-view+json": {
           "model_id": "",
           "version_major": 2,
           "version_minor": 0
          },
          "text/plain": "Plot(antialias=3, axes=['x', 'y', 'z'], axes_helper=1.0, background_color=16777215, camera=[2, -3, 0.2, 0.0, 0…"
         },
         "metadata": {},
         "output_type": "display_data"
        }
       ]
      }
     },
     "5a3c4fdbc94945feb5603b2f827b4d55": {
      "model_module": "@jupyter-widgets/base",
      "model_module_version": "1.2.0",
      "model_name": "LayoutModel",
      "state": {}
     },
     "7335b191a7c14f10823d5f3ddcace79c": {
      "model_module": "@jupyter-widgets/output",
      "model_module_version": "1.0.0",
      "model_name": "OutputModel",
      "state": {
       "layout": "IPY_MODEL_de330ae115a64585b619b3423790dbcf",
       "outputs": [
        {
         "data": {
          "application/vnd.jupyter.widget-view+json": {
           "model_id": "173cfa87fee547d6827a4b25f456cfeb",
           "version_major": 2,
           "version_minor": 0
          },
          "text/plain": "Plot(antialias=3, axes=['x', 'y', 'z'], axes_helper=1.0, background_color=16777215, camera=[2, -3, 0.2, 0.0, 0…"
         },
         "metadata": {},
         "output_type": "display_data"
        }
       ]
      }
     },
     "75c759ca969543c0add8146296b5b6ca": {
      "buffers": [
       {
        "data": "",
        "encoding": "base64",
        "path": [
         "colors",
         "data"
        ]
       },
       {
        "data": "AACAPwAAAAAAAAAAAAAAAAAAAAAAAIA/AAAAAAAAAAAAAAAAAAAAAAAAgD8AAAAAAAAAAAAAAAAAAAAAAACAPw==",
        "encoding": "base64",
        "path": [
         "model_matrix",
         "data"
        ]
       },
       {
        "data": "",
        "encoding": "base64",
        "path": [
         "opacities",
         "data"
        ]
       },
       {
        "data": "AK1MOYAuAjoAgY47MX5EP8JtgD6iuBY/swnNPo5onT7qOE+/R9iKPn41fL5aKf++8LbnPm/fuj+o36m/1O5NvvwChr3YshQ+gVJRviJg3z5sMZK/sNjEPWAM5D0M+yY7HDPJvmQ4Hj+mJEy/ZFnDv+Apdb/efRq++Ar3PZBIrb38egA95x0tv7DSdz9ojzo/j0jPPYqRgT9j3l8+IPlfvLCWqrwgJF+9VB+tPr6SmL76PpY+tEYVPqRZbT68ah8+sF6CPKDP3Dywghm8VbeiPqT36r7mdtw+lHmQvnP16j/F0KG+prVlPsqgMz0M3gG/Oi4/P5ly+j5/4DE/wmgQPrqnQj6rYha/hMrZOvx0nr4sZ4s9UdtUv/wyzb1XThG+SBPBvSDSVT2oBpm8Ue+aP9PPFL8QNbQ+cne8PiwFJT24u5m9brWAv2gehr7wXxq/ioRVPcT/sr4D1cY/AyCav1uSTT7+oxk/KVSavw8Htb5VNR6/YMENPQgcB7tAZV+9HiQ2PQeAAT++f6m/0K3OvZBzmr3UHCQ9TMxhvHS+br5UZxA+/ABiPSQteb4knr696mEhvg4LHb5G5Dw/DklNvAqKJ769iks/JzQ3P6eU2b5Achw8FRmtvkWhfT9Lmxk+ehanvV2sGj+vawU+w4kEvwN97zzBWW++RNs9vrIX8rxYIt6+y1AKv1ypjj5Y6Os+W6UtvzLdlL8obBE/oFBDPAAhjbzAPKG87rGvvjrWqD6XkoC+hlAZP1lnyD70HoC/VlYDvw9UxT++fSS/qC0HPjyJp70MWBm+FGq5P7ipSj/6h+O+QMOqPoQ33ToYqLK92CDnvTrLlb48M0I+ADkmuwBJzzsAr0Y7BX8LP2noiT66VpW9Tiu1PafUjT/ZL1m+BH05PtiGajjUrtu9zdFKPGZvKb7B6F+/NTI1PbkvJb8c5sO+RuDYPp51Br88awM/z68BPtj9j77EciA+oF0+vSIlmTzAh50+sMUMv5P6gb5wDEY+kq8iPmidvj7Ifka+gOE3P4RgXT8eEgo/nDUEPAzgRL6WCa++PGJSPei6/r2A7ky+ORpWv9X8Fr+LTiK+UwRpvzqFuz7oqL29igxNv3T+Sb80fjc/VB/2vmBkxr1WL849HJgHv+jjdT/s25y+PD4gvkAr87sUvF6+WFRivy+/mT+gQI6+J1MpP7teh757K7U/yOCIPPjTc738di4+oq/wvTVVFL9OXcY9QAdlPZBT+z3gpHy7GE4dvzrWPz/l08I+ULYSvGB8xTxwr1i9tSDbvUi1Hz+uDLA/qvV2vgqsAj97+4a/5k4OPnBdzbvQq10+QBxgvZDBHb0YVw49KNRDP/4iCcDc+YO/Z/q+vt81kr/89uq+7ATmPkC/0L4kg2W+889uPvo0Qb4qLVQ/xvKavkJChT0GTik+8kmHPvSIqz16kwm9oF3PPYyudrmYCCY+hCgUPsajgD5UMEi9OIHePr5k773aF7q8OC3cPeiKGD4g0AY8MNvcPACFXD0Qs8g8MHOIvVi/erzwhaO9CJZ+PpzuujmwCzC+gLnsuqChhLygOY080goEP4hbiL8l1Fy8GPdKvaBpxj3g4z6+",
        "encoding": "base64",
        "path": [
         "positions",
         "data"
        ]
       }
      ],
      "model_module": "k3d",
      "model_module_version": "2.9.0",
      "model_name": "ObjectModel",
      "state": {
       "_view_count": null,
       "_view_module": null,
       "_view_module_version": "",
       "_view_name": null,
       "color": 255,
       "colorLegend": false,
       "colors": {
        "dtype": "uint32",
        "shape": [
         0
        ]
       },
       "compression_level": 0,
       "id": 4377680656,
       "mesh_detail": 2,
       "model_matrix": {
        "dtype": "float32",
        "shape": [
         4,
         4
        ]
       },
       "name": "Points #1",
       "opacities": {
        "dtype": "float32",
        "shape": [
         0
        ]
       },
       "opacity": 1,
       "point_size": 0.2,
       "positions": {
        "dtype": "float32",
        "shape": [
         100,
         3
        ]
       },
       "shader": "3d",
       "type": "Points",
       "visible": true
      }
     },
     "75f608e2a60444b5bdc8e00a0ceaea91": {
      "model_module": "k3d",
      "model_module_version": "2.9.0",
      "model_name": "PlotModel",
      "state": {
       "_backend_version": "2.9.0",
       "_dom_classes": [],
       "_view_count": null,
       "antialias": 3,
       "auto_rendering": true,
       "axes": [
        "x",
        "y",
        "z"
       ],
       "axes_helper": 1,
       "background_color": 16777215,
       "camera": [
        7.7452736159068465,
        -11.304203549012856,
        0.7515438582490164,
        0.08730363845825195,
        0.18275141716003418,
        -0.01425313949584961,
        0,
        0,
        1
       ],
       "camera_animation": [],
       "camera_auto_fit": true,
       "camera_fov": 60,
       "camera_mode": "trackball",
       "camera_no_pan": false,
       "camera_no_rotate": false,
       "camera_no_zoom": false,
       "clipping_planes": [],
       "colorbar_object_id": -1,
       "colorbar_scientific": false,
       "fps": 25,
       "fps_meter": false,
       "grid": [
        -1,
        -1,
        -1,
        1,
        1,
        1
       ],
       "grid_auto_fit": true,
       "grid_visible": true,
       "height": 512,
       "layout": "IPY_MODEL_e011f4b979d84baf9889fc129773901a",
       "lighting": 1.5,
       "manipulate_mode": "translate",
       "menu_visibility": true,
       "mode": "view",
       "name": "points",
       "object_ids": [
        4339498128
       ],
       "rendering_steps": 1,
       "screenshot": "",
       "screenshot_scale": 2,
       "snapshot": "",
       "snapshot_include_js": true,
       "time": 0,
       "voxel_paint_color": 0
      }
     },
     "776ff06b2aaf480c836c8c0b51370c11": {
      "model_module": "k3d",
      "model_module_version": "2.9.0",
      "model_name": "PlotModel",
      "state": {
       "_backend_version": "2.9.0",
       "_dom_classes": [],
       "_view_count": null,
       "antialias": 3,
       "auto_rendering": true,
       "axes": [
        "x",
        "y",
        "z"
       ],
       "axes_helper": 1,
       "background_color": 16777215,
       "camera": [
        3.7089072099129727,
        -5.59224566651176,
        1.3362799708794473,
        -0.19176006317138672,
        0.29073238372802734,
        -0.07274460792541504,
        -0.07812021455691198,
        0.11754981068744856,
        0.9899895323107855
       ],
       "camera_animation": [],
       "camera_auto_fit": true,
       "camera_fov": 60,
       "camera_mode": "trackball",
       "camera_no_pan": false,
       "camera_no_rotate": false,
       "camera_no_zoom": false,
       "clipping_planes": [],
       "colorbar_object_id": -1,
       "colorbar_scientific": false,
       "fps": 25,
       "fps_meter": false,
       "grid": [
        -1,
        -1,
        -1,
        1,
        1,
        1
       ],
       "grid_auto_fit": true,
       "grid_visible": true,
       "height": 512,
       "layout": "IPY_MODEL_c7baa88c1fea442eb41ab762c4b49134",
       "lighting": 1.8,
       "manipulate_mode": "translate",
       "menu_visibility": true,
       "mode": "view",
       "name": "points",
       "object_ids": [
        4792673232
       ],
       "rendering_steps": 1,
       "screenshot": "",
       "screenshot_scale": 2,
       "snapshot": "",
       "snapshot_include_js": true,
       "time": 0.3199999999988481,
       "voxel_paint_color": 0
      }
     },
     "7db4e54f25b44755905145b027862a7b": {
      "model_module": "@jupyter-widgets/output",
      "model_module_version": "1.0.0",
      "model_name": "OutputModel",
      "state": {
       "layout": "IPY_MODEL_a3596f265f5543ecbf5ca3f41a1d5ced",
       "outputs": [
        {
         "data": {
          "application/vnd.jupyter.widget-view+json": {
           "model_id": "",
           "version_major": 2,
           "version_minor": 0
          },
          "text/plain": "Plot(antialias=3, axes=['x', 'y', 'z'], axes_helper=1.0, background_color=16777215, camera=[2, -3, 0.2, 0.0, 0…"
         },
         "metadata": {},
         "output_type": "display_data"
        }
       ]
      }
     },
     "a080e5efe417457197e2e8ce36afc61f": {
      "model_module": "@jupyter-widgets/output",
      "model_module_version": "1.0.0",
      "model_name": "OutputModel",
      "state": {
       "layout": "IPY_MODEL_344e802703fc4ddc884c8046b9cfe9bf",
       "outputs": [
        {
         "data": {
          "application/vnd.jupyter.widget-view+json": {
           "model_id": "",
           "version_major": 2,
           "version_minor": 0
          },
          "text/plain": "Plot(antialias=3, axes=['x', 'y', 'z'], axes_helper=1.0, background_color=16777215, camera=[2, -3, 0.2, 0.0, 0…"
         },
         "metadata": {},
         "output_type": "display_data"
        }
       ]
      }
     },
     "a3596f265f5543ecbf5ca3f41a1d5ced": {
      "model_module": "@jupyter-widgets/base",
      "model_module_version": "1.2.0",
      "model_name": "LayoutModel",
      "state": {}
     },
     "a5db0ea4c0fd40fb8d013363770e136b": {
      "buffers": [
       {
        "data": "",
        "encoding": "base64",
        "path": [
         "colors",
         "data"
        ]
       },
       {
        "data": "AACAPwAAAAAAAAAAAAAAAAAAAAAAAIA/AAAAAAAAAAAAAAAAAAAAAAAAgD8AAAAAAAAAAAAAAAAAAAAAAACAPw==",
        "encoding": "base64",
        "path": [
         "model_matrix",
         "data"
        ]
       },
       {
        "data": "",
        "encoding": "base64",
        "path": [
         "opacities",
         "data"
        ]
       },
       {
        "data": "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",
        "encoding": "base64",
        "path": [
         "positions",
         "data"
        ]
       }
      ],
      "model_module": "k3d",
      "model_module_version": "2.9.0",
      "model_name": "ObjectModel",
      "state": {
       "_view_count": null,
       "_view_module": null,
       "_view_module_version": "",
       "_view_name": null,
       "color": 255,
       "colorLegend": false,
       "colors": {
        "dtype": "uint32",
        "shape": [
         0
        ]
       },
       "compression_level": 0,
       "id": 4339498128,
       "mesh_detail": 2,
       "model_matrix": {
        "dtype": "float32",
        "shape": [
         4,
         4
        ]
       },
       "name": "Points #1",
       "opacities": {
        "dtype": "float32",
        "shape": [
         0
        ]
       },
       "opacity": 1,
       "point_size": 0.2,
       "positions": {
        "dtype": "float32",
        "shape": [
         1000,
         3
        ]
       },
       "shader": "3d",
       "type": "Points",
       "visible": true
      }
     },
     "a66436bfdbbf46b88c33f310c8943510": {
      "buffers": [
       {
        "data": "",
        "encoding": "base64",
        "path": [
         "colors",
         "data"
        ]
       },
       {
        "data": "AACAPwAAAAAAAAAAAAAAAAAAAAAAAIA/AAAAAAAAAAAAAAAAAAAAAAAAgD8AAAAAAAAAAAAAAAAAAAAAAACAPw==",
        "encoding": "base64",
        "path": [
         "model_matrix",
         "data"
        ]
       },
       {
        "data": "",
        "encoding": "base64",
        "path": [
         "opacities",
         "data"
        ]
       },
       {
        "data": "tw7HPyBohT/WvmC/5rdqP9GHk7/SRlI/Tu6OPcUaz76ZQww/KjehP58zhr9YyQw+dUThvheOlj2efxM/uy0vPuChuD8l0T69Pqz5PrxqMD6us8E/eVF5PgdaTT+YLhi/HQZrP2Y3lr+T0qC+NJ0Uv3u1vb7MXKw+flHrPqbOpr+3GjO+O2KNv6PMNb3bcwG/yaGMv87+ij/mrgzASWYXvnXy1j/XPDq+yBEIP/lRvr9gooC+iEmwPzozfD4h26O/l9hXv0eGpz801W++00oHwNYkuD+H644+kl2Fv3K5gb6Pmb8/uAQUQPnav78BNoe+XmilPqe/gj77K22/CcmCv2KPaz6mTqi/oWQeP48rRj7yVWG+4OKLP5D/Tb8LoT0/38kjP7Q4oD9Vx+u+/Xmrv1i5e7/N5Qg/yWPgvnzK+799cdM+AO8Zvxu2Rz7tSsO/V7ijvyE6kT5mUiy/QaGBPzMADD9KM6c/fqlKPhy8kD2sd0S/J5SMP9SFYD/EMIg9hl5wv5pbp7+vNlS/1WzPv81vtz8L0sE/QhJjvwCGP79srAI/YLLkvgy5Aj9C/0A/eI9zvlvVrr6KIhO/ZXJhv8GIJ7881ds+NFyTPyUfxr6MY3k/OKmFO6VD/T6LDJW/MgcyP2nPn78sadQ9mFLCP9qW+L0Zi2u+DddnP8BOhr+LIOE/NrTaPAUipb8bN+Q+UCcMP65Lmj9UmVC/Abzevv3Tib8VP8q/DBrVvg7Dv7/BEaG/zEcYwKfzWz5dNki+LicEvwM6ib/HO2Y/KLIXP5sM5b6m1ii/QweSP63ytr+Lpy8/JHk6PxcCEb/v0qs/uhTSvvrXB7/BUOG/g2Tkv2+Wtj8hZGc8FRZJP4H/2j1TnUy870Frv+ORaL9AJSs/YCOvPrrasb/GUi8+6akewOigq75+rgI+OWf2v8X0ScCWR60+VvLvvsksvT1KB2o/932Qvq7cTT5zWWg/rX7PvAQVjL45vaK9TXPBv1bVob+Ok0c/zQKrPu11wr0fmSc/+IRUPxqD1b9cJMQ/AzNbvwvGpz4wKoA/QCyMv15m4j6V9yS9Tm65v9qVjb6KwiJA0XrhP9qVbz+f/AI/7VF9vliltb4ipp2/yFUav3Bv3r9yMIa/6ttuPYwvIj/yyCXA4f+DvzEbkL4fqTi/x2JrvjbTTD+LnBK/pKPQv9GAu74Ro9W/jp/OP686qr9WESrASnE4QJ4W+7+TpgG+C1uzPzg1Mr8xXk+/fiODvwXBF0BQPhBAi48pOz/tLL7zNUC/k/SIPoadDD63+r6/yFnxv5iOlT7u82a/+jw9P6dGij+tKVw/Va2jv7wmAb8BITpAoK1TPnaRF75qSSk/DCFsPwYusz715Uo/aVEHP3XlAz7oKzE+k82sPj2XVb6OE/M8wjrZP5Krn7+XjhS/ZSUCvwnYlr8nH4i8R1pEPQ5eij+UnbC/8m0CPw4p0r+dHt4/fOTrvq4Nzb4ENE0/+eSjPtDbtb42Xbw+GT2Vvb/7VT9cWxS/DQ6KP4bXlr/mqbe/nyqjvnzgKL5Afku/Mk4fQI9+tr7HC2y/0E/PP02VBj+62mA/TBEyP1sNc79yRsc+",
        "encoding": "base64",
        "path": [
         "positions",
         "0",
         "data"
        ]
       },
       {
        "data": "OG69P+HofT9O4FW/tcxcPzPIir+szkU/QBt0PWrasL5Ije8+kGmXPxMVfL/BOQQ+LFrCvqrkgT0ng/4+8B8jPo3tqz/hrzG9jg/qPrViJT72lrU/zw5hPpheOT+mXwm/9ZZbPwBajL/eQpa+JjoBvwr2pL6m4JU+iGzaPt7Umr/sPia+zMCBvxXYJr1em+2+x2WHv2TShT9ncgfAaHgOvh5Fyj/3QC++Tx7/Prpqsr+WLXG+vP2mP6Pmbj4mN5u/2yJKv0TinD9vmWC+VAgCwCX8sD8eXYk+vT58v7xbdb64MbU/E6wOQP/suL/JU4K+yReVPnC0az5Wx1W/rwJ2vxqMXT6LS56/xUEHP005KT7fa0C+u9aCP8asQL9JXTE/X7cYP+9jlT/81tu+YKehv/JNbb9FDgE/fXvVvjaN779MKsk+3JwQv1yeOz6sd7e/3JqYvw9ehz5rnyC/QF50P5P1Az+2mJ0/SzExPi4XfT3Fxiu/eZaCP+CQUD/aBX099xdjv1gdnr83fki/4pHHv2p9sD/9ero/uChRv1NqML8hu/A+xiXOvt6q6z7D9y0/azxRvs4xlr6QzPy+6k9Ov5dQGb+7LMk+ROWJP5Nlub4HX2k/SzF2O/Q+6T6aRIm/ipolPzyolL88lsU92bS1Pypz6L0+QFy+pHxdP1ZPgL/gEtc/F6/KPHUJmb+hf9M+XCMDP9hekD9ELkO/NWDTvqXMgr/C7r+/uXLKvtgstr9aBJm/eO0RwJzGUj4i3D++8JX2vrgGgL8pzFY/vGsIPyz8zb5U1he/XI2KP+SUrb9ZqSY/jgYvPykbCL+SRqE/vu3Gvt+hAL+8WtW/HmXav1aYrj8iQ108L7kvP0Bgvz2AzjK8dhZbv7SVWL/cYR8/W/yiPnaDpb93KCM+ZVQYwOTGpL7l7fo908Pvv+qDRMCCnKg+9a7YvorVqj3MVlM/ep6BvgusOD7ZblA/fPOGvMo2Nr6Ar1O9QlK4v0Eymr+BKD4/Ru+TPlU4qL19+xA/wbVLP1upzL/wArw/pw1Lv2Zqmz7dcm0/kU+Av609zz7CARe9lB+zv+7EiL47OR1AzofWP33zYz+QQPk+++lpvga7p75tkpG/nQsTv9Pt07+/s3+/eudlPfoaHD/VkR/A+4Zzv3juhL5VVyq/JBdUvtqNOD8OGgS/4M3Hvy2Qs74fl8y/YIPIPwMypb/jCSXAxCczQATk879H3vu9/CypP9cXKL8dmUO/XKB+v8JTE0AjCQxAKIcTO+R0Fr4ePCe/C+p/PmlgAz5+brK/WOrlv494jj6cAly/3ycxP4dygT8bG04/v5aev9NF+r69VzRAyMw1PqYsAr5bZBE/QnhZP0sFpT5q3To/JjvfPhyW2T1OIxI+5V6BPiboH75G+7U8UEnPP5dcmL/VwQ2/XgPwvoQXi7+GCHu8oic5Pfd5gj8Wi6a/AS76PoGOyb+6BtU/+3rUvrqzuL5C1jg/ebqIPgu3l75lJJ0+fJqGvbr/QD/izgW/KqCDPzHRj79EHK+/JXWQvmODFb4NKTS/fFsZQDOur76MO2O/4H3EPzYe/z5mHlU/AbQjPw9yX78xM7c+",
        "encoding": "base64",
        "path": [
         "positions",
         "1",
         "data"
        ]
       },
       {
        "data": "us2zP4MBcT/FAUu/heFOP5UIgr+GVjk/5FlKPQ+akr5ek8Y+9puNP+jCa79VVPc95G+jvnp2Wj0SB9Y+JBIXPjs5nz+djiS933LaPq5aGj49eqk/JMxIPipjJT9pIfW+zCdMP5t8gr8qs4u+MK7bvpk2jL4CyX4+kYfJPhXbjr8gYxm+vD5sv4fjF70GT9i+xSmCv/qlgD/oNQLAh4oFvseXvT8WRSS+DRnuPnyDpr9sFmG+77GdPw2aYT4qk5K/Hm08v0I+kj+qXVG+qov5v3TTqT+0zoM+VsJtv5REZ77gyao/b1MJQAT/sb8i43q+NMeEPpLpUT6yYj6/THNmv9OITz5wSJS/0j3gPgpHDD7MgR++KpVzP/1ZM7+IGSU/36QNPyuPij+j5su+xNSXv4ziXr96bfI+MZPKvu9P478b474+uEoHv52GLz5spKu/YX2Nv/sDez5w7BS//3llP+XV9z4i/pM/F7kXPiS2WD3eFRO/ljFxP+ybQD8rqmk9aNFVvxfflL+/xTy/77a/vwiLqT/vI7M/LT8/v6VOIb9qHdw+K5m3vqPj0T5D8Bo/XukuvoEce74LVNO+bi07v20YC786hLY+VW6APwGsrL6CWlk/JhBhO0M61T5S+Xq/4i0ZPxCBib9Lw7Y9GhepP3pP2L1i9Uy+PCJTP9qfdL82Bc0/96m6PObwjL8myMI+0D70PgNyhj8zwzW/aQTIvpmKd79unrW/Z8u/vqKWrL/09pC/JJMLwJCZST7ngTe+g93kvtumbb+KXEc/okryPrzrtr4C1ga/dRODPxs3pL8oqx0/95MjP3do/r42upY/wsa7vonX8r63ZMm/umXQvz2apj8kIlM8SlwWP//Aoz2u/xi8/OpKv4aZSL94nhM/VtWWPjEsmb8o/hY+4f4RwODsnb7PfvA9bCDpvw8TP8Bt8aM+lGvBvkt+mD1Opjw/+31lvmh7Iz4+hDg/LKH5uxiHqL0cycO8NjGvvyuPkr90vTQ/fbd5Pr76jb21u/Q+i+ZCP5vPw7+F4bM/Sug6v8EOjz5ZkVo/xOVov/wUvD7wCwm92dCsvwL0g77srxdAypTLPyBRWD/ih+w+CYJWvrXQmb64foW/ccELvzVsyb+aBnO/CvNcPWgGFj+4WhnANQ5fv32Dc76LBRy/gss8vn5IJD8kL+u+G/i+v4mfq74ti8O/MmfCP1gpoL9xAiDAPt4tQGux7L9ob/S97v6eP3X6Hb8I1De/vPl2v37mDkD20wdAi/36OhL5/71JQg6/8OptPplG9D1F4qW/53rav4Vihz5KEVG/xBIlP808cT+KDEA/KICZvy8+8r55ji5A8OsXPq6P2b2X/vI+eM9GP5Dclj7e1Co/etOvPk5hqz1oNeY9b+ArPh9y1L36xXE83lfFP50Nkb8T9Qa/87vbvv6tfr+90mW8/fQtPb8rdT+XeJy/HYDvPvTzwL/X7ss/ehG9vsdZpL6BeCQ/9B9bPookc74p13s+ve9vvbQDLD/PhO6+kGR6P9zKiL+jjqa/Vn97vksmAr7a0xy/xmgTQNbdqL5Ra1q/8au5P9MR8T4SYkk/tlYVP8LWS7/wH6c+",
        "encoding": "base64",
        "path": [
         "positions",
         "2",
         "data"
        ]
       },
       {
        "data": "Oy2qPyQaZD89I0C/VPZAP+6Rcr9g3iw/iJggPWizaL50mZ0+XM6DP75wW78oNeY9nIWEvqAjMT38iq0+WQQLPuiEkj9ZbRe9MNbKPqZSDz6FXZ0/eokwPrtnET+Gg9e+pLg8P2o+cb92I4G+FOi0vlHuZr620FE+m6K4Pkzhgr9Vhwy+3vtUv/nuCL2vAsO+hdt5vyDzdj/R8vm/TDn5vXDqsD82SRm+zBPdPj2cmr9C/1C+I2aUP3ZNVD4v74m/Yrcuvz+ahz/lIUK+rAbvv8Oqoj+WgHw+70Vfv2wtWb4JYqA/yvoDQAoRq7+yHnG+Pe1oPrQeOD4M/ia/6eNWv4uFQT5WRYq/G/ixPo+p3j1zL/294HxhPzQHJr/G1Rg/YJICP8x0fz9J9ru+JwKOvyZ3UL9rvuI+5aq/vqgS17/qm7Q+KPH7vt5uIz4r0Z+/5l+Cv9hLZz50OQm/vZVWP6XA5z6OY4o/yIH8PRpVND3tyfS+OjZdP/imMD99TlY92opIv9Wgi79IDTG//Nu3v6WYoj/hzKs/olUtv/gyEr+0f8c+kAyhvmgcuD7E6Ac/UpYMvmfVSb6G26m+8goov4fA+b6426M+yu5tP2/yn779VUk/Ae9LO5I1wT5waWO/OsEMP8azfL9b8Kc9WnmcP8oryL2Gqj2+08dIPwahaL+L98I/2KSqPFbYgL+sELI+6DbiPloKeT8iWCi/nai8vuh7ab8aTqu/FCS1vmwAo7+N6Yi/0TgFwIVsQD6sJy++FiXTvkVAW7/s7Dc/yr3TPkzbn75eq+u+HDN3P1LZmr/2rBQ/YSEYP5ya7L7ZLYw/xp+wvlRr5L6ybr2/VWbGvyScnj8lAUk8x/75Pr4hiD22Yf67g786v1adOL8U2wc/Uq6KPuzUjL/a0wo+XKkLwN0Sl764D+Y9Bn3ivzOiOcBZRp8+Myiqvgwnhj3Q9SU/Ab9HvsRKDj6kmSA/cC6iOiD7WjxAZn47KxCmvxbsir9nUis/b5BLPkx6Z71wgMc+VBc6P9z1ur8ZwKs/7sIqvxuzgj7Wr0c/ZixRv0rsqD46LPa8H4KmvyxGfr6cJhJAx6HAP8KuTD80z98+FxpDvmPmi74G1nK/RncEv5jqvr90WWa/mv5TPdfxDz+bIxPAbpVKvwoqXb7Bsw2/338lviIDED8rKs6+VyK2v+Wuo747f7q/A0u8P6wgm7/++hrAuJQoQNF+5b+JAO2939CUPxTdE7/0Diy/HFNvvzt5CkDJngNAxezOOlsI073okOq+1etbPl/M4T0MVpm/dgvPv3xMgD74H0a/qv0YP42UXz/4/TE/kmmUv4o26r42xShALxb0PQ7Grr15NMM+rSY0P9aziD5TzBo/zmuAPgBZej01JKg9JAaqPeQnUr3MKu87a2a7P6K+ib9SKAC/h3THvvQsZ7/0nFC8WMIiPZBjZT8ZZpK/OtLkPmdZuL/01sI/+KelvtP/j76/GhA/88okPgDbNr6HZT0+gqpSva8HFz/aa9G+yohtP4jEgb8BAZ6/YhRWvmSS3b2ofgW/EHYNQHoNor4Vm1G/AdquP28F4z6/pT0/avkGP3Y7OL+uDJc+",
        "encoding": "base64",
        "path": [
         "positions",
         "3",
         "data"
        ]
       },
       {
        "data": "vIygP8YyVz+0RDW/JAszP7ISYb87ZiA/Wq7tPLIyLL4SP2k+hAF0P5IeS7/6FdU9pjZLvsbQBz3oDoU+Gu39PZbQhT8VTAq9gDm7PqBKBD7NQJE/0EYYPpnY+j6i5bm+fEktP56DXb+CJ22++CGOvm9vNb5r2CQ+pL2nPgjPbb8SV/+9Abk9v9b087xXtq2+gWNvv0yabD/Tee+/il3nvRg9pD9WTQ6+ig7MPv+0jr8Y6EC+VhqLP+AARz4zS4G/pgEhv3rseT8g5jK+roHkvxKCmz/EY3E+iclQv0QWS74x+pU/TET9PxAjpL9BWme+EkxIPtZTHj5omQ+/hlRHv0OCMz47QoC/Y7KDPgvFpD1OW7u9lGRPP2q0GL8Fkgw/v//uPkLLaT/wBay+iy+Ev8ELQr9bD9M+msK0vmLVyr+6VKo+4Ezpvh5XFz7r/ZO/1oRuv7STUz7zDPu+fLFHP2Sr1z76yIA/YZHJPRD0Dz0faMO+3jpJPwWyID/O8kI9S0Q7v5Rigr/QVCW/CQGwv0Kmmz/TdaQ/GGwbv0sXA7/84bI+9n+Kvi5Vnj6Jwuk+iobUvUyOGL4CY4C+d+gUvzRQ3b44M5E+6wBbP904k754UTk/3M02O+EwrT6O2Uu/klQAP25lZr9rHZk9m9uPPxoIuL2rXy6+am0+PzOiXL/g6bg/uJ+aPIx/ab8yWaE+AC/QPq8wZT8S7Rq/0kyxvjhtW7/H/aC/wnyqvjZqmb8n3IC/+rz9v3o/Nz5wzSa+qmzBvrDZSL9OfSg/8zC1Pt3KiL66qsm+TT9oP4p7kb/Frgs/yq4MP8DM2r58oYE/y3ilvh7/1b6ueLG/8Ga8vwuelj8m4D48/ETHPvkEWT0QxMq7CpQqvyihKL9gL/g+mg59Pqh9gL8WU/092FMFwNk4kL6ioNs9n9nbv1gxNMBFm5o+0uSSvpufZz1SRQ8/CAAqvkI08j0Krwg/LlwlPOBF3z1WsQE9IO+cvwBJg79Z5yE/YGkdPh3/Mr0sRZo+HUgxPxwcsr+unqM/kp0av+yubD5SzjQ/CHM5v5nDlT6WQNq8ZTOgv1SkdL5NnQxAxK61P2UMQT+GFtM+JrIvviP4e76crlq/NVr6vvpotL9QrFm/KgpLPUXdCT9+7AzAqBw2v5jQRr7uw/6+PDQOvox79z4yJbG+k0ytv0G+m75Jc7G/1S62PwAYlr+M8xXAMksjQDdM3r+qkeW90KKKP7K/Cb/gSSC/fKxnv/gLBkA40/4/ANyiOqUXpr09nbi+uuxJPiZSzz3UyYy/BpzDv+Rscj6nLju/j+gMP0zsTT9n7yM//FKPv+Yu4r7y+yJAf1S4PW/8g71aapM+5H0hPzYWdT7Iwwo/RggiPmbvHT0CJlQ9ACTtugCPkjoAyia5+XSxP6dvgr8gt/K+HC2zvuqrT78sZzu8s48XPWKbVT+bU4i/ViTaPtu+r78Rv7k/eD6Ovr9Ld777efc+6uvcPeoi9b3M5/09SGU1vakLAj/mUrS+Bq1gP2Z8db9gc5W/bakwvjPYtr3pUty+WoMHQB09m77ayki/EQikPwv51D5r6TE/PjjxPiqgJL9t+YY+",
        "encoding": "base64",
        "path": [
         "positions",
         "4",
         "data"
        ]
       },
       {
        "data": "PuyWP2hLSj8sZiq/8x8lP3aTT78V7hM/oiuaPPhj370+Sxc+UGZgP2jMOr/O9sM9FGINvtj7vDymJTk+hNHlPYY4cj+hVfq80JyrPjGF8j0VJIU/JgQAPr3h0j6/R5y+VNodP9TISb8aCFi+uLdOvo7wA75AwO89rtiWPnjbVb98n+W9JHYmv7oL1rwAapi+fOtkv3lBYj/VAOW/yIHVvcKPlz92UQO+SQm7PsDNgr/u0DC+is6BP0m0OT5wTnG/6ksTv3SkZD9cqiO+sPzZv2FZlD/yRmY+Ik1Cvxz/PL5akos/A5PyPxU1nb/RlV2+6KonPviIBD6HafC+I8U3v/x+JT5Afmy/VtkqPgzBVT1UDnO9Skw9P6BhC79DTgA/wNrYPrkhVD+XFZy+3bl0v1ugM79LYMM+TtqpvhyYvr+IDaA+mKjWvmA/Cz6qKoi/4ElYv5LbPz79puO+Os04PySWxz7LXG4/+6CWPQwm1zxRBpK+gj81PxG9ED8gly89vP0tv6RIcr9YnBm/Fiaov9+zlD/FHp0/joIJvzv3575GRJ4+t+ZnvvSNhD6Ls8M+cuCPvWaOzr381C2+/MUBv+DfwL5tFX0+DBNIP0t/hr70TCk/tqwhOzAsmT6sSTS/1c/nPhQXUL96Soo93D2DP2rkp73QFB++AhM0P2CjUL823K4/mpqKPG1OUb+4oZA+GSe+PgRXUT8Cgg2/BvGlvodeTb90rZa/b9WfvgDUj7+AnXG/Ugjxv24SLj41cx6+PrSvvhpzNr+wDRk/HKSWPtt0Y74Wqqe+f0tZP8EdiL+TsAI/NDwBP+X+yL5AKm4/z1GavuiSx76pgqW/jGeyv/Kfjj8ovzQ8MIuUPnjGIT1qJpe7kGgav/qkGL+ZqOA+kMBkPshMaL94/uQ9qPz9v9Veib6LMdE9OTbVv33ALsAw8JU+40J3vhzxQj2nKfE+D0EMvvvSxz3fiOE+STmbPCyWUT5GfHM9FM6Tv9ZLd79MfBg/pITePdwH/bzQE1o+53goP11Cqb9CfZs/NngKv6L3Uz7Q7CE/q7khv+iagj7xVL68quSZv3wCa77+EwdAwLuqPwhqNT/YXcY+NEocvoAjYL4yh0K/3sXrvl3nqb8q/0y/uhVCPbPIAz9itQbA4aMhvyV3ML5ZIOK+NNHtvdPwzj45IJS+znakv57Nk75XZ6i/pxKwP1UPkb8Z7BDArQEeQJ4Z17/LIt69wnSAP6JE/77MhBS/3AVgv7WeAUDeaPY/dpZtOuBNcr2UqYa+n+03PuzXvD2bPYC/liy4v9JAZD5VPTC/dNMAPwxEPD/V4BU/ZjyKv0En2r6uMh1AnCV5PaBlMr16QEc+GdUOP8DEWD54dvU+4HGGPZQLgzw4B7A8SG+xvdRQWz14l/m7h4OnP1pBdr+cHeW+sOWevuAqOL9kMSa8Dl0MPTTTRT85gny/dHbPPk4kp78up7A/7qltvtiXTr54vs4+2INgPbAfeb2IBIE9DSAYvUgf2j7yOZe+QNFTP7xvZ7++5Yy/eT4LvgIekL2EqK2+pJABQMFslL6f+j+/IjaZP6jsxj4XLSY/qH3UPt0EEb9YzG0+",
        "encoding": "base64",
        "path": [
         "positions",
         "5",
         "data"
        ]
       },
       {
        "data": "v0uNPwlkPT+khx+/wjQXPzkUPr/vdQc/1FENPBjFTL3Uroo9HMtMPz16Kr+g17I9CBufvUisVDz0WtA97bXNPeHPWD8ZE+C8IQCcPiJ13D24DnI/9oLPPd/qqj64U32+LGsOPwgONr+w6EK+gCsBvljjpL2oz5U9uPOFPubnPb/l58u9RjMPv54iuLyoHYO+eHNav6XoVz/Wh9q/BqbDvWriij8rq/C9CASqPgPNbb/EuSC+egVxP7JnLD54BmC/LJYFv3BcTz+WbhS+snfPv7AwjT8fKls+utAzv/TnLr6CKoE/uuHnPxtHlr9h0VO+vgkHPjJ81T08oMG+wDUov7R7Fz4KeFi/0JucPQDwwzwIzN68/zMrP64d/L4DFeg+wLXCPi94Pj8+JYy+pBRhv/U0Jb88sbM+AvKevtVasr9YxpU+UATEvkFP/j3Trni/6g5Cv24jLD4GQcy++OgpP+SAtz6iJ1s/KGFHPfhjjjwESUG+JUQhPx3IAD9yOxw9LrcgvyDMX7/g4w2/I0ugv3zBjT+3x5U/BjLvvuC/yb6Ppok+gM06vnKNVT6MpJ0+sHQWvWAAWL3kx7W9AEfdvoxvpL5qxFc+LCU1P3KLc75uSBk/kosMO34nhT7JuRy/hfbOPrvIOb8U73Y9OUBtP7rAl730yQ++mLgpP4ykRL+LzqQ/8yp1PE4dOb961H8+MR+sPlh9PT/xFgC/OpWavtZPP78gXYy/HC6Vvso9hr+ygmG/qlPkv2PlJD76GBa+0fudvoQMJL8Sngk/ii5wPvxTNb5xqYW+sVdKP+9/fb/EZPM+O5PrPgoxt76GEVk/0yqPvrMmub6kjJm/J2iov9mhhj8pnio8yKJDPugP1TyMEUe7Fz0Kv8qoCL/QIck+hnJMPj6eT7/bqcw9oFHxv9GEgr50wsY90pLOv6JPKcAcRZE+ILxIvp5CHj2syMM+KATdvbRxnT2qs7E+e8TjPLbEmT6do7I9Ca2Kv6sFaL8/EQ8/iDaCPXwRlLyIOv89sKkfP51ooL/XW5M/tKX0vldAOz5MCw8/TQAKv2zkXj5LaaK88JWTv6NgYb6uigFAvcifP6rHKT8qpbk+QeIIvtxORL7HXyq/iDHdvr9ln78FUkC/SiE5PUJo+z5FfgDAGisNv7MdGr7FfMW+7jm/vRtmpj6ANm6+CqGbv/rci75lW5+/ePapP6kGjL+m5AvAJ7gYQATnz7/ss9a9Zo1sP+AJ6764vwi/PF9Yv+Ni+j+E/u0/6HQVOnBsGL3Uaym+hO4lPrJdqj3EYme/Jb2sv74UVj4DTCW/snzpPsybKj9D0gc/zyWFv50f0r5qaRdAPKIBPcCkubx4WM89nVj4PkpzPD5hZdU+YLPcvKAe17swexC8ApUvvpYG2T1Q/Ha8FJKdP2SjZ78YhNe+RJ6KvtWpIL+a+xC8aSoBPQULNj88XWi/kMjEPsGJnr9Lj6c/6tY+vvDjJb70AqY+APrlOgAw/7qAKAQ7pLX1vD0nsD76QXS+e/VGPxJjWb8cWIS/CqfLvaDHUr08/H2+2jv3P2Scjb5kKje/MmSOP0TguD7EcBo/EcO3PiDT+r7VpU0+",
        "encoding": "base64",
        "path": [
         "positions",
         "6",
         "data"
        ]
       },
       {
        "data": "QKuDP6p8MD8cqRS/kkkJP/6ULL+T+/U+wJzNuuD2FDzAxkm86S85PxIoGr90uKE9oMeNvICDPTuAqrk8Vpq1PTxnPz+R0MW8cmOMPhRlxj1J1Vk/oP2ePQL0gj7yF0K+B/j9PjxTIr9HyS2+IH1OvSjLA71QfO88hB1qPlb0Jb9PMLK90uDvvoI5mrygolu+dPtPv9GPTT/YDtC/RMqxvSdqfD9rs9q9xv6YPof+Vb+aohC+4m1ePxwbHz6Cvk6/4cDvvmsUOj/SMgW+tPLEv/8Hhj9MDVA+VFQlv83QIL5WhW0/cTDdPyFZj7/xDEq+KNHMPXjmoT301pK+XaYYv2x4CT7VcUS/gNhjvCCIjrsAEqI7tBsZPxt44b6Ajc8+wJCsPqfOKD/JaXi+a29Nv5DJFr8sAqQ+tgmUvo8dpr8nf4s+CGCxvsMf5j1SCGG/9dMrv0trGD4R27S+tgQbP6Rrpz568kc/uADDPMhDCzzYCr29yUgNP1Om4T7D3wg9n3ATv55PTb9oKwK/MHCYvxrPhj+qcI4/8l7LvoaIq76wEWo+TrQNvv7+IT4gK28+AIhSu8Afl7uAXf67CgK3vjr/h75qczI+TjciP04YWr7qQwk/2tTuOpxFYj7nKQW/NR22PmJ6I780SVk9vARUPwqdh70YfwC+MF4fP7qlOL/gwJo/tiBVPC/sIL+HZV4+SheaPq2jKT/CV+W+bjmPviZBMb/MDIK/yoaKvihPeb/mZ1G/BJ/Xv1i4Gz6/vg2+ZUOMvvClEb/nXPQ+3hQzPh4zB76aUUe+42M7P17Ear9haOE+D67UPi5jpb7N+EM/2AOEvn66qr6flo2/wmiev4FHfT8qfSA8aF68PcglTTyArL+6PSP0vjhZ8b4Jm7E+fSQ0PrbvNr8+VbQ9l6bkv5tVd75eU7w9bO/Hv8beI8AImow+YDUavkQo8zyuZ5Y+OIahvdwgZj123oE+1icWPVS+yj4Ties9/ouBv4G/WL8ypgU/sKGXPIBsrLsAmxQ9etoWP96Ol79rOos//FrUvg6JIj6SU/g+4I3kvgyTOD6nfYa8NkeNv8y+V76+Avg/utWUP04lHj987Kw+nvTqvTl6KL5dOBK/MZ3OviLklL/gpDO/2iwwPR8/7z5QjvS/qGTxvkDEA74x2ai+qqKQvcS2ez6QLDS+RsuSv1bsg75zT5a/StqjP/79hr803QbAoW4TQGq0yL8NRc+9STFYPx3P1r5H9fm+nbhQv1yI8T8rlOU/gE11OSAserwACYu9ae8TPnrjlz1TSk6/tE2hv6zoRz6yWhq/fFLRPovzGD9kh/M+OQ+Av/gXyr4noBFAwO0hO4Dk57oAgAE8CgfTPtUhID5KVLU+eMv0veCa7rwwQSC9LTmDvmEyIj5ulri8oqCTP28FWb+V6sm+sq1svssoCb+mi/e7iO/rPNdCJj9AOFS/rRq6PjTvlb9od54/6gMQvhRg+r3kjno+ICRSvagsaT34g3G9Liu7vDIvhj4SEDq+thk6P2lWS7/2lHe/JNGAvUBTBb10pyC+blbrPwjMhr4oWi6/QpKDP+DTqj5wtA4/ewibPoic075Ufy0+",
        "encoding": "base64",
        "path": [
         "positions",
         "7",
         "data"
        ]
       },
       {
        "data": "hBV0P0yVIz+Tygm/wrz2PsEVG79IC90+CLlAvEygiz2AIL29tJQlP+fVCb9FmZA9eG4wPRDV67tgC2e9v36dPZf+JT8Jjqu8hI15PgZVsD3Xm0E/mPBcPUj6NT4q3Aa+tRnfPnGYDr/eqRi+gGfPPMBghDwgjHC8llNIPsQADr+3eJi9GFvBvsqgeLzwCTG+cINFv/02Qz/alcW/gu6fvXgPYz+qu8S9hfmHPgowPr9wiwC+SdZLP4XOET6Ldj2/aFXUvmXMJD8Z7uu9tm26v5y+fT968EQ+7tcWv6W5Er6ntVg/KH/SPyZriL+ASEC+0I6LPXShXD1UG0i++hYJv0nq9j2fazC/8JHVvRCaBb2Q6hc9aQMHP4jSxr79Bbc+wGuWPh0lEz8XiVi+Mso5vypeCL8cU5Q+aiGJvkjgmb/2N4E+wLuevkTwzT3RYUm//5gVvyezBD4adZ2+dSAMP2NWlz5SvTQ/gA6MugAMyLmAxoc72pryPmy8wT4oCOs8ECoGvxrTOr/h5ey+PZWQv265fz+cGYc/3ounvitRjb5C1kA+MDbBvRTh3D0cDSM+cEf4PHg4Mj1A/JU9Er2QvsodV75mIg0+bkkPPyulQL7IfvI+jpLEOjo8Oj4KNNu+5kOdPgksDb9Tozs9PMk6P7Tybr16aOK9yAMVP+amLL82s5A/dhY1PA+7CL+S9jw+YQ+IPgLKFT+hgcq+ot2DvnUyI7/zeG+/7r5/vrwiZr8ZTUG/XOrKv0yLEj6EZAW+8hV1vrR+/r6qfdU+WPbrPXwksr1QUAO+FHAsP8wIWL/9a88+4ci9PlOVk74U4C4/t7lxvkhOnL6aoIG/XmmUv05LbT8sXBY8gIzouwBEfbqAoew4SszTvttg0b5BFJo+c9YbPixBHr+gAJw9jvvXv5Ohab5I5LE9BkzBv+ttHsDz7oc+OF3XvUjLqTxkDVI+iBBMvVBeET2AEiQ+bm06PfS3+z5INxI+5dVwv1Z5Sb9Jdvg+0JbZvABt9zswP1W9QgsOPx61jr8AGYM/QhC0vsPRCT6KkNI+Ihu1vqhBEj4CJFW8e/iGv/McTr4g8Ow/tuKJP/CCEj/OM6A+vCTEvZalDL7mIfS+2gjAvoRiir+79ya/ajgnPfwV4z4WIOi/GnPIvpzV2r2dNYy+yBZEvVihKj44RfS9gvWJv2T3d76AQ42/HL6dP1L1gb/B1QHAGyUOQNGBwb8u1se9K9VDP1qUwr4ea+K+/RFJv9at6D/RKd0/YHHWuECz2jvAFvM8TvABPkBphT3hMTW/RN6Vv5m8OT5gaQ+/Ryi5PkpLBz9Batc+RvF1v1QQwr7j1gtACMnavDionDyA+K69drWtPl/QAz40Q5U+GDVZvgi3U73OMY6926euvnnhVz62rvW8MK+JP3pnSr8RUby+2h5EvoJP474UIM27PYrVPKh6Fj9DE0C/yWyvPqhUjb+FX5U/0GHCvUT4qL3cFyk+ELzVvWwp7T1ApfW9uqCAvExuOD5QvP+98T0tP79JPb+yeWa/4OzXvHB7X7xIpYa9AnHfP1b3f77uiSW/pYBxP3zHnD4c+AI/yJt8PvBlrL7QWA0+",
        "encoding": "base64",
        "path": [
         "positions",
         "8",
         "data"
        ]
       },
       {
        "data": "h9RgP+6tFj8W2P2+YubaPoWWCb/8GsQ+PN+zvNpQAj4UhDC+gfkRP3oH874y9H49XODTPfSajbwEuwq+KWOFPfOVDD+BS5G8JlRaPvhEmj1oYik/4Mv3PCAZzD3IQJe9ZjvAPky79b52igO+UPLOPfAVhD0wBHC9qokmPmga7L5Egn29XtWSvpjOPLxCcQa+aws7vyreOD/cHLu/wBKOvcu0ST/qw669iOhtPo1hJr+O6OC9sD45P++BBD6VLiy/8em4vmGEDz+Qds29uOivvzptbz+o0zk+h1sIv36iBL755UM/383HPyx9gb8QhDa+AJkUPQDs6jyIEdW9Lg/zvrrj2j1qZRy/aFRHvhxjeb1syY09PtbpPvYsrL56fp4+wUaAPij3+j5kqDi++iQmv4jl874MpIQ+PHJ8vgKjjb+K4W0+dxeMvsfAtT1QuzG/Erz+vgj24T0lD4a+Znj6PiRBhz4qiCE/eILUvIjEF7yYA849IqTKPoTSoT7MUMQ8A8fxvpdWKL/ydNW+SrqIv6jUcT8bhX8/yriDvqAzXr7Wmhc+mAdOvViIaz1I3q098LeCPWiquz0k7x0+OPBUviQ9Hr7Mos89ILf4PgcyJ77AddI+RlCaOtgyEj5IFKy+lmqEPmC77b50/R09v40hP1SrTr3E0sO9X6kKPxOoIL+MpYY/OgwVPOAT4b6ehxs+9A5sPlfwAT+Aq6++rANxvsUjFb9M2Fq/SnBqvlD2Ur9MMjG/tDW+v0FeCT6SFPq9GKVRvoqx2b5wnrY+EIZjPYDFK70gPH29R3wdPztNRb+ab70+teOmPnjHgb5bxxk/wWtbvhPijb4sVWu/+WmKvx5PXT8tOww8+G/ZvUDObLyoQN06WHWzvn5osb55jYI+aogDPqSSBb8DrIM9hlDLv4ztW74xdac9n6i6vxD9GMDfQ4M+cJ90vZjcQDzYlu49QCmqvBBvcjww0Ig9CLNePclYFj8Cqi4+z5NevywzOr8woOU+zLOSvZjRpjxUxg++DDwFP1/bhb8p73U/jMWTvvI04j2Gzaw+aKiFvpDg1z26TB28wamAvxx7RL6C3eE/Z999P5PgBj8ge5M+2FSdveah4b0S08O+hHSxvs7Bf7+WShq/+kMePdjs1j7csdu/joGfvrgirr0QJF++gNDNvNAXsz1YMYC9vR+BvxsWaL6PN4S/7qGXP07Zeb+enPm/ldsIQDhPur9QZ8C9DnkvP5dZrr724Mq+XWtBv1DT3z93v9Q/cN/luaBv6jwkSgI+ZuLfPQ7eZT1xGRy/1G6Kv4aQKz4OeAS/Ef6gPhRG6z4eTbs+GsRrv68Iur6fDQZA4OdkvVjnIz14EDe+4mOIPtT9zj04ZGo+NgKcvlIQmL0AQ8y9iRbavkbIhj5/Yxm9fHt/P4XJO7+Ot66+ApAbvnBNtL6GtKK79CS/PHqyBj9H7iu/5r6kPhq6hL+iR4w/oHdJvfggL72wQa89BjMhvjzeMj5ARDm+iCwMvHD8yD2AWIu9LGIgPxY9L79vXlW/gNUmPCCsrDsgEdA8lovTP55Wcr6yuRy/xtxbPxm7jj6Rd+4+nCZDPlgvhb6gZNo9",
        "encoding": "base64",
        "path": [
         "positions",
         "9",
         "data"
        ]
       }
      ],
      "model_module": "k3d",
      "model_module_version": "2.9.0",
      "model_name": "ObjectModel",
      "state": {
       "_view_count": null,
       "_view_module": null,
       "_view_module_version": "",
       "_view_name": null,
       "color": 255,
       "colorLegend": false,
       "colors": {
        "dtype": "uint32",
        "shape": [
         0
        ]
       },
       "compression_level": 0,
       "id": 4475888336,
       "mesh_detail": 2,
       "model_matrix": {
        "dtype": "float32",
        "shape": [
         4,
         4
        ]
       },
       "name": "Points #1",
       "opacities": {
        "dtype": "float32",
        "shape": [
         0
        ]
       },
       "opacity": 1,
       "point_size": 0.2,
       "positions": {
        "0": {
         "dtype": "float32",
         "shape": [
          100,
          3
         ]
        },
        "1": {
         "dtype": "float32",
         "shape": [
          100,
          3
         ]
        },
        "2": {
         "dtype": "float32",
         "shape": [
          100,
          3
         ]
        },
        "3": {
         "dtype": "float32",
         "shape": [
          100,
          3
         ]
        },
        "4": {
         "dtype": "float32",
         "shape": [
          100,
          3
         ]
        },
        "5": {
         "dtype": "float32",
         "shape": [
          100,
          3
         ]
        },
        "6": {
         "dtype": "float32",
         "shape": [
          100,
          3
         ]
        },
        "7": {
         "dtype": "float32",
         "shape": [
          100,
          3
         ]
        },
        "8": {
         "dtype": "float32",
         "shape": [
          100,
          3
         ]
        },
        "9": {
         "dtype": "float32",
         "shape": [
          100,
          3
         ]
        },
        "timeSeries": true
       },
       "shader": "3d",
       "type": "Points",
       "visible": true
      }
     },
     "b7c58dc39e514ecaa2f87ad861b9b3c5": {
      "model_module": "@jupyter-widgets/base",
      "model_module_version": "1.2.0",
      "model_name": "LayoutModel",
      "state": {}
     },
     "c7baa88c1fea442eb41ab762c4b49134": {
      "model_module": "@jupyter-widgets/base",
      "model_module_version": "1.2.0",
      "model_name": "LayoutModel",
      "state": {}
     },
     "de330ae115a64585b619b3423790dbcf": {
      "model_module": "@jupyter-widgets/base",
      "model_module_version": "1.2.0",
      "model_name": "LayoutModel",
      "state": {}
     },
     "e011f4b979d84baf9889fc129773901a": {
      "model_module": "@jupyter-widgets/base",
      "model_module_version": "1.2.0",
      "model_name": "LayoutModel",
      "state": {}
     },
     "f60b880d65bd412c8adba146e3b214b9": {
      "model_module": "k3d",
      "model_module_version": "2.9.0",
      "model_name": "PlotModel",
      "state": {
       "_backend_version": "2.9.0",
       "_dom_classes": [],
       "_view_count": null,
       "antialias": 3,
       "auto_rendering": true,
       "axes": [
        "x",
        "y",
        "z"
       ],
       "axes_helper": 1,
       "background_color": 16777215,
       "camera": [
        10.130305866754716,
        -15.35259613447885,
        1.1499660472429554,
        -0.03734695911407471,
        -0.10111689567565918,
        0.1332007646560669,
        0,
        0,
        1
       ],
       "camera_animation": [],
       "camera_auto_fit": true,
       "camera_fov": 60,
       "camera_mode": "trackball",
       "camera_no_pan": false,
       "camera_no_rotate": false,
       "camera_no_zoom": false,
       "clipping_planes": [],
       "colorbar_object_id": -1,
       "colorbar_scientific": false,
       "fps": 25,
       "fps_meter": false,
       "grid": [
        -1,
        -1,
        -1,
        1,
        1,
        1
       ],
       "grid_auto_fit": true,
       "grid_visible": true,
       "height": 512,
       "layout": "IPY_MODEL_450bfd69a83f41da93d2ccb59eaa97db",
       "lighting": 1.5,
       "manipulate_mode": "translate",
       "menu_visibility": true,
       "mode": "view",
       "name": "points",
       "object_ids": [
        4377680656
       ],
       "rendering_steps": 1,
       "screenshot": "",
       "screenshot_scale": 2,
       "snapshot": "",
       "snapshot_include_js": true,
       "time": 0,
       "voxel_paint_color": 0
      }
     }
    },
    "version_major": 2,
    "version_minor": 0
   }
  }
 },
 "nbformat": 4,
 "nbformat_minor": 4
}
