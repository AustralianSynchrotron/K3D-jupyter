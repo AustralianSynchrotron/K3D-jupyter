{
 "cells": [
  {
   "cell_type": "markdown",
   "metadata": {},
   "source": [
    "## Mesh\n",
    "\n",
    "Mesh is an object which displays triangles in 3d.\n",
    "An scalar can be displayed on the mesh using color map."
   ]
  },
  {
   "cell_type": "code",
   "execution_count": 6,
   "metadata": {},
   "outputs": [
    {
     "data": {
      "application/vnd.jupyter.widget-view+json": {
       "model_id": "0da24a9f0728441ab3a38164920ee9c8",
       "version_major": 2,
       "version_minor": 0
      },
      "text/plain": [
       "Plot(antialias=3, axes=['x', 'y', 'z'], axes_helper=1.0, background_color=16777215, camera=[2, -3, 0.2, 0.0, 0…"
      ]
     },
     "metadata": {},
     "output_type": "display_data"
    }
   ],
   "source": [
    "from matplotlib.tri import Triangulation\n",
    "import numpy as np\n",
    "import k3d\n",
    "\n",
    "# this code is a part of matplotlib trisurf3d_demo\n",
    "n_radii = 8\n",
    "n_angles = 36\n",
    "\n",
    "radii = np.linspace(0.125, 1.0, n_radii, dtype=np.float32)\n",
    "angles = np.linspace(0, 2*np.pi, n_angles, endpoint=False, dtype=np.float32)[..., np.newaxis]\n",
    "\n",
    "x = np.append(np.float32(0), (radii*np.cos(angles)).flatten())\n",
    "y = np.append(np.float32(0), (radii*np.sin(angles)).flatten())\n",
    "\n",
    "z = np.sin(-x*y)\n",
    "indices = Triangulation(x,y).triangles.astype(np.uint32)\n",
    "\n",
    "plot = k3d.plot()\n",
    "plot"
   ]
  },
  {
   "cell_type": "code",
   "execution_count": 7,
   "metadata": {
    "code_folding": []
   },
   "outputs": [],
   "source": [
    "plt_mesh = k3d.mesh(np.vstack([x,y,z]).T, indices,\n",
    "                   color_map = k3d.colormaps.basic_color_maps.Jet, \n",
    "                   attribute=z,\n",
    "                   color_range = [-1.1,2.01]\n",
    "                   )\n",
    "plot += plt_mesh"
   ]
  },
  {
   "cell_type": "markdown",
   "metadata": {},
   "source": [
    "Scalars can be updated interactively using ipywidgets communication:"
   ]
  },
  {
   "cell_type": "code",
   "execution_count": 8,
   "metadata": {},
   "outputs": [],
   "source": [
    "plt_mesh.attribute = 2*x**2+y**2"
   ]
  },
  {
   "cell_type": "markdown",
   "metadata": {},
   "source": [
    "It is possible to send time series of an attribute values:"
   ]
  },
  {
   "cell_type": "code",
   "execution_count": 9,
   "metadata": {},
   "outputs": [],
   "source": [
    "plt_mesh.attribute = {str(t):3*t*x**2+y**2 for t in np.linspace(0,2,20)}"
   ]
  },
  {
   "cell_type": "code",
   "execution_count": 10,
   "metadata": {},
   "outputs": [],
   "source": [
    "plot.start_auto_play()"
   ]
  },
  {
   "cell_type": "code",
   "execution_count": null,
   "metadata": {},
   "outputs": [],
   "source": [
    "plot.stop_auto_play()"
   ]
  }
 ],
 "metadata": {
  "kernelspec": {
   "display_name": "Python 3",
   "language": "python",
   "name": "python3"
  },
  "language_info": {
   "codemirror_mode": {
    "name": "ipython",
    "version": 3
   },
   "file_extension": ".py",
   "mimetype": "text/x-python",
   "name": "python",
   "nbconvert_exporter": "python",
   "pygments_lexer": "ipython3",
   "version": "3.7.8"
  },
  "nbTranslate": {
   "displayLangs": [
    "en",
    "pl"
   ],
   "hotkey": "alt-t",
   "langInMainMenu": true,
   "sourceLang": "pl",
   "targetLang": "en",
   "useGoogleTranslate": true
  },
  "widgets": {
   "application/vnd.jupyter.widget-state+json": {
    "state": {
     "0da24a9f0728441ab3a38164920ee9c8": {
      "model_module": "k3d",
      "model_module_version": "2.9.0",
      "model_name": "PlotModel",
      "state": {
       "_backend_version": "2.9.0",
       "_dom_classes": [],
       "_view_count": null,
       "antialias": 3,
       "auto_rendering": true,
       "axes": [
        "x",
        "y",
        "z"
       ],
       "axes_helper": 1,
       "background_color": 16777215,
       "camera": [
        0.5770983306342008,
        -1.6104322361597845,
        1.03759339675011,
        0,
        0,
        0,
        -0.25680507780786077,
        0.4046457675732052,
        0.8776747431692394
       ],
       "camera_animation": [],
       "camera_auto_fit": true,
       "camera_fov": 60,
       "camera_mode": "trackball",
       "camera_no_pan": false,
       "camera_no_rotate": false,
       "camera_no_zoom": false,
       "clipping_planes": [],
       "colorbar_object_id": -1,
       "colorbar_scientific": false,
       "fps": 25,
       "fps_meter": false,
       "grid": [
        -1,
        -1,
        -1,
        1,
        1,
        1
       ],
       "grid_auto_fit": true,
       "grid_visible": true,
       "height": 512,
       "layout": "IPY_MODEL_a3b7d57de901485a8128574e8ad89688",
       "lighting": 1.5,
       "manipulate_mode": "translate",
       "menu_visibility": true,
       "mode": "view",
       "name": null,
       "object_ids": [
        4983462352
       ],
       "rendering_steps": 1,
       "screenshot": "",
       "screenshot_scale": 2,
       "snapshot": "",
       "snapshot_include_js": true,
       "time": 1.8000000000000258,
       "voxel_paint_color": 0
      }
     },
     "34b62bc531294be8bbe6819d7abcaf15": {
      "model_module": "@jupyter-widgets/base",
      "model_module_version": "1.2.0",
      "model_name": "LayoutModel",
      "state": {}
     },
     "98fa3a1a0e6d40618137ec3a4baa53b6": {
      "buffers": [
       {
        "data": "AAAAAAAAAAAAAAAAAAAAAAAAAAAAAAAAAAAAAAAAAAAAAAAA3wT3Od8E9zq98oo73wT3O877QDy98oo8vB+9PN8E9zwKku86CpLvOyXChjwKku88GCo7PSXChj3Qa7c9CpLvPQAAgDsAAIA8AAAQPQAAgD0AAMg9AAAQPgAARD4AAIA+yovTO8qL0zxD/W09yovTPTVFJT5D/W0+B/ehPsqL0z4aOhY8GjoWPV4BqT0aOhY+ybpqPl4BqT73COY+GjoWPwEAQDwBAEA9AQDYPQEAQD4BAJY+AQDYPgEAEz8BAEA/vg1iPL4NYj14T/49vg1iPryasD54T/4+hhItP74NYj/YR3g82Ed4PWqoCz7YR3g+IvjBPmqoCz8BFz4/2Ed4PwAAgDwAAIA9AAAQPgAAgD4AAMg+AAAQPwAARD8AAIA/2Ed4PNhHeD1qqAs+2Ed4PiL4wT5qqAs/ARc+P9hHeD++DWI8vg1iPXhP/j2+DWI+vJqwPnhP/j6GEi0/vg1iPwAAQDwAAEA9///XPQAAQD7//5U+///XPv//Ej8AAEA/GjoWPBo6Fj1eAak9GjoWPsm6aj5eAak+9wjmPho6Fj/Mi9M7zIvTPEX9bT3Mi9M9OEUlPkX9bT4J96E+zIvTPgIAgDsCAIA8AwAQPQIAgD0DAMg9AwAQPgQARD4CAIA+EpLvOhKS7zspwoY8EpLvPB8qOz0pwoY91Wu3PRKS7z3yBPc58gT3OsjyijvyBPc73vtAPMjyijzLH7088gT3PO2tCSXtrQkmquOaJu2tCSfDH1cnquOaJ1LS0iftrQko6gT3OeoE9zrE8oo76gT3O9f7QDzE8oo8wx+9POoE9zwNku86DZLvOyfChjwNku88Gio7PSfChj3Ta7c9DZLvPf7/fzv+/388//8PPf7/fz3+/8c9//8PPv7/Qz7+/38+yovTO8qL0zxD/W09yovTPTVFJT5D/W0+B/ehPsqL0z4dOhY8HToWPWEBqT0dOhY+zrpqPmEBqT79COY+HToWPwEAQDwBAEA9AQDYPQEAQD4BAJY+AQDYPgEAEz8BAEA/vg1iPL4NYj14T/49vg1iPryasD54T/4+hhItP74NYj/aR3g82kd4PWuoCz7aR3g+IvjBPmuoCz8CFz4/2kd4PwAAgDwAAIA9AAAQPgAAgD4AAMg+AAAQPwAARD8AAIA/2Ed4PNhHeD1qqAs+2Ed4PiL4wT5qqAs/ARc+P9hHeD++DWI8vg1iPXhP/j2+DWI+vJqwPnhP/j6GEi0/vg1iPwEAQDwBAEA9AQDYPQEAQD4BAJY+AQDYPgEAEz8BAEA/HToWPB06Fj1hAak9HToWPs66aj5hAak+/QjmPh06Fj/Ri9M70YvTPEz9bT3Ri9M9O0UlPkz9bT4L96E+0YvTPgYAgDsGAIA8BgAQPQYAgD0KAMg9BgAQPgkARD4GAIA+IJLvOiCS7zsxwoY8IJLvPCkqOz0xwoY94Wu3PSCS7z24BPc5uAT3Oqfyiju4BPc7sftAPKfyijycH708uAT3PA==",
        "encoding": "base64",
        "path": [
         "attribute",
         "0.0",
         "data"
        ]
       },
       {
        "data": "AAAAACivoTsor6E8DeU1PSivoT2uofw9DeU1PjWUdz4or6E+XT+sO10/rDxJx0E9XT+sPYGRBj5Jx0E+g+CDPl0/rD7Sqco70qnKPA7/Yz3Sqco9rFQePg7/Yz4FKps+0qnKPl5D+TteQ/k85DWMPV5D+T2hvEI+5DWMPpTXvj5eQ/k+jzYZPI82GT1hXaw9jzYZPj5lbz5hXaw+ipvqPo82GT8EoTc8BKE3PSWVzj0EoTc+y3WPPiWVzj5Hlww/BKE3P+Y1VDzmNVQ9orzuPeY1VD4cyqU+orzuPkR5Ij/mNVQ/qoJrPKqCaz2BeQQ+qoJrPhX+tz6BeQQ/C1A0P6qCaz/kt3o85Ld6PXEHDT7kt3o+rN/DPnEHDT/K9D8/5Ld6PwAAgDwAAIA9AAAQPgAAgD4AAMg+AAAQPwAARD8AAIA/5Ld6POS3ej1xBw0+5Ld6Pqzfwz5xBw0/yvQ/P+S3ej+qgms8qoJrPYF5BD6qgms+FP63PoF5BD8LUDQ/qoJrP+U1VDzlNVQ9obzuPeU1VD4ayqU+obzuPkN5Ij/lNVQ/BKE3PAShNz0mlc49BKE3Psx1jz4mlc4+R5cMPwShNz+QNhk8kDYZPWJdrD2QNhk+QmVvPmJdrD6Mm+o+kDYZP2BD+TtgQ/k85jWMPWBD+T2ivEI+5jWMPpbXvj5gQ/k+1KnKO9SpyjwQ/2M91KnKPa1UHj4Q/2M+BiqbPtSpyj5eP6w7Xj+sPErHQT1eP6w9gpEGPkrHQT6E4IM+Xj+sPiivoTsor6E8DeU1PSivoT2uofw9DeU1PjWUdz4or6E+Xj+sO14/rDxKx0E9Xj+sPYKRBj5Kx0E+g+CDPl4/rD7Sqco70qnKPA7/Yz3Sqco9rFQePg7/Yz4GKps+0qnKPl5D+TteQ/k85DWMPV5D+T2hvEI+5DWMPpTXvj5eQ/k+kDYZPJA2GT1hXaw9kDYZPkBlbz5hXaw+jJvqPpA2GT8GoTc8BqE3PSiVzj0GoTc+zXWPPiiVzj5Jlww/BqE3P+Y1VDzmNVQ9orzuPeY1VD4cyqU+orzuPkR5Ij/mNVQ/qoJrPKqCaz2BeQQ+qoJrPhT+tz6BeQQ/C1A0P6qCaz/mt3o85rd6PXIHDT7mt3o+rN/DPnIHDT/L9D8/5rd6PwAAgDwAAIA9AAAQPgAAgD4AAMg+AAAQPwAARD8AAIA/5Ld6POS3ej1xBw0+5Ld6Pqzfwz5xBw0/yvQ/P+S3ej+qgms8qoJrPYF5BD6qgms+FP63PoF5BD8LUDQ/qoJrP+Y1VDzmNVQ9orzuPeY1VD4cyqU+orzuPkR5Ij/mNVQ/BqE3PAahNz0olc49BqE3Ps11jz4olc4+SZcMPwahNz+RNhk8kTYZPWRdrD2RNhk+Q2VvPmRdrD6Om+o+kTYZP2JD+TtiQ/k85jWMPWJD+T2mvEI+5jWMPpfXvj5iQ/k+16nKO9epyjwS/2M916nKPbBUHj4S/2M+CSqbPtepyj5cP6w7XD+sPEfHQT1cP6w9gJEGPkfHQT6B4IM+XD+sPg==",
        "encoding": "base64",
        "path": [
         "attribute",
         "0.10526315789473684",
         "data"
        ]
       },
       {
        "data": "AAAAACivITworyE9DeW1PSivIT6uoXw+DeW1PjWU9z4oryE/NockPDaHJD0dGLk9NockPqOJgD4dGLk+Cu/7PjaHJD+Qtyw8kLcsPYROwj2Qtyw+aO+GPoROwj6LPAQ/kLcsP15DOTxeQzk9yWvQPV5DOT6hvJA+yWvQPpTXDT9eQzk/OKdIPDinSD0gvOE9OKdIPqTCnD4gvOE+B6AZPzinSD/uB1k87gdZPewo9D3uB1k+Mo6pPuwo9D4SKiY/7gdZP8traDzLa2g9orwCPstraD42lLU+orwCP4fyMT/La2g/lvd0PJb3dD1Gywk+lvd0Pm1hvz5Gywk/kI07P5b3dD/xJ3088Sd9PXhmDj7xJ30+NcfFPnhmDj+U0kE/8Sd9PwAAgDwAAIA9AAAQPgAAgD4AAMg+AAAQPwAARD8AAIA/8Sd9PPEnfT14Zg4+8Sd9PjXHxT54Zg4/lNJBP/EnfT+W93Q8lvd0PUbLCT6W93Q+bWG/PkbLCT+QjTs/lvd0P8traDzLa2g9orwCPstraD41lLU+orwCP4byMT/La2g/7gdZPO4HWT3tKPQ97gdZPjOOqT7tKPQ+EiomP+4HWT86p0g8OqdIPSG84T06p0g+psKcPiG84T4IoBk/OqdIP19DOTxfQzk9ymvQPV9DOT6ivJA+ymvQPpTXDT9fQzk/kbcsPJG3LD2FTsI9kbcsPmnvhj6FTsI+jDwEP5G3LD83hyQ8N4ckPR4YuT03hyQ+o4mAPh4YuT4L7/s+N4ckPyivITworyE9DeW1PSivIT6uoXw+DeW1PjWU9z4oryE/NockPDaHJD0dGLk9NockPqOJgD4dGLk+Cu/7PjaHJD+Rtyw8kbcsPYVOwj2Rtyw+ae+GPoVOwj6LPAQ/kbcsP15DOTxeQzk9ymvQPV5DOT6ivJA+ymvQPpTXDT9eQzk/OqdIPDqnSD0gvOE9OqdIPqXCnD4gvOE+CKAZPzqnSD/wB1k88AdZPe4o9D3wB1k+NI6pPu4o9D4UKiY/8AdZP8praDzKa2g9orwCPspraD42lLU+orwCP4fyMT/Ka2g/lvd0PJb3dD1Gywk+lvd0Pm1hvz5Gywk/j407P5b3dD/yJ3088id9PXlmDj7yJ30+NcfFPnlmDj+V0kE/8id9PwAAgDwAAIA9AAAQPgAAgD4AAMg+AAAQPwAARD8AAIA/8Sd9PPEnfT14Zg4+8Sd9PjXHxT54Zg4/lNJBP/EnfT+W93Q8lvd0PUbLCT6W93Q+bWG/PkbLCT+PjTs/lvd0P8praDzKa2g9orwCPspraD42lLU+orwCP4fyMT/Ka2g/8AdZPPAHWT3uKPQ98AdZPjSOqT7uKPQ+FComP/AHWT86p0g8OqdIPSK84T06p0g+psKcPiK84T4IoBk/OqdIP2BDOTxgQzk9ymvQPWBDOT6kvJA+ymvQPpXXDT9gQzk/k7csPJO3LD2FTsI9k7csPmvvhj6FTsI+jTwEP5O3LD82hyQ8NockPRwYuT02hyQ+oomAPhwYuT4J7/s+NockPw==",
        "encoding": "base64",
        "path": [
         "attribute",
         "0.21052631578947367",
         "data"
        ]
       },
       {
        "data": "AAAAAL2Gcjy9hnI9ymsIPr2Gcj5Eeb0+ymsIPymvOT+9hnI/vu5yPL7ucj1Lpgg+vu5yPoXKvT5Lpgg/yf45P77ucj85GnQ8ORp0PcFOCT45GnQ+fLS+PsFOCT8U5Do/ORp0Pw7ldTwO5XU92FAKPg7ldT7yGsA+2FAKP15DPD8O5XU/4xd4POMXeD1wjQs+4xd4PqnSwT5wjQs/SvI9P+MXeD/Ybno82G56PVreDD7Ybno+mKbDPlreDD/dvD8/2G56P7ChfDywoXw98xoOPrChfD5SXsU+8xoOP8trQT+woXw/g2x+PINsfj0LHQ8+g2x+PsbExj4LHQ8/FctCP4Nsfj/9l388/Zd/PX/FDz79l38+v67HPn/FDz9dsEM//Zd/PwAAgDwAAIA9AAAQPgAAgD4AAMg+AAAQPwAARD8AAIA//Zd/PP2Xfz1/xQ8+/Zd/Pr+uxz5/xQ8/XbBDP/2Xfz+CbH48gmx+PQodDz6CbH4+xcTGPgodDz8Uy0I/gmx+P7ChfDywoXw98xoOPrChfD5QXsU+8xoOP8prQT+woXw/2W56PNluej1a3gw+2W56Ppqmwz5a3gw/3rw/P9luej/kF3g85Bd4PXCNCz7kF3g+qtLBPnCNCz9K8j0/5Bd4Pw/ldTwP5XU92FAKPg/ldT7zGsA+2FAKP19DPD8P5XU/Ohp0PDoadD3CTgk+Ohp0Pn20vj7CTgk/FeQ6PzoadD+/7nI8v+5yPUumCD6/7nI+hsq9PkumCD/J/jk/v+5yP72Gcjy9hnI9ymsIPr2Gcj5Eeb0+ymsIPymvOT+9hnI/vu5yPL7ucj1Lpgg+vu5yPobKvT5Lpgg/yf45P77ucj86GnQ8Ohp0PcFOCT46GnQ+fLS+PsFOCT8U5Do/Ohp0Pw7ldTwO5XU92FAKPg7ldT70GsA+2FAKP15DPD8O5XU/5Rd4POUXeD1wjQs+5Rd4PqvSwT5wjQs/S/I9P+UXeD/abno82m56PVveDD7abno+mqbDPlveDD/gvD8/2m56P6+hfDyvoXw98hoOPq+hfD5RXsU+8hoOP8prQT+voXw/gmx+PIJsfj0KHQ8+gmx+PsXExj4KHQ8/FMtCP4Jsfj//l388/5d/PYDFDz7/l38+v67HPoDFDz9esEM//5d/PwAAgDwAAIA9AAAQPgAAgD4AAMg+AAAQPwAARD8AAIA//Zd/PP2Xfz1/xQ8+/Zd/Pr+uxz5/xQ8/XbBDP/2Xfz+CbH48gmx+PQodDz6CbH4+xcTGPgodDz8Uy0I/gmx+P6+hfDyvoXw98hoOPq+hfD5RXsU+8hoOP8prQT+voXw/2m56PNpuej1b3gw+2m56Ppqmwz5b3gw/4Lw/P9puej/kF3g85Bd4PXCNCz7kF3g+qtLBPnCNCz9K8j0/5Bd4Pw/ldTwP5XU92FAKPg/ldT70GsA+2FAKP19DPD8P5XU/Oxp0PDsadD3BTgk+Oxp0Pn60vj7BTgk/FeQ6PzsadD+/7nI8v+5yPUumCD6/7nI+hcq9PkumCD/J/jk/v+5yPw==",
        "encoding": "base64",
        "path": [
         "attribute",
         "0.3157894736842105",
         "data"
        ]
       },
       {
        "data": "AAAAACivoTwor6E9DeU1PiivoT6uofw+DeU1PzWUdz8or6E/IqugPCKroD2HwDQ+IqugPmcL+z6HwDQ/DAZ2PyKroD9wvp08cL6dPUB2MT5wvp0+jnn2PkB2MT+ci3E/cL6dP15DmTxeQ5k9yWssPl5DmT5Cee8+yWssPyevaj9eQ5k/RsSTPEbEkz3PPCY+RsSTPq7i5j7PPCY/ikRiP0bEkz/h6o084eqNPT2oHz7h6o0+/77dPj2oHz+oT1k/4eqNP8priDzKa4g9RHkZPspriD5sKNU+RHkZPw7lUD/Ka4g/uPCDPLjwgz3QbhQ+uPCDPh4ozj7QbhQ/mghKP7jwgz8FBIE8BQSBPYYkET4FBIE+SZbJPoYkET8njkU/BQSBPwAAgDwAAIA9AAAQPgAAgD4AAMg+AAAQPwAARD8AAIA/BQSBPAUEgT2GJBE+BQSBPkiWyT6GJBE/J45FPwUEgT+38IM8t/CDPc9uFD638IM+HijOPs9uFD+ZCEo/t/CDP8triDzLa4g9RHkZPstriD5sKNU+RHkZPw7lUD/La4g/4uqNPOLqjT0+qB8+4uqNPgG/3T4+qB8/qk9ZP+LqjT9GxJM8RsSTPdA8Jj5GxJM+r+LmPtA8Jj+MRGI/RsSTP15DmTxeQ5k9ymssPl5DmT5Dee8+ymssPyivaj9eQ5k/cL6dPHC+nT1AdjE+cL6dPo959j5AdjE/nYtxP3C+nT8jq6A8I6ugPYfAND4jq6A+aAv7PofAND8MBnY/I6ugPyivoTwor6E9DeU1PiivoT6uofw+DeU1PzWUdz8or6E/I6ugPCOroD2HwDQ+I6ugPmgL+z6HwDQ/DAZ2PyOroD9wvp08cL6dPUB2MT5wvp0+jnn2PkB2MT+ci3E/cL6dP15DmTxeQ5k9ymssPl5DmT5Eee8+ymssPyivaj9eQ5k/SMSTPEjEkz3PPCY+SMSTPrDi5j7PPCY/jERiP0jEkz/i6o084uqNPT6oHz7i6o0+AL/dPj6oHz+qT1k/4uqNP8priDzKa4g9Q3kZPspriD5rKNU+Q3kZPw3lUD/Ka4g/t/CDPLfwgz3PbhQ+t/CDPh0ozj7PbhQ/mQhKP7fwgz8FBIE8BQSBPYYkET4FBIE+SJbJPoYkET8njkU/BQSBPwAAgDwAAIA9AAAQPgAAgD4AAMg+AAAQPwAARD8AAIA/BQSBPAUEgT2GJBE+BQSBPkiWyT6GJBE/J45FPwUEgT+38IM8t/CDPc9uFD638IM+HSjOPs9uFD+ZCEo/t/CDP8priDzKa4g9Q3kZPspriD5rKNU+Q3kZPw3lUD/Ka4g/4uqNPOLqjT0+qB8+4uqNPgC/3T4+qB8/qk9ZP+LqjT9GxJM8RsSTPc88Jj5GxJM+ruLmPs88Jj+MRGI/RsSTP15DmTxeQ5k9yGssPl5DmT5Eee8+yGssPyevaj9eQ5k/cb6dPHG+nT0/djE+cb6dPpB59j4/djE/nYtxP3G+nT8jq6A8I6ugPYfAND4jq6A+Zwv7PofAND8MBnY/I6ugPw==",
        "encoding": "base64",
        "path": [
         "attribute",
         "0.42105263157894735",
         "data"
        ]
       },
       {
        "data": "AAAAAPMayjzzGso9UV5jPvMayj4O5R0/UV5jP6K8mj/zGso/5t7HPObexz3F2mA+5t7HPiUmHD/F2mA/qQaZP+bexz/Fb8E8xW/BPb+dWT7Fb8E+Uh8XP7+dWT+TGZQ/xW/BPzaUtzw2lLc9vIZOPjaUtz7Kaw8/vIZOP3iNjD82lLc/nHyrPJx8qz0w7EA+nHyrPln5BT8w7EA/Z0uDP5x8qz9Wnp48Vp6ePSFyMj5Wnp4+Ztf3PiFyMj904nI/Vp6eP72Gkjy9hpI9lNckPr2Gkj6H8uQ+lNckP1FeYD+9hpI/LquIPC6riD2VwBk+LquIPneL1T6VwBk/H0ZRPy6riD8LPII8CzyCPY2DEj4LPII+0n3LPo2DEj/wa0c/CzyCPwAAgDwAAIA9AAAQPgAAgD4AAMg+AAAQPwAARD8AAIA/CzyCPAs8gj2NgxI+CzyCPtJ9yz6NgxI/8GtHPws8gj8tq4g8LauIPZTAGT4tq4g+dovVPpTAGT8eRlE/LauIP76Gkjy+hpI9ldckPr6Gkj6H8uQ+ldckP1JeYD++hpI/V56ePFeenj0icjI+V56ePmjX9z4icjI/duJyP1eenj+cfKs8nHyrPTDsQD6cfKs+WvkFPzDsQD9nS4M/nHyrPzaUtzw2lLc9vYZOPjaUtz7Kaw8/vYZOP3mNjD82lLc/xW/BPMVvwT2/nVk+xW/BPlIfFz+/nVk/kxmUP8VvwT/n3sc8597HPcXaYD7n3sc+JSYcP8XaYD+pBpk/597HP/MayjzzGso9UV5jPvMayj4O5R0/UV5jP6K8mj/zGso/597HPOfexz3F2mA+597HPiUmHD/F2mA/qQaZP+fexz/Fb8E8xW/BPb+dWT7Fb8E+Uh8XP7+dWT+TGZQ/xW/BPzeUtzw3lLc9voZOPjeUtz7Law8/voZOP3qNjD83lLc/nXyrPJ18qz0w7EA+nXyrPlv5BT8w7EA/aEuDP518qz9Wnp48Vp6ePSJyMj5Wnp4+Z9f3PiJyMj924nI/Vp6eP7yGkjy8hpI9lNckPryGkj6G8uQ+lNckP1BeYD+8hpI/LauIPC2riD2UwBk+LauIPnaL1T6UwBk/HkZRPy2riD8MPII8DDyCPY2DEj4MPII+0n3LPo2DEj/xa0c/DDyCPwAAgDwAAIA9AAAQPgAAgD4AAMg+AAAQPwAARD8AAIA/CzyCPAs8gj2MgxI+CzyCPtJ9yz6MgxI/8GtHPws8gj8tq4g8LauIPZTAGT4tq4g+dovVPpTAGT8eRlE/LauIP7yGkjy8hpI9lNckPryGkj6G8uQ+lNckP1BeYD+8hpI/Vp6ePFaenj0icjI+Vp6ePmfX9z4icjI/duJyP1aenj+bfKs8m3yrPS/sQD6bfKs+WfkFPy/sQD9nS4M/m3yrPzaUtzw2lLc9vIZOPjaUtz7Law8/vIZOP3mNjD82lLc/xW/BPMVvwT2+nVk+xW/BPlMfFz++nVk/kxmUP8VvwT/o3sc86N7HPcXaYD7o3sc+JSYcP8XaYD+oBpk/6N7HPw==",
        "encoding": "base64",
        "path": [
         "attribute",
         "0.5263157894736842",
         "data"
        ]
       },
       {
        "data": "AAAAAL2G8jy9hvI9ymuIPr2G8j5EeT0/ymuIPymvuT+9hvI/qhLvPKoS7z2AeoY+qhLvPpbGOj+AeoY/Sgq3P6oS7z8ZIeU8GSHlPZ/igD4ZIeU+2gEzP5/igD9Xba8/GSHlPw7l1TwO5dU9r6FwPg7l1T7yGic/r6FwP17Doz8O5dU/8DTDPPA0wz2Pm1s+8DTDPlyBGD+Pm1s/iHSVP/A0wz/LUa88y1GvPQU8RT7LUa8+5vcIPwU8RT+fOoY/y1GvP6+hnDyvoZw95TUwPq+hnD6ivPQ+5TUwP5TXbz+voZw/pGWNPKRljT1aEh8+pGWNPtDu3D5aEh8/pINYP6RljT8RdIM8EXSDPZTiEz4RdIM+XGXNPpTiEz+6SUk/EXSDPwAAgDwAAIA9AAAQPgAAgD4AAMg+AAAQPwAARD8AAIA/EXSDPBF0gz2U4hM+EXSDPlxlzT6U4hM/uklJPxF0gz+jZY08o2WNPVkSHz6jZY0+zu7cPlkSHz+jg1g/o2WNP7ChnDywoZw95jUwPrChnD6ivPQ+5jUwP5XXbz+woZw/zFGvPMxRrz0GPEU+zFGvPuj3CD8GPEU/oDqGP8xRrz/xNMM88TTDPY+bWz7xNMM+XIEYP4+bWz+IdJU/8TTDPw7l1TwO5dU9sKFwPg7l1T7yGic/sKFwP17Doz8O5dU/GSHlPBkh5T2f4oA+GSHlPtsBMz+f4oA/V22vPxkh5T+rEu88qxLvPYB6hj6rEu8+lsY6P4B6hj9KCrc/qxLvP72G8jy9hvI9ymuIPr2G8j5EeT0/ymuIPymvuT+9hvI/qxLvPKsS7z2AeoY+qxLvPpbGOj+AeoY/Sgq3P6sS7z8ZIeU8GSHlPZ/igD4ZIeU+2wEzP5/igD9Xba8/GSHlPw/l1TwP5dU9sKFwPg/l1T70Gic/sKFwP1/Doz8P5dU/8jTDPPI0wz2Pm1s+8jTDPl6BGD+Pm1s/iXSVP/I0wz/LUa88y1GvPQY8RT7LUa8+5vcIPwY8RT+gOoY/y1GvP66hnDyuoZw95DUwPq6hnD6gvPQ+5DUwP5PXbz+uoZw/o2WNPKNljT1YEh8+o2WNPs7u3D5YEh8/ooNYP6NljT8SdIM8EnSDPZTiEz4SdIM+W2XNPpTiEz+6SUk/EnSDPwAAgDwAAIA9AAAQPgAAgD4AAMg+AAAQPwAARD8AAIA/EXSDPBF0gz2T4hM+EXSDPlxlzT6T4hM/uklJPxF0gz+jZY08o2WNPVgSHz6jZY0+zu7cPlgSHz+ig1g/o2WNP66hnDyuoZw95DUwPq6hnD6gvPQ+5DUwP5PXbz+uoZw/y1GvPMtRrz0GPEU+y1GvPub3CD8GPEU/oDqGP8tRrz/vNMM87zTDPY6bWz7vNMM+W4EYP46bWz+IdJU/7zTDPw7l1TwO5dU9rqFwPg7l1T7zGic/rqFwP17Doz8O5dU/GSHlPBkh5T2e4oA+GSHlPtwBMz+e4oA/V22vPxkh5T+sEu88rBLvPYF6hj6sEu8+lsY6P4F6hj9KCrc/rBLvPw==",
        "encoding": "base64",
        "path": [
         "attribute",
         "0.631578947368421",
         "data"
        ]
       },
       {
        "data": "AAAAAEN5DT1DeQ0+ayifPkN5DT95DV0/ayifP6+h2D9DeQ1ANyMLPTcjCz6eh5w+NyMLPwdnWT+eh5w/6w3VPzcjC0A2aQQ9NmkEPl32lD42aQQ/ZOROP132lD8bwco/NmkEQOQ19DzkNfQ9UF6JPuQ19D4Zyj4/UF6JP0L5uj/kNfQ/RO3aPETt2j3uSnY+RO3aPl0JKz/uSnY/qJ2nP0Tt2j9ABcA8QAXAPegFWD5ABcA+GQQWP+gFWD8FBJM/QAXAP6K8pjyivKY9NpQ7PqK8pj5eQwI/NpQ7P9dQfz+ivKY/GiCSPBogkj0eZCQ+GiCSPihS5D4eZCQ/KMFfPxogkj8XrIQ8F6yEPZtBFT4XrIQ+5kzPPptBFT+DJ0s/F6yEPwAAgDwAAIA9AAAQPgAAgD4AAMg+AAAQPwAARD8AAIA/F6yEPBeshD2bQRU+F6yEPuVMzz6bQRU/gydLPxeshD8ZIJI8GSCSPR5kJD4ZIJI+J1LkPh5kJD8nwV8/GSCSP6K8pjyivKY9N5Q7PqK8pj5eQwI/N5Q7P9hQfz+ivKY/QQXAPEEFwD3pBVg+QQXAPhsEFj/pBVg/BgSTP0EFwD9F7do8Re3aPe5Kdj5F7do+XgkrP+5Kdj+pnac/Re3aP+Q19DzkNfQ9UF6JPuQ19D4Zyj4/UF6JP0L5uj/kNfQ/NmkEPTZpBD5e9pQ+NmkEP2TkTj9e9pQ/G8HKPzZpBEA3Iws9NyMLPp6HnD43Iws/B2dZP56HnD/rDdU/NyMLQEN5DT1DeQ0+ayifPkN5DT95DV0/ayifP6+h2D9DeQ1ANyMLPTcjCz6eh5w+NyMLPwdnWT+eh5w/6w3VPzcjC0A2aQQ9NmkEPl32lD42aQQ/ZOROP132lD8bwco/NmkEQOY19DzmNfQ9UV6JPuY19D4cyj4/UV6JP0T5uj/mNfQ/Ru3aPEbt2j3uSnY+Ru3aPmAJKz/uSnY/qp2nP0bt2j9ABcA8QAXAPegFWD5ABcA+GgQWP+gFWD8FBJM/QAXAP6C8pjygvKY9NJQ7PqC8pj5dQwI/NJQ7P9ZQfz+gvKY/GSCSPBkgkj0dZCQ+GSCSPiZS5D4dZCQ/J8FfPxkgkj8YrIQ8GKyEPZtBFT4YrIQ+5UzPPptBFT+EJ0s/GKyEPwAAgDwAAIA9AAAQPgAAgD4AAMg+AAAQPwAARD8AAIA/F6yEPBeshD2aQRU+F6yEPuVMzz6aQRU/gydLPxeshD8ZIJI8GSCSPR1kJD4ZIJI+JlLkPh1kJD8nwV8/GSCSP6C8pjygvKY9NJQ7PqC8pj5dQwI/NJQ7P9ZQfz+gvKY/QAXAPEAFwD3oBVg+QAXAPhoEFj/oBVg/BQSTP0AFwD9D7do8Q+3aPexKdj5D7do+XQkrP+xKdj+onac/Q+3aP+Q19DzkNfQ9T16JPuQ19D4ayj4/T16JP0L5uj/kNfQ/NmkEPTZpBD5d9pQ+NmkEP2XkTj9d9pQ/G8HKPzZpBEA3Iws9NyMLPp+HnD43Iws/B2dZP5+HnD/rDdU/NyMLQA==",
        "encoding": "base64",
        "path": [
         "attribute",
         "0.7368421052631579",
         "data"
        ]
       },
       {
        "data": "AAAAACivIT0oryE+DeW1PiivIT+uoXw/DeW1PzWU9z8oryFAGb0ePRm9Hj68lLI+Gb0eP3gHeD+8lLI/jRHzPxm9HkDfQRY930EWPh0KqT7fQRY/7MZqPx0KqT/fFOY/30EWQF5DCT1eQwk+yWuaPl5DCT9CeVY/yWuaPycv0j9eQwlAmqXyPJql8j0nfYg+mqXyPmCRPT8nfYg/yca5P5ql8j+1uNA8tbjQPcvPaj61uNA+TRAjP8vPaj9qzZ8/tbjQP5TXsDyU17A9hvJGPpTXsD5sKAo/hvJGPw1lhz+U17A/kNqWPJDalj3jtSk+kNqWPoG16z7jtSk/rv5mP5Dalj8e5IU8HuSFPaKgFj4e5IU+bzTRPqKgFj9NBU0/HuSFPwAAgDwAAIA9AAAQPgAAgD4AAMg+AAAQPwAARD8AAIA/HeSFPB3khT2ioBY+HeSFPm800T6ioBY/TAVNPx3khT+P2pY8j9qWPeK1KT6P2pY+f7XrPuK1KT+s/mY/j9qWP5bXsDyW17A9iPJGPpbXsD5sKAo/iPJGPw5lhz+W17A/trjQPLa40D3Nz2o+trjQPk8QIz/Nz2o/bM2fP7a40D+apfI8mqXyPSd9iD6apfI+YZE9Pyd9iD/Jxrk/mqXyP15DCT1eQwk+yWuaPl5DCT9CeVY/yWuaPygv0j9eQwlA4EEWPeBBFj4eCqk+4EEWP+3Gaj8eCqk/3xTmP+BBFkAZvR49Gb0ePryUsj4ZvR4/eAd4P7yUsj+NEfM/Gb0eQCivIT0oryE+DeW1PiivIT+uoXw/DeW1PzWU9z8oryFAGb0ePRm9Hj68lLI+Gb0eP3gHeD+8lLI/jRHzPxm9HkDfQRY930EWPh0KqT7fQRY/7cZqPx0KqT/fFOY/30EWQF5DCT1eQwk+ymuaPl5DCT9EeVY/ymuaPykv0j9eQwlAnKXyPJyl8j0nfYg+nKXyPmKRPT8nfYg/y8a5P5yl8j+0uNA8tLjQPczPaj60uNA+TBAjP8zPaj9rzZ8/tLjQP5LXsDyS17A9hfJGPpLXsD5qKAo/hfJGPwxlhz+S17A/j9qWPI/alj3itSk+j9qWPn616z7itSk/q/5mP4/alj8e5IU8HuSFPaKgFj4e5IU+bjTRPqKgFj9NBU0/HuSFPwAAgDwAAIA9AAAQPgAAgD4AAMg+AAAQPwAARD8AAIA/HeSFPB3khT2hoBY+HeSFPm800T6hoBY/TAVNPx3khT+P2pY8j9qWPeK1KT6P2pY+frXrPuK1KT+r/mY/j9qWP5LXsDyS17A9hfJGPpLXsD5qKAo/hfJGPwxlhz+S17A/tLjQPLS40D3Mz2o+tLjQPkwQIz/Mz2o/a82fP7S40D+XpfI8l6XyPSZ9iD6XpfI+X5E9PyZ9iD/Jxrk/l6XyP11DCT1dQwk+yGuaPl1DCT9DeVY/yGuaPyYv0j9dQwlA4EEWPeBBFj4cCqk+4EEWP+7Gaj8cCqk/3xTmP+BBFkAZvR49Gb0ePr2Usj4ZvR4/eAd4P72Usj+NEfM/Gb0eQA==",
        "encoding": "base64",
        "path": [
         "attribute",
         "0.8421052631578947",
         "data"
        ]
       },
       {
        "data": "AAAAAA3lNT0N5TU+r6HMPg3lNT/yGo4/r6HMP15DC0AN5TVA+1YyPftWMj7aocg++1YyP/VTiz/aocg/l4oIQPtWMkCJGig9iRooPtwdvT6JGig/u1SDP9wdvT9StABAiRooQMprGD3Kaxg+QnmrPsprGD9qKG4/QnmrPwxl6T/KaxhA9y4FPfcuBT7X1JU+9y4FP2IZUD/X1JU/6u/LP/cuBUAqbOE8KmzhPa+ZfT4qbOE+gBwwP6+ZfT/Qlqw/KmzhP4byujyG8ro911BSPobyuj55DRI/11BSP68hjz+G8ro/BpWbPAaVmz2oBy8+BpWbPtoY8z6oBy8/MjxuPwaVmz8kHIc8JByHPan/Fz4kHIc++RvTPqn/Fz8W404/JByHPwAAgDwAAIA9AAAQPgAAgD4AAMg+AAAQPwAARD8AAIA/JByHPCQchz2o/xc+JByHPvkb0z6o/xc/FuNOPyQchz8FlZs8BZWbPacHLz4FlZs+2BjzPqcHLz8wPG4/BZWbP4jyujyI8ro92VBSPojyuj56DRI/2VBSP7Ahjz+I8ro/K2zhPCts4T2wmX0+K2zhPoIcMD+wmX0/0ZasPyts4T/4LgU9+C4FPtfUlT74LgU/YxlQP9fUlT/q78s/+C4FQMprGD3Kaxg+QnmrPsprGD9qKG4/QnmrPwxl6T/KaxhAihooPYoaKD7dHb0+ihooP7tUgz/dHb0/UrQAQIoaKED7VjI9+1YyPtqhyD77VjI/9VOLP9qhyD+YighA+1YyQA3lNT0N5TU+r6HMPg3lNT/yGo4/r6HMP15DC0AN5TVA+1YyPftWMj7aocg++1YyP/VTiz/aocg/mIoIQPtWMkCJGig9iRooPtwdvT6JGig/u1SDP9wdvT9StABAiRooQMprGD3Kaxg+RHmrPsprGD9tKG4/RHmrPw5l6T/KaxhA+S4FPfkuBT7X1JU++S4FP2UZUD/X1JU/7O/LP/kuBUAobOE8KGzhPbCZfT4obOE+gBwwP7CZfT/Qlqw/KGzhP4XyujyF8ro91lBSPoXyuj54DRI/1lBSP64hjz+F8ro/BZWbPAWVmz2nBy8+BZWbPtcY8z6nBy8/MDxuPwWVmz8kHIc8JByHPan/Fz4kHIc++BvTPqn/Fz8W404/JByHPwAAgDwAAIA9AAAQPgAAgD4AAMg+AAAQPwAARD8AAIA/IxyHPCMchz2o/xc+IxyHPvgb0z6o/xc/FuNOPyMchz8FlZs8BZWbPacHLz4FlZs+1xjzPqcHLz8wPG4/BZWbP4XyujyF8ro91lBSPoXyuj54DRI/1lBSP64hjz+F8ro/KGzhPChs4T2wmX0+KGzhPoAcMD+wmX0/0JasPyhs4T/2LgU99i4FPtXUlT72LgU/YRlQP9XUlT/q78s/9i4FQMlrGD3Jaxg+QXmrPslrGD9rKG4/QXmrPwtl6T/JaxhAiRooPYkaKD7bHb0+iRooP7xUgz/bHb0/UrQAQIkaKED7VjI9+1YyPtyhyD77VjI/9FOLP9yhyD+YighA+1YyQA==",
        "encoding": "base64",
        "path": [
         "attribute",
         "0.9473684210526315",
         "data"
        ]
       },
       {
        "data": "AAAAAPMaSj3zGko+UV7jPvMaSj8O5Z0/UV7jP6K8GkDzGkpA3fBFPd3wRT76rt4+3fBFPy6kmj/6rt4/aYwXQN3wRUA08zk9NPM5Ppwx0T408zk/AUaRP5wx0T80Xg5ANPM5QDaUJz02lCc+vIa8PjaUJz/K64I/vIa8P3hNAEA2lCdAIgsRPSILET6HLKM+IgsRP2WhYj+HLKM/DBnePyILEUCfH/I8nx/yPcoxiD6fH/I+tCg9P8oxiD82YLk/nx/yP3kNxTx5DcU9KK9dPnkNxT6G8hk/KK9dP1Delj95DcU/fE+gPHxPoD1tWTQ+fE+gPjJ8+j5tWTQ/uHl1P3xPoD8qVIg8KlSIPbBeGT4qVIg+gwPVPrBeGT/gwFA/KlSIPwAAgDwAAIA9AAAQPgAAgD4AAMg+AAAQPwAARD8AAIA/KlSIPCpUiD2wXhk+KlSIPoID1T6wXhk/38BQPypUiD98T6A8fE+gPWxZND58T6A+MHz6PmxZND+2eXU/fE+gP3sNxTx7DcU9Kq9dPnsNxT6I8hk/Kq9dP1Lelj97DcU/oR/yPKEf8j3KMYg+oR/yPrYoPT/KMYg/OGC5P6Ef8j8iCxE9IgsRPogsoz4iCxE/ZqFiP4gsoz8MGd4/IgsRQDaUJz02lCc+vIa8PjaUJz/K64I/vIa8P3lNAEA2lCdANfM5PTXzOT6dMdE+NfM5PwFGkT+dMdE/NV4OQDXzOUDd8EU93fBFPvqu3j7d8EU/LqSaP/qu3j9qjBdA3fBFQPMaSj3zGko+UV7jPvMaSj8O5Z0/UV7jP6K8GkDzGkpA3fBFPd3wRT76rt4+3fBFPy6kmj/6rt4/aowXQN3wRUA08zk9NPM5Ppwx0T408zk/AUaRP5wx0T81Xg5ANPM5QDeUJz03lCc+voa8PjeUJz/L64I/voa8P3pNAEA3lCdAJAsRPSQLET6HLKM+JAsRP2mhYj+HLKM/DxnePyQLEUCeH/I8nh/yPcoxiD6eH/I+tCg9P8oxiD82YLk/nh/yP3gNxTx4DcU9J69dPngNxT6G8hk/J69dP1Delj94DcU/e0+gPHtPoD1sWTQ+e0+gPjB8+j5sWTQ/tXl1P3tPoD8qVIg8KlSIPbBeGT4qVIg+ggPVPrBeGT/gwFA/KlSIPwAAgDwAAIA9AAAQPgAAgD4AAMg+AAAQPwAARD8AAIA/KVSIPClUiD2vXhk+KVSIPoID1T6vXhk/38BQPylUiD97T6A8e0+gPWxZND57T6A+MHz6PmxZND+1eXU/e0+gP3gNxTx4DcU9J69dPngNxT6G8hk/J69dP1Delj94DcU/nh/yPJ4f8j3KMYg+nh/yPrQoPT/KMYg/NmC5P54f8j8hCxE9IQsRPoYsoz4hCxE/ZKFiP4Ysoz8MGd4/IQsRQDaUJz02lCc+u4a8PjaUJz/K64I/u4a8P3lNAEA2lCdANPM5PTTzOT6bMdE+NPM5PwFGkT+bMdE/NF4OQDTzOUDe8EU93vBFPvuu3j7e8EU/LaSaP/uu3j9pjBdA3vBFQA==",
        "encoding": "base64",
        "path": [
         "attribute",
         "1.0526315789473684",
         "data"
        ]
       },
       {
        "data": "AAAAANhQXj3YUF4+8xr6PthQXj8pr60/8xr6P+U1KkDYUF5Av4pZPb+KWT4YvPQ+v4pZP2f0qT8YvPQ/OY4mQL+KWUDey0s93stLPltF5T7ey0s/RTefP1tF5T8WCBxA3stLQKK8Nj2ivDY+NZTNPqK8Nj9ew44/NZTNP2voC0CivDZATOccPUznHD43hLA+TOccP2gpdT83hLA/LULwP0znHECKaQE9imkBPryWkT6KaQE/5zRKP7yWkT+cKcY/imkBQGwozzxsKM89eQ1pPmwozz6U1yE/eQ1pP/Kanj9sKM8/8wmlPPMJpT0yqzk+8wmlPsbvAD8yqzk/PLd8P/MJpT8wjIk8MIyJPbe9Gj4wjIk+DOvWPre9Gj+pnlI/MIyJPwAAgDwAAIA9AAAQPgAAgD4AAMg+AAAQPwAARD8AAIA/MIyJPDCMiT22vRo+MIyJPgzr1j62vRo/qZ5SPzCMiT/yCaU88gmlPTGrOT7yCaU+xO8APzGrOT86t3w/8gmlP24ozzxuKM89fA1pPm4ozz6V1yE/fA1pP/Sanj9uKM8/i2kBPYtpAT68lpE+i2kBP+o0Sj+8lpE/ninGP4tpAUBM5xw9TOccPjiEsD5M5xw/aSl1PziEsD8tQvA/TOccQKK8Nj2ivDY+NZTNPqK8Nj9ew44/NZTNP2voC0CivDZA38tLPd/LSz5cReU+38tLP0U3nz9cReU/FwgcQN/LS0C/ilk9v4pZPhi89D6/ilk/Z/SpPxi89D86jiZAv4pZQNhQXj3YUF4+8xr6PthQXj8pr60/8xr6P+U1KkDYUF5Av4pZPb+KWT4YvPQ+v4pZP2f0qT8YvPQ/Oo4mQL+KWUDey0s93stLPltF5T7ey0s/RTefP1tF5T8XCBxA3stLQKO8Nj2jvDY+N5TNPqO8Nj9fw44/N5TNP23oC0CjvDZATuccPU7nHD43hLA+TuccP2spdT83hLA/MELwP07nHECKaQE9imkBPruWkT6KaQE/5jRKP7uWkT+bKcY/imkBQGoozzxqKM89eA1pPmoozz6S1yE/eA1pP/Ganj9qKM8/8QmlPPEJpT0wqzk+8QmlPsTvAD8wqzk/Ord8P/EJpT8wjIk8MIyJPbe9Gj4wjIk+C+vWPre9Gj+pnlI/MIyJPwAAgDwAAIA9AAAQPgAAgD4AAMg+AAAQPwAARD8AAIA/MIyJPDCMiT22vRo+MIyJPgzr1j62vRo/qZ5SPzCMiT/xCaU88QmlPTCrOT7xCaU+xO8APzCrOT86t3w/8QmlP2oozzxqKM89eA1pPmoozz6S1yE/eA1pP/Ganj9qKM8/imkBPYppAT67lpE+imkBP+Y0Sj+7lpE/mynGP4ppAUBL5xw9S+ccPjSEsD5L5xw/Zil1PzSEsD8sQvA/S+ccQKG8Nj2hvDY+NJTNPqG8Nj9fw44/NJTNP2voC0ChvDZA3stLPd7LSz5aReU+3stLP0U3nz9aReU/FggcQN7LS0DAilk9wIpZPhq89D7Ailk/ZvSpPxq89D86jiZAwIpZQA==",
        "encoding": "base64",
        "path": [
         "attribute",
         "1.1578947368421053",
         "data"
        ]
       },
       {
        "data": "AAAAAL2Gcj29hnI+ymsIP72Gcj9Eeb0/ymsIQCmvOUC9hnJAoSRtPaEkbT6aZAU/oSRtP59EuT+aZAVACpA1QKEkbUCIpF09iKRdPhtZ+T6IpF0/iiitPxtZ+T/4sSlAiKRdQA7lRT0O5UU+r6HePg7lRT/ympo/r6HeP16DF0AO5UVAd8MoPXfDKD7m270+d8MoP7XYgz/m270/pzUBQHfDKEBEwwk9RMMJPq77mj5Ewwk/GkFXP677mj8B89I/RMMJQF5D2TxeQ9k9ymt0Pl5D2T6ivCk/ymt0P5RXpj9eQ9k/acSpPGnEqT33/D4+acSpPnKhBD/3/D4/YfqBP2nEqT82xIo8NsSKPb4cHD42xIo+ltLYPr4cHD9zfFQ/NsSKPwAAgDwAAIA9AAAQPgAAgD4AAMg+AAAQPwAARD8AAIA/NsSKPDbEij29HBw+NsSKPpbS2D69HBw/cnxUPzbEij9oxKk8aMSpPfb8Pj5oxKk+cKEEP/b8Pj9g+oE/aMSpP2BD2TxgQ9k9zGt0PmBD2T6ivCk/zGt0P5ZXpj9gQ9k/RsMJPUbDCT6u+5o+RsMJPx1BVz+u+5o/A/PSP0bDCUB4wyg9eMMoPufbvT54wyg/ttiDP+fbvT+nNQFAeMMoQA7lRT0O5UU+r6HePg7lRT/ympo/r6HeP16DF0AO5UVAiaRdPYmkXT4cWfk+iaRdP4oorT8cWfk/+bEpQImkXUChJG09oSRtPptkBT+hJG0/n0S5P5tkBUALkDVAoSRtQL2Gcj29hnI+ymsIP72Gcj9Eeb0/ymsIQCmvOUC9hnJAoSRtPaEkbT6bZAU/oSRtP59EuT+bZAVAC5A1QKEkbUCIpF09iKRdPhtZ+T6IpF0/iiitPxtZ+T/5sSlAiKRdQA/lRT0P5UU+sKHePg/lRT/0mpo/sKHeP1+DF0AP5UVAecMoPXnDKD7m270+ecMoP7fYgz/m270/qDUBQHnDKEBEwwk9RMMJPq37mj5Ewwk/GkFXP637mj8B89I/RMMJQFxD2TxcQ9k9yGt0PlxD2T6gvCk/yGt0P5JXpj9cQ9k/Z8SpPGfEqT31/D4+Z8SpPnChBD/1/D4/X/qBP2fEqT82xIo8NsSKPb4cHD42xIo+lNLYPr4cHD9yfFQ/NsSKPwAAgDwAAIA9AAAQPgAAgD4AAMg+AAAQPwAARD8AAIA/NsSKPDbEij29HBw+NsSKPpXS2D69HBw/cnxUPzbEij9nxKk8Z8SpPfX8Pj5nxKk+cKEEP/X8Pj9f+oE/Z8SpP1xD2TxcQ9k9yGt0PlxD2T6gvCk/yGt0P5JXpj9cQ9k/RMMJPUTDCT6t+5o+RMMJPxpBVz+t+5o/AfPSP0TDCUB1wyg9dcMoPuTbvT51wyg/tNiDP+TbvT+mNQFAdcMoQA3lRT0N5UU+raHePg3lRT/zmpo/raHeP16DF0AN5UVAiKRdPYikXT4ZWfk+iKRdP4oorT8ZWfk/+LEpQIikXUCiJG09oiRtPptkBT+iJG0/nkS5P5tkBUALkDVAoiRtQA==",
        "encoding": "base64",
        "path": [
         "attribute",
         "1.263157894736842",
         "data"
        ]
       },
       {
        "data": "AAAAAFFegz1RXoM+G8oTP1Fegz9fQ80/G8oTQGwoSUBRXoNAQV+APUFfgD4qaxA/QV+AP9iUyD8qaxBA25FEQEFfgEAyfW89Mn1vPm22Bj8yfW8/zxm7P222BkDaWzdAMn1vQHoNVT16DVU+KK/vPnoNVT+GcqY/KK/vP1AeI0B6DVVAoZ80PaGfND6WM8s+oZ80P7YcjT+WM8s/N0oKQKGfNED/HBI9/xwSPp9gpD7/HBI/Tk1kP59gpD9nvN8//xwSQFBe4zxQXuM9Gsp/PlBe4z6voTE/Gsp/PzYUrj9QXuM/336uPN9+rj28TkQ+336uPh5TCD+8TkQ/I5mFP99+rj88/Is8PPyLPcV7HT48/Is+ILraPsV7HT88WlY/PPyLPwAAgDwAAIA9AAAQPgAAgD4AAMg+AAAQPwAARD8AAIA/PPyLPDz8iz3Eex0+PPyLPh+62j7Eex0/PFpWPzz8iz/efq483n6uPbtORD7efq4+HVMIP7tORD8imYU/3n6uP1Ne4zxTXuM9Hsp/PlNe4z6woTE/Hsp/PzgUrj9TXuM/AB0SPQAdEj6gYKQ+AB0SP1FNZD+gYKQ/abzfPwAdEkCinzQ9op80Ppczyz6inzQ/thyNP5czyz84SgpAop80QHoNVT16DVU+KK/vPnoNVT+GcqY/KK/vP1AeI0B6DVVAM31vPTN9bz5ttgY/M31vP88Zuz9ttgZA21s3QDN9b0BBX4A9QV+APitrED9BX4A/2JTIPytrEEDckURAQV+AQFFegz1RXoM+G8oTP1Fegz9fQ80/G8oTQGwoSUBRXoNAQV+APUFfgD4raxA/QV+AP9iUyD8raxBA3JFEQEFfgEAyfW89Mn1vPm22Bj8yfW8/zxm7P222BkDbWzdAMn1vQHsNVT17DVU+Kq/vPnsNVT+IcqY/Kq/vP1IeI0B7DVVAo580PaOfND6WM8s+o580P7kcjT+WM8s/OUoKQKOfNED+HBI9/hwSPp9gpD7+HBI/Tk1kP59gpD9mvN8//hwSQE5e4zxOXuM9GMp/Pk5e4z6toTE/GMp/PzQUrj9OXuM/3X6uPN1+rj26TkQ+3X6uPhxTCD+6TkQ/IpmFP91+rj88/Is8PPyLPcR7HT48/Is+HrraPsR7HT88WlY/PPyLPwAAgDwAAIA9AAAQPgAAgD4AAMg+AAAQPwAARD8AAIA/PPyLPDz8iz3Eex0+PPyLPh+62j7Eex0/O1pWPzz8iz/dfq483X6uPbpORD7dfq4+HFMIP7pORD8imYU/3X6uP05e4zxOXuM9GMp/Pk5e4z6toTE/GMp/PzQUrj9OXuM//hwSPf4cEj6fYKQ+/hwSP05NZD+fYKQ/ZrzfP/4cEkCfnzQ9n580PpQzyz6fnzQ/tRyNP5Qzyz83SgpAn580QHgNVT14DVU+Jq/vPngNVT+HcqY/Jq/vP1AeI0B4DVVAMn1vPTJ9bz5ttgY/Mn1vP88Zuz9ttgZA2ls3QDJ9b0BCX4A9Ql+APitrED9CX4A/15TIPytrEEDckURAQl+AQA==",
        "encoding": "base64",
        "path": [
         "attribute",
         "1.3684210526315788",
         "data"
        ]
       },
       {
        "data": "AAAAAEN5jT1DeY0+aygfP0N5jT95Dd0/aygfQK+hWEBDeY1AMiyKPTIsij64cRs/MiyKPxDl1z+4cRtAq5NTQDIsikDuqoA97qqAPkzAED/uqoA/EwvJP0zAEEC8BUVA7qqAQOQ1ZD3kNWQ+UF4AP+Q1ZD8ZSrI/UF4AQEK5LkDkNWRAy3tAPct7QD5Fi9g+y3tAP7dglj9Fi9g/x14TQMt7QEC5dho9uXYaPpDFrT65dho/gFlxP5DFrT/Mhew/uXYaQEJ57TxCee09NZSFPkJ57T68hjk/NZSFP9bQtT9Cee0/VTmzPFU5sz2AoEk+VTmzPsoEDD+AoEk/5jeJP1U5sz9DNI08QzSNPczaHj5DNI0+qqHcPszaHj8GOFg/QzSNPwAAgDwAAIA9AAAQPgAAgD4AAMg+AAAQPwAARD8AAIA/QjSNPEI0jT3L2h4+QjSNPqmh3D7L2h4/BThYP0I0jT9UObM8VDmzPYCgST5UObM+yQQMP4CgST/kN4k/VDmzP0V57TxFee09N5SFPkV57T6+hjk/N5SFP9nQtT9Fee0/unYaPbp2Gj6Sxa0+unYaP4RZcT+Sxa0/zoXsP7p2GkDMe0A9zHtAPkaL2D7Me0A/t2CWP0aL2D/IXhNAzHtAQOQ1ZD3kNWQ+UF4AP+Q1ZD8ZSrI/UF4AQEK5LkDkNWRA7qqAPe6qgD5MwBA/7qqAPxMLyT9MwBBAvQVFQO6qgEAyLIo9MiyKPrlxGz8yLIo/EOXXP7lxG0Csk1NAMiyKQEN5jT1DeY0+aygfP0N5jT95Dd0/aygfQK+hWEBDeY1AMiyKPTIsij65cRs/MiyKPxDl1z+5cRtArJNTQDIsikDuqoA97qqAPkzAED/uqoA/EwvJP0zAEEC9BUVA7qqAQOY1ZD3mNWQ+UV4AP+Y1ZD8cSrI/UV4AQES5LkDmNWRAzXtAPc17QD5Fi9g+zXtAP7pglj9Fi9g/yV4TQM17QEC4dho9uHYaPpDFrT64dho/gFlxP5DFrT/Lhew/uHYaQEB57TxAee09NJSFPkB57T66hjk/NJSFP9XQtT9Aee0/UjmzPFI5sz1+oEk+UjmzPsgEDD9+oEk/5DeJP1I5sz9CNI08QjSNPcvaHj5CNI0+qKHcPsvaHj8FOFg/QjSNPwAAgDwAAIA9AAAQPgAAgD4AAMg+AAAQPwAARD8AAIA/QjSNPEI0jT3K2h4+QjSNPqih3D7K2h4/BThYP0I0jT9SObM8UjmzPX6gST5SObM+yAQMP36gST/kN4k/UjmzP0B57TxAee09NJSFPkB57T66hjk/NJSFP9XQtT9Aee0/uHYaPbh2Gj6Qxa0+uHYaP4BZcT+Qxa0/y4XsP7h2GkDJe0A9yXtAPkKL2D7Je0A/tWCWP0KL2D/HXhNAyXtAQOM1ZD3jNWQ+T14AP+M1ZD8aSrI/T14AQEK5LkDjNWRA7qqAPe6qgD5MwBA/7qqAPxMLyT9MwBBAvAVFQO6qgEAzLIo9MyyKPrlxGz8zLIo/D+XXP7lxG0Csk1NAMyyKQA==",
        "encoding": "base64",
        "path": [
         "attribute",
         "1.4736842105263157",
         "data"
        ]
       },
       {
        "data": "AAAAADaUlz02lJc+vYYqPzaUlz+U1+w/vYYqQPMaaEA2lJdAI/mTPSP5kz5IeCY/I/mTP0k15z9IeCZAfZViQCP5k0BDl4k9Q5eJPizKGj9Dl4k/WPzWPyzKGkCgr1JAQ5eJQFFecz1RXnM+DeUIP1Fecz+uIb4/DeUIQDVUOkBRXnNA9ldMPfZXTD724uU+9ldMP7mknz/24uU/WHMcQPZXTEB00CI9dNAiPoIqtz500CI/tGV+P4Iqtz8yT/k/dNAiQDaU9zw2lPc9XkOLPjaU9z7Ka0E/XkOLP3iNvT82lPc/zPO3PMzztz1G8k4+zPO3Pna2Dz9G8k4/qNaMP8zztz9JbI48SWyOPdI5ID5JbI4+M4nePtI5ID/PFVo/SWyOPwAAgDwAAIA9AAAQPgAAgD4AAMg+AAAQPwAARD8AAIA/SGyOPEhsjj3SOSA+SGyOPjKJ3j7SOSA/zhVaP0hsjj/K87c8yvO3PUTyTj7K87c+dbYPP0TyTj+n1ow/yvO3PziU9zw4lPc9YEOLPjiU9z7Ma0E/YEOLP3uNvT84lPc/dtAiPXbQIj6EKrc+dtAiP7hlfj+EKrc/NU/5P3bQIkD2V0w99ldMPvfi5T72V0w/uaSfP/fi5T9YcxxA9ldMQFFecz1RXnM+DeUIP1Fecz+uIb4/DeUIQDVUOkBRXnNAQ5eJPUOXiT4syho/Q5eJP1j81j8syhpAoK9SQEOXiUAj+ZM9I/mTPkl4Jj8j+ZM/STXnP0l4JkB+lWJAI/mTQDaUlz02lJc+vYYqPzaUlz+U1+w/vYYqQPMaaEA2lJdAI/mTPSP5kz5JeCY/I/mTP0k15z9JeCZAfpViQCP5k0BDl4k9Q5eJPizKGj9Dl4k/WPzWPyzKGkCgr1JAQ5eJQFJecz1SXnM+DuUIP1Jecz+wIb4/DuUIQDdUOkBSXnNA+VdMPflXTD724uU++VdMP7uknz/24uU/WnMcQPlXTEBz0CI9c9AiPoIqtz5z0CI/tGV+P4Iqtz8xT/k/c9AiQDKU9zwylPc9XUOLPjKU9z7Ia0E/XUOLP3eNvT8ylPc/yPO3PMjztz1E8k4+yPO3PnS2Dz9E8k4/ptaMP8jztz9JbI48SWyOPdI5ID5JbI4+MYnePtI5ID/OFVo/SWyOPwAAgDwAAIA9AAAQPgAAgD4AAMg+AAAQPwAARD8AAIA/SGyOPEhsjj3SOSA+SGyOPjKJ3j7SOSA/zhVaP0hsjj/I87c8yPO3PUTyTj7I87c+dLYPP0TyTj+m1ow/yPO3PzKU9zwylPc9XUOLPjKU9z7Ia0E/XUOLP3eNvT8ylPc/c9AiPXPQIj6CKrc+c9AiP7Rlfj+CKrc/MU/5P3PQIkD0V0w99FdMPvLi5T70V0w/t6SfP/Li5T9XcxxA9FdMQFBecz1QXnM+C+UIP1Becz+vIb4/C+UIQDVUOkBQXnNAQpeJPUKXiT4syho/QpeJP1j81j8syhpAnq9SQEKXiUAk+ZM9JPmTPkl4Jj8k+ZM/SDXnP0l4JkB+lWJAJPmTQA==",
        "encoding": "base64",
        "path": [
         "attribute",
         "1.5789473684210527",
         "data"
        ]
       },
       {
        "data": "AAAAACivoT0or6E+DeU1PyivoT+uofw/DeU1QDWUd0Aor6FAFMadPRTGnT7WfjE/FMadP4GF9j/WfjFATZdxQBTGnUCXg5I9l4OSPgzUJD+Xg5I/nO3kPwzUJECAWWBAl4OSQF5DgT1eQ4E+yWsRP15DgT9C+ck/yWsRQCfvRUBeQ4FAIDRYPSA0WD6lOvM+IDRYP7roqD+lOvM/6IclQCA0WEAuKis9LiorPnSPwD4uKis/9LiFP3SPwD9LDANALiorQJTXAD2U1wA+hvKQPpTXAD/WUEk/hvKQPxpKxT+U1wBAQa68PEGuvD0KRFQ+Qa68PiNoEz8KRFQ/anWQP0GuvD9PpI88T6SPPdmYIT5PpI8+vXDgPtmYIT+Z81s/T6SPPwAAgDwAAIA9AAAQPgAAgD4AAMg+AAAQPwAARD8AAIA/T6SPPE+kjz3ZmCE+T6SPPrxw4D7ZmCE/mPNbP0+kjz9Arrw8QK68PQlEVD5Arrw+IWgTPwlEVD9pdZA/QK68P5bXAD2W1wA+iPKQPpbXAD/YUEk/iPKQPxxKxT+W1wBAMCorPTAqKz52j8A+MCorP/a4hT92j8A/TQwDQDAqK0AgNFg9IDRYPqY68z4gNFg/uuioP6Y68z/ohyVAIDRYQF5DgT1eQ4E+yWsRP15DgT9C+ck/yWsRQCfvRUBeQ4FAl4OSPZeDkj4M1CQ/l4OSP5zt5D8M1CRAgVlgQJeDkkAUxp09FMadPtd+MT8Uxp0/gYX2P9d+MUBOl3FAFMadQCivoT0or6E+DeU1PyivoT+uofw/DeU1QDWUd0Aor6FAFMadPRTGnT7XfjE/FMadP4GF9j/XfjFATpdxQBTGnUCXg5I9l4OSPgzUJD+Xg5I/nO3kPwzUJECBWWBAl4OSQF5DgT1eQ4E+ymsRP15DgT9E+ck/ymsRQCnvRUBeQ4FAIzRYPSM0WD6lOvM+IzRYP7zoqD+lOvM/6oclQCM0WEAtKis9LSorPnOPwD4tKis/87iFP3OPwD9LDANALSorQJLXAD2S1wA+hfKQPpLXAD/UUEk/hfKQPxhKxT+S1wBAPq68PD6uvD0IRFQ+Pq68PiBoEz8IRFQ/aHWQPz6uvD9PpI88T6SPPdmYIT5PpI8+u3DgPtmYIT+Y81s/T6SPPwAAgDwAAIA9AAAQPgAAgD4AAMg+AAAQPwAARD8AAIA/TqSPPE6kjz3YmCE+TqSPPrtw4D7YmCE/mPNbP06kjz8+rrw8Pq68PQhEVD4+rrw+IGgTPwhEVD9odZA/Pq68P5LXAD2S1wA+hfKQPpLXAD/UUEk/hfKQPxhKxT+S1wBALSorPS0qKz5zj8A+LSorP/O4hT9zj8A/SwwDQC0qK0AdNFg9HTRYPqI68z4dNFg/t+ioP6I68z/nhyVAHTRYQF1DgT1dQ4E+x2sRP11DgT9D+ck/x2sRQCbvRUBdQ4FAmIOSPZiDkj4L1CQ/mIOSP5zt5D8L1CRAgFlgQJiDkkAVxp09FcadPtd+MT8Vxp0/gIX2P9d+MUBOl3FAFcadQA==",
        "encoding": "base64",
        "path": [
         "attribute",
         "1.6842105263157894",
         "data"
        ]
       },
       {
        "data": "AAAAABvKqz0byqs+XkNBPxvKqz/lNQZAXkNBQL2Gg0AbyqtABZOnPQWTpz5mhTw/BZOnP93qAkBmhTxAkEyAQAWTp0Dtb5s97W+bPuzdLj/tb5s/4t7yP+zdLkBkA25A7W+bQJTXiD2U14g+hvIZP5TXiD/W0NU/hvIZQBqKUUCU14hASxBkPUsQZD4rSQA/SxBkP7sssj8rSQBAeZwuQEsQZEDqgzM96oMzPmb0yT7qgzM/Dj+MP2b0yT/+cAlA6oMzQA3lBT0N5QU+r6GWPg3lBT/kNVE/r6GWP7wGzT8N5QVAuGjBPLhowT3QlVk+uGjBPs8ZFz/QlVk/LRSUP7howT9V3JA8VdyQPeD3Ij5V3JA+RljiPuD3Ij9i0V0/VdyQPwAAgDwAAIA9AAAQPgAAgD4AAMg+AAAQPwAARD8AAIA/VdyQPFXckD3g9yI+VdyQPkZY4j7g9yI/YdFdP1XckD+2aME8tmjBPc6VWT62aME+zhkXP86VWT8sFJQ/tmjBPw/lBT0P5QU+saGWPg/lBT/mNVE/saGWP74GzT8P5QVA6oMzPeqDMz5o9Mk+6oMzPxA/jD9o9Mk/AHEJQOqDM0BMEGQ9TBBkPitJAD9MEGQ/uyyyPytJAEB5nC5ATBBkQJTXiD2U14g+hvIZP5TXiD/W0NU/hvIZQBqKUUCU14hA7W+bPe1vmz7s3S4/7W+bP+Le8j/s3S5AZANuQO1vm0AFk6c9BZOnPmeFPD8Fk6c/3eoCQGeFPECQTIBABZOnQBvKqz0byqs+XkNBPxvKqz/lNQZAXkNBQL2Gg0AbyqtABZOnPQWTpz5nhTw/BZOnP93qAkBnhTxAkEyAQAWTp0Dtb5s97W+bPuzdLj/tb5s/4t7yP+zdLkBkA25A7W+bQJXXiD2V14g+h/IZP5XXiD/Z0NU/h/IZQByKUUCV14hAThBkPU4QZD4rSQA/ThBkP74ssj8rSQBAe5wuQE4QZEDogzM96IMzPmX0yT7ogzM/DT+MP2X0yT/+cAlA6IMzQAzlBT0M5QU+raGWPgzlBT/iNVE/raGWP7oGzT8M5QVAtGjBPLRowT3NlVk+tGjBPs0ZFz/NlVk/KxSUP7RowT9V3JA8VdyQPeD3Ij5V3JA+RFjiPuD3Ij9h0V0/VdyQPwAAgDwAAIA9AAAQPgAAgD4AAMg+AAAQPwAARD8AAIA/VNyQPFTckD3f9yI+VNyQPkVY4j7f9yI/YdFdP1TckD+0aME8tGjBPc2VWT60aME+zRkXP82VWT8rFJQ/tGjBPwzlBT0M5QU+raGWPgzlBT/iNVE/raGWP7oGzT8M5QVA6IMzPeiDMz5l9Mk+6IMzPw0/jD9l9Mk//nAJQOiDM0BIEGQ9SBBkPilJAD9IEGQ/uSyyPylJAEB4nC5ASBBkQJPXiD2T14g+hPIZP5PXiD/X0NU/hPIZQBmKUUCT14hA7G+bPexvmz7r3S4/7G+bP+Le8j/r3S5AYgNuQOxvm0AGk6c9BpOnPmeFPD8Gk6c/3eoCQGeFPECQTIBABpOnQA==",
        "encoding": "base64",
        "path": [
         "attribute",
         "1.789473684210526",
         "data"
        ]
       },
       {
        "data": "AAAAAA3ltT0N5bU+r6FMPw3ltT/yGg5Ar6FMQF5Di0AN5bVA9l+xPfZfsT70i0c/9l+xP/mSCkD0i0dAeM2HQPZfsUBBXKQ9QVykPsvnOD9BXKQ/E2gAQMvnOEBErXtAQVykQMprkD3Ka5A+QnkiP8prkD9qqOE/QnkiQAwlXUDKa5BAdexvPXXsbz4D9QY/dexvP7xwuz8D9QZACbE3QHXsb0Ck3Ts9pN07PlhZ0z6k3Ts/J8WSP1hZ0z+x1Q9ApN07QIbyCj2G8go+11CcPobyCj/yGlk/11CcP17D1D+G8gpALiPGPC4jxj2U514+LiPGPnzLGj+U514/8LKXPy4jxj9bFJI8WxSSPedWJD5bFJI+0D/kPudWJD8sr18/WxSSPwAAgDwAAIA9AAAQPgAAgD4AAMg+AAAQPwAARD8AAIA/WxSSPFsUkj3nViQ+WxSSPs8/5D7nViQ/K69fP1sUkj8sI8Y8LCPGPZLnXj4sI8Y+essaP5LnXj/uspc/LCPGP4jyCj2I8go+2VCcPojyCj/0Glk/2VCcP2DD1D+I8gpApN07PaTdOz5YWdM+pN07PynFkj9YWdM/stUPQKTdO0B27G89duxvPgP1Bj927G8/vHC7PwP1BkAJsTdAduxvQMprkD3Ka5A+QnkiP8prkD9qqOE/QnkiQAwlXUDKa5BAQVykPUFcpD7L5zg/QVykPxNoAEDL5zhARa17QEFcpED2X7E99l+xPvWLRz/2X7E/+ZIKQPWLR0B4zYdA9l+xQA3ltT0N5bU+r6FMPw3ltT/yGg5Ar6FMQF5Di0AN5bVA9l+xPfZfsT71i0c/9l+xP/mSCkD1i0dAeM2HQPZfsUBBXKQ9QVykPsvnOD9BXKQ/E2gAQMvnOEBFrXtAQVykQMprkD3Ka5A+RHkiP8prkD9tqOE/RHkiQA4lXUDKa5BAeOxvPXjsbz4D9QY/eOxvP79wuz8D9QZAC7E3QHjsb0Ch3Ts9od07PldZ0z6h3Ts/JsWSP1dZ0z+w1Q9Aod07QIXyCj2F8go+1VCcPoXyCj/wGlk/1VCcP1rD1D+F8gpAKiPGPCojxj2S514+KiPGPnnLGj+S514/7bKXPyojxj9bFJI8WxSSPedWJD5bFJI+zj/kPudWJD8qr18/WxSSPwAAgDwAAIA9AAAQPgAAgD4AAMg+AAAQPwAARD8AAIA/WhSSPFoUkj3mViQ+WhSSPs4/5D7mViQ/Kq9fP1oUkj8qI8Y8KiPGPZLnXj4qI8Y+ecsaP5LnXj/tspc/KiPGP4XyCj2F8go+1VCcPoXyCj/wGlk/1VCcP1rD1D+F8gpAod07PaHdOz5XWdM+od07PybFkj9XWdM/sNUPQKHdO0By7G89cuxvPgD1Bj9y7G8/uXC7PwD1BkAIsTdAcuxvQMhrkD3Ia5A+QHkiP8hrkD9rqOE/QHkiQAslXUDIa5BAQFykPUBcpD7K5zg/QFykPxNoAEDK5zhARK17QEBcpED3X7E991+xPvaLRz/3X7E/+ZIKQPaLR0B5zYdA91+xQA==",
        "encoding": "base64",
        "path": [
         "attribute",
         "1.894736842105263",
         "data"
        ]
       },
       {
        "data": "AAAAAAAAwD0AAMA+AABYPwAAwD8AABZAAABYQAAAk0AAAMBA5yy7Pecsuz6EklI/5yy7PxY7EkCEklJAYU6PQOcsu0CWSK09lkitPqvxQj+WSK0/tWAHQKvxQkCTq4RAlkitQAAAmD0AAJg+//8qPwAAmD/+f+0///8qQP6/aEAAAJhAoMh7PaDIez7boA0/oMh7P760xD/boA1AmsVAQKDIe0BeN0Q9XjdEPkq+3D5eN0Q/QUuZP0q+3D9kOhZAXjdEQP//Dz3//w8+//+hPv//Dz/+/2A///+hP/5/3D///w9ApN3KPKTdyj1ZOWQ+pN3KPih9Hj9ZOWQ/slGbP6Tdyj9iTJM8YkyTPe61JT5iTJM+WifmPu61JT/1jGE/YkyTPwAAgDwAAIA9AAAQPgAAgD4AAMg+AAAQPwAARD8AAIA/YUyTPGFMkz3utSU+YUyTPlkn5j7utSU/9IxhP2FMkz+i3co8ot3KPVg5ZD6i3co+Jn0eP1g5ZD+wUZs/ot3KPwIAED0CABA+AgCiPgIAED8CAGE/AgCiPwKA3D8CABBAYDdEPWA3RD5Mvtw+YDdEP0NLmT9Mvtw/ZjoWQGA3RECgyHs9oMh7PtugDT+gyHs/vrTEP9ugDUCaxUBAoMh7QAAAmD0AAJg+//8qPwAAmD/+f+0///8qQP6/aEAAAJhAlkitPZZIrT6r8UI/lkitP7VgB0Cr8UJAk6uEQJZIrUDnLLs95yy7PoWSUj/nLLs/FjsSQIWSUkBhTo9A5yy7QAAAwD0AAMA+AABYPwAAwD8AABZAAABYQAAAk0AAAMBA5yy7Pecsuz6FklI/5yy7PxY7EkCFklJAYU6PQOcsu0CWSK09lkitPqvxQj+WSK0/tWAHQKvxQkCTq4RAlkitQAEAmD0BAJg+AQArPwEAmD8CgO0/AQArQALAaEABAJhAo8h7PaPIez7boA0/o8h7P8G0xD/boA1AncVAQKPIe0BcN0Q9XDdEPkm+3D5cN0Q/QEuZP0m+3D9kOhZAXDdEQP7/Dz3+/w8+/v+hPv7/Dz/8/2A//v+hP/x/3D/+/w9AoN3KPKDdyj1WOWQ+oN3KPiV9Hj9WOWQ/sFGbP6Ddyj9hTJM8YUyTPe61JT5hTJM+VyfmPu61JT/0jGE/YUyTPwAAgDwAAIA9AAAQPgAAgD4AAMg+AAAQPwAARD8AAIA/YUyTPGFMkz3ttSU+YUyTPlgn5j7ttSU/9IxhP2FMkz+g3co8oN3KPVY5ZD6g3co+JX0eP1Y5ZD+wUZs/oN3KP/7/Dz3+/w8+/v+hPv7/Dz/8/2A//v+hP/x/3D/+/w9AXDdEPVw3RD5Jvtw+XDdEP0BLmT9Jvtw/ZDoWQFw3RECcyHs9nMh7PtigDT+cyHs/u7TEP9igDUCZxUBAnMh7QP7/lz3+/5c+/f8qP/7/lz//f+0//f8qQP6/aED+/5dAlkitPZZIrT6q8UI/lkitP7ZgB0Cq8UJAlKuEQJZIrUDpLLs96Sy7PoWSUj/pLLs/FjsSQIWSUkBiTo9A6Sy7QA==",
        "encoding": "base64",
        "path": [
         "attribute",
         "2.0",
         "data"
        ]
       },
       {
        "data": "AACAvwAAAAAAAAAAAAAQP3YcR78AAAAAAAAAAAAAgD+ZKIq+AAAAAAAAgD8AAIA/GAiCvAAAAD8AAIA/AAAAPy3Pcz4AAIA/AACAPwAAAAD0+z4/AACAPwAAAAAAAAAAAACAPwAAAD8AAAAAAAAAAA==",
        "encoding": "base64",
        "path": [
         "color_map",
         "data"
        ]
       },
       {
        "data": "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",
        "encoding": "base64",
        "path": [
         "indices",
         "data"
        ]
       },
       {
        "data": "AACAPwAAAAAAAAAAAAAAAAAAAAAAAIA/AAAAAAAAAAAAAAAAAAAAAAAAgD8AAAAAAAAAAAAAAAAAAAAAAACAPw==",
        "encoding": "base64",
        "path": [
         "model_matrix",
         "data"
        ]
       },
       {
        "data": "",
        "encoding": "base64",
        "path": [
         "opacity_function",
         "data"
        ]
       },
       {
        "data": "AADAfw==",
        "encoding": "base64",
        "path": [
         "uvs",
         "data"
        ]
       },
       {
        "data": "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",
        "encoding": "base64",
        "path": [
         "vertices",
         "data"
        ]
       },
       {
        "data": "",
        "encoding": "base64",
        "path": [
         "volume",
         "data"
        ]
       },
       {
        "data": "",
        "encoding": "base64",
        "path": [
         "volume_bounds",
         "data"
        ]
       }
      ],
      "model_module": "k3d",
      "model_module_version": "2.9.0",
      "model_name": "ObjectModel",
      "state": {
       "_color_range_high": 2.01,
       "_color_range_low": -1.1,
       "_view_count": null,
       "_view_module": null,
       "_view_module_version": "",
       "_view_name": null,
       "attribute": {
        "0.0": {
         "dtype": "float32",
         "shape": [
          289
         ]
        },
        "0.10526315789473684": {
         "dtype": "float32",
         "shape": [
          289
         ]
        },
        "0.21052631578947367": {
         "dtype": "float32",
         "shape": [
          289
         ]
        },
        "0.3157894736842105": {
         "dtype": "float32",
         "shape": [
          289
         ]
        },
        "0.42105263157894735": {
         "dtype": "float32",
         "shape": [
          289
         ]
        },
        "0.5263157894736842": {
         "dtype": "float32",
         "shape": [
          289
         ]
        },
        "0.631578947368421": {
         "dtype": "float32",
         "shape": [
          289
         ]
        },
        "0.7368421052631579": {
         "dtype": "float32",
         "shape": [
          289
         ]
        },
        "0.8421052631578947": {
         "dtype": "float32",
         "shape": [
          289
         ]
        },
        "0.9473684210526315": {
         "dtype": "float32",
         "shape": [
          289
         ]
        },
        "1.0526315789473684": {
         "dtype": "float32",
         "shape": [
          289
         ]
        },
        "1.1578947368421053": {
         "dtype": "float32",
         "shape": [
          289
         ]
        },
        "1.263157894736842": {
         "dtype": "float32",
         "shape": [
          289
         ]
        },
        "1.3684210526315788": {
         "dtype": "float32",
         "shape": [
          289
         ]
        },
        "1.4736842105263157": {
         "dtype": "float32",
         "shape": [
          289
         ]
        },
        "1.5789473684210527": {
         "dtype": "float32",
         "shape": [
          289
         ]
        },
        "1.6842105263157894": {
         "dtype": "float32",
         "shape": [
          289
         ]
        },
        "1.789473684210526": {
         "dtype": "float32",
         "shape": [
          289
         ]
        },
        "1.894736842105263": {
         "dtype": "float32",
         "shape": [
          289
         ]
        },
        "2.0": {
         "dtype": "float32",
         "shape": [
          289
         ]
        },
        "timeSeries": true
       },
       "click_callback": false,
       "color": 255,
       "colorLegend": false,
       "color_map": {
        "dtype": "float32",
        "shape": [
         28
        ]
       },
       "color_range": [
        -1.1,
        2.01
       ],
       "compression_level": 0,
       "flat_shading": true,
       "hover_callback": false,
       "id": 4592812432,
       "indices": {
        "dtype": "uint32",
        "shape": [
         540,
         3
        ]
       },
       "model_matrix": {
        "dtype": "float32",
        "shape": [
         4,
         4
        ]
       },
       "name": "Mesh #1",
       "opacity": 1,
       "opacity_function": {
        "dtype": "float32",
        "shape": [
         0
        ]
       },
       "side": "front",
       "texture": null,
       "texture_file_format": null,
       "type": "Mesh",
       "uvs": {
        "dtype": "float32",
        "shape": []
       },
       "vertices": {
        "dtype": "float32",
        "shape": [
         289,
         3
        ]
       },
       "visible": true,
       "volume": {
        "dtype": "float32",
        "shape": [
         0
        ]
       },
       "volume_bounds": {
        "dtype": "float32",
        "shape": [
         0
        ]
       },
       "wireframe": false
      }
     },
     "a3b7d57de901485a8128574e8ad89688": {
      "model_module": "@jupyter-widgets/base",
      "model_module_version": "1.2.0",
      "model_name": "LayoutModel",
      "state": {}
     },
     "aa8a7a2dec0c4b928b313f0142c30b6d": {
      "model_module": "k3d",
      "model_module_version": "2.9.0",
      "model_name": "PlotModel",
      "state": {
       "_backend_version": "2.9.0",
       "_dom_classes": [],
       "_view_count": null,
       "antialias": 3,
       "auto_rendering": true,
       "axes": [
        "x",
        "y",
        "z"
       ],
       "axes_helper": 1,
       "background_color": 16777215,
       "camera": [
        2.477592547151882,
        -3.716388820727823,
        0.2477592547151923,
        0,
        0,
        0,
        0,
        0,
        1
       ],
       "camera_animation": [],
       "camera_auto_fit": true,
       "camera_fov": 60,
       "camera_mode": "trackball",
       "camera_no_pan": false,
       "camera_no_rotate": false,
       "camera_no_zoom": false,
       "clipping_planes": [],
       "colorbar_object_id": -1,
       "colorbar_scientific": false,
       "fps": 25,
       "fps_meter": false,
       "grid": [
        -1,
        -1,
        -1,
        1,
        1,
        1
       ],
       "grid_auto_fit": true,
       "grid_visible": true,
       "height": 512,
       "layout": "IPY_MODEL_34b62bc531294be8bbe6819d7abcaf15",
       "lighting": 1.5,
       "manipulate_mode": "translate",
       "menu_visibility": true,
       "mode": "view",
       "name": null,
       "object_ids": [
        4592812432
       ],
       "rendering_steps": 1,
       "screenshot": "",
       "screenshot_scale": 2,
       "snapshot": "",
       "snapshot_include_js": true,
       "time": 0,
       "voxel_paint_color": 0
      }
     },
     "d3872c2a2a7e4a65a32c6ab027d17f34": {
      "buffers": [
       {
        "data": "AAAAAAAAAAAAAAAAAAAAAAAAAAAAAAAAAAAAAAAAAAAAAAAA3wT3Od8E9zq98oo73wT3O877QDy98oo8vB+9PN8E9zwKku86CpLvOyXChjwKku88GCo7PSXChj3Qa7c9CpLvPQAAgDsAAIA8AAAQPQAAgD0AAMg9AAAQPgAARD4AAIA+yovTO8qL0zxD/W09yovTPTVFJT5D/W0+B/ehPsqL0z4aOhY8GjoWPV4BqT0aOhY+ybpqPl4BqT73COY+GjoWPwEAQDwBAEA9AQDYPQEAQD4BAJY+AQDYPgEAEz8BAEA/vg1iPL4NYj14T/49vg1iPryasD54T/4+hhItP74NYj/YR3g82Ed4PWqoCz7YR3g+IvjBPmqoCz8BFz4/2Ed4PwAAgDwAAIA9AAAQPgAAgD4AAMg+AAAQPwAARD8AAIA/2Ed4PNhHeD1qqAs+2Ed4PiL4wT5qqAs/ARc+P9hHeD++DWI8vg1iPXhP/j2+DWI+vJqwPnhP/j6GEi0/vg1iPwAAQDwAAEA9///XPQAAQD7//5U+///XPv//Ej8AAEA/GjoWPBo6Fj1eAak9GjoWPsm6aj5eAak+9wjmPho6Fj/Mi9M7zIvTPEX9bT3Mi9M9OEUlPkX9bT4J96E+zIvTPgIAgDsCAIA8AwAQPQIAgD0DAMg9AwAQPgQARD4CAIA+EpLvOhKS7zspwoY8EpLvPB8qOz0pwoY91Wu3PRKS7z3yBPc58gT3OsjyijvyBPc73vtAPMjyijzLH7088gT3PO2tCSXtrQkmquOaJu2tCSfDH1cnquOaJ1LS0iftrQko6gT3OeoE9zrE8oo76gT3O9f7QDzE8oo8wx+9POoE9zwNku86DZLvOyfChjwNku88Gio7PSfChj3Ta7c9DZLvPf7/fzv+/388//8PPf7/fz3+/8c9//8PPv7/Qz7+/38+yovTO8qL0zxD/W09yovTPTVFJT5D/W0+B/ehPsqL0z4dOhY8HToWPWEBqT0dOhY+zrpqPmEBqT79COY+HToWPwEAQDwBAEA9AQDYPQEAQD4BAJY+AQDYPgEAEz8BAEA/vg1iPL4NYj14T/49vg1iPryasD54T/4+hhItP74NYj/aR3g82kd4PWuoCz7aR3g+IvjBPmuoCz8CFz4/2kd4PwAAgDwAAIA9AAAQPgAAgD4AAMg+AAAQPwAARD8AAIA/2Ed4PNhHeD1qqAs+2Ed4PiL4wT5qqAs/ARc+P9hHeD++DWI8vg1iPXhP/j2+DWI+vJqwPnhP/j6GEi0/vg1iPwEAQDwBAEA9AQDYPQEAQD4BAJY+AQDYPgEAEz8BAEA/HToWPB06Fj1hAak9HToWPs66aj5hAak+/QjmPh06Fj/Ri9M70YvTPEz9bT3Ri9M9O0UlPkz9bT4L96E+0YvTPgYAgDsGAIA8BgAQPQYAgD0KAMg9BgAQPgkARD4GAIA+IJLvOiCS7zsxwoY8IJLvPCkqOz0xwoY94Wu3PSCS7z24BPc5uAT3Oqfyiju4BPc7sftAPKfyijycH708uAT3PA==",
        "encoding": "base64",
        "path": [
         "attribute",
         "0.0",
         "data"
        ]
       },
       {
        "data": "AAAAACivoTsor6E8DeU1PSivoT2uofw9DeU1PjWUdz4or6E+XT+sO10/rDxJx0E9XT+sPYGRBj5Jx0E+g+CDPl0/rD7Sqco70qnKPA7/Yz3Sqco9rFQePg7/Yz4FKps+0qnKPl5D+TteQ/k85DWMPV5D+T2hvEI+5DWMPpTXvj5eQ/k+jzYZPI82GT1hXaw9jzYZPj5lbz5hXaw+ipvqPo82GT8EoTc8BKE3PSWVzj0EoTc+y3WPPiWVzj5Hlww/BKE3P+Y1VDzmNVQ9orzuPeY1VD4cyqU+orzuPkR5Ij/mNVQ/qoJrPKqCaz2BeQQ+qoJrPhX+tz6BeQQ/C1A0P6qCaz/kt3o85Ld6PXEHDT7kt3o+rN/DPnEHDT/K9D8/5Ld6PwAAgDwAAIA9AAAQPgAAgD4AAMg+AAAQPwAARD8AAIA/5Ld6POS3ej1xBw0+5Ld6Pqzfwz5xBw0/yvQ/P+S3ej+qgms8qoJrPYF5BD6qgms+FP63PoF5BD8LUDQ/qoJrP+U1VDzlNVQ9obzuPeU1VD4ayqU+obzuPkN5Ij/lNVQ/BKE3PAShNz0mlc49BKE3Psx1jz4mlc4+R5cMPwShNz+QNhk8kDYZPWJdrD2QNhk+QmVvPmJdrD6Mm+o+kDYZP2BD+TtgQ/k85jWMPWBD+T2ivEI+5jWMPpbXvj5gQ/k+1KnKO9SpyjwQ/2M91KnKPa1UHj4Q/2M+BiqbPtSpyj5eP6w7Xj+sPErHQT1eP6w9gpEGPkrHQT6E4IM+Xj+sPiivoTsor6E8DeU1PSivoT2uofw9DeU1PjWUdz4or6E+Xj+sO14/rDxKx0E9Xj+sPYKRBj5Kx0E+g+CDPl4/rD7Sqco70qnKPA7/Yz3Sqco9rFQePg7/Yz4GKps+0qnKPl5D+TteQ/k85DWMPV5D+T2hvEI+5DWMPpTXvj5eQ/k+kDYZPJA2GT1hXaw9kDYZPkBlbz5hXaw+jJvqPpA2GT8GoTc8BqE3PSiVzj0GoTc+zXWPPiiVzj5Jlww/BqE3P+Y1VDzmNVQ9orzuPeY1VD4cyqU+orzuPkR5Ij/mNVQ/qoJrPKqCaz2BeQQ+qoJrPhT+tz6BeQQ/C1A0P6qCaz/mt3o85rd6PXIHDT7mt3o+rN/DPnIHDT/L9D8/5rd6PwAAgDwAAIA9AAAQPgAAgD4AAMg+AAAQPwAARD8AAIA/5Ld6POS3ej1xBw0+5Ld6Pqzfwz5xBw0/yvQ/P+S3ej+qgms8qoJrPYF5BD6qgms+FP63PoF5BD8LUDQ/qoJrP+Y1VDzmNVQ9orzuPeY1VD4cyqU+orzuPkR5Ij/mNVQ/BqE3PAahNz0olc49BqE3Ps11jz4olc4+SZcMPwahNz+RNhk8kTYZPWRdrD2RNhk+Q2VvPmRdrD6Om+o+kTYZP2JD+TtiQ/k85jWMPWJD+T2mvEI+5jWMPpfXvj5iQ/k+16nKO9epyjwS/2M916nKPbBUHj4S/2M+CSqbPtepyj5cP6w7XD+sPEfHQT1cP6w9gJEGPkfHQT6B4IM+XD+sPg==",
        "encoding": "base64",
        "path": [
         "attribute",
         "0.10526315789473684",
         "data"
        ]
       },
       {
        "data": "AAAAACivITworyE9DeW1PSivIT6uoXw+DeW1PjWU9z4oryE/NockPDaHJD0dGLk9NockPqOJgD4dGLk+Cu/7PjaHJD+Qtyw8kLcsPYROwj2Qtyw+aO+GPoROwj6LPAQ/kLcsP15DOTxeQzk9yWvQPV5DOT6hvJA+yWvQPpTXDT9eQzk/OKdIPDinSD0gvOE9OKdIPqTCnD4gvOE+B6AZPzinSD/uB1k87gdZPewo9D3uB1k+Mo6pPuwo9D4SKiY/7gdZP8traDzLa2g9orwCPstraD42lLU+orwCP4fyMT/La2g/lvd0PJb3dD1Gywk+lvd0Pm1hvz5Gywk/kI07P5b3dD/xJ3088Sd9PXhmDj7xJ30+NcfFPnhmDj+U0kE/8Sd9PwAAgDwAAIA9AAAQPgAAgD4AAMg+AAAQPwAARD8AAIA/8Sd9PPEnfT14Zg4+8Sd9PjXHxT54Zg4/lNJBP/EnfT+W93Q8lvd0PUbLCT6W93Q+bWG/PkbLCT+QjTs/lvd0P8traDzLa2g9orwCPstraD41lLU+orwCP4byMT/La2g/7gdZPO4HWT3tKPQ97gdZPjOOqT7tKPQ+EiomP+4HWT86p0g8OqdIPSG84T06p0g+psKcPiG84T4IoBk/OqdIP19DOTxfQzk9ymvQPV9DOT6ivJA+ymvQPpTXDT9fQzk/kbcsPJG3LD2FTsI9kbcsPmnvhj6FTsI+jDwEP5G3LD83hyQ8N4ckPR4YuT03hyQ+o4mAPh4YuT4L7/s+N4ckPyivITworyE9DeW1PSivIT6uoXw+DeW1PjWU9z4oryE/NockPDaHJD0dGLk9NockPqOJgD4dGLk+Cu/7PjaHJD+Rtyw8kbcsPYVOwj2Rtyw+ae+GPoVOwj6LPAQ/kbcsP15DOTxeQzk9ymvQPV5DOT6ivJA+ymvQPpTXDT9eQzk/OqdIPDqnSD0gvOE9OqdIPqXCnD4gvOE+CKAZPzqnSD/wB1k88AdZPe4o9D3wB1k+NI6pPu4o9D4UKiY/8AdZP8praDzKa2g9orwCPspraD42lLU+orwCP4fyMT/Ka2g/lvd0PJb3dD1Gywk+lvd0Pm1hvz5Gywk/j407P5b3dD/yJ3088id9PXlmDj7yJ30+NcfFPnlmDj+V0kE/8id9PwAAgDwAAIA9AAAQPgAAgD4AAMg+AAAQPwAARD8AAIA/8Sd9PPEnfT14Zg4+8Sd9PjXHxT54Zg4/lNJBP/EnfT+W93Q8lvd0PUbLCT6W93Q+bWG/PkbLCT+PjTs/lvd0P8praDzKa2g9orwCPspraD42lLU+orwCP4fyMT/Ka2g/8AdZPPAHWT3uKPQ98AdZPjSOqT7uKPQ+FComP/AHWT86p0g8OqdIPSK84T06p0g+psKcPiK84T4IoBk/OqdIP2BDOTxgQzk9ymvQPWBDOT6kvJA+ymvQPpXXDT9gQzk/k7csPJO3LD2FTsI9k7csPmvvhj6FTsI+jTwEP5O3LD82hyQ8NockPRwYuT02hyQ+oomAPhwYuT4J7/s+NockPw==",
        "encoding": "base64",
        "path": [
         "attribute",
         "0.21052631578947367",
         "data"
        ]
       },
       {
        "data": "AAAAAL2Gcjy9hnI9ymsIPr2Gcj5Eeb0+ymsIPymvOT+9hnI/vu5yPL7ucj1Lpgg+vu5yPoXKvT5Lpgg/yf45P77ucj85GnQ8ORp0PcFOCT45GnQ+fLS+PsFOCT8U5Do/ORp0Pw7ldTwO5XU92FAKPg7ldT7yGsA+2FAKP15DPD8O5XU/4xd4POMXeD1wjQs+4xd4PqnSwT5wjQs/SvI9P+MXeD/Ybno82G56PVreDD7Ybno+mKbDPlreDD/dvD8/2G56P7ChfDywoXw98xoOPrChfD5SXsU+8xoOP8trQT+woXw/g2x+PINsfj0LHQ8+g2x+PsbExj4LHQ8/FctCP4Nsfj/9l388/Zd/PX/FDz79l38+v67HPn/FDz9dsEM//Zd/PwAAgDwAAIA9AAAQPgAAgD4AAMg+AAAQPwAARD8AAIA//Zd/PP2Xfz1/xQ8+/Zd/Pr+uxz5/xQ8/XbBDP/2Xfz+CbH48gmx+PQodDz6CbH4+xcTGPgodDz8Uy0I/gmx+P7ChfDywoXw98xoOPrChfD5QXsU+8xoOP8prQT+woXw/2W56PNluej1a3gw+2W56Ppqmwz5a3gw/3rw/P9luej/kF3g85Bd4PXCNCz7kF3g+qtLBPnCNCz9K8j0/5Bd4Pw/ldTwP5XU92FAKPg/ldT7zGsA+2FAKP19DPD8P5XU/Ohp0PDoadD3CTgk+Ohp0Pn20vj7CTgk/FeQ6PzoadD+/7nI8v+5yPUumCD6/7nI+hsq9PkumCD/J/jk/v+5yP72Gcjy9hnI9ymsIPr2Gcj5Eeb0+ymsIPymvOT+9hnI/vu5yPL7ucj1Lpgg+vu5yPobKvT5Lpgg/yf45P77ucj86GnQ8Ohp0PcFOCT46GnQ+fLS+PsFOCT8U5Do/Ohp0Pw7ldTwO5XU92FAKPg7ldT70GsA+2FAKP15DPD8O5XU/5Rd4POUXeD1wjQs+5Rd4PqvSwT5wjQs/S/I9P+UXeD/abno82m56PVveDD7abno+mqbDPlveDD/gvD8/2m56P6+hfDyvoXw98hoOPq+hfD5RXsU+8hoOP8prQT+voXw/gmx+PIJsfj0KHQ8+gmx+PsXExj4KHQ8/FMtCP4Jsfj//l388/5d/PYDFDz7/l38+v67HPoDFDz9esEM//5d/PwAAgDwAAIA9AAAQPgAAgD4AAMg+AAAQPwAARD8AAIA//Zd/PP2Xfz1/xQ8+/Zd/Pr+uxz5/xQ8/XbBDP/2Xfz+CbH48gmx+PQodDz6CbH4+xcTGPgodDz8Uy0I/gmx+P6+hfDyvoXw98hoOPq+hfD5RXsU+8hoOP8prQT+voXw/2m56PNpuej1b3gw+2m56Ppqmwz5b3gw/4Lw/P9puej/kF3g85Bd4PXCNCz7kF3g+qtLBPnCNCz9K8j0/5Bd4Pw/ldTwP5XU92FAKPg/ldT70GsA+2FAKP19DPD8P5XU/Oxp0PDsadD3BTgk+Oxp0Pn60vj7BTgk/FeQ6PzsadD+/7nI8v+5yPUumCD6/7nI+hcq9PkumCD/J/jk/v+5yPw==",
        "encoding": "base64",
        "path": [
         "attribute",
         "0.3157894736842105",
         "data"
        ]
       },
       {
        "data": "AAAAACivoTwor6E9DeU1PiivoT6uofw+DeU1PzWUdz8or6E/IqugPCKroD2HwDQ+IqugPmcL+z6HwDQ/DAZ2PyKroD9wvp08cL6dPUB2MT5wvp0+jnn2PkB2MT+ci3E/cL6dP15DmTxeQ5k9yWssPl5DmT5Cee8+yWssPyevaj9eQ5k/RsSTPEbEkz3PPCY+RsSTPq7i5j7PPCY/ikRiP0bEkz/h6o084eqNPT2oHz7h6o0+/77dPj2oHz+oT1k/4eqNP8priDzKa4g9RHkZPspriD5sKNU+RHkZPw7lUD/Ka4g/uPCDPLjwgz3QbhQ+uPCDPh4ozj7QbhQ/mghKP7jwgz8FBIE8BQSBPYYkET4FBIE+SZbJPoYkET8njkU/BQSBPwAAgDwAAIA9AAAQPgAAgD4AAMg+AAAQPwAARD8AAIA/BQSBPAUEgT2GJBE+BQSBPkiWyT6GJBE/J45FPwUEgT+38IM8t/CDPc9uFD638IM+HijOPs9uFD+ZCEo/t/CDP8triDzLa4g9RHkZPstriD5sKNU+RHkZPw7lUD/La4g/4uqNPOLqjT0+qB8+4uqNPgG/3T4+qB8/qk9ZP+LqjT9GxJM8RsSTPdA8Jj5GxJM+r+LmPtA8Jj+MRGI/RsSTP15DmTxeQ5k9ymssPl5DmT5Dee8+ymssPyivaj9eQ5k/cL6dPHC+nT1AdjE+cL6dPo959j5AdjE/nYtxP3C+nT8jq6A8I6ugPYfAND4jq6A+aAv7PofAND8MBnY/I6ugPyivoTwor6E9DeU1PiivoT6uofw+DeU1PzWUdz8or6E/I6ugPCOroD2HwDQ+I6ugPmgL+z6HwDQ/DAZ2PyOroD9wvp08cL6dPUB2MT5wvp0+jnn2PkB2MT+ci3E/cL6dP15DmTxeQ5k9ymssPl5DmT5Eee8+ymssPyivaj9eQ5k/SMSTPEjEkz3PPCY+SMSTPrDi5j7PPCY/jERiP0jEkz/i6o084uqNPT6oHz7i6o0+AL/dPj6oHz+qT1k/4uqNP8priDzKa4g9Q3kZPspriD5rKNU+Q3kZPw3lUD/Ka4g/t/CDPLfwgz3PbhQ+t/CDPh0ozj7PbhQ/mQhKP7fwgz8FBIE8BQSBPYYkET4FBIE+SJbJPoYkET8njkU/BQSBPwAAgDwAAIA9AAAQPgAAgD4AAMg+AAAQPwAARD8AAIA/BQSBPAUEgT2GJBE+BQSBPkiWyT6GJBE/J45FPwUEgT+38IM8t/CDPc9uFD638IM+HSjOPs9uFD+ZCEo/t/CDP8priDzKa4g9Q3kZPspriD5rKNU+Q3kZPw3lUD/Ka4g/4uqNPOLqjT0+qB8+4uqNPgC/3T4+qB8/qk9ZP+LqjT9GxJM8RsSTPc88Jj5GxJM+ruLmPs88Jj+MRGI/RsSTP15DmTxeQ5k9yGssPl5DmT5Eee8+yGssPyevaj9eQ5k/cb6dPHG+nT0/djE+cb6dPpB59j4/djE/nYtxP3G+nT8jq6A8I6ugPYfAND4jq6A+Zwv7PofAND8MBnY/I6ugPw==",
        "encoding": "base64",
        "path": [
         "attribute",
         "0.42105263157894735",
         "data"
        ]
       },
       {
        "data": "AAAAAPMayjzzGso9UV5jPvMayj4O5R0/UV5jP6K8mj/zGso/5t7HPObexz3F2mA+5t7HPiUmHD/F2mA/qQaZP+bexz/Fb8E8xW/BPb+dWT7Fb8E+Uh8XP7+dWT+TGZQ/xW/BPzaUtzw2lLc9vIZOPjaUtz7Kaw8/vIZOP3iNjD82lLc/nHyrPJx8qz0w7EA+nHyrPln5BT8w7EA/Z0uDP5x8qz9Wnp48Vp6ePSFyMj5Wnp4+Ztf3PiFyMj904nI/Vp6eP72Gkjy9hpI9lNckPr2Gkj6H8uQ+lNckP1FeYD+9hpI/LquIPC6riD2VwBk+LquIPneL1T6VwBk/H0ZRPy6riD8LPII8CzyCPY2DEj4LPII+0n3LPo2DEj/wa0c/CzyCPwAAgDwAAIA9AAAQPgAAgD4AAMg+AAAQPwAARD8AAIA/CzyCPAs8gj2NgxI+CzyCPtJ9yz6NgxI/8GtHPws8gj8tq4g8LauIPZTAGT4tq4g+dovVPpTAGT8eRlE/LauIP76Gkjy+hpI9ldckPr6Gkj6H8uQ+ldckP1JeYD++hpI/V56ePFeenj0icjI+V56ePmjX9z4icjI/duJyP1eenj+cfKs8nHyrPTDsQD6cfKs+WvkFPzDsQD9nS4M/nHyrPzaUtzw2lLc9vYZOPjaUtz7Kaw8/vYZOP3mNjD82lLc/xW/BPMVvwT2/nVk+xW/BPlIfFz+/nVk/kxmUP8VvwT/n3sc8597HPcXaYD7n3sc+JSYcP8XaYD+pBpk/597HP/MayjzzGso9UV5jPvMayj4O5R0/UV5jP6K8mj/zGso/597HPOfexz3F2mA+597HPiUmHD/F2mA/qQaZP+fexz/Fb8E8xW/BPb+dWT7Fb8E+Uh8XP7+dWT+TGZQ/xW/BPzeUtzw3lLc9voZOPjeUtz7Law8/voZOP3qNjD83lLc/nXyrPJ18qz0w7EA+nXyrPlv5BT8w7EA/aEuDP518qz9Wnp48Vp6ePSJyMj5Wnp4+Z9f3PiJyMj924nI/Vp6eP7yGkjy8hpI9lNckPryGkj6G8uQ+lNckP1BeYD+8hpI/LauIPC2riD2UwBk+LauIPnaL1T6UwBk/HkZRPy2riD8MPII8DDyCPY2DEj4MPII+0n3LPo2DEj/xa0c/DDyCPwAAgDwAAIA9AAAQPgAAgD4AAMg+AAAQPwAARD8AAIA/CzyCPAs8gj2MgxI+CzyCPtJ9yz6MgxI/8GtHPws8gj8tq4g8LauIPZTAGT4tq4g+dovVPpTAGT8eRlE/LauIP7yGkjy8hpI9lNckPryGkj6G8uQ+lNckP1BeYD+8hpI/Vp6ePFaenj0icjI+Vp6ePmfX9z4icjI/duJyP1aenj+bfKs8m3yrPS/sQD6bfKs+WfkFPy/sQD9nS4M/m3yrPzaUtzw2lLc9vIZOPjaUtz7Law8/vIZOP3mNjD82lLc/xW/BPMVvwT2+nVk+xW/BPlMfFz++nVk/kxmUP8VvwT/o3sc86N7HPcXaYD7o3sc+JSYcP8XaYD+oBpk/6N7HPw==",
        "encoding": "base64",
        "path": [
         "attribute",
         "0.5263157894736842",
         "data"
        ]
       },
       {
        "data": "AAAAAL2G8jy9hvI9ymuIPr2G8j5EeT0/ymuIPymvuT+9hvI/qhLvPKoS7z2AeoY+qhLvPpbGOj+AeoY/Sgq3P6oS7z8ZIeU8GSHlPZ/igD4ZIeU+2gEzP5/igD9Xba8/GSHlPw7l1TwO5dU9r6FwPg7l1T7yGic/r6FwP17Doz8O5dU/8DTDPPA0wz2Pm1s+8DTDPlyBGD+Pm1s/iHSVP/A0wz/LUa88y1GvPQU8RT7LUa8+5vcIPwU8RT+fOoY/y1GvP6+hnDyvoZw95TUwPq+hnD6ivPQ+5TUwP5TXbz+voZw/pGWNPKRljT1aEh8+pGWNPtDu3D5aEh8/pINYP6RljT8RdIM8EXSDPZTiEz4RdIM+XGXNPpTiEz+6SUk/EXSDPwAAgDwAAIA9AAAQPgAAgD4AAMg+AAAQPwAARD8AAIA/EXSDPBF0gz2U4hM+EXSDPlxlzT6U4hM/uklJPxF0gz+jZY08o2WNPVkSHz6jZY0+zu7cPlkSHz+jg1g/o2WNP7ChnDywoZw95jUwPrChnD6ivPQ+5jUwP5XXbz+woZw/zFGvPMxRrz0GPEU+zFGvPuj3CD8GPEU/oDqGP8xRrz/xNMM88TTDPY+bWz7xNMM+XIEYP4+bWz+IdJU/8TTDPw7l1TwO5dU9sKFwPg7l1T7yGic/sKFwP17Doz8O5dU/GSHlPBkh5T2f4oA+GSHlPtsBMz+f4oA/V22vPxkh5T+rEu88qxLvPYB6hj6rEu8+lsY6P4B6hj9KCrc/qxLvP72G8jy9hvI9ymuIPr2G8j5EeT0/ymuIPymvuT+9hvI/qxLvPKsS7z2AeoY+qxLvPpbGOj+AeoY/Sgq3P6sS7z8ZIeU8GSHlPZ/igD4ZIeU+2wEzP5/igD9Xba8/GSHlPw/l1TwP5dU9sKFwPg/l1T70Gic/sKFwP1/Doz8P5dU/8jTDPPI0wz2Pm1s+8jTDPl6BGD+Pm1s/iXSVP/I0wz/LUa88y1GvPQY8RT7LUa8+5vcIPwY8RT+gOoY/y1GvP66hnDyuoZw95DUwPq6hnD6gvPQ+5DUwP5PXbz+uoZw/o2WNPKNljT1YEh8+o2WNPs7u3D5YEh8/ooNYP6NljT8SdIM8EnSDPZTiEz4SdIM+W2XNPpTiEz+6SUk/EnSDPwAAgDwAAIA9AAAQPgAAgD4AAMg+AAAQPwAARD8AAIA/EXSDPBF0gz2T4hM+EXSDPlxlzT6T4hM/uklJPxF0gz+jZY08o2WNPVgSHz6jZY0+zu7cPlgSHz+ig1g/o2WNP66hnDyuoZw95DUwPq6hnD6gvPQ+5DUwP5PXbz+uoZw/y1GvPMtRrz0GPEU+y1GvPub3CD8GPEU/oDqGP8tRrz/vNMM87zTDPY6bWz7vNMM+W4EYP46bWz+IdJU/7zTDPw7l1TwO5dU9rqFwPg7l1T7zGic/rqFwP17Doz8O5dU/GSHlPBkh5T2e4oA+GSHlPtwBMz+e4oA/V22vPxkh5T+sEu88rBLvPYF6hj6sEu8+lsY6P4F6hj9KCrc/rBLvPw==",
        "encoding": "base64",
        "path": [
         "attribute",
         "0.631578947368421",
         "data"
        ]
       },
       {
        "data": "AAAAAEN5DT1DeQ0+ayifPkN5DT95DV0/ayifP6+h2D9DeQ1ANyMLPTcjCz6eh5w+NyMLPwdnWT+eh5w/6w3VPzcjC0A2aQQ9NmkEPl32lD42aQQ/ZOROP132lD8bwco/NmkEQOQ19DzkNfQ9UF6JPuQ19D4Zyj4/UF6JP0L5uj/kNfQ/RO3aPETt2j3uSnY+RO3aPl0JKz/uSnY/qJ2nP0Tt2j9ABcA8QAXAPegFWD5ABcA+GQQWP+gFWD8FBJM/QAXAP6K8pjyivKY9NpQ7PqK8pj5eQwI/NpQ7P9dQfz+ivKY/GiCSPBogkj0eZCQ+GiCSPihS5D4eZCQ/KMFfPxogkj8XrIQ8F6yEPZtBFT4XrIQ+5kzPPptBFT+DJ0s/F6yEPwAAgDwAAIA9AAAQPgAAgD4AAMg+AAAQPwAARD8AAIA/F6yEPBeshD2bQRU+F6yEPuVMzz6bQRU/gydLPxeshD8ZIJI8GSCSPR5kJD4ZIJI+J1LkPh5kJD8nwV8/GSCSP6K8pjyivKY9N5Q7PqK8pj5eQwI/N5Q7P9hQfz+ivKY/QQXAPEEFwD3pBVg+QQXAPhsEFj/pBVg/BgSTP0EFwD9F7do8Re3aPe5Kdj5F7do+XgkrP+5Kdj+pnac/Re3aP+Q19DzkNfQ9UF6JPuQ19D4Zyj4/UF6JP0L5uj/kNfQ/NmkEPTZpBD5e9pQ+NmkEP2TkTj9e9pQ/G8HKPzZpBEA3Iws9NyMLPp6HnD43Iws/B2dZP56HnD/rDdU/NyMLQEN5DT1DeQ0+ayifPkN5DT95DV0/ayifP6+h2D9DeQ1ANyMLPTcjCz6eh5w+NyMLPwdnWT+eh5w/6w3VPzcjC0A2aQQ9NmkEPl32lD42aQQ/ZOROP132lD8bwco/NmkEQOY19DzmNfQ9UV6JPuY19D4cyj4/UV6JP0T5uj/mNfQ/Ru3aPEbt2j3uSnY+Ru3aPmAJKz/uSnY/qp2nP0bt2j9ABcA8QAXAPegFWD5ABcA+GgQWP+gFWD8FBJM/QAXAP6C8pjygvKY9NJQ7PqC8pj5dQwI/NJQ7P9ZQfz+gvKY/GSCSPBkgkj0dZCQ+GSCSPiZS5D4dZCQ/J8FfPxkgkj8YrIQ8GKyEPZtBFT4YrIQ+5UzPPptBFT+EJ0s/GKyEPwAAgDwAAIA9AAAQPgAAgD4AAMg+AAAQPwAARD8AAIA/F6yEPBeshD2aQRU+F6yEPuVMzz6aQRU/gydLPxeshD8ZIJI8GSCSPR1kJD4ZIJI+JlLkPh1kJD8nwV8/GSCSP6C8pjygvKY9NJQ7PqC8pj5dQwI/NJQ7P9ZQfz+gvKY/QAXAPEAFwD3oBVg+QAXAPhoEFj/oBVg/BQSTP0AFwD9D7do8Q+3aPexKdj5D7do+XQkrP+xKdj+onac/Q+3aP+Q19DzkNfQ9T16JPuQ19D4ayj4/T16JP0L5uj/kNfQ/NmkEPTZpBD5d9pQ+NmkEP2XkTj9d9pQ/G8HKPzZpBEA3Iws9NyMLPp+HnD43Iws/B2dZP5+HnD/rDdU/NyMLQA==",
        "encoding": "base64",
        "path": [
         "attribute",
         "0.7368421052631579",
         "data"
        ]
       },
       {
        "data": "AAAAACivIT0oryE+DeW1PiivIT+uoXw/DeW1PzWU9z8oryFAGb0ePRm9Hj68lLI+Gb0eP3gHeD+8lLI/jRHzPxm9HkDfQRY930EWPh0KqT7fQRY/7MZqPx0KqT/fFOY/30EWQF5DCT1eQwk+yWuaPl5DCT9CeVY/yWuaPycv0j9eQwlAmqXyPJql8j0nfYg+mqXyPmCRPT8nfYg/yca5P5ql8j+1uNA8tbjQPcvPaj61uNA+TRAjP8vPaj9qzZ8/tbjQP5TXsDyU17A9hvJGPpTXsD5sKAo/hvJGPw1lhz+U17A/kNqWPJDalj3jtSk+kNqWPoG16z7jtSk/rv5mP5Dalj8e5IU8HuSFPaKgFj4e5IU+bzTRPqKgFj9NBU0/HuSFPwAAgDwAAIA9AAAQPgAAgD4AAMg+AAAQPwAARD8AAIA/HeSFPB3khT2ioBY+HeSFPm800T6ioBY/TAVNPx3khT+P2pY8j9qWPeK1KT6P2pY+f7XrPuK1KT+s/mY/j9qWP5bXsDyW17A9iPJGPpbXsD5sKAo/iPJGPw5lhz+W17A/trjQPLa40D3Nz2o+trjQPk8QIz/Nz2o/bM2fP7a40D+apfI8mqXyPSd9iD6apfI+YZE9Pyd9iD/Jxrk/mqXyP15DCT1eQwk+yWuaPl5DCT9CeVY/yWuaPygv0j9eQwlA4EEWPeBBFj4eCqk+4EEWP+3Gaj8eCqk/3xTmP+BBFkAZvR49Gb0ePryUsj4ZvR4/eAd4P7yUsj+NEfM/Gb0eQCivIT0oryE+DeW1PiivIT+uoXw/DeW1PzWU9z8oryFAGb0ePRm9Hj68lLI+Gb0eP3gHeD+8lLI/jRHzPxm9HkDfQRY930EWPh0KqT7fQRY/7cZqPx0KqT/fFOY/30EWQF5DCT1eQwk+ymuaPl5DCT9EeVY/ymuaPykv0j9eQwlAnKXyPJyl8j0nfYg+nKXyPmKRPT8nfYg/y8a5P5yl8j+0uNA8tLjQPczPaj60uNA+TBAjP8zPaj9rzZ8/tLjQP5LXsDyS17A9hfJGPpLXsD5qKAo/hfJGPwxlhz+S17A/j9qWPI/alj3itSk+j9qWPn616z7itSk/q/5mP4/alj8e5IU8HuSFPaKgFj4e5IU+bjTRPqKgFj9NBU0/HuSFPwAAgDwAAIA9AAAQPgAAgD4AAMg+AAAQPwAARD8AAIA/HeSFPB3khT2hoBY+HeSFPm800T6hoBY/TAVNPx3khT+P2pY8j9qWPeK1KT6P2pY+frXrPuK1KT+r/mY/j9qWP5LXsDyS17A9hfJGPpLXsD5qKAo/hfJGPwxlhz+S17A/tLjQPLS40D3Mz2o+tLjQPkwQIz/Mz2o/a82fP7S40D+XpfI8l6XyPSZ9iD6XpfI+X5E9PyZ9iD/Jxrk/l6XyP11DCT1dQwk+yGuaPl1DCT9DeVY/yGuaPyYv0j9dQwlA4EEWPeBBFj4cCqk+4EEWP+7Gaj8cCqk/3xTmP+BBFkAZvR49Gb0ePr2Usj4ZvR4/eAd4P72Usj+NEfM/Gb0eQA==",
        "encoding": "base64",
        "path": [
         "attribute",
         "0.8421052631578947",
         "data"
        ]
       },
       {
        "data": "AAAAAA3lNT0N5TU+r6HMPg3lNT/yGo4/r6HMP15DC0AN5TVA+1YyPftWMj7aocg++1YyP/VTiz/aocg/l4oIQPtWMkCJGig9iRooPtwdvT6JGig/u1SDP9wdvT9StABAiRooQMprGD3Kaxg+QnmrPsprGD9qKG4/QnmrPwxl6T/KaxhA9y4FPfcuBT7X1JU+9y4FP2IZUD/X1JU/6u/LP/cuBUAqbOE8KmzhPa+ZfT4qbOE+gBwwP6+ZfT/Qlqw/KmzhP4byujyG8ro911BSPobyuj55DRI/11BSP68hjz+G8ro/BpWbPAaVmz2oBy8+BpWbPtoY8z6oBy8/MjxuPwaVmz8kHIc8JByHPan/Fz4kHIc++RvTPqn/Fz8W404/JByHPwAAgDwAAIA9AAAQPgAAgD4AAMg+AAAQPwAARD8AAIA/JByHPCQchz2o/xc+JByHPvkb0z6o/xc/FuNOPyQchz8FlZs8BZWbPacHLz4FlZs+2BjzPqcHLz8wPG4/BZWbP4jyujyI8ro92VBSPojyuj56DRI/2VBSP7Ahjz+I8ro/K2zhPCts4T2wmX0+K2zhPoIcMD+wmX0/0ZasPyts4T/4LgU9+C4FPtfUlT74LgU/YxlQP9fUlT/q78s/+C4FQMprGD3Kaxg+QnmrPsprGD9qKG4/QnmrPwxl6T/KaxhAihooPYoaKD7dHb0+ihooP7tUgz/dHb0/UrQAQIoaKED7VjI9+1YyPtqhyD77VjI/9VOLP9qhyD+YighA+1YyQA3lNT0N5TU+r6HMPg3lNT/yGo4/r6HMP15DC0AN5TVA+1YyPftWMj7aocg++1YyP/VTiz/aocg/mIoIQPtWMkCJGig9iRooPtwdvT6JGig/u1SDP9wdvT9StABAiRooQMprGD3Kaxg+RHmrPsprGD9tKG4/RHmrPw5l6T/KaxhA+S4FPfkuBT7X1JU++S4FP2UZUD/X1JU/7O/LP/kuBUAobOE8KGzhPbCZfT4obOE+gBwwP7CZfT/Qlqw/KGzhP4XyujyF8ro91lBSPoXyuj54DRI/1lBSP64hjz+F8ro/BZWbPAWVmz2nBy8+BZWbPtcY8z6nBy8/MDxuPwWVmz8kHIc8JByHPan/Fz4kHIc++BvTPqn/Fz8W404/JByHPwAAgDwAAIA9AAAQPgAAgD4AAMg+AAAQPwAARD8AAIA/IxyHPCMchz2o/xc+IxyHPvgb0z6o/xc/FuNOPyMchz8FlZs8BZWbPacHLz4FlZs+1xjzPqcHLz8wPG4/BZWbP4XyujyF8ro91lBSPoXyuj54DRI/1lBSP64hjz+F8ro/KGzhPChs4T2wmX0+KGzhPoAcMD+wmX0/0JasPyhs4T/2LgU99i4FPtXUlT72LgU/YRlQP9XUlT/q78s/9i4FQMlrGD3Jaxg+QXmrPslrGD9rKG4/QXmrPwtl6T/JaxhAiRooPYkaKD7bHb0+iRooP7xUgz/bHb0/UrQAQIkaKED7VjI9+1YyPtyhyD77VjI/9FOLP9yhyD+YighA+1YyQA==",
        "encoding": "base64",
        "path": [
         "attribute",
         "0.9473684210526315",
         "data"
        ]
       },
       {
        "data": "AAAAAPMaSj3zGko+UV7jPvMaSj8O5Z0/UV7jP6K8GkDzGkpA3fBFPd3wRT76rt4+3fBFPy6kmj/6rt4/aYwXQN3wRUA08zk9NPM5Ppwx0T408zk/AUaRP5wx0T80Xg5ANPM5QDaUJz02lCc+vIa8PjaUJz/K64I/vIa8P3hNAEA2lCdAIgsRPSILET6HLKM+IgsRP2WhYj+HLKM/DBnePyILEUCfH/I8nx/yPcoxiD6fH/I+tCg9P8oxiD82YLk/nx/yP3kNxTx5DcU9KK9dPnkNxT6G8hk/KK9dP1Delj95DcU/fE+gPHxPoD1tWTQ+fE+gPjJ8+j5tWTQ/uHl1P3xPoD8qVIg8KlSIPbBeGT4qVIg+gwPVPrBeGT/gwFA/KlSIPwAAgDwAAIA9AAAQPgAAgD4AAMg+AAAQPwAARD8AAIA/KlSIPCpUiD2wXhk+KlSIPoID1T6wXhk/38BQPypUiD98T6A8fE+gPWxZND58T6A+MHz6PmxZND+2eXU/fE+gP3sNxTx7DcU9Kq9dPnsNxT6I8hk/Kq9dP1Lelj97DcU/oR/yPKEf8j3KMYg+oR/yPrYoPT/KMYg/OGC5P6Ef8j8iCxE9IgsRPogsoz4iCxE/ZqFiP4gsoz8MGd4/IgsRQDaUJz02lCc+vIa8PjaUJz/K64I/vIa8P3lNAEA2lCdANfM5PTXzOT6dMdE+NfM5PwFGkT+dMdE/NV4OQDXzOUDd8EU93fBFPvqu3j7d8EU/LqSaP/qu3j9qjBdA3fBFQPMaSj3zGko+UV7jPvMaSj8O5Z0/UV7jP6K8GkDzGkpA3fBFPd3wRT76rt4+3fBFPy6kmj/6rt4/aowXQN3wRUA08zk9NPM5Ppwx0T408zk/AUaRP5wx0T81Xg5ANPM5QDeUJz03lCc+voa8PjeUJz/L64I/voa8P3pNAEA3lCdAJAsRPSQLET6HLKM+JAsRP2mhYj+HLKM/DxnePyQLEUCeH/I8nh/yPcoxiD6eH/I+tCg9P8oxiD82YLk/nh/yP3gNxTx4DcU9J69dPngNxT6G8hk/J69dP1Delj94DcU/e0+gPHtPoD1sWTQ+e0+gPjB8+j5sWTQ/tXl1P3tPoD8qVIg8KlSIPbBeGT4qVIg+ggPVPrBeGT/gwFA/KlSIPwAAgDwAAIA9AAAQPgAAgD4AAMg+AAAQPwAARD8AAIA/KVSIPClUiD2vXhk+KVSIPoID1T6vXhk/38BQPylUiD97T6A8e0+gPWxZND57T6A+MHz6PmxZND+1eXU/e0+gP3gNxTx4DcU9J69dPngNxT6G8hk/J69dP1Delj94DcU/nh/yPJ4f8j3KMYg+nh/yPrQoPT/KMYg/NmC5P54f8j8hCxE9IQsRPoYsoz4hCxE/ZKFiP4Ysoz8MGd4/IQsRQDaUJz02lCc+u4a8PjaUJz/K64I/u4a8P3lNAEA2lCdANPM5PTTzOT6bMdE+NPM5PwFGkT+bMdE/NF4OQDTzOUDe8EU93vBFPvuu3j7e8EU/LaSaP/uu3j9pjBdA3vBFQA==",
        "encoding": "base64",
        "path": [
         "attribute",
         "1.0526315789473684",
         "data"
        ]
       },
       {
        "data": "AAAAANhQXj3YUF4+8xr6PthQXj8pr60/8xr6P+U1KkDYUF5Av4pZPb+KWT4YvPQ+v4pZP2f0qT8YvPQ/OY4mQL+KWUDey0s93stLPltF5T7ey0s/RTefP1tF5T8WCBxA3stLQKK8Nj2ivDY+NZTNPqK8Nj9ew44/NZTNP2voC0CivDZATOccPUznHD43hLA+TOccP2gpdT83hLA/LULwP0znHECKaQE9imkBPryWkT6KaQE/5zRKP7yWkT+cKcY/imkBQGwozzxsKM89eQ1pPmwozz6U1yE/eQ1pP/Kanj9sKM8/8wmlPPMJpT0yqzk+8wmlPsbvAD8yqzk/PLd8P/MJpT8wjIk8MIyJPbe9Gj4wjIk+DOvWPre9Gj+pnlI/MIyJPwAAgDwAAIA9AAAQPgAAgD4AAMg+AAAQPwAARD8AAIA/MIyJPDCMiT22vRo+MIyJPgzr1j62vRo/qZ5SPzCMiT/yCaU88gmlPTGrOT7yCaU+xO8APzGrOT86t3w/8gmlP24ozzxuKM89fA1pPm4ozz6V1yE/fA1pP/Sanj9uKM8/i2kBPYtpAT68lpE+i2kBP+o0Sj+8lpE/ninGP4tpAUBM5xw9TOccPjiEsD5M5xw/aSl1PziEsD8tQvA/TOccQKK8Nj2ivDY+NZTNPqK8Nj9ew44/NZTNP2voC0CivDZA38tLPd/LSz5cReU+38tLP0U3nz9cReU/FwgcQN/LS0C/ilk9v4pZPhi89D6/ilk/Z/SpPxi89D86jiZAv4pZQNhQXj3YUF4+8xr6PthQXj8pr60/8xr6P+U1KkDYUF5Av4pZPb+KWT4YvPQ+v4pZP2f0qT8YvPQ/Oo4mQL+KWUDey0s93stLPltF5T7ey0s/RTefP1tF5T8XCBxA3stLQKO8Nj2jvDY+N5TNPqO8Nj9fw44/N5TNP23oC0CjvDZATuccPU7nHD43hLA+TuccP2spdT83hLA/MELwP07nHECKaQE9imkBPruWkT6KaQE/5jRKP7uWkT+bKcY/imkBQGoozzxqKM89eA1pPmoozz6S1yE/eA1pP/Ganj9qKM8/8QmlPPEJpT0wqzk+8QmlPsTvAD8wqzk/Ord8P/EJpT8wjIk8MIyJPbe9Gj4wjIk+C+vWPre9Gj+pnlI/MIyJPwAAgDwAAIA9AAAQPgAAgD4AAMg+AAAQPwAARD8AAIA/MIyJPDCMiT22vRo+MIyJPgzr1j62vRo/qZ5SPzCMiT/xCaU88QmlPTCrOT7xCaU+xO8APzCrOT86t3w/8QmlP2oozzxqKM89eA1pPmoozz6S1yE/eA1pP/Ganj9qKM8/imkBPYppAT67lpE+imkBP+Y0Sj+7lpE/mynGP4ppAUBL5xw9S+ccPjSEsD5L5xw/Zil1PzSEsD8sQvA/S+ccQKG8Nj2hvDY+NJTNPqG8Nj9fw44/NJTNP2voC0ChvDZA3stLPd7LSz5aReU+3stLP0U3nz9aReU/FggcQN7LS0DAilk9wIpZPhq89D7Ailk/ZvSpPxq89D86jiZAwIpZQA==",
        "encoding": "base64",
        "path": [
         "attribute",
         "1.1578947368421053",
         "data"
        ]
       },
       {
        "data": "AAAAAL2Gcj29hnI+ymsIP72Gcj9Eeb0/ymsIQCmvOUC9hnJAoSRtPaEkbT6aZAU/oSRtP59EuT+aZAVACpA1QKEkbUCIpF09iKRdPhtZ+T6IpF0/iiitPxtZ+T/4sSlAiKRdQA7lRT0O5UU+r6HePg7lRT/ympo/r6HeP16DF0AO5UVAd8MoPXfDKD7m270+d8MoP7XYgz/m270/pzUBQHfDKEBEwwk9RMMJPq77mj5Ewwk/GkFXP677mj8B89I/RMMJQF5D2TxeQ9k9ymt0Pl5D2T6ivCk/ymt0P5RXpj9eQ9k/acSpPGnEqT33/D4+acSpPnKhBD/3/D4/YfqBP2nEqT82xIo8NsSKPb4cHD42xIo+ltLYPr4cHD9zfFQ/NsSKPwAAgDwAAIA9AAAQPgAAgD4AAMg+AAAQPwAARD8AAIA/NsSKPDbEij29HBw+NsSKPpbS2D69HBw/cnxUPzbEij9oxKk8aMSpPfb8Pj5oxKk+cKEEP/b8Pj9g+oE/aMSpP2BD2TxgQ9k9zGt0PmBD2T6ivCk/zGt0P5ZXpj9gQ9k/RsMJPUbDCT6u+5o+RsMJPx1BVz+u+5o/A/PSP0bDCUB4wyg9eMMoPufbvT54wyg/ttiDP+fbvT+nNQFAeMMoQA7lRT0O5UU+r6HePg7lRT/ympo/r6HeP16DF0AO5UVAiaRdPYmkXT4cWfk+iaRdP4oorT8cWfk/+bEpQImkXUChJG09oSRtPptkBT+hJG0/n0S5P5tkBUALkDVAoSRtQL2Gcj29hnI+ymsIP72Gcj9Eeb0/ymsIQCmvOUC9hnJAoSRtPaEkbT6bZAU/oSRtP59EuT+bZAVAC5A1QKEkbUCIpF09iKRdPhtZ+T6IpF0/iiitPxtZ+T/5sSlAiKRdQA/lRT0P5UU+sKHePg/lRT/0mpo/sKHeP1+DF0AP5UVAecMoPXnDKD7m270+ecMoP7fYgz/m270/qDUBQHnDKEBEwwk9RMMJPq37mj5Ewwk/GkFXP637mj8B89I/RMMJQFxD2TxcQ9k9yGt0PlxD2T6gvCk/yGt0P5JXpj9cQ9k/Z8SpPGfEqT31/D4+Z8SpPnChBD/1/D4/X/qBP2fEqT82xIo8NsSKPb4cHD42xIo+lNLYPr4cHD9yfFQ/NsSKPwAAgDwAAIA9AAAQPgAAgD4AAMg+AAAQPwAARD8AAIA/NsSKPDbEij29HBw+NsSKPpXS2D69HBw/cnxUPzbEij9nxKk8Z8SpPfX8Pj5nxKk+cKEEP/X8Pj9f+oE/Z8SpP1xD2TxcQ9k9yGt0PlxD2T6gvCk/yGt0P5JXpj9cQ9k/RMMJPUTDCT6t+5o+RMMJPxpBVz+t+5o/AfPSP0TDCUB1wyg9dcMoPuTbvT51wyg/tNiDP+TbvT+mNQFAdcMoQA3lRT0N5UU+raHePg3lRT/zmpo/raHeP16DF0AN5UVAiKRdPYikXT4ZWfk+iKRdP4oorT8ZWfk/+LEpQIikXUCiJG09oiRtPptkBT+iJG0/nkS5P5tkBUALkDVAoiRtQA==",
        "encoding": "base64",
        "path": [
         "attribute",
         "1.263157894736842",
         "data"
        ]
       },
       {
        "data": "AAAAAFFegz1RXoM+G8oTP1Fegz9fQ80/G8oTQGwoSUBRXoNAQV+APUFfgD4qaxA/QV+AP9iUyD8qaxBA25FEQEFfgEAyfW89Mn1vPm22Bj8yfW8/zxm7P222BkDaWzdAMn1vQHoNVT16DVU+KK/vPnoNVT+GcqY/KK/vP1AeI0B6DVVAoZ80PaGfND6WM8s+oZ80P7YcjT+WM8s/N0oKQKGfNED/HBI9/xwSPp9gpD7/HBI/Tk1kP59gpD9nvN8//xwSQFBe4zxQXuM9Gsp/PlBe4z6voTE/Gsp/PzYUrj9QXuM/336uPN9+rj28TkQ+336uPh5TCD+8TkQ/I5mFP99+rj88/Is8PPyLPcV7HT48/Is+ILraPsV7HT88WlY/PPyLPwAAgDwAAIA9AAAQPgAAgD4AAMg+AAAQPwAARD8AAIA/PPyLPDz8iz3Eex0+PPyLPh+62j7Eex0/PFpWPzz8iz/efq483n6uPbtORD7efq4+HVMIP7tORD8imYU/3n6uP1Ne4zxTXuM9Hsp/PlNe4z6woTE/Hsp/PzgUrj9TXuM/AB0SPQAdEj6gYKQ+AB0SP1FNZD+gYKQ/abzfPwAdEkCinzQ9op80Ppczyz6inzQ/thyNP5czyz84SgpAop80QHoNVT16DVU+KK/vPnoNVT+GcqY/KK/vP1AeI0B6DVVAM31vPTN9bz5ttgY/M31vP88Zuz9ttgZA21s3QDN9b0BBX4A9QV+APitrED9BX4A/2JTIPytrEEDckURAQV+AQFFegz1RXoM+G8oTP1Fegz9fQ80/G8oTQGwoSUBRXoNAQV+APUFfgD4raxA/QV+AP9iUyD8raxBA3JFEQEFfgEAyfW89Mn1vPm22Bj8yfW8/zxm7P222BkDbWzdAMn1vQHsNVT17DVU+Kq/vPnsNVT+IcqY/Kq/vP1IeI0B7DVVAo580PaOfND6WM8s+o580P7kcjT+WM8s/OUoKQKOfNED+HBI9/hwSPp9gpD7+HBI/Tk1kP59gpD9mvN8//hwSQE5e4zxOXuM9GMp/Pk5e4z6toTE/GMp/PzQUrj9OXuM/3X6uPN1+rj26TkQ+3X6uPhxTCD+6TkQ/IpmFP91+rj88/Is8PPyLPcR7HT48/Is+HrraPsR7HT88WlY/PPyLPwAAgDwAAIA9AAAQPgAAgD4AAMg+AAAQPwAARD8AAIA/PPyLPDz8iz3Eex0+PPyLPh+62j7Eex0/O1pWPzz8iz/dfq483X6uPbpORD7dfq4+HFMIP7pORD8imYU/3X6uP05e4zxOXuM9GMp/Pk5e4z6toTE/GMp/PzQUrj9OXuM//hwSPf4cEj6fYKQ+/hwSP05NZD+fYKQ/ZrzfP/4cEkCfnzQ9n580PpQzyz6fnzQ/tRyNP5Qzyz83SgpAn580QHgNVT14DVU+Jq/vPngNVT+HcqY/Jq/vP1AeI0B4DVVAMn1vPTJ9bz5ttgY/Mn1vP88Zuz9ttgZA2ls3QDJ9b0BCX4A9Ql+APitrED9CX4A/15TIPytrEEDckURAQl+AQA==",
        "encoding": "base64",
        "path": [
         "attribute",
         "1.3684210526315788",
         "data"
        ]
       },
       {
        "data": "AAAAAEN5jT1DeY0+aygfP0N5jT95Dd0/aygfQK+hWEBDeY1AMiyKPTIsij64cRs/MiyKPxDl1z+4cRtAq5NTQDIsikDuqoA97qqAPkzAED/uqoA/EwvJP0zAEEC8BUVA7qqAQOQ1ZD3kNWQ+UF4AP+Q1ZD8ZSrI/UF4AQEK5LkDkNWRAy3tAPct7QD5Fi9g+y3tAP7dglj9Fi9g/x14TQMt7QEC5dho9uXYaPpDFrT65dho/gFlxP5DFrT/Mhew/uXYaQEJ57TxCee09NZSFPkJ57T68hjk/NZSFP9bQtT9Cee0/VTmzPFU5sz2AoEk+VTmzPsoEDD+AoEk/5jeJP1U5sz9DNI08QzSNPczaHj5DNI0+qqHcPszaHj8GOFg/QzSNPwAAgDwAAIA9AAAQPgAAgD4AAMg+AAAQPwAARD8AAIA/QjSNPEI0jT3L2h4+QjSNPqmh3D7L2h4/BThYP0I0jT9UObM8VDmzPYCgST5UObM+yQQMP4CgST/kN4k/VDmzP0V57TxFee09N5SFPkV57T6+hjk/N5SFP9nQtT9Fee0/unYaPbp2Gj6Sxa0+unYaP4RZcT+Sxa0/zoXsP7p2GkDMe0A9zHtAPkaL2D7Me0A/t2CWP0aL2D/IXhNAzHtAQOQ1ZD3kNWQ+UF4AP+Q1ZD8ZSrI/UF4AQEK5LkDkNWRA7qqAPe6qgD5MwBA/7qqAPxMLyT9MwBBAvQVFQO6qgEAyLIo9MiyKPrlxGz8yLIo/EOXXP7lxG0Csk1NAMiyKQEN5jT1DeY0+aygfP0N5jT95Dd0/aygfQK+hWEBDeY1AMiyKPTIsij65cRs/MiyKPxDl1z+5cRtArJNTQDIsikDuqoA97qqAPkzAED/uqoA/EwvJP0zAEEC9BUVA7qqAQOY1ZD3mNWQ+UV4AP+Y1ZD8cSrI/UV4AQES5LkDmNWRAzXtAPc17QD5Fi9g+zXtAP7pglj9Fi9g/yV4TQM17QEC4dho9uHYaPpDFrT64dho/gFlxP5DFrT/Lhew/uHYaQEB57TxAee09NJSFPkB57T66hjk/NJSFP9XQtT9Aee0/UjmzPFI5sz1+oEk+UjmzPsgEDD9+oEk/5DeJP1I5sz9CNI08QjSNPcvaHj5CNI0+qKHcPsvaHj8FOFg/QjSNPwAAgDwAAIA9AAAQPgAAgD4AAMg+AAAQPwAARD8AAIA/QjSNPEI0jT3K2h4+QjSNPqih3D7K2h4/BThYP0I0jT9SObM8UjmzPX6gST5SObM+yAQMP36gST/kN4k/UjmzP0B57TxAee09NJSFPkB57T66hjk/NJSFP9XQtT9Aee0/uHYaPbh2Gj6Qxa0+uHYaP4BZcT+Qxa0/y4XsP7h2GkDJe0A9yXtAPkKL2D7Je0A/tWCWP0KL2D/HXhNAyXtAQOM1ZD3jNWQ+T14AP+M1ZD8aSrI/T14AQEK5LkDjNWRA7qqAPe6qgD5MwBA/7qqAPxMLyT9MwBBAvAVFQO6qgEAzLIo9MyyKPrlxGz8zLIo/D+XXP7lxG0Csk1NAMyyKQA==",
        "encoding": "base64",
        "path": [
         "attribute",
         "1.4736842105263157",
         "data"
        ]
       },
       {
        "data": "AAAAADaUlz02lJc+vYYqPzaUlz+U1+w/vYYqQPMaaEA2lJdAI/mTPSP5kz5IeCY/I/mTP0k15z9IeCZAfZViQCP5k0BDl4k9Q5eJPizKGj9Dl4k/WPzWPyzKGkCgr1JAQ5eJQFFecz1RXnM+DeUIP1Fecz+uIb4/DeUIQDVUOkBRXnNA9ldMPfZXTD724uU+9ldMP7mknz/24uU/WHMcQPZXTEB00CI9dNAiPoIqtz500CI/tGV+P4Iqtz8yT/k/dNAiQDaU9zw2lPc9XkOLPjaU9z7Ka0E/XkOLP3iNvT82lPc/zPO3PMzztz1G8k4+zPO3Pna2Dz9G8k4/qNaMP8zztz9JbI48SWyOPdI5ID5JbI4+M4nePtI5ID/PFVo/SWyOPwAAgDwAAIA9AAAQPgAAgD4AAMg+AAAQPwAARD8AAIA/SGyOPEhsjj3SOSA+SGyOPjKJ3j7SOSA/zhVaP0hsjj/K87c8yvO3PUTyTj7K87c+dbYPP0TyTj+n1ow/yvO3PziU9zw4lPc9YEOLPjiU9z7Ma0E/YEOLP3uNvT84lPc/dtAiPXbQIj6EKrc+dtAiP7hlfj+EKrc/NU/5P3bQIkD2V0w99ldMPvfi5T72V0w/uaSfP/fi5T9YcxxA9ldMQFFecz1RXnM+DeUIP1Fecz+uIb4/DeUIQDVUOkBRXnNAQ5eJPUOXiT4syho/Q5eJP1j81j8syhpAoK9SQEOXiUAj+ZM9I/mTPkl4Jj8j+ZM/STXnP0l4JkB+lWJAI/mTQDaUlz02lJc+vYYqPzaUlz+U1+w/vYYqQPMaaEA2lJdAI/mTPSP5kz5JeCY/I/mTP0k15z9JeCZAfpViQCP5k0BDl4k9Q5eJPizKGj9Dl4k/WPzWPyzKGkCgr1JAQ5eJQFJecz1SXnM+DuUIP1Jecz+wIb4/DuUIQDdUOkBSXnNA+VdMPflXTD724uU++VdMP7uknz/24uU/WnMcQPlXTEBz0CI9c9AiPoIqtz5z0CI/tGV+P4Iqtz8xT/k/c9AiQDKU9zwylPc9XUOLPjKU9z7Ia0E/XUOLP3eNvT8ylPc/yPO3PMjztz1E8k4+yPO3PnS2Dz9E8k4/ptaMP8jztz9JbI48SWyOPdI5ID5JbI4+MYnePtI5ID/OFVo/SWyOPwAAgDwAAIA9AAAQPgAAgD4AAMg+AAAQPwAARD8AAIA/SGyOPEhsjj3SOSA+SGyOPjKJ3j7SOSA/zhVaP0hsjj/I87c8yPO3PUTyTj7I87c+dLYPP0TyTj+m1ow/yPO3PzKU9zwylPc9XUOLPjKU9z7Ia0E/XUOLP3eNvT8ylPc/c9AiPXPQIj6CKrc+c9AiP7Rlfj+CKrc/MU/5P3PQIkD0V0w99FdMPvLi5T70V0w/t6SfP/Li5T9XcxxA9FdMQFBecz1QXnM+C+UIP1Becz+vIb4/C+UIQDVUOkBQXnNAQpeJPUKXiT4syho/QpeJP1j81j8syhpAnq9SQEKXiUAk+ZM9JPmTPkl4Jj8k+ZM/SDXnP0l4JkB+lWJAJPmTQA==",
        "encoding": "base64",
        "path": [
         "attribute",
         "1.5789473684210527",
         "data"
        ]
       },
       {
        "data": "AAAAACivoT0or6E+DeU1PyivoT+uofw/DeU1QDWUd0Aor6FAFMadPRTGnT7WfjE/FMadP4GF9j/WfjFATZdxQBTGnUCXg5I9l4OSPgzUJD+Xg5I/nO3kPwzUJECAWWBAl4OSQF5DgT1eQ4E+yWsRP15DgT9C+ck/yWsRQCfvRUBeQ4FAIDRYPSA0WD6lOvM+IDRYP7roqD+lOvM/6IclQCA0WEAuKis9LiorPnSPwD4uKis/9LiFP3SPwD9LDANALiorQJTXAD2U1wA+hvKQPpTXAD/WUEk/hvKQPxpKxT+U1wBAQa68PEGuvD0KRFQ+Qa68PiNoEz8KRFQ/anWQP0GuvD9PpI88T6SPPdmYIT5PpI8+vXDgPtmYIT+Z81s/T6SPPwAAgDwAAIA9AAAQPgAAgD4AAMg+AAAQPwAARD8AAIA/T6SPPE+kjz3ZmCE+T6SPPrxw4D7ZmCE/mPNbP0+kjz9Arrw8QK68PQlEVD5Arrw+IWgTPwlEVD9pdZA/QK68P5bXAD2W1wA+iPKQPpbXAD/YUEk/iPKQPxxKxT+W1wBAMCorPTAqKz52j8A+MCorP/a4hT92j8A/TQwDQDAqK0AgNFg9IDRYPqY68z4gNFg/uuioP6Y68z/ohyVAIDRYQF5DgT1eQ4E+yWsRP15DgT9C+ck/yWsRQCfvRUBeQ4FAl4OSPZeDkj4M1CQ/l4OSP5zt5D8M1CRAgVlgQJeDkkAUxp09FMadPtd+MT8Uxp0/gYX2P9d+MUBOl3FAFMadQCivoT0or6E+DeU1PyivoT+uofw/DeU1QDWUd0Aor6FAFMadPRTGnT7XfjE/FMadP4GF9j/XfjFATpdxQBTGnUCXg5I9l4OSPgzUJD+Xg5I/nO3kPwzUJECBWWBAl4OSQF5DgT1eQ4E+ymsRP15DgT9E+ck/ymsRQCnvRUBeQ4FAIzRYPSM0WD6lOvM+IzRYP7zoqD+lOvM/6oclQCM0WEAtKis9LSorPnOPwD4tKis/87iFP3OPwD9LDANALSorQJLXAD2S1wA+hfKQPpLXAD/UUEk/hfKQPxhKxT+S1wBAPq68PD6uvD0IRFQ+Pq68PiBoEz8IRFQ/aHWQPz6uvD9PpI88T6SPPdmYIT5PpI8+u3DgPtmYIT+Y81s/T6SPPwAAgDwAAIA9AAAQPgAAgD4AAMg+AAAQPwAARD8AAIA/TqSPPE6kjz3YmCE+TqSPPrtw4D7YmCE/mPNbP06kjz8+rrw8Pq68PQhEVD4+rrw+IGgTPwhEVD9odZA/Pq68P5LXAD2S1wA+hfKQPpLXAD/UUEk/hfKQPxhKxT+S1wBALSorPS0qKz5zj8A+LSorP/O4hT9zj8A/SwwDQC0qK0AdNFg9HTRYPqI68z4dNFg/t+ioP6I68z/nhyVAHTRYQF1DgT1dQ4E+x2sRP11DgT9D+ck/x2sRQCbvRUBdQ4FAmIOSPZiDkj4L1CQ/mIOSP5zt5D8L1CRAgFlgQJiDkkAVxp09FcadPtd+MT8Vxp0/gIX2P9d+MUBOl3FAFcadQA==",
        "encoding": "base64",
        "path": [
         "attribute",
         "1.6842105263157894",
         "data"
        ]
       },
       {
        "data": "AAAAABvKqz0byqs+XkNBPxvKqz/lNQZAXkNBQL2Gg0AbyqtABZOnPQWTpz5mhTw/BZOnP93qAkBmhTxAkEyAQAWTp0Dtb5s97W+bPuzdLj/tb5s/4t7yP+zdLkBkA25A7W+bQJTXiD2U14g+hvIZP5TXiD/W0NU/hvIZQBqKUUCU14hASxBkPUsQZD4rSQA/SxBkP7sssj8rSQBAeZwuQEsQZEDqgzM96oMzPmb0yT7qgzM/Dj+MP2b0yT/+cAlA6oMzQA3lBT0N5QU+r6GWPg3lBT/kNVE/r6GWP7wGzT8N5QVAuGjBPLhowT3QlVk+uGjBPs8ZFz/QlVk/LRSUP7howT9V3JA8VdyQPeD3Ij5V3JA+RljiPuD3Ij9i0V0/VdyQPwAAgDwAAIA9AAAQPgAAgD4AAMg+AAAQPwAARD8AAIA/VdyQPFXckD3g9yI+VdyQPkZY4j7g9yI/YdFdP1XckD+2aME8tmjBPc6VWT62aME+zhkXP86VWT8sFJQ/tmjBPw/lBT0P5QU+saGWPg/lBT/mNVE/saGWP74GzT8P5QVA6oMzPeqDMz5o9Mk+6oMzPxA/jD9o9Mk/AHEJQOqDM0BMEGQ9TBBkPitJAD9MEGQ/uyyyPytJAEB5nC5ATBBkQJTXiD2U14g+hvIZP5TXiD/W0NU/hvIZQBqKUUCU14hA7W+bPe1vmz7s3S4/7W+bP+Le8j/s3S5AZANuQO1vm0AFk6c9BZOnPmeFPD8Fk6c/3eoCQGeFPECQTIBABZOnQBvKqz0byqs+XkNBPxvKqz/lNQZAXkNBQL2Gg0AbyqtABZOnPQWTpz5nhTw/BZOnP93qAkBnhTxAkEyAQAWTp0Dtb5s97W+bPuzdLj/tb5s/4t7yP+zdLkBkA25A7W+bQJXXiD2V14g+h/IZP5XXiD/Z0NU/h/IZQByKUUCV14hAThBkPU4QZD4rSQA/ThBkP74ssj8rSQBAe5wuQE4QZEDogzM96IMzPmX0yT7ogzM/DT+MP2X0yT/+cAlA6IMzQAzlBT0M5QU+raGWPgzlBT/iNVE/raGWP7oGzT8M5QVAtGjBPLRowT3NlVk+tGjBPs0ZFz/NlVk/KxSUP7RowT9V3JA8VdyQPeD3Ij5V3JA+RFjiPuD3Ij9h0V0/VdyQPwAAgDwAAIA9AAAQPgAAgD4AAMg+AAAQPwAARD8AAIA/VNyQPFTckD3f9yI+VNyQPkVY4j7f9yI/YdFdP1TckD+0aME8tGjBPc2VWT60aME+zRkXP82VWT8rFJQ/tGjBPwzlBT0M5QU+raGWPgzlBT/iNVE/raGWP7oGzT8M5QVA6IMzPeiDMz5l9Mk+6IMzPw0/jD9l9Mk//nAJQOiDM0BIEGQ9SBBkPilJAD9IEGQ/uSyyPylJAEB4nC5ASBBkQJPXiD2T14g+hPIZP5PXiD/X0NU/hPIZQBmKUUCT14hA7G+bPexvmz7r3S4/7G+bP+Le8j/r3S5AYgNuQOxvm0AGk6c9BpOnPmeFPD8Gk6c/3eoCQGeFPECQTIBABpOnQA==",
        "encoding": "base64",
        "path": [
         "attribute",
         "1.789473684210526",
         "data"
        ]
       },
       {
        "data": "AAAAAA3ltT0N5bU+r6FMPw3ltT/yGg5Ar6FMQF5Di0AN5bVA9l+xPfZfsT70i0c/9l+xP/mSCkD0i0dAeM2HQPZfsUBBXKQ9QVykPsvnOD9BXKQ/E2gAQMvnOEBErXtAQVykQMprkD3Ka5A+QnkiP8prkD9qqOE/QnkiQAwlXUDKa5BAdexvPXXsbz4D9QY/dexvP7xwuz8D9QZACbE3QHXsb0Ck3Ts9pN07PlhZ0z6k3Ts/J8WSP1hZ0z+x1Q9ApN07QIbyCj2G8go+11CcPobyCj/yGlk/11CcP17D1D+G8gpALiPGPC4jxj2U514+LiPGPnzLGj+U514/8LKXPy4jxj9bFJI8WxSSPedWJD5bFJI+0D/kPudWJD8sr18/WxSSPwAAgDwAAIA9AAAQPgAAgD4AAMg+AAAQPwAARD8AAIA/WxSSPFsUkj3nViQ+WxSSPs8/5D7nViQ/K69fP1sUkj8sI8Y8LCPGPZLnXj4sI8Y+essaP5LnXj/uspc/LCPGP4jyCj2I8go+2VCcPojyCj/0Glk/2VCcP2DD1D+I8gpApN07PaTdOz5YWdM+pN07PynFkj9YWdM/stUPQKTdO0B27G89duxvPgP1Bj927G8/vHC7PwP1BkAJsTdAduxvQMprkD3Ka5A+QnkiP8prkD9qqOE/QnkiQAwlXUDKa5BAQVykPUFcpD7L5zg/QVykPxNoAEDL5zhARa17QEFcpED2X7E99l+xPvWLRz/2X7E/+ZIKQPWLR0B4zYdA9l+xQA3ltT0N5bU+r6FMPw3ltT/yGg5Ar6FMQF5Di0AN5bVA9l+xPfZfsT71i0c/9l+xP/mSCkD1i0dAeM2HQPZfsUBBXKQ9QVykPsvnOD9BXKQ/E2gAQMvnOEBFrXtAQVykQMprkD3Ka5A+RHkiP8prkD9tqOE/RHkiQA4lXUDKa5BAeOxvPXjsbz4D9QY/eOxvP79wuz8D9QZAC7E3QHjsb0Ch3Ts9od07PldZ0z6h3Ts/JsWSP1dZ0z+w1Q9Aod07QIXyCj2F8go+1VCcPoXyCj/wGlk/1VCcP1rD1D+F8gpAKiPGPCojxj2S514+KiPGPnnLGj+S514/7bKXPyojxj9bFJI8WxSSPedWJD5bFJI+zj/kPudWJD8qr18/WxSSPwAAgDwAAIA9AAAQPgAAgD4AAMg+AAAQPwAARD8AAIA/WhSSPFoUkj3mViQ+WhSSPs4/5D7mViQ/Kq9fP1oUkj8qI8Y8KiPGPZLnXj4qI8Y+ecsaP5LnXj/tspc/KiPGP4XyCj2F8go+1VCcPoXyCj/wGlk/1VCcP1rD1D+F8gpAod07PaHdOz5XWdM+od07PybFkj9XWdM/sNUPQKHdO0By7G89cuxvPgD1Bj9y7G8/uXC7PwD1BkAIsTdAcuxvQMhrkD3Ia5A+QHkiP8hrkD9rqOE/QHkiQAslXUDIa5BAQFykPUBcpD7K5zg/QFykPxNoAEDK5zhARK17QEBcpED3X7E991+xPvaLRz/3X7E/+ZIKQPaLR0B5zYdA91+xQA==",
        "encoding": "base64",
        "path": [
         "attribute",
         "1.894736842105263",
         "data"
        ]
       },
       {
        "data": "AAAAAAAAwD0AAMA+AABYPwAAwD8AABZAAABYQAAAk0AAAMBA5yy7Pecsuz6EklI/5yy7PxY7EkCEklJAYU6PQOcsu0CWSK09lkitPqvxQj+WSK0/tWAHQKvxQkCTq4RAlkitQAAAmD0AAJg+//8qPwAAmD/+f+0///8qQP6/aEAAAJhAoMh7PaDIez7boA0/oMh7P760xD/boA1AmsVAQKDIe0BeN0Q9XjdEPkq+3D5eN0Q/QUuZP0q+3D9kOhZAXjdEQP//Dz3//w8+//+hPv//Dz/+/2A///+hP/5/3D///w9ApN3KPKTdyj1ZOWQ+pN3KPih9Hj9ZOWQ/slGbP6Tdyj9iTJM8YkyTPe61JT5iTJM+WifmPu61JT/1jGE/YkyTPwAAgDwAAIA9AAAQPgAAgD4AAMg+AAAQPwAARD8AAIA/YUyTPGFMkz3utSU+YUyTPlkn5j7utSU/9IxhP2FMkz+i3co8ot3KPVg5ZD6i3co+Jn0eP1g5ZD+wUZs/ot3KPwIAED0CABA+AgCiPgIAED8CAGE/AgCiPwKA3D8CABBAYDdEPWA3RD5Mvtw+YDdEP0NLmT9Mvtw/ZjoWQGA3RECgyHs9oMh7PtugDT+gyHs/vrTEP9ugDUCaxUBAoMh7QAAAmD0AAJg+//8qPwAAmD/+f+0///8qQP6/aEAAAJhAlkitPZZIrT6r8UI/lkitP7VgB0Cr8UJAk6uEQJZIrUDnLLs95yy7PoWSUj/nLLs/FjsSQIWSUkBhTo9A5yy7QAAAwD0AAMA+AABYPwAAwD8AABZAAABYQAAAk0AAAMBA5yy7Pecsuz6FklI/5yy7PxY7EkCFklJAYU6PQOcsu0CWSK09lkitPqvxQj+WSK0/tWAHQKvxQkCTq4RAlkitQAEAmD0BAJg+AQArPwEAmD8CgO0/AQArQALAaEABAJhAo8h7PaPIez7boA0/o8h7P8G0xD/boA1AncVAQKPIe0BcN0Q9XDdEPkm+3D5cN0Q/QEuZP0m+3D9kOhZAXDdEQP7/Dz3+/w8+/v+hPv7/Dz/8/2A//v+hP/x/3D/+/w9AoN3KPKDdyj1WOWQ+oN3KPiV9Hj9WOWQ/sFGbP6Ddyj9hTJM8YUyTPe61JT5hTJM+VyfmPu61JT/0jGE/YUyTPwAAgDwAAIA9AAAQPgAAgD4AAMg+AAAQPwAARD8AAIA/YUyTPGFMkz3ttSU+YUyTPlgn5j7ttSU/9IxhP2FMkz+g3co8oN3KPVY5ZD6g3co+JX0eP1Y5ZD+wUZs/oN3KP/7/Dz3+/w8+/v+hPv7/Dz/8/2A//v+hP/x/3D/+/w9AXDdEPVw3RD5Jvtw+XDdEP0BLmT9Jvtw/ZDoWQFw3RECcyHs9nMh7PtigDT+cyHs/u7TEP9igDUCZxUBAnMh7QP7/lz3+/5c+/f8qP/7/lz//f+0//f8qQP6/aED+/5dAlkitPZZIrT6q8UI/lkitP7ZgB0Cq8UJAlKuEQJZIrUDpLLs96Sy7PoWSUj/pLLs/FjsSQIWSUkBiTo9A6Sy7QA==",
        "encoding": "base64",
        "path": [
         "attribute",
         "2.0",
         "data"
        ]
       },
       {
        "data": "AACAvwAAAAAAAAAAAAAQP3YcR78AAAAAAAAAAAAAgD+ZKIq+AAAAAAAAgD8AAIA/GAiCvAAAAD8AAIA/AAAAPy3Pcz4AAIA/AACAPwAAAAD0+z4/AACAPwAAAAAAAAAAAACAPwAAAD8AAAAAAAAAAA==",
        "encoding": "base64",
        "path": [
         "color_map",
         "data"
        ]
       },
       {
        "data": "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",
        "encoding": "base64",
        "path": [
         "indices",
         "data"
        ]
       },
       {
        "data": "AACAPwAAAAAAAAAAAAAAAAAAAAAAAIA/AAAAAAAAAAAAAAAAAAAAAAAAgD8AAAAAAAAAAAAAAAAAAAAAAACAPw==",
        "encoding": "base64",
        "path": [
         "model_matrix",
         "data"
        ]
       },
       {
        "data": "",
        "encoding": "base64",
        "path": [
         "opacity_function",
         "data"
        ]
       },
       {
        "data": "AADAfw==",
        "encoding": "base64",
        "path": [
         "uvs",
         "data"
        ]
       },
       {
        "data": "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",
        "encoding": "base64",
        "path": [
         "vertices",
         "data"
        ]
       },
       {
        "data": "",
        "encoding": "base64",
        "path": [
         "volume",
         "data"
        ]
       },
       {
        "data": "",
        "encoding": "base64",
        "path": [
         "volume_bounds",
         "data"
        ]
       }
      ],
      "model_module": "k3d",
      "model_module_version": "2.9.0",
      "model_name": "ObjectModel",
      "state": {
       "_color_range_high": 2.01,
       "_color_range_low": -1.1,
       "_view_count": null,
       "_view_module": null,
       "_view_module_version": "",
       "_view_name": null,
       "attribute": {
        "0.0": {
         "dtype": "float32",
         "shape": [
          289
         ]
        },
        "0.10526315789473684": {
         "dtype": "float32",
         "shape": [
          289
         ]
        },
        "0.21052631578947367": {
         "dtype": "float32",
         "shape": [
          289
         ]
        },
        "0.3157894736842105": {
         "dtype": "float32",
         "shape": [
          289
         ]
        },
        "0.42105263157894735": {
         "dtype": "float32",
         "shape": [
          289
         ]
        },
        "0.5263157894736842": {
         "dtype": "float32",
         "shape": [
          289
         ]
        },
        "0.631578947368421": {
         "dtype": "float32",
         "shape": [
          289
         ]
        },
        "0.7368421052631579": {
         "dtype": "float32",
         "shape": [
          289
         ]
        },
        "0.8421052631578947": {
         "dtype": "float32",
         "shape": [
          289
         ]
        },
        "0.9473684210526315": {
         "dtype": "float32",
         "shape": [
          289
         ]
        },
        "1.0526315789473684": {
         "dtype": "float32",
         "shape": [
          289
         ]
        },
        "1.1578947368421053": {
         "dtype": "float32",
         "shape": [
          289
         ]
        },
        "1.263157894736842": {
         "dtype": "float32",
         "shape": [
          289
         ]
        },
        "1.3684210526315788": {
         "dtype": "float32",
         "shape": [
          289
         ]
        },
        "1.4736842105263157": {
         "dtype": "float32",
         "shape": [
          289
         ]
        },
        "1.5789473684210527": {
         "dtype": "float32",
         "shape": [
          289
         ]
        },
        "1.6842105263157894": {
         "dtype": "float32",
         "shape": [
          289
         ]
        },
        "1.789473684210526": {
         "dtype": "float32",
         "shape": [
          289
         ]
        },
        "1.894736842105263": {
         "dtype": "float32",
         "shape": [
          289
         ]
        },
        "2.0": {
         "dtype": "float32",
         "shape": [
          289
         ]
        },
        "timeSeries": true
       },
       "click_callback": false,
       "color": 255,
       "colorLegend": false,
       "color_map": {
        "dtype": "float32",
        "shape": [
         28
        ]
       },
       "color_range": [
        -1.1,
        2.01
       ],
       "compression_level": 0,
       "flat_shading": false,
       "hover_callback": false,
       "id": 4983462352,
       "indices": {
        "dtype": "uint32",
        "shape": [
         540,
         3
        ]
       },
       "model_matrix": {
        "dtype": "float32",
        "shape": [
         4,
         4
        ]
       },
       "name": "Mesh #1",
       "opacity": 1,
       "opacity_function": {
        "dtype": "float32",
        "shape": [
         0
        ]
       },
       "side": "front",
       "texture": null,
       "texture_file_format": null,
       "type": "Mesh",
       "uvs": {
        "dtype": "float32",
        "shape": []
       },
       "vertices": {
        "dtype": "float32",
        "shape": [
         289,
         3
        ]
       },
       "visible": true,
       "volume": {
        "dtype": "float32",
        "shape": [
         0
        ]
       },
       "volume_bounds": {
        "dtype": "float32",
        "shape": [
         0
        ]
       },
       "wireframe": false
      }
     }
    },
    "version_major": 2,
    "version_minor": 0
   }
  }
 },
 "nbformat": 4,
 "nbformat_minor": 4
}
