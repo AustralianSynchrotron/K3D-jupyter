{
 "cells": [
  {
   "cell_type": "markdown",
   "metadata": {},
   "source": [
    "## Line"
   ]
  },
  {
   "cell_type": "code",
   "execution_count": 1,
   "metadata": {},
   "outputs": [
    {
     "data": {
      "application/vnd.jupyter.widget-view+json": {
       "model_id": "3ec9017a60e9470abbaf405f8043ecdb",
       "version_major": 2,
       "version_minor": 0
      },
      "text/plain": [
       "Output()"
      ]
     },
     "metadata": {},
     "output_type": "display_data"
    }
   ],
   "source": [
    "import k3d\n",
    "\n",
    "plot = k3d.plot()\n",
    "\n",
    "plt_line = k3d.line(vertices=[[0,0,0], [0,0,1], [0,1,1] ,[0,1,0], [0,0,0]], shader='simple')\n",
    "plot += plt_line\n",
    "\n",
    "plot.display()"
   ]
  },
  {
   "cell_type": "code",
   "execution_count": 2,
   "metadata": {},
   "outputs": [
    {
     "data": {
      "application/vnd.jupyter.widget-view+json": {
       "model_id": "ae788f327ed24ba8a88a02727829b78d",
       "version_major": 2,
       "version_minor": 0
      },
      "text/plain": [
       "Output()"
      ]
     },
     "metadata": {},
     "output_type": "display_data"
    }
   ],
   "source": [
    "plot1 = k3d.plot()\n",
    "\n",
    "plt_meshline = k3d.line(vertices=[[0,0,0], [0,0,1], [0,1,1] ,[0,1,0], [0,0,0]], shader='mesh')\n",
    "plot1 += plt_meshline\n",
    "\n",
    "plot1.display()"
   ]
  }
 ],
 "metadata": {
  "kernelspec": {
   "display_name": "Python 3",
   "language": "python",
   "name": "python3"
  },
  "language_info": {
   "codemirror_mode": {
    "name": "ipython",
    "version": 3
   },
   "file_extension": ".py",
   "mimetype": "text/x-python",
   "name": "python",
   "nbconvert_exporter": "python",
   "pygments_lexer": "ipython3",
   "version": "3.6.6"
  },
  "widgets": {
   "application/vnd.jupyter.widget-state+json": {
    "state": {
     "0656826e06b24693b36cfa3ef4b9a962": {
      "model_module": "@jupyter-widgets/base",
      "model_module_version": "1.1.0",
      "model_name": "LayoutModel",
      "state": {}
     },
     "08afaaf83faa4fb1b064de90ef9c497e": {
      "model_module": "@jupyter-widgets/output",
      "model_module_version": "1.0.0",
      "model_name": "OutputModel",
      "state": {
       "layout": "IPY_MODEL_ad43fcd32e6149ab8e0dc74218e70667",
       "outputs": [
        {
         "data": {
          "application/vnd.jupyter.widget-view+json": {
           "model_id": "53fac39e7f0b4e58b5eb45d930b7fe72",
           "version_major": 2,
           "version_minor": 0
          },
          "text/plain": "Plot(antialias=True, background_color=16777215, fps_meter=False, grid=[-1, -1, -1, 1, 1, 1], height=512, light…"
         },
         "metadata": {},
         "output_type": "display_data"
        }
       ]
      }
     },
     "0ca8b970d4034d82b98ea98f3dbd2d6c": {
      "model_module": "@jupyter-widgets/base",
      "model_module_version": "1.1.0",
      "model_name": "LayoutModel",
      "state": {}
     },
     "0d49ef4c4ce948d3a0a7ba7ca870c6c0": {
      "model_module": "@jupyter-widgets/base",
      "model_module_version": "1.1.0",
      "model_name": "LayoutModel",
      "state": {}
     },
     "0e3ae3ddd5f442df8ca18d2a89a85b39": {
      "buffers": [
       {
        "data": "",
        "encoding": "base64",
        "path": [
         "attribute",
         "buffer"
        ]
       },
       {
        "data": "",
        "encoding": "base64",
        "path": [
         "color_map",
         "buffer"
        ]
       },
       {
        "data": "",
        "encoding": "base64",
        "path": [
         "colors",
         "buffer"
        ]
       },
       {
        "data": "AACAPwAAAAAAAAAAAAAAAAAAAAAAAIA/AAAAAAAAAAAAAAAAAAAAAAAAgD8AAAAAAAAAAAAAAAAAAAAAAACAPw==",
        "encoding": "base64",
        "path": [
         "model_matrix",
         "buffer"
        ]
       },
       {
        "data": "AAAAAAAAAAAAAAAAAAAAAAAAAAAAAIA/AAAAAAAAgD8AAIA/AAAAAAAAgD8AAAAAAAAAAAAAAAAAAAAA",
        "encoding": "base64",
        "path": [
         "vertices",
         "buffer"
        ]
       }
      ],
      "model_module": "k3d",
      "model_module_version": "^3.0.0",
      "model_name": "ObjectModel",
      "state": {
       "_model_module_version": "^3.0.0",
       "_view_count": null,
       "_view_module": null,
       "_view_module_version": "",
       "_view_name": null,
       "attribute": {
        "dtype": "float32",
        "shape": [
         0
        ]
       },
       "color": 255,
       "color_map": {
        "dtype": "float32",
        "shape": [
         0
        ]
       },
       "color_range": [],
       "colors": {
        "dtype": "uint32",
        "shape": [
         0
        ]
       },
       "compression_level": 0,
       "id": 140515336481200,
       "model_matrix": {
        "dtype": "float32",
        "shape": [
         4,
         4
        ]
       },
       "radial_segments": 8,
       "shader": "simple",
       "type": "Line",
       "vertices": {
        "dtype": "float32",
        "shape": [
         5,
         3
        ]
       },
       "visible": true,
       "width": 0.01
      }
     },
     "0ec08589ea9f4f23913c9794d91e6b8c": {
      "model_module": "@jupyter-widgets/base",
      "model_module_version": "1.1.0",
      "model_name": "LayoutModel",
      "state": {}
     },
     "1003fe4705c14e0fa61fa1b6dbf7f3cd": {
      "buffers": [
       {
        "data": "",
        "encoding": "base64",
        "path": [
         "attribute",
         "buffer"
        ]
       },
       {
        "data": "",
        "encoding": "base64",
        "path": [
         "color_map",
         "buffer"
        ]
       },
       {
        "data": "",
        "encoding": "base64",
        "path": [
         "colors",
         "buffer"
        ]
       },
       {
        "data": "AACAPwAAAAAAAAAAAAAAAAAAAAAAAIA/AAAAAAAAAAAAAAAAAAAAAAAAgD8AAAAAAAAAAAAAAAAAAAAAAACAPw==",
        "encoding": "base64",
        "path": [
         "model_matrix",
         "buffer"
        ]
       },
       {
        "data": "AAAAAAAAAAAAAAAAAAAAAAAAAAAAAIA/AAAAAAAAgD8AAIA/AAAAAAAAgD8AAAAAAAAAAAAAAAAAAAAA",
        "encoding": "base64",
        "path": [
         "vertices",
         "buffer"
        ]
       }
      ],
      "model_module": "k3d",
      "model_module_version": "^3.0.0",
      "model_name": "ObjectModel",
      "state": {
       "_model_module_version": "^3.0.0",
       "_view_count": null,
       "_view_module": null,
       "_view_module_version": "",
       "_view_name": null,
       "attribute": {
        "dtype": "float32",
        "shape": [
         0
        ]
       },
       "color": 255,
       "color_map": {
        "dtype": "float32",
        "shape": [
         0
        ]
       },
       "color_range": [],
       "colors": {
        "dtype": "uint32",
        "shape": [
         0
        ]
       },
       "compression_level": 0,
       "id": 140717248091920,
       "model_matrix": {
        "dtype": "float32",
        "shape": [
         4,
         4
        ]
       },
       "radial_segments": 8,
       "shader": "thick",
       "type": "Line",
       "vertices": {
        "dtype": "float32",
        "shape": [
         5,
         3
        ]
       },
       "visible": true,
       "width": 0.01
      }
     },
     "10fe38a245d5415e8e33ce8eed4419a0": {
      "model_module": "@jupyter-widgets/output",
      "model_module_version": "1.0.0",
      "model_name": "OutputModel",
      "state": {
       "layout": "IPY_MODEL_e0c248fff7714c9385ab3830a9b03b31",
       "outputs": [
        {
         "data": {
          "application/vnd.jupyter.widget-view+json": {
           "model_id": "901c85cf138445748c2ccfa4526f3561",
           "version_major": 2,
           "version_minor": 0
          },
          "text/plain": "Plot(antialias=True, background_color=16777215, fps_meter=False, grid=[-1, -1, -1, 1, 1, 1], height=512, light…"
         },
         "metadata": {},
         "output_type": "display_data"
        }
       ]
      }
     },
     "24262c585ca04a79beb854e55b6464a2": {
      "model_module": "@jupyter-widgets/base",
      "model_module_version": "1.1.0",
      "model_name": "LayoutModel",
      "state": {}
     },
     "2627a3fdf2084a779292ba04ea7d37f2": {
      "model_module": "k3d",
      "model_module_version": "^3.0.0",
      "model_name": "PlotModel",
      "state": {
       "_backend_version": "2.4.20",
       "_dom_classes": [],
       "_model_module_version": "^3.0.0",
       "_view_count": null,
       "_view_module_version": "^3.0.0",
       "antialias": true,
       "background_color": 16777215,
       "camera": [
        1.1748906749819361,
        -1.2623360124729048,
        0.6174890674981948,
        0,
        0.5,
        0.5,
        0,
        0,
        1
       ],
       "camera_auto_fit": true,
       "clipping_planes": [],
       "fps_meter": false,
       "grid": [
        -1,
        -1,
        -1,
        1,
        1,
        1
       ],
       "grid_auto_fit": true,
       "height": 512,
       "layout": "IPY_MODEL_f6c8240d910343c9b14fae7137264fcc",
       "lighting": 1,
       "object_ids": [
        140717245425144
       ],
       "screenshot": "",
       "screenshot_scale": 2,
       "voxel_paint_color": 0
      }
     },
     "2ca482b19491424c912517107b58e0b5": {
      "buffers": [
       {
        "data": "",
        "encoding": "base64",
        "path": [
         "attribute",
         "buffer"
        ]
       },
       {
        "data": "",
        "encoding": "base64",
        "path": [
         "color_map",
         "buffer"
        ]
       },
       {
        "data": "",
        "encoding": "base64",
        "path": [
         "colors",
         "buffer"
        ]
       },
       {
        "data": "AACAPwAAAAAAAAAAAAAAAAAAAAAAAIA/AAAAAAAAAAAAAAAAAAAAAAAAgD8AAAAAAAAAAAAAAAAAAAAAAACAPw==",
        "encoding": "base64",
        "path": [
         "model_matrix",
         "buffer"
        ]
       },
       {
        "data": "AAAAAAAAAAAAAAAAAAAAAAAAAAAAAIA/AAAAAAAAgD8AAIA/AAAAAAAAgD8AAAAAAAAAAAAAAAAAAAAA",
        "encoding": "base64",
        "path": [
         "vertices",
         "buffer"
        ]
       }
      ],
      "model_module": "k3d",
      "model_module_version": "^3.0.0",
      "model_name": "ObjectModel",
      "state": {
       "_model_module_version": "^3.0.0",
       "_view_count": null,
       "_view_module": null,
       "_view_module_version": "",
       "_view_name": null,
       "attribute": {
        "dtype": "float32",
        "shape": [
         0
        ]
       },
       "color": 255,
       "color_map": {
        "dtype": "float32",
        "shape": [
         0
        ]
       },
       "color_range": [],
       "colors": {
        "dtype": "uint32",
        "shape": [
         0
        ]
       },
       "compression_level": 0,
       "id": 140717245558912,
       "model_matrix": {
        "dtype": "float32",
        "shape": [
         4,
         4
        ]
       },
       "radial_segments": 8,
       "shader": "mesh",
       "type": "Line",
       "vertices": {
        "dtype": "float32",
        "shape": [
         5,
         3
        ]
       },
       "visible": true,
       "width": 0.01
      }
     },
     "2d393f642ef74b11902885c3c48ca89e": {
      "model_module": "@jupyter-widgets/output",
      "model_module_version": "1.0.0",
      "model_name": "OutputModel",
      "state": {
       "layout": "IPY_MODEL_ab3f726c1edb423db95e931c95a25cd5",
       "outputs": [
        {
         "data": {
          "application/vnd.jupyter.widget-view+json": {
           "model_id": "f5d04e92c10c4dceaf8b3108831aa6b8",
           "version_major": 2,
           "version_minor": 0
          },
          "text/plain": "Plot(antialias=True, background_color=16777215, fps_meter=False, grid=[-1, -1, -1, 1, 1, 1], height=512, light…"
         },
         "metadata": {},
         "output_type": "display_data"
        }
       ]
      }
     },
     "319e894c99804f36b6a22aed2883e9c4": {
      "buffers": [
       {
        "data": "",
        "encoding": "base64",
        "path": [
         "attribute",
         "buffer"
        ]
       },
       {
        "data": "",
        "encoding": "base64",
        "path": [
         "color_map",
         "buffer"
        ]
       },
       {
        "data": "",
        "encoding": "base64",
        "path": [
         "colors",
         "buffer"
        ]
       },
       {
        "data": "AACAPwAAAAAAAAAAAAAAAAAAAAAAAIA/AAAAAAAAAAAAAAAAAAAAAAAAgD8AAAAAAAAAAAAAAAAAAAAAAACAPw==",
        "encoding": "base64",
        "path": [
         "model_matrix",
         "buffer"
        ]
       },
       {
        "data": "AAAAAAAAAAAAAAAAAAAAAAAAAAAAAIA/AAAAAAAAgD8AAIA/AAAAAAAAgD8AAAAAAAAAAAAAAAAAAAAA",
        "encoding": "base64",
        "path": [
         "vertices",
         "buffer"
        ]
       }
      ],
      "model_module": "k3d",
      "model_module_version": "^3.0.0",
      "model_name": "ObjectModel",
      "state": {
       "_model_module_version": "^3.0.0",
       "_view_count": null,
       "_view_module": null,
       "_view_module_version": "",
       "_view_name": null,
       "attribute": {
        "dtype": "float32",
        "shape": [
         0
        ]
       },
       "color": 255,
       "color_map": {
        "dtype": "float32",
        "shape": [
         0
        ]
       },
       "color_range": [],
       "colors": {
        "dtype": "uint32",
        "shape": [
         0
        ]
       },
       "compression_level": 0,
       "id": 140717248093936,
       "model_matrix": {
        "dtype": "float32",
        "shape": [
         4,
         4
        ]
       },
       "radial_segments": 8,
       "shader": "thick",
       "type": "Line",
       "vertices": {
        "dtype": "float32",
        "shape": [
         5,
         3
        ]
       },
       "visible": true,
       "width": 0.3
      }
     },
     "335ce91aa15b4e5a86bb8b882c381de6": {
      "model_module": "k3d",
      "model_module_version": "^3.0.0",
      "model_name": "PlotModel",
      "state": {
       "_backend_version": "2.4.20",
       "_dom_classes": [],
       "_model_module_version": "^3.0.0",
       "_view_count": null,
       "_view_module_version": "^3.0.0",
       "antialias": true,
       "background_color": 16777215,
       "camera": [],
       "camera_auto_fit": true,
       "clipping_planes": [],
       "fps_meter": false,
       "grid": [
        -1,
        -1,
        -1,
        1,
        1,
        1
       ],
       "grid_auto_fit": true,
       "height": 512,
       "layout": "IPY_MODEL_0d49ef4c4ce948d3a0a7ba7ca870c6c0",
       "lighting": 1,
       "object_ids": [
        140516303663056
       ],
       "screenshot": "",
       "screenshot_scale": 2,
       "voxel_paint_color": 0
      }
     },
     "33838e3636fa4f95b9ecad53f2236ba2": {
      "model_module": "@jupyter-widgets/base",
      "model_module_version": "1.1.0",
      "model_name": "LayoutModel",
      "state": {}
     },
     "34f487fdbbc049e18b46c20629d228f9": {
      "model_module": "@jupyter-widgets/base",
      "model_module_version": "1.1.0",
      "model_name": "LayoutModel",
      "state": {}
     },
     "3507e27162c64ceaaafdaf0322d3f5f6": {
      "model_module": "@jupyter-widgets/base",
      "model_module_version": "1.1.0",
      "model_name": "LayoutModel",
      "state": {}
     },
     "37ee7a8d0acf487a8647192d25e5c7bc": {
      "model_module": "@jupyter-widgets/base",
      "model_module_version": "1.1.0",
      "model_name": "LayoutModel",
      "state": {}
     },
     "3ec9017a60e9470abbaf405f8043ecdb": {
      "model_module": "@jupyter-widgets/output",
      "model_module_version": "1.0.0",
      "model_name": "OutputModel",
      "state": {
       "layout": "IPY_MODEL_c3439d4c507649b5a0d0a0140995d562",
       "outputs": [
        {
         "data": {
          "application/vnd.jupyter.widget-view+json": {
           "model_id": "b73cd5e281684b8f83e38f250ff089ef",
           "version_major": 2,
           "version_minor": 0
          },
          "text/plain": "Plot(antialias=True, background_color=16777215, fps_meter=False, grid=[-1, -1, -1, 1, 1, 1], height=512, light…"
         },
         "metadata": {},
         "output_type": "display_data"
        }
       ]
      }
     },
     "4346888144394ad689a6cf61f539f8ba": {
      "model_module": "@jupyter-widgets/output",
      "model_module_version": "1.0.0",
      "model_name": "OutputModel",
      "state": {
       "layout": "IPY_MODEL_c6d9af2997a643b38de9e1e6057849bc",
       "outputs": [
        {
         "data": {
          "application/vnd.jupyter.widget-view+json": {
           "model_id": "baa65b75a3c64849970f9dbb5884b289",
           "version_major": 2,
           "version_minor": 0
          },
          "text/plain": "Plot(antialias=True, background_color=16777215, fps_meter=False, grid=[-1, -1, -1, 1, 1, 1], height=512, light…"
         },
         "metadata": {},
         "output_type": "display_data"
        }
       ]
      }
     },
     "44cc6e6292ac446aa09385a01d62ca49": {
      "model_module": "k3d",
      "model_module_version": "^3.0.0",
      "model_name": "PlotModel",
      "state": {
       "_backend_version": "2.4.20",
       "_dom_classes": [],
       "_model_module_version": "^3.0.0",
       "_view_count": null,
       "_view_module_version": "^3.0.0",
       "antialias": true,
       "background_color": 16777215,
       "camera": [
        1.1748906749819361,
        -1.2623360124729048,
        0.6174890674981948,
        0,
        0.5,
        0.5,
        0,
        0,
        1
       ],
       "camera_auto_fit": true,
       "clipping_planes": [],
       "fps_meter": false,
       "grid": [
        -1,
        -1,
        -1,
        1,
        1,
        1
       ],
       "grid_auto_fit": true,
       "height": 512,
       "layout": "IPY_MODEL_33838e3636fa4f95b9ecad53f2236ba2",
       "lighting": 1,
       "object_ids": [
        139793651505976
       ],
       "screenshot": "",
       "screenshot_scale": 2,
       "voxel_paint_color": 0
      }
     },
     "45a4f5fd59e44c24b55b0174992657cf": {
      "model_module": "@jupyter-widgets/base",
      "model_module_version": "1.1.0",
      "model_name": "LayoutModel",
      "state": {}
     },
     "475d1f2a791c43d5b7f7b25a35aaa787": {
      "model_module": "@jupyter-widgets/base",
      "model_module_version": "1.1.0",
      "model_name": "LayoutModel",
      "state": {}
     },
     "47680160207f45e088f4178ec543146c": {
      "model_module": "k3d",
      "model_module_version": "^3.0.0",
      "model_name": "PlotModel",
      "state": {
       "_backend_version": "2.4.20",
       "_dom_classes": [],
       "_model_module_version": "^3.0.0",
       "_view_count": null,
       "_view_module_version": "^3.0.0",
       "antialias": true,
       "background_color": 16777215,
       "camera": [
        1.1985036568354848,
        -1.2977554899098405,
        0.6198503610269367,
        0,
        0.4999999953433871,
        0.4999999953433871,
        0,
        0,
        1
       ],
       "camera_auto_fit": true,
       "clipping_planes": [],
       "fps_meter": false,
       "grid": [
        -1,
        -1,
        -1,
        1,
        1,
        1
       ],
       "grid_auto_fit": true,
       "height": 512,
       "layout": "IPY_MODEL_b18287f87d624edc968bc6e50ccaa6fa",
       "lighting": 1,
       "object_ids": [
        140515336480248
       ],
       "screenshot": "",
       "screenshot_scale": 2,
       "voxel_paint_color": 0
      }
     },
     "532f21d01e6847368e730215bac85510": {
      "model_module": "@jupyter-widgets/base",
      "model_module_version": "1.1.0",
      "model_name": "LayoutModel",
      "state": {}
     },
     "534fe2db67c141a0a0d8ebf7c6cc149a": {
      "model_module": "k3d",
      "model_module_version": "^3.0.0",
      "model_name": "PlotModel",
      "state": {
       "_backend_version": "2.4.20",
       "_dom_classes": [],
       "_model_module_version": "^3.0.0",
       "_view_count": null,
       "_view_module_version": "^3.0.0",
       "antialias": true,
       "background_color": 16777215,
       "camera": [
        0.7814387096256874,
        -1.4677055094997673,
        0.7310276495568993,
        0,
        0.4999999953433871,
        0.4999999953433871,
        0.35057906215468804,
        0.18702311212471479,
        0.917669154276164
       ],
       "camera_auto_fit": true,
       "clipping_planes": [],
       "fps_meter": false,
       "grid": [
        -1,
        -1,
        -1,
        1,
        1,
        1
       ],
       "grid_auto_fit": true,
       "height": 512,
       "layout": "IPY_MODEL_d2a13dea209b403cbbdd3d6fac7c2a75",
       "lighting": 1,
       "object_ids": [
        140717248227480
       ],
       "screenshot": "",
       "screenshot_scale": 2,
       "voxel_paint_color": 0
      }
     },
     "53597165acb249b2b38efcc5dc82be47": {
      "buffers": [
       {
        "data": "",
        "encoding": "base64",
        "path": [
         "attribute",
         "buffer"
        ]
       },
       {
        "data": "",
        "encoding": "base64",
        "path": [
         "color_map",
         "buffer"
        ]
       },
       {
        "data": "",
        "encoding": "base64",
        "path": [
         "colors",
         "buffer"
        ]
       },
       {
        "data": "AACAPwAAAAAAAAAAAAAAAAAAAAAAAIA/AAAAAAAAAAAAAAAAAAAAAAAAgD8AAAAAAAAAAAAAAAAAAAAAAACAPw==",
        "encoding": "base64",
        "path": [
         "model_matrix",
         "buffer"
        ]
       },
       {
        "data": "AAAAAAAAAAAAAAAAAAAAAAAAAAAAAIA/AAAAAAAAgD8AAIA/AAAAAAAAgD8AAAAAAAAAAAAAAAAAAAAA",
        "encoding": "base64",
        "path": [
         "vertices",
         "buffer"
        ]
       }
      ],
      "model_module": "k3d",
      "model_module_version": "^3.0.0",
      "model_name": "ObjectModel",
      "state": {
       "_model_module_version": "^3.0.0",
       "_view_count": null,
       "_view_module": null,
       "_view_module_version": "",
       "_view_name": null,
       "attribute": {
        "dtype": "float32",
        "shape": [
         0
        ]
       },
       "color": 255,
       "color_map": {
        "dtype": "float32",
        "shape": [
         0
        ]
       },
       "color_range": [],
       "colors": {
        "dtype": "uint32",
        "shape": [
         0
        ]
       },
       "compression_level": 0,
       "id": 140717245423688,
       "model_matrix": {
        "dtype": "float32",
        "shape": [
         4,
         4
        ]
       },
       "radial_segments": 64,
       "shader": "mesh",
       "type": "Line",
       "vertices": {
        "dtype": "float32",
        "shape": [
         5,
         3
        ]
       },
       "visible": true,
       "width": 0.009000000000000032
      }
     },
     "53fac39e7f0b4e58b5eb45d930b7fe72": {
      "model_module": "k3d",
      "model_module_version": "^3.0.0",
      "model_name": "PlotModel",
      "state": {
       "_backend_version": "2.4.20",
       "_dom_classes": [],
       "_model_module_version": "^3.0.0",
       "_view_count": null,
       "_view_module_version": "^3.0.0",
       "antialias": true,
       "background_color": 16777215,
       "camera": [
        1.4506921526836296,
        0.06500337445969151,
        0.6503139789351231,
        0,
        0.5,
        0.5,
        0.08890850849418963,
        0.4155292906004473,
        0.9052241080364735
       ],
       "camera_auto_fit": true,
       "clipping_planes": [],
       "fps_meter": false,
       "grid": [
        -1,
        -1,
        -1,
        1,
        1,
        1
       ],
       "grid_auto_fit": true,
       "height": 512,
       "layout": "IPY_MODEL_ae445b35fbe045c6a11866c12f173561",
       "lighting": 1,
       "object_ids": [
        140717248226248
       ],
       "screenshot": "",
       "screenshot_scale": 2,
       "voxel_paint_color": 0
      }
     },
     "557ce02abbe34e439f63290b884289ce": {
      "buffers": [
       {
        "data": "",
        "encoding": "base64",
        "path": [
         "attribute",
         "buffer"
        ]
       },
       {
        "data": "",
        "encoding": "base64",
        "path": [
         "color_map",
         "buffer"
        ]
       },
       {
        "data": "",
        "encoding": "base64",
        "path": [
         "colors",
         "buffer"
        ]
       },
       {
        "data": "AACAPwAAAAAAAAAAAAAAAAAAAAAAAIA/AAAAAAAAAAAAAAAAAAAAAAAAgD8AAAAAAAAAAAAAAAAAAAAAAACAPw==",
        "encoding": "base64",
        "path": [
         "model_matrix",
         "buffer"
        ]
       },
       {
        "data": "AAAAAAAAAAAAAAAAAAAAAAAAAAAAAIA/AAAAAAAAgD8AAIA/AAAAAAAAgD8AAAAAAAAAAAAAAAAAAAAA",
        "encoding": "base64",
        "path": [
         "vertices",
         "buffer"
        ]
       }
      ],
      "model_module": "k3d",
      "model_module_version": "^3.0.0",
      "model_name": "ObjectModel",
      "state": {
       "_model_module_version": "^3.0.0",
       "_view_count": null,
       "_view_module": null,
       "_view_module_version": "",
       "_view_name": null,
       "attribute": {
        "dtype": "float32",
        "shape": [
         0
        ]
       },
       "color": 255,
       "color_map": {
        "dtype": "float32",
        "shape": [
         0
        ]
       },
       "color_range": [],
       "colors": {
        "dtype": "uint32",
        "shape": [
         0
        ]
       },
       "compression_level": 0,
       "id": 140515339460448,
       "model_matrix": {
        "dtype": "float32",
        "shape": [
         4,
         4
        ]
       },
       "radial_segments": 8,
       "shader": "simple",
       "type": "Line",
       "vertices": {
        "dtype": "float32",
        "shape": [
         5,
         3
        ]
       },
       "visible": true,
       "width": 0.01
      }
     },
     "56c25f2fafb3436ba6dce41875632d91": {
      "buffers": [
       {
        "data": "",
        "encoding": "base64",
        "path": [
         "attribute",
         "buffer"
        ]
       },
       {
        "data": "",
        "encoding": "base64",
        "path": [
         "color_map",
         "buffer"
        ]
       },
       {
        "data": "",
        "encoding": "base64",
        "path": [
         "colors",
         "buffer"
        ]
       },
       {
        "data": "AACAPwAAAAAAAAAAAAAAAAAAAAAAAIA/AAAAAAAAAAAAAAAAAAAAAAAAgD8AAAAAAAAAAAAAAAAAAAAAAACAPw==",
        "encoding": "base64",
        "path": [
         "model_matrix",
         "buffer"
        ]
       },
       {
        "data": "AAAAAAAAAAAAAAAAAAAAAAAAAAAAAIA/AAAAAAAAgD8AAIA/AAAAAAAAgD8AAAAAAAAAAAAAAAAAAAAA",
        "encoding": "base64",
        "path": [
         "vertices",
         "buffer"
        ]
       }
      ],
      "model_module": "k3d",
      "model_module_version": "^3.0.0",
      "model_name": "ObjectModel",
      "state": {
       "_model_module_version": "^3.0.0",
       "_view_count": null,
       "_view_module": null,
       "_view_module_version": "",
       "_view_name": null,
       "attribute": {
        "dtype": "float32",
        "shape": [
         0
        ]
       },
       "color": 255,
       "color_map": {
        "dtype": "float32",
        "shape": [
         0
        ]
       },
       "color_range": [],
       "colors": {
        "dtype": "uint32",
        "shape": [
         0
        ]
       },
       "compression_level": 0,
       "id": 140717248093432,
       "model_matrix": {
        "dtype": "float32",
        "shape": [
         4,
         4
        ]
       },
       "radial_segments": 8,
       "shader": "simple",
       "type": "Line",
       "vertices": {
        "dtype": "float32",
        "shape": [
         5,
         3
        ]
       },
       "visible": true,
       "width": 0.01
      }
     },
     "608aed7003d54872b5c364f66a021fb5": {
      "model_module": "@jupyter-widgets/output",
      "model_module_version": "1.0.0",
      "model_name": "OutputModel",
      "state": {
       "layout": "IPY_MODEL_0ca8b970d4034d82b98ea98f3dbd2d6c",
       "outputs": [
        {
         "data": {
          "application/vnd.jupyter.widget-view+json": {
           "model_id": "b008d9dcf6214feba55750a473512159",
           "version_major": 2,
           "version_minor": 0
          },
          "text/plain": "Plot(antialias=True, background_color=16777215, fps_meter=False, grid=[-1, -1, -1, 1, 1, 1], height=512, light…"
         },
         "metadata": {},
         "output_type": "display_data"
        }
       ]
      }
     },
     "60da9e7a20604b7885cb668445dea8df": {
      "model_module": "@jupyter-widgets/base",
      "model_module_version": "1.1.0",
      "model_name": "LayoutModel",
      "state": {}
     },
     "6264abf5ee074ee4bcdaff9d772965a5": {
      "model_module": "@jupyter-widgets/output",
      "model_module_version": "1.0.0",
      "model_name": "OutputModel",
      "state": {
       "layout": "IPY_MODEL_b557e26725cd4f57b7cbbdf1c6a66ca6",
       "outputs": [
        {
         "data": {
          "application/vnd.jupyter.widget-view+json": {
           "model_id": "47680160207f45e088f4178ec543146c",
           "version_major": 2,
           "version_minor": 0
          },
          "text/plain": "Plot(antialias=True, background_color=16777215, fps_meter=False, grid=[-1, -1, -1, 1, 1, 1], height=512, light…"
         },
         "metadata": {},
         "output_type": "display_data"
        }
       ]
      }
     },
     "64f5defae14f4c129bc64666026337a2": {
      "model_module": "@jupyter-widgets/output",
      "model_module_version": "1.0.0",
      "model_name": "OutputModel",
      "state": {
       "layout": "IPY_MODEL_ba9ec536370c4fbf92cb2fec383e6ebd",
       "outputs": [
        {
         "data": {
          "application/vnd.jupyter.widget-view+json": {
           "model_id": "74606639cb4d4b0bb70928e9c81fe3be",
           "version_major": 2,
           "version_minor": 0
          },
          "text/plain": "Plot(antialias=True, background_color=16777215, fps_meter=False, grid=[-1, -1, -1, 1, 1, 1], height=512, light…"
         },
         "metadata": {},
         "output_type": "display_data"
        }
       ]
      }
     },
     "676c1155af7f499a8cd0982c140e1700": {
      "model_module": "@jupyter-widgets/output",
      "model_module_version": "1.0.0",
      "model_name": "OutputModel",
      "state": {
       "layout": "IPY_MODEL_c832b341c3504c8f9749c006e8227521",
       "outputs": [
        {
         "data": {
          "application/vnd.jupyter.widget-view+json": {
           "model_id": "d61a7dd3880d4a9f8c159a2f4af9c81c",
           "version_major": 2,
           "version_minor": 0
          },
          "text/plain": "Plot(antialias=True, background_color=16777215, fps_meter=False, grid=[-1, -1, -1, 1, 1, 1], height=512, light…"
         },
         "metadata": {},
         "output_type": "display_data"
        }
       ]
      }
     },
     "68d8ab0ab639416abf3ded5f6ba40af0": {
      "buffers": [
       {
        "data": "",
        "encoding": "base64",
        "path": [
         "attribute",
         "buffer"
        ]
       },
       {
        "data": "",
        "encoding": "base64",
        "path": [
         "color_map",
         "buffer"
        ]
       },
       {
        "data": "",
        "encoding": "base64",
        "path": [
         "colors",
         "buffer"
        ]
       },
       {
        "data": "AACAPwAAAAAAAAAAAAAAAAAAAAAAAIA/AAAAAAAAAAAAAAAAAAAAAAAAgD8AAAAAAAAAAAAAAAAAAAAAAACAPw==",
        "encoding": "base64",
        "path": [
         "model_matrix",
         "buffer"
        ]
       },
       {
        "data": "AAAAAAAAAAAAAAAAAAAAAAAAAAAAAIA/AAAAAAAAgD8AAIA/AAAAAAAAgD8AAAAAAAAAAAAAAAAAAAAA",
        "encoding": "base64",
        "path": [
         "vertices",
         "buffer"
        ]
       }
      ],
      "model_module": "k3d",
      "model_module_version": "^3.0.0",
      "model_name": "ObjectModel",
      "state": {
       "_model_module_version": "^3.0.0",
       "_view_count": null,
       "_view_module": null,
       "_view_module_version": "",
       "_view_name": null,
       "attribute": {
        "dtype": "float32",
        "shape": [
         0
        ]
       },
       "color": 255,
       "color_map": {
        "dtype": "float32",
        "shape": [
         0
        ]
       },
       "color_range": [],
       "colors": {
        "dtype": "uint32",
        "shape": [
         0
        ]
       },
       "compression_level": 0,
       "id": 140717248093768,
       "model_matrix": {
        "dtype": "float32",
        "shape": [
         4,
         4
        ]
       },
       "radial_segments": 8,
       "shader": "simple",
       "type": "Line",
       "vertices": {
        "dtype": "float32",
        "shape": [
         5,
         3
        ]
       },
       "visible": true,
       "width": 0.01
      }
     },
     "68de6533042e46a4963a162343f63eda": {
      "model_module": "k3d",
      "model_module_version": "^3.0.0",
      "model_name": "PlotModel",
      "state": {
       "_backend_version": "2.4.20",
       "_dom_classes": [],
       "_model_module_version": "^3.0.0",
       "_view_count": null,
       "_view_module_version": "^3.0.0",
       "antialias": true,
       "background_color": 16777215,
       "camera": [
        1.1985036568354848,
        -1.2977554899098405,
        0.6198503610269367,
        0,
        0.4999999953433871,
        0.4999999953433871,
        0,
        0,
        1
       ],
       "camera_auto_fit": true,
       "clipping_planes": [],
       "fps_meter": false,
       "grid": [
        -1,
        -1,
        -1,
        1,
        1,
        1
       ],
       "grid_auto_fit": true,
       "height": 512,
       "layout": "IPY_MODEL_d62b1be5d8bb47f4b0abcc799f918b17",
       "lighting": 1,
       "object_ids": [
        139832595644088
       ],
       "screenshot": "",
       "screenshot_scale": 2,
       "voxel_paint_color": 0
      }
     },
     "6c4ec9af60d7461cb1a5175f548e7223": {
      "buffers": [
       {
        "data": "",
        "encoding": "base64",
        "path": [
         "attribute",
         "buffer"
        ]
       },
       {
        "data": "",
        "encoding": "base64",
        "path": [
         "color_map",
         "buffer"
        ]
       },
       {
        "data": "",
        "encoding": "base64",
        "path": [
         "colors",
         "buffer"
        ]
       },
       {
        "data": "AACAPwAAAAAAAAAAAAAAAAAAAAAAAIA/AAAAAAAAAAAAAAAAAAAAAAAAgD8AAAAAAAAAAAAAAAAAAAAAAACAPw==",
        "encoding": "base64",
        "path": [
         "model_matrix",
         "buffer"
        ]
       },
       {
        "data": "AAAAAAAAAAAAAAAAAAAAAAAAAAAAAIA/AAAAAAAAgD8AAIA/AAAAAAAAgD8AAAAAAAAAAAAAAAAAAAAA",
        "encoding": "base64",
        "path": [
         "vertices",
         "buffer"
        ]
       }
      ],
      "model_module": "k3d",
      "model_module_version": "^3.0.0",
      "model_name": "ObjectModel",
      "state": {
       "_model_module_version": "^3.0.0",
       "_view_count": null,
       "_view_module": null,
       "_view_module_version": "",
       "_view_name": null,
       "attribute": {
        "dtype": "float32",
        "shape": [
         0
        ]
       },
       "color": 255,
       "color_map": {
        "dtype": "float32",
        "shape": [
         0
        ]
       },
       "color_range": [],
       "colors": {
        "dtype": "uint32",
        "shape": [
         0
        ]
       },
       "compression_level": 0,
       "id": 139832595644088,
       "model_matrix": {
        "dtype": "float32",
        "shape": [
         4,
         4
        ]
       },
       "radial_segments": 8,
       "shader": "mesh",
       "type": "Line",
       "vertices": {
        "dtype": "float32",
        "shape": [
         5,
         3
        ]
       },
       "visible": true,
       "width": 0.01
      }
     },
     "70ca533fc3b1465f86bb328ea4febbb3": {
      "model_module": "k3d",
      "model_module_version": "^3.0.0",
      "model_name": "PlotModel",
      "state": {
       "_backend_version": "2.4.20",
       "_dom_classes": [],
       "_model_module_version": "^3.0.0",
       "_view_count": null,
       "_view_module_version": "^3.0.0",
       "antialias": true,
       "background_color": 16777215,
       "camera": [
        1.1985036568354848,
        -1.2977554899098405,
        0.6198503610269367,
        0,
        0.4999999953433871,
        0.4999999953433871,
        0,
        0,
        1
       ],
       "camera_auto_fit": true,
       "clipping_planes": [],
       "fps_meter": false,
       "grid": [
        -1,
        -1,
        -1,
        1,
        1,
        1
       ],
       "grid_auto_fit": true,
       "height": 512,
       "layout": "IPY_MODEL_dbfe9101fa9f4ffab6eed5a83cda7a48",
       "lighting": 1,
       "object_ids": [
        139792888430264
       ],
       "screenshot": "",
       "screenshot_scale": 2,
       "voxel_paint_color": 0
      }
     },
     "7146d92de250442da3f2d666abd8c10e": {
      "model_module": "@jupyter-widgets/base",
      "model_module_version": "1.1.0",
      "model_name": "LayoutModel",
      "state": {}
     },
     "714ce245ed4744c59a3cffcba1c867ec": {
      "model_module": "@jupyter-widgets/base",
      "model_module_version": "1.1.0",
      "model_name": "LayoutModel",
      "state": {}
     },
     "73f0964620d343b68ef4e92507edf40f": {
      "buffers": [
       {
        "data": "",
        "encoding": "base64",
        "path": [
         "attribute",
         "buffer"
        ]
       },
       {
        "data": "",
        "encoding": "base64",
        "path": [
         "color_map",
         "buffer"
        ]
       },
       {
        "data": "",
        "encoding": "base64",
        "path": [
         "colors",
         "buffer"
        ]
       },
       {
        "data": "AACAPwAAAAAAAAAAAAAAAAAAAAAAAIA/AAAAAAAAAAAAAAAAAAAAAAAAgD8AAAAAAAAAAAAAAAAAAAAAAACAPw==",
        "encoding": "base64",
        "path": [
         "model_matrix",
         "buffer"
        ]
       },
       {
        "data": "AAAAAAAAAAAAAAAAAAAAAAAAAAAAAIA/AAAAAAAAgD8AAIA/AAAAAAAAgD8AAAAAAAAAAAAAAAAAAAAA",
        "encoding": "base64",
        "path": [
         "vertices",
         "buffer"
        ]
       }
      ],
      "model_module": "k3d",
      "model_module_version": "^3.0.0",
      "model_name": "ObjectModel",
      "state": {
       "_model_module_version": "^3.0.0",
       "_view_count": null,
       "_view_module": null,
       "_view_module_version": "",
       "_view_name": null,
       "attribute": {
        "dtype": "float32",
        "shape": [
         0
        ]
       },
       "color": 255,
       "color_map": {
        "dtype": "float32",
        "shape": [
         0
        ]
       },
       "color_range": [],
       "colors": {
        "dtype": "uint32",
        "shape": [
         0
        ]
       },
       "compression_level": 0,
       "id": 140717248226248,
       "model_matrix": {
        "dtype": "float32",
        "shape": [
         4,
         4
        ]
       },
       "radial_segments": 8,
       "shader": "simple",
       "type": "Line",
       "vertices": {
        "dtype": "float32",
        "shape": [
         5,
         3
        ]
       },
       "visible": true,
       "width": 0.01
      }
     },
     "74606639cb4d4b0bb70928e9c81fe3be": {
      "model_module": "k3d",
      "model_module_version": "^3.0.0",
      "model_name": "PlotModel",
      "state": {
       "_backend_version": "2.4.20",
       "_dom_classes": [],
       "_model_module_version": "^3.0.0",
       "_view_count": null,
       "_view_module_version": "^3.0.0",
       "antialias": true,
       "background_color": 16777215,
       "camera": [
        1.1985036568354848,
        -1.2977554899098405,
        0.6198503610269367,
        0,
        0.4999999953433871,
        0.4999999953433871,
        0,
        0,
        1
       ],
       "camera_auto_fit": true,
       "clipping_planes": [],
       "fps_meter": false,
       "grid": [
        -1,
        -1,
        -1,
        1,
        1,
        1
       ],
       "grid_auto_fit": true,
       "height": 512,
       "layout": "IPY_MODEL_c9a0f95b733b4a99928c0091cc18f323",
       "lighting": 1,
       "object_ids": [
        140717245424528
       ],
       "screenshot": "",
       "screenshot_scale": 2,
       "voxel_paint_color": 0
      }
     },
     "7cb2bc8d884e463ab376fadd4d6c3ae4": {
      "model_module": "@jupyter-widgets/base",
      "model_module_version": "1.1.0",
      "model_name": "LayoutModel",
      "state": {}
     },
     "821d02fc79d94ac9898e1c365de93e19": {
      "model_module": "@jupyter-widgets/base",
      "model_module_version": "1.1.0",
      "model_name": "LayoutModel",
      "state": {}
     },
     "82a9e565442e42bd96e8586772faf606": {
      "buffers": [
       {
        "data": "",
        "encoding": "base64",
        "path": [
         "attribute",
         "buffer"
        ]
       },
       {
        "data": "",
        "encoding": "base64",
        "path": [
         "color_map",
         "buffer"
        ]
       },
       {
        "data": "",
        "encoding": "base64",
        "path": [
         "colors",
         "buffer"
        ]
       },
       {
        "data": "AACAPwAAAAAAAAAAAAAAAAAAAAAAAIA/AAAAAAAAAAAAAAAAAAAAAAAAgD8AAAAAAAAAAAAAAAAAAAAAAACAPw==",
        "encoding": "base64",
        "path": [
         "model_matrix",
         "buffer"
        ]
       },
       {
        "data": "AAAAAAAAAAAAAAAAAAAAAAAAAAAAAIA/AAAAAAAAgD8AAIA/AAAAAAAAgD8AAAAAAAAAAAAAAAAAAAAA",
        "encoding": "base64",
        "path": [
         "vertices",
         "buffer"
        ]
       }
      ],
      "model_module": "k3d",
      "model_module_version": "^3.0.0",
      "model_name": "ObjectModel",
      "state": {
       "_model_module_version": "^3.0.0",
       "_view_count": null,
       "_view_module": null,
       "_view_module_version": "",
       "_view_name": null,
       "attribute": {
        "dtype": "float32",
        "shape": [
         0
        ]
       },
       "color": 255,
       "color_map": {
        "dtype": "float32",
        "shape": [
         0
        ]
       },
       "color_range": [],
       "colors": {
        "dtype": "uint32",
        "shape": [
         0
        ]
       },
       "compression_level": 0,
       "id": 140717245425144,
       "model_matrix": {
        "dtype": "float32",
        "shape": [
         4,
         4
        ]
       },
       "radial_segments": 8,
       "shader": "simple",
       "type": "Line",
       "vertices": {
        "dtype": "float32",
        "shape": [
         5,
         3
        ]
       },
       "visible": true,
       "width": 0.01
      }
     },
     "835a6657772044a19c72abbdbe29cfa8": {
      "model_module": "@jupyter-widgets/base",
      "model_module_version": "1.1.0",
      "model_name": "LayoutModel",
      "state": {}
     },
     "872ce034cd6a4b98aa37c9f9847f977a": {
      "buffers": [
       {
        "data": "",
        "encoding": "base64",
        "path": [
         "attribute",
         "buffer"
        ]
       },
       {
        "data": "",
        "encoding": "base64",
        "path": [
         "color_map",
         "buffer"
        ]
       },
       {
        "data": "",
        "encoding": "base64",
        "path": [
         "colors",
         "buffer"
        ]
       },
       {
        "data": "AACAPwAAAAAAAAAAAAAAAAAAAAAAAIA/AAAAAAAAAAAAAAAAAAAAAAAAgD8AAAAAAAAAAAAAAAAAAAAAAACAPw==",
        "encoding": "base64",
        "path": [
         "model_matrix",
         "buffer"
        ]
       },
       {
        "data": "AAAAAAAAAAAAAAAAAAAAAAAAAAAAAIA/AAAAAAAAgD8AAIA/AAAAAAAAgD8AAAAAAAAAAAAAAAAAAAAA",
        "encoding": "base64",
        "path": [
         "vertices",
         "buffer"
        ]
       }
      ],
      "model_module": "k3d",
      "model_module_version": "^3.0.0",
      "model_name": "ObjectModel",
      "state": {
       "_model_module_version": "^3.0.0",
       "_view_count": null,
       "_view_module": null,
       "_view_module_version": "",
       "_view_name": null,
       "attribute": {
        "dtype": "float32",
        "shape": [
         0
        ]
       },
       "color": 255,
       "color_map": {
        "dtype": "float32",
        "shape": [
         0
        ]
       },
       "color_range": [],
       "colors": {
        "dtype": "uint32",
        "shape": [
         0
        ]
       },
       "compression_level": 0,
       "id": 140516303663056,
       "model_matrix": {
        "dtype": "float32",
        "shape": [
         4,
         4
        ]
       },
       "radial_segments": 8,
       "shader": "simple",
       "type": "Line",
       "vertices": {
        "dtype": "float32",
        "shape": [
         5,
         3
        ]
       },
       "visible": true,
       "width": 0.01
      }
     },
     "87954f73e35b40e08c62a87315e44c04": {
      "buffers": [
       {
        "data": "",
        "encoding": "base64",
        "path": [
         "attribute",
         "buffer"
        ]
       },
       {
        "data": "",
        "encoding": "base64",
        "path": [
         "color_map",
         "buffer"
        ]
       },
       {
        "data": "",
        "encoding": "base64",
        "path": [
         "colors",
         "buffer"
        ]
       },
       {
        "data": "AACAPwAAAAAAAAAAAAAAAAAAAAAAAIA/AAAAAAAAAAAAAAAAAAAAAAAAgD8AAAAAAAAAAAAAAAAAAAAAAACAPw==",
        "encoding": "base64",
        "path": [
         "model_matrix",
         "buffer"
        ]
       },
       {
        "data": "AAAAAAAAAAAAAAAAAAAAAAAAAAAAAIA/AAAAAAAAgD8AAIA/AAAAAAAAgD8AAAAAAAAAAAAAAAAAAAAA",
        "encoding": "base64",
        "path": [
         "vertices",
         "buffer"
        ]
       }
      ],
      "model_module": "k3d",
      "model_module_version": "^3.0.0",
      "model_name": "ObjectModel",
      "state": {
       "_model_module_version": "^3.0.0",
       "_view_count": null,
       "_view_module": null,
       "_view_module_version": "",
       "_view_name": null,
       "attribute": {
        "dtype": "float32",
        "shape": [
         0
        ]
       },
       "color": 255,
       "color_map": {
        "dtype": "float32",
        "shape": [
         0
        ]
       },
       "color_range": [],
       "colors": {
        "dtype": "uint32",
        "shape": [
         0
        ]
       },
       "compression_level": 0,
       "id": 140717248227480,
       "model_matrix": {
        "dtype": "float32",
        "shape": [
         4,
         4
        ]
       },
       "radial_segments": 8,
       "shader": "mesh",
       "type": "Line",
       "vertices": {
        "dtype": "float32",
        "shape": [
         5,
         3
        ]
       },
       "visible": true,
       "width": 0.01
      }
     },
     "8b829113ce644b50900f219ab0b18f64": {
      "buffers": [
       {
        "data": "",
        "encoding": "base64",
        "path": [
         "attribute",
         "buffer"
        ]
       },
       {
        "data": "",
        "encoding": "base64",
        "path": [
         "color_map",
         "buffer"
        ]
       },
       {
        "data": "",
        "encoding": "base64",
        "path": [
         "colors",
         "buffer"
        ]
       },
       {
        "data": "AACAPwAAAAAAAAAAAAAAAAAAAAAAAIA/AAAAAAAAAAAAAAAAAAAAAAAAgD8AAAAAAAAAAAAAAAAAAAAAAACAPw==",
        "encoding": "base64",
        "path": [
         "model_matrix",
         "buffer"
        ]
       },
       {
        "data": "AAAAAAAAAAAAAAAAAAAAAAAAAAAAAIA/AAAAAAAAgD8AAIA/AAAAAAAAgD8AAAAAAAAAAAAAAAAAAAAA",
        "encoding": "base64",
        "path": [
         "vertices",
         "buffer"
        ]
       }
      ],
      "model_module": "k3d",
      "model_module_version": "^3.0.0",
      "model_name": "ObjectModel",
      "state": {
       "_model_module_version": "^3.0.0",
       "_view_count": null,
       "_view_module": null,
       "_view_module_version": "",
       "_view_name": null,
       "attribute": {
        "dtype": "float32",
        "shape": [
         0
        ]
       },
       "color": 255,
       "color_map": {
        "dtype": "float32",
        "shape": [
         0
        ]
       },
       "color_range": [],
       "colors": {
        "dtype": "uint32",
        "shape": [
         0
        ]
       },
       "compression_level": 0,
       "id": 139833601994368,
       "model_matrix": {
        "dtype": "float32",
        "shape": [
         4,
         4
        ]
       },
       "radial_segments": 8,
       "shader": "simple",
       "type": "Line",
       "vertices": {
        "dtype": "float32",
        "shape": [
         5,
         3
        ]
       },
       "visible": true,
       "width": 0.01
      }
     },
     "901c85cf138445748c2ccfa4526f3561": {
      "model_module": "k3d",
      "model_module_version": "^3.0.0",
      "model_name": "PlotModel",
      "state": {
       "_backend_version": "2.4.20",
       "_dom_classes": [],
       "_model_module_version": "^3.0.0",
       "_view_count": null,
       "_view_module_version": "^3.0.0",
       "antialias": true,
       "background_color": 16777215,
       "camera": [
        1.49958357250965,
        -0.14360145465207463,
        0.12161653475584094,
        0,
        0.5,
        0.5,
        0.04483729612767327,
        -0.5354999379445218,
        0.8433441962433733
       ],
       "camera_auto_fit": true,
       "clipping_planes": [],
       "fps_meter": false,
       "grid": [
        -1,
        -1,
        -1,
        1,
        1,
        1
       ],
       "grid_auto_fit": true,
       "height": 512,
       "layout": "IPY_MODEL_7cb2bc8d884e463ab376fadd4d6c3ae4",
       "lighting": 1,
       "object_ids": [
        140717248227704
       ],
       "screenshot": "",
       "screenshot_scale": 2,
       "voxel_paint_color": 0
      }
     },
     "938222dcf7c945a795b39058dc3780be": {
      "buffers": [
       {
        "data": "",
        "encoding": "base64",
        "path": [
         "attribute",
         "buffer"
        ]
       },
       {
        "data": "",
        "encoding": "base64",
        "path": [
         "color_map",
         "buffer"
        ]
       },
       {
        "data": "",
        "encoding": "base64",
        "path": [
         "colors",
         "buffer"
        ]
       },
       {
        "data": "AACAPwAAAAAAAAAAAAAAAAAAAAAAAIA/AAAAAAAAAAAAAAAAAAAAAAAAgD8AAAAAAAAAAAAAAAAAAAAAAACAPw==",
        "encoding": "base64",
        "path": [
         "model_matrix",
         "buffer"
        ]
       },
       {
        "data": "AAAAAAAAAAAAAAAAAAAAAAAAAAAAAIA/AAAAAAAAgD8AAIA/AAAAAAAAgD8AAAAAAAAAAAAAAAAAAAAA",
        "encoding": "base64",
        "path": [
         "vertices",
         "buffer"
        ]
       }
      ],
      "model_module": "k3d",
      "model_module_version": "^3.0.0",
      "model_name": "ObjectModel",
      "state": {
       "_model_module_version": "^3.0.0",
       "_view_count": null,
       "_view_module": null,
       "_view_module_version": "",
       "_view_name": null,
       "attribute": {
        "dtype": "float32",
        "shape": [
         0
        ]
       },
       "color": 255,
       "color_map": {
        "dtype": "float32",
        "shape": [
         0
        ]
       },
       "color_range": [],
       "colors": {
        "dtype": "uint32",
        "shape": [
         0
        ]
       },
       "compression_level": 0,
       "id": 140717245424528,
       "model_matrix": {
        "dtype": "float32",
        "shape": [
         4,
         4
        ]
       },
       "radial_segments": 8,
       "shader": "mesh",
       "type": "Line",
       "vertices": {
        "dtype": "float32",
        "shape": [
         5,
         3
        ]
       },
       "visible": true,
       "width": 0.01
      }
     },
     "974cd50213b14962aa14652d3ad8e771": {
      "model_module": "@jupyter-widgets/base",
      "model_module_version": "1.1.0",
      "model_name": "LayoutModel",
      "state": {}
     },
     "9cc3bf88d0d843cc875ac56c35bde697": {
      "model_module": "k3d",
      "model_module_version": "^3.0.0",
      "model_name": "PlotModel",
      "state": {
       "_backend_version": "2.4.20",
       "_dom_classes": [],
       "_model_module_version": "^3.0.0",
       "_view_count": null,
       "_view_module_version": "^3.0.0",
       "antialias": true,
       "background_color": 16777215,
       "camera": [
        0.8409989602940485,
        -0.7806169930901001,
        0.29867099266631714,
        0,
        0.5,
        0.5,
        -0.42614611667774605,
        -0.46836414895304773,
        0.7739731979958848
       ],
       "camera_auto_fit": true,
       "clipping_planes": [],
       "fps_meter": false,
       "grid": [
        -1,
        -1,
        -1,
        1,
        1,
        1
       ],
       "grid_auto_fit": true,
       "height": 512,
       "layout": "IPY_MODEL_37ee7a8d0acf487a8647192d25e5c7bc",
       "lighting": 1,
       "object_ids": [
        140717248093936
       ],
       "screenshot": "",
       "screenshot_scale": 2,
       "voxel_paint_color": 0
      }
     },
     "9ccc09bd7c3f47c9b5a02edef1b09622": {
      "buffers": [
       {
        "data": "",
        "encoding": "base64",
        "path": [
         "attribute",
         "buffer"
        ]
       },
       {
        "data": "",
        "encoding": "base64",
        "path": [
         "color_map",
         "buffer"
        ]
       },
       {
        "data": "",
        "encoding": "base64",
        "path": [
         "colors",
         "buffer"
        ]
       },
       {
        "data": "AACAPwAAAAAAAAAAAAAAAAAAAAAAAIA/AAAAAAAAAAAAAAAAAAAAAAAAgD8AAAAAAAAAAAAAAAAAAAAAAACAPw==",
        "encoding": "base64",
        "path": [
         "model_matrix",
         "buffer"
        ]
       },
       {
        "data": "AAAAAAAAAAAAAAAAAAAAAAAAAAAAAIA/AAAAAAAAgD8AAIA/AAAAAAAAgD8AAAAAAAAAAAAAAAAAAAAA",
        "encoding": "base64",
        "path": [
         "vertices",
         "buffer"
        ]
       }
      ],
      "model_module": "k3d",
      "model_module_version": "^3.0.0",
      "model_name": "ObjectModel",
      "state": {
       "_model_module_version": "^3.0.0",
       "_view_count": null,
       "_view_module": null,
       "_view_module_version": "",
       "_view_name": null,
       "attribute": {
        "dtype": "float32",
        "shape": [
         0
        ]
       },
       "color": 255,
       "color_map": {
        "dtype": "float32",
        "shape": [
         0
        ]
       },
       "color_range": [],
       "colors": {
        "dtype": "uint32",
        "shape": [
         0
        ]
       },
       "compression_level": 0,
       "id": 140515336480248,
       "model_matrix": {
        "dtype": "float32",
        "shape": [
         4,
         4
        ]
       },
       "radial_segments": 8,
       "shader": "mesh",
       "type": "Line",
       "vertices": {
        "dtype": "float32",
        "shape": [
         5,
         3
        ]
       },
       "visible": true,
       "width": 0.01
      }
     },
     "9eef97acad504fa0b65c979f04d0df65": {
      "model_module": "@jupyter-widgets/base",
      "model_module_version": "1.1.0",
      "model_name": "LayoutModel",
      "state": {}
     },
     "a01c81ed049a42a2b6db79f2cb7b93f8": {
      "model_module": "k3d",
      "model_module_version": "^3.0.0",
      "model_name": "PlotModel",
      "state": {
       "_backend_version": "2.4.20",
       "_dom_classes": [],
       "_model_module_version": "^3.0.0",
       "_view_count": null,
       "_view_module_version": "^3.0.0",
       "antialias": true,
       "background_color": 16777215,
       "camera": [
        2.086292866374681,
        0.04163654060875366,
        0.8185459205409048,
        0,
        0.49999997206032276,
        0.49999997206032276,
        -0.20448216220618678,
        -0.7898003527083408,
        0.578275408608464
       ],
       "camera_auto_fit": true,
       "clipping_planes": [],
       "fps_meter": false,
       "grid": [
        -1,
        -1,
        -1,
        1,
        1,
        1
       ],
       "grid_auto_fit": true,
       "height": 512,
       "layout": "IPY_MODEL_34f487fdbbc049e18b46c20629d228f9",
       "lighting": 1,
       "object_ids": [
        140717245423688
       ],
       "screenshot": "",
       "screenshot_scale": 2,
       "voxel_paint_color": 0
      }
     },
     "a61364e6a8a34ddfb7f1b6b44f362e71": {
      "model_module": "@jupyter-widgets/output",
      "model_module_version": "1.0.0",
      "model_name": "OutputModel",
      "state": {
       "layout": "IPY_MODEL_60da9e7a20604b7885cb668445dea8df",
       "outputs": [
        {
         "data": {
          "application/vnd.jupyter.widget-view+json": {
           "model_id": "44cc6e6292ac446aa09385a01d62ca49",
           "version_major": 2,
           "version_minor": 0
          },
          "text/plain": "Plot(antialias=True, background_color=16777215, fps_meter=False, grid=[-1, -1, -1, 1, 1, 1], height=512, light…"
         },
         "metadata": {},
         "output_type": "display_data"
        }
       ]
      }
     },
     "a66815c0a78741c1be26cb8c4ff4dcb4": {
      "model_module": "@jupyter-widgets/output",
      "model_module_version": "1.0.0",
      "model_name": "OutputModel",
      "state": {
       "layout": "IPY_MODEL_714ce245ed4744c59a3cffcba1c867ec",
       "outputs": [
        {
         "data": {
          "application/vnd.jupyter.widget-view+json": {
           "model_id": "2627a3fdf2084a779292ba04ea7d37f2",
           "version_major": 2,
           "version_minor": 0
          },
          "text/plain": "Plot(antialias=True, background_color=16777215, fps_meter=False, grid=[-1, -1, -1, 1, 1, 1], height=512, light…"
         },
         "metadata": {},
         "output_type": "display_data"
        }
       ]
      }
     },
     "a898197e83144290a203776ed4c25fa6": {
      "model_module": "@jupyter-widgets/base",
      "model_module_version": "1.1.0",
      "model_name": "LayoutModel",
      "state": {}
     },
     "a905e31658794c0581baa1ce8b40b2c1": {
      "model_module": "@jupyter-widgets/base",
      "model_module_version": "1.1.0",
      "model_name": "LayoutModel",
      "state": {}
     },
     "ab3f726c1edb423db95e931c95a25cd5": {
      "model_module": "@jupyter-widgets/base",
      "model_module_version": "1.1.0",
      "model_name": "LayoutModel",
      "state": {}
     },
     "abff1806590d4cb0848548bbb2854d81": {
      "model_module": "@jupyter-widgets/output",
      "model_module_version": "1.0.0",
      "model_name": "OutputModel",
      "state": {
       "layout": "IPY_MODEL_7146d92de250442da3f2d666abd8c10e",
       "outputs": [
        {
         "data": {
          "application/vnd.jupyter.widget-view+json": {
           "model_id": "a01c81ed049a42a2b6db79f2cb7b93f8",
           "version_major": 2,
           "version_minor": 0
          },
          "text/plain": "Plot(antialias=True, background_color=16777215, fps_meter=False, grid=[-1, -1, -1, 1, 1, 1], height=512, light…"
         },
         "metadata": {},
         "output_type": "display_data"
        }
       ]
      }
     },
     "aca08bb35cbc4f65868a9633455f3733": {
      "model_module": "k3d",
      "model_module_version": "^3.0.0",
      "model_name": "PlotModel",
      "state": {
       "_backend_version": "2.4.20",
       "_dom_classes": [],
       "_model_module_version": "^3.0.0",
       "_view_count": null,
       "_view_module_version": "^3.0.0",
       "antialias": true,
       "background_color": 16777215,
       "camera": [
        0.7593248625009916,
        -0.6389872937514878,
        0.5759324862501,
        0,
        0.5,
        0.5,
        0,
        0,
        1
       ],
       "camera_auto_fit": true,
       "clipping_planes": [],
       "fps_meter": false,
       "grid": [
        -1,
        -1,
        -1,
        1,
        1,
        1
       ],
       "grid_auto_fit": true,
       "height": 512,
       "layout": "IPY_MODEL_532f21d01e6847368e730215bac85510",
       "lighting": 1,
       "object_ids": [
        140515336481200
       ],
       "screenshot": "",
       "screenshot_scale": 2,
       "voxel_paint_color": 0
      }
     },
     "ad43fcd32e6149ab8e0dc74218e70667": {
      "model_module": "@jupyter-widgets/base",
      "model_module_version": "1.1.0",
      "model_name": "LayoutModel",
      "state": {}
     },
     "ae445b35fbe045c6a11866c12f173561": {
      "model_module": "@jupyter-widgets/base",
      "model_module_version": "1.1.0",
      "model_name": "LayoutModel",
      "state": {}
     },
     "ae788f327ed24ba8a88a02727829b78d": {
      "model_module": "@jupyter-widgets/output",
      "model_module_version": "1.0.0",
      "model_name": "OutputModel",
      "state": {
       "layout": "IPY_MODEL_ee1767b68d0d4d51b1983bd16cbabd07",
       "outputs": [
        {
         "data": {
          "application/vnd.jupyter.widget-view+json": {
           "model_id": "68de6533042e46a4963a162343f63eda",
           "version_major": 2,
           "version_minor": 0
          },
          "text/plain": "Plot(antialias=True, background_color=16777215, fps_meter=False, grid=[-1, -1, -1, 1, 1, 1], height=512, light…"
         },
         "metadata": {},
         "output_type": "display_data"
        }
       ]
      }
     },
     "b008d9dcf6214feba55750a473512159": {
      "model_module": "k3d",
      "model_module_version": "^3.0.0",
      "model_name": "PlotModel",
      "state": {
       "_backend_version": "2.4.20",
       "_dom_classes": [],
       "_model_module_version": "^3.0.0",
       "_view_count": null,
       "_view_module_version": "^3.0.0",
       "antialias": true,
       "background_color": 16777215,
       "camera": [
        -0.29255682494541646,
        0.30909272925793074,
        1.84878204287586,
        0,
        0.5,
        0.5,
        -0.20109125366836855,
        0.967927294231333,
        0.1505956864591513
       ],
       "camera_auto_fit": true,
       "clipping_planes": [],
       "fps_meter": false,
       "grid": [
        -1,
        -1,
        -1,
        1,
        1,
        1
       ],
       "grid_auto_fit": true,
       "height": 512,
       "layout": "IPY_MODEL_a898197e83144290a203776ed4c25fa6",
       "lighting": 1,
       "object_ids": [
        140717248093432
       ],
       "screenshot": "",
       "screenshot_scale": 2,
       "voxel_paint_color": 0
      }
     },
     "b1069c6ca29248a084dc03c68f127a97": {
      "buffers": [
       {
        "data": "",
        "encoding": "base64",
        "path": [
         "attribute",
         "buffer"
        ]
       },
       {
        "data": "",
        "encoding": "base64",
        "path": [
         "color_map",
         "buffer"
        ]
       },
       {
        "data": "",
        "encoding": "base64",
        "path": [
         "colors",
         "buffer"
        ]
       },
       {
        "data": "AACAPwAAAAAAAAAAAAAAAAAAAAAAAIA/AAAAAAAAAAAAAAAAAAAAAAAAgD8AAAAAAAAAAAAAAAAAAAAAAACAPw==",
        "encoding": "base64",
        "path": [
         "model_matrix",
         "buffer"
        ]
       },
       {
        "data": "AAAAAAAAAAAAAAAAAAAAAAAAAAAAAIA/AAAAAAAAgD8AAIA/AAAAAAAAgD8AAAAAAAAAAAAAAAAAAAAA",
        "encoding": "base64",
        "path": [
         "vertices",
         "buffer"
        ]
       }
      ],
      "model_module": "k3d",
      "model_module_version": "^3.0.0",
      "model_name": "ObjectModel",
      "state": {
       "_model_module_version": "^3.0.0",
       "_view_count": null,
       "_view_module": null,
       "_view_module_version": "",
       "_view_name": null,
       "attribute": {
        "dtype": "float32",
        "shape": [
         0
        ]
       },
       "color": 255,
       "color_map": {
        "dtype": "float32",
        "shape": [
         0
        ]
       },
       "color_range": [],
       "colors": {
        "dtype": "uint32",
        "shape": [
         0
        ]
       },
       "compression_level": 0,
       "id": 140515336482152,
       "model_matrix": {
        "dtype": "float32",
        "shape": [
         4,
         4
        ]
       },
       "radial_segments": 8,
       "shader": "mesh",
       "type": "Line",
       "vertices": {
        "dtype": "float32",
        "shape": [
         5,
         3
        ]
       },
       "visible": true,
       "width": 0.01
      }
     },
     "b18287f87d624edc968bc6e50ccaa6fa": {
      "model_module": "@jupyter-widgets/base",
      "model_module_version": "1.1.0",
      "model_name": "LayoutModel",
      "state": {}
     },
     "b557e26725cd4f57b7cbbdf1c6a66ca6": {
      "model_module": "@jupyter-widgets/base",
      "model_module_version": "1.1.0",
      "model_name": "LayoutModel",
      "state": {}
     },
     "b73cd5e281684b8f83e38f250ff089ef": {
      "model_module": "k3d",
      "model_module_version": "^3.0.0",
      "model_name": "PlotModel",
      "state": {
       "_backend_version": "2.4.20",
       "_dom_classes": [],
       "_model_module_version": "^3.0.0",
       "_view_count": null,
       "_view_module_version": "^3.0.0",
       "antialias": true,
       "background_color": 16777215,
       "camera": [
        1.1748906749819361,
        -1.2623360124729048,
        0.6174890674981948,
        0,
        0.5,
        0.5,
        0,
        0,
        1
       ],
       "camera_auto_fit": true,
       "clipping_planes": [],
       "fps_meter": false,
       "grid": [
        -1,
        -1,
        -1,
        1,
        1,
        1
       ],
       "grid_auto_fit": true,
       "height": 512,
       "layout": "IPY_MODEL_475d1f2a791c43d5b7f7b25a35aaa787",
       "lighting": 1,
       "object_ids": [
        139833601994368
       ],
       "screenshot": "",
       "screenshot_scale": 2,
       "voxel_paint_color": 0
      }
     },
     "b8b211f515a04e588697e48304bb4981": {
      "model_module": "@jupyter-widgets/output",
      "model_module_version": "1.0.0",
      "model_name": "OutputModel",
      "state": {
       "layout": "IPY_MODEL_9eef97acad504fa0b65c979f04d0df65",
       "outputs": [
        {
         "data": {
          "application/vnd.jupyter.widget-view+json": {
           "model_id": "cc85b96244f847eb8f6886e561c3a7b1",
           "version_major": 2,
           "version_minor": 0
          },
          "text/plain": "Plot(antialias=True, background_color=16777215, fps_meter=False, grid=[-1, -1, -1, 1, 1, 1], height=512, light…"
         },
         "metadata": {},
         "output_type": "display_data"
        }
       ]
      }
     },
     "b9e72455697a416f924b16ff943da9f5": {
      "buffers": [
       {
        "data": "",
        "encoding": "base64",
        "path": [
         "attribute",
         "buffer"
        ]
       },
       {
        "data": "",
        "encoding": "base64",
        "path": [
         "color_map",
         "buffer"
        ]
       },
       {
        "data": "",
        "encoding": "base64",
        "path": [
         "colors",
         "buffer"
        ]
       },
       {
        "data": "AACAPwAAAAAAAAAAAAAAAAAAAAAAAIA/AAAAAAAAAAAAAAAAAAAAAAAAgD8AAAAAAAAAAAAAAAAAAAAAAACAPw==",
        "encoding": "base64",
        "path": [
         "model_matrix",
         "buffer"
        ]
       },
       {
        "data": "AAAAAAAAAAAAAAAAAAAAAAAAAAAAAIA/AAAAAAAAgD8AAIA/AAAAAAAAgD8AAAAAAAAAAAAAAAAAAAAA",
        "encoding": "base64",
        "path": [
         "vertices",
         "buffer"
        ]
       }
      ],
      "model_module": "k3d",
      "model_module_version": "^3.0.0",
      "model_name": "ObjectModel",
      "state": {
       "_model_module_version": "^3.0.0",
       "_view_count": null,
       "_view_module": null,
       "_view_module_version": "",
       "_view_name": null,
       "attribute": {
        "dtype": "float32",
        "shape": [
         0
        ]
       },
       "color": 255,
       "color_map": {
        "dtype": "float32",
        "shape": [
         0
        ]
       },
       "color_range": [],
       "colors": {
        "dtype": "uint32",
        "shape": [
         0
        ]
       },
       "compression_level": 0,
       "id": 140717248227704,
       "model_matrix": {
        "dtype": "float32",
        "shape": [
         4,
         4
        ]
       },
       "radial_segments": 8,
       "shader": "flat",
       "type": "Line",
       "vertices": {
        "dtype": "float32",
        "shape": [
         5,
         3
        ]
       },
       "visible": true,
       "width": 0.01
      }
     },
     "ba9ec536370c4fbf92cb2fec383e6ebd": {
      "model_module": "@jupyter-widgets/base",
      "model_module_version": "1.1.0",
      "model_name": "LayoutModel",
      "state": {}
     },
     "baa65b75a3c64849970f9dbb5884b289": {
      "model_module": "k3d",
      "model_module_version": "^3.0.0",
      "model_name": "PlotModel",
      "state": {
       "_backend_version": "2.4.20",
       "_dom_classes": [],
       "_model_module_version": "^3.0.0",
       "_view_count": null,
       "_view_module_version": "^3.0.0",
       "antialias": true,
       "background_color": 16777215,
       "camera": [
        0.9598925269801599,
        1.0715488723894795,
        0.4832791729817033,
        0,
        0.5,
        0.5,
        -0.2972781949268639,
        0.6285613527566071,
        0.718704599012571
       ],
       "camera_auto_fit": true,
       "clipping_planes": [],
       "fps_meter": false,
       "grid": [
        -1,
        -1,
        -1,
        1,
        1,
        1
       ],
       "grid_auto_fit": true,
       "height": 512,
       "layout": "IPY_MODEL_c05ec82904b24fc387d7f55bdfdacb72",
       "lighting": 1,
       "object_ids": [
        140717248091920
       ],
       "screenshot": "",
       "screenshot_scale": 2,
       "voxel_paint_color": 0
      }
     },
     "be1aa32caa064080933bb66aee778c05": {
      "model_module": "@jupyter-widgets/output",
      "model_module_version": "1.0.0",
      "model_name": "OutputModel",
      "state": {
       "layout": "IPY_MODEL_0656826e06b24693b36cfa3ef4b9a962",
       "outputs": [
        {
         "data": {
          "application/vnd.jupyter.widget-view+json": {
           "model_id": "df7cc40493724cf494f0770a2c0a748b",
           "version_major": 2,
           "version_minor": 0
          },
          "text/plain": "Plot(antialias=True, background_color=16777215, fps_meter=False, grid=[-1, -1, -1, 1, 1, 1], height=512, light…"
         },
         "metadata": {},
         "output_type": "display_data"
        }
       ]
      }
     },
     "c05ec82904b24fc387d7f55bdfdacb72": {
      "model_module": "@jupyter-widgets/base",
      "model_module_version": "1.1.0",
      "model_name": "LayoutModel",
      "state": {}
     },
     "c3439d4c507649b5a0d0a0140995d562": {
      "model_module": "@jupyter-widgets/base",
      "model_module_version": "1.1.0",
      "model_name": "LayoutModel",
      "state": {}
     },
     "c6d9af2997a643b38de9e1e6057849bc": {
      "model_module": "@jupyter-widgets/base",
      "model_module_version": "1.1.0",
      "model_name": "LayoutModel",
      "state": {}
     },
     "c832b341c3504c8f9749c006e8227521": {
      "model_module": "@jupyter-widgets/base",
      "model_module_version": "1.1.0",
      "model_name": "LayoutModel",
      "state": {}
     },
     "c9a0f95b733b4a99928c0091cc18f323": {
      "model_module": "@jupyter-widgets/base",
      "model_module_version": "1.1.0",
      "model_name": "LayoutModel",
      "state": {}
     },
     "cc85b96244f847eb8f6886e561c3a7b1": {
      "model_module": "k3d",
      "model_module_version": "^3.0.0",
      "model_name": "PlotModel",
      "state": {
       "_backend_version": "2.4.20",
       "_dom_classes": [],
       "_model_module_version": "^3.0.0",
       "_view_count": null,
       "_view_module_version": "^3.0.0",
       "antialias": true,
       "background_color": 16777215,
       "camera": [
        0.63988548246732,
        -0.5414761116725806,
        0.9557631473798703,
        0,
        0.5,
        0.5,
        -0.030401145684545567,
        0.32551205373697184,
        0.9450490321739974
       ],
       "camera_auto_fit": true,
       "clipping_planes": [],
       "fps_meter": false,
       "grid": [
        -1,
        -1,
        -1,
        1,
        1,
        1
       ],
       "grid_auto_fit": true,
       "height": 512,
       "layout": "IPY_MODEL_45a4f5fd59e44c24b55b0174992657cf",
       "lighting": 1,
       "object_ids": [
        140717248093768
       ],
       "screenshot": "",
       "screenshot_scale": 2,
       "voxel_paint_color": 0
      }
     },
     "ce25fa4c5aa54541802b7de1bd935e4b": {
      "buffers": [
       {
        "data": "",
        "encoding": "base64",
        "path": [
         "attribute",
         "buffer"
        ]
       },
       {
        "data": "",
        "encoding": "base64",
        "path": [
         "color_map",
         "buffer"
        ]
       },
       {
        "data": "",
        "encoding": "base64",
        "path": [
         "colors",
         "buffer"
        ]
       },
       {
        "data": "AACAPwAAAAAAAAAAAAAAAAAAAAAAAIA/AAAAAAAAAAAAAAAAAAAAAAAAgD8AAAAAAAAAAAAAAAAAAAAAAACAPw==",
        "encoding": "base64",
        "path": [
         "model_matrix",
         "buffer"
        ]
       },
       {
        "data": "AAAAAAAAAAAAAAAAAAAAAAAAAAAAAIA/AAAAAAAAgD8AAIA/AAAAAAAAgD8AAAAAAAAAAAAAAAAAAAAA",
        "encoding": "base64",
        "path": [
         "vertices",
         "buffer"
        ]
       }
      ],
      "model_module": "k3d",
      "model_module_version": "^3.0.0",
      "model_name": "ObjectModel",
      "state": {
       "_model_module_version": "^3.0.0",
       "_view_count": null,
       "_view_module": null,
       "_view_module_version": "",
       "_view_name": null,
       "attribute": {
        "dtype": "float32",
        "shape": [
         0
        ]
       },
       "color": 255,
       "color_map": {
        "dtype": "float32",
        "shape": [
         0
        ]
       },
       "color_range": [],
       "colors": {
        "dtype": "uint32",
        "shape": [
         0
        ]
       },
       "compression_level": 0,
       "id": 139792888430264,
       "model_matrix": {
        "dtype": "float32",
        "shape": [
         4,
         4
        ]
       },
       "radial_segments": 8,
       "shader": "mesh",
       "type": "Line",
       "vertices": {
        "dtype": "float32",
        "shape": [
         5,
         3
        ]
       },
       "visible": true,
       "width": 0.01
      }
     },
     "ce5fb4aabe1643cdbc51ee69d25fc09e": {
      "model_module": "k3d",
      "model_module_version": "^3.0.0",
      "model_name": "PlotModel",
      "state": {
       "_backend_version": "2.4.20",
       "_dom_classes": [],
       "_model_module_version": "^3.0.0",
       "_view_count": null,
       "_view_module_version": "^3.0.0",
       "antialias": true,
       "background_color": 16777215,
       "camera": [
        0.7246745904930174,
        -1.6465562081010874,
        0.42345796549801196,
        0,
        0.4999999953433871,
        0.4999999953433871,
        0.14889861216307132,
        -0.04344780314787897,
        0.9878975107254478
       ],
       "camera_auto_fit": true,
       "clipping_planes": [],
       "fps_meter": false,
       "grid": [
        -1,
        -1,
        -1,
        1,
        1,
        1
       ],
       "grid_auto_fit": true,
       "height": 512,
       "layout": "IPY_MODEL_821d02fc79d94ac9898e1c365de93e19",
       "lighting": 1,
       "object_ids": [
        140717245558912
       ],
       "screenshot": "",
       "screenshot_scale": 2,
       "voxel_paint_color": 0
      }
     },
     "d2a13dea209b403cbbdd3d6fac7c2a75": {
      "model_module": "@jupyter-widgets/base",
      "model_module_version": "1.1.0",
      "model_name": "LayoutModel",
      "state": {}
     },
     "d61a7dd3880d4a9f8c159a2f4af9c81c": {
      "model_module": "k3d",
      "model_module_version": "^3.0.0",
      "model_name": "PlotModel",
      "state": {
       "_backend_version": "2.4.20",
       "_dom_classes": [],
       "_model_module_version": "^3.0.0",
       "_view_count": null,
       "_view_module_version": "^3.0.0",
       "antialias": true,
       "background_color": 16777215,
       "camera": [
        1.1748906749819361,
        -1.2623360124729048,
        0.6174890674981948,
        0,
        0.5,
        0.5,
        0,
        0,
        1
       ],
       "camera_auto_fit": true,
       "clipping_planes": [],
       "fps_meter": false,
       "grid": [
        -1,
        -1,
        -1,
        1,
        1,
        1
       ],
       "grid_auto_fit": true,
       "height": 512,
       "layout": "IPY_MODEL_e89e2019f74244e59b3f6331f40c0763",
       "lighting": 1,
       "object_ids": [
        140515339460448
       ],
       "screenshot": "",
       "screenshot_scale": 2,
       "voxel_paint_color": 0
      }
     },
     "d62b1be5d8bb47f4b0abcc799f918b17": {
      "model_module": "@jupyter-widgets/base",
      "model_module_version": "1.1.0",
      "model_name": "LayoutModel",
      "state": {}
     },
     "d8f5f146436f42369d809ec76aa1ef85": {
      "buffers": [
       {
        "data": "",
        "encoding": "base64",
        "path": [
         "attribute",
         "buffer"
        ]
       },
       {
        "data": "",
        "encoding": "base64",
        "path": [
         "color_map",
         "buffer"
        ]
       },
       {
        "data": "",
        "encoding": "base64",
        "path": [
         "colors",
         "buffer"
        ]
       },
       {
        "data": "AACAPwAAAAAAAAAAAAAAAAAAAAAAAIA/AAAAAAAAAAAAAAAAAAAAAAAAgD8AAAAAAAAAAAAAAAAAAAAAAACAPw==",
        "encoding": "base64",
        "path": [
         "model_matrix",
         "buffer"
        ]
       },
       {
        "data": "AAAAAAAAAAAAAAAAAAAAAAAAAAAAAIA/AAAAAAAAgD8AAIA/AAAAAAAAgD8AAAAAAAAAAAAAAAAAAAAA",
        "encoding": "base64",
        "path": [
         "vertices",
         "buffer"
        ]
       }
      ],
      "model_module": "k3d",
      "model_module_version": "^3.0.0",
      "model_name": "ObjectModel",
      "state": {
       "_model_module_version": "^3.0.0",
       "_view_count": null,
       "_view_module": null,
       "_view_module_version": "",
       "_view_name": null,
       "attribute": {
        "dtype": "float32",
        "shape": [
         0
        ]
       },
       "color": 255,
       "color_map": {
        "dtype": "float32",
        "shape": [
         0
        ]
       },
       "color_range": [],
       "colors": {
        "dtype": "uint32",
        "shape": [
         0
        ]
       },
       "compression_level": 0,
       "id": 140717248228824,
       "model_matrix": {
        "dtype": "float32",
        "shape": [
         4,
         4
        ]
       },
       "radial_segments": 8,
       "shader": "mesh",
       "type": "Line",
       "vertices": {
        "dtype": "float32",
        "shape": [
         5,
         3
        ]
       },
       "visible": true,
       "width": 0.01
      }
     },
     "dbfe9101fa9f4ffab6eed5a83cda7a48": {
      "model_module": "@jupyter-widgets/base",
      "model_module_version": "1.1.0",
      "model_name": "LayoutModel",
      "state": {}
     },
     "dc29882b074c419bbc810cb3916cf3a8": {
      "model_module": "@jupyter-widgets/base",
      "model_module_version": "1.1.0",
      "model_name": "LayoutModel",
      "state": {}
     },
     "dd9e489ca7274341a08b1a7f24c9fcb4": {
      "model_module": "@jupyter-widgets/output",
      "model_module_version": "1.0.0",
      "model_name": "OutputModel",
      "state": {
       "layout": "IPY_MODEL_24262c585ca04a79beb854e55b6464a2",
       "outputs": [
        {
         "data": {
          "application/vnd.jupyter.widget-view+json": {
           "model_id": "70ca533fc3b1465f86bb328ea4febbb3",
           "version_major": 2,
           "version_minor": 0
          },
          "text/plain": "Plot(antialias=True, background_color=16777215, fps_meter=False, grid=[-1, -1, -1, 1, 1, 1], height=512, light…"
         },
         "metadata": {},
         "output_type": "display_data"
        }
       ]
      }
     },
     "df7cc40493724cf494f0770a2c0a748b": {
      "model_module": "k3d",
      "model_module_version": "^3.0.0",
      "model_name": "PlotModel",
      "state": {
       "_backend_version": "2.4.20",
       "_dom_classes": [],
       "_model_module_version": "^3.0.0",
       "_view_count": null,
       "_view_module_version": "^3.0.0",
       "antialias": true,
       "background_color": 16777215,
       "camera": [
        1.2977802638791955,
        -0.06190142027978984,
        0.4409794106616386,
        0,
        0.4999999953433871,
        0.4999999953433871,
        0.09169388348865616,
        -0.032276353832831034,
        0.9952640196018468
       ],
       "camera_auto_fit": true,
       "clipping_planes": [],
       "fps_meter": false,
       "grid": [
        -1,
        -1,
        -1,
        1,
        1,
        1
       ],
       "grid_auto_fit": true,
       "height": 512,
       "layout": "IPY_MODEL_3507e27162c64ceaaafdaf0322d3f5f6",
       "lighting": 1,
       "object_ids": [
        140717248228824
       ],
       "screenshot": "",
       "screenshot_scale": 2,
       "voxel_paint_color": 0
      }
     },
     "e0c248fff7714c9385ab3830a9b03b31": {
      "model_module": "@jupyter-widgets/base",
      "model_module_version": "1.1.0",
      "model_name": "LayoutModel",
      "state": {}
     },
     "e39dddd153ce4e9981cda6d3e40b1e2d": {
      "model_module": "@jupyter-widgets/output",
      "model_module_version": "1.0.0",
      "model_name": "OutputModel",
      "state": {
       "layout": "IPY_MODEL_dc29882b074c419bbc810cb3916cf3a8",
       "outputs": [
        {
         "data": {
          "application/vnd.jupyter.widget-view+json": {
           "model_id": "534fe2db67c141a0a0d8ebf7c6cc149a",
           "version_major": 2,
           "version_minor": 0
          },
          "text/plain": "Plot(antialias=True, background_color=16777215, fps_meter=False, grid=[-1, -1, -1, 1, 1, 1], height=512, light…"
         },
         "metadata": {},
         "output_type": "display_data"
        }
       ]
      }
     },
     "e89e2019f74244e59b3f6331f40c0763": {
      "model_module": "@jupyter-widgets/base",
      "model_module_version": "1.1.0",
      "model_name": "LayoutModel",
      "state": {}
     },
     "e9cc9a0f31644b218f82ee5e53217c37": {
      "model_module": "@jupyter-widgets/output",
      "model_module_version": "1.0.0",
      "model_name": "OutputModel",
      "state": {
       "layout": "IPY_MODEL_0ec08589ea9f4f23913c9794d91e6b8c",
       "outputs": [
        {
         "data": {
          "application/vnd.jupyter.widget-view+json": {
           "model_id": "aca08bb35cbc4f65868a9633455f3733",
           "version_major": 2,
           "version_minor": 0
          },
          "text/plain": "Plot(antialias=True, background_color=16777215, fps_meter=False, grid=[-1, -1, -1, 1, 1, 1], height=512, light…"
         },
         "metadata": {},
         "output_type": "display_data"
        }
       ]
      }
     },
     "eab5dcf3b4b841499b74acc9d71930e6": {
      "model_module": "@jupyter-widgets/output",
      "model_module_version": "1.0.0",
      "model_name": "OutputModel",
      "state": {
       "layout": "IPY_MODEL_a905e31658794c0581baa1ce8b40b2c1",
       "outputs": [
        {
         "data": {
          "application/vnd.jupyter.widget-view+json": {
           "model_id": "ce5fb4aabe1643cdbc51ee69d25fc09e",
           "version_major": 2,
           "version_minor": 0
          },
          "text/plain": "Plot(antialias=True, background_color=16777215, fps_meter=False, grid=[-1, -1, -1, 1, 1, 1], height=512, light…"
         },
         "metadata": {},
         "output_type": "display_data"
        }
       ]
      }
     },
     "ebeee6710dde469abc6152a5c0812e2e": {
      "model_module": "@jupyter-widgets/output",
      "model_module_version": "1.0.0",
      "model_name": "OutputModel",
      "state": {
       "layout": "IPY_MODEL_974cd50213b14962aa14652d3ad8e771",
       "outputs": [
        {
         "data": {
          "application/vnd.jupyter.widget-view+json": {
           "model_id": "9cc3bf88d0d843cc875ac56c35bde697",
           "version_major": 2,
           "version_minor": 0
          },
          "text/plain": "Plot(antialias=True, background_color=16777215, fps_meter=False, grid=[-1, -1, -1, 1, 1, 1], height=512, light…"
         },
         "metadata": {},
         "output_type": "display_data"
        }
       ]
      }
     },
     "ee1767b68d0d4d51b1983bd16cbabd07": {
      "model_module": "@jupyter-widgets/base",
      "model_module_version": "1.1.0",
      "model_name": "LayoutModel",
      "state": {}
     },
     "f5d04e92c10c4dceaf8b3108831aa6b8": {
      "model_module": "k3d",
      "model_module_version": "^3.0.0",
      "model_name": "PlotModel",
      "state": {
       "_backend_version": "2.4.20",
       "_dom_classes": [],
       "_model_module_version": "^3.0.0",
       "_view_count": null,
       "_view_module_version": "^3.0.0",
       "antialias": true,
       "background_color": 16777215,
       "camera": [
        1.0579116229253436,
        0.25130180574185484,
        1.2888321141640187,
        0,
        0.4999999953433871,
        0.4999999953433871,
        -0.49536461754248406,
        0.2409689535520673,
        0.8345944279175435
       ],
       "camera_auto_fit": true,
       "clipping_planes": [],
       "fps_meter": false,
       "grid": [
        -1,
        -1,
        -1,
        1,
        1,
        1
       ],
       "grid_auto_fit": true,
       "height": 512,
       "layout": "IPY_MODEL_835a6657772044a19c72abbdbe29cfa8",
       "lighting": 1,
       "object_ids": [
        140515336482152
       ],
       "screenshot": "",
       "screenshot_scale": 2,
       "voxel_paint_color": 0
      }
     },
     "f6c8240d910343c9b14fae7137264fcc": {
      "model_module": "@jupyter-widgets/base",
      "model_module_version": "1.1.0",
      "model_name": "LayoutModel",
      "state": {}
     },
     "ff664a03b7f1429e98359debf3683aea": {
      "buffers": [
       {
        "data": "",
        "encoding": "base64",
        "path": [
         "attribute",
         "buffer"
        ]
       },
       {
        "data": "",
        "encoding": "base64",
        "path": [
         "color_map",
         "buffer"
        ]
       },
       {
        "data": "",
        "encoding": "base64",
        "path": [
         "colors",
         "buffer"
        ]
       },
       {
        "data": "AACAPwAAAAAAAAAAAAAAAAAAAAAAAIA/AAAAAAAAAAAAAAAAAAAAAAAAgD8AAAAAAAAAAAAAAAAAAAAAAACAPw==",
        "encoding": "base64",
        "path": [
         "model_matrix",
         "buffer"
        ]
       },
       {
        "data": "AAAAAAAAAAAAAAAAAAAAAAAAAAAAAIA/AAAAAAAAgD8AAIA/AAAAAAAAgD8AAAAAAAAAAAAAAAAAAAAA",
        "encoding": "base64",
        "path": [
         "vertices",
         "buffer"
        ]
       }
      ],
      "model_module": "k3d",
      "model_module_version": "^3.0.0",
      "model_name": "ObjectModel",
      "state": {
       "_model_module_version": "^3.0.0",
       "_view_count": null,
       "_view_module": null,
       "_view_module_version": "",
       "_view_name": null,
       "attribute": {
        "dtype": "float32",
        "shape": [
         0
        ]
       },
       "color": 255,
       "color_map": {
        "dtype": "float32",
        "shape": [
         0
        ]
       },
       "color_range": [],
       "colors": {
        "dtype": "uint32",
        "shape": [
         0
        ]
       },
       "compression_level": 0,
       "id": 139793651505976,
       "model_matrix": {
        "dtype": "float32",
        "shape": [
         4,
         4
        ]
       },
       "radial_segments": 8,
       "shader": "simple",
       "type": "Line",
       "vertices": {
        "dtype": "float32",
        "shape": [
         5,
         3
        ]
       },
       "visible": true,
       "width": 0.01
      }
     }
    },
    "version_major": 2,
    "version_minor": 0
   }
  }
 },
 "nbformat": 4,
 "nbformat_minor": 2
}
