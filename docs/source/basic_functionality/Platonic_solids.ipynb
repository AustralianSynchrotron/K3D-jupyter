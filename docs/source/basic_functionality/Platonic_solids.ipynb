{
 "cells": [
  {
   "cell_type": "markdown",
   "metadata": {},
   "source": [
    "## Platonic solids"
   ]
  },
  {
   "cell_type": "code",
   "execution_count": 1,
   "metadata": {},
   "outputs": [],
   "source": [
    "from k3d.platonic import Cube, Icosahedron, \\\n",
    "    Dodecahedron, Tetrahedron, Octahedron"
   ]
  },
  {
   "cell_type": "code",
   "execution_count": 2,
   "metadata": {},
   "outputs": [
    {
     "data": {
      "application/vnd.jupyter.widget-view+json": {
       "model_id": "cba7b5f5916941419b4b39069a74665f",
       "version_major": 2,
       "version_minor": 0
      },
      "text/plain": [
       "Output()"
      ]
     },
     "metadata": {},
     "output_type": "display_data"
    }
   ],
   "source": [
    "cube_mesh = Cube(origin=[1,1,1], size=0.1).mesh\n",
    "cube_mesh.color = 0xff0000\n",
    "cube_mesh"
   ]
  },
  {
   "cell_type": "code",
   "execution_count": 3,
   "metadata": {},
   "outputs": [
    {
     "data": {
      "application/vnd.jupyter.widget-view+json": {
       "model_id": "24e4994b6b4443c187e3346de2ec23f0",
       "version_major": 2,
       "version_minor": 0
      },
      "text/plain": [
       "Output()"
      ]
     },
     "metadata": {},
     "output_type": "display_data"
    }
   ],
   "source": [
    "tetrahedron_mesh = Tetrahedron().mesh\n",
    "tetrahedron_mesh.wireframe = True\n",
    "Octahedron().mesh + tetrahedron_mesh"
   ]
  },
  {
   "cell_type": "code",
   "execution_count": 4,
   "metadata": {},
   "outputs": [
    {
     "data": {
      "application/vnd.jupyter.widget-view+json": {
       "model_id": "94a53f5eec604738a1296e555c90ba9b",
       "version_major": 2,
       "version_minor": 0
      },
      "text/plain": [
       "Output()"
      ]
     },
     "metadata": {},
     "output_type": "display_data"
    }
   ],
   "source": [
    "Icosahedron().mesh + Dodecahedron().mesh"
   ]
  }
 ],
 "metadata": {
  "kernelspec": {
   "display_name": "Python 3",
   "language": "python",
   "name": "python3"
  },
  "language_info": {
   "codemirror_mode": {
    "name": "ipython",
    "version": 3
   },
   "file_extension": ".py",
   "mimetype": "text/x-python",
   "name": "python",
   "nbconvert_exporter": "python",
   "pygments_lexer": "ipython3",
   "version": "3.7.3"
  },
  "nbTranslate": {
   "displayLangs": [
    "en",
    "pl"
   ],
   "hotkey": "alt-t",
   "langInMainMenu": true,
   "sourceLang": "pl",
   "targetLang": "en",
   "useGoogleTranslate": true
  },
  "widgets": {
   "application/vnd.jupyter.widget-state+json": {
    "state": {
     "007b93c7ca87413886725dd858ce4f9d": {
      "buffers": [
       {
        "data": "eNoDAAAAAAE=",
        "encoding": "base64",
        "path": [
         "attribute",
         "compressed_buffer"
        ]
       },
       {
        "data": "eNoDAAAAAAE=",
        "encoding": "base64",
        "path": [
         "color_map",
         "compressed_buffer"
        ]
       },
       {
        "data": "eNpNjAEKACAIA5eW/v/HJW0wQe6UMQBYb8OY+DP3Nh560sVmPpgTy/qaXnT1lXH+FxywAH8=",
        "encoding": "base64",
        "path": [
         "indices",
         "compressed_buffer"
        ]
       },
       {
        "data": "eNpjYGiwZ8AAxIsBAF7EAv0=",
        "encoding": "base64",
        "path": [
         "model_matrix",
         "compressed_buffer"
        ]
       },
       {
        "data": "eNo7e6bH/iwaTktLQ6FhbBjGpg5ZDpkPAGTXLf0=",
        "encoding": "base64",
        "path": [
         "vertices",
         "compressed_buffer"
        ]
       }
      ],
      "model_module": "k3d",
      "model_module_version": "2.7.2",
      "model_name": "ObjectModel",
      "state": {
       "_view_count": null,
       "_view_module": null,
       "_view_module_version": "",
       "_view_name": null,
       "attribute": {
        "dtype": "float32",
        "shape": [
         0
        ]
       },
       "click_callback": false,
       "color": 16711680,
       "color_map": {
        "dtype": "float32",
        "shape": [
         0
        ]
       },
       "color_range": [],
       "compression_level": 0,
       "flat_shading": true,
       "hover_callback": false,
       "id": 4597914368,
       "indices": {
        "dtype": "uint32",
        "shape": [
         36
        ]
       },
       "model_matrix": {
        "dtype": "float32",
        "shape": [
         4,
         4
        ]
       },
       "name": "Mesh #1",
       "opacity": 1,
       "type": "Mesh",
       "vertices": {
        "dtype": "float32",
        "shape": [
         8,
         3
        ]
       },
       "visible": true,
       "wireframe": false
      }
     },
     "04cad7600e6043d59cdd2e023fd48e95": {
      "buffers": [
       {
        "data": "eNoDAAAAAAE=",
        "encoding": "base64",
        "path": [
         "attribute",
         "compressed_buffer"
        ]
       },
       {
        "data": "eNoDAAAAAAE=",
        "encoding": "base64",
        "path": [
         "color_map",
         "compressed_buffer"
        ]
       },
       {
        "data": "eNpdjgEOgDAIA6tTt+H//6vN2qQZCeFooAAA558DK65g6lN8i6k9miH3Te/hw51jY9Y39shNvdk+5oq/Ku5X+JubfMwVv1P/AI14AUs=",
        "encoding": "base64",
        "path": [
         "indices",
         "compressed_buffer"
        ]
       },
       {
        "data": "eNpjYGiwZ8AAxIsBAF7EAv0=",
        "encoding": "base64",
        "path": [
         "model_matrix",
         "compressed_buffer"
        ]
       },
       {
        "data": "eNpjYGiw3yt93p4BDMDs/VD2fiTx/TBxNLUY8uhmYFGL1w4AbxolvQ==",
        "encoding": "base64",
        "path": [
         "vertices",
         "compressed_buffer"
        ]
       }
      ],
      "model_module": "k3d",
      "model_module_version": "2.7.2",
      "model_name": "ObjectModel",
      "state": {
       "_view_count": null,
       "_view_module": null,
       "_view_module_version": "",
       "_view_name": null,
       "attribute": {
        "dtype": "float32",
        "shape": [
         0
        ]
       },
       "click_callback": false,
       "color": 255,
       "color_map": {
        "dtype": "float32",
        "shape": [
         0
        ]
       },
       "color_range": [],
       "compression_level": 0,
       "flat_shading": true,
       "hover_callback": false,
       "id": 4988349464,
       "indices": {
        "dtype": "uint32",
        "shape": [
         60
        ]
       },
       "model_matrix": {
        "dtype": "float32",
        "shape": [
         4,
         4
        ]
       },
       "name": "Mesh #1",
       "opacity": 1,
       "type": "Mesh",
       "vertices": {
        "dtype": "float32",
        "shape": [
         12,
         3
        ]
       },
       "visible": true,
       "wireframe": false
      }
     },
     "1797de1fb6114d3ca7274ea50661c649": {
      "model_module": "k3d",
      "model_module_version": "2.7.2",
      "model_name": "PlotModel",
      "state": {
       "_backend_version": "2.7.2",
       "_dom_classes": [],
       "_view_count": null,
       "antialias": 3,
       "auto_rendering": true,
       "axes": [
        "x",
        "y",
        "z"
       ],
       "axes_helper": 1,
       "background_color": 16777215,
       "camera": [
        2.8778826572598577,
        -4.316823985889787,
        0.28778826572598526,
        0,
        0,
        0,
        0,
        0,
        1
       ],
       "camera_auto_fit": true,
       "camera_fov": 60,
       "camera_no_pan": false,
       "camera_no_rotate": false,
       "camera_no_zoom": false,
       "clipping_planes": [],
       "colorbar_object_id": -1,
       "fps": 25,
       "fps_meter": false,
       "grid": [
        -1,
        -1,
        -1,
        1,
        1,
        1
       ],
       "grid_auto_fit": true,
       "grid_visible": true,
       "height": 512,
       "layout": "IPY_MODEL_efd788d6f1cf45e9aeb967658b450fb9",
       "lighting": 1.5,
       "menu_visibility": true,
       "mode": "view",
       "name": null,
       "object_ids": [
        4988348288,
        4988346664
       ],
       "rendering_steps": 1,
       "screenshot": "",
       "screenshot_scale": 2,
       "snapshot": "",
       "time": 0,
       "voxel_paint_color": 0
      }
     },
     "24e4994b6b4443c187e3346de2ec23f0": {
      "model_module": "@jupyter-widgets/output",
      "model_module_version": "1.0.0",
      "model_name": "OutputModel",
      "state": {
       "layout": "IPY_MODEL_d8604dcc533048ad85b56a9782d37118",
       "outputs": [
        {
         "data": {
          "application/vnd.jupyter.widget-view+json": {
           "model_id": "1797de1fb6114d3ca7274ea50661c649",
           "version_major": 2,
           "version_minor": 0
          },
          "text/plain": "Plot(antialias=3, axes=['x', 'y', 'z'], axes_helper=1.0, background_color=16777215, camera=[4.5, 4.5, 4.5, 0.0…"
         },
         "metadata": {},
         "output_type": "display_data"
        }
       ]
      }
     },
     "3073bda0d4944d9dbd244257a00e9c6b": {
      "model_module": "@jupyter-widgets/base",
      "model_module_version": "1.2.0",
      "model_name": "LayoutModel",
      "state": {}
     },
     "39c7fa27d3eb4db59789aa6da9655557": {
      "buffers": [
       {
        "data": "eNoDAAAAAAE=",
        "encoding": "base64",
        "path": [
         "attribute",
         "compressed_buffer"
        ]
       },
       {
        "data": "eNoDAAAAAAE=",
        "encoding": "base64",
        "path": [
         "color_map",
         "compressed_buffer"
        ]
       },
       {
        "data": "eNpjYGBgYARiJgYIALFZkcSYoWxmqDgIsCCxmaB8mFoWJBqkBgAJ3AA9",
        "encoding": "base64",
        "path": [
         "indices",
         "compressed_buffer"
        ]
       },
       {
        "data": "eNpjYGiwZ8AAxIsBAF7EAv0=",
        "encoding": "base64",
        "path": [
         "model_matrix",
         "compressed_buffer"
        ]
       },
       {
        "data": "eNpjYGiwZ0AB2PgN+9HEMPgAuXYF+w==",
        "encoding": "base64",
        "path": [
         "vertices",
         "compressed_buffer"
        ]
       }
      ],
      "model_module": "k3d",
      "model_module_version": "2.7.2",
      "model_name": "ObjectModel",
      "state": {
       "_view_count": null,
       "_view_module": null,
       "_view_module_version": "",
       "_view_name": null,
       "attribute": {
        "dtype": "float32",
        "shape": [
         0
        ]
       },
       "click_callback": false,
       "color": 255,
       "color_map": {
        "dtype": "float32",
        "shape": [
         0
        ]
       },
       "color_range": [],
       "compression_level": 0,
       "flat_shading": true,
       "hover_callback": false,
       "id": 4988348288,
       "indices": {
        "dtype": "uint32",
        "shape": [
         24
        ]
       },
       "model_matrix": {
        "dtype": "float32",
        "shape": [
         4,
         4
        ]
       },
       "name": "Mesh #1",
       "opacity": 1,
       "type": "Mesh",
       "vertices": {
        "dtype": "float32",
        "shape": [
         6,
         3
        ]
       },
       "visible": true,
       "wireframe": false
      }
     },
     "6bbe4329340f4bad978bb02d390f9c54": {
      "buffers": [
       {
        "data": "eNoDAAAAAAE=",
        "encoding": "base64",
        "path": [
         "attribute",
         "compressed_buffer"
        ]
       },
       {
        "data": "eNoDAAAAAAE=",
        "encoding": "base64",
        "path": [
         "color_map",
         "compressed_buffer"
        ]
       },
       {
        "data": "eNpjYGBgYARiJgYIALGZkcSYoeIwNgABrAAT",
        "encoding": "base64",
        "path": [
         "indices",
         "compressed_buffer"
        ]
       },
       {
        "data": "eNpjYGiwZ8AAxIsBAF7EAv0=",
        "encoding": "base64",
        "path": [
         "model_matrix",
         "compressed_buffer"
        ]
       },
       {
        "data": "eNpjYGiwZ0DF+5EwBh8ABysL9Q==",
        "encoding": "base64",
        "path": [
         "vertices",
         "compressed_buffer"
        ]
       }
      ],
      "model_module": "k3d",
      "model_module_version": "2.7.2",
      "model_name": "ObjectModel",
      "state": {
       "_view_count": null,
       "_view_module": null,
       "_view_module_version": "",
       "_view_name": null,
       "attribute": {
        "dtype": "float32",
        "shape": [
         0
        ]
       },
       "click_callback": false,
       "color": 255,
       "color_map": {
        "dtype": "float32",
        "shape": [
         0
        ]
       },
       "color_range": [],
       "compression_level": 0,
       "flat_shading": true,
       "hover_callback": false,
       "id": 4988346664,
       "indices": {
        "dtype": "uint32",
        "shape": [
         12
        ]
       },
       "model_matrix": {
        "dtype": "float32",
        "shape": [
         4,
         4
        ]
       },
       "name": "Mesh #2",
       "opacity": 1,
       "type": "Mesh",
       "vertices": {
        "dtype": "float32",
        "shape": [
         4,
         3
        ]
       },
       "visible": true,
       "wireframe": true
      }
     },
     "89f0cdd211c04f53bd176a57403e6730": {
      "model_module": "k3d",
      "model_module_version": "2.7.2",
      "model_name": "PlotModel",
      "state": {
       "_backend_version": "2.7.2",
       "_dom_classes": [],
       "_view_count": null,
       "antialias": 3,
       "auto_rendering": true,
       "axes": [
        "x",
        "y",
        "z"
       ],
       "axes_helper": 1,
       "background_color": 16777215,
       "camera": [
        1.2877883343400551,
        0.5683174984899172,
        1.0287788334340056,
        1,
        1,
        1,
        0,
        0,
        1
       ],
       "camera_auto_fit": true,
       "camera_fov": 60,
       "camera_no_pan": false,
       "camera_no_rotate": false,
       "camera_no_zoom": false,
       "clipping_planes": [],
       "colorbar_object_id": -1,
       "fps": 25,
       "fps_meter": false,
       "grid": [
        -1,
        -1,
        -1,
        1,
        1,
        1
       ],
       "grid_auto_fit": true,
       "grid_visible": true,
       "height": 512,
       "layout": "IPY_MODEL_c39cffd7f242495ca033e6e4aff789cf",
       "lighting": 1.5,
       "menu_visibility": true,
       "mode": "view",
       "name": null,
       "object_ids": [
        4597914368
       ],
       "rendering_steps": 1,
       "screenshot": "",
       "screenshot_scale": 2,
       "snapshot": "",
       "time": 0,
       "voxel_paint_color": 0
      }
     },
     "906d4ec6fb0244dfb23bbd0c89d9d479": {
      "buffers": [
       {
        "data": "eNoDAAAAAAE=",
        "encoding": "base64",
        "path": [
         "attribute",
         "compressed_buffer"
        ]
       },
       {
        "data": "eNoDAAAAAAE=",
        "encoding": "base64",
        "path": [
         "color_map",
         "compressed_buffer"
        ]
       },
       {
        "data": "eNpdjwsOgCAMQ6eIf0Xx/nd1xLekkaTp6xhkMzPrXNW+03jFF9jwU7y4BnJw9DfO5OAHLvD440t4IgfPcPPN1buS6xae4ejpqB/CVd5V2fHAdzhLzviDx5yT5CRzJrlL8ucpOwfHLhs1k9mMu1u49bwjHQPL",
        "encoding": "base64",
        "path": [
         "indices",
         "compressed_buffer"
        ]
       },
       {
        "data": "eNpjYGiwZ8AAxIsBAF7EAv0=",
        "encoding": "base64",
        "path": [
         "model_matrix",
         "compressed_buffer"
        ]
       },
       {
        "data": "eNpjYGjYz4CJ7dFoGNseixg2OSQ+A8Ne6fP2VeZyMPZ+NPZ+JDXIcvboctj0k2I2iA0A0VNBWQ==",
        "encoding": "base64",
        "path": [
         "vertices",
         "compressed_buffer"
        ]
       }
      ],
      "model_module": "k3d",
      "model_module_version": "2.7.2",
      "model_name": "ObjectModel",
      "state": {
       "_view_count": null,
       "_view_module": null,
       "_view_module_version": "",
       "_view_name": null,
       "attribute": {
        "dtype": "float32",
        "shape": [
         0
        ]
       },
       "click_callback": false,
       "color": 255,
       "color_map": {
        "dtype": "float32",
        "shape": [
         0
        ]
       },
       "color_range": [],
       "compression_level": 0,
       "flat_shading": true,
       "hover_callback": false,
       "id": 4988347728,
       "indices": {
        "dtype": "uint32",
        "shape": [
         108
        ]
       },
       "model_matrix": {
        "dtype": "float32",
        "shape": [
         4,
         4
        ]
       },
       "name": "Mesh #2",
       "opacity": 1,
       "type": "Mesh",
       "vertices": {
        "dtype": "float32",
        "shape": [
         20,
         3
        ]
       },
       "visible": true,
       "wireframe": false
      }
     },
     "94a53f5eec604738a1296e555c90ba9b": {
      "model_module": "@jupyter-widgets/output",
      "model_module_version": "1.0.0",
      "model_name": "OutputModel",
      "state": {
       "layout": "IPY_MODEL_d8968ae50d064739957f88049d46882f",
       "outputs": [
        {
         "data": {
          "application/vnd.jupyter.widget-view+json": {
           "model_id": "bdba70142bb048c18360556c3c102e59",
           "version_major": 2,
           "version_minor": 0
          },
          "text/plain": "Plot(antialias=3, axes=['x', 'y', 'z'], axes_helper=1.0, background_color=16777215, camera=[4.5, 4.5, 4.5, 0.0…"
         },
         "metadata": {},
         "output_type": "display_data"
        }
       ]
      }
     },
     "bdba70142bb048c18360556c3c102e59": {
      "model_module": "k3d",
      "model_module_version": "2.7.2",
      "model_name": "PlotModel",
      "state": {
       "_backend_version": "2.7.2",
       "_dom_classes": [],
       "_view_count": null,
       "antialias": 3,
       "auto_rendering": true,
       "axes": [
        "x",
        "y",
        "z"
       ],
       "axes_helper": 1,
       "background_color": 16777215,
       "camera": [
        4.656512002321348,
        -6.9847680034820225,
        0.46565120023213397,
        0,
        0,
        0,
        0,
        0,
        1
       ],
       "camera_auto_fit": true,
       "camera_fov": 60,
       "camera_no_pan": false,
       "camera_no_rotate": false,
       "camera_no_zoom": false,
       "clipping_planes": [],
       "colorbar_object_id": -1,
       "fps": 25,
       "fps_meter": false,
       "grid": [
        -1,
        -1,
        -1,
        1,
        1,
        1
       ],
       "grid_auto_fit": true,
       "grid_visible": true,
       "height": 512,
       "layout": "IPY_MODEL_3073bda0d4944d9dbd244257a00e9c6b",
       "lighting": 1.5,
       "menu_visibility": true,
       "mode": "view",
       "name": null,
       "object_ids": [
        4988349464,
        4988347728
       ],
       "rendering_steps": 1,
       "screenshot": "",
       "screenshot_scale": 2,
       "snapshot": "",
       "time": 0,
       "voxel_paint_color": 0
      }
     },
     "c39cffd7f242495ca033e6e4aff789cf": {
      "model_module": "@jupyter-widgets/base",
      "model_module_version": "1.2.0",
      "model_name": "LayoutModel",
      "state": {}
     },
     "cba7b5f5916941419b4b39069a74665f": {
      "model_module": "@jupyter-widgets/output",
      "model_module_version": "1.0.0",
      "model_name": "OutputModel",
      "state": {
       "layout": "IPY_MODEL_d7a0e2742cc74cd1bfeb5720bd53b7f6",
       "outputs": [
        {
         "data": {
          "application/vnd.jupyter.widget-view+json": {
           "model_id": "89f0cdd211c04f53bd176a57403e6730",
           "version_major": 2,
           "version_minor": 0
          },
          "text/plain": "Plot(antialias=3, axes=['x', 'y', 'z'], axes_helper=1.0, background_color=16777215, camera=[4.5, 4.5, 4.5, 0.0…"
         },
         "metadata": {},
         "output_type": "display_data"
        }
       ]
      }
     },
     "d7a0e2742cc74cd1bfeb5720bd53b7f6": {
      "model_module": "@jupyter-widgets/base",
      "model_module_version": "1.2.0",
      "model_name": "LayoutModel",
      "state": {}
     },
     "d8604dcc533048ad85b56a9782d37118": {
      "model_module": "@jupyter-widgets/base",
      "model_module_version": "1.2.0",
      "model_name": "LayoutModel",
      "state": {}
     },
     "d8968ae50d064739957f88049d46882f": {
      "model_module": "@jupyter-widgets/base",
      "model_module_version": "1.2.0",
      "model_name": "LayoutModel",
      "state": {}
     },
     "efd788d6f1cf45e9aeb967658b450fb9": {
      "model_module": "@jupyter-widgets/base",
      "model_module_version": "1.2.0",
      "model_name": "LayoutModel",
      "state": {}
     }
    },
    "version_major": 2,
    "version_minor": 0
   }
  }
 },
 "nbformat": 4,
 "nbformat_minor": 2
}
