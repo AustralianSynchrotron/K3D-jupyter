{
 "cells": [
  {
   "cell_type": "markdown",
   "metadata": {},
   "source": [
    "## Platonic solids\n",
    "\n",
    "There is a selection of functions generating `k3d.mesh` objects for basic platonic solids."
   ]
  },
  {
   "cell_type": "code",
   "execution_count": 1,
   "metadata": {},
   "outputs": [],
   "source": [
    "from k3d.platonic import Cube, Icosahedron, \\\n",
    "    Dodecahedron, Tetrahedron, Octahedron"
   ]
  },
  {
   "cell_type": "code",
   "execution_count": 2,
   "metadata": {},
   "outputs": [
    {
     "data": {
      "application/vnd.jupyter.widget-view+json": {
       "model_id": "018f7e8608504eb58b3e7fbceaeb5334",
       "version_major": 2,
       "version_minor": 0
      },
      "text/plain": [
       "Output()"
      ]
     },
     "metadata": {},
     "output_type": "display_data"
    }
   ],
   "source": [
    "cube_mesh = Cube(origin=[1,1,1], size=0.1).mesh\n",
    "cube_mesh.color = 0xff0000\n",
    "cube_mesh"
   ]
  },
  {
   "cell_type": "code",
   "execution_count": 3,
   "metadata": {},
   "outputs": [
    {
     "data": {
      "application/vnd.jupyter.widget-view+json": {
       "model_id": "dbc7de0666be4a43a63e9d6c7a3b4f68",
       "version_major": 2,
       "version_minor": 0
      },
      "text/plain": [
       "Output()"
      ]
     },
     "metadata": {},
     "output_type": "display_data"
    }
   ],
   "source": [
    "tetrahedron_mesh = Tetrahedron().mesh\n",
    "tetrahedron_mesh.wireframe = True\n",
    "Octahedron().mesh + tetrahedron_mesh"
   ]
  },
  {
   "cell_type": "code",
   "execution_count": 4,
   "metadata": {},
   "outputs": [
    {
     "data": {
      "application/vnd.jupyter.widget-view+json": {
       "model_id": "8d2cc89107914e77b02ba900b14a7a11",
       "version_major": 2,
       "version_minor": 0
      },
      "text/plain": [
       "Output()"
      ]
     },
     "metadata": {},
     "output_type": "display_data"
    }
   ],
   "source": [
    "Icosahedron().mesh + Dodecahedron().mesh"
   ]
  }
 ],
 "metadata": {
  "kernelspec": {
   "display_name": "Python 3",
   "language": "python",
   "name": "python3"
  },
  "language_info": {
   "codemirror_mode": {
    "name": "ipython",
    "version": 3
   },
   "file_extension": ".py",
   "mimetype": "text/x-python",
   "name": "python",
   "nbconvert_exporter": "python",
   "pygments_lexer": "ipython3",
   "version": "3.7.8"
  },
  "nbTranslate": {
   "displayLangs": [
    "en",
    "pl"
   ],
   "hotkey": "alt-t",
   "langInMainMenu": true,
   "sourceLang": "pl",
   "targetLang": "en",
   "useGoogleTranslate": true
  },
  "widgets": {
   "application/vnd.jupyter.widget-state+json": {
    "state": {
     "018f7e8608504eb58b3e7fbceaeb5334": {
      "model_module": "@jupyter-widgets/output",
      "model_module_version": "1.0.0",
      "model_name": "OutputModel",
      "state": {
       "layout": "IPY_MODEL_a4c79bb2c2fa4780bdffb13e2c94b629",
       "outputs": [
        {
         "data": {
          "application/vnd.jupyter.widget-view+json": {
           "model_id": "aade4ddd7f8c4bf7bf4030e94f89995c",
           "version_major": 2,
           "version_minor": 0
          },
          "text/plain": "Plot(antialias=3, axes=['x', 'y', 'z'], axes_helper=1.0, background_color=16777215, camera=[2, -3, 0.2, 0.0, 0…"
         },
         "metadata": {},
         "output_type": "display_data"
        }
       ]
      }
     },
     "03d1dc3fb5784886b1c6034aeaf39c4c": {
      "model_module": "@jupyter-widgets/base",
      "model_module_version": "1.2.0",
      "model_name": "LayoutModel",
      "state": {}
     },
     "0ab1ca3e4a1e46299227e3c7fdb4cdee": {
      "model_module": "@jupyter-widgets/base",
      "model_module_version": "1.2.0",
      "model_name": "LayoutModel",
      "state": {}
     },
     "10fcd3429c76401bb8bdd384e61a9776": {
      "model_module": "@jupyter-widgets/base",
      "model_module_version": "1.2.0",
      "model_name": "LayoutModel",
      "state": {}
     },
     "2366f2e2f66e4446a8e87e22057619c0": {
      "buffers": [
       {
        "data": "",
        "encoding": "base64",
        "path": [
         "attribute",
         "data"
        ]
       },
       {
        "data": "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",
        "encoding": "base64",
        "path": [
         "color_map",
         "data"
        ]
       },
       {
        "data": "AAAAAAEAAAASAAAAAAAAAAEAAAAKAAAAAQAAAAkAAAAKAAAAAAAAAAoAAAAOAAAACgAAAA4AAAAPAAAABAAAAAoAAAAPAAAABAAAAAkAAAAKAAAABAAAAAUAAAAJAAAABAAAAAUAAAATAAAABAAAAA8AAAATAAAABgAAAA8AAAATAAAABgAAABAAAAATAAAABgAAAAcAAAAQAAAABgAAAAcAAAAIAAAABgAAAAgAAAALAAAAAgAAAAMAAAARAAAAAgAAAAMAAAAIAAAAAgAAAAgAAAALAAAAAQAAAAMAAAANAAAAAQAAAAMAAAASAAAAAwAAABEAAAASAAAAAQAAAAkAAAANAAAACQAAAAwAAAANAAAABQAAAAkAAAAMAAAABQAAAAwAAAATAAAADAAAABAAAAATAAAABwAAAAwAAAAQAAAAAwAAAAcAAAAIAAAAAwAAAAcAAAAMAAAAAwAAAAwAAAANAAAADgAAAAYAAAAPAAAADgAAAAYAAAALAAAAAgAAAAsAAAAOAAAAAAAAABEAAAASAAAAAAAAAAIAAAARAAAAAAAAAAIAAAAOAAAA",
        "encoding": "base64",
        "path": [
         "indices",
         "data"
        ]
       },
       {
        "data": "AACAPwAAAAAAAAAAAAAAAAAAAAAAAIA/AAAAAAAAAAAAAAAAAAAAAAAAgD8AAAAAAAAAAAAAAAAAAAAAAACAPw==",
        "encoding": "base64",
        "path": [
         "model_matrix",
         "data"
        ]
       },
       {
        "data": "",
        "encoding": "base64",
        "path": [
         "opacity_function",
         "data"
        ]
       },
       {
        "data": "AADAfw==",
        "encoding": "base64",
        "path": [
         "uvs",
         "data"
        ]
       },
       {
        "data": "AACAvwAAgL8AAIC/AACAvwAAgL8AAIA/AACAvwAAgD8AAIC/AACAvwAAgD8AAIA/AACAPwAAgL8AAIC/AACAPwAAgL8AAIA/AACAPwAAgD8AAIC/AACAPwAAgD8AAIA/AAAAAL0bzz96Nx4/AAAAAL0bz796Nx4/AAAAAL0bz796Nx6/AAAAAL0bzz96Nx6/ejcePwAAAAC9G88/ejcevwAAAAC9G88/ejcevwAAAAC9G8+/ejcePwAAAAC9G8+/vRvPP3o3Hj8AAAAAvRvPv3o3Hj8AAAAAvRvPv3o3Hr8AAAAAvRvPP3o3Hr8AAAAA",
        "encoding": "base64",
        "path": [
         "vertices",
         "data"
        ]
       },
       {
        "data": "",
        "encoding": "base64",
        "path": [
         "volume",
         "data"
        ]
       },
       {
        "data": "",
        "encoding": "base64",
        "path": [
         "volume_bounds",
         "data"
        ]
       }
      ],
      "model_module": "k3d",
      "model_module_version": "2.9.0",
      "model_name": "ObjectModel",
      "state": {
       "_view_count": null,
       "_view_module": null,
       "_view_module_version": "",
       "_view_name": null,
       "attribute": {
        "dtype": "float32",
        "shape": [
         0
        ]
       },
       "click_callback": false,
       "color": 255,
       "colorLegend": false,
       "color_map": {
        "dtype": "float32",
        "shape": [
         1024
        ]
       },
       "color_range": [],
       "compression_level": 0,
       "flat_shading": true,
       "hover_callback": false,
       "id": 4938147088,
       "indices": {
        "dtype": "uint32",
        "shape": [
         108
        ]
       },
       "model_matrix": {
        "dtype": "float32",
        "shape": [
         4,
         4
        ]
       },
       "name": "Mesh #2",
       "opacity": 1,
       "opacity_function": {
        "dtype": "float32",
        "shape": [
         0
        ]
       },
       "side": "double",
       "texture": null,
       "texture_file_format": null,
       "type": "Mesh",
       "uvs": {
        "dtype": "float32",
        "shape": []
       },
       "vertices": {
        "dtype": "float32",
        "shape": [
         20,
         3
        ]
       },
       "visible": true,
       "volume": {
        "dtype": "float32",
        "shape": [
         0
        ]
       },
       "volume_bounds": {
        "dtype": "float32",
        "shape": [
         0
        ]
       },
       "wireframe": false
      }
     },
     "37f6aef7b628463984b3bbb32c98dfac": {
      "buffers": [
       {
        "data": "",
        "encoding": "base64",
        "path": [
         "attribute",
         "data"
        ]
       },
       {
        "data": "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",
        "encoding": "base64",
        "path": [
         "color_map",
         "data"
        ]
       },
       {
        "data": "AAAAAAIAAAAIAAAAAAAAAAQAAAAIAAAAAAAAAAIAAAAJAAAAAAAAAAUAAAAJAAAAAgAAAAYAAAAIAAAAAgAAAAcAAAAJAAAAAgAAAAYAAAAHAAAAAAAAAAQAAAAFAAAAAQAAAAQAAAAFAAAAAQAAAAUAAAALAAAABwAAAAkAAAALAAAAAwAAAAcAAAALAAAAAwAAAAYAAAAHAAAAAwAAAAYAAAAKAAAABAAAAAgAAAAKAAAABgAAAAgAAAAKAAAAAQAAAAQAAAAKAAAAAQAAAAMAAAALAAAAAQAAAAMAAAAKAAAABQAAAAkAAAALAAAA",
        "encoding": "base64",
        "path": [
         "indices",
         "data"
        ]
       },
       {
        "data": "AACAPwAAAAAAAAAAAAAAAAAAAAAAAIA/AAAAAAAAAAAAAAAAAAAAAAAAgD8AAAAAAAAAAAAAAAAAAAAAAACAPw==",
        "encoding": "base64",
        "path": [
         "model_matrix",
         "data"
        ]
       },
       {
        "data": "",
        "encoding": "base64",
        "path": [
         "opacity_function",
         "data"
        ]
       },
       {
        "data": "AADAfw==",
        "encoding": "base64",
        "path": [
         "uvs",
         "data"
        ]
       },
       {
        "data": "AACAP70bzz8AAAAAAACAP70bz78AAAAAAACAv70bzz8AAAAAAACAv70bz78AAAAAvRvPPwAAAAAAAIA/vRvPPwAAAAAAAIC/vRvPvwAAAAAAAIA/vRvPvwAAAAAAAIC/AAAAAAAAgD+9G88/AAAAAAAAgD+9G8+/AAAAAAAAgL+9G88/AAAAAAAAgL+9G8+/",
        "encoding": "base64",
        "path": [
         "vertices",
         "data"
        ]
       },
       {
        "data": "",
        "encoding": "base64",
        "path": [
         "volume",
         "data"
        ]
       },
       {
        "data": "",
        "encoding": "base64",
        "path": [
         "volume_bounds",
         "data"
        ]
       }
      ],
      "model_module": "k3d",
      "model_module_version": "2.9.0",
      "model_name": "ObjectModel",
      "state": {
       "_view_count": null,
       "_view_module": null,
       "_view_module_version": "",
       "_view_name": null,
       "attribute": {
        "dtype": "float32",
        "shape": [
         0
        ]
       },
       "click_callback": false,
       "color": 255,
       "colorLegend": false,
       "color_map": {
        "dtype": "float32",
        "shape": [
         1024
        ]
       },
       "color_range": [],
       "compression_level": 0,
       "flat_shading": true,
       "hover_callback": false,
       "id": 4937969936,
       "indices": {
        "dtype": "uint32",
        "shape": [
         60
        ]
       },
       "model_matrix": {
        "dtype": "float32",
        "shape": [
         4,
         4
        ]
       },
       "name": "Mesh #1",
       "opacity": 1,
       "opacity_function": {
        "dtype": "float32",
        "shape": [
         0
        ]
       },
       "side": "double",
       "texture": null,
       "texture_file_format": null,
       "type": "Mesh",
       "uvs": {
        "dtype": "float32",
        "shape": []
       },
       "vertices": {
        "dtype": "float32",
        "shape": [
         12,
         3
        ]
       },
       "visible": true,
       "volume": {
        "dtype": "float32",
        "shape": [
         0
        ]
       },
       "volume_bounds": {
        "dtype": "float32",
        "shape": [
         0
        ]
       },
       "wireframe": false
      }
     },
     "4d1876b2ae4044e58eba5caa3fc92d18": {
      "buffers": [
       {
        "data": "",
        "encoding": "base64",
        "path": [
         "attribute",
         "data"
        ]
       },
       {
        "data": "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",
        "encoding": "base64",
        "path": [
         "color_map",
         "data"
        ]
       },
       {
        "data": "AAAAAAEAAAACAAAAAAAAAAEAAAADAAAAAQAAAAIAAAADAAAAAAAAAAIAAAADAAAA",
        "encoding": "base64",
        "path": [
         "indices",
         "data"
        ]
       },
       {
        "data": "AACAPwAAAAAAAAAAAAAAAAAAAAAAAIA/AAAAAAAAAAAAAAAAAAAAAAAAgD8AAAAAAAAAAAAAAAAAAAAAAACAPw==",
        "encoding": "base64",
        "path": [
         "model_matrix",
         "data"
        ]
       },
       {
        "data": "",
        "encoding": "base64",
        "path": [
         "opacity_function",
         "data"
        ]
       },
       {
        "data": "AADAfw==",
        "encoding": "base64",
        "path": [
         "uvs",
         "data"
        ]
       },
       {
        "data": "AACAPwAAgD8AAIA/AACAPwAAgL8AAIC/AACAvwAAgD8AAIC/AACAvwAAgL8AAIA/",
        "encoding": "base64",
        "path": [
         "vertices",
         "data"
        ]
       },
       {
        "data": "",
        "encoding": "base64",
        "path": [
         "volume",
         "data"
        ]
       },
       {
        "data": "",
        "encoding": "base64",
        "path": [
         "volume_bounds",
         "data"
        ]
       }
      ],
      "model_module": "k3d",
      "model_module_version": "2.9.0",
      "model_name": "ObjectModel",
      "state": {
       "_view_count": null,
       "_view_module": null,
       "_view_module_version": "",
       "_view_name": null,
       "attribute": {
        "dtype": "float32",
        "shape": [
         0
        ]
       },
       "click_callback": false,
       "color": 255,
       "colorLegend": false,
       "color_map": {
        "dtype": "float32",
        "shape": [
         1024
        ]
       },
       "color_range": [],
       "compression_level": 0,
       "flat_shading": true,
       "hover_callback": false,
       "id": 4938052112,
       "indices": {
        "dtype": "uint32",
        "shape": [
         12
        ]
       },
       "model_matrix": {
        "dtype": "float32",
        "shape": [
         4,
         4
        ]
       },
       "name": "Mesh #2",
       "opacity": 1,
       "opacity_function": {
        "dtype": "float32",
        "shape": [
         0
        ]
       },
       "side": "double",
       "texture": null,
       "texture_file_format": null,
       "type": "Mesh",
       "uvs": {
        "dtype": "float32",
        "shape": []
       },
       "vertices": {
        "dtype": "float32",
        "shape": [
         4,
         3
        ]
       },
       "visible": true,
       "volume": {
        "dtype": "float32",
        "shape": [
         0
        ]
       },
       "volume_bounds": {
        "dtype": "float32",
        "shape": [
         0
        ]
       },
       "wireframe": true
      }
     },
     "8d2cc89107914e77b02ba900b14a7a11": {
      "model_module": "@jupyter-widgets/output",
      "model_module_version": "1.0.0",
      "model_name": "OutputModel",
      "state": {
       "layout": "IPY_MODEL_0ab1ca3e4a1e46299227e3c7fdb4cdee",
       "outputs": [
        {
         "data": {
          "application/vnd.jupyter.widget-view+json": {
           "model_id": "a183cf66a06b4339b266401b390df83f",
           "version_major": 2,
           "version_minor": 0
          },
          "text/plain": "Plot(antialias=3, axes=['x', 'y', 'z'], axes_helper=1.0, background_color=16777215, camera=[2, -3, 0.2, 0.0, 0…"
         },
         "metadata": {},
         "output_type": "display_data"
        }
       ]
      }
     },
     "9755cab89a774230af1ed43c9eb92a59": {
      "buffers": [
       {
        "data": "",
        "encoding": "base64",
        "path": [
         "attribute",
         "data"
        ]
       },
       {
        "data": "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",
        "encoding": "base64",
        "path": [
         "color_map",
         "data"
        ]
       },
       {
        "data": "AAAAAAEAAAACAAAAAQAAAAIAAAADAAAAAAAAAAEAAAAEAAAAAQAAAAQAAAAFAAAAAQAAAAMAAAAFAAAAAwAAAAUAAAAHAAAAAAAAAAIAAAAEAAAAAgAAAAQAAAAGAAAAAgAAAAMAAAAHAAAAAgAAAAYAAAAHAAAABAAAAAUAAAAGAAAABQAAAAYAAAAHAAAA",
        "encoding": "base64",
        "path": [
         "indices",
         "data"
        ]
       },
       {
        "data": "AACAPwAAAAAAAAAAAAAAAAAAAAAAAIA/AAAAAAAAAAAAAAAAAAAAAAAAgD8AAAAAAAAAAAAAAAAAAAAAAACAPw==",
        "encoding": "base64",
        "path": [
         "model_matrix",
         "data"
        ]
       },
       {
        "data": "",
        "encoding": "base64",
        "path": [
         "opacity_function",
         "data"
        ]
       },
       {
        "data": "AADAfw==",
        "encoding": "base64",
        "path": [
         "uvs",
         "data"
        ]
       },
       {
        "data": "zcyMP83MjD/NzIw/zcyMP83MjD9mZmY/zcyMP2ZmZj/NzIw/zcyMP2ZmZj9mZmY/ZmZmP83MjD/NzIw/ZmZmP83MjD9mZmY/ZmZmP2ZmZj/NzIw/ZmZmP2ZmZj9mZmY/",
        "encoding": "base64",
        "path": [
         "vertices",
         "data"
        ]
       },
       {
        "data": "",
        "encoding": "base64",
        "path": [
         "volume",
         "data"
        ]
       },
       {
        "data": "",
        "encoding": "base64",
        "path": [
         "volume_bounds",
         "data"
        ]
       }
      ],
      "model_module": "k3d",
      "model_module_version": "2.9.0",
      "model_name": "ObjectModel",
      "state": {
       "_view_count": null,
       "_view_module": null,
       "_view_module_version": "",
       "_view_name": null,
       "attribute": {
        "dtype": "float32",
        "shape": [
         0
        ]
       },
       "click_callback": false,
       "color": 16711680,
       "colorLegend": false,
       "color_map": {
        "dtype": "float32",
        "shape": [
         1024
        ]
       },
       "color_range": [],
       "compression_level": 0,
       "flat_shading": true,
       "hover_callback": false,
       "id": 4937916240,
       "indices": {
        "dtype": "uint32",
        "shape": [
         36
        ]
       },
       "model_matrix": {
        "dtype": "float32",
        "shape": [
         4,
         4
        ]
       },
       "name": "Mesh #1",
       "opacity": 1,
       "opacity_function": {
        "dtype": "float32",
        "shape": [
         0
        ]
       },
       "side": "double",
       "texture": null,
       "texture_file_format": null,
       "type": "Mesh",
       "uvs": {
        "dtype": "float32",
        "shape": []
       },
       "vertices": {
        "dtype": "float32",
        "shape": [
         8,
         3
        ]
       },
       "visible": true,
       "volume": {
        "dtype": "float32",
        "shape": [
         0
        ]
       },
       "volume_bounds": {
        "dtype": "float32",
        "shape": [
         0
        ]
       },
       "wireframe": false
      }
     },
     "a183cf66a06b4339b266401b390df83f": {
      "model_module": "k3d",
      "model_module_version": "2.9.0",
      "model_name": "PlotModel",
      "state": {
       "_backend_version": "2.9.0",
       "_dom_classes": [],
       "_view_count": null,
       "antialias": 3,
       "auto_rendering": true,
       "axes": [
        "x",
        "y",
        "z"
       ],
       "axes_helper": 1,
       "background_color": 16777215,
       "camera": [
        2.701041664959927,
        -4.051562497439892,
        0.2701041664959951,
        0,
        0,
        0,
        0,
        0,
        1
       ],
       "camera_animation": [],
       "camera_auto_fit": true,
       "camera_fov": 60,
       "camera_mode": "trackball",
       "camera_no_pan": false,
       "camera_no_rotate": false,
       "camera_no_zoom": false,
       "clipping_planes": [],
       "colorbar_object_id": -1,
       "colorbar_scientific": false,
       "fps": 25,
       "fps_meter": false,
       "grid": [
        -1,
        -1,
        -1,
        1,
        1,
        1
       ],
       "grid_auto_fit": true,
       "grid_visible": true,
       "height": 512,
       "layout": "IPY_MODEL_f65b761bfbec44808cbb864190a2faa7",
       "lighting": 1.5,
       "manipulate_mode": "translate",
       "menu_visibility": true,
       "mode": "view",
       "name": null,
       "object_ids": [
        4937969936,
        4938147088
       ],
       "rendering_steps": 1,
       "screenshot": "",
       "screenshot_scale": 2,
       "snapshot": "",
       "snapshot_include_js": true,
       "time": 0,
       "voxel_paint_color": 0
      }
     },
     "a4c79bb2c2fa4780bdffb13e2c94b629": {
      "model_module": "@jupyter-widgets/base",
      "model_module_version": "1.2.0",
      "model_name": "LayoutModel",
      "state": {}
     },
     "aade4ddd7f8c4bf7bf4030e94f89995c": {
      "model_module": "k3d",
      "model_module_version": "2.9.0",
      "model_name": "PlotModel",
      "state": {
       "_backend_version": "2.9.0",
       "_dom_classes": [],
       "_view_count": null,
       "antialias": 3,
       "auto_rendering": true,
       "axes": [
        "x",
        "y",
        "z"
       ],
       "axes_helper": 1,
       "background_color": 16777215,
       "camera": [
        1.2877883343400551,
        0.5683174984899172,
        1.0287788334340058,
        1,
        1,
        1,
        0,
        0,
        1
       ],
       "camera_animation": [],
       "camera_auto_fit": true,
       "camera_fov": 60,
       "camera_mode": "trackball",
       "camera_no_pan": false,
       "camera_no_rotate": false,
       "camera_no_zoom": false,
       "clipping_planes": [],
       "colorbar_object_id": -1,
       "colorbar_scientific": false,
       "fps": 25,
       "fps_meter": false,
       "grid": [
        -1,
        -1,
        -1,
        1,
        1,
        1
       ],
       "grid_auto_fit": true,
       "grid_visible": true,
       "height": 512,
       "layout": "IPY_MODEL_10fcd3429c76401bb8bdd384e61a9776",
       "lighting": 1.5,
       "manipulate_mode": "translate",
       "menu_visibility": true,
       "mode": "view",
       "name": null,
       "object_ids": [
        4937916240
       ],
       "rendering_steps": 1,
       "screenshot": "",
       "screenshot_scale": 2,
       "snapshot": "",
       "snapshot_include_js": true,
       "time": 0,
       "voxel_paint_color": 0
      }
     },
     "b142c3a8952040cb801859c604cb9d6e": {
      "model_module": "k3d",
      "model_module_version": "2.9.0",
      "model_name": "PlotModel",
      "state": {
       "_backend_version": "2.9.0",
       "_dom_classes": [],
       "_view_count": null,
       "antialias": 3,
       "auto_rendering": true,
       "axes": [
        "x",
        "y",
        "z"
       ],
       "axes_helper": 1,
       "background_color": 16777215,
       "camera": [
        2.546357878624738,
        -1.6605420063642704,
        0.2932918556161676,
        0,
        0,
        0,
        -0.022091472277498986,
        0.040694571182910325,
        0.9989273841120038
       ],
       "camera_animation": [],
       "camera_auto_fit": true,
       "camera_fov": 60,
       "camera_mode": "trackball",
       "camera_no_pan": false,
       "camera_no_rotate": false,
       "camera_no_zoom": false,
       "clipping_planes": [],
       "colorbar_object_id": -1,
       "colorbar_scientific": false,
       "fps": 25,
       "fps_meter": false,
       "grid": [
        -1,
        -1,
        -1,
        1,
        1,
        1
       ],
       "grid_auto_fit": true,
       "grid_visible": true,
       "height": 512,
       "layout": "IPY_MODEL_fd0083a0f89b4dc99e988b40889bad39",
       "lighting": 1.5,
       "manipulate_mode": "translate",
       "menu_visibility": true,
       "mode": "view",
       "name": null,
       "object_ids": [
        4937972880,
        4938052112
       ],
       "rendering_steps": 1,
       "screenshot": "",
       "screenshot_scale": 2,
       "snapshot": "",
       "snapshot_include_js": true,
       "time": 0,
       "voxel_paint_color": 0
      }
     },
     "ccde3e96fd224635928fc426fc808293": {
      "buffers": [
       {
        "data": "",
        "encoding": "base64",
        "path": [
         "attribute",
         "data"
        ]
       },
       {
        "data": "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",
        "encoding": "base64",
        "path": [
         "color_map",
         "data"
        ]
       },
       {
        "data": "AAAAAAEAAAACAAAAAAAAAAEAAAAFAAAAAQAAAAIAAAADAAAAAQAAAAMAAAAFAAAAAAAAAAQAAAAFAAAAAAAAAAIAAAAEAAAAAgAAAAMAAAAEAAAAAwAAAAQAAAAFAAAA",
        "encoding": "base64",
        "path": [
         "indices",
         "data"
        ]
       },
       {
        "data": "AACAPwAAAAAAAAAAAAAAAAAAAAAAAIA/AAAAAAAAAAAAAAAAAAAAAAAAgD8AAAAAAAAAAAAAAAAAAAAAAACAPw==",
        "encoding": "base64",
        "path": [
         "model_matrix",
         "data"
        ]
       },
       {
        "data": "",
        "encoding": "base64",
        "path": [
         "opacity_function",
         "data"
        ]
       },
       {
        "data": "AADAfw==",
        "encoding": "base64",
        "path": [
         "uvs",
         "data"
        ]
       },
       {
        "data": "AACAPwAAAAAAAAAAAAAAAAAAgD8AAAAAAAAAAAAAAAAAAIA/AACAvwAAAAAAAAAAAAAAAAAAgL8AAAAAAAAAAAAAAAAAAIC/",
        "encoding": "base64",
        "path": [
         "vertices",
         "data"
        ]
       },
       {
        "data": "",
        "encoding": "base64",
        "path": [
         "volume",
         "data"
        ]
       },
       {
        "data": "",
        "encoding": "base64",
        "path": [
         "volume_bounds",
         "data"
        ]
       }
      ],
      "model_module": "k3d",
      "model_module_version": "2.9.0",
      "model_name": "ObjectModel",
      "state": {
       "_view_count": null,
       "_view_module": null,
       "_view_module_version": "",
       "_view_name": null,
       "attribute": {
        "dtype": "float32",
        "shape": [
         0
        ]
       },
       "click_callback": false,
       "color": 255,
       "colorLegend": false,
       "color_map": {
        "dtype": "float32",
        "shape": [
         1024
        ]
       },
       "color_range": [],
       "compression_level": 0,
       "flat_shading": true,
       "hover_callback": false,
       "id": 4937972880,
       "indices": {
        "dtype": "uint32",
        "shape": [
         24
        ]
       },
       "model_matrix": {
        "dtype": "float32",
        "shape": [
         4,
         4
        ]
       },
       "name": "Mesh #1",
       "opacity": 1,
       "opacity_function": {
        "dtype": "float32",
        "shape": [
         0
        ]
       },
       "side": "double",
       "texture": null,
       "texture_file_format": null,
       "type": "Mesh",
       "uvs": {
        "dtype": "float32",
        "shape": []
       },
       "vertices": {
        "dtype": "float32",
        "shape": [
         6,
         3
        ]
       },
       "visible": true,
       "volume": {
        "dtype": "float32",
        "shape": [
         0
        ]
       },
       "volume_bounds": {
        "dtype": "float32",
        "shape": [
         0
        ]
       },
       "wireframe": false
      }
     },
     "dbc7de0666be4a43a63e9d6c7a3b4f68": {
      "model_module": "@jupyter-widgets/output",
      "model_module_version": "1.0.0",
      "model_name": "OutputModel",
      "state": {
       "layout": "IPY_MODEL_03d1dc3fb5784886b1c6034aeaf39c4c",
       "outputs": [
        {
         "data": {
          "application/vnd.jupyter.widget-view+json": {
           "model_id": "b142c3a8952040cb801859c604cb9d6e",
           "version_major": 2,
           "version_minor": 0
          },
          "text/plain": "Plot(antialias=3, axes=['x', 'y', 'z'], axes_helper=1.0, background_color=16777215, camera=[2, -3, 0.2, 0.0, 0…"
         },
         "metadata": {},
         "output_type": "display_data"
        }
       ]
      }
     },
     "f65b761bfbec44808cbb864190a2faa7": {
      "model_module": "@jupyter-widgets/base",
      "model_module_version": "1.2.0",
      "model_name": "LayoutModel",
      "state": {}
     },
     "fd0083a0f89b4dc99e988b40889bad39": {
      "model_module": "@jupyter-widgets/base",
      "model_module_version": "1.2.0",
      "model_name": "LayoutModel",
      "state": {}
     }
    },
    "version_major": 2,
    "version_minor": 0
   }
  }
 },
 "nbformat": 4,
 "nbformat_minor": 4
}
