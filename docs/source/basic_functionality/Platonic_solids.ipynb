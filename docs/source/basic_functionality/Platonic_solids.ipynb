{
 "cells": [
  {
   "cell_type": "markdown",
   "metadata": {},
   "source": [
    "## Platonic solids"
   ]
  },
  {
   "cell_type": "code",
   "execution_count": 1,
   "metadata": {},
   "outputs": [],
   "source": [
    "from k3d.platonic import Cube, Icosahedron, \\\n",
    "    Dodecahedron, Tetrahedron, Octahedron"
   ]
  },
  {
   "cell_type": "code",
   "execution_count": 2,
   "metadata": {},
   "outputs": [
    {
     "data": {
      "application/vnd.jupyter.widget-view+json": {
       "model_id": "f639d8770bb0474aae93fc16c024e96b",
       "version_major": 2,
       "version_minor": 0
      },
      "text/plain": [
       "Output()"
      ]
     },
     "metadata": {},
     "output_type": "display_data"
    }
   ],
   "source": [
    "cube_mesh = Cube(origin=[1,1,1], size=0.1).mesh\n",
    "cube_mesh.color = 0xff0000\n",
    "cube_mesh"
   ]
  },
  {
   "cell_type": "code",
   "execution_count": 3,
   "metadata": {},
   "outputs": [
    {
     "data": {
      "application/vnd.jupyter.widget-view+json": {
       "model_id": "676930cac21f481e9ce88ffc5452c3a2",
       "version_major": 2,
       "version_minor": 0
      },
      "text/plain": [
       "Output()"
      ]
     },
     "metadata": {},
     "output_type": "display_data"
    }
   ],
   "source": [
    "tetrahedron_mesh = Tetrahedron().mesh\n",
    "tetrahedron_mesh.wireframe = True\n",
    "Octahedron().mesh + tetrahedron_mesh"
   ]
  },
  {
   "cell_type": "code",
   "execution_count": 4,
   "metadata": {},
   "outputs": [
    {
     "data": {
      "application/vnd.jupyter.widget-view+json": {
       "model_id": "7d26502c590646f287dd0a1cd9b8d23b",
       "version_major": 2,
       "version_minor": 0
      },
      "text/plain": [
       "Output()"
      ]
     },
     "metadata": {},
     "output_type": "display_data"
    }
   ],
   "source": [
    "Icosahedron().mesh + Dodecahedron().mesh"
   ]
  }
 ],
 "metadata": {
  "kernelspec": {
   "display_name": "Python 3",
   "language": "python",
   "name": "python3"
  },
  "language_info": {
   "codemirror_mode": {
    "name": "ipython",
    "version": 3
   },
   "file_extension": ".py",
   "mimetype": "text/x-python",
   "name": "python",
   "nbconvert_exporter": "python",
   "pygments_lexer": "ipython3",
   "version": "3.7.4"
  },
  "widgets": {
   "application/vnd.jupyter.widget-state+json": {
    "state": {
     "0f1b542dd77842d3ade8aa703ce6e8ab": {
      "model_module": "@jupyter-widgets/base",
      "model_module_version": "1.2.0",
      "model_name": "LayoutModel",
      "state": {}
     },
     "120a99c14cff4c3eadd58d55e16ea74b": {
      "model_module": "k3d",
      "model_module_version": "2.7.2",
      "model_name": "PlotModel",
      "state": {
       "_backend_version": "2.6.7",
       "_dom_classes": [],
       "_view_count": null,
       "antialias": 3,
       "axes": [
        "x",
        "y",
        "z"
       ],
       "background_color": 16777215,
       "camera": [
        1.2877883343400551,
        0.5683174984899172,
        1.0287788334340058,
        1,
        1,
        1,
        0,
        0,
        1
       ],
       "camera_auto_fit": true,
       "camera_no_pan": false,
       "camera_no_rotate": false,
       "camera_no_zoom": false,
       "clipping_planes": [],
       "colorbar_object_id": -1,
       "fps_meter": false,
       "grid": [
        -1,
        -1,
        -1,
        1,
        1,
        1
       ],
       "grid_auto_fit": true,
       "grid_visible": true,
       "height": 512,
       "layout": "IPY_MODEL_0f1b542dd77842d3ade8aa703ce6e8ab",
       "lighting": 1,
       "menu_visibility": true,
       "object_ids": [
        2024347774704
       ],
       "rendering_steps": 1,
       "screenshot": "",
       "screenshot_scale": 2,
       "time": 0,
       "voxel_paint_color": 0
      }
     },
     "16403109e068469ab9bd5d0ba1fc8590": {
      "buffers": [
       {
        "data": "eNoDAAAAAAE=",
        "encoding": "base64",
        "path": [
         "attribute",
         "compressed_buffer"
        ]
       },
       {
        "data": "eNoDAAAAAAE=",
        "encoding": "base64",
        "path": [
         "color_map",
         "compressed_buffer"
        ]
       },
       {
        "data": "eNpdjwsOgCAMQ6eIf0Xx/nd1xLekkaTp6xhkMzPrXNW+03jFF9jwU7y4BnJw9DfO5OAHLvD440t4IgfPcPPN1buS6xae4ejpqB/CVd5V2fHAdzhLzviDx5yT5CRzJrlL8ucpOwfHLhs1k9mMu1u49bwjHQPL",
        "encoding": "base64",
        "path": [
         "indices",
         "compressed_buffer"
        ]
       },
       {
        "data": "eNpjYGiwZ8AAxIsBAF7EAv0=",
        "encoding": "base64",
        "path": [
         "model_matrix",
         "compressed_buffer"
        ]
       },
       {
        "data": "eNpjYGjYz4CJ7dFoGNseixg2OSQ+A8Ne6fP2VeZyMPZ+NPZ+JDXIcvboctj0k2I2iA0A0VNBWQ==",
        "encoding": "base64",
        "path": [
         "vertices",
         "compressed_buffer"
        ]
       }
      ],
      "model_module": "k3d",
      "model_module_version": "2.7.2",
      "model_name": "ObjectModel",
      "state": {
       "_view_count": null,
       "_view_module": null,
       "_view_module_version": "",
       "_view_name": null,
       "attribute": {
        "dtype": "float32",
        "shape": [
         0
        ]
       },
       "click_callback": false,
       "color": 255,
       "color_map": {
        "dtype": "float32",
        "shape": [
         0
        ]
       },
       "color_range": [],
       "compression_level": 0,
       "flat_shading": true,
       "hover_callback": false,
       "id": 139703416899216,
       "indices": {
        "dtype": "uint32",
        "shape": [
         108
        ]
       },
       "model_matrix": {
        "dtype": "float32",
        "shape": [
         4,
         4
        ]
       },
       "name": "Mesh #2",
       "opacity": 1,
       "type": "Mesh",
       "vertices": {
        "dtype": "float32",
        "shape": [
         20,
         3
        ]
       },
       "visible": true,
       "wireframe": false
      }
     },
     "235c43f576374729a4291097fb0d66c5": {
      "buffers": [
       {
        "data": "eNoDAAAAAAE=",
        "encoding": "base64",
        "path": [
         "attribute",
         "compressed_buffer"
        ]
       },
       {
        "data": "eNoDAAAAAAE=",
        "encoding": "base64",
        "path": [
         "color_map",
         "compressed_buffer"
        ]
       },
       {
        "data": "eNpdjgEOgDAIA6tTt+H//6vN2qQZCeFooAAA558DK65g6lN8i6k9miH3Te/hw51jY9Y39shNvdk+5oq/Ku5X+JubfMwVv1P/AI14AUs=",
        "encoding": "base64",
        "path": [
         "indices",
         "compressed_buffer"
        ]
       },
       {
        "data": "eNpjYGiwZ8AAxIsBAF7EAv0=",
        "encoding": "base64",
        "path": [
         "model_matrix",
         "compressed_buffer"
        ]
       },
       {
        "data": "eNpjYGiw3yt93p4BDMDs/VD2fiTx/TBxNLUY8uhmYFGL1w4AbxolvQ==",
        "encoding": "base64",
        "path": [
         "vertices",
         "compressed_buffer"
        ]
       }
      ],
      "model_module": "k3d",
      "model_module_version": "2.7.2",
      "model_name": "ObjectModel",
      "state": {
       "_view_count": null,
       "_view_module": null,
       "_view_module_version": "",
       "_view_name": null,
       "attribute": {
        "dtype": "float32",
        "shape": [
         0
        ]
       },
       "color": 255,
       "color_map": {
        "dtype": "float32",
        "shape": [
         0
        ]
       },
       "color_range": [],
       "compression_level": 0,
       "flat_shading": true,
       "id": 2024347774480,
       "indices": {
        "dtype": "uint32",
        "shape": [
         60
        ]
       },
       "model_matrix": {
        "dtype": "float32",
        "shape": [
         4,
         4
        ]
       },
       "name": null,
       "opacity": 1,
       "type": "Mesh",
       "vertices": {
        "dtype": "float32",
        "shape": [
         12,
         3
        ]
       },
       "visible": true,
       "wireframe": false
      }
     },
     "2abfcc56eb544060a428e221b7c7ef28": {
      "model_module": "k3d",
      "model_module_version": "2.7.2",
      "model_name": "PlotModel",
      "state": {
       "_backend_version": "2.7.2",
       "_dom_classes": [],
       "_view_count": null,
       "antialias": 3,
       "auto_rendering": true,
       "axes": [
        "x",
        "y",
        "z"
       ],
       "axes_helper": 1,
       "background_color": 16777215,
       "camera": [
        4.656512002321348,
        -6.9847680034820225,
        0.46565120023213397,
        0,
        0,
        0,
        0,
        0,
        1
       ],
       "camera_auto_fit": true,
       "camera_fov": 60,
       "camera_no_pan": false,
       "camera_no_rotate": false,
       "camera_no_zoom": false,
       "clipping_planes": [],
       "colorbar_object_id": -1,
       "fps": 25,
       "fps_meter": false,
       "grid": [
        -1,
        -1,
        -1,
        1,
        1,
        1
       ],
       "grid_auto_fit": true,
       "grid_visible": true,
       "height": 512,
       "layout": "IPY_MODEL_39c4997cfce045a284ee2d538f3f82df",
       "lighting": 1.5,
       "menu_visibility": true,
       "mode": "view",
       "name": null,
       "object_ids": [
        139703416962640,
        139703416899216
       ],
       "rendering_steps": 1,
       "screenshot": "",
       "screenshot_scale": 2,
       "snapshot": "",
       "time": 0,
       "voxel_paint_color": 0
      }
     },
     "335ef2be1ac44fe580f826cc064f7dee": {
      "model_module": "k3d",
      "model_module_version": "2.7.2",
      "model_name": "PlotModel",
      "state": {
       "_backend_version": "2.6.7",
       "_dom_classes": [],
       "_view_count": null,
       "antialias": 3,
       "axes": [
        "x",
        "y",
        "z"
       ],
       "background_color": 16777215,
       "camera": [
        4.656512002321348,
        -6.9847680034820225,
        0.46565120023213885,
        0,
        0,
        0,
        0,
        0,
        1
       ],
       "camera_auto_fit": true,
       "camera_no_pan": false,
       "camera_no_rotate": false,
       "camera_no_zoom": false,
       "clipping_planes": [],
       "colorbar_object_id": -1,
       "fps_meter": false,
       "grid": [
        -1,
        -1,
        -1,
        1,
        1,
        1
       ],
       "grid_auto_fit": true,
       "grid_visible": true,
       "height": 512,
       "layout": "IPY_MODEL_c65286d473394863bb906363d4b45636",
       "lighting": 1,
       "menu_visibility": true,
       "object_ids": [
        2024347774480,
        2024347834912
       ],
       "rendering_steps": 1,
       "screenshot": "",
       "screenshot_scale": 2,
       "time": 0,
       "voxel_paint_color": 0
      }
     },
     "33fc11acfde445ec9a7c6e3be7a7bc5f": {
      "model_module": "@jupyter-widgets/base",
      "model_module_version": "1.2.0",
      "model_name": "LayoutModel",
      "state": {}
     },
     "38fa8919d3044d92ba6ff732ead3733a": {
      "buffers": [
       {
        "data": "eNoDAAAAAAE=",
        "encoding": "base64",
        "path": [
         "attribute",
         "compressed_buffer"
        ]
       },
       {
        "data": "eNoDAAAAAAE=",
        "encoding": "base64",
        "path": [
         "color_map",
         "compressed_buffer"
        ]
       },
       {
        "data": "eNpdjgEOgDAIA6tTt+H//6vN2qQZCeFooAAA558DK65g6lN8i6k9miH3Te/hw51jY9Y39shNvdk+5oq/Ku5X+JubfMwVv1P/AI14AUs=",
        "encoding": "base64",
        "path": [
         "indices",
         "compressed_buffer"
        ]
       },
       {
        "data": "eNpjYGiwZ8AAxIsBAF7EAv0=",
        "encoding": "base64",
        "path": [
         "model_matrix",
         "compressed_buffer"
        ]
       },
       {
        "data": "eNpjYGiw3yt93p4BDMDs/VD2fiTx/TBxNLUY8uhmYFGL1w4AbxolvQ==",
        "encoding": "base64",
        "path": [
         "vertices",
         "compressed_buffer"
        ]
       }
      ],
      "model_module": "k3d",
      "model_module_version": "2.7.2",
      "model_name": "ObjectModel",
      "state": {
       "_view_count": null,
       "_view_module": null,
       "_view_module_version": "",
       "_view_name": null,
       "attribute": {
        "dtype": "float32",
        "shape": [
         0
        ]
       },
       "click_callback": false,
       "color": 255,
       "color_map": {
        "dtype": "float32",
        "shape": [
         0
        ]
       },
       "color_range": [],
       "compression_level": 0,
       "flat_shading": true,
       "hover_callback": false,
       "id": 139703416962640,
       "indices": {
        "dtype": "uint32",
        "shape": [
         60
        ]
       },
       "model_matrix": {
        "dtype": "float32",
        "shape": [
         4,
         4
        ]
       },
       "name": "Mesh #1",
       "opacity": 1,
       "type": "Mesh",
       "vertices": {
        "dtype": "float32",
        "shape": [
         12,
         3
        ]
       },
       "visible": true,
       "wireframe": false
      }
     },
     "39c4997cfce045a284ee2d538f3f82df": {
      "model_module": "@jupyter-widgets/base",
      "model_module_version": "1.2.0",
      "model_name": "LayoutModel",
      "state": {}
     },
     "411e4440e5bd4e2cbe2862cfd4143446": {
      "buffers": [
       {
        "data": "eNoDAAAAAAE=",
        "encoding": "base64",
        "path": [
         "attribute",
         "compressed_buffer"
        ]
       },
       {
        "data": "eNoDAAAAAAE=",
        "encoding": "base64",
        "path": [
         "color_map",
         "compressed_buffer"
        ]
       },
       {
        "data": "eNpNjAEKACAIA5eW/v/HJW0wQe6UMQBYb8OY+DP3Nh560sVmPpgTy/qaXnT1lXH+FxywAH8=",
        "encoding": "base64",
        "path": [
         "indices",
         "compressed_buffer"
        ]
       },
       {
        "data": "eNpjYGiwZ8AAxIsBAF7EAv0=",
        "encoding": "base64",
        "path": [
         "model_matrix",
         "compressed_buffer"
        ]
       },
       {
        "data": "eNo7e6bH/iwaTktLQ6FhbBjGpg5ZDpkPAGTXLf0=",
        "encoding": "base64",
        "path": [
         "vertices",
         "compressed_buffer"
        ]
       }
      ],
      "model_module": "k3d",
      "model_module_version": "2.7.2",
      "model_name": "ObjectModel",
      "state": {
       "_view_count": null,
       "_view_module": null,
       "_view_module_version": "",
       "_view_name": null,
       "attribute": {
        "dtype": "float32",
        "shape": [
         0
        ]
       },
       "color": 16711680,
       "color_map": {
        "dtype": "float32",
        "shape": [
         0
        ]
       },
       "color_range": [],
       "compression_level": 0,
       "flat_shading": true,
       "id": 2024347774704,
       "indices": {
        "dtype": "uint32",
        "shape": [
         36
        ]
       },
       "model_matrix": {
        "dtype": "float32",
        "shape": [
         4,
         4
        ]
       },
       "name": null,
       "opacity": 1,
       "type": "Mesh",
       "vertices": {
        "dtype": "float32",
        "shape": [
         8,
         3
        ]
       },
       "visible": true,
       "wireframe": false
      }
     },
     "4552bc8c1d99411c8182a17e289cedb6": {
      "model_module": "@jupyter-widgets/base",
      "model_module_version": "1.2.0",
      "model_name": "LayoutModel",
      "state": {}
     },
     "467275c62ad7443eb39afa8055f0c0f0": {
      "model_module": "@jupyter-widgets/output",
      "model_module_version": "1.0.0",
      "model_name": "OutputModel",
      "state": {
       "layout": "IPY_MODEL_68e03b80604248ac8b590251c43dc7bd",
       "outputs": [
        {
         "data": {
          "application/vnd.jupyter.widget-view+json": {
           "model_id": "335ef2be1ac44fe580f826cc064f7dee",
           "version_major": 2,
           "version_minor": 0
          },
          "text/plain": "Plot(antialias=3, axes=['x', 'y', 'z'], background_color=16777215, camera=[4.5, 4.5, 4.5, 0.0, 0.0, 0.0, 1.0, …"
         },
         "metadata": {},
         "output_type": "display_data"
        }
       ]
      }
     },
     "47558176ec88428183fd9efd439bb01d": {
      "buffers": [
       {
        "data": "eNoDAAAAAAE=",
        "encoding": "base64",
        "path": [
         "attribute",
         "compressed_buffer"
        ]
       },
       {
        "data": "eNoDAAAAAAE=",
        "encoding": "base64",
        "path": [
         "color_map",
         "compressed_buffer"
        ]
       },
       {
        "data": "eNpjYGBgYARiJgYIALGZkcSYoeIwNgABrAAT",
        "encoding": "base64",
        "path": [
         "indices",
         "compressed_buffer"
        ]
       },
       {
        "data": "eNpjYGiwZ8AAxIsBAF7EAv0=",
        "encoding": "base64",
        "path": [
         "model_matrix",
         "compressed_buffer"
        ]
       },
       {
        "data": "eNpjYGiwZ0DF+5EwBh8ABysL9Q==",
        "encoding": "base64",
        "path": [
         "vertices",
         "compressed_buffer"
        ]
       }
      ],
      "model_module": "k3d",
      "model_module_version": "2.7.2",
      "model_name": "ObjectModel",
      "state": {
       "_view_count": null,
       "_view_module": null,
       "_view_module_version": "",
       "_view_name": null,
       "attribute": {
        "dtype": "float32",
        "shape": [
         0
        ]
       },
       "color": 255,
       "color_map": {
        "dtype": "float32",
        "shape": [
         0
        ]
       },
       "color_range": [],
       "compression_level": 0,
       "flat_shading": true,
       "id": 2024347832728,
       "indices": {
        "dtype": "uint32",
        "shape": [
         12
        ]
       },
       "model_matrix": {
        "dtype": "float32",
        "shape": [
         4,
         4
        ]
       },
       "name": null,
       "opacity": 1,
       "type": "Mesh",
       "vertices": {
        "dtype": "float32",
        "shape": [
         4,
         3
        ]
       },
       "visible": true,
       "wireframe": true
      }
     },
     "4a89ea84932b43e9b2411a2e49712183": {
      "model_module": "k3d",
      "model_module_version": "2.7.2",
      "model_name": "PlotModel",
      "state": {
       "_backend_version": "2.7.2",
       "_dom_classes": [],
       "_view_count": null,
       "antialias": 3,
       "auto_rendering": true,
       "axes": [
        "x",
        "y",
        "z"
       ],
       "axes_helper": 1,
       "background_color": 16777215,
       "camera": [
        1.2877883343400551,
        0.5683174984899172,
        1.0287788334340056,
        1,
        1,
        1,
        0,
        0,
        1
       ],
       "camera_auto_fit": true,
       "camera_fov": 60,
       "camera_no_pan": false,
       "camera_no_rotate": false,
       "camera_no_zoom": false,
       "clipping_planes": [],
       "colorbar_object_id": -1,
       "fps": 25,
       "fps_meter": false,
       "grid": [
        -1,
        -1,
        -1,
        1,
        1,
        1
       ],
       "grid_auto_fit": true,
       "grid_visible": true,
       "height": 512,
       "layout": "IPY_MODEL_33fc11acfde445ec9a7c6e3be7a7bc5f",
       "lighting": 1.5,
       "menu_visibility": true,
       "mode": "view",
       "name": null,
       "object_ids": [
        139703416789264
       ],
       "rendering_steps": 1,
       "screenshot": "",
       "screenshot_scale": 2,
       "snapshot": "",
       "time": 0,
       "voxel_paint_color": 0
      }
     },
     "567d772c91404d4488b29eef996a66a0": {
      "buffers": [
       {
        "data": "eNoDAAAAAAE=",
        "encoding": "base64",
        "path": [
         "attribute",
         "compressed_buffer"
        ]
       },
       {
        "data": "eNoDAAAAAAE=",
        "encoding": "base64",
        "path": [
         "color_map",
         "compressed_buffer"
        ]
       },
       {
        "data": "eNpNjAEKACAIA5eW/v/HJW0wQe6UMQBYb8OY+DP3Nh560sVmPpgTy/qaXnT1lXH+FxywAH8=",
        "encoding": "base64",
        "path": [
         "indices",
         "compressed_buffer"
        ]
       },
       {
        "data": "eNpjYGiwZ8AAxIsBAF7EAv0=",
        "encoding": "base64",
        "path": [
         "model_matrix",
         "compressed_buffer"
        ]
       },
       {
        "data": "eNo7e6bH/iwaTktLQ6FhbBjGpg5ZDpkPAGTXLf0=",
        "encoding": "base64",
        "path": [
         "vertices",
         "compressed_buffer"
        ]
       }
      ],
      "model_module": "k3d",
      "model_module_version": "2.7.2",
      "model_name": "ObjectModel",
      "state": {
       "_view_count": null,
       "_view_module": null,
       "_view_module_version": "",
       "_view_name": null,
       "attribute": {
        "dtype": "float32",
        "shape": [
         0
        ]
       },
       "click_callback": false,
       "color": 16711680,
       "color_map": {
        "dtype": "float32",
        "shape": [
         0
        ]
       },
       "color_range": [],
       "compression_level": 0,
       "flat_shading": true,
       "hover_callback": false,
       "id": 139703416789264,
       "indices": {
        "dtype": "uint32",
        "shape": [
         36
        ]
       },
       "model_matrix": {
        "dtype": "float32",
        "shape": [
         4,
         4
        ]
       },
       "name": "Mesh #1",
       "opacity": 1,
       "type": "Mesh",
       "vertices": {
        "dtype": "float32",
        "shape": [
         8,
         3
        ]
       },
       "visible": true,
       "wireframe": false
      }
     },
     "5c3e7947440c45c499315b27c4a303b4": {
      "model_module": "k3d",
      "model_module_version": "2.7.2",
      "model_name": "PlotModel",
      "state": {
       "_backend_version": "2.6.7",
       "_dom_classes": [],
       "_view_count": null,
       "antialias": 3,
       "axes": [
        "x",
        "y",
        "z"
       ],
       "background_color": 16777215,
       "camera": [
        2.8778826572598577,
        -4.316823985889787,
        0.28778826572598526,
        0,
        0,
        0,
        0,
        0,
        1
       ],
       "camera_auto_fit": true,
       "camera_no_pan": false,
       "camera_no_rotate": false,
       "camera_no_zoom": false,
       "clipping_planes": [],
       "colorbar_object_id": -1,
       "fps_meter": false,
       "grid": [
        -1,
        -1,
        -1,
        1,
        1,
        1
       ],
       "grid_auto_fit": true,
       "grid_visible": true,
       "height": 512,
       "layout": "IPY_MODEL_73f8d8e0848f499b8c466dc371b0d884",
       "lighting": 1,
       "menu_visibility": true,
       "object_ids": [
        2024347833848,
        2024347832728
       ],
       "rendering_steps": 1,
       "screenshot": "",
       "screenshot_scale": 2,
       "time": 0,
       "voxel_paint_color": 0
      }
     },
     "676930cac21f481e9ce88ffc5452c3a2": {
      "model_module": "@jupyter-widgets/output",
      "model_module_version": "1.0.0",
      "model_name": "OutputModel",
      "state": {
       "layout": "IPY_MODEL_f968dd6720074edfbc05b25fbe959699",
       "outputs": [
        {
         "data": {
          "application/vnd.jupyter.widget-view+json": {
           "model_id": "aeb2aa84152245a1847904999c5b8b8a",
           "version_major": 2,
           "version_minor": 0
          },
          "text/plain": "Plot(antialias=3, axes=['x', 'y', 'z'], axes_helper=1.0, background_color=16777215, camera=[4.5, 4.5, 4.5, 0.0…"
         },
         "metadata": {},
         "output_type": "display_data"
        }
       ]
      }
     },
     "68e03b80604248ac8b590251c43dc7bd": {
      "model_module": "@jupyter-widgets/base",
      "model_module_version": "1.2.0",
      "model_name": "LayoutModel",
      "state": {}
     },
     "6d7e3adc48a24345ac9d45c6844c5921": {
      "buffers": [
       {
        "data": "eNoDAAAAAAE=",
        "encoding": "base64",
        "path": [
         "attribute",
         "compressed_buffer"
        ]
       },
       {
        "data": "eNoDAAAAAAE=",
        "encoding": "base64",
        "path": [
         "color_map",
         "compressed_buffer"
        ]
       },
       {
        "data": "eNpjYGBgYARiJgYIALFZkcSYoWxmqDgIsCCxmaB8mFoWJBqkBgAJ3AA9",
        "encoding": "base64",
        "path": [
         "indices",
         "compressed_buffer"
        ]
       },
       {
        "data": "eNpjYGiwZ8AAxIsBAF7EAv0=",
        "encoding": "base64",
        "path": [
         "model_matrix",
         "compressed_buffer"
        ]
       },
       {
        "data": "eNpjYGiwZ0AB2PgN+9HEMPgAuXYF+w==",
        "encoding": "base64",
        "path": [
         "vertices",
         "compressed_buffer"
        ]
       }
      ],
      "model_module": "k3d",
      "model_module_version": "2.7.2",
      "model_name": "ObjectModel",
      "state": {
       "_view_count": null,
       "_view_module": null,
       "_view_module_version": "",
       "_view_name": null,
       "attribute": {
        "dtype": "float32",
        "shape": [
         0
        ]
       },
       "click_callback": false,
       "color": 255,
       "color_map": {
        "dtype": "float32",
        "shape": [
         0
        ]
       },
       "color_range": [],
       "compression_level": 0,
       "flat_shading": true,
       "hover_callback": false,
       "id": 139703416897808,
       "indices": {
        "dtype": "uint32",
        "shape": [
         24
        ]
       },
       "model_matrix": {
        "dtype": "float32",
        "shape": [
         4,
         4
        ]
       },
       "name": "Mesh #1",
       "opacity": 1,
       "type": "Mesh",
       "vertices": {
        "dtype": "float32",
        "shape": [
         6,
         3
        ]
       },
       "visible": true,
       "wireframe": false
      }
     },
     "6f841130d3e942b2afb0708a724ce02b": {
      "model_module": "@jupyter-widgets/output",
      "model_module_version": "1.0.0",
      "model_name": "OutputModel",
      "state": {
       "layout": "IPY_MODEL_a4cf8a255beb46e4b1d0b74b0cde7e1e",
       "outputs": [
        {
         "data": {
          "application/vnd.jupyter.widget-view+json": {
           "model_id": "120a99c14cff4c3eadd58d55e16ea74b",
           "version_major": 2,
           "version_minor": 0
          },
          "text/plain": "Plot(antialias=3, axes=['x', 'y', 'z'], background_color=16777215, camera=[4.5, 4.5, 4.5, 0.0, 0.0, 0.0, 1.0, …"
         },
         "metadata": {},
         "output_type": "display_data"
        }
       ]
      }
     },
     "73f8d8e0848f499b8c466dc371b0d884": {
      "model_module": "@jupyter-widgets/base",
      "model_module_version": "1.2.0",
      "model_name": "LayoutModel",
      "state": {}
     },
     "7d26502c590646f287dd0a1cd9b8d23b": {
      "model_module": "@jupyter-widgets/output",
      "model_module_version": "1.0.0",
      "model_name": "OutputModel",
      "state": {
       "layout": "IPY_MODEL_9a2a1822b2b646f6917903b8c7334d7c",
       "outputs": [
        {
         "data": {
          "application/vnd.jupyter.widget-view+json": {
           "model_id": "2abfcc56eb544060a428e221b7c7ef28",
           "version_major": 2,
           "version_minor": 0
          },
          "text/plain": "Plot(antialias=3, axes=['x', 'y', 'z'], axes_helper=1.0, background_color=16777215, camera=[4.5, 4.5, 4.5, 0.0…"
         },
         "metadata": {},
         "output_type": "display_data"
        }
       ]
      }
     },
     "8bce4f192c9b4f998a1ff368bc28b09d": {
      "model_module": "@jupyter-widgets/output",
      "model_module_version": "1.0.0",
      "model_name": "OutputModel",
      "state": {
       "layout": "IPY_MODEL_4552bc8c1d99411c8182a17e289cedb6",
       "outputs": [
        {
         "data": {
          "application/vnd.jupyter.widget-view+json": {
           "model_id": "5c3e7947440c45c499315b27c4a303b4",
           "version_major": 2,
           "version_minor": 0
          },
          "text/plain": "Plot(antialias=3, axes=['x', 'y', 'z'], background_color=16777215, camera=[4.5, 4.5, 4.5, 0.0, 0.0, 0.0, 1.0, …"
         },
         "metadata": {},
         "output_type": "display_data"
        }
       ]
      }
     },
     "9a2a1822b2b646f6917903b8c7334d7c": {
      "model_module": "@jupyter-widgets/base",
      "model_module_version": "1.2.0",
      "model_name": "LayoutModel",
      "state": {}
     },
     "a4cf8a255beb46e4b1d0b74b0cde7e1e": {
      "model_module": "@jupyter-widgets/base",
      "model_module_version": "1.2.0",
      "model_name": "LayoutModel",
      "state": {}
     },
     "ae8f9b15dc054d1a9e98bf5d2a5136f5": {
      "buffers": [
       {
        "data": "eNoDAAAAAAE=",
        "encoding": "base64",
        "path": [
         "attribute",
         "compressed_buffer"
        ]
       },
       {
        "data": "eNoDAAAAAAE=",
        "encoding": "base64",
        "path": [
         "color_map",
         "compressed_buffer"
        ]
       },
       {
        "data": "eNpjYGBgYARiJgYIALGZkcSYoeIwNgABrAAT",
        "encoding": "base64",
        "path": [
         "indices",
         "compressed_buffer"
        ]
       },
       {
        "data": "eNpjYGiwZ8AAxIsBAF7EAv0=",
        "encoding": "base64",
        "path": [
         "model_matrix",
         "compressed_buffer"
        ]
       },
       {
        "data": "eNpjYGiwZ0DF+5EwBh8ABysL9Q==",
        "encoding": "base64",
        "path": [
         "vertices",
         "compressed_buffer"
        ]
       }
      ],
      "model_module": "k3d",
      "model_module_version": "2.7.2",
      "model_name": "ObjectModel",
      "state": {
       "_view_count": null,
       "_view_module": null,
       "_view_module_version": "",
       "_view_name": null,
       "attribute": {
        "dtype": "float32",
        "shape": [
         0
        ]
       },
       "click_callback": false,
       "color": 255,
       "color_map": {
        "dtype": "float32",
        "shape": [
         0
        ]
       },
       "color_range": [],
       "compression_level": 0,
       "flat_shading": true,
       "hover_callback": false,
       "id": 139703416872912,
       "indices": {
        "dtype": "uint32",
        "shape": [
         12
        ]
       },
       "model_matrix": {
        "dtype": "float32",
        "shape": [
         4,
         4
        ]
       },
       "name": "Mesh #2",
       "opacity": 1,
       "type": "Mesh",
       "vertices": {
        "dtype": "float32",
        "shape": [
         4,
         3
        ]
       },
       "visible": true,
       "wireframe": true
      }
     },
     "aeb2aa84152245a1847904999c5b8b8a": {
      "model_module": "k3d",
      "model_module_version": "2.7.2",
      "model_name": "PlotModel",
      "state": {
       "_backend_version": "2.7.2",
       "_dom_classes": [],
       "_view_count": null,
       "antialias": 3,
       "auto_rendering": true,
       "axes": [
        "x",
        "y",
        "z"
       ],
       "axes_helper": 1,
       "background_color": 16777215,
       "camera": [
        2.8778826572598577,
        -4.316823985889787,
        0.28778826572598526,
        0,
        0,
        0,
        0,
        0,
        1
       ],
       "camera_auto_fit": true,
       "camera_fov": 60,
       "camera_no_pan": false,
       "camera_no_rotate": false,
       "camera_no_zoom": false,
       "clipping_planes": [],
       "colorbar_object_id": -1,
       "fps": 25,
       "fps_meter": false,
       "grid": [
        -1,
        -1,
        -1,
        1,
        1,
        1
       ],
       "grid_auto_fit": true,
       "grid_visible": true,
       "height": 512,
       "layout": "IPY_MODEL_f42ba56e45344d6eaded34de1a5b32db",
       "lighting": 1.5,
       "menu_visibility": true,
       "mode": "view",
       "name": null,
       "object_ids": [
        139703416897808,
        139703416872912
       ],
       "rendering_steps": 1,
       "screenshot": "",
       "screenshot_scale": 2,
       "snapshot": "",
       "time": 0,
       "voxel_paint_color": 0
      }
     },
     "be95663f8c3546ea87515a215092b6ef": {
      "model_module": "@jupyter-widgets/base",
      "model_module_version": "1.2.0",
      "model_name": "LayoutModel",
      "state": {}
     },
     "c65286d473394863bb906363d4b45636": {
      "model_module": "@jupyter-widgets/base",
      "model_module_version": "1.2.0",
      "model_name": "LayoutModel",
      "state": {}
     },
     "c8263b5efce44d00aed6904915dc2a48": {
      "buffers": [
       {
        "data": "eNoDAAAAAAE=",
        "encoding": "base64",
        "path": [
         "attribute",
         "compressed_buffer"
        ]
       },
       {
        "data": "eNoDAAAAAAE=",
        "encoding": "base64",
        "path": [
         "color_map",
         "compressed_buffer"
        ]
       },
       {
        "data": "eNpjYGBgYARiJgYIALFZkcSYoWxmqDgIsCCxmaB8mFoWJBqkBgAJ3AA9",
        "encoding": "base64",
        "path": [
         "indices",
         "compressed_buffer"
        ]
       },
       {
        "data": "eNpjYGiwZ8AAxIsBAF7EAv0=",
        "encoding": "base64",
        "path": [
         "model_matrix",
         "compressed_buffer"
        ]
       },
       {
        "data": "eNpjYGiwZ0AB2PgN+9HEMPgAuXYF+w==",
        "encoding": "base64",
        "path": [
         "vertices",
         "compressed_buffer"
        ]
       }
      ],
      "model_module": "k3d",
      "model_module_version": "2.7.2",
      "model_name": "ObjectModel",
      "state": {
       "_view_count": null,
       "_view_module": null,
       "_view_module_version": "",
       "_view_name": null,
       "attribute": {
        "dtype": "float32",
        "shape": [
         0
        ]
       },
       "color": 255,
       "color_map": {
        "dtype": "float32",
        "shape": [
         0
        ]
       },
       "color_range": [],
       "compression_level": 0,
       "flat_shading": true,
       "id": 2024347833848,
       "indices": {
        "dtype": "uint32",
        "shape": [
         24
        ]
       },
       "model_matrix": {
        "dtype": "float32",
        "shape": [
         4,
         4
        ]
       },
       "name": null,
       "opacity": 1,
       "type": "Mesh",
       "vertices": {
        "dtype": "float32",
        "shape": [
         6,
         3
        ]
       },
       "visible": true,
       "wireframe": false
      }
     },
     "d3b428a63261425185a0e1eb2a2da7e3": {
      "buffers": [
       {
        "data": "eNoDAAAAAAE=",
        "encoding": "base64",
        "path": [
         "attribute",
         "compressed_buffer"
        ]
       },
       {
        "data": "eNoDAAAAAAE=",
        "encoding": "base64",
        "path": [
         "color_map",
         "compressed_buffer"
        ]
       },
       {
        "data": "eNpdjwsOgCAMQ6eIf0Xx/nd1xLekkaTp6xhkMzPrXNW+03jFF9jwU7y4BnJw9DfO5OAHLvD440t4IgfPcPPN1buS6xae4ejpqB/CVd5V2fHAdzhLzviDx5yT5CRzJrlL8ucpOwfHLhs1k9mMu1u49bwjHQPL",
        "encoding": "base64",
        "path": [
         "indices",
         "compressed_buffer"
        ]
       },
       {
        "data": "eNpjYGiwZ8AAxIsBAF7EAv0=",
        "encoding": "base64",
        "path": [
         "model_matrix",
         "compressed_buffer"
        ]
       },
       {
        "data": "eNpjYGjYz4CJ7dFoGNseixg2OSQ+A8Ne6fP2VeZyMPZ+NPZ+JDXIcvboctj0k2I2iA0A0VNBWQ==",
        "encoding": "base64",
        "path": [
         "vertices",
         "compressed_buffer"
        ]
       }
      ],
      "model_module": "k3d",
      "model_module_version": "2.7.2",
      "model_name": "ObjectModel",
      "state": {
       "_view_count": null,
       "_view_module": null,
       "_view_module_version": "",
       "_view_name": null,
       "attribute": {
        "dtype": "float32",
        "shape": [
         0
        ]
       },
       "color": 255,
       "color_map": {
        "dtype": "float32",
        "shape": [
         0
        ]
       },
       "color_range": [],
       "compression_level": 0,
       "flat_shading": true,
       "id": 2024347834912,
       "indices": {
        "dtype": "uint32",
        "shape": [
         108
        ]
       },
       "model_matrix": {
        "dtype": "float32",
        "shape": [
         4,
         4
        ]
       },
       "name": null,
       "opacity": 1,
       "type": "Mesh",
       "vertices": {
        "dtype": "float32",
        "shape": [
         20,
         3
        ]
       },
       "visible": true,
       "wireframe": false
      }
     },
     "f42ba56e45344d6eaded34de1a5b32db": {
      "model_module": "@jupyter-widgets/base",
      "model_module_version": "1.2.0",
      "model_name": "LayoutModel",
      "state": {}
     },
     "f639d8770bb0474aae93fc16c024e96b": {
      "model_module": "@jupyter-widgets/output",
      "model_module_version": "1.0.0",
      "model_name": "OutputModel",
      "state": {
       "layout": "IPY_MODEL_be95663f8c3546ea87515a215092b6ef",
       "outputs": [
        {
         "data": {
          "application/vnd.jupyter.widget-view+json": {
           "model_id": "4a89ea84932b43e9b2411a2e49712183",
           "version_major": 2,
           "version_minor": 0
          },
          "text/plain": "Plot(antialias=3, axes=['x', 'y', 'z'], axes_helper=1.0, background_color=16777215, camera=[4.5, 4.5, 4.5, 0.0…"
         },
         "metadata": {},
         "output_type": "display_data"
        }
       ]
      }
     },
     "f968dd6720074edfbc05b25fbe959699": {
      "model_module": "@jupyter-widgets/base",
      "model_module_version": "1.2.0",
      "model_name": "LayoutModel",
      "state": {}
     }
    },
    "version_major": 2,
    "version_minor": 0
   }
  }
 },
 "nbformat": 4,
 "nbformat_minor": 2
}
