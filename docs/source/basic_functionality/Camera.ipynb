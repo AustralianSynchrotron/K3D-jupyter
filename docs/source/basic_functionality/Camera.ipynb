{
 "cells": [
  {
   "cell_type": "markdown",
   "metadata": {},
   "source": [
    "## Camera manipulation\n",
    "\n",
    "Camera is 9-th vector:\n",
    "\n",
    "\n",
    "    [\n",
    "     x1,y1,z1, # position of the camera in xyz space\n",
    "     x2,y2,z2, # look at point\n",
    "     x3,y3,z3  # orientation (up direction), this vector cannot be [0,0,0])\n",
    "    ]\n",
    "    \n",
    "    \n",
    "\n"
   ]
  },
  {
   "cell_type": "code",
   "execution_count": 1,
   "metadata": {},
   "outputs": [],
   "source": [
    "import k3d\n",
    "import numpy as np\n",
    "from numpy import sin,cos,pi\n",
    "from ipywidgets import interact, IntSlider"
   ]
  },
  {
   "cell_type": "code",
   "execution_count": 2,
   "metadata": {},
   "outputs": [],
   "source": [
    "plot = k3d.plot()\n",
    "\n",
    "plt_arrow = k3d.vectors([0,0,0],[1,1,1])\n",
    "plot += plt_arrow\n",
    "\n",
    "N = 100\n",
    "cam_traj = [np.array([-sin(phi), -cos(phi), phi*0.15],dtype=np.float32) for phi in np.linspace(0,2*pi,N)]\n",
    "object_traj = [np.array([sin(phi),-1+cos(phi)+sin(2*phi),0.03*phi],dtype=np.float32) for phi in np.linspace(0,2*pi,N)]\n",
    "\n",
    "plt_cam_traj = k3d.line(cam_traj ,shader='simple')\n",
    "plt_object_traj = k3d.line(object_traj, color=0xff0000,shader='mesh')\n",
    "\n",
    "plt_cam_pos = k3d.points([[0, -1, 0]],point_size=0.1,shader='mesh')\n",
    "plt_object_pos = k3d.points([[0, -1, 0]],color=0xff0000,point_size=0.1,shader='mesh')\n",
    "\n",
    "plot += plt_cam_traj\n",
    "plot += plt_object_traj\n",
    "plot += plt_object_pos\n",
    "plot += plt_cam_pos"
   ]
  },
  {
   "cell_type": "code",
   "execution_count": 3,
   "metadata": {},
   "outputs": [
    {
     "data": {
      "application/vnd.jupyter.widget-view+json": {
       "model_id": "4a4d2026a66a4df99e9796d7309d1503",
       "version_major": 2,
       "version_minor": 0
      },
      "text/plain": [
       "Plot(antialias=3, axes=['x', 'y', 'z'], axes_helper=1.0, background_color=16777215, camera=[2, -3, 0.2, 0.0, 0…"
      ]
     },
     "metadata": {},
     "output_type": "display_data"
    }
   ],
   "source": [
    "plot"
   ]
  },
  {
   "cell_type": "code",
   "execution_count": 4,
   "metadata": {},
   "outputs": [],
   "source": [
    "plot.camera_auto_fit = False"
   ]
  },
  {
   "cell_type": "code",
   "execution_count": 5,
   "metadata": {},
   "outputs": [
    {
     "data": {
      "application/vnd.jupyter.widget-view+json": {
       "model_id": "793f4ae51bf44d07a26de57b6da42118",
       "version_major": 2,
       "version_minor": 0
      },
      "text/plain": [
       "interactive(children=(IntSlider(value=80, description='ith', max=99), Output()), _dom_classes=('widget-interac…"
      ]
     },
     "metadata": {},
     "output_type": "display_data"
    }
   ],
   "source": [
    "@interact(ith=IntSlider(value=80,min=0,max=N-1))\n",
    "def g(ith):\n",
    "    cam_pos = cam_traj[ith]\n",
    "    object_pos = object_traj[ith]\n",
    "    plot.camera = cam_pos.tolist()+\\\n",
    "                  object_pos.tolist()+\\\n",
    "                  [0,0,1] \n",
    "    \n",
    "    cam_dir = np.array(object_pos,dtype=np.float32) - cam_pos\n",
    "   \n",
    "    plt_cam_pos.positions = [cam_pos]\n",
    "    plt_object_pos.positions = [object_pos]\n",
    "\n",
    "    plt_arrow.origins = cam_pos\n",
    "    plt_arrow.vectors = cam_dir"
   ]
  },
  {
   "cell_type": "code",
   "execution_count": 6,
   "metadata": {},
   "outputs": [],
   "source": [
    "plot.camera_reset()"
   ]
  },
  {
   "cell_type": "code",
   "execution_count": null,
   "metadata": {},
   "outputs": [],
   "source": []
  }
 ],
 "metadata": {
  "kernelspec": {
   "display_name": "Python 3",
   "language": "python",
   "name": "python3"
  },
  "language_info": {
   "codemirror_mode": {
    "name": "ipython",
    "version": 3
   },
   "file_extension": ".py",
   "mimetype": "text/x-python",
   "name": "python",
   "nbconvert_exporter": "python",
   "pygments_lexer": "ipython3",
   "version": "3.7.8"
  },
  "widgets": {
   "application/vnd.jupyter.widget-state+json": {
    "state": {
     "33a0eb53f3e944608f33cbad4db79c8c": {
      "model_module": "@jupyter-widgets/base",
      "model_module_version": "1.2.0",
      "model_name": "LayoutModel",
      "state": {}
     },
     "4a4d2026a66a4df99e9796d7309d1503": {
      "model_module": "k3d",
      "model_module_version": "2.9.0",
      "model_name": "PlotModel",
      "state": {
       "_backend_version": "2.9.0",
       "_dom_classes": [],
       "_view_count": null,
       "antialias": 3,
       "auto_rendering": true,
       "axes": [
        "x",
        "y",
        "z"
       ],
       "axes_helper": 1,
       "background_color": 16777215,
       "camera": [
        0.7570709205875321,
        1.0346040484826697,
        0.7460650547624819,
        -1.1444091796875e-05,
        -0.8841459453105927,
        0.46623937506228685,
        -0.010681078824634444,
        0.1629840969925708,
        0.98657087869177
       ],
       "camera_animation": [],
       "camera_auto_fit": false,
       "camera_fov": 60,
       "camera_mode": "trackball",
       "camera_no_pan": false,
       "camera_no_rotate": false,
       "camera_no_zoom": false,
       "clipping_planes": [],
       "colorbar_object_id": -1,
       "colorbar_scientific": false,
       "fps": 25,
       "fps_meter": false,
       "grid": [
        -1,
        -1,
        -1,
        1,
        1,
        1
       ],
       "grid_auto_fit": true,
       "grid_visible": true,
       "height": 512,
       "layout": "IPY_MODEL_d21f897ff8c9471f8fd9d7f89e342a96",
       "lighting": 1.5,
       "manipulate_mode": "translate",
       "menu_visibility": true,
       "mode": "view",
       "name": null,
       "object_ids": [
        4950601424,
        4950675984,
        4950634384,
        4552277840,
        4950533776
       ],
       "rendering_steps": 1,
       "screenshot": "",
       "screenshot_scale": 2,
       "snapshot": "",
       "snapshot_include_js": true,
       "time": 0,
       "voxel_paint_color": 0
      }
     },
     "5ae0911973e349cf88fac7349fb655df": {
      "buffers": [
       {
        "data": "",
        "encoding": "base64",
        "path": [
         "colors",
         "data"
        ]
       },
       {
        "data": "AACAPwAAAAAAAAAAAAAAAAAAAAAAAIA/AAAAAAAAAAAAAAAAAAAAAAAAgD8AAAAAAAAAAAAAAAAAAAAAAACAPw==",
        "encoding": "base64",
        "path": [
         "model_matrix",
         "data"
        ]
       },
       {
        "data": "UCRvP8q5tr4a+EI/",
        "encoding": "base64",
        "path": [
         "origins",
         "data"
        ]
       },
       {
        "data": "UCTvv5X3c7+u+Ru/",
        "encoding": "base64",
        "path": [
         "vectors",
         "data"
        ]
       }
      ],
      "model_module": "k3d",
      "model_module_version": "2.9.0",
      "model_name": "ObjectModel",
      "state": {
       "_view_count": null,
       "_view_module": null,
       "_view_module_version": "",
       "_view_name": null,
       "colorLegend": false,
       "colors": {
        "dtype": "uint32",
        "shape": [
         0
        ]
       },
       "compression_level": 0,
       "head_color": 255,
       "head_size": 1,
       "id": 4950601424,
       "label_size": 1,
       "labels": [],
       "line_width": 0.01,
       "model_matrix": {
        "dtype": "float32",
        "shape": [
         4,
         4
        ]
       },
       "name": "Vectors #1",
       "origin_color": 255,
       "origins": {
        "dtype": "float32",
        "shape": [
         3
        ]
       },
       "type": "Vectors",
       "use_head": true,
       "vectors": {
        "dtype": "float32",
        "shape": [
         3
        ]
       },
       "visible": true
      }
     },
     "6019e275bd2e48beaa70e79a7fd30439": {
      "model_module": "@jupyter-widgets/controls",
      "model_module_version": "1.5.0",
      "model_name": "IntSliderModel",
      "state": {
       "description": "ith",
       "layout": "IPY_MODEL_9a1629f9ea584b21b018be06d70f5a1c",
       "max": 99,
       "style": "IPY_MODEL_993f757e0c8246978d60f22621e75312",
       "value": 80
      }
     },
     "6af377fe89c34de295d5d4e02e11cd9e": {
      "buffers": [
       {
        "data": "",
        "encoding": "base64",
        "path": [
         "attribute",
         "data"
        ]
       },
       {
        "data": "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",
        "encoding": "base64",
        "path": [
         "color_map",
         "data"
        ]
       },
       {
        "data": "",
        "encoding": "base64",
        "path": [
         "colors",
         "data"
        ]
       },
       {
        "data": "AACAPwAAAAAAAAAAAAAAAAAAAAAAAIA/AAAAAAAAAAAAAAAAAAAAAAAAgD8AAAAAAAAAAAAAAAAAAAAAAACAPw==",
        "encoding": "base64",
        "path": [
         "model_matrix",
         "data"
        ]
       },
       {
        "data": "AAAAAAAAAAAAAAAAZuSBPVgj/z19j/k6dKEBPvHveD59j3k7FMtBPuYJtT6eK7s7eJaAPsCF6D59j/k72cKfPq0ACz+u+Rs8i0q+PopSHj+eKzs8FA7cPrrXLT+OXVo8x+74PjM8OT99j3k8cGcKPwk6QD+2YIw80MgXP6qaQj+u+Zs8u40kP9k3QD+mkqs8BakwP2f8OD+eK7s8NA48P6vkLD+WxMo8ibFGP7L+Gz+OXdo8DYhQPy9qBj+F9uk8m4dZPzGw2D59j/k87aZhPxwUnD47lAQ9pN1oP8VFLz62YAw9UCRvP5nIwTwyLRQ9eXR0P8RIC76u+Rs9pch4P/CtnL4qxiM9XBx8P1L6976mkis9M2x+P9Y5K78iXzM9xbV/PxR8W7+eKzs9wPd/P48Xhr8a+EI94DF/P0Fenr+WxEo98GR9Py9Htr8SkVI9zJJ6P8yIzb+OXVo9XL52P//b478JKmI9k+txPzL9+L+F9mk9aR9sP6lWBsABw3E92V9lP1lZD8B9j3k917NdP/ZsF8D9rYA9TCNVP0d7HsA7lIQ9DLdLP+ZxJMB4eog9znhBP3lCKcC2YIw9IHM2P+fiLMD0RpA9YLEqP3ZNL8AyLZQ9qz8eP9uAMMBwE5g91ioRPzKAMMCu+Zs9XYADP+9SL8Ds3589q5zqPrEELcAqxqM9xEbNPhKlKcBorKc9RB2vPltHJcCmkqs9QD+QPjECIMDkeK89FplhPjTvGcAiX7M9HsshPo4qE8BgRbc9vqzCPYHSC8CeK7s9JvUBPeQGBMDcEb89JvUBvTrR978a+MI9vqzCvT0y579Y3sY9HsshvrBz1r+WxMo9Fplhvl3Xxb/Uqs49QD+QvvOctb8SkdI9RB2vvvwApr9Qd9Y9xEbNvvE7l7+OXdo9q5zqvlaBib/MQ949XYADv+D9eb8JKuI91ioRvye4Y79HEOY9qz8evyJyUL+F9uk9YLEqv3RdQL/D3O09IHM2vxucM78Bw/E9znhBvwRAKr8/qfU9DLdLv+BKJL99j/k9TCNVv0uuIb+7df0917NdvylMIr/9rQA+2V9lv033Jb8coQI+aR9sv2R0LL87lAQ+k+txvw97Nb9ahwY+XL52v0S3QL94egg+zJJ6v9TKTb+XbQo+8GR9vx9PXL+2YAw+4DF/v/LWa7/VUw4+wPd/v3jwe7/0RhA+xbV/v6IThr8TOhI+M2x+vzADjr8yLRQ+XBx8vzaNlb9RIBY+pch4v9F5nL9wExg+eXR0v+6Tor+PBho+UCRvvz2qp7+u+Rs+pN1ovxWQq7/N7B0+7aZhv0Uerr/s3x8+m4dZv80zr78L0yE+DYhQv3u2rr8qxiM+ibFGv3OTrL9JuSU+NA48v4q/qL9orCc+Bakwv5E3o7+Hnyk+u40kv3AAnL+mkis+0MgXvyQnk7/FhS0+cGcKv6DAiL/keC8+x+74vgPTeb8DbDE+FA7cvleLX78iXzM+i0q+vn//Qr9BUjU+2cKfvvSQJL9gRTc+eJaAvuerBL9/ODk+FMtBvi+Lx76eKzs+dKEBvvi0hL69Hj0+ZuSBvTyxA77cET8+MjGNpTIxDab7BEE+",
        "encoding": "base64",
        "path": [
         "vertices",
         "data"
        ]
       }
      ],
      "model_module": "k3d",
      "model_module_version": "2.9.0",
      "model_name": "ObjectModel",
      "state": {
       "_view_count": null,
       "_view_module": null,
       "_view_module_version": "",
       "_view_name": null,
       "attribute": {
        "dtype": "float32",
        "shape": [
         0
        ]
       },
       "color": 16711680,
       "colorLegend": false,
       "color_map": {
        "dtype": "float32",
        "shape": [
         1024
        ]
       },
       "color_range": [],
       "colors": {
        "dtype": "uint32",
        "shape": [
         0
        ]
       },
       "compression_level": 0,
       "id": 4950634384,
       "model_matrix": {
        "dtype": "float32",
        "shape": [
         4,
         4
        ]
       },
       "name": "Line #2",
       "radial_segments": 8,
       "shader": "mesh",
       "type": "Line",
       "vertices": {
        "dtype": "float32",
        "shape": [
         100,
         3
        ]
       },
       "visible": true,
       "width": 0.01
      }
     },
     "793f4ae51bf44d07a26de57b6da42118": {
      "model_module": "@jupyter-widgets/controls",
      "model_module_version": "1.5.0",
      "model_name": "VBoxModel",
      "state": {
       "_dom_classes": [
        "widget-interact"
       ],
       "children": [
        "IPY_MODEL_6019e275bd2e48beaa70e79a7fd30439",
        "IPY_MODEL_ef1a2f1f9a144961903be927f4332765"
       ],
       "layout": "IPY_MODEL_d80a360da481438b929405594af25a89"
      }
     },
     "993f757e0c8246978d60f22621e75312": {
      "model_module": "@jupyter-widgets/controls",
      "model_module_version": "1.5.0",
      "model_name": "SliderStyleModel",
      "state": {
       "description_width": ""
      }
     },
     "9a1629f9ea584b21b018be06d70f5a1c": {
      "model_module": "@jupyter-widgets/base",
      "model_module_version": "1.2.0",
      "model_name": "LayoutModel",
      "state": {}
     },
     "a6594d5f7180442dbd6e79515476f7d7": {
      "buffers": [
       {
        "data": "",
        "encoding": "base64",
        "path": [
         "colors",
         "data"
        ]
       },
       {
        "data": "AACAPwAAAAAAAAAAAAAAAAAAAAAAAIA/AAAAAAAAAAAAAAAAAAAAAAAAgD8AAAAAAAAAAAAAAAAAAAAAAACAPw==",
        "encoding": "base64",
        "path": [
         "model_matrix",
         "data"
        ]
       },
       {
        "data": "",
        "encoding": "base64",
        "path": [
         "opacities",
         "data"
        ]
       },
       {
        "data": "UCRvP8q5tr4a+EI/",
        "encoding": "base64",
        "path": [
         "positions",
         "data"
        ]
       }
      ],
      "model_module": "k3d",
      "model_module_version": "2.9.0",
      "model_name": "ObjectModel",
      "state": {
       "_view_count": null,
       "_view_module": null,
       "_view_module_version": "",
       "_view_name": null,
       "color": 255,
       "colorLegend": false,
       "colors": {
        "dtype": "uint32",
        "shape": [
         0
        ]
       },
       "compression_level": 0,
       "id": 4950533776,
       "mesh_detail": 2,
       "model_matrix": {
        "dtype": "float32",
        "shape": [
         4,
         4
        ]
       },
       "name": "Points #2",
       "opacities": {
        "dtype": "float32",
        "shape": [
         0
        ]
       },
       "opacity": 1,
       "point_size": 0.1,
       "positions": {
        "dtype": "float32",
        "shape": [
         1,
         3
        ]
       },
       "shader": "mesh",
       "type": "Points",
       "visible": true
      }
     },
     "ae3f02defee340819358942af26629a4": {
      "buffers": [
       {
        "data": "",
        "encoding": "base64",
        "path": [
         "colors",
         "data"
        ]
       },
       {
        "data": "AACAPwAAAAAAAAAAAAAAAAAAAAAAAIA/AAAAAAAAAAAAAAAAAAAAAAAAgD8AAAAAAAAAAAAAAAAAAAAAAACAPw==",
        "encoding": "base64",
        "path": [
         "model_matrix",
         "data"
        ]
       },
       {
        "data": "",
        "encoding": "base64",
        "path": [
         "opacities",
         "data"
        ]
       },
       {
        "data": "UCRvvz2qp7+u+Rs+",
        "encoding": "base64",
        "path": [
         "positions",
         "data"
        ]
       }
      ],
      "model_module": "k3d",
      "model_module_version": "2.9.0",
      "model_name": "ObjectModel",
      "state": {
       "_view_count": null,
       "_view_module": null,
       "_view_module_version": "",
       "_view_name": null,
       "color": 16711680,
       "colorLegend": false,
       "colors": {
        "dtype": "uint32",
        "shape": [
         0
        ]
       },
       "compression_level": 0,
       "id": 4552277840,
       "mesh_detail": 2,
       "model_matrix": {
        "dtype": "float32",
        "shape": [
         4,
         4
        ]
       },
       "name": "Points #1",
       "opacities": {
        "dtype": "float32",
        "shape": [
         0
        ]
       },
       "opacity": 1,
       "point_size": 0.1,
       "positions": {
        "dtype": "float32",
        "shape": [
         1,
         3
        ]
       },
       "shader": "mesh",
       "type": "Points",
       "visible": true
      }
     },
     "b9c74cc4ea194150995fc756f49d8ab5": {
      "buffers": [
       {
        "data": "",
        "encoding": "base64",
        "path": [
         "attribute",
         "data"
        ]
       },
       {
        "data": "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",
        "encoding": "base64",
        "path": [
         "color_map",
         "data"
        ]
       },
       {
        "data": "",
        "encoding": "base64",
        "path": [
         "colors",
         "data"
        ]
       },
       {
        "data": "AACAPwAAAAAAAAAAAAAAAAAAAAAAAIA/AAAAAAAAAAAAAAAAAAAAAAAAgD8AAAAAAAAAAAAAAAAAAAAAAACAPw==",
        "encoding": "base64",
        "path": [
         "model_matrix",
         "data"
        ]
       },
       {
        "data": "AAAAgAAAgL8AAAAAZuSBvQ58f7+u+Rs8dKEBvsDwfb+u+Zs8FMtBvq5fe7+F9uk8eJaAvnzLd7+u+Rs92cKfvtw3c78a+EI9i0q+voWpbb+F9mk9FA7cvjImZ794eog9x+74vpi0X7+u+Zs9cGcKv2RcV7/keK890MgXvzEmTr8a+MI9u40kv30bRL9Qd9Y9Bakwv6JGOb+F9uk9NA48v8uyLb+7df09ibFGv+ZrIb94egg+DYhQv5x+FL8TOhI+m4dZv0D4Br+u+Rs+7aZhv4TN8b5JuSU+pN1ov0ex1L7keC8+UCRvv8q5tr5/ODk+eXR0v/MFmL4a+EI+pch4v8pqcb61t0w+XBx8v9TQMb5Qd1Y+M2x+vyP/4r3rNmA+xbV/v0HlQr2F9mk+wPd/v1b5gTwgtnM+4DF/v81Noj27dX0+8GR9v/u6ET6rmoM+zJJ6v9e4UT54eog+XL52v0FviD5GWo0+k+txv3R1pz4TOpI+aR9svwfPxT7hGZc+2V9lv7Nc4z6u+Zs+17NdvwAAAD982aA+TCNVv7XNDT9JuaU+DLdLvz0JGz8Xmao+znhBv/SkJz/keK8+IHM2v9yTMz+xWLQ+YLEqv6fJPj9/OLk+qz8ev8c6ST9MGL4+1ioRv3jcUj8a+MI+XYADv82kWz/n18c+q5zqvriKYz+1t8w+xEbNvhWGaj+Cl9E+RB2vvrKPcD9Qd9Y+QD+QvlWhdT8dV9s+FplhvsS1eT/rNuA+HsshvszIfD+4FuU+vqzCvT/Xfj+F9uk+JvUBvQHffz9T1u4+JvUBPQHffz8gtvM+vqzCPT/Xfj/ulfg+HsshPszIfD+7df0+FplhPsS1eT/EKgE/QD+QPlWhdT+rmgM/RB2vPrKPcD+SCgY/xEbNPhWGaj94egg/q5zqPriKYz9f6go/XYADP82kWz9GWg0/1ioRP3jcUj8tyg8/qz8eP8c6ST8TOhI/YLEqP6fJPj/6qRQ/IHM2P9yTMz/hGRc/znhBP/SkJz/IiRk/DLdLPz0JGz+u+Rs/TCNVP7XNDT+VaR4/17NdPwAAAD982SA/2V9lP7Nc4z5iSSM/aR9sPwfPxT5JuSU/k+txP3R1pz4wKSg/XL52P0FviD4XmSo/zJJ6P9e4UT79CC0/8GR9P/u6ET7keC8/4DF/P81Noj3L6DE/wPd/P1b5gTyxWDQ/xbV/P0HlQr2YyDY/M2x+PyP/4r1/ODk/XBx8P9TQMb5mqDs/pch4P8pqcb5MGD4/eXR0P/MFmL4ziEA/UCRvP8q5tr4a+EI/pN1oP0ex1L4BaEU/7aZhP4TN8b7n10c/m4dZP0D4Br/OR0o/DYhQP5x+FL+1t0w/ibFGP+ZrIb+bJ08/NA48P8uyLb+Cl1E/BakwP6JGOb9pB1Q/u40kP30bRL9Qd1Y/0MgXPzEmTr8251g/cGcKP2RcV78dV1s/x+74Ppi0X78Ex10/FA7cPjImZ7/rNmA/i0q+PoWpbb/RpmI/2cKfPtw3c7+4FmU/eJaAPnzLd7+fhmc/FMtBPq5fe7+F9mk/dKEBPsDwfb9sZmw/ZuSBPQ58f79T1m4/MjGNJQAAgL86RnE/",
        "encoding": "base64",
        "path": [
         "vertices",
         "data"
        ]
       }
      ],
      "model_module": "k3d",
      "model_module_version": "2.9.0",
      "model_name": "ObjectModel",
      "state": {
       "_view_count": null,
       "_view_module": null,
       "_view_module_version": "",
       "_view_name": null,
       "attribute": {
        "dtype": "float32",
        "shape": [
         0
        ]
       },
       "color": 255,
       "colorLegend": false,
       "color_map": {
        "dtype": "float32",
        "shape": [
         1024
        ]
       },
       "color_range": [],
       "colors": {
        "dtype": "uint32",
        "shape": [
         0
        ]
       },
       "compression_level": 0,
       "id": 4950675984,
       "model_matrix": {
        "dtype": "float32",
        "shape": [
         4,
         4
        ]
       },
       "name": "Line #1",
       "radial_segments": 8,
       "shader": "simple",
       "type": "Line",
       "vertices": {
        "dtype": "float32",
        "shape": [
         100,
         3
        ]
       },
       "visible": true,
       "width": 0.01
      }
     },
     "d21f897ff8c9471f8fd9d7f89e342a96": {
      "model_module": "@jupyter-widgets/base",
      "model_module_version": "1.2.0",
      "model_name": "LayoutModel",
      "state": {}
     },
     "d80a360da481438b929405594af25a89": {
      "model_module": "@jupyter-widgets/base",
      "model_module_version": "1.2.0",
      "model_name": "LayoutModel",
      "state": {}
     },
     "ef1a2f1f9a144961903be927f4332765": {
      "model_module": "@jupyter-widgets/output",
      "model_module_version": "1.0.0",
      "model_name": "OutputModel",
      "state": {
       "layout": "IPY_MODEL_33a0eb53f3e944608f33cbad4db79c8c"
      }
     }
    },
    "version_major": 2,
    "version_minor": 0
   }
  }
 },
 "nbformat": 4,
 "nbformat_minor": 4
}
