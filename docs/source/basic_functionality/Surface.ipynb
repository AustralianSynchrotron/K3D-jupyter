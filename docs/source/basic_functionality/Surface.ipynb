{
 "cells": [
  {
   "cell_type": "markdown",
   "metadata": {},
   "source": [
    "## Surface\n",
    "\n",
    "`k3d.surface` is an easy way to produce plot of an explicit function of two variables $f(x,y)$ on a rectangular domain.\n",
    "\n",
    "It takes a table of values, i.e. `f(x_i,y_i) = f[j,i]`. Proper scaling of $x$ and $y$ axes can by done by specifying `xmin/xmax` parameters."
   ]
  },
  {
   "cell_type": "code",
   "execution_count": 1,
   "metadata": {},
   "outputs": [
    {
     "data": {
      "application/vnd.jupyter.widget-view+json": {
       "model_id": "8ae36f962d384e6f80eaebef7f8a663b",
       "version_major": 2,
       "version_minor": 0
      },
      "text/plain": [
       "Output()"
      ]
     },
     "metadata": {},
     "output_type": "display_data"
    }
   ],
   "source": [
    "import numpy as np\n",
    "import k3d\n",
    "\n",
    "plot = k3d.plot()\n",
    "\n",
    "Nx, Ny = 50, 60\n",
    "xmin, xmax, ymin, ymax = -3, 3, 0, 3\n",
    "x = np.linspace(xmin, xmax, Nx, dtype=np.float32)\n",
    "y = np.linspace(ymin, ymax, Ny, dtype=np.float32)\n",
    "x, y = np.meshgrid(x, y)\n",
    "f = np.sin(x**2 + y**2)\n",
    "plt_surface = k3d.surface(f, xmin=xmin, xmax=xmax, ymin=ymin, ymax=ymax)\n",
    "plot += plt_surface\n",
    "\n",
    "plot.display()"
   ]
  },
  {
   "cell_type": "code",
   "execution_count": null,
   "metadata": {},
   "outputs": [],
   "source": []
  }
 ],
 "metadata": {
  "kernelspec": {
   "display_name": "Python 3",
   "language": "python",
   "name": "python3"
  },
  "language_info": {
   "codemirror_mode": {
    "name": "ipython",
    "version": 3
   },
   "file_extension": ".py",
   "mimetype": "text/x-python",
   "name": "python",
   "nbconvert_exporter": "python",
   "pygments_lexer": "ipython3",
   "version": "3.7.8"
  },
  "widgets": {
   "application/vnd.jupyter.widget-state+json": {
    "state": {
     "1511df6c4dca463a9737e79ca714ab70": {
      "model_module": "k3d",
      "model_module_version": "2.9.0",
      "model_name": "PlotModel",
      "state": {
       "_backend_version": "2.9.0",
       "_dom_classes": [],
       "_view_count": null,
       "antialias": 3,
       "auto_rendering": true,
       "axes": [
        "x",
        "y",
        "z"
       ],
       "axes_helper": 1,
       "background_color": 16777215,
       "camera": [
        3.457982318731705,
        -3.239783465171411,
        2.9568982654388796,
        0,
        1.5,
        4.470348358154297e-07,
        -0.22099579965510616,
        0.33369602627566475,
        0.916410289435159
       ],
       "camera_animation": [],
       "camera_auto_fit": true,
       "camera_fov": 60,
       "camera_mode": "trackball",
       "camera_no_pan": false,
       "camera_no_rotate": false,
       "camera_no_zoom": false,
       "clipping_planes": [],
       "colorbar_object_id": -1,
       "colorbar_scientific": false,
       "fps": 25,
       "fps_meter": false,
       "grid": [
        -1,
        -1,
        -1,
        1,
        1,
        1
       ],
       "grid_auto_fit": true,
       "grid_visible": true,
       "height": 512,
       "layout": "IPY_MODEL_a58bc9c42ee740aab66045a03ba2c594",
       "lighting": 1.5,
       "manipulate_mode": "translate",
       "menu_visibility": true,
       "mode": "view",
       "name": null,
       "object_ids": [
        4416072592
       ],
       "rendering_steps": 1,
       "screenshot": "",
       "screenshot_scale": 2,
       "snapshot": "",
       "snapshot_include_js": true,
       "time": 0,
       "voxel_paint_color": 0
      }
     },
     "86f8e881a04a4805872f6b6dd82ed4a5": {
      "model_module": "@jupyter-widgets/base",
      "model_module_version": "1.2.0",
      "model_name": "LayoutModel",
      "state": {}
     },
     "8ae36f962d384e6f80eaebef7f8a663b": {
      "model_module": "@jupyter-widgets/output",
      "model_module_version": "1.0.0",
      "model_name": "OutputModel",
      "state": {
       "layout": "IPY_MODEL_86f8e881a04a4805872f6b6dd82ed4a5",
       "outputs": [
        {
         "data": {
          "application/vnd.jupyter.widget-view+json": {
           "model_id": "1511df6c4dca463a9737e79ca714ab70",
           "version_major": 2,
           "version_minor": 0
          },
          "text/plain": "Plot(antialias=3, axes=['x', 'y', 'z'], axes_helper=1.0, background_color=16777215, camera=[2, -3, 0.2, 0.0, 0…"
         },
         "metadata": {},
         "output_type": "display_data"
        }
       ]
      }
     },
     "a58bc9c42ee740aab66045a03ba2c594": {
      "model_module": "@jupyter-widgets/base",
      "model_module_version": "1.2.0",
      "model_name": "LayoutModel",
      "state": {}
     },
     "e2f7a2c86d234a0c87b68dba51bfb85c": {
      "buffers": [
       {
        "data": "",
        "encoding": "base64",
        "path": [
         "attribute",
         "data"
        ]
       },
       {
        "data": "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",
        "encoding": "base64",
        "path": [
         "color_map",
         "data"
        ]
       },
       {
        "data": "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",
        "encoding": "base64",
        "path": [
         "heights",
         "data"
        ]
       },
       {
        "data": "AADAQAAAAAAAAAAAAAAAAAAAAAAAAEBAAAAAAAAAwD8AAAAAAAAAAAAAgD8AAAAAAAAAAAAAAAAAAAAAAACAPw==",
        "encoding": "base64",
        "path": [
         "model_matrix",
         "data"
        ]
       }
      ],
      "model_module": "k3d",
      "model_module_version": "2.9.0",
      "model_name": "ObjectModel",
      "state": {
       "_view_count": null,
       "_view_module": null,
       "_view_module_version": "",
       "_view_name": null,
       "attribute": {
        "dtype": "float32",
        "shape": [
         0
        ]
       },
       "click_callback": false,
       "color": 255,
       "colorLegend": false,
       "color_map": {
        "dtype": "float32",
        "shape": [
         1024
        ]
       },
       "color_range": [],
       "compression_level": 0,
       "flat_shading": true,
       "heights": {
        "dtype": "float32",
        "shape": [
         60,
         50
        ]
       },
       "hover_callback": false,
       "id": 4416072592,
       "model_matrix": {
        "dtype": "float32",
        "shape": [
         4,
         4
        ]
       },
       "name": "Surface #1",
       "type": "Surface",
       "visible": true,
       "wireframe": false
      }
     }
    },
    "version_major": 2,
    "version_minor": 0
   }
  }
 },
 "nbformat": 4,
 "nbformat_minor": 4
}
