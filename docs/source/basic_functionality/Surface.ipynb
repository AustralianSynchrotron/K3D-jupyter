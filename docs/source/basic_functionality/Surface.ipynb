{
 "cells": [
  {
   "cell_type": "markdown",
   "metadata": {},
   "source": [
    "## Surface"
   ]
  },
  {
   "cell_type": "code",
   "execution_count": 1,
   "metadata": {},
   "outputs": [
    {
     "data": {
      "application/vnd.jupyter.widget-view+json": {
       "model_id": "ccfdf5ce26c5457dab9b9fb799bf175e",
       "version_major": 2,
       "version_minor": 0
      },
      "text/plain": [
       "Output()"
      ]
     },
     "metadata": {},
     "output_type": "display_data"
    }
   ],
   "source": [
    "import numpy as np\n",
    "import k3d\n",
    "\n",
    "plot = k3d.plot()\n",
    "\n",
    "Nx, Ny = 40, 80\n",
    "xmin, xmax, ymin, ymax = -3, 3, 0, 3\n",
    "\n",
    "x = np.linspace(xmin, xmax, Nx, dtype=np.float32)\n",
    "y = np.linspace(ymin, ymax, Ny, dtype=np.float32)\n",
    "x, y = np.meshgrid(x, y)\n",
    "\n",
    "heights = np.sin(x**2 + y**2)\n",
    "\n",
    "plt_surface = k3d.surface(heights, xmin=xmin, xmax=xmax, ymin=ymin, ymax=ymax)\n",
    "plot += plt_surface\n",
    "\n",
    "plot.display()"
   ]
  }
 ],
 "metadata": {
  "kernelspec": {
   "display_name": "Python 3",
   "language": "python",
   "name": "python3"
  },
  "language_info": {
   "codemirror_mode": {
    "name": "ipython",
    "version": 3
   },
   "file_extension": ".py",
   "mimetype": "text/x-python",
   "name": "python",
   "nbconvert_exporter": "python",
   "pygments_lexer": "ipython3",
   "version": "3.7.4"
  },
  "widgets": {
   "application/vnd.jupyter.widget-state+json": {
    "state": {
     "0c976fd71b734f51b4fd947c23928b68": {
      "model_module": "@jupyter-widgets/base",
      "model_module_version": "1.2.0",
      "model_name": "LayoutModel",
      "state": {}
     },
     "1a7862c4eb39439db296128a8eb5f527": {
      "buffers": [
       {
        "data": "eNoll3d8zff3x8UIghixasXesVck931sMWIFERWxEhGJyJZ1b5Vo7VVq16zZ1p65n2N/jaJoUG2pPWrUqFHrl+f9/XEej/N4n9d4PvC47m3mdtF0aD9B+tr7ySOtYXKuFdfo6il6+MFYXdquoC5y9/N33nQTe8NBkpWVKaO2T5C1UcFy2b2uHK74yNwbNs9EPy5rnroPtiXcPuTHsPPGDQ1aPHjJIItMsumgi066YYAFpma5bE/7XzBV60+QIjv7Sf6WtcyqOcV1Z+EUHeUZrefnFNRn4TX8O8x1k7Nvg2XAhExxnpgg3y8PlvK96krUkUfmQ5n5ptvI8ub3R2G2prWe+THsvHFDgxYPXjLIIpNsOuiik24YYIEJtrDev5gHt1JkXv8guTm/npm6zlPVStbp6dH68YtCmr/IPr+YZXnEa3iwvO6dKe89UuW/loOkf4168t2+J+ZEiwVm+NFK5t7yOFtAgvgz7LxxQ4MWD14yyCKTbDroopNuGGCBCTbryc+ma3SK/B7aX45ebWJaVyqmzSVZnzaK0SvFPfTBw5/3/1fgo2k9bKC8L5z755ecKjObhsjDyfWl3Ptn5vKBRaZ58Zrm6vSvbJVOLvFn2HnjhgYtHrxkkEUm2XTQRSfdMMACE2zzG58wRpPly58HyF13PxPx3EO9v0rSEzXHaTW/otrhk8n+O+utufSivwxZnSEFCqXJnRmDpfL4hvL3lFdm+4blxrN9I5NTf5ltX+Jjf4adN25o0OLBSwZZZJJNB1100g0DLDDBtqjYYdP3cpLsXhosp70CTNFahbTo3ETNDo7VHZ88NenMyewqO16YRuWCJN4rQ3z3pUmFjkOk6I1GMqX/e3Pg9RpzbYCfKbxht+23qw1cw84bNzRo8eAlgywyyaaDLjrphgEWmGALnLTfxP+QKG2PhUjku2DTe2t+fTMgQW8eHK/9Q0rp+0u1nL9MeWQ6HO0jeQemi/ekdDkZOFQWX2gqB350E4+1m82vXXuYzz9csoVqtGvYeeOGBi0evGSQRSbZdNBFJ90wwAITbIembTPVfBOkS/sh0nZXlNk7O49GnonTbcHx6uxQVt2+jnfmeXvL5LwIlI7D0yRnSIa4rxsmw0xLqf5zAWmxfqfJV3yoWVPtg63Rj8tcw84bNzRo8eB1ZeRmkUk2HXTRSTcMsMAE26dK682A8XEy3T1MalT8wsRmvLbGPo7VDyUTNWxXBc1JXOe8leeqmb+8u9yonyoX/DIlSEbK0kq+siLDQ0q8tcz5lQnm9KTSZsW5EzaGnTduaNDiwUsGWWSSTQdddNINAywwwdaw+VKztWuslPYYIaXbzDDbox9ZOzbF6INbSRq50Vufxl12/vvNWVNubxfxWJ8i173sMqNkhHiMskmZfcUlafYps/91lunXy8cU3v2fjWHnjRsatHjwkkEWmWTTQReddMMAC0ywdTs+0yRvj5YmEi7eGxabp7evW5veROlVTdGsMrXU/k1B68vNh0wF3w5iP5EkXpftkuM5Ri4V7iBFUsvI9dDLZlnifHP8VoDZVPsz17Dzxg0NWjx4ySCLTLLpoItOumGABSbYhq7MNEdXj5EJ30bKg7ANJuW381bSydH6xcJUPfmkvlZqV9t60XaHWVDGJmu/SJDLSQ6ZVjdakty6Sub2ilJ9wB1zzW+1iWg+2vyR3do17LxxQ4MWD14yyCKTbDroopNuGGCBCbahC4eYiYUjZHneaHHvu9c0k8NWK89Run9gus6r21SnbOpq1Wm7xlxv31qW6Xh5eM0hLXrFyjT/nrI9pLrkHfnSrJTt5pDXZONRJMQ17LxxQ4MWD14yyCKTbDroopNuGGCBCbazEW3MrkvDJX5crLwZc9I4i2yzKu4J09WPMzRwZ2vdnT3Wqr5qrvlvWxOJTIyR0Z8ckhITLyc29ZXyw+vJvTZ55cy4I6b9hQXm05sM17Dzxg0NWjx4ySCLTLLpoItOumGABSbYYoqVNDPfDpHLx+Nl84LfzfuWK6yZOwbrnC52HTHR6KKGU62nFzLM/pB6UmzmGLl42CFF45Pkim+wlN3XRD7t8JBdO3OM29EN5t8dc13Dzhs3NGjx4CWDLDLJpoMuOumGARaYYBtY7oxt97Bg2flvkpzd/8Q83D3VSnzeX6v1cGjezM4a/sNy61XlIFPOp5ocfTVKWns5JLvzBLHlDJFrvdvItfleMvfNfXP5YrZZVf5717Dzxg0NWjx4ySCLTLLpoItOumGABSbYnqwbaZvxXx/57+YEOR3qJvlLj7YiR/TSrrccWnZeT33SbYc1s2ptE1u1vDRfESa23zIl8pc08YsYIX1KtpMO/6skeSp/MPXvnzd35h1wDTtv3NCgxYOXDLLIJJsOuuikGwZYYIJt2uf5/GVXN9mQmC5T9heRsUNaW57Pu2jkvw4tvjFIQ++etCZaf9v+ruspe2JDJPh9uhR9kyFXL46WM3e7ysi2teXsp0ISdfOeael+wTXsvHFDgxYPXjLIIpNsOuiik24YYIEJtvWXfZxTHO3l7qxMGR1WVm71zG8NnWN0coRDb60frFHDb1gLzk62/eGfT7YF95OXI1Llz5V2OZE3Rrz39JY9lxpLq2wvyVzx0WT1eeAadt64oUGLBy8ZZJFJNh100Uk3DLDABFvTR0ecSwLaSKXSDmnXspp88XCps6RPSw2vYNfnccP1xvy31uxP/v7tNjwxf3ToLieeJ8nYHxwSlxMnwyOC5eqXvnJmSxWp99ZD7q/N4xp23rihQYsHLxlkkUk2HXTRSTcMsMAEW3CFita/eRpJrTsO2VOtoVz9ak121X319fGLdM13f7R+rFNY/Yq1dgac/9X8r0p7KTc3Ts59dEj+hsnyJmeohFbvKIl76sn2S2Xl1I2irmHnjRsatHjwkkEWmWTTQReddMMAC0ywJa0daK1bUl2+vuGQhgVbS5PQqrYSdbx1YM4EjbofoxO3ltFuHX917n2813S+2krK1YiWx4kOWXE7VebdDpdDC3rKUauFNPi5ujTu9Jlr2HnjhgYtHrxkkEUm2XTQRSfdMMACE2wRNaZZNwuXlTP37LLyaHupc+WsLXtsKf1xZaJ+6pWgCZ2r6yWPetb890vMy/AGEjUrXE4/yZT43zOk7bhoGbZ/gNxfJdJvfyPZ90Mt17Dzxg0NWjx4ySCLTLLpoItOumGABSbYpp3faM3vXEhu5GTI4pY95c9O9Yza82v7NrEa9W+KehxrpKUbRVmNCyWbnJ1VZPG+UHnTPV1K/22XzJ7xMilqqHzj31187W0l4H1T17Dzxg0NWjx4ySCLTLLpoItOumGABSbYfGqeshrPeW6mT02Vds0GSsGuMab57odWHUekDt+RrpMK++mt+Qutn2s1M/9kl5BdM/pL4cgUufTIId8PTJH4zNzvWqP7S+tnneV6YeMadt64oUGLBy8ZZJFJNh100Uk3DLDABFvQbw+tRd4XTIEbiTJ+dpi8nrg497PrpPU0ZJjmD7Nr0IMuOungXss9f47teYqbuD3vJg1rxUvbfbn/V43I/Tz7X4z4vgqVD/f7yI4t3VzDzhs3NGjx4CWDLDLJpoMuOumGARaYYMu6UEBj5Sez7MA4+adKpJx4l22a3vzeCvlpoA4649AyrfvpnYG/WwdLv/MveeKG2XTJJtdGjJWsunb5qoNdwiomyuMDEfJj68/Ff09/17Dzxg0NWjx4ySCLTLLpoItOumGABSbYhpYvq7/lmWam/BchZ3+KlXtH/jJ3Yydaxcb00BsXHHr+0BBt4v7RWjDOz3mnkGVWN2gia/ONlDFe6fLmlEPiA1Kl3lfjpNGWUTLhzVDXsPPGDQ1aPHjJIItMsumgi066YYAFJtg+FKutvfN2NlsmhsoVz2S53y6v+Mxpbq1MNBrSya4hAyK0rW8J7Tz5k/P00W9N1N2q8urRIDkXlCz/nnFIeuVMWVQzSZJLxUgL/0jXsPPGDQ1aPHjJIItMsumgi066YYAFJtiOZrbUDj/csm1o00/qF0yX7+57yb+hB51RRxvrV6/TdPn+cdqhQjV1135WydZDTeW8JaR+oUA5fCxWllWxi1+kQ6qGpUnVFokyt8d417Dzxg0NWjx4ySCLTLLpoItOumGABSbYxvt00m/mX/Y/UaSzfBphly7VasnhFl7Z0/p4a/OjSZqxN0klpqm6zZtvVUopZJLyvDNpHUWiAkbLxLlpMvmVQ37MY5dyv6XKlsfJrmHnjRsatHjwkkEWmWTTQReddMMAC0ywdbzWV8sOznDWftxSZud+DqT80FI8F66ylSpfTPtkjdPI0ula7GU7HVbKst5V8rMtvnjBNJvfWNrpEDn4IVGaf2uXUhdz/42dyJRh99Ndw84bNzRo8eAlgywyyaaDLjrphgEWmGD7JnCofphZ0XqcU1MaxzpkTffOsqeUjznX8blVq0K4xs+3659je+vksfctt5ttnEEr15sjzyuLj1cf8TcxMrRiulRe5ZA+Jx3S0+3/h503bmjQ4sFLBllkkk0HXXTSDQMsMMG2o+UYTVySao3/X0mZszdD9m4Lkp9GZpmD745bq0aHaPw7hz6cOUQPFy2s644Uswq1STBPwz3kWfP2cq/ZSFkSnCR/ts6U8LUO+fjx/4edN25o0OLBSwZZZJJNB1100g0DLDDB9qBXvLb33mLtWPTW1FuSIq+/HSY1Enea49MXWddDeuig0g7tWiJSPTpX1k1Px1lTqpYyRV8+MPGfNZEOhwdKQq0Y8YicIG61MiVwk9017LxxQ4MWD14yyCKTbDroopNuGGCBCbZNfVL1Y4PfrYovT5tzD3M//34aKwfq3jKb03pZX99pqwc3pqv3+jg9N6uJ7h2wwVp4q5nNfdYB0/RYJbl+tavkCx8hSwrGyekKE+TGuTTXsPPGDQ1aPHjJIItMsumgi066YYAFJthqv8jUHzbk18M3l5hxX4fL5U2JUia2kHx37IwzpXBdXT4jSUu5p2raNx301fUr1hc9xjvL3Zhq5nYsKG8SW8nCj7n/z76IkITPx8uz9omuYeeNGxq0ePCSQRaZZNNBF510wwALTLAVfubQoCcVdL4j0GSHDJKgtumyaHwV6b/8W7+6v5TSSguiNedGpm55108HtMivm+vUsTYurW++GXzdfJyf+x3tdidpV3KwZB0Nl7JXo1zDzhs3NGjx4CWDLDLJpoMuOumGARaYYAst7NAW7k30hwIHbcP6BMhnpRzSpk1zmZN51xa8+pW1Zu0wrfXcodkRw/Xr8hV19fKpVvn0eJt33y3GL6CobCjdTIb27S6jbIOkZ/pQ17Dzxg0NWjx4ySCLTLLpoItOumGABSbYLril6+6pHbV71Izs6VEtxeehQ0LCuki7biPNgPAj1tX1ffXZi9zvMckx+uOuJjozSq2eFfo7T2wYa74dds/sW1JJdGtr6bWvq3zy6u0adt64oUGLBy8ZZJFJNh100Uk3DLDABFvZjQm6sdgA3XexgFV1l7fIxEzxTQ+Wbhs2mpv9Z1g5i0T3bk7TVaeT9Y8VnTSk7ksr7Ulda+qOZ7bHL7eZxLn55Xbb6hLt20Lqr/R3DTtv3NCgxYOXDLLIJJsOuuikGwZYYIIt9LdITas5Suv6pVshgQWl/Xcpks87QnJ+/ssUf1fDqjKxvla9H69HPDL104iBumSCl5a2ZllFdx1uay2MM98G/GpmF/GQ3WcrS+8GdVzDzhs3NGjx4CWDLDLJpoMuOumGARaYYHuWNliXDxuv5d/vsbYevWKqlB8nFa7FSWjxIrI+oa5zVXopXTZ5tCb+mftdcHa4eo1uoG6xJ6xmU545K5Z+bptYbal5u/KaubY0v2Rc8HQNO2/c0KDFg5cMssgkmw666KQbBlhggu3vKQHaMzhVw92fWcExK8zKs8OkfO80KdSzZu5n5fe2rjFPrcDoQVrzlV1/2RqnR0Lb66xOefSXxonWmnZTDoxf7m+mL1hrbv1w3njNuOcadt64oUGLBy8ZZJFJNh100Uk3DLDABNv3hZvrpTV2/fmil8ZNbmcCc3/v/+fpkBHz/KT75/1MxYc7rXXLOmtLrzQ9F5KmVy7114R3FbTn4D3W/3rkt84dTrR1kkDTdMEC83bBFtew88YNDVo8eMkgi0yy6aCLTrphgAUm2OrUqqB1/3bo70N89MDFCba8v7eVzUcd8i6oj/wYv8GUNNFWkbqNNSZvnHrXcOiBHuE67mRzvV/whRW48Evrq24znBd7LbQ5P29g/P4Z7Bp23rihQYsHLxlkkUk2HXTRSTcMsMAEm632e2v+9QxtnNVJ/6s1x/lXSHW5XjNDuruNkFad7poRm845Y9uU0YlrR6rbNocmtYnXWWW76+iXZfSoOWyVadMj97detPMv73K2jH5bXMPOGzc0aPHgJYMsMsmmgy466YYBFphgmxZoWbc6Jan/tkGa49bHCopxF49XCbKo2HipvqWEbGpfwGaq/2Nl/NNXy+9J11+90zWgW6j+FdJEz17+ZG09vd7y6NbR6nvsuHNzk56uYeeNGxq0ePCSQRaZZNNBF510wwALTLC1bJViJbyM1LJdx+ha+2bL7dezJq30aBn4IlVK1WsoQccbmhNVt1o1Xvvplvfx+nK2Q3eeitYDHgHqdKusHwLuWzWHrrNer4mx/rYZ17Dzxg0NWjx4ySCLTLLpoItOumGABSbYsu2/OsveCNZ2O5LUq8xjK2LidNMteYDk9839XXGnk7y7t9Q4Dw20fr9TTW8PC9d8dRwqRSZoxJAh2nVTa81/vpS697lnnSh/wDo1YK1r2HnjhgYtHrxkkEUm2XTQRSfdMMACE2w131axVa/YQdfHZGrCijI66ENB49lYJCzZIVsaDJYhu66bGX4znBUK59dS1/tp30Wpev4ru4ZtiNb5DXrroHqNNe1tKb2c54NVb8M917Dzxg0NWjx4ySCLTLLpoItOumGABSbYivzqZyZdrKNff3Lo1UbN9KBHz+yBCTXlYkiaJPYcKxXKlZCsU8ttx5cds8bM89Px28bprHMOvdh3gi47M0JLjQ7QW5ca6+bkyjo628s17LxxQ4MWD14yyCKTbDroopNuGGCBCbY+oeuNNbSwNi2cqb2ie+iLGjWtd0sKyNMfYuX6qhQZcd5HHlQON5W90q1B+7y1TthQXTs1Xbeezv3z+CtOPY+F6ovYbrpzsa9+U7Spa9h544YGLR68ZJBFJtl00EUn3TDAAhNsl2OfmOExZy2vgER9NXWYnhuy3IrpctzsGhomvXN/f6lPgBTKyjYPHxx19h3/yaqyPUAbped+Fn7n0BeHcjlzf3+lvRqqa0r10xIPu7uGnTduaNDiwUsGWWSSTQdddNINAywwwXZgRXk5/mqSNWtZuO47Ol53h921fJ3JZoa9m7TbmvtbJ2io2Pe6SZnEGNvTFnutn2/66M0Zw9UnPk173XVosf9SddG6WC1TIkKfZw5zDTtv3NCgxYOXDLLIJJsOuuikGwZYYIJtzoNWkrnwojOleF91RqVrlVlldJlstaV3byQDZqfJ9oRYidlcXWZvGGzK9R5one7vqWN/6aHhnrH6+M9MjZrq0Gon03TemUQ178e7hp03bmjQ4sFLBllkkk0HXXTSDQMsMMFWyruv7F882jbzUitddsuh0w63UG3zrbOuj6cM+DBOtlxIkzPl20mBDQfM8796O+s0zbG2TW6ibyJCdXxokrbZZ9cHx3I/N5bm/vvdku4adt64oUGLBy8ZZJFJNh100Uk3DLDABNvcXhGy/+NQs21QOd25N1NDjvfWGQHjrelfXjS/Ph0icecc0tUtRD5rm0/Odbxju3VlijXnsxKauqKzLu8UoQ9apGjh6nad9cCh/Z79/7Dzxg0NWjx4ySCLTLLpoItOumGABSbYshYnyf6kg8Y39+8+bHmi/pD7dz9+/Qnrw+pJ5vqsThL6OFNmxEfLwN215PbkGebE5TPOgiMvWfWK1NXVa/volJxItc1M0mU90jUkKNM17LxxQ4MWD14yyCKTbDroopNuGGCBCbbNNrt82u4uWX0XWpuSR2ngkCQ9keChk/fut033rS2b/kiU7nNTpXPVTlKi+Z+mn0y3veqYZVVsW0CDj7XQ5A1B+v39cH2VFat/fJXgGnbeuKFBiwcvGWSRSTYddNFJNwywwATbsO9yfzPdqSfFSrhZISMCNautXSc28dFj3dc6g6fmlaNfjpIraxySHBwq6yJKy/TiCebkrAPOjBsHrJ71vLT/v631z8De2mz+EP0ndYRr2HnjhgYtHrxkkEUm2XTQRSfdMMACE2xl+6fK/tkBcjdvZ1uL7MYattChz7v10LNFJ1qN1+00I9wCxVS2S0rv8TJrSCvJX+isORW80Vb+p57W6yq/Wbfal9UJpZtpqc0dtE3f7q5h540bGrR48JJBFplk00EXnXTDAAtMsN1pMFa+yhguj16MMjurFdUv86Xqtpkj1TPhktVxdltTL7uRfLM+UfwqZcj+5kHS66CnvN8xydy0H8kueXeS5bvhmvVLjqdGdq2ug1IauIadN25o0OLBSwZZZJJNB1100g0DLDDBVrftABkxJ0E+L3fK3Lh73IrtH6WHbidq0fpe+lVse7/YIR6yw2ekPPnokJV7xsiEqc2kaper5gu7t9nWca3zxsivrT5//mx9DHxjxS91V4adN25o0OLBSwZZZJJNB1100g0DLDDBZv5oLbFXMiWzqacs7/W51WlNkO4fbtfmV1vp2cmtc7/LHTL1b3WTA/Hp0i9ngjx+1UcGZZSRlKxN5mLHC7aqT7Y6/3g12nJfutpaHL7PNey8cUODFg9eMsgik2w66KKTbhhggQm2PU4vmbbIISUqN5e8DV9mfzeopT7o5dD8ub9lkoL3WAGdA02P7vUkpc046bHJIfV2R0r3Qb4yJTaPJP8+17xznLaNfenjbJG3qOVz1c817LxxQ4MWD14yXFm5mWTTQReddMMAC0yw9dt50fiETJD+XfrJUr/qxqtJCf3kl6JTjozVio/dNXxJkH9067xSdvggKTc/U9yWTpAJLYPlu+w6YmL+Nslr55qsyDIm+XaQLcQ5x49hd73l3tCgxYOXDLLIJJsOuuikGwZYYIKt4sMYc/vFaDnQLkquffzJNI47ZfXziNC7iWk69pGPlmreytqycrNpN6Ct+PjGy53c/8/Pb42R9VO6ye5bVeTF1Edm+q2NxvefZHNzdVfXsPPGDQ1aPHjJIItMsumgi066YYAFJti6vKtuW7i8l2SeSZXEy/llWECwled1Dz381qF+//XSlVf2W8+qlzVfXy0tF1aEinePTPnl23RJ6zBK3uzpIKX+9ZaLnnnleYffzLjSR1zDzhs3NGjx4CWDLDLJpoMuOumGARaYYBt4o6rlfNxQTj1xSJ5WPvLl5DHZX66qpwu2puvcrEgdN9JDV0f1cs6rc8H0qttOmpWOk/R3Dtk6N1k6zgyT016d5OnZ+pKYv7xs+czTNey8cUODFg9eMsgik2w66KKTbhhggQm2+xN3WD/dyCdv36bL0i69ZcYcmylQPI96DozR75qk6mtHM63V3G799Wa4SVpVQTZX+FwqdUgTt2CHHHiQIE0fDZNXgwMl6L1Nuq5v6Rp23rihQYsHLxlkkUk2HXTRSTcMsMAE27y+hfTR7o3GbUOMdB00Rk6NO2w+9FllPSs5QJfkfrf87a8gXbP6LyvDa7n/+8w/zLGrflKjdZTUP5UpZxbY5cbbRLn/YXTud9gh0mzgQNew88YNDVo8eMkgi0yy6aCLTrphgAUm2Cb+3FR9x7qbnOoD5Pi/qXJ3XXEZuvSB87Kjudb7J10/nY3WdR6VNTTKWF0i482kjqXlWrk+4jktTs5ss8vCPA4JtKVKk8XxMjJpnGvYeeOGBi0evGSQRSbZdNBFJ90wwAITbD/W7a9HUlY4v/VsLks+OGTMxDYSmHPI1mNHYc0qEKOpl9L1m4Ud9eLsY9bySy/988WcNr8sbSgbNw+WhJMJMqW6XWzPHNIvwC7/W5ThGnbeuKFBiwcvGWSRSTYddNFJNwywwARb6swYvVptnnViZiFZujf3u/LuEElavsR8Fr3d8g4N0s3XHdrhVe5vhw6ltHasr7W0YIBZ/TqP6FFf6Xw7VA69jJO2n6fLnvN2qbPd4Rp23rihQYsHLxlkkUk2HXTRSTcMsMAEW0RshoZFvLbmZPxopjweI97RcXK02iez+H1x6+nOxprYZYLuGpusLbb76bXnx6xHSxdkF9qx3Nj/KS6fzbXlfvcZLMXajpUi+xLkXZ0U17Dzxg0NWjx4ySCLTLLpoItOumGABSbY/trs0CfN6undg/lNw38CxbuKXS5+0VB6X19m+zQgn+rjUXoy93tP5PUh2n+tl26Pi7VOvT5sa7XMaR7/7SXfL2kj7X/rLXuLhMr8+yNcw84bNzRo8eAlgywyyaaDLjrphgEWmGDbsTpZ29bsrZcG73P6b6ojjZ12Ob6nryz+sMDU9l5pnQnsogXmZuibywlaLcemT47csLo8+eTM+L2aedL6mPHuU0xCKtQXifGTSykdXcPOGzc0aPHgJYMsMsmmgy466YYBFphgO9l9uHYfMFZXtlph1fZ9ZrKPx8ugIjFy5dhHkzn4kHNZemX1z/03HOfp0HWNwnSNWzVd8vFH6+CSyc4GdRqbtf/uNG0evzK9K5WQoq8+cw07b9zQoMWDlwyyyCSbDrropBsGWGCCbUe7djrjebrucObTc1uzzPKQwdJ4e4YMfOcjx1e6m1t9rlg32/dV97RMvbU6SRvM76ZvOhXRax/nWXsbhDmz1xc2nz+bbs5f32dm235xDTtv3NCgxYOXDLLIJJsOuuikGwZYXEy5bP8HZQhtxg==",
        "encoding": "base64",
        "path": [
         "heights",
         "compressed_buffer"
        ]
       },
       {
        "data": "eNpjYDjgwIABHKBiB+wRYg32mOoa7AGFyQP+",
        "encoding": "base64",
        "path": [
         "model_matrix",
         "compressed_buffer"
        ]
       }
      ],
      "model_module": "k3d",
      "model_module_version": "2.7.2",
      "model_name": "ObjectModel",
      "state": {
       "_view_count": null,
       "_view_module": null,
       "_view_module_version": "",
       "_view_name": null,
       "click_callback": false,
       "color": 255,
       "compression_level": 0,
       "flat_shading": true,
       "heights": {
        "compressed_buffer": {},
        "dtype": "float32",
        "shape": [
         80,
         40
        ]
       },
       "hover_callback": false,
       "id": 140480933250512,
       "model_matrix": {
        "compressed_buffer": {},
        "dtype": "float32",
        "shape": [
         4,
         4
        ]
       },
       "name": "Surface #1",
       "type": "Surface",
       "visible": true,
       "wireframe": false
      }
     },
     "22b93468d8524074821d0320b411d9a5": {
      "model_module": "@jupyter-widgets/output",
      "model_module_version": "1.0.0",
      "model_name": "OutputModel",
      "state": {
       "layout": "IPY_MODEL_6156860cff96461787c02793369d9270",
       "outputs": [
        {
         "data": {
          "application/vnd.jupyter.widget-view+json": {
           "model_id": "eeb4b955292e42118aaa3da1cbc10463",
           "version_major": 2,
           "version_minor": 0
          },
          "text/plain": "Plot(antialias=3, axes=['x', 'y', 'z'], background_color=16777215, camera=[4.5, 4.5, 4.5, 0.0, 0.0, 0.0, 1.0, …"
         },
         "metadata": {},
         "output_type": "display_data"
        }
       ]
      }
     },
     "6156860cff96461787c02793369d9270": {
      "model_module": "@jupyter-widgets/base",
      "model_module_version": "1.2.0",
      "model_name": "LayoutModel",
      "state": {}
     },
     "a5d5a7258e3140cbb7beff17432ab30a": {
      "model_module": "k3d",
      "model_module_version": "2.7.2",
      "model_name": "PlotModel",
      "state": {
       "_backend_version": "2.7.2",
       "_dom_classes": [],
       "_view_count": null,
       "antialias": 3,
       "auto_rendering": true,
       "axes": [
        "x",
        "y",
        "z"
       ],
       "axes_helper": 1,
       "background_color": 16777215,
       "camera": [
        5.815408281643133,
        -7.2231124224647,
        0.5815398446876735,
        0,
        1.5,
        -9.834766387939453e-07,
        0,
        0,
        1
       ],
       "camera_auto_fit": true,
       "camera_fov": 60,
       "camera_no_pan": false,
       "camera_no_rotate": false,
       "camera_no_zoom": false,
       "clipping_planes": [],
       "colorbar_object_id": -1,
       "fps": 25,
       "fps_meter": false,
       "grid": [
        -1,
        -1,
        -1,
        1,
        1,
        1
       ],
       "grid_auto_fit": true,
       "grid_visible": true,
       "height": 512,
       "layout": "IPY_MODEL_c4c9d58d3b9a4e20a64999c511ca4039",
       "lighting": 1.5,
       "menu_visibility": true,
       "mode": "view",
       "name": null,
       "object_ids": [
        140480933250512
       ],
       "rendering_steps": 1,
       "screenshot": "",
       "screenshot_scale": 2,
       "snapshot": "",
       "time": 0,
       "voxel_paint_color": 0
      }
     },
     "c4c9d58d3b9a4e20a64999c511ca4039": {
      "model_module": "@jupyter-widgets/base",
      "model_module_version": "1.2.0",
      "model_name": "LayoutModel",
      "state": {}
     },
     "ccfdf5ce26c5457dab9b9fb799bf175e": {
      "model_module": "@jupyter-widgets/output",
      "model_module_version": "1.0.0",
      "model_name": "OutputModel",
      "state": {
       "layout": "IPY_MODEL_dff989e969ed4975b91cda0c10e836b6",
       "outputs": [
        {
         "data": {
          "application/vnd.jupyter.widget-view+json": {
           "model_id": "a5d5a7258e3140cbb7beff17432ab30a",
           "version_major": 2,
           "version_minor": 0
          },
          "text/plain": "Plot(antialias=3, axes=['x', 'y', 'z'], axes_helper=1.0, background_color=16777215, camera=[4.5, 4.5, 4.5, 0.0…"
         },
         "metadata": {},
         "output_type": "display_data"
        }
       ]
      }
     },
     "dfdc5cedc7f04f5290086327bcfe02ed": {
      "buffers": [
       {
        "data": "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",
        "encoding": "base64",
        "path": [
         "heights",
         "compressed_buffer"
        ]
       },
       {
        "data": "eNpjYDjgwIABHKBiB+wRYg32mOoa7AGFyQP+",
        "encoding": "base64",
        "path": [
         "model_matrix",
         "compressed_buffer"
        ]
       }
      ],
      "model_module": "k3d",
      "model_module_version": "2.7.2",
      "model_name": "ObjectModel",
      "state": {
       "_view_count": null,
       "_view_module": null,
       "_view_module_version": "",
       "_view_name": null,
       "color": 255,
       "compression_level": 0,
       "flat_shading": true,
       "heights": {
        "compressed_buffer": {},
        "dtype": "float32",
        "shape": [
         80,
         40
        ]
       },
       "id": 2291153628912,
       "model_matrix": {
        "compressed_buffer": {},
        "dtype": "float32",
        "shape": [
         4,
         4
        ]
       },
       "name": null,
       "type": "Surface",
       "visible": true,
       "wireframe": false
      }
     },
     "dff989e969ed4975b91cda0c10e836b6": {
      "model_module": "@jupyter-widgets/base",
      "model_module_version": "1.2.0",
      "model_name": "LayoutModel",
      "state": {}
     },
     "eeb4b955292e42118aaa3da1cbc10463": {
      "model_module": "k3d",
      "model_module_version": "2.7.2",
      "model_name": "PlotModel",
      "state": {
       "_backend_version": "2.6.7",
       "_dom_classes": [],
       "_view_count": null,
       "antialias": 3,
       "axes": [
        "x",
        "y",
        "z"
       ],
       "background_color": 16777215,
       "camera": [
        4.0154670435020625,
        -2.5128414072501863,
        8.833060876082065,
        0,
        1.5,
        -9.834766387939453e-07,
        -0.49747310042190385,
        0.6418429527678703,
        0.5835735929073895
       ],
       "camera_auto_fit": true,
       "camera_no_pan": false,
       "camera_no_rotate": false,
       "camera_no_zoom": false,
       "clipping_planes": [],
       "colorbar_object_id": -1,
       "fps_meter": false,
       "grid": [
        -1,
        -1,
        -1,
        1,
        1,
        1
       ],
       "grid_auto_fit": true,
       "grid_visible": true,
       "height": 512,
       "layout": "IPY_MODEL_0c976fd71b734f51b4fd947c23928b68",
       "lighting": 1,
       "menu_visibility": true,
       "object_ids": [
        2291153628912
       ],
       "rendering_steps": 1,
       "screenshot": "",
       "screenshot_scale": 2,
       "time": 0,
       "voxel_paint_color": 0
      }
     }
    },
    "version_major": 2,
    "version_minor": 0
   }
  }
 },
 "nbformat": 4,
 "nbformat_minor": 2
}
