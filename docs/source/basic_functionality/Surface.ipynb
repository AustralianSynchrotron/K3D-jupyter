{
 "cells": [
  {
   "cell_type": "markdown",
   "metadata": {},
   "source": [
    "## Surface"
   ]
  },
  {
   "cell_type": "code",
   "execution_count": 1,
   "metadata": {},
   "outputs": [
    {
     "data": {
      "application/vnd.jupyter.widget-view+json": {
       "model_id": "a2a4c5dfae8c40adac613841919f52d7",
       "version_major": 2,
       "version_minor": 0
      },
      "text/plain": [
       "Output()"
      ]
     },
     "metadata": {},
     "output_type": "display_data"
    }
   ],
   "source": [
    "import numpy as np\n",
    "import k3d\n",
    "\n",
    "plot = k3d.plot()\n",
    "\n",
    "Nx, Ny = 30, 60\n",
    "xmin, xmax, ymin, ymax = -3, 3, 0, 3\n",
    "\n",
    "x = np.linspace(xmin, xmax, Nx, dtype=np.float32)\n",
    "y = np.linspace(ymin, ymax, Ny, dtype=np.float32)\n",
    "x, y = np.meshgrid(x, y)\n",
    "\n",
    "heights = np.sin(x**2 + y**2)\n",
    "\n",
    "plt_surface = k3d.surface(heights, xmin=xmin, xmax=xmax, ymin=ymin, ymax=ymax)\n",
    "plot += plt_surface\n",
    "\n",
    "plot.display()"
   ]
  }
 ],
 "metadata": {
  "kernelspec": {
   "display_name": "Python 3",
   "language": "python",
   "name": "python3"
  },
  "language_info": {
   "codemirror_mode": {
    "name": "ipython",
    "version": 3
   },
   "file_extension": ".py",
   "mimetype": "text/x-python",
   "name": "python",
   "nbconvert_exporter": "python",
   "pygments_lexer": "ipython3",
   "version": "3.6.6"
  },
  "widgets": {
   "application/vnd.jupyter.widget-state+json": {
    "state": {
     "02987923b28545f6ba65b69b4e0a16c0": {
      "model_module": "@jupyter-widgets/base",
      "model_module_version": "1.1.0",
      "model_name": "LayoutModel",
      "state": {}
     },
     "0605b8490de245f19d50fea1b4bba87f": {
      "model_module": "k3d",
      "model_module_version": "^3.0.0",
      "model_name": "PlotModel",
      "state": {
       "_backend_version": "2.4.20",
       "_dom_classes": [],
       "_model_module_version": "^3.0.0",
       "_view_count": null,
       "_view_module_version": "^3.0.0",
       "antialias": true,
       "background_color": 16777215,
       "camera": [
        11.355321838718247,
        -4.148930536329461,
        4.98417418312038,
        0,
        0,
        -3.3020973205566406e-05,
        -0.3359202502412351,
        0.036703227117064585,
        0.941175041422728
       ],
       "camera_auto_fit": true,
       "clipping_planes": [],
       "fps_meter": false,
       "grid": [
        -1,
        -1,
        -1,
        1,
        1,
        1
       ],
       "grid_auto_fit": true,
       "height": 512,
       "layout": "IPY_MODEL_0f96d870ec2b477b948b3c237a7ac4c8",
       "lighting": 1,
       "object_ids": [
        140676062174120
       ],
       "screenshot": "",
       "screenshot_scale": 2,
       "voxel_paint_color": 0
      }
     },
     "06ee720b42d94948a75b3a3bdd005a4d": {
      "buffers": [
       {
        "data": "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",
        "encoding": "base64",
        "path": [
         "heights",
         "buffer"
        ]
       },
       {
        "data": "AADAQAAAAAAAAAAAAAAAAAAAAAAAAMBAAAAAAAAAAAAAAAAAAAAAAAAAgD8AAAAAAAAAAAAAAAAAAAAAAACAPw==",
        "encoding": "base64",
        "path": [
         "model_matrix",
         "buffer"
        ]
       }
      ],
      "model_module": "k3d",
      "model_module_version": "^3.0.0",
      "model_name": "ObjectModel",
      "state": {
       "_model_module_version": "^3.0.0",
       "_view_count": null,
       "_view_module": null,
       "_view_module_version": "",
       "_view_name": null,
       "color": 255,
       "compression_level": 0,
       "flat_shading": true,
       "heights": {
        "dtype": "float32",
        "shape": [
         60,
         30
        ]
       },
       "id": 139859585525800,
       "model_matrix": {
        "dtype": "float32",
        "shape": [
         4,
         4
        ]
       },
       "type": "Surface",
       "visible": true,
       "wireframe": false
      }
     },
     "083a830fc4ab4b9bb76ff5dbd55a2f81": {
      "model_module": "@jupyter-widgets/base",
      "model_module_version": "1.1.0",
      "model_name": "LayoutModel",
      "state": {}
     },
     "0c871e92339a43e889304eb53b04adfa": {
      "model_module": "k3d",
      "model_module_version": "^3.0.0",
      "model_name": "PlotModel",
      "state": {
       "_backend_version": "2.4.20",
       "_dom_classes": [],
       "_model_module_version": "^3.0.0",
       "_view_count": null,
       "_view_module_version": "^3.0.0",
       "antialias": true,
       "background_color": 16777215,
       "camera": [
        2.8778826572598577,
        -4.316823985889787,
        0.28778826572598526,
        0,
        0,
        0,
        0,
        0,
        1
       ],
       "camera_auto_fit": true,
       "clipping_planes": [],
       "fps_meter": false,
       "grid": [
        -1,
        -1,
        -1,
        1,
        1,
        1
       ],
       "grid_auto_fit": true,
       "height": 512,
       "layout": "IPY_MODEL_87f95b5787854b829fd111b025009250",
       "lighting": 1,
       "object_ids": [
        140676062172104
       ],
       "screenshot": "",
       "screenshot_scale": 2,
       "voxel_paint_color": 0
      }
     },
     "0e7059a1a9ed4a52aa14d53a2f5cf622": {
      "model_module": "@jupyter-widgets/base",
      "model_module_version": "1.1.0",
      "model_name": "LayoutModel",
      "state": {}
     },
     "0f96d870ec2b477b948b3c237a7ac4c8": {
      "model_module": "@jupyter-widgets/base",
      "model_module_version": "1.1.0",
      "model_name": "LayoutModel",
      "state": {}
     },
     "1f19dcef0ad640b8a54b8562613dfccb": {
      "model_module": "@jupyter-widgets/base",
      "model_module_version": "1.1.0",
      "model_name": "LayoutModel",
      "state": {}
     },
     "234ce6ee01b44ae4a18efb6d0a1face8": {
      "model_module": "k3d",
      "model_module_version": "^3.0.0",
      "model_name": "PlotModel",
      "state": {
       "_backend_version": "2.4.20",
       "_dom_classes": [],
       "_model_module_version": "^3.0.0",
       "_view_count": null,
       "_view_module_version": "^3.0.0",
       "antialias": true,
       "background_color": 16777215,
       "camera": [
        2.8778826572598577,
        -4.316823985889787,
        0.28778826572598526,
        0,
        0,
        0,
        0,
        0,
        1
       ],
       "camera_auto_fit": true,
       "clipping_planes": [],
       "fps_meter": false,
       "grid": [
        -1,
        -1,
        -1,
        1,
        1,
        1
       ],
       "grid_auto_fit": true,
       "height": 512,
       "layout": "IPY_MODEL_0e7059a1a9ed4a52aa14d53a2f5cf622",
       "lighting": 1,
       "object_ids": [
        140676062071496
       ],
       "screenshot": "",
       "screenshot_scale": 2,
       "voxel_paint_color": 0
      }
     },
     "248064de639a4ebfa9bd411f220e9cfb": {
      "model_module": "@jupyter-widgets/output",
      "model_module_version": "1.0.0",
      "model_name": "OutputModel",
      "state": {
       "layout": "IPY_MODEL_24fa0dec696f454d976889290cfb2a0d",
       "outputs": [
        {
         "data": {
          "application/vnd.jupyter.widget-view+json": {
           "model_id": "234ce6ee01b44ae4a18efb6d0a1face8",
           "version_major": 2,
           "version_minor": 0
          },
          "text/plain": "Plot(antialias=True, background_color=16777215, fps_meter=False, grid=[-1, -1, -1, 1, 1, 1], height=512, light…"
         },
         "metadata": {},
         "output_type": "display_data"
        }
       ]
      }
     },
     "24fa0dec696f454d976889290cfb2a0d": {
      "model_module": "@jupyter-widgets/base",
      "model_module_version": "1.1.0",
      "model_name": "LayoutModel",
      "state": {}
     },
     "2853f5edab864f3bbfd4146100c8fbf5": {
      "buffers": [
       {
        "data": "MgHTPoSlfz+m3sk+5ywVv2b+f79vHym/C/5HPYpuKz9EzHg/SlF2P6UkQz8VLAA//VmHPjDyxD2vVC88r1QvPDDyxD39WYc+FSwAP6UkQz9KUXY/RMx4P4puKz8L/kc9bx8pv2b+f7/nLBW/pt7JPoSlfz8yAdM+QczRPjOufz/mFcs+FKMUv/78f798nim/HGo9PY/wKj8mpHg/PH92PyaSQz+mvgA/s6CIPkM3yj0esFk8HrBZPEM3yj2zoIg+pr4APyaSQz88f3Y/JqR4P4/wKj8caj09fJ4pv/78f78UoxS/5hXLPjOufz9BzNE+SivOPp7Ffz+Ouc4+FQQTvyf2f7/pGSu/L6wdPdh0KT87KXg/jQZ3P6bYRD8EdQI/a3OMPmAE2j30X6w89F+sPGAE2j1rc4w+BHUCP6bYRD+NBnc/Oyl4P9h0KT8vrB096Rkrvyf2f78VBBO/jrnOPp7Ffz9KK84+/RfIPubjfz9Gw9Q+X0sQv/7hf79pjC2/+H/RPDb2Jj/hU3c/nt93PxHyRj8nSwU/x82SPqdS9D0IHgs9CB4LPadS9D3HzZI+J0sFPxHyRj+e33c/4VN3Pzb2Jj/4f9E8aYwtv/7hf79fSxC/RsPUPubjfz/9F8g+IYi/Pub7fz/nJ90+pnEMv2Gzf78G7TC/rwr1OyRsIz9sF3Y/r/14PyPUST8iOgk/EqibPmmKDD6ZLVU9mS1VPWmKDD4SqJs+IjoJPyPUST+v/Xg/bBd2PyRsIz+vCvU7Bu0wv2Gzf7+mcQy/5yfdPub7fz8hiL8+rW60Pjf7fz8R1+c+CW0Hv/JXf7/TLjW/z1qBvBvLHj8/YnQ/y056Py5wTT/fNw4/mfamPkgaJD6IJZo9iCWaPUgaJD6Z9qY+3zcOPy5wTT/LTno/P2J0PxvLHj/PWoG80y41v/JXf78JbQe/EdfnPjf7fz+tbrQ+3LumPjTKfz8/uvQ+ijEBvyO4fr+iQDq/eBw1vekEGT/wHXI/sLt7P9qyUT+2NhQ/w6i0PlfHQD4TKNQ9EyjUPVfHQD7DqLQ+tjYUP9qyUT+wu3s/8B1yP+kEGT94HDW9okA6vyO4fr+KMQG/P7r0PjTKfz/cu6Y+L1+WPgBMfz/e2QE/JWPzvku3fb+eDEC/eEKfvTEJEj+IL28/tCd9P8mDVj/1JBs/+afEPjl3Yj6UPgw+lD4MPjl3Yj75p8Q+9SQbP8mDVj+0J30/iC9vPzEJEj94Qp+9ngxAv0u3fb8lY/O+3tkBPwBMfz8vX5Y+YUiDPqlefj+4Tgo/O73hvskzfL/Nd0a/CU7uvRvGCT/Ld2s/vXB+PzrFWz9I7CI/QdbWPu2BhD63dzM+t3czPu2BhD5B1tY+SOwiPzrFWz+9cH4/y3drPxvGCT8JTu69zXdGv8kzfL87veG+uE4KP6lefj9hSIM+4dJaPlHbfD+soxM/QVTNvkUHer+OYU2/m7kjvg0pAD+l02Y/NG9/P65TYT8lcSs/wAzrPhgcmj5Xl18+V5dfPhgcmj7ADOs+JXErP65TYT80b38/pdNmPw0pAD+buSO+jmFNv0UHer9BVM2+rKMTP1HbfD/h0lo+FXApPnmWej8Tux0/6gy2vgoHd783o1S/xClVvmQ/6j7DHGE/H/Z/P4IFZz8QkjQ/Ao0APzLmsT4DMog+AzKIPjLmsT4CjQA/EJI0P4IFZz8f9n8/wxxhP2Q/6j7EKVW+N6NUvwoHd7/qDLa+E7sdP3mWej8VcCk+gsTkPYBgdz/WcCg/ENCbvoUEc79tD1y/45mFvhky0T5IKlo/UNN/P6aqbD8AJz4/HmAMP++wyz5jx6I+Y8eiPu+wyz4eYAw/ACc+P6aqbD9Q038/SCpaPxky0T7jmYW+bQ9cv4UEc78Q0Ju+1nAoP4Bgdz+CxOQ9u9JWPTQGcz+XmTM/nhp9vvrNbb/qcWO/QL2ivqINtT7E0VE/vc9+P2cMcj+vAEg/rdkYP3g/5z4/V78+P1e/Png/5z6t2Rg/rwBIP2cMcj+9z34/xNFRP6INtT5AvaK+6nFjv/rNbb+eGn2+l5kzPzQGcz+70lY9105HvLVRbT8cAj8/Xnw8vncvZ78kj2q/V8HBvre9lT5d6Ec/GbB8P17tdj8S6FE/r8slP6QiAj+xnd0+sZ3dPqQiAj+vyyU/EuhRP17tdj8ZsHw/XehHP7e9lT5XwcG+JI9qv3cvZ79efDy+HAI/P7VRbT/XTke8ZrGnvZALZj+Jbko/AaXrvQH0Xr8uJHG/AVfivlhzZj49RDw/mzV5P5cJez/snVs/Uv8yPwIyET8XRf0+F0X9PgIyET9S/zI/7J1bP5cJez+bNXk/PUQ8P1hzZj4BV+K+LiRxvwH0Xr8Bpeu9iW5KP5ALZj9msae9Sw8gvkT8XD8LmlU/2S0lvRPnVL/l5na/jg0Cv50QGz5Ivi4/KB90P/UWfj+Q2mQ/PjRAP8qUID/z8Q4/8/EOP8qUID8+NEA/kNpkP/UWfj8oH3Q/SL4uP50QGz6ODQK/5eZ2vxPnVL/ZLSW9C5pVP0T8XD9LDyC+yoVwvtPtUT+ZNmA/KAYjPW/WSL9mhnu/M0oTvycOkz0gNB8/xyptP/TFfz/uTW0/ISBNPzoHMD9YfR8/WH0fPzoHMD8hIE0/7k1tP/TFfz/HKm0/IDQfPycOkz0zShO/ZoZ7v2/WSL8oBiM9mTZgP9PtUT/KhXC++juivhiuRD8a7Wk/BZr/PUiUOr/Vq36/25gkv6ptXLxqig0/fRdkP8fCfz/9n3Q/fW5ZP0w6Pz9U+S8/VPkvP0w6Pz99blk//Z90P8fCfz99F2Q/aooNP6ptXLzbmCS/1at+v0iUOr8Fmv89Gu1pPxiuRD/6O6K+ZXTNvh4RNT/fXXI/UBdbPtL5Kb+2+3+/ZKQ1v1Z/1L2zXvM+oadYP/S2fT+HcXo/zsBkP23TTT9LDkA/Sw5AP23TTT/OwGQ/h3F6P/S2fT+hp1g/s17zPlZ/1L1kpDW/tvt/v9L5Kb9QF1s+311yPx4RNT9ldM2+PU/5vgj0Ij+8IXk/CdGcPhLqFr+0F3+/1ApGvy4LS74ZO8c+f6NKP25LeT+HXX4/QK9uP7BsWz9kWE8/ZFhPP7BsWz9Ar24/h11+P25LeT9/o0o/GTvHPi4LS77UCka/tBd/vxLqFr8J0Zw+vCF5Pwj0Ij89T/m+m4cSvzpADj+ky30/FBXNPgJVAb8NoXu/ol1Vv6CFl77jvZY+ndw5P0Yrcj8Y+38/4sl2P4WVZz/8Z10//GddP4WVZz/iyXY/GPt/P0Yrcj+d3Dk/472WPqCFl76iXVW/DaF7vwJVAb8UFc0+pMt9PzpADj+bhxK/4+onv5/d7T786n8/YpH9PiN20r6ZO3W/qCJjv9Zqyr6sP0Q+LDEmP/EGaD8Y4H4/l5p8PxjUcT+6wmk/usJpPxjUcT+Xmnw/GOB+P/EGaD8sMSY/rD9EPtZqyr6oImO/mTt1vyN20r5ikf0+/Op/P5/d7T7j6ie/01E8v00Yuj6lDn8/+qwWP/Jgnb59kWu/vNVuvypY/b5gEac9AJAPPyWYWj99pHo/yKd/P4SneT955XM/eeVzP4SneT/Ip38/faR6PyWYWj8AkA8/YBGnPSpY/b681W6/fZFrv/Jgnb76rBY/pQ5/P00Yuj7TUTy/PC1Pv5l3gT7qyHo/i64tP8aDR76ZV16/Net3v+WjF78OBA69evnrPlGmST9z5nI/7Hd/P8uKfj/wRns/8EZ7P8uKfj/sd38/c+ZyP1GmST96+es+DgQOveWjF78163e/mVdev8aDR76Lri0/6sh6P5l3gT48LU+/rOBfv2zuCD4ltHI/2DJDPy2XmL1iUk2/eNN9vxqGL79sSx++1SezPokLNT88T2c//pV7P+D4fz+AW38/gFt/P+D4fz/+lXs/PE9nP4kLNT/VJ7M+bEsfvhqGL794032/YlJNvy2XmL3YMkM/JbRyP2zuCD6s4F+/QMVtvzqn8ztNeGY/v49WP/VZVT12Wzi/i/9/v6OpRb+Q6Y6+wjxqPse5HD+ymFc/yZZzP6BxfT/tmX8/7Zl/P6BxfT/JlnM/sphXP8e5HD/CPGo+kOmOvqOpRb+L/3+/dls4v/VZVT2/j1Y/TXhmPzqn8ztAxW2/JS54v9Uo/r0y0VU/9A5nPxhTOz57Zx+/w+Z9v/RVWb/yT86+YkjKPYHAAD+Kk0M/JR9nP9F/dj8wgXs/MIF7P9F/dj8lH2c/ipNDP4HAAD9iSMo98k/OvvRVWb/D5n2/e2cfvxhTOz70Dmc/MtFVP9Uo/r0lLni/WG5+vwlYhL4WlUA/y/JzPz6LoT7qiwK/hw13vzTHab/HMQa/rgIcvbKjwj60LSs/1upVPwrAaj9Vn3I/VZ9yPwrAaj/W6lU/tC0rP7Kjwj6uAhy9xzEGvzTHab+HDXe/6osCvz6LoT7L8nM/FpVAPwlYhL5Ybn6/ot9/v2oayb41vCY/onx8P7vE5D5HCsS+Ig1rvyQ0dr+LvCO/bqA3vlEfez5JeQ4/HtQ/P4DoWT9HmWQ/R5lkP4DoWT8e1D8/SXkOP1Efez5uoDe+i7wjvyQ0dr8iDWu/RwrEvrvE5D6ifHw/NbwmP2oayb6i33+/M+t7v/8HBr9TZwg/zfR/PyPGEj8n7Xi+SZxZv5fVfb+o2z6/3sekvjZCzT2HZds+XNskPzrRQz9DM1E/QzNRPzrRQz9c2yQ/h2XbPjZCzT3ex6S+qNs+v5fVfb9JnFm/J+14viPGEj/N9H8/U2cIP/8HBr8z63u/PxNyv/SdJb+yzcs+BrR9P97wMD9iNb69NphCv5jvf78ikVa/+Ybsvo+CVb3sjZI+sy4FP6B8KD+zWTg/s1k4P6B8KD+zLgU/7I2SPo+CVb35huy+IpFWv5jvf782mEK/YjW+vd7wMD8GtH0/ss3LPvSdJb8/E3K/pv1hv6Q4Qr9qAn8+QC51P2PNSz+ta4Q91g0mvyDce7+i1Wm/pHQYv4VTVb7sXgc+ImLCPskfCD8bKho/GyoaP8kfCD8iYsI+7F4HPoVTVb6kdBi/otVpvyDce7/WDSa/rWuEPWPNSz9ALnU/agJ/PqQ4Qr+m/WG/G39LvxmyWr/VnbU9ev5lPzo6Yj/5Cmc+l0IEvxsXcb8Eo3e/lck3vzN1ur52Kfi8Rf9lPsJTxj599u0+ffbtPsJTxj5F/2U+din4vDN1ur6VyTe/BKN3vxsXcb+XQgS/+QpnPjo6Yj96/mU/1Z21PRmyWr8bf0u/N6Yuv3zfbb+FJqK9E/NPPxIVcz9aU8U+8Xe7vjlLX7/sAH+/ngFTv4jLA7/byEm+tWlvPX8oaT45yJ4+OciePn8oaT61aW8928hJvojLA7+eAVO/7AB/vzlLX7/xd7u+WlPFPhIVcz8T808/hSaivXzfbb83pi6/OcYLvw2fer9Gzn++PBozP6FIfT/r5gk/2hVNvjJfRr+SE3+/StVov3WmJ7+W5rm+AXrqvaw6Zz0RBBE+EQQRPqw6Zz0Beuq9lua5vnWmJ79K1Wi/khN/vzJfRr/aFU2+6+YJP6FIfT88GjM/Rs5/vg2fer85xgu/fv7GvjLof78Y2dW+CM0PPzHdfz+i/C0/Pmi+vEOCJr9FLHe/pAV4vxdSR7+EzQW/cPKTvjMQ+b17qRS9e6kUvTMQ+b1w8pO+hM0FvxdSR7+kBXi/RSx3v0OCJr8+aL68ovwtPzHdfz8IzQ8/GNnVvjLof79+/sa+whNbvundfL8VlhO/yXLNPtkKej+fV00/3HcjPno3AL/Y2ma/GG5/v8dLYb/HZCu/KO/qvlj8mb5gVl++YFZfvlj8mb4o7+q+x2Qrv8dLYb8Ybn+/2Npmv3o3AL/cdyM+n1dNP9kKej/Jcs0+FZYTv+ndfL/CE1u+fBjcvH/icL/9NTi/Xp9jPuFMaz/IYGY/wByvPhy8qL4K/02/5xh+v1kadL8OB0y/lA4ev4Td8r5Db8u+Q2/LvoTd8r6UDh6/DgdMv1kadL/nGH6/Cv9Nvxy8qL7AHK8+yGBmP+FMaz9en2M+/TU4v3/icL98GNy8/0AqPqKrW7+nA1e/R8T3PCx1Uz9eknc/UEUEP4zYEL7c2Cy/7lRzv0Nkfr/c/2W/b+ZBv5WVIr+NFBG/jRQRv5WVIr9v5kG/3P9lv0Nkfr/uVHO/3Ngsv4zYEL5QRQQ/XpJ3Pyx1Uz9HxPc8pwNXv6KrW7//QCo+IEu3Pm9VPb/qPm6/DRAsvmu+Mj/qkH8/XAEtPxD5aT1GFgS/4ctev40If78isHe/iSBfv/Z6Rr+g7Te/oO03v/Z6Rr+JIF+/IrB3v40If7/hy16/RhYEvxD5aT1cAS0/6pB/P2u+Mj8NECy+6j5uv29VPb8gS7c+2TkKP99yFr86S3y/M566vvraCT+TRn0/va5PPwRShD7uuKm+JJdAv1Y5db/iqX+/2vFzv0omY7/mOFi/5jhYv0omY7/a8XO/4ql/v1Y5db8kl0C/7ripvgRShD69rk8/k0Z9P/raCT8znrq+Okt8v99yFr/ZOQo/hwA0P+0z0L4Gzn+/d9QMvw7/sz6P/28/NUNqP09B6D6KLgO+41EZv2GWYL8gzny/IsF+v0C7dr+t/W+/rf1vv0C7dr8iwX6/IM58v2GWYL/jURm/ii4Dvk9B6D41Q2o/j/9vPw7/sz531Ay/Bs5/v+0z0L6HADQ/D6NWP/+iT74Nz3e/9R83v+6XEz6bhVc/b996PzUMIj8GL7A920rUvnJFQb+7a26/RUh+v8Kbf79Fdn2/RXZ9v8Kbf79FSH6/u2tuv3JFQb/bStS+Bi+wPTUMIj9v33o/m4VXP+6XEz71Hze/Dc93v/+iT74Po1Y/E+RvP9M6fzwl2GO/4LdZv/m2mb2PODQ/z/N/P6paST9UMJo+BzxTvqYGGL/dXFS/X7Zxv9mLfL9zNH+/czR/v9mLfL9ftnG/3VxUv6YGGL8HPFO+VDCaPqpaST/P838/jzg0P/m2mb3gt1m/Jdhjv9M6fzwT5G8/Zch9P3jrcz5EEkS/FUVyvzdWl77SIAc/PWd4P/SKZz/UmQE/mpKMPNqCzL5LIC+/hdBYvy/WbL9yR3S/ckd0vy/WbL+F0Fi/SyAvv9qCzL6akow81JkBP/SKZz89Z3g/0iAHPzdWl74VRXK/RBJEv3jrcz5lyH0//8J+PzYp6D63XBm/zr9+vyp0Ab8X86M+x7xjP3FYej/NiTA/zKB6Ps0gOL7b1/++9w00v8htUL8OYFy/DmBcv8htUL/3DTS/29f/vs0gOL7MoHo+zYkwP3FYej/HvGM/F/OjPip0Ab/Ov36/t1wZvzYp6D7/wn4/XOFxP1USJj9Dtcq+bZ99vyxfMb9ddLk9xTRCP//rfz9P5FY/2ZXtPu0LXz0JaZG+HawEv3cJKL+M7ze/jO83v3cJKL8drAS/CWmRvu0LXz3Zle0+T+RWP//rfz/FNEI/XXS5PSxfMb9tn32/Q7XKvlUSJj9c4XE/h/RWP1+wTz8c0ym+oQluv2A6WL/kyhi+OuYUP5sNdz+Z13E/qmApPxjTlD6RkEK9jm+Zvvpr6r4NPgi/DT4Iv/pr6r6Ob5m+kZBCvRjTlD6qYCk/mddxP5sNdz865hQ/5MoYvmA6WL+hCW6/HNMpvl+wTz+H9FY/ZrIuP1LZbT+coaE9y/xPv9cPc7+XNMW+9Za7PmBTXz9z/34/LvhSPz69Az9vh0k+6HNwvWhpab7p556+6eeevmhpab7oc3C9b4dJPj69Az8u+FI/c/9+P2BTXz/1lrs+lzTFvtcPc7/L/E+/nKGhPVLZbT9msi4/rpX1PoTnfT91z6U+u3Akv1Vmf7/eJRq/LPr9PR1IOT/4onw/TltwP2sXNj+yMN4+YHRDPjWbqjwnloS9J5aEvTWbqjxgdEM+sjDePmsXNj9OW3A/+KJ8Px1IOT8s+v093iUav1Vmf7+7cCS/dc+lPoTnfT+ulfU+a693PofofT84hg0/cdHavsKDe78z30i/M2YGvl2FBj8j72k/ydV+PzO3XT8a3iU/PMndPs7piz4Uk0I+FJNCPs7piz48yd0+Gt4lPzO3XT/J1X4/I+9pP12FBj8zZga+M99Iv8KDe79x0dq+OIYNP4fofT9rr3c+wNeJvHLebD8HzT8/j8o3vpirZr/kCGu/f/bDvud0kz7yKEc/Z358P049dz9jllI/CbQmP2gpAz/6w98++sPfPmgpAz8JtCY/Y5ZSP049dz9nfnw/8ihHP+d0kz5/9sO+5Ahrv5irZr+Pyje+B80/P3LebD/A14m8wQiPvhL3Sj8lqWU/bpavPQRSQb+Sc32/t8Qcv+yf0zx5zxU/PHtoP37/fz/SeHE/uPRTPwplOD/uiCg/7ogoPwplOD+49FM/0nhxP37/fz88e2g/ec8VP+yf0zy3xBy/knN9vwRSQb9ulq89JallPxL3Sj/BCI++0c8GvxKyGT8FlHs/7BOzPjw9Db/a1H2/AkxNv+gCeb4vUbE+wDlDPyladj/MbH8/wLByP4pCYT/ZCFY/2QhWP4pCYT/AsHI/zGx/Pyladj/AOUM/L1GxPugCeb4CTE2/2tR9vzw9Db/sE7M+BZR7PxKyGT/Rzwa/USA9v0Petz66834/paMXP9Uam74yGWu/HUNvv6dq/74ajJ09jJIOP3L4WT+XZXo/7LZ/P3PqeT+pQXQ/qUF0P3PqeT/stn8/l2V6P3L4WT+Mkg4/GoydPadq/74dQ2+/Mhlrv9Uam76loxc/uvN+P0Petz5RID2/iaVlvwnorj2sdW4/XQRLPyel1LwTpkW/3yR/v19fOL9uQ1C+p6KbPhAJLD+mtGE/Bv14P398fz/H738/x+9/P398fz8G/Xg/prRhPxAJLD+nops+bkNQvl9fOL/fJH+/E6ZFvyel1LxdBEs/rHVuPwnorj2JpWW/A0d8v9HrTL56WEo/edtuP/ohhD7Hgg+/PaF6v9kaY7/DxfG+SjKzPHas3j6vRzY/H/ZdP+5ycD/bFHc/2xR3P+5ycD8f9l0/r0c2P3as3j5KMrM8w8XxvtkaY789oXq/x4IPv/ohhD55224/elhKP9HrTL4DR3y/jR1+v/OZ8r6omhQ/cEN/P4uABj9Ivpi+cvxgv7qCe78ZwjS/n7SIvpnlID6WkfU+lNEvP/HzTD+dUVk/nVFZP/HzTD+U0S8/lpH1PpnlID6ftIi+GcI0v7qCe79y/GC/SL6YvouABj9wQ38/qJoUP/OZ8r6NHX6/zuFpvzIGNr8/B6I+mb95PwJqQD/S5Le7LFUzv4d1fr+X72G/S6EJv+VuDr5JWU4+ei7jPjwFFz+CJCg/giQoPzwFFz96LuM+SVlOPuVuDr5LoQm/l+9hv4d1fr8sVTO/0uS3uwJqQD+Zv3k/PweiPjIGNr/O4Wm/s0BAv5ZiY7/+tZ88T6hdPzr7aT+HyJU+zofpvt6Mar9QiXu/p69Dv2MH2765o8u9mlkgPoQqpT4nAM4+JwDOPoQqpT6aWSA+uaPLvWMH276nr0O/UIl7v96Mar/Oh+m+h8iVPjr7aT9PqF0//rWfPJZiY7+zQEC/",
        "encoding": "base64",
        "path": [
         "heights",
         "buffer"
        ]
       },
       {
        "data": "AADAQAAAAAAAAAAAAAAAAAAAAAAAAEBAAAAAAAAAwD8AAAAAAAAAAAAAgD8AAAAAAAAAAAAAAAAAAAAAAACAPw==",
        "encoding": "base64",
        "path": [
         "model_matrix",
         "buffer"
        ]
       }
      ],
      "model_module": "k3d",
      "model_module_version": "^3.0.0",
      "model_name": "ObjectModel",
      "state": {
       "_model_module_version": "^3.0.0",
       "_view_count": null,
       "_view_module": null,
       "_view_module_version": "",
       "_view_name": null,
       "color": 255,
       "compression_level": 0,
       "flat_shading": true,
       "heights": {
        "dtype": "float32",
        "shape": [
         60,
         30
        ]
       },
       "id": 140628168848048,
       "model_matrix": {
        "dtype": "float32",
        "shape": [
         4,
         4
        ]
       },
       "type": "Surface",
       "visible": true,
       "wireframe": false
      }
     },
     "3210e78f55e040e1a83eb507f1b9e16b": {
      "model_module": "@jupyter-widgets/base",
      "model_module_version": "1.1.0",
      "model_name": "LayoutModel",
      "state": {}
     },
     "3eac6e2a04a7420fbec4209805b66fb1": {
      "buffers": [
       {
        "data": "MgHTPoSlfz+m3sk+5ywVv2b+f79vHym/C/5HPYpuKz9EzHg/SlF2P6UkQz8VLAA//VmHPjDyxD2vVC88r1QvPDDyxD39WYc+FSwAP6UkQz9KUXY/RMx4P4puKz8L/kc9bx8pv2b+f7/nLBW/pt7JPoSlfz8yAdM+QczRPjOufz/mFcs+FKMUv/78f798nim/HGo9PY/wKj8mpHg/PH92PyaSQz+mvgA/s6CIPkM3yj0esFk8HrBZPEM3yj2zoIg+pr4APyaSQz88f3Y/JqR4P4/wKj8caj09fJ4pv/78f78UoxS/5hXLPjOufz9BzNE+SivOPp7Ffz+Ouc4+FQQTvyf2f7/pGSu/L6wdPdh0KT87KXg/jQZ3P6bYRD8EdQI/a3OMPmAE2j30X6w89F+sPGAE2j1rc4w+BHUCP6bYRD+NBnc/Oyl4P9h0KT8vrB096Rkrvyf2f78VBBO/jrnOPp7Ffz9KK84+/RfIPubjfz9Gw9Q+X0sQv/7hf79pjC2/+H/RPDb2Jj/hU3c/nt93PxHyRj8nSwU/x82SPqdS9D0IHgs9CB4LPadS9D3HzZI+J0sFPxHyRj+e33c/4VN3Pzb2Jj/4f9E8aYwtv/7hf79fSxC/RsPUPubjfz/9F8g+IYi/Pub7fz/nJ90+pnEMv2Gzf78G7TC/rwr1OyRsIz9sF3Y/r/14PyPUST8iOgk/EqibPmmKDD6ZLVU9mS1VPWmKDD4SqJs+IjoJPyPUST+v/Xg/bBd2PyRsIz+vCvU7Bu0wv2Gzf7+mcQy/5yfdPub7fz8hiL8+rW60Pjf7fz8R1+c+CW0Hv/JXf7/TLjW/z1qBvBvLHj8/YnQ/y056Py5wTT/fNw4/mfamPkgaJD6IJZo9iCWaPUgaJD6Z9qY+3zcOPy5wTT/LTno/P2J0PxvLHj/PWoG80y41v/JXf78JbQe/EdfnPjf7fz+tbrQ+3LumPjTKfz8/uvQ+ijEBvyO4fr+iQDq/eBw1vekEGT/wHXI/sLt7P9qyUT+2NhQ/w6i0PlfHQD4TKNQ9EyjUPVfHQD7DqLQ+tjYUP9qyUT+wu3s/8B1yP+kEGT94HDW9okA6vyO4fr+KMQG/P7r0PjTKfz/cu6Y+L1+WPgBMfz/e2QE/JWPzvku3fb+eDEC/eEKfvTEJEj+IL28/tCd9P8mDVj/1JBs/+afEPjl3Yj6UPgw+lD4MPjl3Yj75p8Q+9SQbP8mDVj+0J30/iC9vPzEJEj94Qp+9ngxAv0u3fb8lY/O+3tkBPwBMfz8vX5Y+YUiDPqlefj+4Tgo/O73hvskzfL/Nd0a/CU7uvRvGCT/Ld2s/vXB+PzrFWz9I7CI/QdbWPu2BhD63dzM+t3czPu2BhD5B1tY+SOwiPzrFWz+9cH4/y3drPxvGCT8JTu69zXdGv8kzfL87veG+uE4KP6lefj9hSIM+4dJaPlHbfD+soxM/QVTNvkUHer+OYU2/m7kjvg0pAD+l02Y/NG9/P65TYT8lcSs/wAzrPhgcmj5Xl18+V5dfPhgcmj7ADOs+JXErP65TYT80b38/pdNmPw0pAD+buSO+jmFNv0UHer9BVM2+rKMTP1HbfD/h0lo+FXApPnmWej8Tux0/6gy2vgoHd783o1S/xClVvmQ/6j7DHGE/H/Z/P4IFZz8QkjQ/Ao0APzLmsT4DMog+AzKIPjLmsT4CjQA/EJI0P4IFZz8f9n8/wxxhP2Q/6j7EKVW+N6NUvwoHd7/qDLa+E7sdP3mWej8VcCk+gsTkPYBgdz/WcCg/ENCbvoUEc79tD1y/45mFvhky0T5IKlo/UNN/P6aqbD8AJz4/HmAMP++wyz5jx6I+Y8eiPu+wyz4eYAw/ACc+P6aqbD9Q038/SCpaPxky0T7jmYW+bQ9cv4UEc78Q0Ju+1nAoP4Bgdz+CxOQ9u9JWPTQGcz+XmTM/nhp9vvrNbb/qcWO/QL2ivqINtT7E0VE/vc9+P2cMcj+vAEg/rdkYP3g/5z4/V78+P1e/Png/5z6t2Rg/rwBIP2cMcj+9z34/xNFRP6INtT5AvaK+6nFjv/rNbb+eGn2+l5kzPzQGcz+70lY9105HvLVRbT8cAj8/Xnw8vncvZ78kj2q/V8HBvre9lT5d6Ec/GbB8P17tdj8S6FE/r8slP6QiAj+xnd0+sZ3dPqQiAj+vyyU/EuhRP17tdj8ZsHw/XehHP7e9lT5XwcG+JI9qv3cvZ79efDy+HAI/P7VRbT/XTke8ZrGnvZALZj+Jbko/AaXrvQH0Xr8uJHG/AVfivlhzZj49RDw/mzV5P5cJez/snVs/Uv8yPwIyET8XRf0+F0X9PgIyET9S/zI/7J1bP5cJez+bNXk/PUQ8P1hzZj4BV+K+LiRxvwH0Xr8Bpeu9iW5KP5ALZj9msae9Sw8gvkT8XD8LmlU/2S0lvRPnVL/l5na/jg0Cv50QGz5Ivi4/KB90P/UWfj+Q2mQ/PjRAP8qUID/z8Q4/8/EOP8qUID8+NEA/kNpkP/UWfj8oH3Q/SL4uP50QGz6ODQK/5eZ2vxPnVL/ZLSW9C5pVP0T8XD9LDyC+yoVwvtPtUT+ZNmA/KAYjPW/WSL9mhnu/M0oTvycOkz0gNB8/xyptP/TFfz/uTW0/ISBNPzoHMD9YfR8/WH0fPzoHMD8hIE0/7k1tP/TFfz/HKm0/IDQfPycOkz0zShO/ZoZ7v2/WSL8oBiM9mTZgP9PtUT/KhXC++juivhiuRD8a7Wk/BZr/PUiUOr/Vq36/25gkv6ptXLxqig0/fRdkP8fCfz/9n3Q/fW5ZP0w6Pz9U+S8/VPkvP0w6Pz99blk//Z90P8fCfz99F2Q/aooNP6ptXLzbmCS/1at+v0iUOr8Fmv89Gu1pPxiuRD/6O6K+ZXTNvh4RNT/fXXI/UBdbPtL5Kb+2+3+/ZKQ1v1Z/1L2zXvM+oadYP/S2fT+HcXo/zsBkP23TTT9LDkA/Sw5AP23TTT/OwGQ/h3F6P/S2fT+hp1g/s17zPlZ/1L1kpDW/tvt/v9L5Kb9QF1s+311yPx4RNT9ldM2+PU/5vgj0Ij+8IXk/CdGcPhLqFr+0F3+/1ApGvy4LS74ZO8c+f6NKP25LeT+HXX4/QK9uP7BsWz9kWE8/ZFhPP7BsWz9Ar24/h11+P25LeT9/o0o/GTvHPi4LS77UCka/tBd/vxLqFr8J0Zw+vCF5Pwj0Ij89T/m+m4cSvzpADj+ky30/FBXNPgJVAb8NoXu/ol1Vv6CFl77jvZY+ndw5P0Yrcj8Y+38/4sl2P4WVZz/8Z10//GddP4WVZz/iyXY/GPt/P0Yrcj+d3Dk/472WPqCFl76iXVW/DaF7vwJVAb8UFc0+pMt9PzpADj+bhxK/4+onv5/d7T786n8/YpH9PiN20r6ZO3W/qCJjv9Zqyr6sP0Q+LDEmP/EGaD8Y4H4/l5p8PxjUcT+6wmk/usJpPxjUcT+Xmnw/GOB+P/EGaD8sMSY/rD9EPtZqyr6oImO/mTt1vyN20r5ikf0+/Op/P5/d7T7j6ie/01E8v00Yuj6lDn8/+qwWP/Jgnb59kWu/vNVuvypY/b5gEac9AJAPPyWYWj99pHo/yKd/P4SneT955XM/eeVzP4SneT/Ip38/faR6PyWYWj8AkA8/YBGnPSpY/b681W6/fZFrv/Jgnb76rBY/pQ5/P00Yuj7TUTy/PC1Pv5l3gT7qyHo/i64tP8aDR76ZV16/Net3v+WjF78OBA69evnrPlGmST9z5nI/7Hd/P8uKfj/wRns/8EZ7P8uKfj/sd38/c+ZyP1GmST96+es+DgQOveWjF78163e/mVdev8aDR76Lri0/6sh6P5l3gT48LU+/rOBfv2zuCD4ltHI/2DJDPy2XmL1iUk2/eNN9vxqGL79sSx++1SezPokLNT88T2c//pV7P+D4fz+AW38/gFt/P+D4fz/+lXs/PE9nP4kLNT/VJ7M+bEsfvhqGL794032/YlJNvy2XmL3YMkM/JbRyP2zuCD6s4F+/QMVtvzqn8ztNeGY/v49WP/VZVT12Wzi/i/9/v6OpRb+Q6Y6+wjxqPse5HD+ymFc/yZZzP6BxfT/tmX8/7Zl/P6BxfT/JlnM/sphXP8e5HD/CPGo+kOmOvqOpRb+L/3+/dls4v/VZVT2/j1Y/TXhmPzqn8ztAxW2/JS54v9Uo/r0y0VU/9A5nPxhTOz57Zx+/w+Z9v/RVWb/yT86+YkjKPYHAAD+Kk0M/JR9nP9F/dj8wgXs/MIF7P9F/dj8lH2c/ipNDP4HAAD9iSMo98k/OvvRVWb/D5n2/e2cfvxhTOz70Dmc/MtFVP9Uo/r0lLni/WG5+vwlYhL4WlUA/y/JzPz6LoT7qiwK/hw13vzTHab/HMQa/rgIcvbKjwj60LSs/1upVPwrAaj9Vn3I/VZ9yPwrAaj/W6lU/tC0rP7Kjwj6uAhy9xzEGvzTHab+HDXe/6osCvz6LoT7L8nM/FpVAPwlYhL5Ybn6/ot9/v2oayb41vCY/onx8P7vE5D5HCsS+Ig1rvyQ0dr+LvCO/bqA3vlEfez5JeQ4/HtQ/P4DoWT9HmWQ/R5lkP4DoWT8e1D8/SXkOP1Efez5uoDe+i7wjvyQ0dr8iDWu/RwrEvrvE5D6ifHw/NbwmP2oayb6i33+/M+t7v/8HBr9TZwg/zfR/PyPGEj8n7Xi+SZxZv5fVfb+o2z6/3sekvjZCzT2HZds+XNskPzrRQz9DM1E/QzNRPzrRQz9c2yQ/h2XbPjZCzT3ex6S+qNs+v5fVfb9JnFm/J+14viPGEj/N9H8/U2cIP/8HBr8z63u/PxNyv/SdJb+yzcs+BrR9P97wMD9iNb69NphCv5jvf78ikVa/+Ybsvo+CVb3sjZI+sy4FP6B8KD+zWTg/s1k4P6B8KD+zLgU/7I2SPo+CVb35huy+IpFWv5jvf782mEK/YjW+vd7wMD8GtH0/ss3LPvSdJb8/E3K/pv1hv6Q4Qr9qAn8+QC51P2PNSz+ta4Q91g0mvyDce7+i1Wm/pHQYv4VTVb7sXgc+ImLCPskfCD8bKho/GyoaP8kfCD8iYsI+7F4HPoVTVb6kdBi/otVpvyDce7/WDSa/rWuEPWPNSz9ALnU/agJ/PqQ4Qr+m/WG/G39LvxmyWr/VnbU9ev5lPzo6Yj/5Cmc+l0IEvxsXcb8Eo3e/lck3vzN1ur52Kfi8Rf9lPsJTxj599u0+ffbtPsJTxj5F/2U+din4vDN1ur6VyTe/BKN3vxsXcb+XQgS/+QpnPjo6Yj96/mU/1Z21PRmyWr8bf0u/N6Yuv3zfbb+FJqK9E/NPPxIVcz9aU8U+8Xe7vjlLX7/sAH+/ngFTv4jLA7/byEm+tWlvPX8oaT45yJ4+OciePn8oaT61aW8928hJvojLA7+eAVO/7AB/vzlLX7/xd7u+WlPFPhIVcz8T808/hSaivXzfbb83pi6/OcYLvw2fer9Gzn++PBozP6FIfT/r5gk/2hVNvjJfRr+SE3+/StVov3WmJ7+W5rm+AXrqvaw6Zz0RBBE+EQQRPqw6Zz0Beuq9lua5vnWmJ79K1Wi/khN/vzJfRr/aFU2+6+YJP6FIfT88GjM/Rs5/vg2fer85xgu/fv7GvjLof78Y2dW+CM0PPzHdfz+i/C0/Pmi+vEOCJr9FLHe/pAV4vxdSR7+EzQW/cPKTvjMQ+b17qRS9e6kUvTMQ+b1w8pO+hM0FvxdSR7+kBXi/RSx3v0OCJr8+aL68ovwtPzHdfz8IzQ8/GNnVvjLof79+/sa+whNbvundfL8VlhO/yXLNPtkKej+fV00/3HcjPno3AL/Y2ma/GG5/v8dLYb/HZCu/KO/qvlj8mb5gVl++YFZfvlj8mb4o7+q+x2Qrv8dLYb8Ybn+/2Npmv3o3AL/cdyM+n1dNP9kKej/Jcs0+FZYTv+ndfL/CE1u+fBjcvH/icL/9NTi/Xp9jPuFMaz/IYGY/wByvPhy8qL4K/02/5xh+v1kadL8OB0y/lA4ev4Td8r5Db8u+Q2/LvoTd8r6UDh6/DgdMv1kadL/nGH6/Cv9Nvxy8qL7AHK8+yGBmP+FMaz9en2M+/TU4v3/icL98GNy8/0AqPqKrW7+nA1e/R8T3PCx1Uz9eknc/UEUEP4zYEL7c2Cy/7lRzv0Nkfr/c/2W/b+ZBv5WVIr+NFBG/jRQRv5WVIr9v5kG/3P9lv0Nkfr/uVHO/3Ngsv4zYEL5QRQQ/XpJ3Pyx1Uz9HxPc8pwNXv6KrW7//QCo+IEu3Pm9VPb/qPm6/DRAsvmu+Mj/qkH8/XAEtPxD5aT1GFgS/4ctev40If78isHe/iSBfv/Z6Rr+g7Te/oO03v/Z6Rr+JIF+/IrB3v40If7/hy16/RhYEvxD5aT1cAS0/6pB/P2u+Mj8NECy+6j5uv29VPb8gS7c+2TkKP99yFr86S3y/M566vvraCT+TRn0/va5PPwRShD7uuKm+JJdAv1Y5db/iqX+/2vFzv0omY7/mOFi/5jhYv0omY7/a8XO/4ql/v1Y5db8kl0C/7ripvgRShD69rk8/k0Z9P/raCT8znrq+Okt8v99yFr/ZOQo/hwA0P+0z0L4Gzn+/d9QMvw7/sz6P/28/NUNqP09B6D6KLgO+41EZv2GWYL8gzny/IsF+v0C7dr+t/W+/rf1vv0C7dr8iwX6/IM58v2GWYL/jURm/ii4Dvk9B6D41Q2o/j/9vPw7/sz531Ay/Bs5/v+0z0L6HADQ/D6NWP/+iT74Nz3e/9R83v+6XEz6bhVc/b996PzUMIj8GL7A920rUvnJFQb+7a26/RUh+v8Kbf79Fdn2/RXZ9v8Kbf79FSH6/u2tuv3JFQb/bStS+Bi+wPTUMIj9v33o/m4VXP+6XEz71Hze/Dc93v/+iT74Po1Y/E+RvP9M6fzwl2GO/4LdZv/m2mb2PODQ/z/N/P6paST9UMJo+BzxTvqYGGL/dXFS/X7Zxv9mLfL9zNH+/czR/v9mLfL9ftnG/3VxUv6YGGL8HPFO+VDCaPqpaST/P838/jzg0P/m2mb3gt1m/Jdhjv9M6fzwT5G8/Zch9P3jrcz5EEkS/FUVyvzdWl77SIAc/PWd4P/SKZz/UmQE/mpKMPNqCzL5LIC+/hdBYvy/WbL9yR3S/ckd0vy/WbL+F0Fi/SyAvv9qCzL6akow81JkBP/SKZz89Z3g/0iAHPzdWl74VRXK/RBJEv3jrcz5lyH0//8J+PzYp6D63XBm/zr9+vyp0Ab8X86M+x7xjP3FYej/NiTA/zKB6Ps0gOL7b1/++9w00v8htUL8OYFy/DmBcv8htUL/3DTS/29f/vs0gOL7MoHo+zYkwP3FYej/HvGM/F/OjPip0Ab/Ov36/t1wZvzYp6D7/wn4/XOFxP1USJj9Dtcq+bZ99vyxfMb9ddLk9xTRCP//rfz9P5FY/2ZXtPu0LXz0JaZG+HawEv3cJKL+M7ze/jO83v3cJKL8drAS/CWmRvu0LXz3Zle0+T+RWP//rfz/FNEI/XXS5PSxfMb9tn32/Q7XKvlUSJj9c4XE/h/RWP1+wTz8c0ym+oQluv2A6WL/kyhi+OuYUP5sNdz+Z13E/qmApPxjTlD6RkEK9jm+Zvvpr6r4NPgi/DT4Iv/pr6r6Ob5m+kZBCvRjTlD6qYCk/mddxP5sNdz865hQ/5MoYvmA6WL+hCW6/HNMpvl+wTz+H9FY/ZrIuP1LZbT+coaE9y/xPv9cPc7+XNMW+9Za7PmBTXz9z/34/LvhSPz69Az9vh0k+6HNwvWhpab7p556+6eeevmhpab7oc3C9b4dJPj69Az8u+FI/c/9+P2BTXz/1lrs+lzTFvtcPc7/L/E+/nKGhPVLZbT9msi4/rpX1PoTnfT91z6U+u3Akv1Vmf7/eJRq/LPr9PR1IOT/4onw/TltwP2sXNj+yMN4+YHRDPjWbqjwnloS9J5aEvTWbqjxgdEM+sjDePmsXNj9OW3A/+KJ8Px1IOT8s+v093iUav1Vmf7+7cCS/dc+lPoTnfT+ulfU+a693PofofT84hg0/cdHavsKDe78z30i/M2YGvl2FBj8j72k/ydV+PzO3XT8a3iU/PMndPs7piz4Uk0I+FJNCPs7piz48yd0+Gt4lPzO3XT/J1X4/I+9pP12FBj8zZga+M99Iv8KDe79x0dq+OIYNP4fofT9rr3c+wNeJvHLebD8HzT8/j8o3vpirZr/kCGu/f/bDvud0kz7yKEc/Z358P049dz9jllI/CbQmP2gpAz/6w98++sPfPmgpAz8JtCY/Y5ZSP049dz9nfnw/8ihHP+d0kz5/9sO+5Ahrv5irZr+Pyje+B80/P3LebD/A14m8wQiPvhL3Sj8lqWU/bpavPQRSQb+Sc32/t8Qcv+yf0zx5zxU/PHtoP37/fz/SeHE/uPRTPwplOD/uiCg/7ogoPwplOD+49FM/0nhxP37/fz88e2g/ec8VP+yf0zy3xBy/knN9vwRSQb9ulq89JallPxL3Sj/BCI++0c8GvxKyGT8FlHs/7BOzPjw9Db/a1H2/AkxNv+gCeb4vUbE+wDlDPyladj/MbH8/wLByP4pCYT/ZCFY/2QhWP4pCYT/AsHI/zGx/Pyladj/AOUM/L1GxPugCeb4CTE2/2tR9vzw9Db/sE7M+BZR7PxKyGT/Rzwa/USA9v0Petz66834/paMXP9Uam74yGWu/HUNvv6dq/74ajJ09jJIOP3L4WT+XZXo/7LZ/P3PqeT+pQXQ/qUF0P3PqeT/stn8/l2V6P3L4WT+Mkg4/GoydPadq/74dQ2+/Mhlrv9Uam76loxc/uvN+P0Petz5RID2/iaVlvwnorj2sdW4/XQRLPyel1LwTpkW/3yR/v19fOL9uQ1C+p6KbPhAJLD+mtGE/Bv14P398fz/H738/x+9/P398fz8G/Xg/prRhPxAJLD+nops+bkNQvl9fOL/fJH+/E6ZFvyel1LxdBEs/rHVuPwnorj2JpWW/A0d8v9HrTL56WEo/edtuP/ohhD7Hgg+/PaF6v9kaY7/DxfG+SjKzPHas3j6vRzY/H/ZdP+5ycD/bFHc/2xR3P+5ycD8f9l0/r0c2P3as3j5KMrM8w8XxvtkaY789oXq/x4IPv/ohhD55224/elhKP9HrTL4DR3y/jR1+v/OZ8r6omhQ/cEN/P4uABj9Ivpi+cvxgv7qCe78ZwjS/n7SIvpnlID6WkfU+lNEvP/HzTD+dUVk/nVFZP/HzTD+U0S8/lpH1PpnlID6ftIi+GcI0v7qCe79y/GC/SL6YvouABj9wQ38/qJoUP/OZ8r6NHX6/zuFpvzIGNr8/B6I+mb95PwJqQD/S5Le7LFUzv4d1fr+X72G/S6EJv+VuDr5JWU4+ei7jPjwFFz+CJCg/giQoPzwFFz96LuM+SVlOPuVuDr5LoQm/l+9hv4d1fr8sVTO/0uS3uwJqQD+Zv3k/PweiPjIGNr/O4Wm/s0BAv5ZiY7/+tZ88T6hdPzr7aT+HyJU+zofpvt6Mar9QiXu/p69Dv2MH2765o8u9mlkgPoQqpT4nAM4+JwDOPoQqpT6aWSA+uaPLvWMH276nr0O/UIl7v96Mar/Oh+m+h8iVPjr7aT9PqF0//rWfPJZiY7+zQEC/",
        "encoding": "base64",
        "path": [
         "heights",
         "buffer"
        ]
       },
       {
        "data": "AADAQAAAAAAAAAAAAAAAAAAAAAAAAEBAAAAAAAAAwD8AAAAAAAAAAAAAgD8AAAAAAAAAAAAAAAAAAAAAAACAPw==",
        "encoding": "base64",
        "path": [
         "model_matrix",
         "buffer"
        ]
       }
      ],
      "model_module": "k3d",
      "model_module_version": "^3.0.0",
      "model_name": "ObjectModel",
      "state": {
       "_model_module_version": "^3.0.0",
       "_view_count": null,
       "_view_module": null,
       "_view_module_version": "",
       "_view_name": null,
       "color": 255,
       "compression_level": 0,
       "flat_shading": true,
       "heights": {
        "dtype": "float32",
        "shape": [
         60,
         30
        ]
       },
       "id": 139783740460728,
       "model_matrix": {
        "dtype": "float32",
        "shape": [
         4,
         4
        ]
       },
       "type": "Surface",
       "visible": true,
       "wireframe": false
      }
     },
     "4613955120b845f1925525a920f721aa": {
      "model_module": "@jupyter-widgets/base",
      "model_module_version": "1.1.0",
      "model_name": "LayoutModel",
      "state": {}
     },
     "4826c689dd5845da92cc4667200794d9": {
      "model_module": "k3d",
      "model_module_version": "^3.0.0",
      "model_name": "PlotModel",
      "state": {
       "_backend_version": "2.4.20",
       "_dom_classes": [],
       "_model_module_version": "^3.0.0",
       "_view_count": null,
       "_view_module_version": "^3.0.0",
       "antialias": true,
       "background_color": 16777215,
       "camera": [
        5.815408649488064,
        -7.223112974232098,
        0.5815404775186208,
        0,
        1.5,
        -3.8743019104003906e-07,
        0,
        0,
        1
       ],
       "camera_auto_fit": true,
       "clipping_planes": [],
       "fps_meter": false,
       "grid": [
        -1,
        -1,
        -1,
        1,
        1,
        1
       ],
       "grid_auto_fit": true,
       "height": 512,
       "layout": "IPY_MODEL_02987923b28545f6ba65b69b4e0a16c0",
       "lighting": 1,
       "object_ids": [
        140628168848048
       ],
       "screenshot": "",
       "screenshot_scale": 2,
       "voxel_paint_color": 0
      }
     },
     "4dc139783a694bcfbf0e6be0ff56c7c9": {
      "model_module": "@jupyter-widgets/output",
      "model_module_version": "1.0.0",
      "model_name": "OutputModel",
      "state": {
       "layout": "IPY_MODEL_6c81f9b30c4c4be79c5d06c43ba9aeb8",
       "outputs": [
        {
         "data": {
          "application/vnd.jupyter.widget-view+json": {
           "model_id": "afc823fc74f14186991025bb1092dd69",
           "version_major": 2,
           "version_minor": 0
          },
          "text/plain": "Plot(antialias=True, background_color=16777215, fps_meter=False, grid=[-1, -1, -1, 1, 1, 1], height=512, light…"
         },
         "metadata": {},
         "output_type": "display_data"
        }
       ]
      }
     },
     "52f27811ba0148acb2ca5b430e2a010c": {
      "model_module": "@jupyter-widgets/base",
      "model_module_version": "1.1.0",
      "model_name": "LayoutModel",
      "state": {}
     },
     "597bc1d128a645d3a3c0fe4a1078ef0d": {
      "model_module": "@jupyter-widgets/output",
      "model_module_version": "1.0.0",
      "model_name": "OutputModel",
      "state": {
       "layout": "IPY_MODEL_4613955120b845f1925525a920f721aa",
       "outputs": [
        {
         "data": {
          "application/vnd.jupyter.widget-view+json": {
           "model_id": "72c6f8a001374d98a40e6879847efe23",
           "version_major": 2,
           "version_minor": 0
          },
          "text/plain": "Plot(antialias=True, background_color=16777215, fps_meter=False, grid=[-1, -1, -1, 1, 1, 1], height=512, light…"
         },
         "metadata": {},
         "output_type": "display_data"
        }
       ]
      }
     },
     "6c81f9b30c4c4be79c5d06c43ba9aeb8": {
      "model_module": "@jupyter-widgets/base",
      "model_module_version": "1.1.0",
      "model_name": "LayoutModel",
      "state": {}
     },
     "72c6f8a001374d98a40e6879847efe23": {
      "model_module": "k3d",
      "model_module_version": "^3.0.0",
      "model_name": "PlotModel",
      "state": {
       "_backend_version": "2.4.20",
       "_dom_classes": [],
       "_model_module_version": "^3.0.0",
       "_view_count": null,
       "_view_module_version": "^3.0.0",
       "antialias": true,
       "background_color": 16777215,
       "camera": [
        7.242497283724277,
        -10.86374592558642,
        0.724216707399229,
        0,
        0,
        -3.3020973205566406e-05,
        0,
        0,
        1
       ],
       "camera_auto_fit": true,
       "clipping_planes": [],
       "fps_meter": false,
       "grid": [
        -1,
        -1,
        -1,
        1,
        1,
        1
       ],
       "grid_auto_fit": true,
       "height": 512,
       "layout": "IPY_MODEL_c91bd27da90947688b8282a15762b6b6",
       "lighting": 1,
       "object_ids": [
        139859585525800
       ],
       "screenshot": "",
       "screenshot_scale": 2,
       "voxel_paint_color": 0
      }
     },
     "741de440827b46e2a41e8281fdab1f84": {
      "model_module": "@jupyter-widgets/output",
      "model_module_version": "1.0.0",
      "model_name": "OutputModel",
      "state": {
       "layout": "IPY_MODEL_89a0b6e7270541fdbf5f6f2192dbfc52",
       "outputs": [
        {
         "data": {
          "application/vnd.jupyter.widget-view+json": {
           "model_id": "deddd1bc7cf241a4b95187c40dba19df",
           "version_major": 2,
           "version_minor": 0
          },
          "text/plain": "Plot(antialias=True, background_color=16777215, fps_meter=False, grid=[-1, -1, -1, 1, 1, 1], height=512, light…"
         },
         "metadata": {},
         "output_type": "display_data"
        }
       ]
      }
     },
     "74b6f97a6e1a4fe2a951f9de9a5e34c9": {
      "buffers": [
       {
        "data": "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",
        "encoding": "base64",
        "path": [
         "heights",
         "buffer"
        ]
       },
       {
        "data": "AADAQAAAAAAAAAAAAAAAAAAAAAAAAAAAAAAAAAAAQEAAAAAAAAAAAAAAgD8AAAAAAAAAAAAAAAAAAAAAAACAPw==",
        "encoding": "base64",
        "path": [
         "model_matrix",
         "buffer"
        ]
       }
      ],
      "model_module": "k3d",
      "model_module_version": "^3.0.0",
      "model_name": "ObjectModel",
      "state": {
       "_model_module_version": "^3.0.0",
       "_view_count": null,
       "_view_module": null,
       "_view_module_version": "",
       "_view_name": null,
       "color": 255,
       "compression_level": 0,
       "flat_shading": true,
       "heights": {
        "dtype": "float32",
        "shape": [
         60,
         30
        ]
       },
       "id": 140676062171880,
       "model_matrix": {
        "dtype": "float32",
        "shape": [
         4,
         4
        ]
       },
       "type": "Surface",
       "visible": true,
       "wireframe": false
      }
     },
     "799ca031c01c475885f6ee3be30b9302": {
      "model_module": "@jupyter-widgets/base",
      "model_module_version": "1.1.0",
      "model_name": "LayoutModel",
      "state": {}
     },
     "8012ff73ceb448dab8a6001717c807f0": {
      "buffers": [
       {
        "data": "s0BAv5ZiY7/+tZ88T6hdPzr7aT+HyJU+zofpvt6Mar9QiXu/p69Dv2MH2765o8u9mlkgPoQqpT4nAM4+JwDOPoQqpT6aWSA+uaPLvWMH276nr0O/UIl7v96Mar/Oh+m+h8iVPjr7aT9PqF0//rWfPJZiY7+zQEC/jR1+v/OZ8r6omhQ/cEN/P4uABj9Ivpi+cvxgv7qCe78ZwjS/n7SIvpnlID6WkfU+lNEvP/HzTD+dUVk/nVFZP/HzTD+U0S8/lpH1PpnlID6ftIi+GcI0v7qCe79y/GC/SL6YvouABj9wQ38/qJoUP/OZ8r6NHX6/iaVlvwnorj2sdW4/XQRLPyel1LwTpkW/3yR/v19fOL9uQ1C+p6KbPhAJLD+mtGE/Bv14P398fz/H738/x+9/P398fz8G/Xg/prRhPxAJLD+nops+bkNQvl9fOL/fJH+/E6ZFvyel1LxdBEs/rHVuPwnorj2JpWW/0c8GvxKyGT8FlHs/7BOzPjw9Db/a1H2/AkxNv+gCeb4vUbE+wDlDPyladj/MbH8/wLByP4pCYT/ZCFY/2QhWP4pCYT/AsHI/zGx/Pyladj/AOUM/L1GxPugCeb4CTE2/2tR9vzw9Db/sE7M+BZR7PxKyGT/Rzwa/wNeJvHLebD8HzT8/j8o3vpirZr/kCGu/f/bDvud0kz7yKEc/Z358P049dz9jllI/CbQmP2gpAz/6w98++sPfPmgpAz8JtCY/Y5ZSP049dz9nfnw/8ihHP+d0kz5/9sO+5Ahrv5irZr+Pyje+B80/P3LebD/A14m8rpX1PoTnfT91z6U+u3Akv1Vmf7/eJRq/LPr9PR1IOT/4onw/TltwP2sXNj+yMN4+YHRDPjWbqjwnloS9J5aEvTWbqjxgdEM+sjDePmsXNj9OW3A/+KJ8Px1IOT8s+v093iUav1Vmf7+7cCS/dc+lPoTnfT+ulfU+h/RWP1+wTz8c0ym+oQluv2A6WL/kyhi+OuYUP5sNdz+Z13E/qmApPxjTlD6RkEK9jm+Zvvpr6r4NPgi/DT4Iv/pr6r6Ob5m+kZBCvRjTlD6qYCk/mddxP5sNdz865hQ/5MoYvmA6WL+hCW6/HNMpvl+wTz+H9FY//8J+PzYp6D63XBm/zr9+vyp0Ab8X86M+x7xjP3FYej/NiTA/zKB6Ps0gOL7b1/++9w00v8htUL8OYFy/DmBcv8htUL/3DTS/29f/vs0gOL7MoHo+zYkwP3FYej/HvGM/F/OjPip0Ab/Ov36/t1wZvzYp6D7/wn4/E+RvP9M6fzwl2GO/4LdZv/m2mb2PODQ/z/N/P6paST9UMJo+BzxTvqYGGL/dXFS/X7Zxv9mLfL9zNH+/czR/v9mLfL9ftnG/3VxUv6YGGL8HPFO+VDCaPqpaST/P838/jzg0P/m2mb3gt1m/Jdhjv9M6fzwT5G8/hwA0P+0z0L4Gzn+/d9QMvw7/sz6P/28/NUNqP09B6D6KLgO+41EZv2GWYL8gzny/IsF+v0C7dr+t/W+/rf1vv0C7dr8iwX6/IM58v2GWYL/jURm/ii4Dvk9B6D41Q2o/j/9vPw7/sz531Ay/Bs5/v+0z0L6HADQ/IEu3Pm9VPb/qPm6/DRAsvmu+Mj/qkH8/XAEtPxD5aT1GFgS/4ctev40If78isHe/iSBfv/Z6Rr+g7Te/oO03v/Z6Rr+JIF+/IrB3v40If7/hy16/RhYEvxD5aT1cAS0/6pB/P2u+Mj8NECy+6j5uv29VPb8gS7c+fBjcvH/icL/9NTi/Xp9jPuFMaz/IYGY/wByvPhy8qL4K/02/5xh+v1kadL8OB0y/lA4ev4Td8r5Db8u+Q2/LvoTd8r6UDh6/DgdMv1kadL/nGH6/Cv9Nvxy8qL7AHK8+yGBmP+FMaz9en2M+/TU4v3/icL98GNy8fv7GvjLof78Y2dW+CM0PPzHdfz+i/C0/Pmi+vEOCJr9FLHe/pAV4vxdSR7+EzQW/cPKTvjMQ+b17qRS9e6kUvTMQ+b1w8pO+hM0FvxdSR7+kBXi/RSx3v0OCJr8+aL68ovwtPzHdfz8IzQ8/GNnVvjLof79+/sa+N6Yuv3zfbb+FJqK9E/NPPxIVcz9aU8U+8Xe7vjlLX7/sAH+/ngFTv4jLA7/byEm+tWlvPX8oaT45yJ4+OciePn8oaT61aW8928hJvojLA7+eAVO/7AB/vzlLX7/xd7u+WlPFPhIVcz8T808/hSaivXzfbb83pi6/pv1hv6Q4Qr9qAn8+QC51P2PNSz+ta4Q91g0mvyDce7+i1Wm/pHQYv4VTVb7sXgc+ImLCPskfCD8bKho/GyoaP8kfCD8iYsI+7F4HPoVTVb6kdBi/otVpvyDce7/WDSa/rWuEPWPNSz9ALnU/agJ/PqQ4Qr+m/WG/M+t7v/8HBr9TZwg/zfR/PyPGEj8n7Xi+SZxZv5fVfb+o2z6/3sekvjZCzT2HZds+XNskPzrRQz9DM1E/QzNRPzrRQz9c2yQ/h2XbPjZCzT3ex6S+qNs+v5fVfb9JnFm/J+14viPGEj/N9H8/U2cIP/8HBr8z63u/WG5+vwlYhL4WlUA/y/JzPz6LoT7qiwK/hw13vzTHab/HMQa/rgIcvbKjwj60LSs/1upVPwrAaj9Vn3I/VZ9yPwrAaj/W6lU/tC0rP7Kjwj6uAhy9xzEGvzTHab+HDXe/6osCvz6LoT7L8nM/FpVAPwlYhL5Ybn6/QMVtvzqn8ztNeGY/v49WP/VZVT12Wzi/i/9/v6OpRb+Q6Y6+wjxqPse5HD+ymFc/yZZzP6BxfT/tmX8/7Zl/P6BxfT/JlnM/sphXP8e5HD/CPGo+kOmOvqOpRb+L/3+/dls4v/VZVT2/j1Y/TXhmPzqn8ztAxW2/PC1Pv5l3gT7qyHo/i64tP8aDR76ZV16/Net3v+WjF78OBA69evnrPlGmST9z5nI/7Hd/P8uKfj/wRns/8EZ7P8uKfj/sd38/c+ZyP1GmST96+es+DgQOveWjF78163e/mVdev8aDR76Lri0/6sh6P5l3gT48LU+/4+onv5/d7T786n8/YpH9PiN20r6ZO3W/qCJjv9Zqyr6sP0Q+LDEmP/EGaD8Y4H4/l5p8PxjUcT+6wmk/usJpPxjUcT+Xmnw/GOB+P/EGaD8sMSY/rD9EPtZqyr6oImO/mTt1vyN20r5ikf0+/Op/P5/d7T7j6ie/PU/5vgj0Ij+8IXk/CdGcPhLqFr+0F3+/1ApGvy4LS74ZO8c+f6NKP25LeT+HXX4/QK9uP7BsWz9kWE8/ZFhPP7BsWz9Ar24/h11+P25LeT9/o0o/GTvHPi4LS77UCka/tBd/vxLqFr8J0Zw+vCF5Pwj0Ij89T/m++juivhiuRD8a7Wk/BZr/PUiUOr/Vq36/25gkv6ptXLxqig0/fRdkP8fCfz/9n3Q/fW5ZP0w6Pz9U+S8/VPkvP0w6Pz99blk//Z90P8fCfz99F2Q/aooNP6ptXLzbmCS/1at+v0iUOr8Fmv89Gu1pPxiuRD/6O6K+Sw8gvkT8XD8LmlU/2S0lvRPnVL/l5na/jg0Cv50QGz5Ivi4/KB90P/UWfj+Q2mQ/PjRAP8qUID/z8Q4/8/EOP8qUID8+NEA/kNpkP/UWfj8oH3Q/SL4uP50QGz6ODQK/5eZ2vxPnVL/ZLSW9C5pVP0T8XD9LDyC+105HvLVRbT8cAj8/Xnw8vncvZ78kj2q/V8HBvre9lT5d6Ec/GbB8P17tdj8S6FE/r8slP6QiAj+xnd0+sZ3dPqQiAj+vyyU/EuhRP17tdj8ZsHw/XehHP7e9lT5XwcG+JI9qv3cvZ79efDy+HAI/P7VRbT/XTke8gsTkPYBgdz/WcCg/ENCbvoUEc79tD1y/45mFvhky0T5IKlo/UNN/P6aqbD8AJz4/HmAMP++wyz5jx6I+Y8eiPu+wyz4eYAw/ACc+P6aqbD9Q038/SCpaPxky0T7jmYW+bQ9cv4UEc78Q0Ju+1nAoP4Bgdz+CxOQ94dJaPlHbfD+soxM/QVTNvkUHer+OYU2/m7kjvg0pAD+l02Y/NG9/P65TYT8lcSs/wAzrPhgcmj5Xl18+V5dfPhgcmj7ADOs+JXErP65TYT80b38/pdNmPw0pAD+buSO+jmFNv0UHer9BVM2+rKMTP1HbfD/h0lo+L1+WPgBMfz/e2QE/JWPzvku3fb+eDEC/eEKfvTEJEj+IL28/tCd9P8mDVj/1JBs/+afEPjl3Yj6UPgw+lD4MPjl3Yj75p8Q+9SQbP8mDVj+0J30/iC9vPzEJEj94Qp+9ngxAv0u3fb8lY/O+3tkBPwBMfz8vX5Y+rW60Pjf7fz8R1+c+CW0Hv/JXf7/TLjW/z1qBvBvLHj8/YnQ/y056Py5wTT/fNw4/mfamPkgaJD6IJZo9iCWaPUgaJD6Z9qY+3zcOPy5wTT/LTno/P2J0PxvLHj/PWoG80y41v/JXf78JbQe/EdfnPjf7fz+tbrQ+/RfIPubjfz9Gw9Q+X0sQv/7hf79pjC2/+H/RPDb2Jj/hU3c/nt93PxHyRj8nSwU/x82SPqdS9D0IHgs9CB4LPadS9D3HzZI+J0sFPxHyRj+e33c/4VN3Pzb2Jj/4f9E8aYwtv/7hf79fSxC/RsPUPubjfz/9F8g+QczRPjOufz/mFcs+FKMUv/78f798nim/HGo9PY/wKj8mpHg/PH92PyaSQz+mvgA/s6CIPkM3yj0esFk8HrBZPEM3yj2zoIg+pr4APyaSQz88f3Y/JqR4P4/wKj8caj09fJ4pv/78f78UoxS/5hXLPjOufz9BzNE+QczRPjOufz/mFcs+FKMUv/78f798nim/HGo9PY/wKj8mpHg/PH92PyaSQz+mvgA/s6CIPkM3yj0esFk8HrBZPEM3yj2zoIg+pr4APyaSQz88f3Y/JqR4P4/wKj8caj09fJ4pv/78f78UoxS/5hXLPjOufz9BzNE+/RfIPubjfz9Gw9Q+X0sQv/7hf79pjC2/+H/RPDb2Jj/hU3c/nt93PxHyRj8nSwU/x82SPqdS9D0IHgs9CB4LPadS9D3HzZI+J0sFPxHyRj+e33c/4VN3Pzb2Jj/4f9E8aYwtv/7hf79fSxC/RsPUPubjfz/9F8g+rW60Pjf7fz8R1+c+CW0Hv/JXf7/TLjW/z1qBvBvLHj8/YnQ/y056Py5wTT/fNw4/mfamPkgaJD6IJZo9iCWaPUgaJD6Z9qY+3zcOPy5wTT/LTno/P2J0PxvLHj/PWoG80y41v/JXf78JbQe/EdfnPjf7fz+tbrQ+L1+WPgBMfz/e2QE/JWPzvku3fb+eDEC/eEKfvTEJEj+IL28/tCd9P8mDVj/1JBs/+afEPjl3Yj6UPgw+lD4MPjl3Yj75p8Q+9SQbP8mDVj+0J30/iC9vPzEJEj94Qp+9ngxAv0u3fb8lY/O+3tkBPwBMfz8vX5Y+4dJaPlHbfD+soxM/QVTNvkUHer+OYU2/m7kjvg0pAD+l02Y/NG9/P65TYT8lcSs/wAzrPhgcmj5Xl18+V5dfPhgcmj7ADOs+JXErP65TYT80b38/pdNmPw0pAD+buSO+jmFNv0UHer9BVM2+rKMTP1HbfD/h0lo+gsTkPYBgdz/WcCg/ENCbvoUEc79tD1y/45mFvhky0T5IKlo/UNN/P6aqbD8AJz4/HmAMP++wyz5jx6I+Y8eiPu+wyz4eYAw/ACc+P6aqbD9Q038/SCpaPxky0T7jmYW+bQ9cv4UEc78Q0Ju+1nAoP4Bgdz+CxOQ9105HvLVRbT8cAj8/Xnw8vncvZ78kj2q/V8HBvre9lT5d6Ec/GbB8P17tdj8S6FE/r8slP6QiAj+xnd0+sZ3dPqQiAj+vyyU/EuhRP17tdj8ZsHw/XehHP7e9lT5XwcG+JI9qv3cvZ79efDy+HAI/P7VRbT/XTke8Sw8gvkT8XD8LmlU/2S0lvRPnVL/l5na/jg0Cv50QGz5Ivi4/KB90P/UWfj+Q2mQ/PjRAP8qUID/z8Q4/8/EOP8qUID8+NEA/kNpkP/UWfj8oH3Q/SL4uP50QGz6ODQK/5eZ2vxPnVL/ZLSW9C5pVP0T8XD9LDyC++juivhiuRD8a7Wk/BZr/PUiUOr/Vq36/25gkv6ptXLxqig0/fRdkP8fCfz/9n3Q/fW5ZP0w6Pz9U+S8/VPkvP0w6Pz99blk//Z90P8fCfz99F2Q/aooNP6ptXLzbmCS/1at+v0iUOr8Fmv89Gu1pPxiuRD/6O6K+PU/5vgj0Ij+8IXk/CdGcPhLqFr+0F3+/1ApGvy4LS74ZO8c+f6NKP25LeT+HXX4/QK9uP7BsWz9kWE8/ZFhPP7BsWz9Ar24/h11+P25LeT9/o0o/GTvHPi4LS77UCka/tBd/vxLqFr8J0Zw+vCF5Pwj0Ij89T/m+4+onv5/d7T786n8/YpH9PiN20r6ZO3W/qCJjv9Zqyr6sP0Q+LDEmP/EGaD8Y4H4/l5p8PxjUcT+6wmk/usJpPxjUcT+Xmnw/GOB+P/EGaD8sMSY/rD9EPtZqyr6oImO/mTt1vyN20r5ikf0+/Op/P5/d7T7j6ie/PC1Pv5l3gT7qyHo/i64tP8aDR76ZV16/Net3v+WjF78OBA69evnrPlGmST9z5nI/7Hd/P8uKfj/wRns/8EZ7P8uKfj/sd38/c+ZyP1GmST96+es+DgQOveWjF78163e/mVdev8aDR76Lri0/6sh6P5l3gT48LU+/QMVtvzqn8ztNeGY/v49WP/VZVT12Wzi/i/9/v6OpRb+Q6Y6+wjxqPse5HD+ymFc/yZZzP6BxfT/tmX8/7Zl/P6BxfT/JlnM/sphXP8e5HD/CPGo+kOmOvqOpRb+L/3+/dls4v/VZVT2/j1Y/TXhmPzqn8ztAxW2/WG5+vwlYhL4WlUA/y/JzPz6LoT7qiwK/hw13vzTHab/HMQa/rgIcvbKjwj60LSs/1upVPwrAaj9Vn3I/VZ9yPwrAaj/W6lU/tC0rP7Kjwj6uAhy9xzEGvzTHab+HDXe/6osCvz6LoT7L8nM/FpVAPwlYhL5Ybn6/M+t7v/8HBr9TZwg/zfR/PyPGEj8n7Xi+SZxZv5fVfb+o2z6/3sekvjZCzT2HZds+XNskPzrRQz9DM1E/QzNRPzrRQz9c2yQ/h2XbPjZCzT3ex6S+qNs+v5fVfb9JnFm/J+14viPGEj/N9H8/U2cIP/8HBr8z63u/pv1hv6Q4Qr9qAn8+QC51P2PNSz+ta4Q91g0mvyDce7+i1Wm/pHQYv4VTVb7sXgc+ImLCPskfCD8bKho/GyoaP8kfCD8iYsI+7F4HPoVTVb6kdBi/otVpvyDce7/WDSa/rWuEPWPNSz9ALnU/agJ/PqQ4Qr+m/WG/N6Yuv3zfbb+FJqK9E/NPPxIVcz9aU8U+8Xe7vjlLX7/sAH+/ngFTv4jLA7/byEm+tWlvPX8oaT45yJ4+OciePn8oaT61aW8928hJvojLA7+eAVO/7AB/vzlLX7/xd7u+WlPFPhIVcz8T808/hSaivXzfbb83pi6/fv7GvjLof78Y2dW+CM0PPzHdfz+i/C0/Pmi+vEOCJr9FLHe/pAV4vxdSR7+EzQW/cPKTvjMQ+b17qRS9e6kUvTMQ+b1w8pO+hM0FvxdSR7+kBXi/RSx3v0OCJr8+aL68ovwtPzHdfz8IzQ8/GNnVvjLof79+/sa+fBjcvH/icL/9NTi/Xp9jPuFMaz/IYGY/wByvPhy8qL4K/02/5xh+v1kadL8OB0y/lA4ev4Td8r5Db8u+Q2/LvoTd8r6UDh6/DgdMv1kadL/nGH6/Cv9Nvxy8qL7AHK8+yGBmP+FMaz9en2M+/TU4v3/icL98GNy8IEu3Pm9VPb/qPm6/DRAsvmu+Mj/qkH8/XAEtPxD5aT1GFgS/4ctev40If78isHe/iSBfv/Z6Rr+g7Te/oO03v/Z6Rr+JIF+/IrB3v40If7/hy16/RhYEvxD5aT1cAS0/6pB/P2u+Mj8NECy+6j5uv29VPb8gS7c+hwA0P+0z0L4Gzn+/d9QMvw7/sz6P/28/NUNqP09B6D6KLgO+41EZv2GWYL8gzny/IsF+v0C7dr+t/W+/rf1vv0C7dr8iwX6/IM58v2GWYL/jURm/ii4Dvk9B6D41Q2o/j/9vPw7/sz531Ay/Bs5/v+0z0L6HADQ/E+RvP9M6fzwl2GO/4LdZv/m2mb2PODQ/z/N/P6paST9UMJo+BzxTvqYGGL/dXFS/X7Zxv9mLfL9zNH+/czR/v9mLfL9ftnG/3VxUv6YGGL8HPFO+VDCaPqpaST/P838/jzg0P/m2mb3gt1m/Jdhjv9M6fzwT5G8//8J+PzYp6D63XBm/zr9+vyp0Ab8X86M+x7xjP3FYej/NiTA/zKB6Ps0gOL7b1/++9w00v8htUL8OYFy/DmBcv8htUL/3DTS/29f/vs0gOL7MoHo+zYkwP3FYej/HvGM/F/OjPip0Ab/Ov36/t1wZvzYp6D7/wn4/h/RWP1+wTz8c0ym+oQluv2A6WL/kyhi+OuYUP5sNdz+Z13E/qmApPxjTlD6RkEK9jm+Zvvpr6r4NPgi/DT4Iv/pr6r6Ob5m+kZBCvRjTlD6qYCk/mddxP5sNdz865hQ/5MoYvmA6WL+hCW6/HNMpvl+wTz+H9FY/rpX1PoTnfT91z6U+u3Akv1Vmf7/eJRq/LPr9PR1IOT/4onw/TltwP2sXNj+yMN4+YHRDPjWbqjwnloS9J5aEvTWbqjxgdEM+sjDePmsXNj9OW3A/+KJ8Px1IOT8s+v093iUav1Vmf7+7cCS/dc+lPoTnfT+ulfU+wNeJvHLebD8HzT8/j8o3vpirZr/kCGu/f/bDvud0kz7yKEc/Z358P049dz9jllI/CbQmP2gpAz/6w98++sPfPmgpAz8JtCY/Y5ZSP049dz9nfnw/8ihHP+d0kz5/9sO+5Ahrv5irZr+Pyje+B80/P3LebD/A14m80c8GvxKyGT8FlHs/7BOzPjw9Db/a1H2/AkxNv+gCeb4vUbE+wDlDPyladj/MbH8/wLByP4pCYT/ZCFY/2QhWP4pCYT/AsHI/zGx/Pyladj/AOUM/L1GxPugCeb4CTE2/2tR9vzw9Db/sE7M+BZR7PxKyGT/Rzwa/iaVlvwnorj2sdW4/XQRLPyel1LwTpkW/3yR/v19fOL9uQ1C+p6KbPhAJLD+mtGE/Bv14P398fz/H738/x+9/P398fz8G/Xg/prRhPxAJLD+nops+bkNQvl9fOL/fJH+/E6ZFvyel1LxdBEs/rHVuPwnorj2JpWW/jR1+v/OZ8r6omhQ/cEN/P4uABj9Ivpi+cvxgv7qCe78ZwjS/n7SIvpnlID6WkfU+lNEvP/HzTD+dUVk/nVFZP/HzTD+U0S8/lpH1PpnlID6ftIi+GcI0v7qCe79y/GC/SL6YvouABj9wQ38/qJoUP/OZ8r6NHX6/s0BAv5ZiY7/+tZ88T6hdPzr7aT+HyJU+zofpvt6Mar9QiXu/p69Dv2MH2765o8u9mlkgPoQqpT4nAM4+JwDOPoQqpT6aWSA+uaPLvWMH276nr0O/UIl7v96Mar/Oh+m+h8iVPjr7aT9PqF0//rWfPJZiY7+zQEC/",
        "encoding": "base64",
        "path": [
         "heights",
         "buffer"
        ]
       },
       {
        "data": "AADAQAAAAAAAAAAAAAAAAAAAAAAAAMBAAAAAAAAAAAAAAAAAAAAAAAAAgD8AAAAAAAAAAAAAAAAAAAAAAACAPw==",
        "encoding": "base64",
        "path": [
         "model_matrix",
         "buffer"
        ]
       }
      ],
      "model_module": "k3d",
      "model_module_version": "^3.0.0",
      "model_name": "ObjectModel",
      "state": {
       "_model_module_version": "^3.0.0",
       "_view_count": null,
       "_view_module": null,
       "_view_module_version": "",
       "_view_name": null,
       "color": 45148,
       "compression_level": 0,
       "flat_shading": false,
       "heights": {
        "dtype": "float32",
        "shape": [
         60,
         30
        ]
       },
       "id": 140676062174120,
       "model_matrix": {
        "dtype": "float32",
        "shape": [
         4,
         4
        ]
       },
       "type": "Surface",
       "visible": true,
       "wireframe": false
      }
     },
     "8596c05ec7904dcbb2cbc3dd8403fe45": {
      "buffers": [
       {
        "data": "MgHTPoSlfz+m3sk+5ywVv2b+f79vHym/C/5HPYpuKz9EzHg/SlF2P6UkQz8VLAA//VmHPjDyxD2vVC88r1QvPDDyxD39WYc+FSwAP6UkQz9KUXY/RMx4P4puKz8L/kc9bx8pv2b+f7/nLBW/pt7JPoSlfz8yAdM+QczRPjOufz/mFcs+FKMUv/78f798nim/HGo9PY/wKj8mpHg/PH92PyaSQz+mvgA/s6CIPkM3yj0esFk8HrBZPEM3yj2zoIg+pr4APyaSQz88f3Y/JqR4P4/wKj8caj09fJ4pv/78f78UoxS/5hXLPjOufz9BzNE+SivOPp7Ffz+Ouc4+FQQTvyf2f7/pGSu/L6wdPdh0KT87KXg/jQZ3P6bYRD8EdQI/a3OMPmAE2j30X6w89F+sPGAE2j1rc4w+BHUCP6bYRD+NBnc/Oyl4P9h0KT8vrB096Rkrvyf2f78VBBO/jrnOPp7Ffz9KK84+/RfIPubjfz9Gw9Q+X0sQv/7hf79pjC2/+H/RPDb2Jj/hU3c/nt93PxHyRj8nSwU/x82SPqdS9D0IHgs9CB4LPadS9D3HzZI+J0sFPxHyRj+e33c/4VN3Pzb2Jj/4f9E8aYwtv/7hf79fSxC/RsPUPubjfz/9F8g+IYi/Pub7fz/nJ90+pnEMv2Gzf78G7TC/rwr1OyRsIz9sF3Y/r/14PyPUST8iOgk/EqibPmmKDD6ZLVU9mS1VPWmKDD4SqJs+IjoJPyPUST+v/Xg/bBd2PyRsIz+vCvU7Bu0wv2Gzf7+mcQy/5yfdPub7fz8hiL8+rW60Pjf7fz8R1+c+CW0Hv/JXf7/TLjW/z1qBvBvLHj8/YnQ/y056Py5wTT/fNw4/mfamPkgaJD6IJZo9iCWaPUgaJD6Z9qY+3zcOPy5wTT/LTno/P2J0PxvLHj/PWoG80y41v/JXf78JbQe/EdfnPjf7fz+tbrQ+3LumPjTKfz8/uvQ+ijEBvyO4fr+iQDq/eBw1vekEGT/wHXI/sLt7P9qyUT+2NhQ/w6i0PlfHQD4TKNQ9EyjUPVfHQD7DqLQ+tjYUP9qyUT+wu3s/8B1yP+kEGT94HDW9okA6vyO4fr+KMQG/P7r0PjTKfz/cu6Y+L1+WPgBMfz/e2QE/JWPzvku3fb+eDEC/eEKfvTEJEj+IL28/tCd9P8mDVj/1JBs/+afEPjl3Yj6UPgw+lD4MPjl3Yj75p8Q+9SQbP8mDVj+0J30/iC9vPzEJEj94Qp+9ngxAv0u3fb8lY/O+3tkBPwBMfz8vX5Y+YUiDPqlefj+4Tgo/O73hvskzfL/Nd0a/CU7uvRvGCT/Ld2s/vXB+PzrFWz9I7CI/QdbWPu2BhD63dzM+t3czPu2BhD5B1tY+SOwiPzrFWz+9cH4/y3drPxvGCT8JTu69zXdGv8kzfL87veG+uE4KP6lefj9hSIM+4dJaPlHbfD+soxM/QVTNvkUHer+OYU2/m7kjvg0pAD+l02Y/NG9/P65TYT8lcSs/wAzrPhgcmj5Xl18+V5dfPhgcmj7ADOs+JXErP65TYT80b38/pdNmPw0pAD+buSO+jmFNv0UHer9BVM2+rKMTP1HbfD/h0lo+FXApPnmWej8Tux0/6gy2vgoHd783o1S/xClVvmQ/6j7DHGE/H/Z/P4IFZz8QkjQ/Ao0APzLmsT4DMog+AzKIPjLmsT4CjQA/EJI0P4IFZz8f9n8/wxxhP2Q/6j7EKVW+N6NUvwoHd7/qDLa+E7sdP3mWej8VcCk+gsTkPYBgdz/WcCg/ENCbvoUEc79tD1y/45mFvhky0T5IKlo/UNN/P6aqbD8AJz4/HmAMP++wyz5jx6I+Y8eiPu+wyz4eYAw/ACc+P6aqbD9Q038/SCpaPxky0T7jmYW+bQ9cv4UEc78Q0Ju+1nAoP4Bgdz+CxOQ9u9JWPTQGcz+XmTM/nhp9vvrNbb/qcWO/QL2ivqINtT7E0VE/vc9+P2cMcj+vAEg/rdkYP3g/5z4/V78+P1e/Png/5z6t2Rg/rwBIP2cMcj+9z34/xNFRP6INtT5AvaK+6nFjv/rNbb+eGn2+l5kzPzQGcz+70lY9105HvLVRbT8cAj8/Xnw8vncvZ78kj2q/V8HBvre9lT5d6Ec/GbB8P17tdj8S6FE/r8slP6QiAj+xnd0+sZ3dPqQiAj+vyyU/EuhRP17tdj8ZsHw/XehHP7e9lT5XwcG+JI9qv3cvZ79efDy+HAI/P7VRbT/XTke8ZrGnvZALZj+Jbko/AaXrvQH0Xr8uJHG/AVfivlhzZj49RDw/mzV5P5cJez/snVs/Uv8yPwIyET8XRf0+F0X9PgIyET9S/zI/7J1bP5cJez+bNXk/PUQ8P1hzZj4BV+K+LiRxvwH0Xr8Bpeu9iW5KP5ALZj9msae9Sw8gvkT8XD8LmlU/2S0lvRPnVL/l5na/jg0Cv50QGz5Ivi4/KB90P/UWfj+Q2mQ/PjRAP8qUID/z8Q4/8/EOP8qUID8+NEA/kNpkP/UWfj8oH3Q/SL4uP50QGz6ODQK/5eZ2vxPnVL/ZLSW9C5pVP0T8XD9LDyC+yoVwvtPtUT+ZNmA/KAYjPW/WSL9mhnu/M0oTvycOkz0gNB8/xyptP/TFfz/uTW0/ISBNPzoHMD9YfR8/WH0fPzoHMD8hIE0/7k1tP/TFfz/HKm0/IDQfPycOkz0zShO/ZoZ7v2/WSL8oBiM9mTZgP9PtUT/KhXC++juivhiuRD8a7Wk/BZr/PUiUOr/Vq36/25gkv6ptXLxqig0/fRdkP8fCfz/9n3Q/fW5ZP0w6Pz9U+S8/VPkvP0w6Pz99blk//Z90P8fCfz99F2Q/aooNP6ptXLzbmCS/1at+v0iUOr8Fmv89Gu1pPxiuRD/6O6K+ZXTNvh4RNT/fXXI/UBdbPtL5Kb+2+3+/ZKQ1v1Z/1L2zXvM+oadYP/S2fT+HcXo/zsBkP23TTT9LDkA/Sw5AP23TTT/OwGQ/h3F6P/S2fT+hp1g/s17zPlZ/1L1kpDW/tvt/v9L5Kb9QF1s+311yPx4RNT9ldM2+PU/5vgj0Ij+8IXk/CdGcPhLqFr+0F3+/1ApGvy4LS74ZO8c+f6NKP25LeT+HXX4/QK9uP7BsWz9kWE8/ZFhPP7BsWz9Ar24/h11+P25LeT9/o0o/GTvHPi4LS77UCka/tBd/vxLqFr8J0Zw+vCF5Pwj0Ij89T/m+m4cSvzpADj+ky30/FBXNPgJVAb8NoXu/ol1Vv6CFl77jvZY+ndw5P0Yrcj8Y+38/4sl2P4WVZz/8Z10//GddP4WVZz/iyXY/GPt/P0Yrcj+d3Dk/472WPqCFl76iXVW/DaF7vwJVAb8UFc0+pMt9PzpADj+bhxK/4+onv5/d7T786n8/YpH9PiN20r6ZO3W/qCJjv9Zqyr6sP0Q+LDEmP/EGaD8Y4H4/l5p8PxjUcT+6wmk/usJpPxjUcT+Xmnw/GOB+P/EGaD8sMSY/rD9EPtZqyr6oImO/mTt1vyN20r5ikf0+/Op/P5/d7T7j6ie/01E8v00Yuj6lDn8/+qwWP/Jgnb59kWu/vNVuvypY/b5gEac9AJAPPyWYWj99pHo/yKd/P4SneT955XM/eeVzP4SneT/Ip38/faR6PyWYWj8AkA8/YBGnPSpY/b681W6/fZFrv/Jgnb76rBY/pQ5/P00Yuj7TUTy/PC1Pv5l3gT7qyHo/i64tP8aDR76ZV16/Net3v+WjF78OBA69evnrPlGmST9z5nI/7Hd/P8uKfj/wRns/8EZ7P8uKfj/sd38/c+ZyP1GmST96+es+DgQOveWjF78163e/mVdev8aDR76Lri0/6sh6P5l3gT48LU+/rOBfv2zuCD4ltHI/2DJDPy2XmL1iUk2/eNN9vxqGL79sSx++1SezPokLNT88T2c//pV7P+D4fz+AW38/gFt/P+D4fz/+lXs/PE9nP4kLNT/VJ7M+bEsfvhqGL794032/YlJNvy2XmL3YMkM/JbRyP2zuCD6s4F+/QMVtvzqn8ztNeGY/v49WP/VZVT12Wzi/i/9/v6OpRb+Q6Y6+wjxqPse5HD+ymFc/yZZzP6BxfT/tmX8/7Zl/P6BxfT/JlnM/sphXP8e5HD/CPGo+kOmOvqOpRb+L/3+/dls4v/VZVT2/j1Y/TXhmPzqn8ztAxW2/JS54v9Uo/r0y0VU/9A5nPxhTOz57Zx+/w+Z9v/RVWb/yT86+YkjKPYHAAD+Kk0M/JR9nP9F/dj8wgXs/MIF7P9F/dj8lH2c/ipNDP4HAAD9iSMo98k/OvvRVWb/D5n2/e2cfvxhTOz70Dmc/MtFVP9Uo/r0lLni/WG5+vwlYhL4WlUA/y/JzPz6LoT7qiwK/hw13vzTHab/HMQa/rgIcvbKjwj60LSs/1upVPwrAaj9Vn3I/VZ9yPwrAaj/W6lU/tC0rP7Kjwj6uAhy9xzEGvzTHab+HDXe/6osCvz6LoT7L8nM/FpVAPwlYhL5Ybn6/ot9/v2oayb41vCY/onx8P7vE5D5HCsS+Ig1rvyQ0dr+LvCO/bqA3vlEfez5JeQ4/HtQ/P4DoWT9HmWQ/R5lkP4DoWT8e1D8/SXkOP1Efez5uoDe+i7wjvyQ0dr8iDWu/RwrEvrvE5D6ifHw/NbwmP2oayb6i33+/M+t7v/8HBr9TZwg/zfR/PyPGEj8n7Xi+SZxZv5fVfb+o2z6/3sekvjZCzT2HZds+XNskPzrRQz9DM1E/QzNRPzrRQz9c2yQ/h2XbPjZCzT3ex6S+qNs+v5fVfb9JnFm/J+14viPGEj/N9H8/U2cIP/8HBr8z63u/PxNyv/SdJb+yzcs+BrR9P97wMD9iNb69NphCv5jvf78ikVa/+Ybsvo+CVb3sjZI+sy4FP6B8KD+zWTg/s1k4P6B8KD+zLgU/7I2SPo+CVb35huy+IpFWv5jvf782mEK/YjW+vd7wMD8GtH0/ss3LPvSdJb8/E3K/pv1hv6Q4Qr9qAn8+QC51P2PNSz+ta4Q91g0mvyDce7+i1Wm/pHQYv4VTVb7sXgc+ImLCPskfCD8bKho/GyoaP8kfCD8iYsI+7F4HPoVTVb6kdBi/otVpvyDce7/WDSa/rWuEPWPNSz9ALnU/agJ/PqQ4Qr+m/WG/G39LvxmyWr/VnbU9ev5lPzo6Yj/5Cmc+l0IEvxsXcb8Eo3e/lck3vzN1ur52Kfi8Rf9lPsJTxj599u0+ffbtPsJTxj5F/2U+din4vDN1ur6VyTe/BKN3vxsXcb+XQgS/+QpnPjo6Yj96/mU/1Z21PRmyWr8bf0u/N6Yuv3zfbb+FJqK9E/NPPxIVcz9aU8U+8Xe7vjlLX7/sAH+/ngFTv4jLA7/byEm+tWlvPX8oaT45yJ4+OciePn8oaT61aW8928hJvojLA7+eAVO/7AB/vzlLX7/xd7u+WlPFPhIVcz8T808/hSaivXzfbb83pi6/OcYLvw2fer9Gzn++PBozP6FIfT/r5gk/2hVNvjJfRr+SE3+/StVov3WmJ7+W5rm+AXrqvaw6Zz0RBBE+EQQRPqw6Zz0Beuq9lua5vnWmJ79K1Wi/khN/vzJfRr/aFU2+6+YJP6FIfT88GjM/Rs5/vg2fer85xgu/fv7GvjLof78Y2dW+CM0PPzHdfz+i/C0/Pmi+vEOCJr9FLHe/pAV4vxdSR7+EzQW/cPKTvjMQ+b17qRS9e6kUvTMQ+b1w8pO+hM0FvxdSR7+kBXi/RSx3v0OCJr8+aL68ovwtPzHdfz8IzQ8/GNnVvjLof79+/sa+whNbvundfL8VlhO/yXLNPtkKej+fV00/3HcjPno3AL/Y2ma/GG5/v8dLYb/HZCu/KO/qvlj8mb5gVl++YFZfvlj8mb4o7+q+x2Qrv8dLYb8Ybn+/2Npmv3o3AL/cdyM+n1dNP9kKej/Jcs0+FZYTv+ndfL/CE1u+fBjcvH/icL/9NTi/Xp9jPuFMaz/IYGY/wByvPhy8qL4K/02/5xh+v1kadL8OB0y/lA4ev4Td8r5Db8u+Q2/LvoTd8r6UDh6/DgdMv1kadL/nGH6/Cv9Nvxy8qL7AHK8+yGBmP+FMaz9en2M+/TU4v3/icL98GNy8/0AqPqKrW7+nA1e/R8T3PCx1Uz9eknc/UEUEP4zYEL7c2Cy/7lRzv0Nkfr/c/2W/b+ZBv5WVIr+NFBG/jRQRv5WVIr9v5kG/3P9lv0Nkfr/uVHO/3Ngsv4zYEL5QRQQ/XpJ3Pyx1Uz9HxPc8pwNXv6KrW7//QCo+IEu3Pm9VPb/qPm6/DRAsvmu+Mj/qkH8/XAEtPxD5aT1GFgS/4ctev40If78isHe/iSBfv/Z6Rr+g7Te/oO03v/Z6Rr+JIF+/IrB3v40If7/hy16/RhYEvxD5aT1cAS0/6pB/P2u+Mj8NECy+6j5uv29VPb8gS7c+2TkKP99yFr86S3y/M566vvraCT+TRn0/va5PPwRShD7uuKm+JJdAv1Y5db/iqX+/2vFzv0omY7/mOFi/5jhYv0omY7/a8XO/4ql/v1Y5db8kl0C/7ripvgRShD69rk8/k0Z9P/raCT8znrq+Okt8v99yFr/ZOQo/hwA0P+0z0L4Gzn+/d9QMvw7/sz6P/28/NUNqP09B6D6KLgO+41EZv2GWYL8gzny/IsF+v0C7dr+t/W+/rf1vv0C7dr8iwX6/IM58v2GWYL/jURm/ii4Dvk9B6D41Q2o/j/9vPw7/sz531Ay/Bs5/v+0z0L6HADQ/D6NWP/+iT74Nz3e/9R83v+6XEz6bhVc/b996PzUMIj8GL7A920rUvnJFQb+7a26/RUh+v8Kbf79Fdn2/RXZ9v8Kbf79FSH6/u2tuv3JFQb/bStS+Bi+wPTUMIj9v33o/m4VXP+6XEz71Hze/Dc93v/+iT74Po1Y/E+RvP9M6fzwl2GO/4LdZv/m2mb2PODQ/z/N/P6paST9UMJo+BzxTvqYGGL/dXFS/X7Zxv9mLfL9zNH+/czR/v9mLfL9ftnG/3VxUv6YGGL8HPFO+VDCaPqpaST/P838/jzg0P/m2mb3gt1m/Jdhjv9M6fzwT5G8/Zch9P3jrcz5EEkS/FUVyvzdWl77SIAc/PWd4P/SKZz/UmQE/mpKMPNqCzL5LIC+/hdBYvy/WbL9yR3S/ckd0vy/WbL+F0Fi/SyAvv9qCzL6akow81JkBP/SKZz89Z3g/0iAHPzdWl74VRXK/RBJEv3jrcz5lyH0//8J+PzYp6D63XBm/zr9+vyp0Ab8X86M+x7xjP3FYej/NiTA/zKB6Ps0gOL7b1/++9w00v8htUL8OYFy/DmBcv8htUL/3DTS/29f/vs0gOL7MoHo+zYkwP3FYej/HvGM/F/OjPip0Ab/Ov36/t1wZvzYp6D7/wn4/XOFxP1USJj9Dtcq+bZ99vyxfMb9ddLk9xTRCP//rfz9P5FY/2ZXtPu0LXz0JaZG+HawEv3cJKL+M7ze/jO83v3cJKL8drAS/CWmRvu0LXz3Zle0+T+RWP//rfz/FNEI/XXS5PSxfMb9tn32/Q7XKvlUSJj9c4XE/h/RWP1+wTz8c0ym+oQluv2A6WL/kyhi+OuYUP5sNdz+Z13E/qmApPxjTlD6RkEK9jm+Zvvpr6r4NPgi/DT4Iv/pr6r6Ob5m+kZBCvRjTlD6qYCk/mddxP5sNdz865hQ/5MoYvmA6WL+hCW6/HNMpvl+wTz+H9FY/ZrIuP1LZbT+coaE9y/xPv9cPc7+XNMW+9Za7PmBTXz9z/34/LvhSPz69Az9vh0k+6HNwvWhpab7p556+6eeevmhpab7oc3C9b4dJPj69Az8u+FI/c/9+P2BTXz/1lrs+lzTFvtcPc7/L/E+/nKGhPVLZbT9msi4/rpX1PoTnfT91z6U+u3Akv1Vmf7/eJRq/LPr9PR1IOT/4onw/TltwP2sXNj+yMN4+YHRDPjWbqjwnloS9J5aEvTWbqjxgdEM+sjDePmsXNj9OW3A/+KJ8Px1IOT8s+v093iUav1Vmf7+7cCS/dc+lPoTnfT+ulfU+a693PofofT84hg0/cdHavsKDe78z30i/M2YGvl2FBj8j72k/ydV+PzO3XT8a3iU/PMndPs7piz4Uk0I+FJNCPs7piz48yd0+Gt4lPzO3XT/J1X4/I+9pP12FBj8zZga+M99Iv8KDe79x0dq+OIYNP4fofT9rr3c+wNeJvHLebD8HzT8/j8o3vpirZr/kCGu/f/bDvud0kz7yKEc/Z358P049dz9jllI/CbQmP2gpAz/6w98++sPfPmgpAz8JtCY/Y5ZSP049dz9nfnw/8ihHP+d0kz5/9sO+5Ahrv5irZr+Pyje+B80/P3LebD/A14m8wQiPvhL3Sj8lqWU/bpavPQRSQb+Sc32/t8Qcv+yf0zx5zxU/PHtoP37/fz/SeHE/uPRTPwplOD/uiCg/7ogoPwplOD+49FM/0nhxP37/fz88e2g/ec8VP+yf0zy3xBy/knN9vwRSQb9ulq89JallPxL3Sj/BCI++0c8GvxKyGT8FlHs/7BOzPjw9Db/a1H2/AkxNv+gCeb4vUbE+wDlDPyladj/MbH8/wLByP4pCYT/ZCFY/2QhWP4pCYT/AsHI/zGx/Pyladj/AOUM/L1GxPugCeb4CTE2/2tR9vzw9Db/sE7M+BZR7PxKyGT/Rzwa/USA9v0Petz66834/paMXP9Uam74yGWu/HUNvv6dq/74ajJ09jJIOP3L4WT+XZXo/7LZ/P3PqeT+pQXQ/qUF0P3PqeT/stn8/l2V6P3L4WT+Mkg4/GoydPadq/74dQ2+/Mhlrv9Uam76loxc/uvN+P0Petz5RID2/iaVlvwnorj2sdW4/XQRLPyel1LwTpkW/3yR/v19fOL9uQ1C+p6KbPhAJLD+mtGE/Bv14P398fz/H738/x+9/P398fz8G/Xg/prRhPxAJLD+nops+bkNQvl9fOL/fJH+/E6ZFvyel1LxdBEs/rHVuPwnorj2JpWW/A0d8v9HrTL56WEo/edtuP/ohhD7Hgg+/PaF6v9kaY7/DxfG+SjKzPHas3j6vRzY/H/ZdP+5ycD/bFHc/2xR3P+5ycD8f9l0/r0c2P3as3j5KMrM8w8XxvtkaY789oXq/x4IPv/ohhD55224/elhKP9HrTL4DR3y/jR1+v/OZ8r6omhQ/cEN/P4uABj9Ivpi+cvxgv7qCe78ZwjS/n7SIvpnlID6WkfU+lNEvP/HzTD+dUVk/nVFZP/HzTD+U0S8/lpH1PpnlID6ftIi+GcI0v7qCe79y/GC/SL6YvouABj9wQ38/qJoUP/OZ8r6NHX6/zuFpvzIGNr8/B6I+mb95PwJqQD/S5Le7LFUzv4d1fr+X72G/S6EJv+VuDr5JWU4+ei7jPjwFFz+CJCg/giQoPzwFFz96LuM+SVlOPuVuDr5LoQm/l+9hv4d1fr8sVTO/0uS3uwJqQD+Zv3k/PweiPjIGNr/O4Wm/s0BAv5ZiY7/+tZ88T6hdPzr7aT+HyJU+zofpvt6Mar9QiXu/p69Dv2MH2765o8u9mlkgPoQqpT4nAM4+JwDOPoQqpT6aWSA+uaPLvWMH276nr0O/UIl7v96Mar/Oh+m+h8iVPjr7aT9PqF0//rWfPJZiY7+zQEC/",
        "encoding": "base64",
        "path": [
         "heights",
         "buffer"
        ]
       },
       {
        "data": "AADAQAAAAAAAAAAAAAAAAAAAAAAAAEBAAAAAAAAAwD8AAAAAAAAAAAAAgD8AAAAAAAAAAAAAAAAAAAAAAACAPw==",
        "encoding": "base64",
        "path": [
         "model_matrix",
         "buffer"
        ]
       }
      ],
      "model_module": "k3d",
      "model_module_version": "^3.0.0",
      "model_name": "ObjectModel",
      "state": {
       "_model_module_version": "^3.0.0",
       "_view_count": null,
       "_view_module": null,
       "_view_module_version": "",
       "_view_name": null,
       "color": 255,
       "compression_level": 0,
       "flat_shading": true,
       "heights": {
        "dtype": "float32",
        "shape": [
         60,
         30
        ]
       },
       "id": 139913191183416,
       "model_matrix": {
        "dtype": "float32",
        "shape": [
         4,
         4
        ]
       },
       "type": "Surface",
       "visible": true,
       "wireframe": false
      }
     },
     "87f95b5787854b829fd111b025009250": {
      "model_module": "@jupyter-widgets/base",
      "model_module_version": "1.1.0",
      "model_name": "LayoutModel",
      "state": {}
     },
     "89a0b6e7270541fdbf5f6f2192dbfc52": {
      "model_module": "@jupyter-widgets/base",
      "model_module_version": "1.1.0",
      "model_name": "LayoutModel",
      "state": {}
     },
     "8a4ab739362645aaa9b6d6aadb80f4dc": {
      "buffers": [
       {
        "data": "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",
        "encoding": "base64",
        "path": [
         "heights",
         "buffer"
        ]
       },
       {
        "data": "AADAQAAAAAAAAAAAAAAAAAAAAAAAAMBAAAAAAAAAAAAAAAAAAAAAAAAAgD8AAAAAAAAAAAAAAAAAAAAAAACAPw==",
        "encoding": "base64",
        "path": [
         "model_matrix",
         "buffer"
        ]
       }
      ],
      "model_module": "k3d",
      "model_module_version": "^3.0.0",
      "model_name": "ObjectModel",
      "state": {
       "_model_module_version": "^3.0.0",
       "_view_count": null,
       "_view_module": null,
       "_view_module_version": "",
       "_view_name": null,
       "color": 255,
       "compression_level": 0,
       "flat_shading": true,
       "heights": {
        "dtype": "float32",
        "shape": [
         60,
         30
        ]
       },
       "id": 140676062173840,
       "model_matrix": {
        "dtype": "float32",
        "shape": [
         4,
         4
        ]
       },
       "type": "Surface",
       "visible": true,
       "wireframe": false
      }
     },
     "904d4ae0298446a2aa7a5841d4bd403d": {
      "buffers": [
       {
        "data": "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",
        "encoding": "base64",
        "path": [
         "heights",
         "buffer"
        ]
       },
       {
        "data": "AADAQAAAAAAAAAAAAAAAAAAAAAAAAAAAAAAAAAAAQEAAAAAAAAAAAAAAgD8AAAAAAAAAAAAAAAAAAAAAAACAPw==",
        "encoding": "base64",
        "path": [
         "model_matrix",
         "buffer"
        ]
       }
      ],
      "model_module": "k3d",
      "model_module_version": "^3.0.0",
      "model_name": "ObjectModel",
      "state": {
       "_model_module_version": "^3.0.0",
       "_view_count": null,
       "_view_module": null,
       "_view_module_version": "",
       "_view_name": null,
       "color": 255,
       "compression_level": 0,
       "flat_shading": true,
       "heights": {
        "dtype": "float32",
        "shape": [
         60,
         30
        ]
       },
       "id": 140676062071496,
       "model_matrix": {
        "dtype": "float32",
        "shape": [
         4,
         4
        ]
       },
       "type": "Surface",
       "visible": true,
       "wireframe": false
      }
     },
     "a2a4c5dfae8c40adac613841919f52d7": {
      "model_module": "@jupyter-widgets/output",
      "model_module_version": "1.0.0",
      "model_name": "OutputModel",
      "state": {
       "layout": "IPY_MODEL_3210e78f55e040e1a83eb507f1b9e16b",
       "outputs": [
        {
         "data": {
          "application/vnd.jupyter.widget-view+json": {
           "model_id": "a34cc72648dd463bb2c1cd19daa40b83",
           "version_major": 2,
           "version_minor": 0
          },
          "text/plain": "Plot(antialias=True, background_color=16777215, fps_meter=False, grid=[-1, -1, -1, 1, 1, 1], height=512, light…"
         },
         "metadata": {},
         "output_type": "display_data"
        }
       ]
      }
     },
     "a34cc72648dd463bb2c1cd19daa40b83": {
      "model_module": "k3d",
      "model_module_version": "^3.0.0",
      "model_name": "PlotModel",
      "state": {
       "_backend_version": "2.4.20",
       "_dom_classes": [],
       "_model_module_version": "^3.0.0",
       "_view_count": null,
       "_view_module_version": "^3.0.0",
       "antialias": true,
       "background_color": 16777215,
       "camera": [
        5.815408649488064,
        -7.223112974232098,
        0.5815404775186208,
        0,
        1.5,
        -3.8743019104003906e-07,
        0,
        0,
        1
       ],
       "camera_auto_fit": true,
       "clipping_planes": [],
       "fps_meter": false,
       "grid": [
        -1,
        -1,
        -1,
        1,
        1,
        1
       ],
       "grid_auto_fit": true,
       "height": 512,
       "layout": "IPY_MODEL_799ca031c01c475885f6ee3be30b9302",
       "lighting": 1,
       "object_ids": [
        139783740460728
       ],
       "screenshot": "",
       "screenshot_scale": 2,
       "voxel_paint_color": 0
      }
     },
     "a5e44c53225e4fffa7c50986bbbc4d52": {
      "model_module": "@jupyter-widgets/base",
      "model_module_version": "1.1.0",
      "model_name": "LayoutModel",
      "state": {}
     },
     "afc823fc74f14186991025bb1092dd69": {
      "model_module": "k3d",
      "model_module_version": "^3.0.0",
      "model_name": "PlotModel",
      "state": {
       "_backend_version": "2.4.20",
       "_dom_classes": [],
       "_model_module_version": "^3.0.0",
       "_view_count": null,
       "_view_module_version": "^3.0.0",
       "antialias": true,
       "background_color": 16777215,
       "camera": [
        5.815408649488064,
        -7.223112974232098,
        0.5815404775186208,
        0,
        1.5,
        -3.8743019104003906e-07,
        0,
        0,
        1
       ],
       "camera_auto_fit": true,
       "clipping_planes": [],
       "fps_meter": false,
       "grid": [
        -1,
        -1,
        -1,
        1,
        1,
        1
       ],
       "grid_auto_fit": true,
       "height": 512,
       "layout": "IPY_MODEL_f2a0826a9b144d7782252e54779cc885",
       "lighting": 1,
       "object_ids": [
        139913191183416
       ],
       "screenshot": "",
       "screenshot_scale": 2,
       "voxel_paint_color": 0
      }
     },
     "b0c0f2a3749f49e38da4ba1f2799bfcc": {
      "model_module": "@jupyter-widgets/output",
      "model_module_version": "1.0.0",
      "model_name": "OutputModel",
      "state": {
       "layout": "IPY_MODEL_083a830fc4ab4b9bb76ff5dbd55a2f81",
       "outputs": [
        {
         "data": {
          "application/vnd.jupyter.widget-view+json": {
           "model_id": "0c871e92339a43e889304eb53b04adfa",
           "version_major": 2,
           "version_minor": 0
          },
          "text/plain": "Plot(antialias=True, background_color=16777215, fps_meter=False, grid=[-1, -1, -1, 1, 1, 1], height=512, light…"
         },
         "metadata": {},
         "output_type": "display_data"
        }
       ]
      }
     },
     "be006f2481e44e4988ede7fadc3b81f3": {
      "model_module": "@jupyter-widgets/output",
      "model_module_version": "1.0.0",
      "model_name": "OutputModel",
      "state": {
       "layout": "IPY_MODEL_f2a550c968e3433a8e3ec7c774448ffc",
       "outputs": [
        {
         "data": {
          "application/vnd.jupyter.widget-view+json": {
           "model_id": "4826c689dd5845da92cc4667200794d9",
           "version_major": 2,
           "version_minor": 0
          },
          "text/plain": "Plot(antialias=True, background_color=16777215, fps_meter=False, grid=[-1, -1, -1, 1, 1, 1], height=512, light…"
         },
         "metadata": {},
         "output_type": "display_data"
        }
       ]
      }
     },
     "c91bd27da90947688b8282a15762b6b6": {
      "model_module": "@jupyter-widgets/base",
      "model_module_version": "1.1.0",
      "model_name": "LayoutModel",
      "state": {}
     },
     "cda4e686dbdc41f2bb5f910c21d4a26e": {
      "model_module": "k3d",
      "model_module_version": "^3.0.0",
      "model_name": "PlotModel",
      "state": {
       "_backend_version": "2.4.20",
       "_dom_classes": [],
       "_model_module_version": "^3.0.0",
       "_view_count": null,
       "_view_module_version": "^3.0.0",
       "antialias": true,
       "background_color": 16777215,
       "camera": [
        2.8778826572598577,
        -4.316823985889787,
        0.28778826572598526,
        0,
        0,
        0,
        0,
        0,
        1
       ],
       "camera_auto_fit": true,
       "clipping_planes": [],
       "fps_meter": false,
       "grid": [
        -1,
        -1,
        -1,
        1,
        1,
        1
       ],
       "grid_auto_fit": true,
       "height": 512,
       "layout": "IPY_MODEL_52f27811ba0148acb2ca5b430e2a010c",
       "lighting": 1,
       "object_ids": [
        140676062171880
       ],
       "screenshot": "",
       "screenshot_scale": 2,
       "voxel_paint_color": 0
      }
     },
     "deddd1bc7cf241a4b95187c40dba19df": {
      "model_module": "k3d",
      "model_module_version": "^3.0.0",
      "model_name": "PlotModel",
      "state": {
       "_backend_version": "2.4.20",
       "_dom_classes": [],
       "_model_module_version": "^3.0.0",
       "_view_count": null,
       "_view_module_version": "^3.0.0",
       "antialias": true,
       "background_color": 16777215,
       "camera": [
        9.485496985069604,
        -3.772818111523124,
        8.172510680537064,
        0,
        0,
        -3.3020973205566406e-05,
        -0.45978455784435157,
        0.38524278887994556,
        0.8001163377808735
       ],
       "camera_auto_fit": true,
       "clipping_planes": [],
       "fps_meter": false,
       "grid": [
        -1,
        -1,
        -1,
        1,
        1,
        1
       ],
       "grid_auto_fit": true,
       "height": 512,
       "layout": "IPY_MODEL_ea7188abd57140aea638379b0775339d",
       "lighting": 1,
       "object_ids": [
        140676062173840
       ],
       "screenshot": "",
       "screenshot_scale": 2,
       "voxel_paint_color": 0
      }
     },
     "e267dc7088ee486b83e95e3985702701": {
      "model_module": "@jupyter-widgets/output",
      "model_module_version": "1.0.0",
      "model_name": "OutputModel",
      "state": {
       "layout": "IPY_MODEL_a5e44c53225e4fffa7c50986bbbc4d52",
       "outputs": [
        {
         "data": {
          "application/vnd.jupyter.widget-view+json": {
           "model_id": "0605b8490de245f19d50fea1b4bba87f",
           "version_major": 2,
           "version_minor": 0
          },
          "text/plain": "Plot(antialias=True, background_color=16777215, fps_meter=False, grid=[-1, -1, -1, 1, 1, 1], height=512, light…"
         },
         "metadata": {},
         "output_type": "display_data"
        }
       ]
      }
     },
     "ea7188abd57140aea638379b0775339d": {
      "model_module": "@jupyter-widgets/base",
      "model_module_version": "1.1.0",
      "model_name": "LayoutModel",
      "state": {}
     },
     "f2a0826a9b144d7782252e54779cc885": {
      "model_module": "@jupyter-widgets/base",
      "model_module_version": "1.1.0",
      "model_name": "LayoutModel",
      "state": {}
     },
     "f2a550c968e3433a8e3ec7c774448ffc": {
      "model_module": "@jupyter-widgets/base",
      "model_module_version": "1.1.0",
      "model_name": "LayoutModel",
      "state": {}
     },
     "f472d14c691e45e1aabd9756ffd3127b": {
      "buffers": [
       {
        "data": "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",
        "encoding": "base64",
        "path": [
         "heights",
         "buffer"
        ]
       },
       {
        "data": "AADAQAAAAAAAAAAAAAAAAAAAAAAAAAAAAAAAAAAAQEAAAAAAAAAAAAAAgD8AAAAAAAAAAAAAAAAAAAAAAACAPw==",
        "encoding": "base64",
        "path": [
         "model_matrix",
         "buffer"
        ]
       }
      ],
      "model_module": "k3d",
      "model_module_version": "^3.0.0",
      "model_name": "ObjectModel",
      "state": {
       "_model_module_version": "^3.0.0",
       "_view_count": null,
       "_view_module": null,
       "_view_module_version": "",
       "_view_name": null,
       "color": 255,
       "compression_level": 0,
       "flat_shading": true,
       "heights": {
        "dtype": "float32",
        "shape": [
         60,
         30
        ]
       },
       "id": 140676062172104,
       "model_matrix": {
        "dtype": "float32",
        "shape": [
         4,
         4
        ]
       },
       "type": "Surface",
       "visible": true,
       "wireframe": false
      }
     },
     "fac4acbf8fb64d5d9cbbdc5a2323c23b": {
      "model_module": "@jupyter-widgets/output",
      "model_module_version": "1.0.0",
      "model_name": "OutputModel",
      "state": {
       "layout": "IPY_MODEL_1f19dcef0ad640b8a54b8562613dfccb",
       "outputs": [
        {
         "data": {
          "application/vnd.jupyter.widget-view+json": {
           "model_id": "cda4e686dbdc41f2bb5f910c21d4a26e",
           "version_major": 2,
           "version_minor": 0
          },
          "text/plain": "Plot(antialias=True, background_color=16777215, fps_meter=False, grid=[-1, -1, -1, 1, 1, 1], height=512, light…"
         },
         "metadata": {},
         "output_type": "display_data"
        }
       ]
      }
     }
    },
    "version_major": 2,
    "version_minor": 0
   }
  }
 },
 "nbformat": 4,
 "nbformat_minor": 2
}
